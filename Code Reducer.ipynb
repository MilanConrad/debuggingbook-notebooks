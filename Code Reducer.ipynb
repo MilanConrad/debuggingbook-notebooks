{
 "cells": [
  {
   "cell_type": "markdown",
   "metadata": {},
   "source": [
    "#### Reducing Code\n",
    "Milan Conrad, 2569325"
   ]
  },
  {
   "cell_type": "code",
   "execution_count": null,
   "metadata": {},
   "outputs": [],
   "source": [
    "import sys"
   ]
  },
  {
   "cell_type": "code",
   "execution_count": null,
   "metadata": {},
   "outputs": [],
   "source": [
    "from types import FunctionType"
   ]
  },
  {
   "cell_type": "code",
   "execution_count": null,
   "metadata": {},
   "outputs": [],
   "source": [
    "import inspect"
   ]
  },
  {
   "cell_type": "code",
   "execution_count": null,
   "metadata": {},
   "outputs": [],
   "source": [
    "import bookutils"
   ]
  },
  {
   "cell_type": "code",
   "execution_count": null,
   "metadata": {},
   "outputs": [],
   "source": [
    "from Debugger import Debugger"
   ]
  },
  {
   "cell_type": "markdown",
   "metadata": {},
   "source": [
    "#### Collecting a Call\n",
    "\n",
    "We start by creating an infrastructure that collects a call. The `CallCollector` class saves the first call observed in `_function`, `_args`, and `_exception` attributes, respectively; it then turns tracing off."
   ]
  },
  {
   "cell_type": "code",
   "execution_count": null,
   "metadata": {},
   "outputs": [],
   "source": [
    "class CallCollector(object):\n",
    "    \"\"\"Collect an exception-raising function call f().\n",
    "    Use as `with CallCollector(): f()`\"\"\"\n",
    "\n",
    "    def __init__(self):\n",
    "        \"\"\"Initialize collector\"\"\"\n",
    "        self.init()\n",
    "\n",
    "    def init(self):\n",
    "        \"\"\"Reset for new collection.\"\"\"\n",
    "        self._function = None\n",
    "        self._args = {}\n",
    "        self._exception = None\n",
    "\n",
    "    def traceit(self, frame, event, arg):\n",
    "        \"\"\"Tracing function. Collect first call, then turn tracing off.\"\"\"\n",
    "        if event == 'call':\n",
    "            name = frame.f_code.co_name\n",
    "            if name.startswith('__'):\n",
    "                # Internal function\n",
    "                return\n",
    "            if self._function is not None:\n",
    "                # Already set\n",
    "                return\n",
    "\n",
    "            if name in frame.f_globals:\n",
    "                # Access exactly this function\n",
    "                self._function = frame.f_globals[name]\n",
    "            elif name in frame.f_locals:\n",
    "                self._function = frame.f_locals[name]\n",
    "            else:\n",
    "                # Create new function from given code\n",
    "                self._function = FunctionType(frame.f_code,\n",
    "                                              globals=frame.f_globals,\n",
    "                                              name=name)\n",
    "\n",
    "            self._args = {}  # Create a local copy of args\n",
    "            for var in frame.f_locals:\n",
    "                self._args[var] = frame.f_locals[var]\n",
    "\n",
    "            # Turn tracing off\n",
    "            sys.settrace(self.original_trace_function)\n",
    "        \n",
    "    def call(self, new_args={}):\n",
    "        \"\"\"Call collected function. If new_args is given,\n",
    "        override arguments from its {var: value} entries.\"\"\"\n",
    "        args = {}  # Create local copy\n",
    "        for var in self.args():\n",
    "            args[var] = self.args()[var]\n",
    "        for var in new_args:\n",
    "            args[var] = new_args[var]\n",
    "\n",
    "        return self.function()(**args)\n",
    "    \n",
    "    def format_call(self, args=None):\n",
    "        \"\"\"Return a string representing a call of the function with given args.\"\"\"\n",
    "        if args is None:\n",
    "            args = self.args()\n",
    "        return self.function().__name__ + \"(\" + \\\n",
    "            \", \".join(f\"{arg}={repr(args[arg])}\" for arg in args) + \")\"\n",
    "\n",
    "    def format_exception(self, exc=None):\n",
    "        \"\"\"Return a string representing the given exception.\"\"\"\n",
    "        if exc is None:\n",
    "            exc = self.exception()\n",
    "        s = type(exc).__name__\n",
    "        if str(exc):\n",
    "            s += \": \" + str(exc)\n",
    "        return s\n",
    "\n",
    "    def after_collection(self):\n",
    "        \"\"\"Called after collection. To be defined in subclasses.\"\"\"\n",
    "        pass\n",
    "\n",
    "    def args(self):\n",
    "        \"\"\"Return the dictionary of collected arguments.\"\"\"\n",
    "        return self._args\n",
    "\n",
    "    def function(self):\n",
    "        \"\"\"Return the function called.\"\"\"\n",
    "        return self._function\n",
    "\n",
    "    def exception(self):\n",
    "        \"\"\"Return the exception produced.\"\"\"\n",
    "        return self._exception\n",
    "\n",
    "    def __enter__(self):\n",
    "        \"\"\"Called at begin of `with` block. Turn tracing on.\"\"\"\n",
    "        self.init()\n",
    "        self.original_trace_function = sys.gettrace()\n",
    "        sys.settrace(self.traceit)\n",
    "        return self\n",
    "\n",
    "    def __exit__(self, exc_type, exc_value, traceback):\n",
    "        \"\"\"Called at end of `with` block. Turn tracing off.\"\"\"\n",
    "        sys.settrace(self.original_trace_function)\n",
    "        if self._function is None:\n",
    "            return False  # Re-raise exception, if any\n",
    "\n",
    "        self._exception = exc_value\n",
    "        self.after_collection()\n",
    "        return True  # Ignore exception"
   ]
  },
  {
   "cell_type": "code",
   "execution_count": null,
   "metadata": {},
   "outputs": [],
   "source": [
    "def mystery(inp):\n",
    "    x = inp.find(chr(0o17 + 0o31))\n",
    "    y = inp.find(chr(0o27 + 0o22))\n",
    "    if x >= 0 and y >= 0 and x < y:\n",
    "        raise ValueError(\"Invalid input\")\n",
    "    else:\n",
    "        pass"
   ]
  },
  {
   "cell_type": "code",
   "execution_count": null,
   "metadata": {},
   "outputs": [],
   "source": [
    "failing_input = 'V\"/+!aF-(V4EOz*+s/Q,7)2@0_'\n",
    "failing_input"
   ]
  },
  {
   "cell_type": "code",
   "execution_count": null,
   "metadata": {},
   "outputs": [],
   "source": [
    "from ExpectError import ExpectError"
   ]
  },
  {
   "cell_type": "code",
   "execution_count": null,
   "metadata": {},
   "outputs": [],
   "source": [
    "with ExpectError(ValueError):\n",
    "    mystery(failing_input)"
   ]
  },
  {
   "cell_type": "code",
   "execution_count": null,
   "metadata": {},
   "outputs": [],
   "source": [
    "def generic_test(inp, fun, expected_exc=None):\n",
    "    result = None\n",
    "    detail = \"\"\n",
    "    try:\n",
    "        result = fun(inp)\n",
    "        outcome = PASS\n",
    "    except Exception as exc:\n",
    "        detail = f\" ({type(exc).__name__}: {str(exc)})\"\n",
    "        if expected_exc is None:\n",
    "            outcome = FAIL\n",
    "        elif type(exc) == type(expected_exc) and str(exc) == str(expected_exc):\n",
    "            outcome = FAIL\n",
    "        else:\n",
    "            outcome = UNRESOLVED\n",
    "\n",
    "    print(f\"{fun.__name__}({repr(inp)}): {outcome}{detail}\")\n",
    "    return outcome"
   ]
  },
  {
   "cell_type": "code",
   "execution_count": null,
   "metadata": {},
   "outputs": [],
   "source": [
    "PASS = 'PASS'\n",
    "FAIL = 'FAIL'\n",
    "UNRESOLVED = 'UNRESOLVED'"
   ]
  },
  {
   "cell_type": "code",
   "execution_count": null,
   "metadata": {},
   "outputs": [],
   "source": [
    "with CallCollector() as call_collector:\n",
    "    mystery(failing_input)"
   ]
  },
  {
   "cell_type": "code",
   "execution_count": null,
   "metadata": {},
   "outputs": [],
   "source": [
    "call_collector.function()"
   ]
  },
  {
   "cell_type": "code",
   "execution_count": null,
   "metadata": {},
   "outputs": [],
   "source": [
    "call_collector.args()"
   ]
  },
  {
   "cell_type": "code",
   "execution_count": null,
   "metadata": {},
   "outputs": [],
   "source": [
    "call_collector.exception()"
   ]
  },
  {
   "cell_type": "markdown",
   "metadata": {},
   "source": [
    "We first introduce a `CallReducer` class as an abstract superclass for all kinds of reducers.\n",
    "Its `run()` method tests the function and returns PASS, FAIL, or UNRESOLVED. As with `generic_test()`, above, we check for exception type and exact error message."
   ]
  },
  {
   "cell_type": "code",
   "execution_count": null,
   "metadata": {},
   "outputs": [],
   "source": [
    "class CallReducer(CallCollector):\n",
    "    def __init__(self, log=False):\n",
    "        \"\"\"Initialize. If log is True, enable logging.\"\"\"\n",
    "        super().__init__()\n",
    "        self.log = log\n",
    "        self.reset()\n",
    "\n",
    "    def reset(self):\n",
    "        \"\"\"Reset the number of tests.\"\"\"\n",
    "        self.tests = 0\n",
    "\n",
    "    def run(self, args):\n",
    "        \"\"\"Run collected function with args. Return\n",
    "        * PASS if no exception occurred\n",
    "        * FAIL if the collected exception occurred\n",
    "        * UNRESOLVED if some other exception occurred.\n",
    "        Not to be used directly; can be overloaded in subclasses.\n",
    "        \"\"\"\n",
    "        try:\n",
    "            result = self.call(args)\n",
    "        except Exception as exc:\n",
    "            self.last_exception = exc\n",
    "            if (type(exc) == type(self.exception()) and\n",
    "                    str(exc) == str(self.exception())):\n",
    "                return FAIL\n",
    "            else:\n",
    "                return UNRESOLVED  # Some other failure\n",
    "\n",
    "        self.last_result = result\n",
    "        return PASS"
   ]
  },
  {
   "cell_type": "code",
   "execution_count": null,
   "metadata": {},
   "outputs": [],
   "source": [
    "class CachingCallReducer(CallReducer):\n",
    "    \"\"\"Like CallReducer, but cache test outcomes.\"\"\"\n",
    "\n",
    "    def init(self):\n",
    "        super().init()\n",
    "        self._cache = {}\n",
    "\n",
    "    def test(self, args):\n",
    "        # Create a hashable index\n",
    "        try:\n",
    "            index = frozenset((k, v) for k, v in args.items())\n",
    "        except TypeError:\n",
    "            index = None\n",
    "\n",
    "        if index is None:\n",
    "            # Non-hashable value – do not use cache\n",
    "            return super().test(args)\n",
    "\n",
    "        if index in self._cache:\n",
    "            return self._cache[index]\n",
    "\n",
    "        outcome = super().test(args)\n",
    "        self._cache[index] = outcome\n",
    "\n",
    "        return outcome"
   ]
  },
  {
   "cell_type": "code",
   "execution_count": null,
   "metadata": {},
   "outputs": [],
   "source": [
    "def compile_and_run(lines):\n",
    "    exec(\"\".join(lines), {}, {})"
   ]
  },
  {
   "cell_type": "code",
   "execution_count": null,
   "metadata": {},
   "outputs": [],
   "source": [
    "import ast\n",
    "import astor\n",
    "from bookutils import show_ast\n",
    "import copy\n",
    "from Assertions import remove_html_markup\n",
    "from bookutils import print_content"
   ]
  },
  {
   "cell_type": "code",
   "execution_count": null,
   "metadata": {},
   "outputs": [],
   "source": [
    "fun_source = inspect.getsource(remove_html_markup)"
   ]
  },
  {
   "cell_type": "code",
   "execution_count": null,
   "metadata": {},
   "outputs": [],
   "source": [
    "print_content(fun_source, '.py')"
   ]
  },
  {
   "cell_type": "code",
   "execution_count": null,
   "metadata": {},
   "outputs": [],
   "source": [
    "fun_tree = ast.parse(fun_source)"
   ]
  },
  {
   "cell_type": "code",
   "execution_count": null,
   "metadata": {},
   "outputs": [],
   "source": [
    "show_ast(fun_tree)"
   ]
  },
  {
   "cell_type": "markdown",
   "metadata": {},
   "source": [
    "#### Traversing Syntax Trees\n",
    "\n",
    "Our goal is now to reduce this tree (or at least the subtree with the function definition) to a minimum. \n",
    "To this end, we manipulate the AST through the Python modules `ast` and `astor`. The [official Python `ast` reference](http://docs.python.org/3/library/ast) is complete, but a bit brief; the documentation [\"Green Tree Snakes - the missing Python AST docs\"](https://greentreesnakes.readthedocs.io/en/latest/) provides an excellent introduction."
   ]
  },
  {
   "cell_type": "markdown",
   "metadata": {},
   "source": [
    "###### The two means for exploring and changing ASTs are the classes `NodeVisitor` and `NodeTransformer`, respectively. We start with creating a list of all nodes in the tree, using a `NodeVisitor` subclass.\n",
    "\n",
    "Its `visit()` method is called for every node in the tree, which we achieve by having it return `self.generic_visit()` for the current node. It saves all visited nodes in the `_all_nodes` attribute."
   ]
  },
  {
   "cell_type": "code",
   "execution_count": null,
   "metadata": {},
   "outputs": [],
   "source": [
    "from ast import NodeTransformer, NodeVisitor, fix_missing_locations"
   ]
  },
  {
   "cell_type": "code",
   "execution_count": null,
   "metadata": {},
   "outputs": [],
   "source": [
    "class NodeCollector(NodeVisitor):\n",
    "    \"\"\"Collect all nodes in an AST.\"\"\"\n",
    "    def __init__(self):\n",
    "        super().__init__()\n",
    "        self._all_nodes = []\n",
    "\n",
    "    def generic_visit(self, node):\n",
    "        self._all_nodes.append(node) \n",
    "        #print('generic_visit of ' + str(type(node)))\n",
    "        return super().generic_visit(node)\n",
    "\n",
    "    def collect(self, tree):\n",
    "        \"\"\"Return a list of all nodes in tree.\"\"\"\n",
    "        self._all_nodes = []\n",
    "        self.visit(tree)\n",
    "        return self._all_nodes"
   ]
  },
  {
   "cell_type": "code",
   "execution_count": null,
   "metadata": {},
   "outputs": [],
   "source": [
    "fun_nodes = NodeCollector().collect(fun_tree)"
   ]
  },
  {
   "cell_type": "markdown",
   "metadata": {},
   "source": [
    "#### Deleting Nodes\n",
    "\n",
    "In our next step, we write some code that, given such a list of nodes, _prunes_ the tree such that _only_ elements in the list are still contained. To this end, we proceed in four steps:\n",
    "\n",
    "1. We traverse the original AST, _marking_ all nodes as \"to be deleted\".\n",
    "2. We traverse the given list of nodes, clearing their markers.\n",
    "3. We copy the original tree (including the markers) into a new tree – the one to be reduced.\n",
    "4. We traverse the new tree, now deleting all marked nodes."
   ]
  },
  {
   "cell_type": "markdown",
   "metadata": {},
   "source": [
    "Why do we go through such an extra effort? The reason is that our list of nodes contains references into the _original_ tree – a tree that needs to stay unchanged such that we can reuse it for later. The new tree (the copy) has the same nodes, but at different addresses, so our original references cannot be used anymore. Markers, however, just like any other attributes, are safely copied from the original into the new tree."
   ]
  },
  {
   "cell_type": "markdown",
   "metadata": {},
   "source": [
    "The `NodeMarker()` visitor marks all nodes in a tree:"
   ]
  },
  {
   "cell_type": "code",
   "execution_count": null,
   "metadata": {},
   "outputs": [],
   "source": [
    "class NodeMarker(NodeVisitor):\n",
    "    def visit(self, node):\n",
    "        node.marked = True\n",
    "        return super().generic_visit(node)\n"
   ]
  },
  {
   "cell_type": "markdown",
   "metadata": {},
   "source": [
    "The NodeReducer() transformer reduces all marked nodes. If a method visit_<node class>() is defined, it will be invoked; otherwise, visit_Node() is invoked, which deletes the node (and its subtree) by returning None. "
   ]
  },
  {
   "cell_type": "code",
   "execution_count": null,
   "metadata": {},
   "outputs": [],
   "source": [
    "class NodeReducer(NodeTransformer):\n",
    "    PASS_TREE = ast.parse(\"pass\").body[0]\n",
    "    FALSE_TREE = ast.parse(\"False\").body[0].value\n",
    "\n",
    "    \n",
    "    def __init__(self):\n",
    "        super().__init__()\n",
    "        self.left_expansion = False\n",
    "    \n",
    "    def visit(self, node):\n",
    "        method = 'visit_' + node.__class__.__name__\n",
    "        visitor = getattr(self, method, self.visit_Node)\n",
    "        return visitor(node)\n",
    "\n",
    "    def visit_Module(self, node):\n",
    "        # Can't remove modules\n",
    "        return super().generic_visit(node)\n",
    "    \n",
    "    def visit_FunctionDef(self, node):\n",
    "        # Not sure if we can remove function_def\n",
    "        return super().generic_visit(node)\n",
    "\n",
    "    def visit_Node(self, node):\n",
    "        \"\"\"Default visitor for all nodes\"\"\"\n",
    "        if node.marked:\n",
    "            return None  # delete it\n",
    "        return super().generic_visit(node)\n",
    "    \n",
    "    def visit_Assign(self, node):\n",
    "        if node.marked:\n",
    "            # Replace by pass\n",
    "            return self.PASS_TREE\n",
    "        return super().generic_visit(node)\n",
    "    \n",
    "    def visit_Compare(self, node):\n",
    "        if node.marked:\n",
    "            # Replace by False\n",
    "            return self.FALSE_TREE\n",
    "        return super().generic_visit(node)\n",
    "    \n",
    "    def visit_BoolOp(self, node):\n",
    "        print(\"Visited boolOp (not marked)\")\n",
    "        if node.marked:\n",
    "            # Replace by left operator\n",
    "            node.left_expansion = !node.left_expansion\n",
    "            print(\"Visited boolOp (marked)\")\n",
    "            if(node.left_expansion):\n",
    "                print(\"Left Expansion: \"+str(node.left_expansion))\n",
    "                if node.left_expansion:\n",
    "                    return node.values[0]\n",
    "                else:\n",
    "                    return node.values[1]\n",
    "            else:\n",
    "                return node.values[0]\n",
    "        return super().generic_visit(node)\n",
    "    \n",
    "    def visit_If(self, node):\n",
    "        if node.marked:\n",
    "            # Replace by body\n",
    "            return node.body\n",
    "        return super().generic_visit(node)"
   ]
  },
  {
   "cell_type": "markdown",
   "metadata": {},
   "source": [
    "Our function `copy_and_reduce()` puts these two pieces together: It marks all cells and delete all cells except for those in the keep list"
   ]
  },
  {
   "cell_type": "code",
   "execution_count": null,
   "metadata": {},
   "outputs": [],
   "source": [
    "def copy_and_reduce(tree, keep_list):\n",
    "    \"\"\"Copy tree, reducing all nodes that are not in keep_list.\"\"\"\n",
    "\n",
    "    # Mark all nodes except those in keep_list\n",
    "    NodeMarker().visit(tree)\n",
    "    for node in keep_list:\n",
    "        # print(\"Clearing\", node)\n",
    "        node.marked = False\n",
    "\n",
    "    # Copy tree and delete marked nodes\n",
    "    new_tree = copy.deepcopy(tree)\n",
    "    NodeReducer().visit(new_tree)\n",
    "    return new_tree"
   ]
  },
  {
   "cell_type": "markdown",
   "metadata": {},
   "source": [
    "#### Reducing Trees\n",
    "\n",
    "We can put all these steps together in a single function. `compile_and_test_ast()` takes a tree and a list of nodes, reduces the tree to those nodes in the list, and then compiles and runs the reduced AST."
   ]
  },
  {
   "cell_type": "code",
   "execution_count": null,
   "metadata": {},
   "outputs": [],
   "source": [
    "def compile_and_test_ast(tree, keep_list, test_tree=None):\n",
    "    new_tree = copy_and_reduce(tree, keep_list)\n",
    "    # print(astor.to_source(new_tree))\n",
    "\n",
    "    if test_tree is not None:\n",
    "        new_tree.body += test_tree.body\n",
    "\n",
    "    try:\n",
    "        code_object = compile(new_tree, '<string>', 'exec')\n",
    "    except Exception:\n",
    "        raise SyntaxError(\"Cannot compile\")\n",
    "\n",
    "    exec(code_object, {}, {})"
   ]
  },
  {
   "cell_type": "code",
   "execution_count": null,
   "metadata": {},
   "outputs": [],
   "source": [
    "#fun_nodes"
   ]
  },
  {
   "cell_type": "code",
   "execution_count": null,
   "metadata": {},
   "outputs": [],
   "source": [
    "astor.to_source(fun_nodes[4])"
   ]
  },
  {
   "cell_type": "code",
   "execution_count": null,
   "metadata": {},
   "outputs": [],
   "source": [
    "keep_list = fun_nodes.copy()\n",
    "del keep_list[4]\n",
    "new_fun_tree = copy_and_reduce(fun_tree, keep_list)"
   ]
  },
  {
   "cell_type": "code",
   "execution_count": null,
   "metadata": {},
   "outputs": [],
   "source": [
    "show_ast(new_fun_tree)"
   ]
  },
  {
   "cell_type": "code",
   "execution_count": null,
   "metadata": {},
   "outputs": [],
   "source": [
    "test_source = (\n",
    "    '''if remove_html_markup('<foo>bar</foo>') != 'bar':\\n''' +\n",
    "    '''    raise RuntimeError(\"Missing functionality\")\\n''' +\n",
    "    '''assert remove_html_markup('\"foo\"') == '\"foo\"', \"My Test\"''')"
   ]
  },
  {
   "cell_type": "code",
   "execution_count": null,
   "metadata": {},
   "outputs": [],
   "source": [
    "test_tree = ast.parse(test_source)"
   ]
  },
  {
   "cell_type": "code",
   "execution_count": null,
   "metadata": {},
   "outputs": [],
   "source": [
    "#show_ast(test_tree)"
   ]
  },
  {
   "cell_type": "code",
   "execution_count": null,
   "metadata": {},
   "outputs": [],
   "source": [
    "print_content(astor.to_source(test_tree), '.py')"
   ]
  },
  {
   "cell_type": "markdown",
   "metadata": {},
   "source": [
    "## Parsers"
   ]
  },
  {
   "cell_type": "code",
   "execution_count": null,
   "metadata": {},
   "outputs": [],
   "source": [
    "class ParserException(Exception):\n",
    "    pass"
   ]
  },
  {
   "cell_type": "code",
   "execution_count": null,
   "metadata": {},
   "outputs": [],
   "source": [
    "class Parser(ast.NodeVisitor):\n",
    "    \"\"\"The base class for a parser\"\"\"\n",
    "    def parse_tree(self, tree):\n",
    "        self.visit(tree)\n",
    "\n",
    "    def parse(self, source):\n",
    "        tree = ast.parse(source=source)\n",
    "        self.parse_tree(tree)\n",
    "        return \"The input was successfully parsed.\""
   ]
  },
  {
   "cell_type": "code",
   "execution_count": null,
   "metadata": {},
   "outputs": [],
   "source": [
    "class Parser1(Parser):\n",
    "    \"\"\"\n",
    "    Contains boolean operation\n",
    "    \"\"\"    \n",
    "    def visit_BoolOp(self, node):\n",
    "        raise ParserException(f\"Something went wrong\")"
   ]
  },
  {
   "cell_type": "code",
   "execution_count": null,
   "metadata": {},
   "outputs": [],
   "source": [
    "class Parser2(Parser):\n",
    "    \"\"\"\n",
    "    Fails if an input program contains `if` statement\n",
    "    \"\"\"\n",
    "    def visit_If(self, node):\n",
    "        raise ParserException(f\"Something went wrong\")"
   ]
  },
  {
   "cell_type": "code",
   "execution_count": null,
   "metadata": {},
   "outputs": [],
   "source": [
    "class Parser3(Parser):\n",
    "    \"\"\"\n",
    "    Fails if an input program contains a special unicode character\n",
    "    \"\"\"\n",
    "    def __init__(self) -> None:\n",
    "        self.assignment = False\n",
    "        self.steps = 0\n",
    "\n",
    "    def check_unicode(self, string):\n",
    "        return string == u'\\u0426'\n",
    "\n",
    "    def generic_visit(self, node):\n",
    "        self.steps += 1\n",
    "        super().generic_visit(node)\n",
    "\n",
    "    def visit_Assign(self, node):\n",
    "        self.assignment = True\n",
    "        self.steps = 0\n",
    "        self.generic_visit(node)\n",
    "\n",
    "    def visit_Str(self, node):\n",
    "        if self.assignment and self.steps == 3:\n",
    "            if self.check_unicode(node.s):\n",
    "                raise ParserException(f\"Something went wrong\")"
   ]
  },
  {
   "cell_type": "code",
   "execution_count": null,
   "metadata": {},
   "outputs": [],
   "source": [
    "class Parser4(Parser):\n",
    "    \"\"\"\n",
    "    Fails if an input program contains a variable which is not defined\n",
    "    \"\"\"\n",
    "    def __init__(self) -> None:\n",
    "        self.assignment = False\n",
    "        self.steps = 0\n",
    "        self.variables = set()\n",
    "\n",
    "    def generic_visit(self, node):\n",
    "        self.steps += 1\n",
    "        super().generic_visit(node)\n",
    "\n",
    "    def visit_Name(self, node):\n",
    "        if self.assignment and self.steps == 1:\n",
    "            self.variables.add(node.id)\n",
    "            self.assignment = False\n",
    "            self.generic_visit(node)\n",
    "        elif node.id in self.variables:\n",
    "            self.generic_visit(node)\n",
    "        else:\n",
    "            raise ParserException(f\"Something went wrong\")\n",
    "\n",
    "    def visit_Assign(self, node):\n",
    "        self.assignment = True\n",
    "        self.steps = 0\n",
    "        self.generic_visit(node)"
   ]
  },
  {
   "cell_type": "code",
   "execution_count": null,
   "metadata": {},
   "outputs": [],
   "source": [
    "class Parser5(Parser):\n",
    "    \"\"\"\n",
    "    Fails if an input program contains a list\n",
    "    \"\"\"\n",
    "\n",
    "    def visit_List(self, node):\n",
    "        raise ParserException(f\"Something went wrong\")"
   ]
  },
  {
   "cell_type": "markdown",
   "metadata": {},
   "source": [
    "## Tests"
   ]
  },
  {
   "cell_type": "code",
   "execution_count": null,
   "metadata": {},
   "outputs": [],
   "source": [
    "class Test1:\n",
    "    parser = Parser1()\n",
    "\n",
    "    def get_original(self):\n",
    "        return '''\n",
    "def original():\n",
    "    a = True\n",
    "    b = not False\n",
    "    c = 30\n",
    "    for i in range(c):\n",
    "        if i == 15:\n",
    "            if a and b:\n",
    "                return 1\n",
    "    return 0\n",
    "'''\n",
    "\n",
    "    def get_minimized(self):\n",
    "        return '''\n",
    "True and True'''"
   ]
  },
  {
   "cell_type": "code",
   "execution_count": null,
   "metadata": {},
   "outputs": [],
   "source": [
    "class Test2:\n",
    "    parser = Parser2()\n",
    "    def get_original(self):\n",
    "        return '''\n",
    "def original():\n",
    "    a = True\n",
    "    b = not False\n",
    "    c = 30\n",
    "    for i in range(c):\n",
    "        if i == 15:\n",
    "            if a and b:\n",
    "                return 1\n",
    "    return 0\n",
    "    '''\n",
    "\n",
    "    def get_minimized(self):\n",
    "        return '''\n",
    "if True:\n",
    "    return\n",
    "'''"
   ]
  },
  {
   "cell_type": "code",
   "execution_count": null,
   "metadata": {},
   "outputs": [],
   "source": [
    "class Test3:\n",
    "    parser = Parser3()\n",
    "    def get_original(self):\n",
    "        return '''\n",
    "def original():\n",
    "    a = 1\n",
    "    b = a\n",
    "    c = a - b\n",
    "    if c < a:\n",
    "        d = ''\n",
    "        while a == b:\n",
    "            d = u'\\u0426'\n",
    "            a += 1\n",
    "        return d\n",
    "    return ''\n",
    "'''\n",
    "\n",
    "    def get_minimized(self):\n",
    "        return '''\n",
    "d = u'\\u0426'\n",
    "'''"
   ]
  },
  {
   "cell_type": "code",
   "execution_count": null,
   "metadata": {},
   "outputs": [],
   "source": [
    "class Test4:\n",
    "    parser = Parser4()\n",
    "    def get_original(self):\n",
    "        return '''\n",
    "def original():\n",
    "    a = 1\n",
    "    b = a\n",
    "    c = a - b\n",
    "    if c < a:\n",
    "        while a == b:\n",
    "            a += 1\n",
    "        return d\n",
    "    return ''\n",
    "'''\n",
    "\n",
    "    def get_minimized(self):\n",
    "        return '''\n",
    "d\n",
    "'''"
   ]
  },
  {
   "cell_type": "code",
   "execution_count": null,
   "metadata": {},
   "outputs": [],
   "source": [
    "class Test5:\n",
    "    parser = Parser5()\n",
    "\n",
    "    def get_original(self):\n",
    "        return '''\n",
    "def original():\n",
    "    a = 1\n",
    "    b = 0\n",
    "    while True:\n",
    "        if a < b:\n",
    "            return [1, 2, 3]\n",
    "        else:\n",
    "            return []\n",
    "'''\n",
    "\n",
    "    def get_minimized(self):\n",
    "        return '''\n",
    "[]\n",
    "'''"
   ]
  },
  {
   "cell_type": "markdown",
   "metadata": {},
   "source": [
    "## Testing Framework"
   ]
  },
  {
   "cell_type": "code",
   "execution_count": null,
   "metadata": {},
   "outputs": [],
   "source": [
    "class NodeCounter(ast.NodeVisitor):\n",
    "    \"\"\"\n",
    "    This node counter is used to assess the amount of reductions performed by your reducer. It counts the number of nodes in the AST\n",
    "    \"\"\"\n",
    "\n",
    "    def __init__(self) -> None:\n",
    "        self.num_nodes = 0\n",
    "\n",
    "    def visit(self, node):\n",
    "        self.num_nodes += 1\n",
    "        self.generic_visit(node)\n",
    "\n",
    "    def count(self, source):\n",
    "        tree = ast.parse(source=source)\n",
    "        self.visit(tree)\n",
    "        return self.num_nodes"
   ]
  },
  {
   "cell_type": "code",
   "execution_count": null,
   "metadata": {},
   "outputs": [],
   "source": [
    "class TestingFramework:\n",
    "    THRESHOLD = 3\n",
    "    test_cases = {\n",
    "        'test1': Test1(),\n",
    "        'test2': Test2(),\n",
    "        'test3': Test3(),\n",
    "        'test4': Test4(),\n",
    "        'test5': Test5()\n",
    "    }\n",
    "    def __init__(self, reducer):\n",
    "        self.reducer = reducer\n",
    "\n",
    "    def count_nodes(self, source):\n",
    "        if source is None:\n",
    "            return 100000\n",
    "        return NodeCounter().count(source)\n",
    "\n",
    "    def run_test(self, test):\n",
    "        \"\"\"\n",
    "        run a single test\n",
    "        \"\"\"\n",
    "        print(f'Running test {test.__class__.__name__}')\n",
    "        reducer = self.reducer(test.parser)\n",
    "        reduced_code = reducer.minimize(test.get_original())\n",
    "        return self.has_property(reduced_code, test.parser) and self.is_minimized(reduced_code, test.get_minimized())\n",
    "\n",
    "    def run_tests(self):\n",
    "        \"\"\"\n",
    "        run all public tests\n",
    "        \"\"\"\n",
    "        passed_tests = 0\n",
    "        for test in self.test_cases.values():\n",
    "            success = self.run_test(test)\n",
    "            if success:\n",
    "               passed_tests += 1\n",
    "        print(f\"In total {passed_tests} tests passed\")\n",
    "\n",
    "    def has_property(self, source, parser):\n",
    "        \"\"\"returns True if the parser fails to parse the source\"\"\"\n",
    "        try:\n",
    "            parser.parse(source)\n",
    "            print(f'HAS PROPERTY: FAIL')\n",
    "            return False\n",
    "        except ParserException:\n",
    "            print(f'HAS PROPERTY: OK')\n",
    "            return True\n",
    "        except Exception as e:\n",
    "            print(f'HAS PROPERTY: FAIL {e}')\n",
    "            return False\n",
    "\n",
    "    def is_minimized(self, reduced, reference):\n",
    "        \"\"\"returns True if the AST of the reduced code contains no more then the number of nodes in the reference + a THRESHOLD\"\"\"\n",
    "        count_minimized = self.count_nodes(reduced)\n",
    "        count_reference = self.count_nodes(reference)\n",
    "        if count_minimized <= count_reference + self.THRESHOLD:\n",
    "            print(f'IS MINIMIZED: OK')\n",
    "            return True\n",
    "        else:\n",
    "            print(f'IS MINIMIZED: FAIL')\n",
    "            return False"
   ]
  },
  {
   "cell_type": "markdown",
   "metadata": {},
   "source": [
    "### Delta Debuggin Algorithm"
   ]
  },
  {
   "cell_type": "code",
   "execution_count": null,
   "metadata": {},
   "outputs": [],
   "source": [
    "def ddmin(test, inp, *test_args):\n",
    "    \"\"\"Reduce the input inp, using the outcome of test(fun, inp).\"\"\"\n",
    "    assert test(inp, *test_args) != PASS\n",
    "\n",
    "    n = 2     # Initial granularity\n",
    "    while len(inp) >= 2:\n",
    "        start = 0\n",
    "        subset_length = len(inp) / n\n",
    "        some_complement_is_failing = False\n",
    "\n",
    "        while start < len(inp):\n",
    "            complement = inp[:int(start)] + \\\n",
    "                inp[int(start + subset_length):]\n",
    "\n",
    "            if test(complement, *test_args) == FAIL:\n",
    "                inp = complement\n",
    "                n = max(n - 1, 2)\n",
    "                some_complement_is_failing = True\n",
    "                break\n",
    "\n",
    "            start += subset_length\n",
    "\n",
    "        if not some_complement_is_failing:\n",
    "            if n == len(inp):\n",
    "                break\n",
    "            n = min(n * 2, len(inp))\n",
    "\n",
    "    return inp"
   ]
  },
  {
   "cell_type": "markdown",
   "metadata": {},
   "source": [
    "To see how `ddmin()` works, let us run it on our failing input. We need to define a `test` function that returns PASS or FAIL, depending on the test outcome. This `generic_test()` assumes that the function fails if it raises an exception (such as an `AssertException`), and passes otherwise. The optional argument `expected_exc` specifies the name of exception to be checked for; this ensures we reduce only for the kind of error raised in the original failure."
   ]
  },
  {
   "cell_type": "code",
   "execution_count": null,
   "metadata": {},
   "outputs": [],
   "source": [
    "def generic_test(inp, fun, expected_exc=None):\n",
    "    result = None\n",
    "    detail = \"\"\n",
    "    try:\n",
    "        result = fun(inp)\n",
    "        outcome = PASS\n",
    "    except Exception as exc:\n",
    "        detail = f\" ({type(exc).__name__}: {str(exc)})\"\n",
    "        if expected_exc is None:\n",
    "            outcome = FAIL\n",
    "        elif type(exc) == type(expected_exc) and str(exc) == str(expected_exc):\n",
    "            outcome = FAIL\n",
    "        else:\n",
    "            outcome = UNRESOLVED\n",
    "\n",
    "    print(f\"{fun.__name__}({repr(inp)}): {outcome}{detail}\")\n",
    "    return outcome"
   ]
  },
  {
   "cell_type": "markdown",
   "metadata": {},
   "source": [
    "# Begin of my Code\n",
    "Implementing the HDD Approach, which is shown in a Paper of the Background Section"
   ]
  },
  {
   "cell_type": "code",
   "execution_count": null,
   "metadata": {},
   "outputs": [],
   "source": [
    "class MyHDDDebugger(CachingCallReducer):\n",
    "    def __init__(self, parser):\n",
    "        \"\"\"\n",
    "        We initialize the DebuggingReducer with a parser, as this is needed to verify whether the failure is still triggered after the code transformation\n",
    "        \"\"\"\n",
    "        self.parser = parser\n",
    "        self.node_reducer = NodeReducer()\n",
    "        self.node_marker = NodeMarker()\n",
    "        self.node_collector = NodeCollector()\n",
    "        \n",
    "    def compute_transformations(self,tree):\n",
    "        \"\"\"\n",
    "        Realizes Deletion Template of Algorithm 1\n",
    "        \"\"\"\n",
    "        # Find current candidates to which shall be substituted\n",
    "        candidates = list()\n",
    "        for child in ast.iter_child_nodes(tree):\n",
    "            for subchild in ast.iter_child_nodes(child):\n",
    "                candidates.append(subchild)\n",
    "        return candidates\n",
    "    \n",
    "    def generalized_tree_reduction(self,tree,oracle,templates):\n",
    "        \"\"\"\n",
    "        GTR Algorithm, Algorithm 2\n",
    "        \"\"\"\n",
    "        for template in templates:\n",
    "            self.apply_template(tree, oracle, template)\n",
    "        \n",
    "        return tree\n",
    "        \n",
    "    \n",
    "    def apply_template(self,tree, oracle, template):\n",
    "        \"\"\"\n",
    "        Part of Algorithm 2\n",
    "        \"\"\"\n",
    "        \n",
    "        #TODO: call algorithm 3\n",
    "        return tree\n",
    "    \n",
    "    def reduce_level_nodes(self, level_nodes, oracle, templates):\n",
    "        \"\"\"\n",
    "        Algorithm 3\n",
    "        \"\"\"\n",
    "        pass\n",
    "    \n",
    "    def get_tree_depth(self,tree):\n",
    "        current_depth = 0\n",
    "        return current_depth\n",
    "    \n",
    "    def get_tree_size(self,tree):\n",
    "        \"\"\"\n",
    "        In the notion of the GTR Paper, the size of a tree is the number of its nodes\n",
    "        \"\"\"\n",
    "        nodes = self.node_collector.collect(tree)\n",
    "        num_nodes = len(nodes)\n",
    "        return num_nodes\n",
    "    \n",
    "    def GTR_rec(self, tree, oracle, templates):\n",
    "        \"\"\"\n",
    "        Recursive Application of Generalized Tree Reduction (GTR) Algorithm, Algorithm 4\n",
    "        \"\"\"\n",
    "        initial_transformations = compute_transformations(tree)\n",
    "        self.node_collector.collect(code_ast)\n",
    "        \n",
    "        current_tree = tree.copy()\n",
    "        current_tree_size = self.get_tree_size(current_tree)\n",
    "        \n",
    "        next_tree = self.generalized_tree_reduction(tree, generic_test, initial_transformations)\n",
    "        next_tree_size = self.get_tree_size(next_tree)\n",
    "        \n",
    "        while(current_tree_size != next_tree_size):\n",
    "            current_tree = next_tree\n",
    "            next_tree = self.compute_transformations(current_tree)\n",
    "        \n",
    "        return next_tree\n",
    "            \n",
    "    \n",
    "    def copy_and_reduce(self, tree, keep_list):\n",
    "        \"\"\"Copy tree, reducing all nodes that are not in keep_list.\"\"\"\n",
    "\n",
    "        # Mark all nodes except those in keep_list\n",
    "        self.node_marker.visit(tree)\n",
    "        for node in keep_list:\n",
    "            # print(\"Clearing\", node)\n",
    "            node.marked = False\n",
    "\n",
    "        # Copy tree and delete marked nodes\n",
    "        new_tree = copy.deepcopy(tree)\n",
    "        self.node_reducer.visit(new_tree)\n",
    "        ast.fix_missing_locations(new_tree)\n",
    "        return new_tree\n",
    "    \n",
    "    def minimize(self, code):\n",
    "        \"\"\"\n",
    "        This function takes some Python code as string, reduces it using the NodeReducer defined earlier and returns the reduced program.\n",
    "        \"\"\"\n",
    "        # Parse the code to a tree\n",
    "        code_ast = ast.parse(source=code)\n",
    "                \n",
    "        show_ast(code_ast)\n",
    "        \n",
    "        #Collect all nodes in our current tree\n",
    "        fun_nodes = self.node_collector.collect(code_ast)\n",
    "        \n",
    "        #Test the substitution of each candidate by creating the matching keep lists\n",
    "        keep_list = fun_nodes\n",
    "        \n",
    "        candidate_keep_lists = list()\n",
    "        print('\\nCandidates to substitute: ')\n",
    "        \n",
    "        candidates = self.compute_transformations(code_ast)\n",
    "        \n",
    "        for candidate in candidates:\n",
    "            print(candidate)\n",
    "            current_keep_list = keep_list.copy()\n",
    "            current_keep_list.remove(candidate)\n",
    "            candidate_keep_lists.append(current_keep_list)\n",
    "            \n",
    "        #TODO: Create right Keep-List\n",
    "        for keeper in candidate_keep_lists:\n",
    "            print(\"############\")\n",
    "            for node in keeper:\n",
    "                print(node)\n",
    "\n",
    "        # Use the copy and reduce method to apply one minimization step\n",
    "        new_code_ast = self.copy_and_reduce(code_ast, keep_list);\n",
    "\n",
    "        # Generate code from the reduced tree\n",
    "        new_code = astor.to_source(new_code_ast)\n",
    "\n",
    "        # Test, whether the error is still triggered by the reduced code\n",
    "        try:\n",
    "            self.parser.parse(new_code)\n",
    "            # No exception is thrown. This means the new_code does not \n",
    "            # trigger an error anymore. Therefore, we failed in\n",
    "            # reduction and return the initial code.\n",
    "            return code\n",
    "        except ParserException:\n",
    "            # The error is still triggered. Return the reduced code\n",
    "            return new_code\n"
   ]
  },
  {
   "cell_type": "code",
   "execution_count": null,
   "metadata": {},
   "outputs": [],
   "source": [
    "tf = TestingFramework(MyHDDDebugger)\n",
    "tf.run_tests()"
   ]
  }
 ],
 "metadata": {
  "kernelspec": {
   "display_name": "PyCharm (debuggingbook-notebooks)",
   "language": "python",
   "name": "pycharm-583f12aa"
  },
  "language_info": {
   "codemirror_mode": {
    "name": "ipython",
    "version": 3
   },
   "file_extension": ".py",
   "mimetype": "text/x-python",
   "name": "python",
   "nbconvert_exporter": "python",
   "pygments_lexer": "ipython3",
   "version": "3.8.5"
  }
 },
 "nbformat": 4,
 "nbformat_minor": 4
}