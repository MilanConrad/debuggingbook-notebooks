{
 "cells": [
  {
   "cell_type": "markdown",
   "metadata": {
    "button": false,
    "new_sheet": false,
    "run_control": {
     "read_only": false
    },
    "slideshow": {
     "slide_type": "slide"
    }
   },
   "source": [
    "# Repairing Code Automatically\n",
    "\n",
    "So far, we have discussed how to track failures and how to locate defects in code. Let us now discuss how to _repair_ defects – that is, to correct the code such that the failure no longer occurs. We will discuss how to _repair code automatically_ – by systematically searching through possible fixes and evolving the most promising candidates."
   ]
  },
  {
   "cell_type": "code",
   "execution_count": 1,
   "metadata": {
    "slideshow": {
     "slide_type": "skip"
    }
   },
   "outputs": [
    {
     "data": {
      "text/html": [
       "\n",
       "        <iframe\n",
       "            width=\"640\"\n",
       "            height=\"360\"\n",
       "            src=\"https://www.youtube-nocookie.com/embed/UJTf7cW0idI\"\n",
       "            frameborder=\"0\"\n",
       "            allowfullscreen\n",
       "        ></iframe>\n",
       "        "
      ],
      "text/plain": [
       "<IPython.lib.display.IFrame at 0x7f4c540ff2e0>"
      ]
     },
     "execution_count": 1,
     "metadata": {},
     "output_type": "execute_result"
    }
   ],
   "source": [
    "from bookutils import YouTubeVideo\n",
    "\n",
    "import asyncio\n",
    "import time\n",
    "import types\n",
    "import functools\n",
    "import astunparse\n",
    "\n",
    "from concurrent.futures import ProcessPoolExecutor, ThreadPoolExecutor\n",
    "from multiprocessing import Pool,Queue,Process,Value, Pipe\n",
    "\n",
    "YouTubeVideo(\"UJTf7cW0idI\")"
   ]
  },
  {
   "cell_type": "markdown",
   "metadata": {
    "button": false,
    "new_sheet": false,
    "run_control": {
     "read_only": false
    },
    "slideshow": {
     "slide_type": "subslide"
    }
   },
   "source": [
    "**Prerequisites**\n",
    "\n",
    "* Re-read the [introduction to debugging](Intro_Debugging.ipynb), notably on how to properly fix code.\n",
    "* We make use of automatic fault localization, as discussed in the [chapter on statistical debugging](StatisticalDebugger.ipynb).\n",
    "* We make extensive use of code transformations, as discussed in [the chapter on tracing executions](Tracer.ipynb).\n",
    "* We make use of [delta debugging](DeltaDebugger.ipynb)."
   ]
  },
  {
   "cell_type": "code",
   "execution_count": 2,
   "metadata": {
    "button": false,
    "new_sheet": false,
    "run_control": {
     "read_only": false
    },
    "slideshow": {
     "slide_type": "skip"
    }
   },
   "outputs": [],
   "source": [
    "import bookutils"
   ]
  },
  {
   "cell_type": "markdown",
   "metadata": {
    "slideshow": {
     "slide_type": "skip"
    }
   },
   "source": [
    "## Synopsis\n",
    "<!-- Automatically generated. Do not edit. -->\n",
    "\n",
    "To [use the code provided in this chapter](Importing.ipynb), write\n",
    "\n",
    "```python\n",
    ">>> from debuggingbook.Repairer import <identifier>\n",
    "```\n",
    "\n",
    "and then make use of the following features.\n",
    "\n",
    "\n",
    "This chapter provides tools and techniques for automated repair of program code. The `Repairer()` class takes a `DifferenceDebugger` debugger as input (such as `OchiaiDebugger` from [the chapter on statistical debugging](StatisticalDebugger.ipynb). A typical setup looks like this:\n",
    "\n",
    "```python\n",
    "from debuggingbook.StatisticalDebugger import OchiaiDebugger\n",
    "\n",
    "debugger = OchiaiDebugger()\n",
    "for inputs in TESTCASES:\n",
    "    with debugger:\n",
    "        test_foo(inputs)\n",
    "...\n",
    "\n",
    "repairer = Repairer(debugger)\n",
    "```\n",
    "Here, `test_foo()` is a function that raises an exception if the tested function `foo()` fails. If `foo()` passes, `test_foo()` should not raise an exception.\n",
    "\n",
    "The `repair()` method of a `Repairer` searches for a repair of the code covered in the debugger (except for methods starting or ending in `test`, such that `foo()`, not `test_foo()` is repaired). `repair()` returns the best fix candidate as a pair `(tree, fitness)` where `tree` is a [Python abstract syntax tree](http://docs.python.org/3/library/ast) (AST) of the fix candidate, and `fitness` is the fitness of the candidate (a value between 0 and 1). A `fitness` of 1.0 means that the candidate passed all tests. A typical usage looks like this:\n",
    "\n",
    "```python\n",
    "import astor\n",
    "\n",
    "tree, fitness = repairer.repair()\n",
    "print(astor.to_source(tree), fitness)\n",
    "```\n",
    "\n",
    "Here is a complete example for the `middle()` program. This is the original source code of `middle()`:\n",
    "\n",
    "```python\n",
    "def middle(x, y, z):\n",
    "    if y < z:\n",
    "        if x < y:\n",
    "            return y\n",
    "        elif x < z:\n",
    "            return y\n",
    "    else:\n",
    "        if x > y:\n",
    "            return y\n",
    "        elif x > z:\n",
    "            return x\n",
    "    return z```\n",
    "We set up a function `middle_test()` that tests it. The `middle_debugger`  collects testcases and outcomes:\n",
    "\n",
    "```python\n",
    ">>> middle_debugger = OchiaiDebugger()\n",
    "\n",
    ">>> for x, y, z in MIDDLE_PASSING_TESTCASES + MIDDLE_FAILING_TESTCASES:\n",
    ">>>     with middle_debugger:\n",
    ">>>         m = middle_test(x, y, z)\n",
    "```\n",
    "The repairer attempts to repair the invoked function (`middle()`). The returned AST `tree` can be output via `astor.to_source()`:\n",
    "\n",
    "```python\n",
    ">>> middle_repairer = Repairer(middle_debugger)\n",
    ">>> tree, fitness = middle_repairer.repair()\n",
    ">>> print(astor.to_source(tree), fitness)\n",
    "\n",
    "def middle(x, y, z):\n",
    "    if y < z:\n",
    "        if x < y:\n",
    "            return y\n",
    "        elif x < z:\n",
    "            return x\n",
    "    elif x > y:\n",
    "        return y\n",
    "    elif x > z:\n",
    "        return x\n",
    "    return z\n",
    " 1.0\n",
    "```\n",
    "Here are the classes defined in this chapter. A `Repairer` repairs a program, using a `StatementMutator` and a `CrossoverOperator` to evolve a population of candidates.\n",
    "\n",
    "\n",
    "![](PICS/Repairer-synopsis-1.svg)\n",
    "\n"
   ]
  },
  {
   "cell_type": "markdown",
   "metadata": {
    "button": false,
    "new_sheet": true,
    "run_control": {
     "read_only": false
    },
    "slideshow": {
     "slide_type": "slide"
    }
   },
   "source": [
    "## Automatic Code Repairs\n",
    "\n",
    "So far, we have discussed how to locate defects in code, how to track failures back to the defects that caused them, and how to systematically determine failure conditions. Let us now address the last step in debugging – namely, how to _automatically fix code_.\n",
    "\n",
    "Already in the [introduction to debugging](Intro_Debugging.ipynb), we have discussed how to fix code manually. Notably, we have established that a _diagnosis_ (which induces a fix) should show _causality_ (i.e, how the defect causes the failure) and _incorrectness_ (how the defect is wrong). Is it possible to obtain such a diagnosis automatically?"
   ]
  },
  {
   "cell_type": "markdown",
   "metadata": {
    "button": false,
    "new_sheet": false,
    "run_control": {
     "read_only": false
    },
    "slideshow": {
     "slide_type": "subslide"
    }
   },
   "source": [
    "In this chapter, we introduce a technique of _automatic code repair_ – that is, for a given failure, automatically determine a fix that makes the failure go away. To do so, we randomly (but systematically) _mutate_ the program code – that is, insert, change, and delete fragments – until we find a change that actually causes the failing test to pass."
   ]
  },
  {
   "cell_type": "markdown",
   "metadata": {
    "button": false,
    "new_sheet": false,
    "run_control": {
     "read_only": false
    },
    "slideshow": {
     "slide_type": "fragment"
    }
   },
   "source": [
    "If this sounds like an audacious idea, that is because it is. But not only is _automated program repair_ one of the hottest topics of software research in the last decade, it is also being increasingly deployed in industry. At Facebook, for instance, every failing test report comes with an automatically generated _repair suggestion_ – a suggestion that already has been validated to work. Programmers can apply the suggestion as is or use it as basis for their own fixes."
   ]
  },
  {
   "cell_type": "markdown",
   "metadata": {
    "slideshow": {
     "slide_type": "subslide"
    }
   },
   "source": [
    "### The middle() Function"
   ]
  },
  {
   "cell_type": "markdown",
   "metadata": {
    "slideshow": {
     "slide_type": "fragment"
    }
   },
   "source": [
    "Let us introduce our ongoing example. In the [chapter on statistical debugging](StatisticalDebugger.ipynb), we have introduced the `middle()` function – a function that returns the \"middle\" of three numbers `x`, `y`, and `z`:"
   ]
  },
  {
   "cell_type": "code",
   "execution_count": 3,
   "metadata": {
    "slideshow": {
     "slide_type": "skip"
    }
   },
   "outputs": [],
   "source": [
    "from StatisticalDebugger import middle"
   ]
  },
  {
   "cell_type": "code",
   "execution_count": 4,
   "metadata": {
    "slideshow": {
     "slide_type": "fragment"
    }
   },
   "outputs": [],
   "source": [
    "# ignore\n",
    "from bookutils import print_content"
   ]
  },
  {
   "cell_type": "code",
   "execution_count": 5,
   "metadata": {
    "slideshow": {
     "slide_type": "fragment"
    }
   },
   "outputs": [],
   "source": [
    "# ignore\n",
    "import inspect"
   ]
  },
  {
   "cell_type": "code",
   "execution_count": 6,
   "metadata": {
    "slideshow": {
     "slide_type": "subslide"
    }
   },
   "outputs": [
    {
     "name": "stdout",
     "output_type": "stream",
     "text": [
      "603  \u001b[34mdef\u001b[39;49;00m \u001b[32mmiddle\u001b[39;49;00m(x, y, z):\n",
      "604      \u001b[34mif\u001b[39;49;00m y < z:\n",
      "605          \u001b[34mif\u001b[39;49;00m x < y:\n",
      "606              \u001b[34mreturn\u001b[39;49;00m y\n",
      "607          \u001b[34melif\u001b[39;49;00m x < z:\n",
      "608              \u001b[34mreturn\u001b[39;49;00m y\n",
      "609      \u001b[34melse\u001b[39;49;00m:\n",
      "610          \u001b[34mif\u001b[39;49;00m x > y:\n",
      "611              \u001b[34mreturn\u001b[39;49;00m y\n",
      "612          \u001b[34melif\u001b[39;49;00m x > z:\n",
      "613              \u001b[34mreturn\u001b[39;49;00m x\n",
      "614      \u001b[34mreturn\u001b[39;49;00m z"
     ]
    }
   ],
   "source": [
    "# ignore\n",
    "_, first_lineno = inspect.getsourcelines(middle)\n",
    "middle_source = inspect.getsource(middle)\n",
    "print_content(middle_source, '.py', start_line_number=first_lineno)"
   ]
  },
  {
   "cell_type": "markdown",
   "metadata": {
    "slideshow": {
     "slide_type": "subslide"
    }
   },
   "source": [
    "In most cases, `middle()` just runs fine:"
   ]
  },
  {
   "cell_type": "code",
   "execution_count": 7,
   "metadata": {
    "slideshow": {
     "slide_type": "fragment"
    }
   },
   "outputs": [
    {
     "data": {
      "text/plain": [
       "5"
      ]
     },
     "execution_count": 7,
     "metadata": {},
     "output_type": "execute_result"
    }
   ],
   "source": [
    "middle(4, 5, 6)"
   ]
  },
  {
   "cell_type": "markdown",
   "metadata": {
    "slideshow": {
     "slide_type": "fragment"
    }
   },
   "source": [
    "In some other cases, though, it does not work correctly:"
   ]
  },
  {
   "cell_type": "code",
   "execution_count": 8,
   "metadata": {
    "slideshow": {
     "slide_type": "fragment"
    }
   },
   "outputs": [
    {
     "data": {
      "text/plain": [
       "1"
      ]
     },
     "execution_count": 8,
     "metadata": {},
     "output_type": "execute_result"
    }
   ],
   "source": [
    "middle(2, 1, 3)"
   ]
  },
  {
   "cell_type": "markdown",
   "metadata": {
    "slideshow": {
     "slide_type": "subslide"
    }
   },
   "source": [
    "### Validated Repairs"
   ]
  },
  {
   "cell_type": "markdown",
   "metadata": {
    "slideshow": {
     "slide_type": "fragment"
    }
   },
   "source": [
    "Now, if we only want a repair that fixes this one given failure, this would be very easy. All we have to do is to replace the entire body by a single statement:"
   ]
  },
  {
   "cell_type": "code",
   "execution_count": 9,
   "metadata": {
    "slideshow": {
     "slide_type": "fragment"
    }
   },
   "outputs": [],
   "source": [
    "def middle_sort_of_fixed(x, y, z):\n",
    "    return x"
   ]
  },
  {
   "cell_type": "markdown",
   "metadata": {
    "slideshow": {
     "slide_type": "fragment"
    }
   },
   "source": [
    "You will concur that the failure no longer occurs:"
   ]
  },
  {
   "cell_type": "code",
   "execution_count": 10,
   "metadata": {
    "slideshow": {
     "slide_type": "fragment"
    }
   },
   "outputs": [
    {
     "data": {
      "text/plain": [
       "2"
      ]
     },
     "execution_count": 10,
     "metadata": {},
     "output_type": "execute_result"
    }
   ],
   "source": [
    "middle_sort_of_fixed(2, 1, 3)"
   ]
  },
  {
   "cell_type": "markdown",
   "metadata": {
    "slideshow": {
     "slide_type": "fragment"
    }
   },
   "source": [
    "But this, of course, is not the aim of automatic fixes, nor of fixes in general: We want our fixes not only to make the given failure go away, but we also want the resulting code to be _correct_ (which, of course, is a lot harder)."
   ]
  },
  {
   "cell_type": "markdown",
   "metadata": {
    "slideshow": {
     "slide_type": "subslide"
    }
   },
   "source": [
    "Automatic repair techniques therefore assume the existence of a _test suite_ that can check whether an implementation satisfies its requirements. Better yet, one can use the test suite to gradually check _how close_ one is to perfection: A piece of code that satisfies 99% of all tests is better than one that satisfies ~33% of all tests, as `middle_sort_of_fixed()` would do."
   ]
  },
  {
   "cell_type": "markdown",
   "metadata": {
    "slideshow": {
     "slide_type": "subslide"
    }
   },
   "source": [
    "### Genetic Optimization"
   ]
  },
  {
   "cell_type": "markdown",
   "metadata": {
    "slideshow": {
     "slide_type": "subslide"
    }
   },
   "source": [
    "The master plan for automatic repair follows the principle of _genetic optimization_. Roughly spoken, genetic optimization is a _metaheuristic_ inspired by the process of _natural selection_. The idea is to _evolve_ a selection of _candidate solutions_ towards a maximum _fitness_:\n",
    "\n",
    "1. Have a selection of _candidates_.\n",
    "2. Determine the _fitness_ of each candidate.\n",
    "3. Retain those candidates with the _highest fitness_.\n",
    "4. Create new candidates from the retained candidates, by applying genetic operations:\n",
    "    * _Mutation_ mutates some aspect of a candidate.\n",
    "    * _CrossoverOperator_ creates new candidates combining features of two candidates.\n",
    "5. Repeat until an optimal solution is found."
   ]
  },
  {
   "cell_type": "markdown",
   "metadata": {
    "slideshow": {
     "slide_type": "subslide"
    }
   },
   "source": [
    "Applied for automated program repair, this means the following steps:\n",
    "\n",
    "1. Have a _test suite_ with both failing and passing tests that helps asserting correctness of possible solutions.\n",
    "2. With the test suite, use [fault localization](StatisticalDebugger.ipynb) to determine potential code locations to be fixed.\n",
    "3. Systematically _mutate_ the code (by adding, changing, or deleting code) and _cross_ code to create possible fix candidates.\n",
    "4. Identify the _fittest_ fix candidates – that is, those that satisfy the most tests.\n",
    "5. _Evolve_ the fittest candidates until a perfect fix is found, or until time resources are depleted."
   ]
  },
  {
   "cell_type": "markdown",
   "metadata": {
    "slideshow": {
     "slide_type": "subslide"
    }
   },
   "source": [
    "Let us illustrate these steps in the following sections."
   ]
  },
  {
   "cell_type": "markdown",
   "metadata": {
    "slideshow": {
     "slide_type": "slide"
    }
   },
   "source": [
    "## A Test Suite"
   ]
  },
  {
   "cell_type": "markdown",
   "metadata": {
    "slideshow": {
     "slide_type": "fragment"
    }
   },
   "source": [
    "In automated repair, the larger and the more thorough the test suite, the higher the quality of the resulting fix (if any). Hence, if we want to repair `middle()` automatically, we need a good test suite – with good inputs, but also with good checks."
   ]
  },
  {
   "cell_type": "markdown",
   "metadata": {
    "slideshow": {
     "slide_type": "fragment"
    }
   },
   "source": [
    "The function `middle_testcase()` returns a random input for `middle()`:"
   ]
  },
  {
   "cell_type": "code",
   "execution_count": 11,
   "metadata": {
    "slideshow": {
     "slide_type": "skip"
    }
   },
   "outputs": [],
   "source": [
    "import random"
   ]
  },
  {
   "cell_type": "code",
   "execution_count": 12,
   "metadata": {
    "slideshow": {
     "slide_type": "fragment"
    }
   },
   "outputs": [],
   "source": [
    "def middle_testcase():\n",
    "    x = random.randrange(10)\n",
    "    y = random.randrange(10)\n",
    "    z = random.randrange(10)\n",
    "    return x, y, z"
   ]
  },
  {
   "cell_type": "code",
   "execution_count": 13,
   "metadata": {
    "slideshow": {
     "slide_type": "fragment"
    }
   },
   "outputs": [
    {
     "data": {
      "text/plain": [
       "[(9, 0, 5), (0, 1, 9), (9, 0, 9), (2, 9, 0), (4, 7, 2)]"
      ]
     },
     "execution_count": 13,
     "metadata": {},
     "output_type": "execute_result"
    }
   ],
   "source": [
    "[middle_testcase() for i in range(5)]"
   ]
  },
  {
   "cell_type": "markdown",
   "metadata": {
    "slideshow": {
     "slide_type": "subslide"
    }
   },
   "source": [
    "The function `middle_test()` simply checks if `middle()` operates correctly – by placing `x`, `y`, and `z` in a list, sorting it, and taking the middle argument. If `middle()` fails, `middle_test()` raises an exception."
   ]
  },
  {
   "cell_type": "code",
   "execution_count": 14,
   "metadata": {
    "slideshow": {
     "slide_type": "fragment"
    }
   },
   "outputs": [],
   "source": [
    "def middle_test(x, y, z):\n",
    "    m = middle(x, y, z)\n",
    "    assert m == sorted([x, y, z])[1]"
   ]
  },
  {
   "cell_type": "code",
   "execution_count": 15,
   "metadata": {
    "slideshow": {
     "slide_type": "fragment"
    }
   },
   "outputs": [],
   "source": [
    "middle_test(4, 5, 6)"
   ]
  },
  {
   "cell_type": "code",
   "execution_count": 16,
   "metadata": {
    "slideshow": {
     "slide_type": "skip"
    }
   },
   "outputs": [],
   "source": [
    "from ExpectError import ExpectError"
   ]
  },
  {
   "cell_type": "code",
   "execution_count": 17,
   "metadata": {
    "slideshow": {
     "slide_type": "subslide"
    }
   },
   "outputs": [
    {
     "name": "stderr",
     "output_type": "stream",
     "text": [
      "Traceback (most recent call last):\n",
      "  File \"<ipython-input-17-ae2957225406>\", line 2, in <module>\n",
      "    middle_test(2, 1, 3)\n",
      "  File \"<ipython-input-14-6bd1639308bf>\", line 3, in middle_test\n",
      "    assert m == sorted([x, y, z])[1]\n",
      "AssertionError (expected)\n"
     ]
    }
   ],
   "source": [
    "with ExpectError():\n",
    "    middle_test(2, 1, 3)"
   ]
  },
  {
   "cell_type": "markdown",
   "metadata": {
    "slideshow": {
     "slide_type": "fragment"
    }
   },
   "source": [
    "The function `middle_passing_testcase()` searches and returns a triple `x`, `y`, `z` that causes `middle_test()` to pass."
   ]
  },
  {
   "cell_type": "code",
   "execution_count": 18,
   "metadata": {
    "slideshow": {
     "slide_type": "subslide"
    }
   },
   "outputs": [],
   "source": [
    "def middle_passing_testcase():\n",
    "    while True:\n",
    "        try:\n",
    "            x, y, z = middle_testcase()\n",
    "            _ = middle_test(x, y, z)\n",
    "            return x, y, z\n",
    "        except AssertionError:\n",
    "            pass"
   ]
  },
  {
   "cell_type": "code",
   "execution_count": 19,
   "metadata": {
    "slideshow": {
     "slide_type": "fragment"
    }
   },
   "outputs": [
    {
     "name": "stdout",
     "output_type": "stream",
     "text": [
      "middle(1, 6, 1) = 1\n"
     ]
    }
   ],
   "source": [
    "(x, y, z) = middle_passing_testcase()\n",
    "m = middle(x, y, z)\n",
    "print(f\"middle({x}, {y}, {z}) = {m}\")"
   ]
  },
  {
   "cell_type": "markdown",
   "metadata": {
    "slideshow": {
     "slide_type": "fragment"
    }
   },
   "source": [
    "The function `middle_failing_testcase()` does the same; but its triple `x`, `y`, `z` causes `middle_test()` to fail."
   ]
  },
  {
   "cell_type": "code",
   "execution_count": 20,
   "metadata": {
    "slideshow": {
     "slide_type": "subslide"
    }
   },
   "outputs": [],
   "source": [
    "def middle_failing_testcase():\n",
    "    while True:\n",
    "        try:\n",
    "            x, y, z = middle_testcase()\n",
    "            _ = middle_test(x, y, z)\n",
    "        except AssertionError:\n",
    "            return x, y, z"
   ]
  },
  {
   "cell_type": "code",
   "execution_count": 21,
   "metadata": {
    "slideshow": {
     "slide_type": "fragment"
    }
   },
   "outputs": [
    {
     "name": "stdout",
     "output_type": "stream",
     "text": [
      "middle(5, 2, 6) = 2\n"
     ]
    }
   ],
   "source": [
    "(x, y, z) = middle_failing_testcase()\n",
    "m = middle(x, y, z)\n",
    "print(f\"middle({x}, {y}, {z}) = {m}\")"
   ]
  },
  {
   "cell_type": "markdown",
   "metadata": {
    "slideshow": {
     "slide_type": "fragment"
    }
   },
   "source": [
    "With these, we can define two sets of test cases, each with 100 inputs."
   ]
  },
  {
   "cell_type": "code",
   "execution_count": 22,
   "metadata": {
    "slideshow": {
     "slide_type": "fragment"
    }
   },
   "outputs": [],
   "source": [
    "MIDDLE_TESTS = 100"
   ]
  },
  {
   "cell_type": "code",
   "execution_count": 23,
   "metadata": {
    "slideshow": {
     "slide_type": "subslide"
    }
   },
   "outputs": [],
   "source": [
    "MIDDLE_PASSING_TESTCASES = [middle_passing_testcase()\n",
    "                            for i in range(MIDDLE_TESTS)]"
   ]
  },
  {
   "cell_type": "code",
   "execution_count": 24,
   "metadata": {
    "slideshow": {
     "slide_type": "fragment"
    }
   },
   "outputs": [],
   "source": [
    "MIDDLE_FAILING_TESTCASES = [middle_failing_testcase()\n",
    "                            for i in range(MIDDLE_TESTS)]"
   ]
  },
  {
   "cell_type": "markdown",
   "metadata": {
    "slideshow": {
     "slide_type": "slide"
    }
   },
   "source": [
    "## Locating the Defect"
   ]
  },
  {
   "cell_type": "markdown",
   "metadata": {
    "slideshow": {
     "slide_type": "fragment"
    }
   },
   "source": [
    "Our next step is to find potential defect locations – that is, those locations in the code our mutations should focus upon. Since we already do have two test suites, we can make use of [statistical debugging](StatisticalDebugger.ipynb) to identify likely faulty locations.  Our `OchiaiDebugger` ranks individual code lines by how frequently they are executed in failing runs (and not in passing runs)."
   ]
  },
  {
   "cell_type": "code",
   "execution_count": 25,
   "metadata": {
    "slideshow": {
     "slide_type": "skip"
    }
   },
   "outputs": [],
   "source": [
    "from StatisticalDebugger import OchiaiDebugger, DifferenceDebugger"
   ]
  },
  {
   "cell_type": "code",
   "execution_count": 26,
   "metadata": {
    "slideshow": {
     "slide_type": "fragment"
    }
   },
   "outputs": [],
   "source": [
    "middle_debugger = OchiaiDebugger()\n",
    "\n",
    "for x, y, z in MIDDLE_PASSING_TESTCASES + MIDDLE_FAILING_TESTCASES:\n",
    "    with middle_debugger:\n",
    "        m = middle_test(x, y, z)"
   ]
  },
  {
   "cell_type": "markdown",
   "metadata": {
    "slideshow": {
     "slide_type": "fragment"
    }
   },
   "source": [
    "We see that the upper half of the `middle()` code is definitely more suspicious:"
   ]
  },
  {
   "cell_type": "code",
   "execution_count": 27,
   "metadata": {
    "scrolled": true,
    "slideshow": {
     "slide_type": "subslide"
    }
   },
   "outputs": [
    {
     "data": {
      "text/html": [
       "<pre style=\"background-color:hsl(35.14718625761431, 100.0%, 80%)\"\n",
       "                    title=\"Line 603:  70%\"> 603 def middle(x, y, z):</pre>\n",
       "<pre style=\"background-color:hsl(35.14718625761431, 100.0%, 80%)\"\n",
       "                    title=\"Line 604:  70%\"> 604     if y &lt; z:</pre>\n",
       "<pre style=\"background-color:hsl(14.34589124092514, 100.0%, 80%)\"\n",
       "                    title=\"Line 605:  88%\"> 605         if x &lt; y:</pre>\n",
       "<pre style=\"background-color:hsl(120.0, 7.000000000000001%, 80%)\"\n",
       "                    title=\"Line 606:   0%\"> 606             return y</pre>\n",
       "<pre style=\"background-color:hsl(11.357104748977767, 100.0%, 80%)\"\n",
       "                    title=\"Line 607:  90%\"> 607         elif x &lt; z:</pre>\n",
       "<pre style=\"background-color:hsl(4.529946162074849, 100.0%, 80%)\"\n",
       "                    title=\"Line 608:  96%\"> 608             return y</pre>\n",
       "<pre title=\"Line 609: not executed\"> 609     else:\n",
       "</pre>\n",
       "<pre style=\"background-color:hsl(120.0, 71.0%, 80%)\"\n",
       "                    title=\"Line 610:   0%\"> 610         if x &gt; y:</pre>\n",
       "<pre style=\"background-color:hsl(120.0, 20.0%, 80%)\"\n",
       "                    title=\"Line 611:   0%\"> 611             return y</pre>\n",
       "<pre style=\"background-color:hsl(120.0, 51.0%, 80%)\"\n",
       "                    title=\"Line 612:   0%\"> 612         elif x &gt; z:</pre>\n",
       "<pre style=\"background-color:hsl(120.0, 19.0%, 80%)\"\n",
       "                    title=\"Line 613:   0%\"> 613             return x</pre>\n",
       "<pre style=\"background-color:hsl(120.0, 46.0%, 80%)\"\n",
       "                    title=\"Line 614:   0%\"> 614     return z</pre>\n",
       "\n",
       "<p/><pre style=\"background-color:hsl(35.14718625761431, 100.0%, 80%)\"\n",
       "                    title=\"Line 1:  70%\">   1 def middle_test(x, y, z):</pre>\n",
       "<pre style=\"background-color:hsl(35.14718625761431, 100.0%, 80%)\"\n",
       "                    title=\"Line 2:  70%\">   2     m = middle(x, y, z)</pre>\n",
       "<pre style=\"background-color:hsl(35.14718625761431, 100.0%, 80%)\"\n",
       "                    title=\"Line 3:  70%\">   3     assert m == sorted([x, y, z])[1]</pre>\n"
      ],
      "text/plain": [
       " 603  70% def middle(x, y, z):\n",
       " 604  70%     if y < z:\n",
       " 605  88%         if x < y:\n",
       " 606   0%             return y\n",
       " 607  90%         elif x < z:\n",
       " 608  96%             return y\n",
       " 609          else:\n",
       " 610   0%         if x > y:\n",
       " 611   0%             return y\n",
       " 612   0%         elif x > z:\n",
       " 613   0%             return x\n",
       " 614   0%     return z\n",
       "\n",
       "   1  70% def middle_test(x, y, z):\n",
       "   2  70%     m = middle(x, y, z)\n",
       "   3  70%     assert m == sorted([x, y, z])[1]"
      ]
     },
     "execution_count": 27,
     "metadata": {},
     "output_type": "execute_result"
    }
   ],
   "source": [
    "middle_debugger"
   ]
  },
  {
   "cell_type": "markdown",
   "metadata": {
    "slideshow": {
     "slide_type": "subslide"
    }
   },
   "source": [
    "The most suspicious line is:"
   ]
  },
  {
   "cell_type": "code",
   "execution_count": 28,
   "metadata": {
    "slideshow": {
     "slide_type": "fragment"
    }
   },
   "outputs": [
    {
     "name": "stdout",
     "output_type": "stream",
     "text": [
      "608            \u001b[34mreturn\u001b[39;49;00m y"
     ]
    }
   ],
   "source": [
    "# ignore\n",
    "location = middle_debugger.rank()[0]\n",
    "(func_name, lineno) = location\n",
    "lines, first_lineno = inspect.getsourcelines(middle)\n",
    "print(lineno, end=\"\")\n",
    "print_content(lines[lineno - first_lineno], '.py')"
   ]
  },
  {
   "cell_type": "markdown",
   "metadata": {
    "slideshow": {
     "slide_type": "fragment"
    }
   },
   "source": [
    "with a suspiciousness of:"
   ]
  },
  {
   "cell_type": "code",
   "execution_count": 29,
   "metadata": {
    "slideshow": {
     "slide_type": "fragment"
    }
   },
   "outputs": [
    {
     "data": {
      "text/plain": [
       "0.9622504486493763"
      ]
     },
     "execution_count": 29,
     "metadata": {},
     "output_type": "execute_result"
    }
   ],
   "source": [
    "# ignore\n",
    "middle_debugger.suspiciousness(location)"
   ]
  },
  {
   "cell_type": "markdown",
   "metadata": {
    "slideshow": {
     "slide_type": "slide"
    }
   },
   "source": [
    "## Random Code Mutations"
   ]
  },
  {
   "cell_type": "markdown",
   "metadata": {
    "slideshow": {
     "slide_type": "fragment"
    }
   },
   "source": [
    "Our third step in automatic code repair is to _randomly mutate the code_. Specifically, we want to randomly _delete_, _insert_, and _replace_ statements in the program to be repaired. However, simply synthesizing code _from scratch_ is unlikely to yield anything meaningful – the number of combinations is simply far too high. Already for a three-character identifier name, we have more than 200,000 combinations:"
   ]
  },
  {
   "cell_type": "code",
   "execution_count": 30,
   "metadata": {
    "slideshow": {
     "slide_type": "skip"
    }
   },
   "outputs": [],
   "source": [
    "import string"
   ]
  },
  {
   "cell_type": "code",
   "execution_count": 31,
   "metadata": {
    "slideshow": {
     "slide_type": "fragment"
    }
   },
   "outputs": [
    {
     "data": {
      "text/plain": [
       "'abcdefghijklmnopqrstuvwxyzABCDEFGHIJKLMNOPQRSTUVWXYZ'"
      ]
     },
     "execution_count": 31,
     "metadata": {},
     "output_type": "execute_result"
    }
   ],
   "source": [
    "string.ascii_letters"
   ]
  },
  {
   "cell_type": "code",
   "execution_count": 32,
   "metadata": {
    "slideshow": {
     "slide_type": "fragment"
    }
   },
   "outputs": [
    {
     "data": {
      "text/plain": [
       "210357"
      ]
     },
     "execution_count": 32,
     "metadata": {},
     "output_type": "execute_result"
    }
   ],
   "source": [
    "len(string.ascii_letters + '_') * \\\n",
    "  len(string.ascii_letters + '_' + string.digits) * \\\n",
    "  len(string.ascii_letters + '_' + string.digits)"
   ]
  },
  {
   "cell_type": "markdown",
   "metadata": {
    "slideshow": {
     "slide_type": "subslide"
    }
   },
   "source": [
    "Hence, we do _not_ synthesize code from scratch, but instead _reuse_ elements from the program to be fixed, hypothesizing that \"a program that contains an error in one area likely implements the correct behavior elsewhere\" \\cite{LeGoues2012}."
   ]
  },
  {
   "cell_type": "markdown",
   "metadata": {
    "slideshow": {
     "slide_type": "subslide"
    }
   },
   "source": [
    "Furthermore, we do not operate on a _textual_ representation of the program, but rather on a _structural_ representation, which by construction allows us to avoid lexical and syntactical errors in the first place.\n",
    "\n",
    "This structural representation is the _abstract syntax tree_ (AST), which we already have seen in various chapters, such as the [chapter on delta debugging](DeltaDebugger.ipynb), the [chapter on tracing](Tracer.ipynb), and excessively in the [chapter on slicing](Slicer.ipynb). The [official Python `ast` reference](http://docs.python.org/3/library/ast) is complete, but a bit brief; the documentation [\"Green Tree Snakes - the missing Python AST docs\"](https://greentreesnakes.readthedocs.io/en/latest/) provides an excellent introduction.\n",
    "\n",
    "Recapitulating, an AST is a tree representation of the program, showing a hierarchical structure of the program's elements. Here is the AST for our `middle()` function."
   ]
  },
  {
   "cell_type": "code",
   "execution_count": 33,
   "metadata": {
    "slideshow": {
     "slide_type": "skip"
    }
   },
   "outputs": [],
   "source": [
    "import ast\n",
    "import astor\n",
    "import inspect"
   ]
  },
  {
   "cell_type": "code",
   "execution_count": 34,
   "metadata": {
    "slideshow": {
     "slide_type": "skip"
    }
   },
   "outputs": [],
   "source": [
    "from bookutils import print_content, show_ast"
   ]
  },
  {
   "cell_type": "code",
   "execution_count": 35,
   "metadata": {
    "slideshow": {
     "slide_type": "subslide"
    }
   },
   "outputs": [],
   "source": [
    "def middle_tree():\n",
    "    return ast.parse(inspect.getsource(middle))"
   ]
  },
  {
   "cell_type": "code",
   "execution_count": 36,
   "metadata": {
    "slideshow": {
     "slide_type": "fragment"
    }
   },
   "outputs": [
    {
     "data": {
      "image/svg+xml": [
       "<svg xmlns=\"http://www.w3.org/2000/svg\" xmlns:xlink=\"http://www.w3.org/1999/xlink\" width=\"1862pt\" height=\"476pt\" viewBox=\"0.00 0.00 1862.00 476.00\">\n",
       "<g id=\"graph0\" class=\"graph\" transform=\"scale(1 1) rotate(0) translate(4 472)\">\n",
       "<title>%3</title>\n",
       "<polygon fill=\"white\" stroke=\"transparent\" points=\"-4,4 -4,-472 1858,-472 1858,4 -4,4\"/>\n",
       "<!-- 0 -->\n",
       "<g id=\"node1\" class=\"node\">\n",
       "<title>0</title>\n",
       "<text text-anchor=\"start\" x=\"197.5\" y=\"-447.3\" font-family=\"Courier,monospace\" font-weight=\"bold\" font-size=\"14.00\" fill=\"#004080\">FunctionDef</text>\n",
       "</g>\n",
       "<!-- 1 -->\n",
       "<g id=\"node2\" class=\"node\">\n",
       "<title>1</title>\n",
       "<text text-anchor=\"middle\" x=\"66\" y=\"-374.3\" font-family=\"Courier,monospace\" font-size=\"14.00\" fill=\"#008040\">&quot;middle&quot;</text>\n",
       "</g>\n",
       "<!-- 0&#45;&#45;1 -->\n",
       "<g id=\"edge1\" class=\"edge\">\n",
       "<title>0--1</title>\n",
       "<path fill=\"none\" stroke=\"black\" d=\"M247,-431C247,-431 173.67,-413.49 116,-396 113.28,-395.18 110.49,-394.3 107.67,-393.4\"/>\n",
       "</g>\n",
       "<!-- 2 -->\n",
       "<g id=\"node3\" class=\"node\">\n",
       "<title>2</title>\n",
       "<text text-anchor=\"start\" x=\"133.5\" y=\"-375.3\" font-family=\"Courier,monospace\" font-weight=\"bold\" font-size=\"14.00\" fill=\"#004080\">arguments</text>\n",
       "</g>\n",
       "<!-- 0&#45;&#45;2 -->\n",
       "<g id=\"edge2\" class=\"edge\">\n",
       "<title>0--2</title>\n",
       "<path fill=\"none\" stroke=\"black\" d=\"M247,-431C247,-431 218.05,-411.19 195.89,-396.03\"/>\n",
       "</g>\n",
       "<!-- 9 -->\n",
       "<g id=\"node10\" class=\"node\">\n",
       "<title>9</title>\n",
       "<text text-anchor=\"start\" x=\"464.5\" y=\"-375.3\" font-family=\"Courier,monospace\" font-weight=\"bold\" font-size=\"14.00\" fill=\"#004080\">If</text>\n",
       "</g>\n",
       "<!-- 0&#45;&#45;9 -->\n",
       "<g id=\"edge9\" class=\"edge\">\n",
       "<title>0--9</title>\n",
       "<path fill=\"none\" stroke=\"black\" d=\"M247,-431C247,-431 385.63,-399.1 445.74,-385.27\"/>\n",
       "</g>\n",
       "<!-- 70 -->\n",
       "<g id=\"node71\" class=\"node\">\n",
       "<title>70</title>\n",
       "<text text-anchor=\"start\" x=\"1129\" y=\"-375.3\" font-family=\"Courier,monospace\" font-weight=\"bold\" font-size=\"14.00\" fill=\"#004080\">Return</text>\n",
       "</g>\n",
       "<!-- 0&#45;&#45;70 -->\n",
       "<g id=\"edge70\" class=\"edge\">\n",
       "<title>0--70</title>\n",
       "<path fill=\"none\" stroke=\"black\" d=\"M247,-431C247,-431 957.79,-390.25 1120.91,-380.9\"/>\n",
       "</g>\n",
       "<!-- 3 -->\n",
       "<g id=\"node4\" class=\"node\">\n",
       "<title>3</title>\n",
       "<text text-anchor=\"start\" x=\"14.5\" y=\"-303.3\" font-family=\"Courier,monospace\" font-weight=\"bold\" font-size=\"14.00\" fill=\"#004080\">arg</text>\n",
       "</g>\n",
       "<!-- 2&#45;&#45;3 -->\n",
       "<g id=\"edge3\" class=\"edge\">\n",
       "<title>2--3</title>\n",
       "<path fill=\"none\" stroke=\"black\" d=\"M157,-359C157,-359 104.08,-341.31 63,-324 60.07,-322.77 57.03,-321.43 54.02,-320.06\"/>\n",
       "</g>\n",
       "<!-- 5 -->\n",
       "<g id=\"node6\" class=\"node\">\n",
       "<title>5</title>\n",
       "<text text-anchor=\"start\" x=\"86.5\" y=\"-303.3\" font-family=\"Courier,monospace\" font-weight=\"bold\" font-size=\"14.00\" fill=\"#004080\">arg</text>\n",
       "</g>\n",
       "<!-- 2&#45;&#45;5 -->\n",
       "<g id=\"edge5\" class=\"edge\">\n",
       "<title>2--5</title>\n",
       "<path fill=\"none\" stroke=\"black\" d=\"M157,-359C157,-359 134.91,-339.19 117.99,-324.03\"/>\n",
       "</g>\n",
       "<!-- 7 -->\n",
       "<g id=\"node8\" class=\"node\">\n",
       "<title>7</title>\n",
       "<text text-anchor=\"start\" x=\"158.5\" y=\"-303.3\" font-family=\"Courier,monospace\" font-weight=\"bold\" font-size=\"14.00\" fill=\"#004080\">arg</text>\n",
       "</g>\n",
       "<!-- 2&#45;&#45;7 -->\n",
       "<g id=\"edge7\" class=\"edge\">\n",
       "<title>2--7</title>\n",
       "<path fill=\"none\" stroke=\"black\" d=\"M157,-359C157,-359 162.33,-339.19 166.42,-324.03\"/>\n",
       "</g>\n",
       "<!-- 4 -->\n",
       "<g id=\"node5\" class=\"node\">\n",
       "<title>4</title>\n",
       "<text text-anchor=\"middle\" x=\"27\" y=\"-230.3\" font-family=\"Courier,monospace\" font-size=\"14.00\" fill=\"#008040\">&quot;x&quot;</text>\n",
       "</g>\n",
       "<!-- 3&#45;&#45;4 -->\n",
       "<g id=\"edge4\" class=\"edge\">\n",
       "<title>3--4</title>\n",
       "<path fill=\"none\" stroke=\"black\" d=\"M27,-287.7C27,-276.85 27,-262.92 27,-252.1\"/>\n",
       "</g>\n",
       "<!-- 6 -->\n",
       "<g id=\"node7\" class=\"node\">\n",
       "<title>6</title>\n",
       "<text text-anchor=\"middle\" x=\"99\" y=\"-230.3\" font-family=\"Courier,monospace\" font-size=\"14.00\" fill=\"#008040\">&quot;y&quot;</text>\n",
       "</g>\n",
       "<!-- 5&#45;&#45;6 -->\n",
       "<g id=\"edge6\" class=\"edge\">\n",
       "<title>5--6</title>\n",
       "<path fill=\"none\" stroke=\"black\" d=\"M99,-287.7C99,-276.85 99,-262.92 99,-252.1\"/>\n",
       "</g>\n",
       "<!-- 8 -->\n",
       "<g id=\"node9\" class=\"node\">\n",
       "<title>8</title>\n",
       "<text text-anchor=\"middle\" x=\"171\" y=\"-230.3\" font-family=\"Courier,monospace\" font-size=\"14.00\" fill=\"#008040\">&quot;z&quot;</text>\n",
       "</g>\n",
       "<!-- 7&#45;&#45;8 -->\n",
       "<g id=\"edge8\" class=\"edge\">\n",
       "<title>7--8</title>\n",
       "<path fill=\"none\" stroke=\"black\" d=\"M171,-287.7C171,-276.85 171,-262.92 171,-252.1\"/>\n",
       "</g>\n",
       "<!-- 10 -->\n",
       "<g id=\"node11\" class=\"node\">\n",
       "<title>10</title>\n",
       "<text text-anchor=\"start\" x=\"322\" y=\"-303.3\" font-family=\"Courier,monospace\" font-weight=\"bold\" font-size=\"14.00\" fill=\"#004080\">Compare</text>\n",
       "</g>\n",
       "<!-- 9&#45;&#45;10 -->\n",
       "<g id=\"edge10\" class=\"edge\">\n",
       "<title>9--10</title>\n",
       "<path fill=\"none\" stroke=\"black\" d=\"M490,-359C490,-359 429.42,-336.34 388.25,-320.94\"/>\n",
       "</g>\n",
       "<!-- 18 -->\n",
       "<g id=\"node19\" class=\"node\">\n",
       "<title>18</title>\n",
       "<text text-anchor=\"start\" x=\"594.5\" y=\"-303.3\" font-family=\"Courier,monospace\" font-weight=\"bold\" font-size=\"14.00\" fill=\"#004080\">If</text>\n",
       "</g>\n",
       "<!-- 9&#45;&#45;18 -->\n",
       "<g id=\"edge18\" class=\"edge\">\n",
       "<title>9--18</title>\n",
       "<path fill=\"none\" stroke=\"black\" d=\"M490,-359C490,-359 542.5,-334.84 575.93,-319.46\"/>\n",
       "</g>\n",
       "<!-- 44 -->\n",
       "<g id=\"node45\" class=\"node\">\n",
       "<title>44</title>\n",
       "<text text-anchor=\"start\" x=\"1314.5\" y=\"-303.3\" font-family=\"Courier,monospace\" font-weight=\"bold\" font-size=\"14.00\" fill=\"#004080\">If</text>\n",
       "</g>\n",
       "<!-- 9&#45;&#45;44 -->\n",
       "<g id=\"edge44\" class=\"edge\">\n",
       "<title>9--44</title>\n",
       "<path fill=\"none\" stroke=\"black\" d=\"M490,-359C490,-359 1152.2,-317.66 1295.76,-308.7\"/>\n",
       "</g>\n",
       "<!-- 11 -->\n",
       "<g id=\"node12\" class=\"node\">\n",
       "<title>11</title>\n",
       "<text text-anchor=\"start\" x=\"226\" y=\"-231.3\" font-family=\"Courier,monospace\" font-weight=\"bold\" font-size=\"14.00\" fill=\"#004080\">Name</text>\n",
       "</g>\n",
       "<!-- 10&#45;&#45;11 -->\n",
       "<g id=\"edge11\" class=\"edge\">\n",
       "<title>10--11</title>\n",
       "<path fill=\"none\" stroke=\"black\" d=\"M345,-287C345,-287 300.28,-264.2 270.07,-248.8\"/>\n",
       "</g>\n",
       "<!-- 14 -->\n",
       "<g id=\"node15\" class=\"node\">\n",
       "<title>14</title>\n",
       "<text text-anchor=\"middle\" x=\"315\" y=\"-230.3\" font-family=\"Courier,monospace\" font-size=\"14.00\" fill=\"#008040\">Lt</text>\n",
       "</g>\n",
       "<!-- 10&#45;&#45;14 -->\n",
       "<g id=\"edge14\" class=\"edge\">\n",
       "<title>10--14</title>\n",
       "<path fill=\"none\" stroke=\"black\" d=\"M345,-287C345,-287 333.57,-267.19 324.82,-252.03\"/>\n",
       "</g>\n",
       "<!-- 15 -->\n",
       "<g id=\"node16\" class=\"node\">\n",
       "<title>15</title>\n",
       "<text text-anchor=\"start\" x=\"370\" y=\"-231.3\" font-family=\"Courier,monospace\" font-weight=\"bold\" font-size=\"14.00\" fill=\"#004080\">Name</text>\n",
       "</g>\n",
       "<!-- 10&#45;&#45;15 -->\n",
       "<g id=\"edge15\" class=\"edge\">\n",
       "<title>10--15</title>\n",
       "<path fill=\"none\" stroke=\"black\" d=\"M345,-287C345,-287 361,-267.19 373.25,-252.03\"/>\n",
       "</g>\n",
       "<!-- 12 -->\n",
       "<g id=\"node13\" class=\"node\">\n",
       "<title>12</title>\n",
       "<text text-anchor=\"middle\" x=\"171\" y=\"-158.3\" font-family=\"Courier,monospace\" font-size=\"14.00\" fill=\"#008040\">&quot;y&quot;</text>\n",
       "</g>\n",
       "<!-- 11&#45;&#45;12 -->\n",
       "<g id=\"edge12\" class=\"edge\">\n",
       "<title>11--12</title>\n",
       "<path fill=\"none\" stroke=\"black\" d=\"M235,-215C235,-215 210.62,-195.19 191.96,-180.03\"/>\n",
       "</g>\n",
       "<!-- 13 -->\n",
       "<g id=\"node14\" class=\"node\">\n",
       "<title>13</title>\n",
       "<text text-anchor=\"middle\" x=\"243\" y=\"-158.3\" font-family=\"Courier,monospace\" font-size=\"14.00\" fill=\"#008040\">Load</text>\n",
       "</g>\n",
       "<!-- 11&#45;&#45;13 -->\n",
       "<g id=\"edge13\" class=\"edge\">\n",
       "<title>11--13</title>\n",
       "<path fill=\"none\" stroke=\"black\" d=\"M235,-215C235,-215 238.05,-195.19 240.38,-180.03\"/>\n",
       "</g>\n",
       "<!-- 16 -->\n",
       "<g id=\"node17\" class=\"node\">\n",
       "<title>16</title>\n",
       "<text text-anchor=\"middle\" x=\"315\" y=\"-158.3\" font-family=\"Courier,monospace\" font-size=\"14.00\" fill=\"#008040\">&quot;z&quot;</text>\n",
       "</g>\n",
       "<!-- 15&#45;&#45;16 -->\n",
       "<g id=\"edge16\" class=\"edge\">\n",
       "<title>15--16</title>\n",
       "<path fill=\"none\" stroke=\"black\" d=\"M379,-215C379,-215 354.62,-195.19 335.96,-180.03\"/>\n",
       "</g>\n",
       "<!-- 17 -->\n",
       "<g id=\"node18\" class=\"node\">\n",
       "<title>17</title>\n",
       "<text text-anchor=\"middle\" x=\"387\" y=\"-158.3\" font-family=\"Courier,monospace\" font-size=\"14.00\" fill=\"#008040\">Load</text>\n",
       "</g>\n",
       "<!-- 15&#45;&#45;17 -->\n",
       "<g id=\"edge17\" class=\"edge\">\n",
       "<title>15--17</title>\n",
       "<path fill=\"none\" stroke=\"black\" d=\"M379,-215C379,-215 382.05,-195.19 384.38,-180.03\"/>\n",
       "</g>\n",
       "<!-- 19 -->\n",
       "<g id=\"node20\" class=\"node\">\n",
       "<title>19</title>\n",
       "<text text-anchor=\"start\" x=\"516\" y=\"-231.3\" font-family=\"Courier,monospace\" font-weight=\"bold\" font-size=\"14.00\" fill=\"#004080\">Compare</text>\n",
       "</g>\n",
       "<!-- 18&#45;&#45;19 -->\n",
       "<g id=\"edge19\" class=\"edge\">\n",
       "<title>18--19</title>\n",
       "<path fill=\"none\" stroke=\"black\" d=\"M613,-287C613,-287 587.1,-267.19 567.27,-252.03\"/>\n",
       "</g>\n",
       "<!-- 27 -->\n",
       "<g id=\"node28\" class=\"node\">\n",
       "<title>27</title>\n",
       "<text text-anchor=\"start\" x=\"636\" y=\"-231.3\" font-family=\"Courier,monospace\" font-weight=\"bold\" font-size=\"14.00\" fill=\"#004080\">Return</text>\n",
       "</g>\n",
       "<!-- 18&#45;&#45;27 -->\n",
       "<g id=\"edge27\" class=\"edge\">\n",
       "<title>18--27</title>\n",
       "<path fill=\"none\" stroke=\"black\" d=\"M613,-287C613,-287 631.28,-267.19 645.28,-252.03\"/>\n",
       "</g>\n",
       "<!-- 31 -->\n",
       "<g id=\"node32\" class=\"node\">\n",
       "<title>31</title>\n",
       "<text text-anchor=\"start\" x=\"882.5\" y=\"-231.3\" font-family=\"Courier,monospace\" font-weight=\"bold\" font-size=\"14.00\" fill=\"#004080\">If</text>\n",
       "</g>\n",
       "<!-- 18&#45;&#45;31 -->\n",
       "<g id=\"edge31\" class=\"edge\">\n",
       "<title>18--31</title>\n",
       "<path fill=\"none\" stroke=\"black\" d=\"M613,-287C613,-287 793.89,-253.17 863.84,-240.08\"/>\n",
       "</g>\n",
       "<!-- 20 -->\n",
       "<g id=\"node21\" class=\"node\">\n",
       "<title>20</title>\n",
       "<text text-anchor=\"start\" x=\"442\" y=\"-159.3\" font-family=\"Courier,monospace\" font-weight=\"bold\" font-size=\"14.00\" fill=\"#004080\">Name</text>\n",
       "</g>\n",
       "<!-- 19&#45;&#45;20 -->\n",
       "<g id=\"edge20\" class=\"edge\">\n",
       "<title>19--20</title>\n",
       "<path fill=\"none\" stroke=\"black\" d=\"M543,-215C543,-215 510.6,-194.94 486.04,-179.74\"/>\n",
       "</g>\n",
       "<!-- 23 -->\n",
       "<g id=\"node24\" class=\"node\">\n",
       "<title>23</title>\n",
       "<text text-anchor=\"middle\" x=\"531\" y=\"-158.3\" font-family=\"Courier,monospace\" font-size=\"14.00\" fill=\"#008040\">Lt</text>\n",
       "</g>\n",
       "<!-- 19&#45;&#45;23 -->\n",
       "<g id=\"edge23\" class=\"edge\">\n",
       "<title>19--23</title>\n",
       "<path fill=\"none\" stroke=\"black\" d=\"M543,-215C543,-215 538.43,-195.19 534.93,-180.03\"/>\n",
       "</g>\n",
       "<!-- 24 -->\n",
       "<g id=\"node25\" class=\"node\">\n",
       "<title>24</title>\n",
       "<text text-anchor=\"start\" x=\"586\" y=\"-159.3\" font-family=\"Courier,monospace\" font-weight=\"bold\" font-size=\"14.00\" fill=\"#004080\">Name</text>\n",
       "</g>\n",
       "<!-- 19&#45;&#45;24 -->\n",
       "<g id=\"edge24\" class=\"edge\">\n",
       "<title>19--24</title>\n",
       "<path fill=\"none\" stroke=\"black\" d=\"M543,-215C543,-215 565.86,-195.19 583.35,-180.03\"/>\n",
       "</g>\n",
       "<!-- 21 -->\n",
       "<g id=\"node22\" class=\"node\">\n",
       "<title>21</title>\n",
       "<text text-anchor=\"middle\" x=\"387\" y=\"-86.3\" font-family=\"Courier,monospace\" font-size=\"14.00\" fill=\"#008040\">&quot;x&quot;</text>\n",
       "</g>\n",
       "<!-- 20&#45;&#45;21 -->\n",
       "<g id=\"edge21\" class=\"edge\">\n",
       "<title>20--21</title>\n",
       "<path fill=\"none\" stroke=\"black\" d=\"M451,-143C451,-143 426.62,-123.19 407.96,-108.03\"/>\n",
       "</g>\n",
       "<!-- 22 -->\n",
       "<g id=\"node23\" class=\"node\">\n",
       "<title>22</title>\n",
       "<text text-anchor=\"middle\" x=\"459\" y=\"-86.3\" font-family=\"Courier,monospace\" font-size=\"14.00\" fill=\"#008040\">Load</text>\n",
       "</g>\n",
       "<!-- 20&#45;&#45;22 -->\n",
       "<g id=\"edge22\" class=\"edge\">\n",
       "<title>20--22</title>\n",
       "<path fill=\"none\" stroke=\"black\" d=\"M451,-143C451,-143 454.05,-123.19 456.38,-108.03\"/>\n",
       "</g>\n",
       "<!-- 25 -->\n",
       "<g id=\"node26\" class=\"node\">\n",
       "<title>25</title>\n",
       "<text text-anchor=\"middle\" x=\"531\" y=\"-86.3\" font-family=\"Courier,monospace\" font-size=\"14.00\" fill=\"#008040\">&quot;y&quot;</text>\n",
       "</g>\n",
       "<!-- 24&#45;&#45;25 -->\n",
       "<g id=\"edge25\" class=\"edge\">\n",
       "<title>24--25</title>\n",
       "<path fill=\"none\" stroke=\"black\" d=\"M595,-143C595,-143 570.62,-123.19 551.96,-108.03\"/>\n",
       "</g>\n",
       "<!-- 26 -->\n",
       "<g id=\"node27\" class=\"node\">\n",
       "<title>26</title>\n",
       "<text text-anchor=\"middle\" x=\"603\" y=\"-86.3\" font-family=\"Courier,monospace\" font-size=\"14.00\" fill=\"#008040\">Load</text>\n",
       "</g>\n",
       "<!-- 24&#45;&#45;26 -->\n",
       "<g id=\"edge26\" class=\"edge\">\n",
       "<title>24--26</title>\n",
       "<path fill=\"none\" stroke=\"black\" d=\"M595,-143C595,-143 598.05,-123.19 600.38,-108.03\"/>\n",
       "</g>\n",
       "<!-- 28 -->\n",
       "<g id=\"node29\" class=\"node\">\n",
       "<title>28</title>\n",
       "<text text-anchor=\"start\" x=\"658\" y=\"-159.3\" font-family=\"Courier,monospace\" font-weight=\"bold\" font-size=\"14.00\" fill=\"#004080\">Name</text>\n",
       "</g>\n",
       "<!-- 27&#45;&#45;28 -->\n",
       "<g id=\"edge28\" class=\"edge\">\n",
       "<title>27--28</title>\n",
       "<path fill=\"none\" stroke=\"black\" d=\"M664.46,-215.7C666.63,-204.85 669.42,-190.92 671.58,-180.1\"/>\n",
       "</g>\n",
       "<!-- 29 -->\n",
       "<g id=\"node30\" class=\"node\">\n",
       "<title>29</title>\n",
       "<text text-anchor=\"middle\" x=\"675\" y=\"-86.3\" font-family=\"Courier,monospace\" font-size=\"14.00\" fill=\"#008040\">&quot;y&quot;</text>\n",
       "</g>\n",
       "<!-- 28&#45;&#45;29 -->\n",
       "<g id=\"edge29\" class=\"edge\">\n",
       "<title>28--29</title>\n",
       "<path fill=\"none\" stroke=\"black\" d=\"M683,-143C683,-143 679.95,-123.19 677.62,-108.03\"/>\n",
       "</g>\n",
       "<!-- 30 -->\n",
       "<g id=\"node31\" class=\"node\">\n",
       "<title>30</title>\n",
       "<text text-anchor=\"middle\" x=\"747\" y=\"-86.3\" font-family=\"Courier,monospace\" font-size=\"14.00\" fill=\"#008040\">Load</text>\n",
       "</g>\n",
       "<!-- 28&#45;&#45;30 -->\n",
       "<g id=\"edge30\" class=\"edge\">\n",
       "<title>28--30</title>\n",
       "<path fill=\"none\" stroke=\"black\" d=\"M683,-143C683,-143 707.38,-123.19 726.04,-108.03\"/>\n",
       "</g>\n",
       "<!-- 32 -->\n",
       "<g id=\"node33\" class=\"node\">\n",
       "<title>32</title>\n",
       "<text text-anchor=\"start\" x=\"862\" y=\"-159.3\" font-family=\"Courier,monospace\" font-weight=\"bold\" font-size=\"14.00\" fill=\"#004080\">Compare</text>\n",
       "</g>\n",
       "<!-- 31&#45;&#45;32 -->\n",
       "<g id=\"edge32\" class=\"edge\">\n",
       "<title>31--32</title>\n",
       "<path fill=\"none\" stroke=\"black\" d=\"M901,-215C901,-215 897.19,-195.19 894.27,-180.03\"/>\n",
       "</g>\n",
       "<!-- 40 -->\n",
       "<g id=\"node41\" class=\"node\">\n",
       "<title>40</title>\n",
       "<text text-anchor=\"start\" x=\"982\" y=\"-159.3\" font-family=\"Courier,monospace\" font-weight=\"bold\" font-size=\"14.00\" fill=\"#004080\">Return</text>\n",
       "</g>\n",
       "<!-- 31&#45;&#45;40 -->\n",
       "<g id=\"edge40\" class=\"edge\">\n",
       "<title>31--40</title>\n",
       "<path fill=\"none\" stroke=\"black\" d=\"M901,-215C901,-215 942.67,-194.56 973.75,-179.31\"/>\n",
       "</g>\n",
       "<!-- 33 -->\n",
       "<g id=\"node34\" class=\"node\">\n",
       "<title>33</title>\n",
       "<text text-anchor=\"start\" x=\"802\" y=\"-87.3\" font-family=\"Courier,monospace\" font-weight=\"bold\" font-size=\"14.00\" fill=\"#004080\">Name</text>\n",
       "</g>\n",
       "<!-- 32&#45;&#45;33 -->\n",
       "<g id=\"edge33\" class=\"edge\">\n",
       "<title>32--33</title>\n",
       "<path fill=\"none\" stroke=\"black\" d=\"M891,-143C891,-143 863.57,-123.19 842.58,-108.03\"/>\n",
       "</g>\n",
       "<!-- 36 -->\n",
       "<g id=\"node37\" class=\"node\">\n",
       "<title>36</title>\n",
       "<text text-anchor=\"middle\" x=\"891\" y=\"-86.3\" font-family=\"Courier,monospace\" font-size=\"14.00\" fill=\"#008040\">Lt</text>\n",
       "</g>\n",
       "<!-- 32&#45;&#45;36 -->\n",
       "<g id=\"edge36\" class=\"edge\">\n",
       "<title>32--36</title>\n",
       "<path fill=\"none\" stroke=\"black\" d=\"M891,-143C891,-143 891,-123.19 891,-108.03\"/>\n",
       "</g>\n",
       "<!-- 37 -->\n",
       "<g id=\"node38\" class=\"node\">\n",
       "<title>37</title>\n",
       "<text text-anchor=\"start\" x=\"946\" y=\"-87.3\" font-family=\"Courier,monospace\" font-weight=\"bold\" font-size=\"14.00\" fill=\"#004080\">Name</text>\n",
       "</g>\n",
       "<!-- 32&#45;&#45;37 -->\n",
       "<g id=\"edge37\" class=\"edge\">\n",
       "<title>32--37</title>\n",
       "<path fill=\"none\" stroke=\"black\" d=\"M891,-143C891,-143 918.43,-123.19 939.42,-108.03\"/>\n",
       "</g>\n",
       "<!-- 34 -->\n",
       "<g id=\"node35\" class=\"node\">\n",
       "<title>34</title>\n",
       "<text text-anchor=\"middle\" x=\"747\" y=\"-14.3\" font-family=\"Courier,monospace\" font-size=\"14.00\" fill=\"#008040\">&quot;x&quot;</text>\n",
       "</g>\n",
       "<!-- 33&#45;&#45;34 -->\n",
       "<g id=\"edge34\" class=\"edge\">\n",
       "<title>33--34</title>\n",
       "<path fill=\"none\" stroke=\"black\" d=\"M811,-71C811,-71 786.62,-51.19 767.96,-36.03\"/>\n",
       "</g>\n",
       "<!-- 35 -->\n",
       "<g id=\"node36\" class=\"node\">\n",
       "<title>35</title>\n",
       "<text text-anchor=\"middle\" x=\"819\" y=\"-14.3\" font-family=\"Courier,monospace\" font-size=\"14.00\" fill=\"#008040\">Load</text>\n",
       "</g>\n",
       "<!-- 33&#45;&#45;35 -->\n",
       "<g id=\"edge35\" class=\"edge\">\n",
       "<title>33--35</title>\n",
       "<path fill=\"none\" stroke=\"black\" d=\"M811,-71C811,-71 814.05,-51.19 816.38,-36.03\"/>\n",
       "</g>\n",
       "<!-- 38 -->\n",
       "<g id=\"node39\" class=\"node\">\n",
       "<title>38</title>\n",
       "<text text-anchor=\"middle\" x=\"891\" y=\"-14.3\" font-family=\"Courier,monospace\" font-size=\"14.00\" fill=\"#008040\">&quot;z&quot;</text>\n",
       "</g>\n",
       "<!-- 37&#45;&#45;38 -->\n",
       "<g id=\"edge38\" class=\"edge\">\n",
       "<title>37--38</title>\n",
       "<path fill=\"none\" stroke=\"black\" d=\"M955,-71C955,-71 930.62,-51.19 911.96,-36.03\"/>\n",
       "</g>\n",
       "<!-- 39 -->\n",
       "<g id=\"node40\" class=\"node\">\n",
       "<title>39</title>\n",
       "<text text-anchor=\"middle\" x=\"963\" y=\"-14.3\" font-family=\"Courier,monospace\" font-size=\"14.00\" fill=\"#008040\">Load</text>\n",
       "</g>\n",
       "<!-- 37&#45;&#45;39 -->\n",
       "<g id=\"edge39\" class=\"edge\">\n",
       "<title>37--39</title>\n",
       "<path fill=\"none\" stroke=\"black\" d=\"M955,-71C955,-71 958.05,-51.19 960.38,-36.03\"/>\n",
       "</g>\n",
       "<!-- 41 -->\n",
       "<g id=\"node42\" class=\"node\">\n",
       "<title>41</title>\n",
       "<text text-anchor=\"start\" x=\"1018\" y=\"-87.3\" font-family=\"Courier,monospace\" font-weight=\"bold\" font-size=\"14.00\" fill=\"#004080\">Name</text>\n",
       "</g>\n",
       "<!-- 40&#45;&#45;41 -->\n",
       "<g id=\"edge41\" class=\"edge\">\n",
       "<title>40--41</title>\n",
       "<path fill=\"none\" stroke=\"black\" d=\"M1013.92,-143.7C1018.26,-132.85 1023.83,-118.92 1028.16,-108.1\"/>\n",
       "</g>\n",
       "<!-- 42 -->\n",
       "<g id=\"node43\" class=\"node\">\n",
       "<title>42</title>\n",
       "<text text-anchor=\"middle\" x=\"1035\" y=\"-14.3\" font-family=\"Courier,monospace\" font-size=\"14.00\" fill=\"#008040\">&quot;y&quot;</text>\n",
       "</g>\n",
       "<!-- 41&#45;&#45;42 -->\n",
       "<g id=\"edge42\" class=\"edge\">\n",
       "<title>41--42</title>\n",
       "<path fill=\"none\" stroke=\"black\" d=\"M1043,-71C1043,-71 1039.95,-51.19 1037.62,-36.03\"/>\n",
       "</g>\n",
       "<!-- 43 -->\n",
       "<g id=\"node44\" class=\"node\">\n",
       "<title>43</title>\n",
       "<text text-anchor=\"middle\" x=\"1107\" y=\"-14.3\" font-family=\"Courier,monospace\" font-size=\"14.00\" fill=\"#008040\">Load</text>\n",
       "</g>\n",
       "<!-- 41&#45;&#45;43 -->\n",
       "<g id=\"edge43\" class=\"edge\">\n",
       "<title>41--43</title>\n",
       "<path fill=\"none\" stroke=\"black\" d=\"M1043,-71C1043,-71 1067.38,-51.19 1086.04,-36.03\"/>\n",
       "</g>\n",
       "<!-- 45 -->\n",
       "<g id=\"node46\" class=\"node\">\n",
       "<title>45</title>\n",
       "<text text-anchor=\"start\" x=\"1236\" y=\"-231.3\" font-family=\"Courier,monospace\" font-weight=\"bold\" font-size=\"14.00\" fill=\"#004080\">Compare</text>\n",
       "</g>\n",
       "<!-- 44&#45;&#45;45 -->\n",
       "<g id=\"edge45\" class=\"edge\">\n",
       "<title>44--45</title>\n",
       "<path fill=\"none\" stroke=\"black\" d=\"M1332,-287C1332,-287 1306.48,-267.19 1286.94,-252.03\"/>\n",
       "</g>\n",
       "<!-- 53 -->\n",
       "<g id=\"node54\" class=\"node\">\n",
       "<title>53</title>\n",
       "<text text-anchor=\"start\" x=\"1356\" y=\"-231.3\" font-family=\"Courier,monospace\" font-weight=\"bold\" font-size=\"14.00\" fill=\"#004080\">Return</text>\n",
       "</g>\n",
       "<!-- 44&#45;&#45;53 -->\n",
       "<g id=\"edge53\" class=\"edge\">\n",
       "<title>44--53</title>\n",
       "<path fill=\"none\" stroke=\"black\" d=\"M1332,-287C1332,-287 1350.67,-267.19 1364.96,-252.03\"/>\n",
       "</g>\n",
       "<!-- 57 -->\n",
       "<g id=\"node58\" class=\"node\">\n",
       "<title>57</title>\n",
       "<text text-anchor=\"start\" x=\"1533.5\" y=\"-231.3\" font-family=\"Courier,monospace\" font-weight=\"bold\" font-size=\"14.00\" fill=\"#004080\">If</text>\n",
       "</g>\n",
       "<!-- 44&#45;&#45;57 -->\n",
       "<g id=\"edge57\" class=\"edge\">\n",
       "<title>44--57</title>\n",
       "<path fill=\"none\" stroke=\"black\" d=\"M1332,-287C1332,-287 1458.26,-255.74 1514.98,-241.69\"/>\n",
       "</g>\n",
       "<!-- 46 -->\n",
       "<g id=\"node47\" class=\"node\">\n",
       "<title>46</title>\n",
       "<text text-anchor=\"start\" x=\"1162\" y=\"-159.3\" font-family=\"Courier,monospace\" font-weight=\"bold\" font-size=\"14.00\" fill=\"#004080\">Name</text>\n",
       "</g>\n",
       "<!-- 45&#45;&#45;46 -->\n",
       "<g id=\"edge46\" class=\"edge\">\n",
       "<title>45--46</title>\n",
       "<path fill=\"none\" stroke=\"black\" d=\"M1263,-215C1263,-215 1230.6,-194.94 1206.04,-179.74\"/>\n",
       "</g>\n",
       "<!-- 49 -->\n",
       "<g id=\"node50\" class=\"node\">\n",
       "<title>49</title>\n",
       "<text text-anchor=\"middle\" x=\"1251\" y=\"-158.3\" font-family=\"Courier,monospace\" font-size=\"14.00\" fill=\"#008040\">Gt</text>\n",
       "</g>\n",
       "<!-- 45&#45;&#45;49 -->\n",
       "<g id=\"edge49\" class=\"edge\">\n",
       "<title>45--49</title>\n",
       "<path fill=\"none\" stroke=\"black\" d=\"M1263,-215C1263,-215 1258.43,-195.19 1254.93,-180.03\"/>\n",
       "</g>\n",
       "<!-- 50 -->\n",
       "<g id=\"node51\" class=\"node\">\n",
       "<title>50</title>\n",
       "<text text-anchor=\"start\" x=\"1306\" y=\"-159.3\" font-family=\"Courier,monospace\" font-weight=\"bold\" font-size=\"14.00\" fill=\"#004080\">Name</text>\n",
       "</g>\n",
       "<!-- 45&#45;&#45;50 -->\n",
       "<g id=\"edge50\" class=\"edge\">\n",
       "<title>45--50</title>\n",
       "<path fill=\"none\" stroke=\"black\" d=\"M1263,-215C1263,-215 1285.86,-195.19 1303.35,-180.03\"/>\n",
       "</g>\n",
       "<!-- 47 -->\n",
       "<g id=\"node48\" class=\"node\">\n",
       "<title>47</title>\n",
       "<text text-anchor=\"middle\" x=\"1107\" y=\"-86.3\" font-family=\"Courier,monospace\" font-size=\"14.00\" fill=\"#008040\">&quot;x&quot;</text>\n",
       "</g>\n",
       "<!-- 46&#45;&#45;47 -->\n",
       "<g id=\"edge47\" class=\"edge\">\n",
       "<title>46--47</title>\n",
       "<path fill=\"none\" stroke=\"black\" d=\"M1171,-143C1171,-143 1146.62,-123.19 1127.96,-108.03\"/>\n",
       "</g>\n",
       "<!-- 48 -->\n",
       "<g id=\"node49\" class=\"node\">\n",
       "<title>48</title>\n",
       "<text text-anchor=\"middle\" x=\"1179\" y=\"-86.3\" font-family=\"Courier,monospace\" font-size=\"14.00\" fill=\"#008040\">Load</text>\n",
       "</g>\n",
       "<!-- 46&#45;&#45;48 -->\n",
       "<g id=\"edge48\" class=\"edge\">\n",
       "<title>46--48</title>\n",
       "<path fill=\"none\" stroke=\"black\" d=\"M1171,-143C1171,-143 1174.05,-123.19 1176.38,-108.03\"/>\n",
       "</g>\n",
       "<!-- 51 -->\n",
       "<g id=\"node52\" class=\"node\">\n",
       "<title>51</title>\n",
       "<text text-anchor=\"middle\" x=\"1251\" y=\"-86.3\" font-family=\"Courier,monospace\" font-size=\"14.00\" fill=\"#008040\">&quot;y&quot;</text>\n",
       "</g>\n",
       "<!-- 50&#45;&#45;51 -->\n",
       "<g id=\"edge51\" class=\"edge\">\n",
       "<title>50--51</title>\n",
       "<path fill=\"none\" stroke=\"black\" d=\"M1315,-143C1315,-143 1290.62,-123.19 1271.96,-108.03\"/>\n",
       "</g>\n",
       "<!-- 52 -->\n",
       "<g id=\"node53\" class=\"node\">\n",
       "<title>52</title>\n",
       "<text text-anchor=\"middle\" x=\"1323\" y=\"-86.3\" font-family=\"Courier,monospace\" font-size=\"14.00\" fill=\"#008040\">Load</text>\n",
       "</g>\n",
       "<!-- 50&#45;&#45;52 -->\n",
       "<g id=\"edge52\" class=\"edge\">\n",
       "<title>50--52</title>\n",
       "<path fill=\"none\" stroke=\"black\" d=\"M1315,-143C1315,-143 1318.05,-123.19 1320.38,-108.03\"/>\n",
       "</g>\n",
       "<!-- 54 -->\n",
       "<g id=\"node55\" class=\"node\">\n",
       "<title>54</title>\n",
       "<text text-anchor=\"start\" x=\"1378\" y=\"-159.3\" font-family=\"Courier,monospace\" font-weight=\"bold\" font-size=\"14.00\" fill=\"#004080\">Name</text>\n",
       "</g>\n",
       "<!-- 53&#45;&#45;54 -->\n",
       "<g id=\"edge54\" class=\"edge\">\n",
       "<title>53--54</title>\n",
       "<path fill=\"none\" stroke=\"black\" d=\"M1384.46,-215.7C1386.63,-204.85 1389.42,-190.92 1391.58,-180.1\"/>\n",
       "</g>\n",
       "<!-- 55 -->\n",
       "<g id=\"node56\" class=\"node\">\n",
       "<title>55</title>\n",
       "<text text-anchor=\"middle\" x=\"1395\" y=\"-86.3\" font-family=\"Courier,monospace\" font-size=\"14.00\" fill=\"#008040\">&quot;y&quot;</text>\n",
       "</g>\n",
       "<!-- 54&#45;&#45;55 -->\n",
       "<g id=\"edge55\" class=\"edge\">\n",
       "<title>54--55</title>\n",
       "<path fill=\"none\" stroke=\"black\" d=\"M1403,-143C1403,-143 1399.95,-123.19 1397.62,-108.03\"/>\n",
       "</g>\n",
       "<!-- 56 -->\n",
       "<g id=\"node57\" class=\"node\">\n",
       "<title>56</title>\n",
       "<text text-anchor=\"middle\" x=\"1467\" y=\"-86.3\" font-family=\"Courier,monospace\" font-size=\"14.00\" fill=\"#008040\">Load</text>\n",
       "</g>\n",
       "<!-- 54&#45;&#45;56 -->\n",
       "<g id=\"edge56\" class=\"edge\">\n",
       "<title>54--56</title>\n",
       "<path fill=\"none\" stroke=\"black\" d=\"M1403,-143C1403,-143 1427.38,-123.19 1446.04,-108.03\"/>\n",
       "</g>\n",
       "<!-- 58 -->\n",
       "<g id=\"node59\" class=\"node\">\n",
       "<title>58</title>\n",
       "<text text-anchor=\"start\" x=\"1548\" y=\"-159.3\" font-family=\"Courier,monospace\" font-weight=\"bold\" font-size=\"14.00\" fill=\"#004080\">Compare</text>\n",
       "</g>\n",
       "<!-- 57&#45;&#45;58 -->\n",
       "<g id=\"edge58\" class=\"edge\">\n",
       "<title>57--58</title>\n",
       "<path fill=\"none\" stroke=\"black\" d=\"M1561,-215C1561,-215 1567.09,-195.19 1571.76,-180.03\"/>\n",
       "</g>\n",
       "<!-- 66 -->\n",
       "<g id=\"node67\" class=\"node\">\n",
       "<title>66</title>\n",
       "<text text-anchor=\"start\" x=\"1685\" y=\"-159.3\" font-family=\"Courier,monospace\" font-weight=\"bold\" font-size=\"14.00\" fill=\"#004080\">Return</text>\n",
       "</g>\n",
       "<!-- 57&#45;&#45;66 -->\n",
       "<g id=\"edge66\" class=\"edge\">\n",
       "<title>57--66</title>\n",
       "<path fill=\"none\" stroke=\"black\" d=\"M1561,-215C1561,-215 1633.04,-189.86 1676.93,-174.54\"/>\n",
       "</g>\n",
       "<!-- 59 -->\n",
       "<g id=\"node60\" class=\"node\">\n",
       "<title>59</title>\n",
       "<text text-anchor=\"start\" x=\"1522\" y=\"-87.3\" font-family=\"Courier,monospace\" font-weight=\"bold\" font-size=\"14.00\" fill=\"#004080\">Name</text>\n",
       "</g>\n",
       "<!-- 58&#45;&#45;59 -->\n",
       "<g id=\"edge59\" class=\"edge\">\n",
       "<title>58--59</title>\n",
       "<path fill=\"none\" stroke=\"black\" d=\"M1583,-143C1583,-143 1566.24,-123.19 1553.41,-108.03\"/>\n",
       "</g>\n",
       "<!-- 62 -->\n",
       "<g id=\"node63\" class=\"node\">\n",
       "<title>62</title>\n",
       "<text text-anchor=\"middle\" x=\"1611\" y=\"-86.3\" font-family=\"Courier,monospace\" font-size=\"14.00\" fill=\"#008040\">Gt</text>\n",
       "</g>\n",
       "<!-- 58&#45;&#45;62 -->\n",
       "<g id=\"edge62\" class=\"edge\">\n",
       "<title>58--62</title>\n",
       "<path fill=\"none\" stroke=\"black\" d=\"M1583,-143C1583,-143 1593.67,-123.19 1601.83,-108.03\"/>\n",
       "</g>\n",
       "<!-- 63 -->\n",
       "<g id=\"node64\" class=\"node\">\n",
       "<title>63</title>\n",
       "<text text-anchor=\"start\" x=\"1666\" y=\"-87.3\" font-family=\"Courier,monospace\" font-weight=\"bold\" font-size=\"14.00\" fill=\"#004080\">Name</text>\n",
       "</g>\n",
       "<!-- 58&#45;&#45;63 -->\n",
       "<g id=\"edge63\" class=\"edge\">\n",
       "<title>58--63</title>\n",
       "<path fill=\"none\" stroke=\"black\" d=\"M1583,-143C1583,-143 1626.32,-120.47 1655.94,-105.07\"/>\n",
       "</g>\n",
       "<!-- 60 -->\n",
       "<g id=\"node61\" class=\"node\">\n",
       "<title>60</title>\n",
       "<text text-anchor=\"middle\" x=\"1467\" y=\"-14.3\" font-family=\"Courier,monospace\" font-size=\"14.00\" fill=\"#008040\">&quot;x&quot;</text>\n",
       "</g>\n",
       "<!-- 59&#45;&#45;60 -->\n",
       "<g id=\"edge60\" class=\"edge\">\n",
       "<title>59--60</title>\n",
       "<path fill=\"none\" stroke=\"black\" d=\"M1531,-71C1531,-71 1506.62,-51.19 1487.96,-36.03\"/>\n",
       "</g>\n",
       "<!-- 61 -->\n",
       "<g id=\"node62\" class=\"node\">\n",
       "<title>61</title>\n",
       "<text text-anchor=\"middle\" x=\"1539\" y=\"-14.3\" font-family=\"Courier,monospace\" font-size=\"14.00\" fill=\"#008040\">Load</text>\n",
       "</g>\n",
       "<!-- 59&#45;&#45;61 -->\n",
       "<g id=\"edge61\" class=\"edge\">\n",
       "<title>59--61</title>\n",
       "<path fill=\"none\" stroke=\"black\" d=\"M1531,-71C1531,-71 1534.05,-51.19 1536.38,-36.03\"/>\n",
       "</g>\n",
       "<!-- 64 -->\n",
       "<g id=\"node65\" class=\"node\">\n",
       "<title>64</title>\n",
       "<text text-anchor=\"middle\" x=\"1611\" y=\"-14.3\" font-family=\"Courier,monospace\" font-size=\"14.00\" fill=\"#008040\">&quot;z&quot;</text>\n",
       "</g>\n",
       "<!-- 63&#45;&#45;64 -->\n",
       "<g id=\"edge64\" class=\"edge\">\n",
       "<title>63--64</title>\n",
       "<path fill=\"none\" stroke=\"black\" d=\"M1675,-71C1675,-71 1650.62,-51.19 1631.96,-36.03\"/>\n",
       "</g>\n",
       "<!-- 65 -->\n",
       "<g id=\"node66\" class=\"node\">\n",
       "<title>65</title>\n",
       "<text text-anchor=\"middle\" x=\"1683\" y=\"-14.3\" font-family=\"Courier,monospace\" font-size=\"14.00\" fill=\"#008040\">Load</text>\n",
       "</g>\n",
       "<!-- 63&#45;&#45;65 -->\n",
       "<g id=\"edge65\" class=\"edge\">\n",
       "<title>63--65</title>\n",
       "<path fill=\"none\" stroke=\"black\" d=\"M1675,-71C1675,-71 1678.05,-51.19 1680.38,-36.03\"/>\n",
       "</g>\n",
       "<!-- 67 -->\n",
       "<g id=\"node68\" class=\"node\">\n",
       "<title>67</title>\n",
       "<text text-anchor=\"start\" x=\"1738\" y=\"-87.3\" font-family=\"Courier,monospace\" font-weight=\"bold\" font-size=\"14.00\" fill=\"#004080\">Name</text>\n",
       "</g>\n",
       "<!-- 66&#45;&#45;67 -->\n",
       "<g id=\"edge67\" class=\"edge\">\n",
       "<title>66--67</title>\n",
       "<path fill=\"none\" stroke=\"black\" d=\"M1721.12,-143.7C1728.1,-132.85 1737.05,-118.92 1744,-108.1\"/>\n",
       "</g>\n",
       "<!-- 68 -->\n",
       "<g id=\"node69\" class=\"node\">\n",
       "<title>68</title>\n",
       "<text text-anchor=\"middle\" x=\"1755\" y=\"-14.3\" font-family=\"Courier,monospace\" font-size=\"14.00\" fill=\"#008040\">&quot;x&quot;</text>\n",
       "</g>\n",
       "<!-- 67&#45;&#45;68 -->\n",
       "<g id=\"edge68\" class=\"edge\">\n",
       "<title>67--68</title>\n",
       "<path fill=\"none\" stroke=\"black\" d=\"M1763,-71C1763,-71 1759.95,-51.19 1757.62,-36.03\"/>\n",
       "</g>\n",
       "<!-- 69 -->\n",
       "<g id=\"node70\" class=\"node\">\n",
       "<title>69</title>\n",
       "<text text-anchor=\"middle\" x=\"1827\" y=\"-14.3\" font-family=\"Courier,monospace\" font-size=\"14.00\" fill=\"#008040\">Load</text>\n",
       "</g>\n",
       "<!-- 67&#45;&#45;69 -->\n",
       "<g id=\"edge69\" class=\"edge\">\n",
       "<title>67--69</title>\n",
       "<path fill=\"none\" stroke=\"black\" d=\"M1763,-71C1763,-71 1787.38,-51.19 1806.04,-36.03\"/>\n",
       "</g>\n",
       "<!-- 71 -->\n",
       "<g id=\"node72\" class=\"node\">\n",
       "<title>71</title>\n",
       "<text text-anchor=\"start\" x=\"1597\" y=\"-303.3\" font-family=\"Courier,monospace\" font-weight=\"bold\" font-size=\"14.00\" fill=\"#004080\">Name</text>\n",
       "</g>\n",
       "<!-- 70&#45;&#45;71 -->\n",
       "<g id=\"edge71\" class=\"edge\">\n",
       "<title>70--71</title>\n",
       "<path fill=\"none\" stroke=\"black\" d=\"M1187.08,-371.97C1273.91,-358.75 1507.11,-323.27 1586.84,-311.13\"/>\n",
       "</g>\n",
       "<!-- 72 -->\n",
       "<g id=\"node73\" class=\"node\">\n",
       "<title>72</title>\n",
       "<text text-anchor=\"middle\" x=\"1614\" y=\"-230.3\" font-family=\"Courier,monospace\" font-size=\"14.00\" fill=\"#008040\">&quot;z&quot;</text>\n",
       "</g>\n",
       "<!-- 71&#45;&#45;72 -->\n",
       "<g id=\"edge72\" class=\"edge\">\n",
       "<title>71--72</title>\n",
       "<path fill=\"none\" stroke=\"black\" d=\"M1622,-287C1622,-287 1618.95,-267.19 1616.62,-252.03\"/>\n",
       "</g>\n",
       "<!-- 73 -->\n",
       "<g id=\"node74\" class=\"node\">\n",
       "<title>73</title>\n",
       "<text text-anchor=\"middle\" x=\"1686\" y=\"-230.3\" font-family=\"Courier,monospace\" font-size=\"14.00\" fill=\"#008040\">Load</text>\n",
       "</g>\n",
       "<!-- 71&#45;&#45;73 -->\n",
       "<g id=\"edge73\" class=\"edge\">\n",
       "<title>71--73</title>\n",
       "<path fill=\"none\" stroke=\"black\" d=\"M1622,-287C1622,-287 1646.38,-267.19 1665.04,-252.03\"/>\n",
       "</g>\n",
       "</g>\n",
       "</svg>"
      ],
      "text/plain": [
       "<IPython.core.display.SVG object>"
      ]
     },
     "metadata": {},
     "output_type": "display_data"
    }
   ],
   "source": [
    "show_ast(middle_tree())"
   ]
  },
  {
   "cell_type": "markdown",
   "metadata": {
    "slideshow": {
     "slide_type": "fragment"
    }
   },
   "source": [
    " You see that it consists of one function definition (`FunctionDef`) with three `arguments` and two statements – one `If` and one `Return`. Each `If` subtree has three branches – one for the condition (`test`), one for the body to be executed if the condition is true (`body`), and one for the `else` case (`orelse`). The `body` and `orelse` branches again are lists of statements."
   ]
  },
  {
   "cell_type": "markdown",
   "metadata": {
    "slideshow": {
     "slide_type": "fragment"
    }
   },
   "source": [
    "An AST can also be shown as text, which is more compact, yet reveals more information. `ast.dump()` gives not only the class names of elements, but also how they are constructed – actually, the whole expression can be used to construct an AST."
   ]
  },
  {
   "cell_type": "code",
   "execution_count": 37,
   "metadata": {
    "slideshow": {
     "slide_type": "subslide"
    }
   },
   "outputs": [
    {
     "name": "stdout",
     "output_type": "stream",
     "text": [
      "Module(body=[FunctionDef(name='middle', args=arguments(posonlyargs=[], args=[arg(arg='x', annotation=None, type_comment=None), arg(arg='y', annotation=None, type_comment=None), arg(arg='z', annotation=None, type_comment=None)], vararg=None, kwonlyargs=[], kw_defaults=[], kwarg=None, defaults=[]), body=[If(test=Compare(left=Name(id='y', ctx=Load()), ops=[Lt()], comparators=[Name(id='z', ctx=Load())]), body=[If(test=Compare(left=Name(id='x', ctx=Load()), ops=[Lt()], comparators=[Name(id='y', ctx=Load())]), body=[Return(value=Name(id='y', ctx=Load()))], orelse=[If(test=Compare(left=Name(id='x', ctx=Load()), ops=[Lt()], comparators=[Name(id='z', ctx=Load())]), body=[Return(value=Name(id='y', ctx=Load()))], orelse=[])])], orelse=[If(test=Compare(left=Name(id='x', ctx=Load()), ops=[Gt()], comparators=[Name(id='y', ctx=Load())]), body=[Return(value=Name(id='y', ctx=Load()))], orelse=[If(test=Compare(left=Name(id='x', ctx=Load()), ops=[Gt()], comparators=[Name(id='z', ctx=Load())]), body=[Return(value=Name(id='x', ctx=Load()))], orelse=[])])]), Return(value=Name(id='z', ctx=Load()))], decorator_list=[], returns=None, type_comment=None)], type_ignores=[])\n"
     ]
    }
   ],
   "source": [
    "print(ast.dump(middle_tree()))"
   ]
  },
  {
   "cell_type": "markdown",
   "metadata": {
    "slideshow": {
     "slide_type": "fragment"
    }
   },
   "source": [
    "This is the path to the first `return` statement:"
   ]
  },
  {
   "cell_type": "code",
   "execution_count": 38,
   "metadata": {
    "slideshow": {
     "slide_type": "fragment"
    }
   },
   "outputs": [
    {
     "data": {
      "text/plain": [
       "\"Return(value=Name(id='y', ctx=Load()))\""
      ]
     },
     "execution_count": 38,
     "metadata": {},
     "output_type": "execute_result"
    }
   ],
   "source": [
    "ast.dump(middle_tree().body[0].body[0].body[0].body[0])"
   ]
  },
  {
   "cell_type": "markdown",
   "metadata": {
    "slideshow": {
     "slide_type": "subslide"
    }
   },
   "source": [
    "### Picking Statements"
   ]
  },
  {
   "cell_type": "markdown",
   "metadata": {
    "slideshow": {
     "slide_type": "fragment"
    }
   },
   "source": [
    "For our mutation operators, we want to use statements from the program itself. Hence, we need a means to find those very statements. The `StatementVisitor` class iterates through an AST, adding all statements to its `statements` list it finds in function definitions. To do so, it subclasses the Python `ast` `NodeVisitor` class, described in the [official Python `ast` reference](http://docs.python.org/3/library/ast)."
   ]
  },
  {
   "cell_type": "code",
   "execution_count": 39,
   "metadata": {
    "slideshow": {
     "slide_type": "skip"
    }
   },
   "outputs": [],
   "source": [
    "from ast import NodeVisitor"
   ]
  },
  {
   "cell_type": "code",
   "execution_count": 40,
   "metadata": {
    "slideshow": {
     "slide_type": "subslide"
    }
   },
   "outputs": [],
   "source": [
    "class StatementVisitor(NodeVisitor):\n",
    "    \"\"\"Visit all statements within function defs in an AST\"\"\"\n",
    "    def __init__(self):\n",
    "        self.statements = []\n",
    "        self.func_name = None\n",
    "        self.statements_seen = set()\n",
    "        super().__init__()\n",
    "\n",
    "    def add_statements(self, node, attr):\n",
    "        elems = getattr(node, attr, [])\n",
    "        if not isinstance(elems, list):\n",
    "            elems = [elems]\n",
    "\n",
    "        for elem in elems:\n",
    "            stmt = (elem, self.func_name)\n",
    "            if stmt in self.statements_seen:\n",
    "                continue\n",
    "\n",
    "            self.statements.append(stmt)\n",
    "            self.statements_seen.add(stmt)\n",
    "\n",
    "    def visit_node(self, node):\n",
    "        # Any node other than the ones listed below\n",
    "        self.add_statements(node, 'body')\n",
    "        self.add_statements(node, 'orelse')\n",
    "\n",
    "    def visit_Module(self, node):\n",
    "        # Module children are defs, classes and globals - don't add\n",
    "        super().generic_visit(node)\n",
    "\n",
    "    def visit_ClassDef(self, node):\n",
    "        # Class children are defs and globals - don't add\n",
    "        super().generic_visit(node)\n",
    "\n",
    "    def generic_visit(self, node):\n",
    "        self.visit_node(node)\n",
    "        super().generic_visit(node)\n",
    "\n",
    "    def visit_FunctionDef(self, node):\n",
    "        if self.func_name is None:\n",
    "            self.func_name = node.name\n",
    "\n",
    "        self.visit_node(node)\n",
    "        super().generic_visit(node)\n",
    "        self.func_name = None\n",
    "\n",
    "    def visit_AsyncFunctionDef(self, node):\n",
    "        return self.visit_FunctionDef(self, node)"
   ]
  },
  {
   "cell_type": "markdown",
   "metadata": {
    "slideshow": {
     "slide_type": "subslide"
    }
   },
   "source": [
    "The function `all_statements()` returns all statements in the given AST `tree`. If an `ast` class `tp` is given, it only returns instances of that class."
   ]
  },
  {
   "cell_type": "code",
   "execution_count": 41,
   "metadata": {
    "slideshow": {
     "slide_type": "fragment"
    }
   },
   "outputs": [],
   "source": [
    "def all_statements_and_functions(tree, tp=None):\n",
    "    visitor = StatementVisitor()\n",
    "    visitor.visit(tree)\n",
    "    statements = visitor.statements\n",
    "    if tp is not None:\n",
    "        statements = [s for s in statements if isinstance(s[0], tp)]\n",
    "\n",
    "    return statements"
   ]
  },
  {
   "cell_type": "code",
   "execution_count": 42,
   "metadata": {
    "slideshow": {
     "slide_type": "fragment"
    }
   },
   "outputs": [],
   "source": [
    "def all_statements(tree, tp=None):\n",
    "    return [stmt for stmt, func_name in all_statements_and_functions(tree, tp)]"
   ]
  },
  {
   "cell_type": "markdown",
   "metadata": {
    "slideshow": {
     "slide_type": "fragment"
    }
   },
   "source": [
    "Here are all the `return` statements in `middle()`:"
   ]
  },
  {
   "cell_type": "code",
   "execution_count": 43,
   "metadata": {
    "slideshow": {
     "slide_type": "subslide"
    }
   },
   "outputs": [
    {
     "data": {
      "text/plain": [
       "[<_ast.Return at 0x7f4c2b484820>,\n",
       " <_ast.Return at 0x7f4c2b4182b0>,\n",
       " <_ast.Return at 0x7f4c2b4845e0>,\n",
       " <_ast.Return at 0x7f4c2b4840a0>,\n",
       " <_ast.Return at 0x7f4c2b484df0>]"
      ]
     },
     "execution_count": 43,
     "metadata": {},
     "output_type": "execute_result"
    }
   ],
   "source": [
    "all_statements(middle_tree(), ast.Return)"
   ]
  },
  {
   "cell_type": "code",
   "execution_count": 44,
   "metadata": {
    "slideshow": {
     "slide_type": "fragment"
    }
   },
   "outputs": [
    {
     "data": {
      "text/plain": [
       "[(<_ast.If at 0x7f4c2b418e80>, 'middle'),\n",
       " (<_ast.If at 0x7f4c2b407040>, 'middle'),\n",
       " (<_ast.If at 0x7f4c2b4072e0>, 'middle'),\n",
       " (<_ast.If at 0x7f4c2b407190>, 'middle'),\n",
       " (<_ast.If at 0x7f4c2b407430>, 'middle')]"
      ]
     },
     "execution_count": 44,
     "metadata": {},
     "output_type": "execute_result"
    }
   ],
   "source": [
    "all_statements_and_functions(middle_tree(), ast.If)"
   ]
  },
  {
   "cell_type": "markdown",
   "metadata": {
    "slideshow": {
     "slide_type": "fragment"
    }
   },
   "source": [
    "We can randomly pick an element:"
   ]
  },
  {
   "cell_type": "code",
   "execution_count": 45,
   "metadata": {
    "slideshow": {
     "slide_type": "skip"
    }
   },
   "outputs": [],
   "source": [
    "import random"
   ]
  },
  {
   "cell_type": "code",
   "execution_count": 46,
   "metadata": {
    "slideshow": {
     "slide_type": "subslide"
    }
   },
   "outputs": [
    {
     "data": {
      "text/plain": [
       "'return y\\n'"
      ]
     },
     "execution_count": 46,
     "metadata": {},
     "output_type": "execute_result"
    }
   ],
   "source": [
    "random_node = random.choice(all_statements(middle_tree()))\n",
    "astor.to_source(random_node)"
   ]
  },
  {
   "cell_type": "markdown",
   "metadata": {
    "slideshow": {
     "slide_type": "subslide"
    }
   },
   "source": [
    "### Mutating Statements\n",
    "\n",
    "The main part in mutation, however, is to actually mutate the code of the program under test. To this end, we introduce a `StatementMutator` class – a subclass of `NodeTransformer`, described in the [official Python `ast` reference](http://docs.python.org/3/library/ast)."
   ]
  },
  {
   "cell_type": "markdown",
   "metadata": {
    "slideshow": {
     "slide_type": "fragment"
    }
   },
   "source": [
    "The constructor provides various keyword arguments to configure the mutator."
   ]
  },
  {
   "cell_type": "code",
   "execution_count": 47,
   "metadata": {
    "slideshow": {
     "slide_type": "skip"
    }
   },
   "outputs": [],
   "source": [
    "from ast import NodeTransformer"
   ]
  },
  {
   "cell_type": "code",
   "execution_count": 48,
   "metadata": {
    "slideshow": {
     "slide_type": "skip"
    }
   },
   "outputs": [],
   "source": [
    "import copy"
   ]
  },
  {
   "cell_type": "code",
   "execution_count": 49,
   "metadata": {
    "slideshow": {
     "slide_type": "subslide"
    }
   },
   "outputs": [],
   "source": [
    "class StatementMutator(NodeTransformer):\n",
    "    \"\"\"Mutate statements in an AST for automated repair.\"\"\"\n",
    "\n",
    "    def __init__(self, suspiciousness_func=None, source=None, log=False):\n",
    "        \"\"\"Constructor.\n",
    "`suspiciousness_func` is a function that takes a location\n",
    "  (function, line_number) and returns a suspiciousness value\n",
    "  between 0 and 1.0. If not given, all locations get the\n",
    "  same suspiciousness of 1.0.\n",
    "`source` is a list of statements to choose from.\"\"\"\n",
    "\n",
    "        super().__init__()\n",
    "        self.log = log\n",
    "\n",
    "        if suspiciousness_func is None:\n",
    "            def suspiciousness_func(location):\n",
    "                return 1.0\n",
    "\n",
    "        self.suspiciousness_func = suspiciousness_func\n",
    "\n",
    "        if source is None:\n",
    "            source = []\n",
    "        self.source = source\n",
    "#        print(f\"Set source to {self.source}\")\n",
    "\n",
    "        if self.log > 1:\n",
    "            for i, node in enumerate(self.source):\n",
    "                print(f\"Source for repairs #{i}:\")\n",
    "                print_content(astor.to_source(node), '.py')\n",
    "                print()\n",
    "                print()\n",
    "\n",
    "        self.mutations = 0"
   ]
  },
  {
   "cell_type": "markdown",
   "metadata": {
    "slideshow": {
     "slide_type": "subslide"
    }
   },
   "source": [
    "#### Choosing Suspicious Statements to Mutate\n",
    "\n",
    "We start with deciding which AST nodes to mutate. The method `node_suspiciousness()` returns the suspiciousness for a given node, by invoking the suspiciousness function `suspiciousness_func` given during initialization."
   ]
  },
  {
   "cell_type": "code",
   "execution_count": 50,
   "metadata": {
    "slideshow": {
     "slide_type": "skip"
    }
   },
   "outputs": [],
   "source": [
    "import warnings"
   ]
  },
  {
   "cell_type": "code",
   "execution_count": 51,
   "metadata": {
    "slideshow": {
     "slide_type": "subslide"
    }
   },
   "outputs": [],
   "source": [
    "class StatementMutator(StatementMutator):\n",
    "    def node_suspiciousness(self, stmt, func_name):\n",
    "        if not hasattr(stmt, 'lineno'):\n",
    "            warnings.warn(f\"{self.format_node(stmt)}: Expected line number\")\n",
    "            return 0.0\n",
    "\n",
    "        suspiciousness = self.suspiciousness_func((func_name, stmt.lineno))\n",
    "        if suspiciousness is None:  # not executed\n",
    "            return 0.0\n",
    "\n",
    "        return suspiciousness"
   ]
  },
  {
   "cell_type": "markdown",
   "metadata": {
    "slideshow": {
     "slide_type": "fragment"
    }
   },
   "source": [
    "The method `node_to_be_mutated()` picks a node (statement) to be mutated. It determines the suspiciousness of all statements, and invokes `random.choices()`, using the suspiciousness as weight. Unsuspicious statements (with zero weight) will not be chosen."
   ]
  },
  {
   "cell_type": "code",
   "execution_count": 52,
   "metadata": {
    "slideshow": {
     "slide_type": "subslide"
    }
   },
   "outputs": [],
   "source": [
    "class StatementMutator(StatementMutator):\n",
    "    def node_to_be_mutated(self, tree):\n",
    "        statements = all_statements_and_functions(tree)\n",
    "        assert len(statements) > 0, \"No statements\"\n",
    "\n",
    "        weights = [self.node_suspiciousness(stmt, func_name) \n",
    "                   for stmt, func_name in statements]\n",
    "        stmts = [stmt for stmt, func_name in statements]\n",
    "\n",
    "        if self.log > 1:\n",
    "            print(\"Weights:\")\n",
    "            for i, stmt in enumerate(statements):\n",
    "                node, func_name = stmt\n",
    "                print(f\"{weights[i]:.2} {self.format_node(node)}\")\n",
    "\n",
    "        if sum(weights) == 0.0:\n",
    "            # No suspicious line\n",
    "            return random.choice(stmts)\n",
    "        else:\n",
    "            return random.choices(stmts, weights=weights)[0]"
   ]
  },
  {
   "cell_type": "markdown",
   "metadata": {
    "slideshow": {
     "slide_type": "subslide"
    }
   },
   "source": [
    "#### Choosing a Mutation Method"
   ]
  },
  {
   "cell_type": "markdown",
   "metadata": {
    "slideshow": {
     "slide_type": "fragment"
    }
   },
   "source": [
    "The method `visit()` is invoked on all nodes. For nodes marked with a `mutate_me` attribute, it randomly chooses a mutation method (`choose_op()`) and then invokes it on the node.\n",
    "\n",
    "According to the rules of `NodeTransformer`, the mutation method can return\n",
    "\n",
    "* a new node or a list of nodes, replacing the current node;\n",
    "* `None`, deleting it; or\n",
    "* the node itself, keeping things as they are."
   ]
  },
  {
   "cell_type": "code",
   "execution_count": 53,
   "metadata": {
    "slideshow": {
     "slide_type": "skip"
    }
   },
   "outputs": [],
   "source": [
    "import re"
   ]
  },
  {
   "cell_type": "code",
   "execution_count": 54,
   "metadata": {
    "slideshow": {
     "slide_type": "fragment"
    }
   },
   "outputs": [],
   "source": [
    "RE_SPACE = re.compile(r'[ \\t\\n]+')"
   ]
  },
  {
   "cell_type": "code",
   "execution_count": 55,
   "metadata": {
    "slideshow": {
     "slide_type": "subslide"
    }
   },
   "outputs": [],
   "source": [
    "class StatementMutator(StatementMutator):\n",
    "    def choose_op(self):\n",
    "        return random.choice([self.insert, self.swap, self.delete])\n",
    "\n",
    "    def visit(self, node):\n",
    "        super().visit(node)  # Visits (and transforms?) children\n",
    "\n",
    "        if not node.mutate_me:\n",
    "            return node\n",
    "        \n",
    "        old_node = node\n",
    "        op = self.choose_op()\n",
    "        new_node = op(node)\n",
    "        self.mutations += 1\n",
    "\n",
    "        if self.log:\n",
    "            print(f\"{node.lineno:4}:default_{op.__name__ + ':':7} \"\n",
    "                  f\"{self.format_node(old_node)} \"\n",
    "                  f\"becomes {self.format_node(new_node)}\")\n",
    "\n",
    "        return new_node"
   ]
  },
  {
   "cell_type": "markdown",
   "metadata": {
    "slideshow": {
     "slide_type": "subslide"
    }
   },
   "source": [
    "#### Swapping Statements\n",
    "\n",
    "Our first mutator is `swap()`, which replaces the current node NODE by a random node found in `source` (using a newly defined `choose_statement()`).\n",
    "\n",
    "As a rule of thumb, we try to avoid inserting entire subtrees with all attached statements; and try to respect only the first line of a node. If the new node has the form \n",
    "\n",
    "```python\n",
    "if P:\n",
    "    BODY\n",
    "```\n",
    "\n",
    "we thus only insert \n",
    "\n",
    "```python\n",
    "if P: \n",
    "    pass\n",
    "```\n",
    "\n",
    "since the statements in BODY have a later chance to get inserted. The same holds for all constructs that have a BODY, i.e. `while`, `for`, `try`, `with`, and more."
   ]
  },
  {
   "cell_type": "code",
   "execution_count": 56,
   "metadata": {
    "slideshow": {
     "slide_type": "subslide"
    }
   },
   "outputs": [],
   "source": [
    "class StatementMutator(StatementMutator):\n",
    "    def choose_statement(self):\n",
    "        return copy.deepcopy(random.choice(self.source))"
   ]
  },
  {
   "cell_type": "code",
   "execution_count": 57,
   "metadata": {
    "slideshow": {
     "slide_type": "subslide"
    }
   },
   "outputs": [],
   "source": [
    "class StatementMutator(StatementMutator):\n",
    "    def swap(self, node):\n",
    "        \"\"\"Replace `node` with a random node from `source`\"\"\"\n",
    "        new_node = self.choose_statement()\n",
    "\n",
    "        if isinstance(new_node, ast.stmt):\n",
    "            # The source `if P: X` is added as `if P: pass`\n",
    "            if hasattr(new_node, 'body'):\n",
    "                new_node.body = [ast.Pass()]\n",
    "            if hasattr(new_node, 'orelse'):\n",
    "                new_node.orelse = []\n",
    "            if hasattr(new_node, 'finalbody'):\n",
    "                new_node.finalbody = []\n",
    "\n",
    "        # ast.copy_location(new_node, node)\n",
    "        return new_node"
   ]
  },
  {
   "cell_type": "markdown",
   "metadata": {
    "slideshow": {
     "slide_type": "subslide"
    }
   },
   "source": [
    "#### Inserting Statements\n",
    "\n",
    "Our next mutator is `insert()`, which randomly chooses some node from `source` and inserts it after the current node NODE. (If NODE is a `return` statement, then we insert the new node _before_ NODE.)\n",
    "\n",
    "If the statement to be inserted has the form\n",
    "\n",
    "```python\n",
    "if P:\n",
    "    BODY\n",
    "```\n",
    "\n",
    "we only insert the \"header\" of the `if`, resulting in\n",
    "\n",
    "```python\n",
    "if P: \n",
    "    NODE\n",
    "```\n",
    "\n",
    "Again, this applies to all constructs that have a BODY, i.e. `while`, `for`, `try`, `with`, and more."
   ]
  },
  {
   "cell_type": "code",
   "execution_count": 58,
   "metadata": {
    "slideshow": {
     "slide_type": "subslide"
    }
   },
   "outputs": [],
   "source": [
    "class StatementMutator(StatementMutator):\n",
    "    def insert(self, node):\n",
    "        \"\"\"Insert a random node from `source` after `node`\"\"\"\n",
    "        new_node = self.choose_statement()\n",
    "\n",
    "        if isinstance(new_node, ast.stmt) and hasattr(new_node, 'body'):\n",
    "            # Inserting `if P: X` as `if P:`\n",
    "            new_node.body = [node]\n",
    "            if hasattr(new_node, 'orelse'):\n",
    "                new_node.orelse = []\n",
    "            if hasattr(new_node, 'finalbody'):\n",
    "                new_node.finalbody = []\n",
    "      #      ast.copy_location(new_node, node)\n",
    "            return new_node\n",
    "\n",
    "        # Only insert before `return`, not after it\n",
    "        if isinstance(node, ast.Return):\n",
    "            if isinstance(new_node, ast.Return):\n",
    "                return new_node\n",
    "            else:\n",
    "                return [new_node, node]\n",
    "\n",
    "        return [node, new_node]"
   ]
  },
  {
   "cell_type": "markdown",
   "metadata": {
    "slideshow": {
     "slide_type": "subslide"
    }
   },
   "source": [
    "#### Deleting Statements\n",
    "\n",
    "Our last mutator is `delete()`, which deletes the current node NODE. The standard case is to replace NODE by a `pass` statement.\n",
    "\n",
    "If the statement to be deleted has the form\n",
    "\n",
    "```python\n",
    "if P:\n",
    "    BODY\n",
    "```\n",
    "\n",
    "we only delete the \"header\" of the `if`, resulting in\n",
    "\n",
    "```python\n",
    "BODY\n",
    "```\n",
    "\n",
    "Again, this applies to all constructs that have a BODY, i.e. `while`, `for`, `try`, `with`, and more; it also selects a random branch, including `else` branches."
   ]
  },
  {
   "cell_type": "code",
   "execution_count": 59,
   "metadata": {
    "slideshow": {
     "slide_type": "subslide"
    }
   },
   "outputs": [],
   "source": [
    "class StatementMutator(StatementMutator):\n",
    "    def delete(self, node):\n",
    "        \"\"\"Delete `node`.\"\"\"\n",
    "\n",
    "        branches = [attr for attr in ['body', 'orelse', 'finalbody']\n",
    "                    if hasattr(node, attr) and getattr(node, attr)]\n",
    "        if branches:\n",
    "            # Replace `if P: S` by `S`\n",
    "            branch = random.choice(branches)\n",
    "            new_node = getattr(node, branch)\n",
    "            return new_node\n",
    "\n",
    "        if isinstance(node, ast.stmt):\n",
    "            # Avoid empty bodies; make this a `pass` statement\n",
    "            new_node = ast.Pass()\n",
    "            ast.copy_location(new_node, node)\n",
    "            return new_node\n",
    "\n",
    "        return None  # Just delete"
   ]
  },
  {
   "cell_type": "code",
   "execution_count": 60,
   "metadata": {
    "slideshow": {
     "slide_type": "skip"
    }
   },
   "outputs": [],
   "source": [
    "from bookutils import quiz"
   ]
  },
  {
   "cell_type": "code",
   "execution_count": 61,
   "metadata": {
    "slideshow": {
     "slide_type": "subslide"
    }
   },
   "outputs": [
    {
     "data": {
      "text/html": [
       "\n",
       "    \n",
       "    <script>\n",
       "    function answer(quiz_id) {\n",
       "        ans = 0;\n",
       "        for (i = 1;; i++) {\n",
       "            checkbox = document.getElementById(quiz_id + \"-\" + i.toString());\n",
       "            if (!checkbox)\n",
       "                break;\n",
       "            if (checkbox.checked)\n",
       "                ans |= (1 << i);\n",
       "        }\n",
       "        return ans;\n",
       "    }\n",
       "    function check_selection(quiz_id, correct_answer, multiple_choice) {\n",
       "        given_answer = answer(quiz_id);\n",
       "        if (given_answer == correct_answer)\n",
       "        {\n",
       "            document.getElementById(quiz_id + \"-submit\").value = \"Correct!\";\n",
       "            for (i = 1;; i++) {\n",
       "                checkbox = document.getElementById(quiz_id + \"-\" + i.toString());\n",
       "                label = document.getElementById(quiz_id + \"-\" + i.toString() + \"-label\")\n",
       "                if (!checkbox)\n",
       "                    break;\n",
       "    \n",
       "                if (checkbox.checked) {\n",
       "                    label.style.fontWeight = \"bold\";\n",
       "                }\n",
       "                else {\n",
       "                    label.style.textDecoration = \"line-through\";\n",
       "                }\n",
       "            }\n",
       "        }\n",
       "        else \n",
       "        {\n",
       "            document.getElementById(quiz_id + \"-submit\").value = \"Try again\";\n",
       "            if (!multiple_choice) {\n",
       "                for (i = 1;; i++) {\n",
       "                    checkbox = document.getElementById(quiz_id + \"-\" + i.toString());\n",
       "                    label = document.getElementById(quiz_id + \"-\" + i.toString() + \"-label\")\n",
       "\n",
       "                    if (!checkbox)\n",
       "                        break;\n",
       "                    if (checkbox.checked) {\n",
       "                        label.style.textDecoration = \"line-through\";\n",
       "                    }\n",
       "                }\n",
       "            }\n",
       "        }\n",
       "    }\n",
       "    function clear_selection(quiz_id) {\n",
       "        document.getElementById(quiz_id + \"-submit\").value = \"Submit\";\n",
       "    }\n",
       "    </script>\n",
       "    \n",
       "    <div class=\"quiz\">\n",
       "    <h3 class=\"quiz_title\">Quiz</h3>\n",
       "    <p>\n",
       "    <div class=\"quiz_question\">Why are statements replaced by <code>pass</code> rather than deleted?</div>\n",
       "    </p>\n",
       "    <p>\n",
       "    <div class=\"quiz_options\" title=\"Check all that apply.\">\n",
       "    \n",
       "        <input type=\"checkbox\" name=\"352038cc-67dd-11eb-ab87-3dcf47dda090\" id=\"352038cc-67dd-11eb-ab87-3dcf47dda090-1\" onclick=\"clear_selection('352038cc-67dd-11eb-ab87-3dcf47dda090')\">\n",
       "        <label id=\"352038cc-67dd-11eb-ab87-3dcf47dda090-1-label\" for=\"352038cc-67dd-11eb-ab87-3dcf47dda090-1\">Because <code>if P: pass</code> is valid Python, while <code>if P:</code> is not</label><br>\n",
       "    \n",
       "        <input type=\"checkbox\" name=\"352038cc-67dd-11eb-ab87-3dcf47dda090\" id=\"352038cc-67dd-11eb-ab87-3dcf47dda090-2\" onclick=\"clear_selection('352038cc-67dd-11eb-ab87-3dcf47dda090')\">\n",
       "        <label id=\"352038cc-67dd-11eb-ab87-3dcf47dda090-2-label\" for=\"352038cc-67dd-11eb-ab87-3dcf47dda090-2\">Because in Python, bodies for <code>if</code>, <code>while</code>, etc. cannot be empty</label><br>\n",
       "    \n",
       "        <input type=\"checkbox\" name=\"352038cc-67dd-11eb-ab87-3dcf47dda090\" id=\"352038cc-67dd-11eb-ab87-3dcf47dda090-3\" onclick=\"clear_selection('352038cc-67dd-11eb-ab87-3dcf47dda090')\">\n",
       "        <label id=\"352038cc-67dd-11eb-ab87-3dcf47dda090-3-label\" for=\"352038cc-67dd-11eb-ab87-3dcf47dda090-3\">Because a <code>pass</code> node makes a target for future mutations</label><br>\n",
       "    \n",
       "        <input type=\"checkbox\" name=\"352038cc-67dd-11eb-ab87-3dcf47dda090\" id=\"352038cc-67dd-11eb-ab87-3dcf47dda090-4\" onclick=\"clear_selection('352038cc-67dd-11eb-ab87-3dcf47dda090')\">\n",
       "        <label id=\"352038cc-67dd-11eb-ab87-3dcf47dda090-4-label\" for=\"352038cc-67dd-11eb-ab87-3dcf47dda090-4\">Because it causes the tests to pass</label><br>\n",
       "    \n",
       "    </div>\n",
       "    </p>\n",
       "    <input id=\"352038cc-67dd-11eb-ab87-3dcf47dda090-submit\" type=\"submit\" value=\"Submit\" onclick=\"check_selection('352038cc-67dd-11eb-ab87-3dcf47dda090', 14, 1)\">\n",
       "    </div>\n",
       "    "
      ],
      "text/plain": [
       "<IPython.core.display.HTML object>"
      ]
     },
     "execution_count": 61,
     "metadata": {},
     "output_type": "execute_result"
    }
   ],
   "source": [
    "quiz(\"Why are statements replaced by `pass` rather than deleted?\",\n",
    "     [\n",
    "         \"Because `if P: pass` is valid Python, while `if P:` is not\",\n",
    "         \"Because in Python, bodies for `if`, `while`, etc. cannot be empty\",\n",
    "         \"Because a `pass` node makes a target for future mutations\",\n",
    "         \"Because it causes the tests to pass\"\n",
    "     ],\n",
    "     [3 ^ n for n in range(3)]\n",
    "    )"
   ]
  },
  {
   "cell_type": "markdown",
   "metadata": {
    "slideshow": {
     "slide_type": "fragment"
    }
   },
   "source": [
    "Indeed, Python's `compile()` will fail if any of the bodies is an empty list. Also, it leaves us a statement that can be evolved further."
   ]
  },
  {
   "cell_type": "markdown",
   "metadata": {
    "slideshow": {
     "slide_type": "subslide"
    }
   },
   "source": [
    "#### Helpers\n",
    "\n",
    "For logging purposes, we introduce a helper function `format_node()` that returns a short string representation of the node."
   ]
  },
  {
   "cell_type": "code",
   "execution_count": 62,
   "metadata": {
    "slideshow": {
     "slide_type": "subslide"
    }
   },
   "outputs": [],
   "source": [
    "class StatementMutator(StatementMutator):\n",
    "    NODE_MAX_LENGTH = 40\n",
    "\n",
    "    def format_node(self, node):\n",
    "        \"\"\"Return a string representation for `node`.\"\"\"\n",
    "        if node is None:\n",
    "            return \"None\"\n",
    "\n",
    "        if isinstance(node, list):\n",
    "            return \"; \".join(self.format_node(elem) for elem in node)\n",
    "\n",
    "        s = RE_SPACE.sub(' ', astor.to_source(node)).strip()\n",
    "        if len(s) > self.NODE_MAX_LENGTH - len(\"...\"):\n",
    "            s = s[:self.NODE_MAX_LENGTH] + \"...\"\n",
    "        return repr(s)"
   ]
  },
  {
   "cell_type": "markdown",
   "metadata": {
    "slideshow": {
     "slide_type": "subslide"
    }
   },
   "source": [
    "#### All Together\n",
    "\n",
    "Let us now create the main entry point, which is `mutate()`. It picks the node to be mutated and marks it with a `mutate_me` attribute. By calling `visit()`, it then sets off the `NodeTransformer` transformation."
   ]
  },
  {
   "cell_type": "code",
   "execution_count": 63,
   "metadata": {
    "slideshow": {
     "slide_type": "subslide"
    }
   },
   "outputs": [],
   "source": [
    "class StatementMutator(StatementMutator):\n",
    "    def mutate(self, tree):\n",
    "        \"\"\"Mutate the given AST `tree` in place. Return mutated tree.\"\"\"\n",
    "\n",
    "        assert isinstance(tree, ast.AST)\n",
    "\n",
    "        new_tree = copy.deepcopy(tree)\n",
    "\n",
    "        if not self.source:\n",
    "            self.source = all_statements(new_tree)\n",
    "\n",
    "        for node in ast.walk(new_tree):\n",
    "            node.mutate_me = False\n",
    "\n",
    "        node = self.node_to_be_mutated(new_tree)\n",
    "        node.mutate_me = True\n",
    "\n",
    "        self.mutations = 0\n",
    "\n",
    "        new_tree = self.visit(new_tree)\n",
    "\n",
    "        if self.mutations == 0:\n",
    "            warnings.warn(\"No mutations found\")\n",
    "\n",
    "        ast.fix_missing_locations(new_tree)\n",
    "        return new_tree"
   ]
  },
  {
   "cell_type": "markdown",
   "metadata": {
    "slideshow": {
     "slide_type": "subslide"
    }
   },
   "source": [
    "Here are a number of transformations applied by `StatementMutator`:"
   ]
  },
  {
   "cell_type": "code",
   "execution_count": 64,
   "metadata": {
    "slideshow": {
     "slide_type": "fragment"
    }
   },
   "outputs": [
    {
     "name": "stdout",
     "output_type": "stream",
     "text": [
      "   9:default_insert: 'return y' becomes 'return y'\n",
      "   8:default_insert: 'if x > y: return y elif x > z: return x...' becomes 'if x < y: if x > y: return y elif x > z:...'\n",
      "  12:default_insert: 'return z' becomes 'if y < z: return z'\n",
      "   3:default_swap:   'if x < y: return y elif x < z: return y...' becomes 'return x'\n",
      "   3:default_swap:   'if x < y: return y elif x < z: return y...' becomes 'return z'\n",
      "   3:default_swap:   'if x < y: return y elif x < z: return y...' becomes 'return x'\n",
      "  11:default_swap:   'return x' becomes 'return y'\n",
      "  10:default_insert: 'if x > z: return x' becomes 'if x > z: return x'; 'return z'\n",
      "  12:default_delete: 'return z' becomes 'pass'\n",
      "   8:default_swap:   'if x > y: return y elif x > z: return x...' becomes 'if y < z: pass'\n"
     ]
    }
   ],
   "source": [
    "mutator = StatementMutator(log=True)\n",
    "for i in range(10):\n",
    "    new_tree = mutator.mutate(middle_tree())"
   ]
  },
  {
   "cell_type": "markdown",
   "metadata": {
    "slideshow": {
     "slide_type": "subslide"
    }
   },
   "source": [
    "This is the effect of the last mutator applied on `middle`:"
   ]
  },
  {
   "cell_type": "code",
   "execution_count": 65,
   "metadata": {
    "slideshow": {
     "slide_type": "fragment"
    }
   },
   "outputs": [
    {
     "name": "stdout",
     "output_type": "stream",
     "text": [
      "\u001b[34mdef\u001b[39;49;00m \u001b[32mmiddle\u001b[39;49;00m(x, y, z):\n",
      "    \u001b[34mif\u001b[39;49;00m y < z:\n",
      "        \u001b[34mif\u001b[39;49;00m x < y:\n",
      "            \u001b[34mreturn\u001b[39;49;00m y\n",
      "        \u001b[34melif\u001b[39;49;00m x < z:\n",
      "            \u001b[34mreturn\u001b[39;49;00m y\n",
      "    \u001b[34melif\u001b[39;49;00m y < z:\n",
      "        \u001b[34mpass\u001b[39;49;00m\n",
      "    \u001b[34mreturn\u001b[39;49;00m z"
     ]
    }
   ],
   "source": [
    "print_content(astor.to_source(new_tree), '.py')"
   ]
  },
  {
   "cell_type": "markdown",
   "metadata": {
    "slideshow": {
     "slide_type": "slide"
    }
   },
   "source": [
    "## Fitness\n",
    "\n",
    "Now that we can apply random mutations to code, let us find out how good these mutations are. Given our test suites for `middle`, we can check for a given code candidate how many of the previously passing test cases it passes, and how many of the failing test cases it passes. The more tests pass, the higher the _fitness_ of the candidate."
   ]
  },
  {
   "cell_type": "markdown",
   "metadata": {
    "slideshow": {
     "slide_type": "fragment"
    }
   },
   "source": [
    "Not all passing tests have the same value, though. We want to prevent _regressions_ – that is, having a fix that breaks a previously passing test. The values of `WEIGHT_PASSING` and `WEIGHT_FAILING` set the relative weight (or importance) of passing vs. failing tests; we see that keeping passing tests passing is far more important then fixing failing tests."
   ]
  },
  {
   "cell_type": "code",
   "execution_count": 66,
   "metadata": {
    "slideshow": {
     "slide_type": "subslide"
    }
   },
   "outputs": [],
   "source": [
    "WEIGHT_PASSING = 0.99\n",
    "WEIGHT_FAILING = 0.01"
   ]
  },
  {
   "cell_type": "code",
   "execution_count": 67,
   "metadata": {
    "slideshow": {
     "slide_type": "subslide"
    }
   },
   "outputs": [],
   "source": [
    "def middle_fitness(tree):\n",
    "    \"\"\"Compute fitness of a `middle()` candidate given in `tree`\"\"\"\n",
    "    original_middle = middle\n",
    "\n",
    "    try:\n",
    "        code = compile(tree, '<fitness>', 'exec')\n",
    "    except ValueError:\n",
    "        return 0  # Compilation error\n",
    "\n",
    "    exec(code, globals())\n",
    "\n",
    "    passing_passed = 0\n",
    "    failing_passed = 0\n",
    "\n",
    "    # Test how many of the passing runs pass\n",
    "    for x, y, z in MIDDLE_PASSING_TESTCASES:\n",
    "        try:\n",
    "            middle_test(x, y, z)\n",
    "            passing_passed += 1\n",
    "        except AssertionError:\n",
    "            pass\n",
    "\n",
    "    passing_ratio = passing_passed / len(MIDDLE_PASSING_TESTCASES)\n",
    "\n",
    "    # Test how many of the failing runs pass\n",
    "    for x, y, z in MIDDLE_FAILING_TESTCASES:\n",
    "        try:\n",
    "            middle_test(x, y, z)\n",
    "            failing_passed += 1\n",
    "        except AssertionError:\n",
    "            pass\n",
    "\n",
    "    failing_ratio = failing_passed / len(MIDDLE_FAILING_TESTCASES)\n",
    "\n",
    "    fitness = (WEIGHT_PASSING * passing_ratio +\n",
    "               WEIGHT_FAILING * failing_ratio)\n",
    "\n",
    "    globals()['middle'] = original_middle\n",
    "    return fitness"
   ]
  },
  {
   "cell_type": "markdown",
   "metadata": {
    "slideshow": {
     "slide_type": "subslide"
    }
   },
   "source": [
    "Our faulty `middle()` program has a fitness of `WEIGHT_PASSING` (99%), because it passes all the passing tests (but none of the failing ones)."
   ]
  },
  {
   "cell_type": "code",
   "execution_count": 68,
   "metadata": {
    "slideshow": {
     "slide_type": "fragment"
    }
   },
   "outputs": [
    {
     "data": {
      "text/plain": [
       "0.99"
      ]
     },
     "execution_count": 68,
     "metadata": {},
     "output_type": "execute_result"
    }
   ],
   "source": [
    "middle_fitness(middle_tree())"
   ]
  },
  {
   "cell_type": "markdown",
   "metadata": {
    "slideshow": {
     "slide_type": "fragment"
    }
   },
   "source": [
    "Our \"sort of fixed\" version of `middle()` gets a much lower fitness:"
   ]
  },
  {
   "cell_type": "code",
   "execution_count": 69,
   "metadata": {
    "slideshow": {
     "slide_type": "fragment"
    }
   },
   "outputs": [
    {
     "data": {
      "text/plain": [
       "0.4159"
      ]
     },
     "execution_count": 69,
     "metadata": {},
     "output_type": "execute_result"
    }
   ],
   "source": [
    "middle_fitness(ast.parse(\"def middle(x, y, z): return x\"))"
   ]
  },
  {
   "cell_type": "markdown",
   "metadata": {
    "slideshow": {
     "slide_type": "fragment"
    }
   },
   "source": [
    "In the [chapter on statistical debugging](StatisticalDebugger), we also defined a fixed version of `middle()`. This gets a fitness of 1.0, passing all tests. (We won't use this fixed version for automated repairs.)"
   ]
  },
  {
   "cell_type": "code",
   "execution_count": 70,
   "metadata": {
    "slideshow": {
     "slide_type": "skip"
    }
   },
   "outputs": [],
   "source": [
    "from StatisticalDebugger import middle_fixed"
   ]
  },
  {
   "cell_type": "code",
   "execution_count": 71,
   "metadata": {
    "slideshow": {
     "slide_type": "fragment"
    }
   },
   "outputs": [],
   "source": [
    "middle_fixed_source = \\\n",
    "    inspect.getsource(middle_fixed).replace('middle_fixed', 'middle').strip()"
   ]
  },
  {
   "cell_type": "code",
   "execution_count": 72,
   "metadata": {
    "slideshow": {
     "slide_type": "subslide"
    }
   },
   "outputs": [
    {
     "data": {
      "text/plain": [
       "1.0"
      ]
     },
     "execution_count": 72,
     "metadata": {},
     "output_type": "execute_result"
    }
   ],
   "source": [
    "middle_fitness(ast.parse(middle_fixed_source))"
   ]
  },
  {
   "cell_type": "markdown",
   "metadata": {
    "slideshow": {
     "slide_type": "slide"
    }
   },
   "source": [
    "## Population\n",
    "\n",
    "We now set up a _population_ of fix candidates to evolve over time.  A higher population size will yield more candidates to check, but also need more time to test; a lower population size will yield fewer candidates, but allow for more evolution steps.  We choose a population size of 40 (from \\cite{LeGoues2012}). "
   ]
  },
  {
   "cell_type": "code",
   "execution_count": 73,
   "metadata": {
    "slideshow": {
     "slide_type": "fragment"
    }
   },
   "outputs": [],
   "source": [
    "POPULATION_SIZE = 90\n",
    "middle_mutator = StatementMutator()"
   ]
  },
  {
   "cell_type": "code",
   "execution_count": 74,
   "metadata": {
    "slideshow": {
     "slide_type": "fragment"
    }
   },
   "outputs": [],
   "source": [
    "MIDDLE_POPULATION = [middle_tree()] + \\\n",
    "    [middle_mutator.mutate(middle_tree()) for i in range(POPULATION_SIZE - 1)]"
   ]
  },
  {
   "cell_type": "markdown",
   "metadata": {
    "slideshow": {
     "slide_type": "fragment"
    }
   },
   "source": [
    "We sort the fix candidates according to their fitness. This actually runs all tests on all candidates."
   ]
  },
  {
   "cell_type": "code",
   "execution_count": 75,
   "metadata": {
    "slideshow": {
     "slide_type": "fragment"
    }
   },
   "outputs": [],
   "source": [
    "MIDDLE_POPULATION.sort(key=middle_fitness, reverse=True)"
   ]
  },
  {
   "cell_type": "markdown",
   "metadata": {
    "slideshow": {
     "slide_type": "subslide"
    }
   },
   "source": [
    "The candidate with the highest fitness is still our original (faulty) `middle()` code:"
   ]
  },
  {
   "cell_type": "code",
   "execution_count": 76,
   "metadata": {
    "slideshow": {
     "slide_type": "subslide"
    }
   },
   "outputs": [
    {
     "name": "stdout",
     "output_type": "stream",
     "text": [
      "def middle(x, y, z):\n",
      "    if y < z:\n",
      "        if x < y:\n",
      "            return y\n",
      "        elif x < z:\n",
      "            return x\n",
      "    elif x > y:\n",
      "        return y\n",
      "    elif x > z:\n",
      "        return x\n",
      "    return z\n",
      " 1.0\n"
     ]
    }
   ],
   "source": [
    "print(astor.to_source(MIDDLE_POPULATION[0]),\n",
    "      middle_fitness(MIDDLE_POPULATION[0]))"
   ]
  },
  {
   "cell_type": "markdown",
   "metadata": {
    "slideshow": {
     "slide_type": "subslide"
    }
   },
   "source": [
    "At the other end of the spectrum, the candidate with the lowest fitness has some vital functionality removed:"
   ]
  },
  {
   "cell_type": "code",
   "execution_count": 77,
   "metadata": {
    "slideshow": {
     "slide_type": "fragment"
    }
   },
   "outputs": [
    {
     "name": "stdout",
     "output_type": "stream",
     "text": [
      "def middle(x, y, z):\n",
      "    if x < y:\n",
      "        return y\n",
      "    elif x < z:\n",
      "        return y\n",
      "    return z\n",
      " 0.3564\n"
     ]
    }
   ],
   "source": [
    "print(astor.to_source(MIDDLE_POPULATION[-1]),\n",
    "      middle_fitness(MIDDLE_POPULATION[-1]))"
   ]
  },
  {
   "cell_type": "markdown",
   "metadata": {
    "slideshow": {
     "slide_type": "slide"
    }
   },
   "source": [
    "## Evolution\n",
    "\n",
    "To evolve our population of candidates, we fill up the population with mutations created from the population, using a `StatementMutator` as described above to create these mutations. Then we reduce the population to its original size, keeping the fittest candidates."
   ]
  },
  {
   "cell_type": "code",
   "execution_count": 78,
   "metadata": {
    "slideshow": {
     "slide_type": "subslide"
    }
   },
   "outputs": [],
   "source": [
    "def evolve_middle():\n",
    "    global MIDDLE_POPULATION\n",
    "\n",
    "    source = all_statements(middle_tree())\n",
    "    mutator = StatementMutator(source=source)\n",
    "\n",
    "    n = len(MIDDLE_POPULATION)\n",
    "\n",
    "    offspring = []\n",
    "    while len(offspring) < n:\n",
    "        parent = random.choice(MIDDLE_POPULATION)\n",
    "        offspring.append(mutator.mutate(parent))\n",
    "\n",
    "    MIDDLE_POPULATION += offspring\n",
    "    MIDDLE_POPULATION.sort(key=middle_fitness, reverse=True)\n",
    "    MIDDLE_POPULATION = MIDDLE_POPULATION[:n]"
   ]
  },
  {
   "cell_type": "markdown",
   "metadata": {
    "slideshow": {
     "slide_type": "subslide"
    }
   },
   "source": [
    "This is what happens when evolving our population for the first time; the original source is still our best candidate."
   ]
  },
  {
   "cell_type": "code",
   "execution_count": 79,
   "metadata": {
    "slideshow": {
     "slide_type": "fragment"
    }
   },
   "outputs": [],
   "source": [
    "evolve_middle()"
   ]
  },
  {
   "cell_type": "code",
   "execution_count": 80,
   "metadata": {
    "slideshow": {
     "slide_type": "subslide"
    }
   },
   "outputs": [
    {
     "name": "stdout",
     "output_type": "stream",
     "text": [
      "def middle(x, y, z):\n",
      "    if y < z:\n",
      "        if x < y:\n",
      "            return y\n",
      "        elif x < z:\n",
      "            return x\n",
      "    elif x > y:\n",
      "        return y\n",
      "    elif x > z:\n",
      "        return x\n",
      "    return z\n",
      " 1.0\n"
     ]
    }
   ],
   "source": [
    "tree = MIDDLE_POPULATION[0]\n",
    "print(astor.to_source(tree), middle_fitness(tree))"
   ]
  },
  {
   "cell_type": "markdown",
   "metadata": {
    "slideshow": {
     "slide_type": "subslide"
    }
   },
   "source": [
    "However, nothing keeps us from evolving for a few generations more..."
   ]
  },
  {
   "cell_type": "code",
   "execution_count": 81,
   "metadata": {
    "pycharm": {
     "is_executing": true
    },
    "slideshow": {
     "slide_type": "fragment"
    }
   },
   "outputs": [
    {
     "name": "stdout",
     "output_type": "stream",
     "text": [
      "\r",
      "Iteration 0: fitness = 1.0  "
     ]
    }
   ],
   "source": [
    "for i in range(50):\n",
    "    evolve_middle()\n",
    "    best_middle_tree = MIDDLE_POPULATION[0]\n",
    "    fitness = middle_fitness(best_middle_tree)\n",
    "    print(f\"\\rIteration {i}: fitness = {fitness}  \", end=\"\")\n",
    "    if fitness >= 1.0:\n",
    "        break"
   ]
  },
  {
   "cell_type": "code",
   "execution_count": null,
   "metadata": {},
   "outputs": [],
   "source": []
  },
  {
   "cell_type": "markdown",
   "metadata": {
    "slideshow": {
     "slide_type": "fragment"
    }
   },
   "source": [
    "Success! We find a candidate that actually passes all tests, including the failing ones. Here is the candidate:"
   ]
  },
  {
   "cell_type": "code",
   "execution_count": 82,
   "metadata": {
    "pycharm": {
     "is_executing": true
    },
    "slideshow": {
     "slide_type": "subslide"
    }
   },
   "outputs": [
    {
     "name": "stdout",
     "output_type": "stream",
     "text": [
      " 1  \u001b[34mdef\u001b[39;49;00m \u001b[32mmiddle\u001b[39;49;00m(x, y, z):\n",
      " 2      \u001b[34mif\u001b[39;49;00m y < z:\n",
      " 3          \u001b[34mif\u001b[39;49;00m x < y:\n",
      " 4              \u001b[34mreturn\u001b[39;49;00m y\n",
      " 5          \u001b[34melif\u001b[39;49;00m x < z:\n",
      " 6              \u001b[34mreturn\u001b[39;49;00m x\n",
      " 7      \u001b[34melif\u001b[39;49;00m x > y:\n",
      " 8          \u001b[34mreturn\u001b[39;49;00m y\n",
      " 9      \u001b[34melif\u001b[39;49;00m x > z:\n",
      "10          \u001b[34mreturn\u001b[39;49;00m x\n",
      "11      \u001b[34mreturn\u001b[39;49;00m z"
     ]
    }
   ],
   "source": [
    "print_content(astor.to_source(best_middle_tree), '.py', start_line_number=1)"
   ]
  },
  {
   "cell_type": "markdown",
   "metadata": {
    "slideshow": {
     "slide_type": "fragment"
    }
   },
   "source": [
    "... and yes, it passes all tests:"
   ]
  },
  {
   "cell_type": "code",
   "execution_count": 83,
   "metadata": {
    "pycharm": {
     "is_executing": true
    },
    "slideshow": {
     "slide_type": "subslide"
    }
   },
   "outputs": [],
   "source": [
    "original_middle = middle\n",
    "code = compile(best_middle_tree, '<string>', 'exec')\n",
    "exec(code, globals())\n",
    "\n",
    "for x, y, z in MIDDLE_PASSING_TESTCASES + MIDDLE_FAILING_TESTCASES:\n",
    "    middle_test(x, y, z)\n",
    "\n",
    "middle = original_middle"
   ]
  },
  {
   "cell_type": "markdown",
   "metadata": {
    "slideshow": {
     "slide_type": "fragment"
    }
   },
   "source": [
    "As the code is already validated by hundreds of test cases, it is very valuable for the programmer. Even if the programmer decides not to use the code as is, the location gives very strong hints on which code to examine and where to apply a fix."
   ]
  },
  {
   "cell_type": "markdown",
   "metadata": {
    "slideshow": {
     "slide_type": "fragment"
    }
   },
   "source": [
    "However, a closer look at our fix candidate shows that there is some amount of redundancy – that is, superfluous statements."
   ]
  },
  {
   "cell_type": "code",
   "execution_count": 84,
   "metadata": {
    "pycharm": {
     "is_executing": true
    },
    "slideshow": {
     "slide_type": "subslide"
    }
   },
   "outputs": [
    {
     "data": {
      "text/html": [
       "\n",
       "    \n",
       "    <script>\n",
       "    function answer(quiz_id) {\n",
       "        ans = 0;\n",
       "        for (i = 1;; i++) {\n",
       "            checkbox = document.getElementById(quiz_id + \"-\" + i.toString());\n",
       "            if (!checkbox)\n",
       "                break;\n",
       "            if (checkbox.checked)\n",
       "                ans |= (1 << i);\n",
       "        }\n",
       "        return ans;\n",
       "    }\n",
       "    function check_selection(quiz_id, correct_answer, multiple_choice) {\n",
       "        given_answer = answer(quiz_id);\n",
       "        if (given_answer == correct_answer)\n",
       "        {\n",
       "            document.getElementById(quiz_id + \"-submit\").value = \"Correct!\";\n",
       "            for (i = 1;; i++) {\n",
       "                checkbox = document.getElementById(quiz_id + \"-\" + i.toString());\n",
       "                label = document.getElementById(quiz_id + \"-\" + i.toString() + \"-label\")\n",
       "                if (!checkbox)\n",
       "                    break;\n",
       "    \n",
       "                if (checkbox.checked) {\n",
       "                    label.style.fontWeight = \"bold\";\n",
       "                }\n",
       "                else {\n",
       "                    label.style.textDecoration = \"line-through\";\n",
       "                }\n",
       "            }\n",
       "        }\n",
       "        else \n",
       "        {\n",
       "            document.getElementById(quiz_id + \"-submit\").value = \"Try again\";\n",
       "            if (!multiple_choice) {\n",
       "                for (i = 1;; i++) {\n",
       "                    checkbox = document.getElementById(quiz_id + \"-\" + i.toString());\n",
       "                    label = document.getElementById(quiz_id + \"-\" + i.toString() + \"-label\")\n",
       "\n",
       "                    if (!checkbox)\n",
       "                        break;\n",
       "                    if (checkbox.checked) {\n",
       "                        label.style.textDecoration = \"line-through\";\n",
       "                    }\n",
       "                }\n",
       "            }\n",
       "        }\n",
       "    }\n",
       "    function clear_selection(quiz_id) {\n",
       "        document.getElementById(quiz_id + \"-submit\").value = \"Submit\";\n",
       "    }\n",
       "    </script>\n",
       "    \n",
       "    <div class=\"quiz\">\n",
       "    <h3 class=\"quiz_title\">Quiz</h3>\n",
       "    <p>\n",
       "    <div class=\"quiz_question\">Some of the lines in our fix candidate are redundant. Which are these?</div>\n",
       "    </p>\n",
       "    <p>\n",
       "    <div class=\"quiz_options\" title=\"Check all that apply.\">\n",
       "    \n",
       "        <input type=\"checkbox\" name=\"3573767c-67dd-11eb-ab87-3dcf47dda090\" id=\"3573767c-67dd-11eb-ab87-3dcf47dda090-1\" onclick=\"clear_selection('3573767c-67dd-11eb-ab87-3dcf47dda090')\">\n",
       "        <label id=\"3573767c-67dd-11eb-ab87-3dcf47dda090-1-label\" for=\"3573767c-67dd-11eb-ab87-3dcf47dda090-1\">Line 3: <code>if x &lt; y</code></label><br>\n",
       "    \n",
       "        <input type=\"checkbox\" name=\"3573767c-67dd-11eb-ab87-3dcf47dda090\" id=\"3573767c-67dd-11eb-ab87-3dcf47dda090-2\" onclick=\"clear_selection('3573767c-67dd-11eb-ab87-3dcf47dda090')\">\n",
       "        <label id=\"3573767c-67dd-11eb-ab87-3dcf47dda090-2-label\" for=\"3573767c-67dd-11eb-ab87-3dcf47dda090-2\">Line 4: <code>if x &gt; z</code></label><br>\n",
       "    \n",
       "        <input type=\"checkbox\" name=\"3573767c-67dd-11eb-ab87-3dcf47dda090\" id=\"3573767c-67dd-11eb-ab87-3dcf47dda090-3\" onclick=\"clear_selection('3573767c-67dd-11eb-ab87-3dcf47dda090')\">\n",
       "        <label id=\"3573767c-67dd-11eb-ab87-3dcf47dda090-3-label\" for=\"3573767c-67dd-11eb-ab87-3dcf47dda090-3\">Line 5: <code>return x</code></label><br>\n",
       "    \n",
       "        <input type=\"checkbox\" name=\"3573767c-67dd-11eb-ab87-3dcf47dda090\" id=\"3573767c-67dd-11eb-ab87-3dcf47dda090-4\" onclick=\"clear_selection('3573767c-67dd-11eb-ab87-3dcf47dda090')\">\n",
       "        <label id=\"3573767c-67dd-11eb-ab87-3dcf47dda090-4-label\" for=\"3573767c-67dd-11eb-ab87-3dcf47dda090-4\">Line 13: <code>return z</code></label><br>\n",
       "    \n",
       "    </div>\n",
       "    </p>\n",
       "    <input id=\"3573767c-67dd-11eb-ab87-3dcf47dda090-submit\" type=\"submit\" value=\"Submit\" onclick=\"check_selection('3573767c-67dd-11eb-ab87-3dcf47dda090', 12, 1)\">\n",
       "    </div>\n",
       "    "
      ],
      "text/plain": [
       "<IPython.core.display.HTML object>"
      ]
     },
     "execution_count": 84,
     "metadata": {},
     "output_type": "execute_result"
    }
   ],
   "source": [
    "quiz(\"Some of the lines in our fix candidate are redundant. Which are these?\",\n",
    "    [\n",
    "        \"Line 3: `if x < y`\",\n",
    "        \"Line 4: `if x > z`\",\n",
    "        \"Line 5: `return x`\",\n",
    "        \"Line 13: `return z`\"\n",
    "    ],\n",
    "    [eval(chr(100 - x)) for x in [49, 50]]\n",
    "    )"
   ]
  },
  {
   "cell_type": "markdown",
   "metadata": {
    "slideshow": {
     "slide_type": "slide"
    }
   },
   "source": [
    "## Simplifying"
   ]
  },
  {
   "cell_type": "markdown",
   "metadata": {
    "slideshow": {
     "slide_type": "fragment"
    }
   },
   "source": [
    "As demonstrated in the chapter on [reducing failure-inducing inputs](DeltaDebugger.ipynb), we can use delta debugging on code to get rid of these superfluous statements."
   ]
  },
  {
   "cell_type": "markdown",
   "metadata": {
    "slideshow": {
     "slide_type": "fragment"
    }
   },
   "source": [
    "The trick for simplification is to have the test function (`test_middle_lines()`) declare a fitness of 1.0 as a \"failure\". Delta debugging will then simplify the input as long as the \"failure\" (and hence the maximum fitness obtained) persists."
   ]
  },
  {
   "cell_type": "code",
   "execution_count": 85,
   "metadata": {
    "pycharm": {
     "is_executing": true
    },
    "slideshow": {
     "slide_type": "skip"
    }
   },
   "outputs": [],
   "source": [
    "from DeltaDebugger import DeltaDebugger"
   ]
  },
  {
   "cell_type": "code",
   "execution_count": 86,
   "metadata": {
    "pycharm": {
     "is_executing": true
    },
    "slideshow": {
     "slide_type": "fragment"
    }
   },
   "outputs": [],
   "source": [
    "middle_lines = astor.to_source(best_middle_tree).strip().split('\\n')"
   ]
  },
  {
   "cell_type": "code",
   "execution_count": 87,
   "metadata": {
    "pycharm": {
     "is_executing": true
    },
    "slideshow": {
     "slide_type": "fragment"
    }
   },
   "outputs": [],
   "source": [
    "def test_middle_lines(lines):\n",
    "    source = \"\\n\".join(lines)\n",
    "    tree = ast.parse(source)\n",
    "    assert middle_fitness(tree) < 1.0  # \"Fail\" only while fitness is 1.0"
   ]
  },
  {
   "cell_type": "code",
   "execution_count": 88,
   "metadata": {
    "pycharm": {
     "is_executing": true
    },
    "slideshow": {
     "slide_type": "fragment"
    }
   },
   "outputs": [],
   "source": [
    "with DeltaDebugger() as dd:\n",
    "    test_middle_lines(middle_lines)"
   ]
  },
  {
   "cell_type": "code",
   "execution_count": 89,
   "metadata": {
    "pycharm": {
     "is_executing": true
    },
    "slideshow": {
     "slide_type": "subslide"
    }
   },
   "outputs": [],
   "source": [
    "reduced_lines = dd.min_args()['lines']"
   ]
  },
  {
   "cell_type": "code",
   "execution_count": 90,
   "metadata": {
    "pycharm": {
     "is_executing": true
    },
    "slideshow": {
     "slide_type": "fragment"
    }
   },
   "outputs": [],
   "source": [
    "# assert len(reduced_lines) < len(middle_lines)"
   ]
  },
  {
   "cell_type": "code",
   "execution_count": 91,
   "metadata": {
    "pycharm": {
     "is_executing": true
    },
    "slideshow": {
     "slide_type": "fragment"
    }
   },
   "outputs": [],
   "source": [
    "reduced_source = \"\\n\".join(reduced_lines)"
   ]
  },
  {
   "cell_type": "code",
   "execution_count": 92,
   "metadata": {
    "pycharm": {
     "is_executing": true
    },
    "slideshow": {
     "slide_type": "subslide"
    }
   },
   "outputs": [
    {
     "name": "stdout",
     "output_type": "stream",
     "text": [
      "\u001b[34mdef\u001b[39;49;00m \u001b[32mmiddle\u001b[39;49;00m(x, y, z):\n",
      "    \u001b[34mif\u001b[39;49;00m y < z:\n",
      "        \u001b[34mif\u001b[39;49;00m x < y:\n",
      "            \u001b[34mreturn\u001b[39;49;00m y\n",
      "        \u001b[34melif\u001b[39;49;00m x < z:\n",
      "            \u001b[34mreturn\u001b[39;49;00m x\n",
      "    \u001b[34melif\u001b[39;49;00m x > y:\n",
      "        \u001b[34mreturn\u001b[39;49;00m y\n",
      "    \u001b[34melif\u001b[39;49;00m x > z:\n",
      "        \u001b[34mreturn\u001b[39;49;00m x\n",
      "    \u001b[34mreturn\u001b[39;49;00m z"
     ]
    }
   ],
   "source": [
    "repaired_source = astor.to_source(ast.parse(reduced_source))  # normalize\n",
    "print_content(repaired_source, '.py')"
   ]
  },
  {
   "cell_type": "markdown",
   "metadata": {
    "slideshow": {
     "slide_type": "fragment"
    }
   },
   "source": [
    "Success! Delta Debugging has eliminated the superfluous statements. We can present the difference to the original as a patch:"
   ]
  },
  {
   "cell_type": "code",
   "execution_count": 93,
   "metadata": {
    "pycharm": {
     "is_executing": true
    },
    "slideshow": {
     "slide_type": "subslide"
    }
   },
   "outputs": [],
   "source": [
    "original_source = astor.to_source(ast.parse(middle_source))  # normalize"
   ]
  },
  {
   "cell_type": "code",
   "execution_count": 94,
   "metadata": {
    "pycharm": {
     "is_executing": true
    },
    "slideshow": {
     "slide_type": "skip"
    }
   },
   "outputs": [],
   "source": [
    "from ChangeDebugger import diff, print_patch  # minor dependency"
   ]
  },
  {
   "cell_type": "code",
   "execution_count": 95,
   "metadata": {
    "pycharm": {
     "is_executing": true
    },
    "slideshow": {
     "slide_type": "fragment"
    }
   },
   "outputs": [
    {
     "name": "stdout",
     "output_type": "stream",
     "text": [
      "@@ -\u001b[34m87\u001b[39;49;00m,\u001b[34m37\u001b[39;49;00m +\u001b[34m87\u001b[39;49;00m,\u001b[34m37\u001b[39;49;00m @@\n",
      "  x < z:\n",
      "\n",
      "-            \u001b[34mreturn\u001b[39;49;00m y\n",
      "\n",
      "+            \u001b[34mreturn\u001b[39;49;00m x\n",
      "\n",
      "     \u001b[34melif\u001b[39;49;00m"
     ]
    }
   ],
   "source": [
    "for patch in diff(original_source, repaired_source):\n",
    "    print_patch(patch)"
   ]
  },
  {
   "cell_type": "markdown",
   "metadata": {
    "slideshow": {
     "slide_type": "fragment"
    }
   },
   "source": [
    "We can present this patch to the programmer, who will then immediately know what to fix in the `middle()` code."
   ]
  },
  {
   "cell_type": "markdown",
   "metadata": {
    "slideshow": {
     "slide_type": "slide"
    }
   },
   "source": [
    "## Crossover\n",
    "\n",
    "So far, we have only applied one kind of genetic operators – mutation. There is a second one, though, also inspired by natural selection. \n",
    "\n",
    "The *crossover* operation mutation two strands of genes, as illustrated in the following picture. We have two parents (red and blue), each as a sequence of genes. To create \"crossed\" chilren, we pick a _crossover point_ and exchange the strands at this very point:\n",
    "\n",
    "![](https://upload.wikimedia.org/wikipedia/commons/thumb/5/56/OnePointCrossover.svg/500px-OnePointCrossover.svg.png)"
   ]
  },
  {
   "cell_type": "markdown",
   "metadata": {
    "slideshow": {
     "slide_type": "subslide"
    }
   },
   "source": [
    "We implement a `CrossoverOperator` class that implements such an operation on two randomly chosen statement lists of two programs. It is used as\n",
    "\n",
    "```python\n",
    "crossover = CrossoverOperator()\n",
    "crossover.crossover(tree_p1, tree_p2)\n",
    "```\n",
    "\n",
    "where `tree_p1` and `tree_p2` are two ASTs that are changed in place."
   ]
  },
  {
   "cell_type": "markdown",
   "metadata": {
    "slideshow": {
     "slide_type": "subslide"
    }
   },
   "source": [
    "### Excursion: Implementing Crossover"
   ]
  },
  {
   "cell_type": "markdown",
   "metadata": {
    "slideshow": {
     "slide_type": "subslide"
    }
   },
   "source": [
    "#### Crossing Statement Lists"
   ]
  },
  {
   "cell_type": "markdown",
   "metadata": {
    "slideshow": {
     "slide_type": "fragment"
    }
   },
   "source": [
    "Applied on programs, a crossover mutation takes two parents and \"crosses\" a list of statements. As an example, if our \"parents\" `p1()` and `p2()` are defined as follows:"
   ]
  },
  {
   "cell_type": "code",
   "execution_count": 96,
   "metadata": {
    "pycharm": {
     "is_executing": true
    },
    "slideshow": {
     "slide_type": "fragment"
    }
   },
   "outputs": [],
   "source": [
    "def p1():\n",
    "    a = 1\n",
    "    b = 2\n",
    "    c = 3"
   ]
  },
  {
   "cell_type": "code",
   "execution_count": 97,
   "metadata": {
    "pycharm": {
     "is_executing": true
    },
    "slideshow": {
     "slide_type": "fragment"
    }
   },
   "outputs": [],
   "source": [
    "def p2():\n",
    "    x = 1\n",
    "    y = 2\n",
    "    z = 3"
   ]
  },
  {
   "cell_type": "markdown",
   "metadata": {
    "slideshow": {
     "slide_type": "subslide"
    }
   },
   "source": [
    "Then a crossover operation would produce one child with a body\n",
    "\n",
    "```python\n",
    "a = 1\n",
    "y = 2\n",
    "z = 3\n",
    "```\n",
    "\n",
    "and another child with a body\n",
    "\n",
    "```python\n",
    "x = 1\n",
    "b = 2\n",
    "c = 3\n",
    "```"
   ]
  },
  {
   "cell_type": "markdown",
   "metadata": {
    "slideshow": {
     "slide_type": "subslide"
    }
   },
   "source": [
    "We can easily implement this in a `CrossoverOperator` class in a method `cross_bodies()`."
   ]
  },
  {
   "cell_type": "code",
   "execution_count": 98,
   "metadata": {
    "pycharm": {
     "is_executing": true
    },
    "slideshow": {
     "slide_type": "subslide"
    }
   },
   "outputs": [],
   "source": [
    "class CrossoverOperator:\n",
    "    def __init__(self, log=False):\n",
    "        \"\"\"Constructor. If `log` is set, turn on logging.\"\"\"\n",
    "        self.log = log\n",
    "\n",
    "    def cross_bodies(self, body_1, body_2):\n",
    "        \"\"\"CrossoverOperator the statement lists `body_1` x `body_2`.\n",
    "        Return new lists.\n",
    "        \"\"\"\n",
    "\n",
    "        assert isinstance(body_1, list)\n",
    "        assert isinstance(body_2, list)\n",
    "\n",
    "        crossover_point_1 = len(body_1) // 2\n",
    "        crossover_point_2 = len(body_2) // 2\n",
    "        return (body_1[:crossover_point_1] + body_2[crossover_point_2:],\n",
    "                body_2[:crossover_point_2] + body_1[crossover_point_1:])"
   ]
  },
  {
   "cell_type": "markdown",
   "metadata": {
    "slideshow": {
     "slide_type": "subslide"
    }
   },
   "source": [
    "Here's the `CrossoverOperatorMutator` applied on `p1` and `p2`:"
   ]
  },
  {
   "cell_type": "code",
   "execution_count": 99,
   "metadata": {
    "pycharm": {
     "is_executing": true
    },
    "slideshow": {
     "slide_type": "fragment"
    }
   },
   "outputs": [],
   "source": [
    "tree_p1 = ast.parse(inspect.getsource(p1))\n",
    "tree_p2 = ast.parse(inspect.getsource(p2))"
   ]
  },
  {
   "cell_type": "code",
   "execution_count": 100,
   "metadata": {
    "pycharm": {
     "is_executing": true
    },
    "slideshow": {
     "slide_type": "fragment"
    }
   },
   "outputs": [
    {
     "data": {
      "text/plain": [
       "[<_ast.Assign at 0x7f4c2b0579d0>,\n",
       " <_ast.Assign at 0x7f4c2b057a00>,\n",
       " <_ast.Assign at 0x7f4c2b057c40>]"
      ]
     },
     "execution_count": 100,
     "metadata": {},
     "output_type": "execute_result"
    }
   ],
   "source": [
    "body_p1 = tree_p1.body[0].body\n",
    "body_p2 = tree_p2.body[0].body\n",
    "body_p1"
   ]
  },
  {
   "cell_type": "code",
   "execution_count": 101,
   "metadata": {
    "pycharm": {
     "is_executing": true
    },
    "slideshow": {
     "slide_type": "fragment"
    }
   },
   "outputs": [],
   "source": [
    "crosser = CrossoverOperator()\n",
    "tree_p1.body[0].body, tree_p2.body[0].body = crosser.cross_bodies(body_p1, body_p2)"
   ]
  },
  {
   "cell_type": "code",
   "execution_count": 102,
   "metadata": {
    "pycharm": {
     "is_executing": true
    },
    "slideshow": {
     "slide_type": "subslide"
    }
   },
   "outputs": [
    {
     "name": "stdout",
     "output_type": "stream",
     "text": [
      "\u001b[34mdef\u001b[39;49;00m \u001b[32mp1\u001b[39;49;00m():\n",
      "    a = \u001b[34m1\u001b[39;49;00m\n",
      "    y = \u001b[34m2\u001b[39;49;00m\n",
      "    z = \u001b[34m3\u001b[39;49;00m"
     ]
    }
   ],
   "source": [
    "print_content(astor.to_source(tree_p1), '.py')"
   ]
  },
  {
   "cell_type": "code",
   "execution_count": 103,
   "metadata": {
    "pycharm": {
     "is_executing": true
    },
    "slideshow": {
     "slide_type": "fragment"
    }
   },
   "outputs": [
    {
     "name": "stdout",
     "output_type": "stream",
     "text": [
      "\u001b[34mdef\u001b[39;49;00m \u001b[32mp2\u001b[39;49;00m():\n",
      "    x = \u001b[34m1\u001b[39;49;00m\n",
      "    b = \u001b[34m2\u001b[39;49;00m\n",
      "    c = \u001b[34m3\u001b[39;49;00m"
     ]
    }
   ],
   "source": [
    "print_content(astor.to_source(tree_p2), '.py')"
   ]
  },
  {
   "cell_type": "markdown",
   "metadata": {
    "slideshow": {
     "slide_type": "subslide"
    }
   },
   "source": [
    "#### Applying Crossover on Programs\n",
    "\n",
    "Applying the crossover operation on arbitrary programs is a bit more complex, though. We first have to _find_ lists of statements that we a actually can cross over. The `can_cross()` method returns True if we have a list of statements that we can cross. Python modules and classes are excluded, because changing the ordering of definitions will not have much impact on the program."
   ]
  },
  {
   "cell_type": "code",
   "execution_count": 104,
   "metadata": {
    "pycharm": {
     "is_executing": true
    },
    "slideshow": {
     "slide_type": "subslide"
    }
   },
   "outputs": [],
   "source": [
    "class CrossoverOperator(CrossoverOperator):\n",
    "    # In modules and class defs, the ordering of elements does not matter (much)\n",
    "    SKIP_LIST = {ast.Module, ast.ClassDef}\n",
    "\n",
    "    def can_cross(self, tree, body_attr='body'):\n",
    "        if any(isinstance(tree, cls) for cls in self.SKIP_LIST):\n",
    "            return False\n",
    "\n",
    "        body = getattr(tree, body_attr, [])\n",
    "        return body and len(body) >= 2"
   ]
  },
  {
   "cell_type": "markdown",
   "metadata": {
    "slideshow": {
     "slide_type": "subslide"
    }
   },
   "source": [
    "Here comes our method `crossover_attr()` which searches for crossover possibilities. It takes to ASTs `t1` and `t2` and an attribute (typically `'body'`) and retrieves the attribute lists $l_1$ (from `t1.<attr>`) and $l_2$ (from `t2.<attr>`).\n",
    "\n",
    "If $l_1$ and $l_2$ can be crossed, it crosses them, and is done. Otherwise\n",
    "\n",
    "* If there is a pair of elements $e_1 \\in l_1$ and $e_2 \\in l_2$ that has the same name – say, functions of the same name –, it applies itself to $e_1$ and $e_2$.\n",
    "* Otherwise, it creates random pairs of elements $e_1 \\in l_1$ and $e_2 \\in l_2$ and applies itself on these very pairs.\n",
    "\n",
    "`crossover_attr()` changes `t1` and `t2` in place and returns True if a crossover was found; it returns False otherwise."
   ]
  },
  {
   "cell_type": "code",
   "execution_count": 105,
   "metadata": {
    "pycharm": {
     "is_executing": true
    },
    "slideshow": {
     "slide_type": "subslide"
    }
   },
   "outputs": [],
   "source": [
    "class CrossoverOperator(CrossoverOperator):\n",
    "    def crossover_attr(self, t1, t2, body_attr):\n",
    "        \"\"\"CrossoverOperator the bodies `body_attr` of two trees `t1` and `t2`.\n",
    "        Return True if successful.\"\"\"\n",
    "        assert isinstance(t1, ast.AST)\n",
    "        assert isinstance(t2, ast.AST)\n",
    "        assert isinstance(body_attr, str)\n",
    "\n",
    "        if not getattr(t1, body_attr, None) or not getattr(t2, body_attr, None):\n",
    "            return False\n",
    "\n",
    "        if self.crossover_branches(t1, t2):\n",
    "            return t1, t2\n",
    "\n",
    "        if self.log > 1:\n",
    "            print(f\"Checking {t1}.{body_attr} x {t2}.{body_attr}\")\n",
    "\n",
    "        body_1 = getattr(t1, body_attr)\n",
    "        body_2 = getattr(t2, body_attr)\n",
    "\n",
    "        # If both trees have the attribute, we can cross their bodies\n",
    "        if self.can_cross(t1, body_attr) and self.can_cross(t2, body_attr):\n",
    "            if self.log:\n",
    "                print(f\"Crossing {t1}.{body_attr} x {t2}.{body_attr}\")\n",
    "\n",
    "            new_body_1, new_body_2 = self.cross_bodies(body_1, body_2)\n",
    "            setattr(t1, body_attr, new_body_1)\n",
    "            setattr(t2, body_attr, new_body_2)\n",
    "            return True\n",
    "\n",
    "        # Strategy 1: Find matches in class/function of same name\n",
    "        for child_1 in body_1:\n",
    "            if hasattr(child_1, 'name'):\n",
    "                for child_2 in body_2:\n",
    "                    if (hasattr(child_2, 'name') and\n",
    "                           child_1.name == child_2.name):\n",
    "                        if self.crossover_attr(child_1, child_2, body_attr):\n",
    "                            return True\n",
    "\n",
    "        # Strategy 2: Find matches anywhere\n",
    "        for child_1 in random.sample(body_1, len(body_1)):\n",
    "            for child_2 in random.sample(body_2, len(body_2)):\n",
    "                if self.crossover_attr(child_1, child_2, body_attr):\n",
    "                    return True\n",
    "\n",
    "        return False"
   ]
  },
  {
   "cell_type": "markdown",
   "metadata": {
    "slideshow": {
     "slide_type": "subslide"
    }
   },
   "source": [
    "We have a special case for `if` nodes, where we can cross their body and `else` branches."
   ]
  },
  {
   "cell_type": "code",
   "execution_count": 106,
   "metadata": {
    "pycharm": {
     "is_executing": true
    },
    "slideshow": {
     "slide_type": "subslide"
    }
   },
   "outputs": [],
   "source": [
    "class CrossoverOperator(CrossoverOperator):\n",
    "    def crossover_branches(self, t1, t2):\n",
    "        \"\"\"Special case:\n",
    "        `t1` = `if P: S1 else: S2` x `t2` = `if P': S1' else: S2'`\n",
    "        becomes\n",
    "        `t1` = `if P: S2' else: S1'` and `t2` = `if P': S2 else: S1`\n",
    "        Returns True if successful.\n",
    "        \"\"\"\n",
    "        assert isinstance(t1, ast.AST)\n",
    "        assert isinstance(t2, ast.AST)\n",
    "\n",
    "        if (getattr(t1, 'body', None) and getattr(t1, 'orelse', None) and\n",
    "            getattr(t2, 'body', None) and getattr(t2, 'orelse', None)):\n",
    "\n",
    "            if self.log:\n",
    "                print(f\"Crossing branches {t1} x {t2}\")\n",
    "\n",
    "            t1.body, t1.orelse, t2.body, t2.orelse = \\\n",
    "                t2.orelse, t2.body, t1.orelse, t1.body\n",
    "            return True\n",
    "\n",
    "        return False"
   ]
  },
  {
   "cell_type": "markdown",
   "metadata": {
    "slideshow": {
     "slide_type": "subslide"
    }
   },
   "source": [
    "The method `crossover()` is the main entry point. It checks for the special `if` case as described above; if not, it searches for possible crossover points. It raises `CrossoverError` if not successful."
   ]
  },
  {
   "cell_type": "code",
   "execution_count": 107,
   "metadata": {
    "pycharm": {
     "is_executing": true
    },
    "slideshow": {
     "slide_type": "fragment"
    }
   },
   "outputs": [],
   "source": [
    "class CrossoverOperator(CrossoverOperator):\n",
    "    def crossover(self, t1, t2):\n",
    "        \"\"\"Do a crossover of ASTs `t1` and `t2`.\n",
    "        Raises `CrossoverError` if no crossover is found.\"\"\"\n",
    "        assert isinstance(t1, ast.AST)\n",
    "        assert isinstance(t2, ast.AST)\n",
    "\n",
    "        for body_attr in ['body', 'orelse', 'finalbody']:\n",
    "            if self.crossover_attr(t1, t2, body_attr):\n",
    "                return t1, t2\n",
    "\n",
    "        raise CrossoverError(\"No crossover found\")"
   ]
  },
  {
   "cell_type": "code",
   "execution_count": 108,
   "metadata": {
    "pycharm": {
     "is_executing": true
    },
    "slideshow": {
     "slide_type": "subslide"
    }
   },
   "outputs": [],
   "source": [
    "class CrossoverError(ValueError):\n",
    "    pass"
   ]
  },
  {
   "cell_type": "markdown",
   "metadata": {
    "slideshow": {
     "slide_type": "subslide"
    }
   },
   "source": [
    "### End of Excursion"
   ]
  },
  {
   "cell_type": "markdown",
   "metadata": {
    "slideshow": {
     "slide_type": "subslide"
    }
   },
   "source": [
    "### Crossover in Action"
   ]
  },
  {
   "cell_type": "markdown",
   "metadata": {
    "slideshow": {
     "slide_type": "fragment"
    }
   },
   "source": [
    "Let us put our `CrossoverOperator` in action. Here is a test case for crossover, involving more deeply nested structures:"
   ]
  },
  {
   "cell_type": "code",
   "execution_count": 109,
   "metadata": {
    "pycharm": {
     "is_executing": true
    },
    "slideshow": {
     "slide_type": "fragment"
    }
   },
   "outputs": [],
   "source": [
    "def p1():\n",
    "    if True:\n",
    "        print(1)\n",
    "        print(2)\n",
    "        print(3)"
   ]
  },
  {
   "cell_type": "code",
   "execution_count": 110,
   "metadata": {
    "pycharm": {
     "is_executing": true
    },
    "slideshow": {
     "slide_type": "fragment"
    }
   },
   "outputs": [],
   "source": [
    "def p2():\n",
    "    if True:\n",
    "        print(a)\n",
    "        print(b)\n",
    "    else:\n",
    "        print(c)\n",
    "        print(d)"
   ]
  },
  {
   "cell_type": "markdown",
   "metadata": {
    "slideshow": {
     "slide_type": "subslide"
    }
   },
   "source": [
    "We invoke the `crossover()` method with two ASTs from `p1` and `p2`:"
   ]
  },
  {
   "cell_type": "code",
   "execution_count": 111,
   "metadata": {
    "pycharm": {
     "is_executing": true
    },
    "slideshow": {
     "slide_type": "fragment"
    }
   },
   "outputs": [],
   "source": [
    "crossover = CrossoverOperator()\n",
    "tree_p1 = ast.parse(inspect.getsource(p1))\n",
    "tree_p2 = ast.parse(inspect.getsource(p2))\n",
    "crossover.crossover(tree_p1, tree_p2);"
   ]
  },
  {
   "cell_type": "markdown",
   "metadata": {
    "slideshow": {
     "slide_type": "fragment"
    }
   },
   "source": [
    "Here is the crossed offspring, mixing statement lists of `p1` and `p2`:"
   ]
  },
  {
   "cell_type": "code",
   "execution_count": 112,
   "metadata": {
    "pycharm": {
     "is_executing": true
    },
    "slideshow": {
     "slide_type": "fragment"
    }
   },
   "outputs": [
    {
     "name": "stdout",
     "output_type": "stream",
     "text": [
      "\u001b[34mdef\u001b[39;49;00m \u001b[32mp1\u001b[39;49;00m():\n",
      "    \u001b[34mif\u001b[39;49;00m \u001b[34mTrue\u001b[39;49;00m:\n",
      "        \u001b[36mprint\u001b[39;49;00m(\u001b[34m1\u001b[39;49;00m)\n",
      "        \u001b[36mprint\u001b[39;49;00m(b)"
     ]
    }
   ],
   "source": [
    "print_content(astor.to_source(tree_p1), '.py')"
   ]
  },
  {
   "cell_type": "code",
   "execution_count": 113,
   "metadata": {
    "pycharm": {
     "is_executing": true
    },
    "slideshow": {
     "slide_type": "subslide"
    }
   },
   "outputs": [
    {
     "name": "stdout",
     "output_type": "stream",
     "text": [
      "\u001b[34mdef\u001b[39;49;00m \u001b[32mp2\u001b[39;49;00m():\n",
      "    \u001b[34mif\u001b[39;49;00m \u001b[34mTrue\u001b[39;49;00m:\n",
      "        \u001b[36mprint\u001b[39;49;00m(a)\n",
      "        \u001b[36mprint\u001b[39;49;00m(\u001b[34m2\u001b[39;49;00m)\n",
      "        \u001b[36mprint\u001b[39;49;00m(\u001b[34m3\u001b[39;49;00m)\n",
      "    \u001b[34melse\u001b[39;49;00m:\n",
      "        \u001b[36mprint\u001b[39;49;00m(c)\n",
      "        \u001b[36mprint\u001b[39;49;00m(d)"
     ]
    }
   ],
   "source": [
    "print_content(astor.to_source(tree_p2), '.py')"
   ]
  },
  {
   "cell_type": "markdown",
   "metadata": {
    "slideshow": {
     "slide_type": "fragment"
    }
   },
   "source": [
    "Here is our special case for `if` nodes in action, crossing our `middle()` tree with `p2`."
   ]
  },
  {
   "cell_type": "code",
   "execution_count": 114,
   "metadata": {
    "pycharm": {
     "is_executing": true
    },
    "slideshow": {
     "slide_type": "fragment"
    }
   },
   "outputs": [],
   "source": [
    "middle_t1, middle_t2 = crossover.crossover(middle_tree(),\n",
    "                                          ast.parse(inspect.getsource(p2)))"
   ]
  },
  {
   "cell_type": "markdown",
   "metadata": {
    "slideshow": {
     "slide_type": "fragment"
    }
   },
   "source": [
    "We see how the resulting offspring encompasses elements of both sources:"
   ]
  },
  {
   "cell_type": "code",
   "execution_count": 115,
   "metadata": {
    "pycharm": {
     "is_executing": true
    },
    "slideshow": {
     "slide_type": "subslide"
    }
   },
   "outputs": [
    {
     "name": "stdout",
     "output_type": "stream",
     "text": [
      "\u001b[34mdef\u001b[39;49;00m \u001b[32mmiddle\u001b[39;49;00m(x, y, z):\n",
      "    \u001b[34mif\u001b[39;49;00m y < z:\n",
      "        \u001b[36mprint\u001b[39;49;00m(c)\n",
      "        \u001b[36mprint\u001b[39;49;00m(d)\n",
      "    \u001b[34melse\u001b[39;49;00m:\n",
      "        \u001b[36mprint\u001b[39;49;00m(a)\n",
      "        \u001b[36mprint\u001b[39;49;00m(b)\n",
      "    \u001b[34mreturn\u001b[39;49;00m z"
     ]
    }
   ],
   "source": [
    "print_content(astor.to_source(middle_t1), '.py')"
   ]
  },
  {
   "cell_type": "code",
   "execution_count": 116,
   "metadata": {
    "pycharm": {
     "is_executing": true
    },
    "slideshow": {
     "slide_type": "subslide"
    }
   },
   "outputs": [
    {
     "name": "stdout",
     "output_type": "stream",
     "text": [
      "\u001b[34mdef\u001b[39;49;00m \u001b[32mp2\u001b[39;49;00m():\n",
      "    \u001b[34mif\u001b[39;49;00m \u001b[34mTrue\u001b[39;49;00m:\n",
      "        \u001b[34mif\u001b[39;49;00m x > y:\n",
      "            \u001b[34mreturn\u001b[39;49;00m y\n",
      "        \u001b[34melif\u001b[39;49;00m x > z:\n",
      "            \u001b[34mreturn\u001b[39;49;00m x\n",
      "    \u001b[34melif\u001b[39;49;00m x < y:\n",
      "        \u001b[34mreturn\u001b[39;49;00m y\n",
      "    \u001b[34melif\u001b[39;49;00m x < z:\n",
      "        \u001b[34mreturn\u001b[39;49;00m y"
     ]
    }
   ],
   "source": [
    "print_content(astor.to_source(middle_t2), '.py')"
   ]
  },
  {
   "cell_type": "markdown",
   "metadata": {
    "slideshow": {
     "slide_type": "slide"
    }
   },
   "source": [
    "## A Repairer Class\n",
    "\n",
    "So far, we have applied all our techniques on the `middle()` program only. Let us now create a `Repairer` class that applies automatic program repair on arbitrary Python programs. The idea is that you can apply it on some statistical debugger, for which you have gathered passing and failing test cases, and then invoke its `repair()` method to find a \"best\" fix candidate:\n",
    "\n",
    "```python\n",
    "debugger = OchiaiDebugger()\n",
    "with debugger:\n",
    "    <passing test>\n",
    "with debugger:\n",
    "    <failing test>\n",
    "...\n",
    "repairer = Repairer(debugger)\n",
    "repairer.repair()\n",
    "```"
   ]
  },
  {
   "cell_type": "markdown",
   "metadata": {
    "slideshow": {
     "slide_type": "subslide"
    }
   },
   "source": [
    "### Excursion: Implementing Repairer"
   ]
  },
  {
   "cell_type": "markdown",
   "metadata": {
    "slideshow": {
     "slide_type": "fragment"
    }
   },
   "source": [
    "The main argument to the `Repairer` constructor is the `debugger` to get information from. On top of that, it also allows to customize the classes used for mutation, crossover, and reduction. Setting `targets` allows to define a set of functions to repair; setting `sources` allows to set a set of sources to take repairs from. The constructor then sets up the environment for running tests and repairing, as described below."
   ]
  },
  {
   "cell_type": "code",
   "execution_count": 117,
   "metadata": {
    "pycharm": {
     "is_executing": true
    },
    "slideshow": {
     "slide_type": "subslide"
    }
   },
   "outputs": [],
   "source": [
    "class Repairer():\n",
    "    def __init__(self, debugger, targets=None, sources=None, log=False,\n",
    "                 mutator_class=StatementMutator,\n",
    "                 crossover_class=CrossoverOperator,\n",
    "                 reducer_class=DeltaDebugger,\n",
    "                 globals=None):\n",
    "        \"\"\"Constructor.\n",
    "`debugger`: a `DifferenceDebugger` to take tests and coverage from.\n",
    "`targets`: a list of functions/modules to be repaired.\n",
    "    (default: the covered functions in `debugger`, except tests)\n",
    "`sources`: a list of functions/modules to take repairs from.\n",
    "    (default: same as `targets`)\n",
    "`globals`: if given, a `globals()` dict for executing targets\n",
    "    (default: `globals()` of caller)\"\"\"\n",
    "\n",
    "        assert isinstance(debugger, DifferenceDebugger)\n",
    "        self.debugger = debugger\n",
    "        self.log = log\n",
    "        \n",
    "        if targets is None:\n",
    "            targets = self.default_functions()\n",
    "        if not targets:\n",
    "            raise ValueError(\"No targets to repair\")\n",
    "\n",
    "        if sources is None:\n",
    "            sources = self.default_functions()\n",
    "        if not sources:\n",
    "            raise ValueError(\"No sources to take repairs from\")\n",
    "\n",
    "        if self.debugger.function() is None:\n",
    "            raise ValueError(\"Multiple entry points observed\")\n",
    "\n",
    "        self.target_tree = self.parse(targets)\n",
    "        self.source_tree = self.parse(sources)\n",
    "\n",
    "        self.log_tree(\"Target code to be repaired:\", self.target_tree)\n",
    "        if ast.dump(self.target_tree) != ast.dump(self.source_tree):\n",
    "            self.log_tree(\"Source code to take repairs from:\", \n",
    "                          self.source_tree)\n",
    "\n",
    "        self.fitness_cache = {}\n",
    "\n",
    "        self.mutator = \\\n",
    "            mutator_class(\n",
    "                source=all_statements(self.source_tree),\n",
    "                suspiciousness_func=self.debugger.suspiciousness,\n",
    "                log=(self.log >= 3))\n",
    "        self.crossover = crossover_class(log=(self.log >= 3))\n",
    "        self.reducer = reducer_class(log=(self.log >= 3))\n",
    "\n",
    "        if globals is None:\n",
    "            globals = self.caller_globals()\n",
    "        self.globals = globals"
   ]
  },
  {
   "cell_type": "markdown",
   "metadata": {
    "slideshow": {
     "slide_type": "subslide"
    }
   },
   "source": [
    "#### Helper Functions\n",
    "\n",
    "The constructor uses a number of helper functions to create its environment."
   ]
  },
  {
   "cell_type": "markdown",
   "metadata": {
    "slideshow": {
     "slide_type": "fragment"
    }
   },
   "source": [
    "When we access or execute functions, we do so in the  caller's environment, not ours. The `caller_globals()` method from `StackInspector` acts as replacement for `globals()`."
   ]
  },
  {
   "cell_type": "code",
   "execution_count": 118,
   "metadata": {
    "pycharm": {
     "is_executing": true
    },
    "slideshow": {
     "slide_type": "skip"
    }
   },
   "outputs": [],
   "source": [
    "from Slicer import StackInspector  # minor dependency"
   ]
  },
  {
   "cell_type": "markdown",
   "metadata": {
    "slideshow": {
     "slide_type": "fragment"
    }
   },
   "source": [
    "We use multiple inheritance to include all of the functions of `StackInspector`."
   ]
  },
  {
   "cell_type": "code",
   "execution_count": 119,
   "metadata": {
    "pycharm": {
     "is_executing": true
    },
    "slideshow": {
     "slide_type": "fragment"
    }
   },
   "outputs": [],
   "source": [
    "class Repairer(Repairer, StackInspector):\n",
    "    pass"
   ]
  },
  {
   "cell_type": "code",
   "execution_count": 120,
   "metadata": {
    "pycharm": {
     "is_executing": true
    },
    "slideshow": {
     "slide_type": "subslide"
    }
   },
   "outputs": [],
   "source": [
    "class Repairer(Repairer):\n",
    "    def getsource(self, item):\n",
    "        \"\"\"Get the source for `item`. Can also be a string.\"\"\"\n",
    "        if isinstance(item, str):\n",
    "            item = self.globals[item]\n",
    "        return inspect.getsource(item)"
   ]
  },
  {
   "cell_type": "code",
   "execution_count": 121,
   "metadata": {
    "pycharm": {
     "is_executing": true
    },
    "slideshow": {
     "slide_type": "fragment"
    }
   },
   "outputs": [],
   "source": [
    "class Repairer(Repairer):\n",
    "    def default_functions(self):\n",
    "        \"\"\"Return the set of functions to be repaired.\n",
    "        Functions whose names start or end in `test` are excluded.\"\"\"\n",
    "        def is_test(name):\n",
    "            return name.startswith('test') or name.endswith('test')\n",
    "\n",
    "        return [func for func in self.debugger.covered_functions()\n",
    "                if not is_test(func.__name__)]"
   ]
  },
  {
   "cell_type": "code",
   "execution_count": 122,
   "metadata": {
    "pycharm": {
     "is_executing": true
    },
    "slideshow": {
     "slide_type": "subslide"
    }
   },
   "outputs": [],
   "source": [
    "class Repairer(Repairer):\n",
    "    def log_tree(self, description, tree):\n",
    "        \"\"\"Print out `tree` as source code prefixed by `description`.\"\"\"\n",
    "        if self.log:\n",
    "            print(description)\n",
    "            print_content(astor.to_source(tree), '.py')\n",
    "            print()\n",
    "            print()"
   ]
  },
  {
   "cell_type": "code",
   "execution_count": 123,
   "metadata": {
    "pycharm": {
     "is_executing": true
    },
    "slideshow": {
     "slide_type": "subslide"
    }
   },
   "outputs": [],
   "source": [
    "class Repairer(Repairer):\n",
    "    def parse(self, items):\n",
    "        \"\"\"Read in a set of items into a single tree\"\"\"\n",
    "        tree = ast.parse(\"\")\n",
    "        for item in items:\n",
    "            if isinstance(item, str):\n",
    "                item = self.globals[item]\n",
    "\n",
    "            item_lines, item_first_lineno = inspect.getsourcelines(item)\n",
    "\n",
    "            try:\n",
    "                item_tree = ast.parse(\"\".join(item_lines))\n",
    "            except IndentationError:\n",
    "                # inner function or likewise\n",
    "                warnings.warn(f\"Can't parse {item.__name__}\")\n",
    "                continue\n",
    "\n",
    "            ast.increment_lineno(item_tree, item_first_lineno - 1)\n",
    "            tree.body += item_tree.body\n",
    "\n",
    "        return tree"
   ]
  },
  {
   "cell_type": "markdown",
   "metadata": {
    "slideshow": {
     "slide_type": "subslide"
    }
   },
   "source": [
    "#### Running Tests\n",
    "\n",
    "Now that we have set the environment for `Repairer`, we can implement one step of automatic repair after the other. The method `run_test_set()` runs the given `test_set` (`DifferenceDebugger.PASS` or `DifferenceDebugger.FAIL`), returning the number of passed tests. If `validate` is set, it checks whether the outcomes are as expected."
   ]
  },
  {
   "cell_type": "code",
   "execution_count": 124,
   "metadata": {},
   "outputs": [],
   "source": [
    "def run_function(args_list, function,feedback_queue):\n",
    "    for args in args_list:\n",
    "        try:\n",
    "            function(**args)\n",
    "            feedback_queue.put(\"SUCCESS\")\n",
    "        except Exception as e:\n",
    "            feedback_queue.put(\"FAILURE\")\n",
    "        \n",
    "def function_runner_process(function, args_list):\n",
    "    feedback_communicator = Queue()\n",
    "    procs = []\n",
    "    \n",
    "    fun_runner = Process(target=run_function, args = (args_list, function, feedback_communicator))\n",
    "    procs.append(fun_runner)\n",
    "    fun_runner.start()\n",
    "    \n",
    "    TIMEOUT = 0.5\n",
    "    start = time.time()\n",
    "    \n",
    "    while time.time() - start <= TIMEOUT:\n",
    "        if not any(p.is_alive() for p in procs):\n",
    "            break #In this case, our function runner has terminated the exectuion of all fun calls\n",
    "        time.sleep(.05)  \n",
    "    else:\n",
    "        # Handle timeout, indicating endless loop\n",
    "  #      print(f\"At least one process did not terminate before timeout of {TIMEOUT} seconds\")\n",
    "        for p in procs:\n",
    "            p.terminate()\n",
    "            p.join()\n",
    "    \n",
    "    num_passed = 0\n",
    "    \n",
    "    while(not feedback_communicator.empty()):\n",
    "        feedback = feedback_communicator.get()\n",
    "        if (feedback == \"SUCCESS\"):\n",
    "            num_passed += 1\n",
    "    return num_passed"
   ]
  },
  {
   "cell_type": "code",
   "execution_count": 125,
   "metadata": {
    "pycharm": {
     "is_executing": true
    },
    "slideshow": {
     "slide_type": "subslide"
    }
   },
   "outputs": [],
   "source": [
    "class Repairer(Repairer):\n",
    "    def run_test_set(self, test_set, validate=False):\n",
    "        \"\"\"Run given `test_set`\n",
    "        (`DifferenceDebugger.PASS` or `DifferenceDebugger.FAIL`).\n",
    "        If `validate` is set, check expectations.\n",
    "        Return number of passed tests.\"\"\"\n",
    "        \n",
    "        passed = 0\n",
    "        collectors = self.debugger.collectors[test_set]     \n",
    "        function = self.debugger.function()\n",
    "        \n",
    "        args_to_test = list()\n",
    "        \n",
    "        for c in collectors:\n",
    "            if self.log >= 4:\n",
    "                print(f\"Testing {c.id()}...\", end=\"\")\n",
    "            args_to_test.append(c.args())\n",
    "            \n",
    "        num_passed = function_runner_process(function, args_to_test)\n",
    "        \n",
    "        return num_passed\n",
    "    "
   ]
  },
  {
   "cell_type": "code",
   "execution_count": 126,
   "metadata": {
    "pycharm": {
     "is_executing": true
    },
    "slideshow": {
     "slide_type": "subslide"
    }
   },
   "outputs": [],
   "source": [
    "class FailureNotReproducedError(ValueError):\n",
    "    pass"
   ]
  },
  {
   "cell_type": "markdown",
   "metadata": {
    "slideshow": {
     "slide_type": "fragment"
    }
   },
   "source": [
    "Here is how we use `run_tests_set()`:"
   ]
  },
  {
   "cell_type": "code",
   "execution_count": 127,
   "metadata": {
    "pycharm": {
     "is_executing": true
    },
    "slideshow": {
     "slide_type": "fragment"
    }
   },
   "outputs": [],
   "source": [
    "repairer = Repairer(middle_debugger)\n",
    "assert repairer.run_test_set(middle_debugger.PASS) == \\\n",
    "    len(MIDDLE_PASSING_TESTCASES)\n",
    "assert repairer.run_test_set(middle_debugger.FAIL) == 0"
   ]
  },
  {
   "cell_type": "markdown",
   "metadata": {
    "slideshow": {
     "slide_type": "fragment"
    }
   },
   "source": [
    "The method `run_tests()` runs passing and failing tests, weighing the passed testcases to obtain the overall fitness."
   ]
  },
  {
   "cell_type": "code",
   "execution_count": 128,
   "metadata": {},
   "outputs": [],
   "source": [
    "import PreprocessWorker"
   ]
  },
  {
   "cell_type": "code",
   "execution_count": 129,
   "metadata": {
    "pycharm": {
     "is_executing": true
    },
    "slideshow": {
     "slide_type": "subslide"
    }
   },
   "outputs": [],
   "source": [
    "class Repairer(Repairer):\n",
    "    def weight(self, test_set):\n",
    "        \"\"\"Return the weight of `test_set`\n",
    "        (`DifferenceDebugger.PASS` or `DifferenceDebugger.FAIL`).\n",
    "        \"\"\"\n",
    "        return {\n",
    "            self.debugger.PASS: WEIGHT_PASSING,\n",
    "            self.debugger.FAIL: WEIGHT_FAILING\n",
    "        }[test_set]\n",
    "    \n",
    "    def initiate_test_process(self, test_set, validate):\n",
    "        pass\n",
    "    \n",
    "    def run_tests(self, validate=False):\n",
    "        \"\"\"Run passing and failing tests, returning weighted fitness.\"\"\"\n",
    "        fitness = 0\n",
    "        \n",
    "        for test_set in [self.debugger.PASS, self.debugger.FAIL]:\n",
    "            passed = self.run_test_set(test_set, validate=validate)\n",
    "            ratio = passed / len(self.debugger.collectors[test_set])\n",
    "            fitness += self.weight(test_set) * ratio\n",
    "\n",
    "        return fitness\n",
    "    \n",
    "    def preprocess_results(self, communicator):\n",
    "        print(f\"Big Preprocessor is watching you, spying on communicator {communicator}, finishing queue: {self.finishing_queue}\")\n",
    "        counter = 0\n",
    "        while(counter<90):\n",
    "            item = communicator.get()\n",
    "            print(f\"Preprocessing item: {item}, item number: {counter}\")\n",
    "            counter += 1\n",
    " #       self.finishing_queue.put(counter)\n",
    "        self.child_conn.send(\"Hello please save me\")\n",
    "        self.child_conn.close()\n",
    "        print(f\"Set shared value to {counter}\")\n",
    "        return counter\n",
    "    \n",
    "    async def call_function(self, communicator, testing_function, args):\n",
    "        result = 0\n",
    "        try:\n",
    "            await testing_function(**args)\n",
    "            result = 1; #Passed\n",
    "        except Exception as err:\n",
    "            result = 0; #Failure\n",
    "        communicator.put(result)\n",
    "        print(f\"put element {result} into communicator, {communicator.qsize()}\")\n",
    "        return result\n",
    "        \n",
    "    async def async_initiation(self, args):\n",
    "        for arg in args:\n",
    "            print(f\"Calling test {arg[1]} with parameters {arg[2]}, communicator: {arg[0]}\")\n",
    "        \n",
    "        coroutines = [self.call_function(arg[0],arg[1],arg[2]) for arg in args]\n",
    "        res = await asyncio.gather(*coroutines)\n",
    "        print(f\"Gathered all results: {res}\")\n",
    "        self.finishing_queue.put(\"Continue\")\n",
    "        return res\n",
    "        \n",
    "    def run_test_set_concurrently(self,test_set,validate = False):\n",
    "        \"\"\"Run given `test_set` concurrently\n",
    "        (`DifferenceDebugger.PASS` or `DifferenceDebugger.FAIL`).\n",
    "        If `validate` is set, check expectations.\n",
    "        Return number of passed tests.\"\"\"\n",
    "        passed = 0\n",
    "        collectors = self.debugger.collectors[test_set] #returns all considered test cases\n",
    "        print(\"##############################\")\n",
    "        print(f\"Considered test cases of {test_set}-Set:\")\n",
    "        testing_function = self.debugger.function()\n",
    "         \n",
    "        communicator = Queue()\n",
    "        print(f\"Main communicator: {communicator}, finishing queue: {self.finishing_queue}\")\n",
    "        \n",
    "        loop = asyncio.get_event_loop()\n",
    "        coroutines = [(communicator,testing_function,fun.args()) for fun in collectors]\n",
    "    \n",
    "        preprocessor = Process(target=self.preprocess_results,args = (communicator,))\n",
    "        preprocessor.start()\n",
    "        future = asyncio.run_coroutine_threadsafe(self.async_initiation(coroutines), loop)\n",
    "        print(\"Finished creating task, waiting for finishing ticket\")\n",
    "        \n",
    "        passed_tests = 0 \n",
    "    #    passed_tests = self.finishing_queue.get()\n",
    "    \n",
    "    #    print(self.parent_conn.recv())\n",
    "        \n",
    "        print(f\"extracted value after sleep: {passed_tests}\")\n",
    "        \n",
    "        num_passed = passed_tests\n",
    "        \n",
    "        print(\"##############################\")\n",
    "\n",
    "        if validate and test_set == self.debugger.FAIL and num_passed > 0:\n",
    "            raise FailureNotReproducedError(\n",
    "                \"functions which should have failed, passed\")\n",
    "        \n",
    "        return num_passed\n",
    "\n",
    "    def __call__(self, args):   \n",
    "        return self.call_function(args)\n",
    "    \n",
    "    def run_tests_concurrently(self,validate=False):\n",
    "        \"\"\"Run passing and failing tests concurrently, returning weighted fitness.\"\"\"\n",
    "        fitness = 0\n",
    "        print([self.debugger.PASS, self.debugger.FAIL])\n",
    "        \n",
    "        for test_set in [self.debugger.PASS, self.debugger.FAIL]:\n",
    "            passed = self.run_test_set_concurrently(test_set, validate=validate)\n",
    "            ratio = passed / len(self.debugger.collectors[test_set])\n",
    "            fitness += self.weight(test_set) * ratio\n",
    "\n",
    "        return fitness"
   ]
  },
  {
   "cell_type": "markdown",
   "metadata": {
    "slideshow": {
     "slide_type": "subslide"
    }
   },
   "source": [
    "The method `validate()` ensures the observed tests can be adequately reproduced."
   ]
  },
  {
   "cell_type": "code",
   "execution_count": 130,
   "metadata": {
    "pycharm": {
     "is_executing": true
    },
    "slideshow": {
     "slide_type": "fragment"
    }
   },
   "outputs": [],
   "source": [
    "class Repairer(Repairer):\n",
    "    def validate(self):\n",
    "        fitness = self.run_tests(validate=True)\n",
    "        assert fitness == self.weight(self.debugger.PASS)\n",
    "    \n",
    "    def validate_concurrently(self):\n",
    "        fitness = self.run_tests_concurrently(validate=True)\n",
    "        assert fitness == self.weight(self.debugger.PASS) #TODO: Hier Parallelisierungspotential prüfen"
   ]
  },
  {
   "cell_type": "code",
   "execution_count": 131,
   "metadata": {
    "pycharm": {
     "is_executing": true
    },
    "slideshow": {
     "slide_type": "fragment"
    }
   },
   "outputs": [],
   "source": [
    "repairer = Repairer(middle_debugger)\n",
    "# repairer.validate()\n",
    "repairer.validate()"
   ]
  },
  {
   "cell_type": "markdown",
   "metadata": {
    "slideshow": {
     "slide_type": "subslide"
    }
   },
   "source": [
    "#### (Re)defining Functions\n",
    "\n",
    "Our `run_tests()` methods above do not yet redefine the function to be repaired. This is done by the `fitness()` function, which compiles and defines the given repair candidate `tree` before testing it.  It caches and returns the fitness."
   ]
  },
  {
   "cell_type": "code",
   "execution_count": 132,
   "metadata": {
    "pycharm": {
     "is_executing": true
    },
    "slideshow": {
     "slide_type": "subslide"
    }
   },
   "outputs": [],
   "source": [
    "class Repairer(Repairer):\n",
    "    def fitness(self, tree, concurrent_mode = False):\n",
    "        \"\"\"Test `tree`, returning its fitness\"\"\"\n",
    "        key = ast.dump(tree)\n",
    "        if key in self.fitness_cache:\n",
    "            return self.fitness_cache[key]\n",
    "\n",
    "        # Save defs\n",
    "        original_defs = {}\n",
    "        for name in self.toplevel_defs(tree):\n",
    "            if name in self.globals:\n",
    "                original_defs[name] = self.globals[name]\n",
    "            else:\n",
    "                warnings.warn(f\"Couldn't find definition of {repr(name)}\")\n",
    "\n",
    "        assert original_defs, f\"Couldn't find any definition\"\n",
    "\n",
    "        if self.log >= 3:\n",
    "            print(\"Repair candidate:\")\n",
    "            print_content(astor.to_source(tree), '.py')\n",
    "            print()\n",
    "\n",
    "        # Create new definition\n",
    "        try:\n",
    "            code = compile(tree, '<Repairer>', 'exec')\n",
    "        except ValueError:  # Compilation error\n",
    "            code = None\n",
    "        except TypeError as e:\n",
    "    #        print(astunparse.dump(tree))\n",
    "            raise e\n",
    "\n",
    "        if code is None:\n",
    "            if self.log >= 3:\n",
    "                print(f\"Fitness = 0.0 (compilation error)\")\n",
    "\n",
    "            fitness = 0.0\n",
    "            return fitness\n",
    "\n",
    "        # Execute new code, defining new functions in `self.globals`\n",
    "        exec(code, self.globals)\n",
    "\n",
    "        # Set new definitions in the namespace (`__globals__`)\n",
    "        # of the function we will be calling.\n",
    "        function = self.debugger.function()\n",
    "        for name in original_defs:\n",
    "            function.__globals__[name] = self.globals[name]\n",
    "        \n",
    "        fitness = 0\n",
    "        if(concurrent_mode):\n",
    "            fitness = self.run_tests_concurrently(validate=False)\n",
    "        else:\n",
    "            fitness = self.run_tests(validate=False)\n",
    "\n",
    "        # Restore definitions\n",
    "        for name in original_defs:\n",
    "            function.__globals__[name] = original_defs[name]\n",
    "            self.globals[name] = original_defs[name]\n",
    "\n",
    "        if self.log >= 3:\n",
    "            print(f\"Fitness = {fitness}\")\n",
    "\n",
    "        self.fitness_cache[key] = fitness\n",
    "        return fitness"
   ]
  },
  {
   "cell_type": "markdown",
   "metadata": {
    "slideshow": {
     "slide_type": "subslide"
    }
   },
   "source": [
    "The helper function `toplevel_defs()` helps saving and restoring the environment before and after redefining the function under repair."
   ]
  },
  {
   "cell_type": "code",
   "execution_count": 133,
   "metadata": {
    "pycharm": {
     "is_executing": true
    },
    "slideshow": {
     "slide_type": "fragment"
    }
   },
   "outputs": [],
   "source": [
    "class Repairer(Repairer):\n",
    "    def toplevel_defs(self, tree):\n",
    "        \"\"\"Return a list of defined functions and classes in `tree`\"\"\"\n",
    "        visitor = DefinitionVisitor()\n",
    "        visitor.visit(tree)\n",
    "        return visitor.definitions"
   ]
  },
  {
   "cell_type": "code",
   "execution_count": 134,
   "metadata": {
    "pycharm": {
     "is_executing": true
    },
    "slideshow": {
     "slide_type": "subslide"
    }
   },
   "outputs": [],
   "source": [
    "class DefinitionVisitor(NodeVisitor):\n",
    "    def __init__(self):\n",
    "        self.definitions = []\n",
    "\n",
    "    def add_definition(self, node):\n",
    "        self.definitions.append(node.name)\n",
    "\n",
    "    def visit_FunctionDef(self, node):\n",
    "        self.add_definition(node)\n",
    "\n",
    "    def visit_AsyncFunctionDef(self, node):\n",
    "        self.add_definition(node)\n",
    "\n",
    "    def visit_Class(self, node):\n",
    "        self.add_definition(node)"
   ]
  },
  {
   "cell_type": "markdown",
   "metadata": {
    "slideshow": {
     "slide_type": "subslide"
    }
   },
   "source": [
    "Here's an example for `fitness()`:"
   ]
  },
  {
   "cell_type": "code",
   "execution_count": 135,
   "metadata": {
    "pycharm": {
     "is_executing": true
    },
    "slideshow": {
     "slide_type": "subslide"
    }
   },
   "outputs": [
    {
     "name": "stdout",
     "output_type": "stream",
     "text": [
      "Target code to be repaired:\n",
      "\u001b[34mdef\u001b[39;49;00m \u001b[32mmiddle\u001b[39;49;00m(x, y, z):\n",
      "    \u001b[34mif\u001b[39;49;00m y < z:\n",
      "        \u001b[34mif\u001b[39;49;00m x < y:\n",
      "            \u001b[34mreturn\u001b[39;49;00m y\n",
      "        \u001b[34melif\u001b[39;49;00m x < z:\n",
      "            \u001b[34mreturn\u001b[39;49;00m y\n",
      "    \u001b[34melif\u001b[39;49;00m x > y:\n",
      "        \u001b[34mreturn\u001b[39;49;00m y\n",
      "    \u001b[34melif\u001b[39;49;00m x > z:\n",
      "        \u001b[34mreturn\u001b[39;49;00m x\n",
      "    \u001b[34mreturn\u001b[39;49;00m z\n",
      "\n"
     ]
    }
   ],
   "source": [
    "repairer = Repairer(middle_debugger, log=4)"
   ]
  },
  {
   "cell_type": "code",
   "execution_count": 136,
   "metadata": {
    "pycharm": {
     "is_executing": true
    },
    "slideshow": {
     "slide_type": "subslide"
    }
   },
   "outputs": [
    {
     "name": "stdout",
     "output_type": "stream",
     "text": [
      "Repair candidate:\n",
      "\u001b[34mdef\u001b[39;49;00m \u001b[32mmiddle\u001b[39;49;00m(x, y, z):\n",
      "    \u001b[34mif\u001b[39;49;00m y < z:\n",
      "        \u001b[34mif\u001b[39;49;00m x < y:\n",
      "            \u001b[34mreturn\u001b[39;49;00m y\n",
      "        \u001b[34melif\u001b[39;49;00m x < z:\n",
      "            \u001b[34mreturn\u001b[39;49;00m y\n",
      "    \u001b[34melif\u001b[39;49;00m x > y:\n",
      "        \u001b[34mreturn\u001b[39;49;00m y\n",
      "    \u001b[34melif\u001b[39;49;00m x > z:\n",
      "        \u001b[34mreturn\u001b[39;49;00m x\n",
      "    \u001b[34mreturn\u001b[39;49;00m z\n",
      "Testing middle_test(x=7, y=5, z=4)...Testing middle_test(x=6, y=6, z=2)...Testing middle_test(x=7, y=6, z=4)...Testing middle_test(x=0, y=7, z=7)...Testing middle_test(x=3, y=9, z=7)...Testing middle_test(x=2, y=3, z=8)...Testing middle_test(x=2, y=6, z=3)...Testing middle_test(x=2, y=8, z=4)...Testing middle_test(x=8, y=7, z=5)...Testing middle_test(x=0, y=0, z=6)...Testing middle_test(x=5, y=2, z=5)...Testing middle_test(x=9, y=6, z=9)...Testing middle_test(x=8, y=5, z=5)...Testing middle_test(x=1, y=7, z=0)...Testing middle_test(x=0, y=4, z=4)...Testing middle_test(x=8, y=7, z=5)...Testing middle_test(x=7, y=1, z=5)...Testing middle_test(x=3, y=5, z=3)...Testing middle_test(x=6, y=3, z=2)...Testing middle_test(x=3, y=9, z=8)...Testing middle_test(x=1, y=3, z=8)...Testing middle_test(x=5, y=9, z=1)...Testing middle_test(x=5, y=5, z=7)...Testing middle_test(x=9, y=0, z=3)...Testing middle_test(x=5, y=6, z=3)...Testing middle_test(x=7, y=9, z=8)...Testing middle_test(x=2, y=2, z=3)...Testing middle_test(x=1, y=8, z=1)...Testing middle_test(x=3, y=3, z=3)...Testing middle_test(x=7, y=3, z=6)...Testing middle_test(x=3, y=7, z=6)...Testing middle_test(x=2, y=3, z=1)...Testing middle_test(x=8, y=0, z=6)...Testing middle_test(x=5, y=4, z=0)...Testing middle_test(x=5, y=9, z=2)...Testing middle_test(x=6, y=7, z=1)...Testing middle_test(x=1, y=1, z=7)...Testing middle_test(x=1, y=6, z=8)...Testing middle_test(x=0, y=9, z=1)...Testing middle_test(x=5, y=9, z=7)...Testing middle_test(x=1, y=5, z=6)...Testing middle_test(x=1, y=6, z=1)...Testing middle_test(x=7, y=8, z=4)...Testing middle_test(x=2, y=8, z=4)...Testing middle_test(x=3, y=4, z=3)...Testing middle_test(x=8, y=4, z=5)...Testing middle_test(x=0, y=5, z=8)...Testing middle_test(x=9, y=7, z=0)...Testing middle_test(x=1, y=5, z=4)...Testing middle_test(x=9, y=8, z=9)...Testing middle_test(x=9, y=2, z=4)...Testing middle_test(x=3, y=2, z=0)...Testing middle_test(x=8, y=5, z=2)...Testing middle_test(x=4, y=9, z=7)...Testing middle_test(x=4, y=8, z=0)...Testing middle_test(x=5, y=9, z=1)...Testing middle_test(x=7, y=6, z=4)...Testing middle_test(x=8, y=9, z=2)...Testing middle_test(x=9, y=1, z=4)...Testing middle_test(x=9, y=7, z=2)...Testing middle_test(x=1, y=9, z=5)...Testing middle_test(x=1, y=9, z=1)...Testing middle_test(x=7, y=8, z=0)...Testing middle_test(x=4, y=8, z=6)...Testing middle_test(x=9, y=2, z=1)...Testing middle_test(x=9, y=4, z=5)...Testing middle_test(x=0, y=4, z=2)...Testing middle_test(x=6, y=8, z=4)...Testing middle_test(x=0, y=0, z=1)...Testing middle_test(x=6, y=4, z=3)...Testing middle_test(x=8, y=0, z=3)...Testing middle_test(x=9, y=5, z=1)...Testing middle_test(x=7, y=6, z=6)...Testing middle_test(x=4, y=6, z=0)...Testing middle_test(x=1, y=1, z=0)...Testing middle_test(x=8, y=4, z=1)...Testing middle_test(x=1, y=6, z=2)...Testing middle_test(x=4, y=5, z=1)...Testing middle_test(x=1, y=1, z=6)...Testing middle_test(x=1, y=2, z=1)...Testing middle_test(x=2, y=4, z=2)...Testing middle_test(x=7, y=3, z=3)...Testing middle_test(x=2, y=7, z=4)...Testing middle_test(x=0, y=8, z=0)...Testing middle_test(x=4, y=6, z=4)...Testing middle_test(x=1, y=5, z=2)...Testing middle_test(x=0, y=8, z=2)...Testing middle_test(x=3, y=5, z=6)...Testing middle_test(x=7, y=2, z=4)...Testing middle_test(x=5, y=4, z=5)...Testing middle_test(x=2, y=3, z=4)...Testing middle_test(x=2, y=2, z=4)...Testing middle_test(x=3, y=6, z=2)...Testing middle_test(x=9, y=4, z=0)...Testing middle_test(x=7, y=7, z=0)...Testing middle_test(x=4, y=9, z=8)...Testing middle_test(x=3, y=8, z=4)...Testing middle_test(x=3, y=3, z=5)...Testing middle_test(x=3, y=2, z=2)...Testing middle_test(x=8, y=8, z=1)...Testing middle_test(x=2, y=1, z=5)...Testing middle_test(x=5, y=2, z=9)...Testing middle_test(x=2, y=1, z=3)...Testing middle_test(x=3, y=0, z=7)...Testing middle_test(x=4, y=1, z=6)...Testing middle_test(x=2, y=0, z=9)...Testing middle_test(x=4, y=3, z=7)...Testing middle_test(x=5, y=3, z=8)...Testing middle_test(x=6, y=0, z=9)...Testing middle_test(x=2, y=0, z=4)...Testing middle_test(x=4, y=0, z=5)...Testing middle_test(x=6, y=5, z=9)...Testing middle_test(x=5, y=3, z=9)...Testing middle_test(x=7, y=0, z=9)...Testing middle_test(x=5, y=3, z=9)...Testing middle_test(x=2, y=1, z=6)...Testing middle_test(x=3, y=2, z=4)...Testing middle_test(x=2, y=1, z=5)...Testing middle_test(x=3, y=2, z=6)...Testing middle_test(x=6, y=4, z=7)...Testing middle_test(x=5, y=2, z=6)...Testing middle_test(x=4, y=2, z=5)...Testing middle_test(x=6, y=2, z=9)...Testing middle_test(x=4, y=2, z=8)...Testing middle_test(x=2, y=0, z=3)...Testing middle_test(x=2, y=1, z=5)...Testing middle_test(x=2, y=1, z=9)...Testing middle_test(x=7, y=6, z=9)...Testing middle_test(x=6, y=0, z=9)...Testing middle_test(x=7, y=6, z=9)...Testing middle_test(x=8, y=6, z=9)...Testing middle_test(x=7, y=6, z=9)...Testing middle_test(x=1, y=0, z=2)...Testing middle_test(x=1, y=0, z=3)...Testing middle_test(x=3, y=2, z=7)...Testing middle_test(x=6, y=5, z=9)...Testing middle_test(x=1, y=0, z=3)...Testing middle_test(x=6, y=4, z=7)...Testing middle_test(x=8, y=7, z=9)...Testing middle_test(x=2, y=0, z=4)...Testing middle_test(x=5, y=1, z=7)...Testing middle_test(x=6, y=4, z=9)...Testing middle_test(x=8, y=0, z=9)...Testing middle_test(x=2, y=1, z=4)...Testing middle_test(x=4, y=1, z=8)...Testing middle_test(x=3, y=0, z=4)...Testing middle_test(x=3, y=1, z=5)...Testing middle_test(x=7, y=5, z=8)...Testing middle_test(x=6, y=2, z=9)...Testing middle_test(x=2, y=0, z=4)...Testing middle_test(x=7, y=6, z=9)...Testing middle_test(x=2, y=1, z=6)...Testing middle_test(x=3, y=0, z=8)...Testing middle_test(x=5, y=3, z=8)...Testing middle_test(x=5, y=0, z=9)...Testing middle_test(x=4, y=0, z=9)...Testing middle_test(x=7, y=5, z=8)...Testing middle_test(x=4, y=2, z=7)...Testing middle_test(x=3, y=1, z=6)...Testing middle_test(x=2, y=0, z=4)...Testing middle_test(x=4, y=0, z=8)...Testing middle_test(x=2, y=1, z=8)...Testing middle_test(x=5, y=3, z=9)...Testing middle_test(x=4, y=3, z=5)...Testing middle_test(x=6, y=4, z=9)...Testing middle_test(x=7, y=6, z=8)...Testing middle_test(x=3, y=1, z=9)...Testing middle_test(x=4, y=2, z=7)...Testing middle_test(x=1, y=0, z=6)...Testing middle_test(x=1, y=0, z=5)...Testing middle_test(x=7, y=0, z=9)...Testing middle_test(x=4, y=0, z=7)...Testing middle_test(x=3, y=2, z=9)...Testing middle_test(x=4, y=1, z=6)...Testing middle_test(x=5, y=2, z=9)...Testing middle_test(x=8, y=0, z=9)...Testing middle_test(x=2, y=1, z=9)...Testing middle_test(x=4, y=3, z=6)...Testing middle_test(x=6, y=0, z=9)...Testing middle_test(x=3, y=1, z=4)...Testing middle_test(x=7, y=6, z=8)...Testing middle_test(x=6, y=1, z=7)...Testing middle_test(x=6, y=2, z=7)...Testing middle_test(x=3, y=0, z=9)...Testing middle_test(x=5, y=4, z=9)...Testing middle_test(x=8, y=6, z=9)...Testing middle_test(x=5, y=3, z=6)...Testing middle_test(x=2, y=1, z=7)...Testing middle_test(x=3, y=0, z=5)...Testing middle_test(x=6, y=1, z=8)...Testing middle_test(x=2, y=0, z=5)...Testing middle_test(x=2, y=0, z=9)...Testing middle_test(x=6, y=5, z=8)...Testing middle_test(x=2, y=0, z=4)...Testing middle_test(x=5, y=0, z=9)...Testing middle_test(x=1, y=0, z=9)...Testing middle_test(x=3, y=1, z=6)...Testing middle_test(x=3, y=1, z=5)...Testing middle_test(x=5, y=1, z=9)...Testing middle_test(x=6, y=2, z=7)...Fitness = 0.99\n"
     ]
    },
    {
     "data": {
      "text/plain": [
       "0.99"
      ]
     },
     "execution_count": 136,
     "metadata": {},
     "output_type": "execute_result"
    }
   ],
   "source": [
    "good_fitness = repairer.fitness(middle_tree(), concurrent_mode = False)\n",
    "good_fitness"
   ]
  },
  {
   "cell_type": "code",
   "execution_count": 137,
   "metadata": {
    "pycharm": {
     "is_executing": true
    },
    "slideshow": {
     "slide_type": "subslide"
    }
   },
   "outputs": [],
   "source": [
    "# ignore\n",
    "assert good_fitness >= 0.99, \"fitness() failed\""
   ]
  },
  {
   "cell_type": "code",
   "execution_count": 138,
   "metadata": {
    "pycharm": {
     "is_executing": true
    },
    "slideshow": {
     "slide_type": "subslide"
    }
   },
   "outputs": [
    {
     "name": "stdout",
     "output_type": "stream",
     "text": [
      "Repair candidate:\n",
      "\u001b[34mdef\u001b[39;49;00m \u001b[32mmiddle\u001b[39;49;00m(x, y, z):\n",
      "    \u001b[34mreturn\u001b[39;49;00m x\n",
      "Testing middle_test(x=7, y=5, z=4)...Testing middle_test(x=6, y=6, z=2)...Testing middle_test(x=7, y=6, z=4)...Testing middle_test(x=0, y=7, z=7)...Testing middle_test(x=3, y=9, z=7)...Testing middle_test(x=2, y=3, z=8)...Testing middle_test(x=2, y=6, z=3)...Testing middle_test(x=2, y=8, z=4)...Testing middle_test(x=8, y=7, z=5)...Testing middle_test(x=0, y=0, z=6)...Testing middle_test(x=5, y=2, z=5)...Testing middle_test(x=9, y=6, z=9)...Testing middle_test(x=8, y=5, z=5)...Testing middle_test(x=1, y=7, z=0)...Testing middle_test(x=0, y=4, z=4)...Testing middle_test(x=8, y=7, z=5)...Testing middle_test(x=7, y=1, z=5)...Testing middle_test(x=3, y=5, z=3)...Testing middle_test(x=6, y=3, z=2)...Testing middle_test(x=3, y=9, z=8)...Testing middle_test(x=1, y=3, z=8)...Testing middle_test(x=5, y=9, z=1)...Testing middle_test(x=5, y=5, z=7)...Testing middle_test(x=9, y=0, z=3)...Testing middle_test(x=5, y=6, z=3)...Testing middle_test(x=7, y=9, z=8)...Testing middle_test(x=2, y=2, z=3)...Testing middle_test(x=1, y=8, z=1)...Testing middle_test(x=3, y=3, z=3)...Testing middle_test(x=7, y=3, z=6)...Testing middle_test(x=3, y=7, z=6)...Testing middle_test(x=2, y=3, z=1)...Testing middle_test(x=8, y=0, z=6)...Testing middle_test(x=5, y=4, z=0)...Testing middle_test(x=5, y=9, z=2)...Testing middle_test(x=6, y=7, z=1)...Testing middle_test(x=1, y=1, z=7)...Testing middle_test(x=1, y=6, z=8)...Testing middle_test(x=0, y=9, z=1)...Testing middle_test(x=5, y=9, z=7)...Testing middle_test(x=1, y=5, z=6)...Testing middle_test(x=1, y=6, z=1)...Testing middle_test(x=7, y=8, z=4)...Testing middle_test(x=2, y=8, z=4)...Testing middle_test(x=3, y=4, z=3)...Testing middle_test(x=8, y=4, z=5)...Testing middle_test(x=0, y=5, z=8)...Testing middle_test(x=9, y=7, z=0)...Testing middle_test(x=1, y=5, z=4)...Testing middle_test(x=9, y=8, z=9)...Testing middle_test(x=9, y=2, z=4)...Testing middle_test(x=3, y=2, z=0)...Testing middle_test(x=8, y=5, z=2)...Testing middle_test(x=4, y=9, z=7)...Testing middle_test(x=4, y=8, z=0)...Testing middle_test(x=5, y=9, z=1)...Testing middle_test(x=7, y=6, z=4)...Testing middle_test(x=8, y=9, z=2)...Testing middle_test(x=9, y=1, z=4)...Testing middle_test(x=9, y=7, z=2)...Testing middle_test(x=1, y=9, z=5)...Testing middle_test(x=1, y=9, z=1)...Testing middle_test(x=7, y=8, z=0)...Testing middle_test(x=4, y=8, z=6)...Testing middle_test(x=9, y=2, z=1)...Testing middle_test(x=9, y=4, z=5)...Testing middle_test(x=0, y=4, z=2)...Testing middle_test(x=6, y=8, z=4)...Testing middle_test(x=0, y=0, z=1)...Testing middle_test(x=6, y=4, z=3)...Testing middle_test(x=8, y=0, z=3)...Testing middle_test(x=9, y=5, z=1)...Testing middle_test(x=7, y=6, z=6)...Testing middle_test(x=4, y=6, z=0)...Testing middle_test(x=1, y=1, z=0)...Testing middle_test(x=8, y=4, z=1)...Testing middle_test(x=1, y=6, z=2)...Testing middle_test(x=4, y=5, z=1)...Testing middle_test(x=1, y=1, z=6)...Testing middle_test(x=1, y=2, z=1)...Testing middle_test(x=2, y=4, z=2)...Testing middle_test(x=7, y=3, z=3)...Testing middle_test(x=2, y=7, z=4)...Testing middle_test(x=0, y=8, z=0)...Testing middle_test(x=4, y=6, z=4)...Testing middle_test(x=1, y=5, z=2)...Testing middle_test(x=0, y=8, z=2)...Testing middle_test(x=3, y=5, z=6)...Testing middle_test(x=7, y=2, z=4)...Testing middle_test(x=5, y=4, z=5)...Testing middle_test(x=2, y=3, z=4)...Testing middle_test(x=2, y=2, z=4)...Testing middle_test(x=3, y=6, z=2)...Testing middle_test(x=9, y=4, z=0)...Testing middle_test(x=7, y=7, z=0)...Testing middle_test(x=4, y=9, z=8)...Testing middle_test(x=3, y=8, z=4)...Testing middle_test(x=3, y=3, z=5)...Testing middle_test(x=3, y=2, z=2)...Testing middle_test(x=8, y=8, z=1)...Testing middle_test(x=2, y=1, z=5)...Testing middle_test(x=5, y=2, z=9)...Testing middle_test(x=2, y=1, z=3)...Testing middle_test(x=3, y=0, z=7)...Testing middle_test(x=4, y=1, z=6)...Testing middle_test(x=2, y=0, z=9)...Testing middle_test(x=4, y=3, z=7)...Testing middle_test(x=5, y=3, z=8)...Testing middle_test(x=6, y=0, z=9)...Testing middle_test(x=2, y=0, z=4)...Testing middle_test(x=4, y=0, z=5)...Testing middle_test(x=6, y=5, z=9)...Testing middle_test(x=5, y=3, z=9)...Testing middle_test(x=7, y=0, z=9)...Testing middle_test(x=5, y=3, z=9)...Testing middle_test(x=2, y=1, z=6)...Testing middle_test(x=3, y=2, z=4)...Testing middle_test(x=2, y=1, z=5)...Testing middle_test(x=3, y=2, z=6)...Testing middle_test(x=6, y=4, z=7)...Testing middle_test(x=5, y=2, z=6)...Testing middle_test(x=4, y=2, z=5)...Testing middle_test(x=6, y=2, z=9)...Testing middle_test(x=4, y=2, z=8)...Testing middle_test(x=2, y=0, z=3)...Testing middle_test(x=2, y=1, z=5)...Testing middle_test(x=2, y=1, z=9)...Testing middle_test(x=7, y=6, z=9)...Testing middle_test(x=6, y=0, z=9)...Testing middle_test(x=7, y=6, z=9)...Testing middle_test(x=8, y=6, z=9)...Testing middle_test(x=7, y=6, z=9)...Testing middle_test(x=1, y=0, z=2)...Testing middle_test(x=1, y=0, z=3)...Testing middle_test(x=3, y=2, z=7)...Testing middle_test(x=6, y=5, z=9)...Testing middle_test(x=1, y=0, z=3)...Testing middle_test(x=6, y=4, z=7)...Testing middle_test(x=8, y=7, z=9)...Testing middle_test(x=2, y=0, z=4)...Testing middle_test(x=5, y=1, z=7)...Testing middle_test(x=6, y=4, z=9)...Testing middle_test(x=8, y=0, z=9)...Testing middle_test(x=2, y=1, z=4)...Testing middle_test(x=4, y=1, z=8)...Testing middle_test(x=3, y=0, z=4)...Testing middle_test(x=3, y=1, z=5)...Testing middle_test(x=7, y=5, z=8)...Testing middle_test(x=6, y=2, z=9)...Testing middle_test(x=2, y=0, z=4)...Testing middle_test(x=7, y=6, z=9)...Testing middle_test(x=2, y=1, z=6)...Testing middle_test(x=3, y=0, z=8)...Testing middle_test(x=5, y=3, z=8)...Testing middle_test(x=5, y=0, z=9)...Testing middle_test(x=4, y=0, z=9)...Testing middle_test(x=7, y=5, z=8)...Testing middle_test(x=4, y=2, z=7)...Testing middle_test(x=3, y=1, z=6)...Testing middle_test(x=2, y=0, z=4)...Testing middle_test(x=4, y=0, z=8)...Testing middle_test(x=2, y=1, z=8)...Testing middle_test(x=5, y=3, z=9)...Testing middle_test(x=4, y=3, z=5)...Testing middle_test(x=6, y=4, z=9)...Testing middle_test(x=7, y=6, z=8)...Testing middle_test(x=3, y=1, z=9)...Testing middle_test(x=4, y=2, z=7)...Testing middle_test(x=1, y=0, z=6)...Testing middle_test(x=1, y=0, z=5)...Testing middle_test(x=7, y=0, z=9)...Testing middle_test(x=4, y=0, z=7)...Testing middle_test(x=3, y=2, z=9)...Testing middle_test(x=4, y=1, z=6)...Testing middle_test(x=5, y=2, z=9)...Testing middle_test(x=8, y=0, z=9)...Testing middle_test(x=2, y=1, z=9)...Testing middle_test(x=4, y=3, z=6)...Testing middle_test(x=6, y=0, z=9)...Testing middle_test(x=3, y=1, z=4)...Testing middle_test(x=7, y=6, z=8)...Testing middle_test(x=6, y=1, z=7)...Testing middle_test(x=6, y=2, z=7)...Testing middle_test(x=3, y=0, z=9)...Testing middle_test(x=5, y=4, z=9)...Testing middle_test(x=8, y=6, z=9)...Testing middle_test(x=5, y=3, z=6)...Testing middle_test(x=2, y=1, z=7)...Testing middle_test(x=3, y=0, z=5)...Testing middle_test(x=6, y=1, z=8)...Testing middle_test(x=2, y=0, z=5)...Testing middle_test(x=2, y=0, z=9)...Testing middle_test(x=6, y=5, z=8)...Testing middle_test(x=2, y=0, z=4)...Testing middle_test(x=5, y=0, z=9)...Testing middle_test(x=1, y=0, z=9)...Testing middle_test(x=3, y=1, z=6)...Testing middle_test(x=3, y=1, z=5)...Testing middle_test(x=5, y=1, z=9)...Testing middle_test(x=6, y=2, z=7)...Fitness = 0.4159\n"
     ]
    },
    {
     "data": {
      "text/plain": [
       "0.4159"
      ]
     },
     "execution_count": 138,
     "metadata": {},
     "output_type": "execute_result"
    }
   ],
   "source": [
    "bad_middle_tree = ast.parse(\"def middle(x, y, z): return x\")\n",
    "bad_fitness = repairer.fitness(bad_middle_tree)\n",
    "bad_fitness"
   ]
  },
  {
   "cell_type": "code",
   "execution_count": 139,
   "metadata": {
    "pycharm": {
     "is_executing": true
    },
    "slideshow": {
     "slide_type": "subslide"
    }
   },
   "outputs": [],
   "source": [
    "# ignore\n",
    "assert bad_fitness < 0.5, \"fitness() failed\""
   ]
  },
  {
   "cell_type": "markdown",
   "metadata": {
    "slideshow": {
     "slide_type": "subslide"
    }
   },
   "source": [
    "#### Repairing\n",
    "\n",
    "Now for the actual `repair()` method, which creates a `population` and then evolves it until the fitness is 1.0 or the given number of iterations is spent."
   ]
  },
  {
   "cell_type": "code",
   "execution_count": 140,
   "metadata": {
    "pycharm": {
     "is_executing": true
    },
    "slideshow": {
     "slide_type": "subslide"
    }
   },
   "outputs": [],
   "source": [
    "class Repairer(Repairer):\n",
    "    def initial_population(self, size):\n",
    "        \"\"\"Return an initial population of size `size`\"\"\"\n",
    "        return [self.target_tree] + \\\n",
    "            [self.mutator.mutate(copy.deepcopy(self.target_tree))\n",
    "                for i in range(size - 1)]\n",
    "\n",
    "    def repair(self, population_size=POPULATION_SIZE, iterations=100):\n",
    "        \"\"\"Repair the function we collected test runs from.\n",
    "        Use a population size of `population_size` and\n",
    "        at most `iterations` iterations.\n",
    "        Returns the AST of the repaired function.\"\"\"\n",
    "        self.validate()\n",
    "\n",
    "        population = self.initial_population(population_size)\n",
    "\n",
    "        last_key = ast.dump(self.target_tree)\n",
    "        \n",
    "        begin_time = time.time()\n",
    "\n",
    "        for iteration in range(iterations):\n",
    "            population = self.evolve(population)\n",
    "\n",
    "            best_tree = population[0]\n",
    "            fitness = self.fitness(best_tree)\n",
    "\n",
    "            if self.log:\n",
    "                print(f\"Evolving population: \"\n",
    "                      f\"iteration{iteration:4}/{iterations} \"\n",
    "                      f\"fitness = {fitness:.5}   \\r\", end=\"\")\n",
    "\n",
    "            if self.log >= 2:\n",
    "                best_key = ast.dump(best_tree)\n",
    "                if best_key != last_key:\n",
    "                    print()\n",
    "                    print()\n",
    "                    self.log_tree(f\"New best code (fitness = {fitness}):\",\n",
    "                                  best_tree)\n",
    "                    last_key = best_key\n",
    "\n",
    "            if fitness >= 1.0:\n",
    "                break\n",
    "\n",
    "        if self.log:\n",
    "            print()\n",
    "\n",
    "        if self.log and self.log < 2:\n",
    "            self.log_tree(f\"Best code (fitness = {fitness}):\", best_tree)\n",
    "\n",
    "        best_tree = self.reduce(best_tree)\n",
    "        fitness = self.fitness(best_tree)\n",
    "\n",
    "        self.log_tree(f\"Reduced code (fitness = {fitness}):\", best_tree)\n",
    "        \n",
    "        end_time = time.time()\n",
    "        print(f\"It took the MetaRepairer {end_time - begin_time} seconds to repair the given code\")\n",
    "        \n",
    "        return best_tree, fitness"
   ]
  },
  {
   "cell_type": "markdown",
   "metadata": {
    "slideshow": {
     "slide_type": "subslide"
    }
   },
   "source": [
    "#### Evolving\n",
    "\n",
    "The evolution of our population takes place in the `evolve()` method. In contrast to the `evolve_middle()` function, above, we use crossover to create the offspring, which we still mutate afterwards."
   ]
  },
  {
   "cell_type": "code",
   "execution_count": 141,
   "metadata": {
    "pycharm": {
     "is_executing": true
    },
    "slideshow": {
     "slide_type": "subslide"
    }
   },
   "outputs": [],
   "source": [
    "class Repairer(Repairer):\n",
    "    def evolve(self, population):\n",
    "        \"\"\"Evolve the candidate population by mutating and crossover.\"\"\"\n",
    "        n = len(population)\n",
    "\n",
    "        # Create offspring as crossover of parents\n",
    "        offspring = []\n",
    "        while len(offspring) < n:\n",
    "            parent_1 = copy.deepcopy(random.choice(population))\n",
    "            parent_2 = copy.deepcopy(random.choice(population))\n",
    "            try:\n",
    "                self.crossover.crossover(parent_1, parent_2)\n",
    "            except CrossoverError:\n",
    "                pass  # Just keep parents\n",
    "            offspring += [parent_1, parent_2]\n",
    "\n",
    "        # Mutate offspring\n",
    "\n",
    "        offspring = [self.mutator.mutate(tree) for tree in offspring]\n",
    "        \n",
    "        # Add it to population\n",
    "        population += offspring\n",
    "\n",
    "        # Keep the fitter part of the population\n",
    "        population.sort(key=self.fitness_key, reverse=True)\n",
    "        population = population[:n]\n",
    "\n",
    "        return population"
   ]
  },
  {
   "cell_type": "markdown",
   "metadata": {
    "slideshow": {
     "slide_type": "subslide"
    }
   },
   "source": [
    "A second difference is that we not only sort by fitness, but also by tree size – with equal fitness, a smaller tree thus will be favored. This helps keeping fixes and patches small."
   ]
  },
  {
   "cell_type": "code",
   "execution_count": 142,
   "metadata": {
    "pycharm": {
     "is_executing": true
    },
    "slideshow": {
     "slide_type": "fragment"
    }
   },
   "outputs": [],
   "source": [
    "class Repairer(Repairer):\n",
    "    def fitness_key(self, tree):\n",
    "        \"\"\"Key to be used for sorting the population\"\"\"\n",
    "        tree_size = len([node for node in ast.walk(tree)])\n",
    "        return (self.fitness(tree), -tree_size)"
   ]
  },
  {
   "cell_type": "markdown",
   "metadata": {
    "slideshow": {
     "slide_type": "subslide"
    }
   },
   "source": [
    "#### Simplifying\n",
    "\n",
    "The last step in repairing is simplifying the code. As demonstrated in the chapter on [reducing failure-inducing inputs](DeltaDebugger.ipynb), we can use delta debugging on code to get rid of superfluous statements. To this end, we convert the tree to lines, run delta debugging on them, and then convert it back to a tree."
   ]
  },
  {
   "cell_type": "code",
   "execution_count": 143,
   "metadata": {
    "pycharm": {
     "is_executing": true
    },
    "slideshow": {
     "slide_type": "subslide"
    }
   },
   "outputs": [],
   "source": [
    "class Repairer(Repairer):\n",
    "    def reduce(self, tree):\n",
    "        \"\"\"Simplify `tree` using delta debugging.\"\"\"\n",
    "\n",
    "        original_fitness = self.fitness(tree)\n",
    "        source_lines = astor.to_source(tree).split('\\n')\n",
    "\n",
    "        with self.reducer:\n",
    "            self.test_reduce(source_lines, original_fitness)\n",
    "\n",
    "        reduced_lines = self.reducer.min_args()['source_lines']\n",
    "        reduced_source = \"\\n\".join(reduced_lines)\n",
    "\n",
    "        return ast.parse(reduced_source)"
   ]
  },
  {
   "cell_type": "markdown",
   "metadata": {
    "slideshow": {
     "slide_type": "subslide"
    }
   },
   "source": [
    "As dicussed above, we simplify the code by having the test function (`test_reduce()`) declare reaching the maximum fitness obtained so far as a \"failure\". Delta debugging will then simplify the input as long as the \"failure\" (and hence the maximum fitness obtained) persists."
   ]
  },
  {
   "cell_type": "code",
   "execution_count": 144,
   "metadata": {
    "pycharm": {
     "is_executing": true
    },
    "slideshow": {
     "slide_type": "skip"
    }
   },
   "outputs": [],
   "source": [
    "import traceback"
   ]
  },
  {
   "cell_type": "code",
   "execution_count": 145,
   "metadata": {
    "pycharm": {
     "is_executing": true
    },
    "slideshow": {
     "slide_type": "subslide"
    }
   },
   "outputs": [],
   "source": [
    "class Repairer(Repairer):\n",
    "    def test_reduce(self, source_lines, original_fitness):\n",
    "        \"\"\"Test function for delta debugging.\"\"\"\n",
    "\n",
    "        try:\n",
    "            source = \"\\n\".join(source_lines)\n",
    "            tree = ast.parse(source)\n",
    "            fitness = self.fitness(tree)\n",
    "            assert fitness < original_fitness\n",
    "\n",
    "        except AssertionError:\n",
    "            raise\n",
    "        except SyntaxError:\n",
    "            raise\n",
    "        except IndentationError:\n",
    "            raise\n",
    "        except Exception:\n",
    "            # traceback.print_exc()  # Uncomment to see internal errors\n",
    "            raise"
   ]
  },
  {
   "cell_type": "markdown",
   "metadata": {
    "slideshow": {
     "slide_type": "subslide"
    }
   },
   "source": [
    "### End of Excursion"
   ]
  },
  {
   "cell_type": "markdown",
   "metadata": {
    "slideshow": {
     "slide_type": "subslide"
    }
   },
   "source": [
    "### Repairer in Action\n",
    "\n",
    "Let us go and apply `Repairer` in practice. We initialize it with `middle_debugger`, which has (still) collected the passing and failing runs for `middle_test()`. We also set `log` for some diagnostics along the way."
   ]
  },
  {
   "cell_type": "code",
   "execution_count": 146,
   "metadata": {
    "pycharm": {
     "is_executing": true
    },
    "slideshow": {
     "slide_type": "subslide"
    }
   },
   "outputs": [
    {
     "name": "stdout",
     "output_type": "stream",
     "text": [
      "Target code to be repaired:\n",
      "\u001b[34mdef\u001b[39;49;00m \u001b[32mmiddle\u001b[39;49;00m(x, y, z):\n",
      "    \u001b[34mif\u001b[39;49;00m y < z:\n",
      "        \u001b[34mif\u001b[39;49;00m x < y:\n",
      "            \u001b[34mreturn\u001b[39;49;00m y\n",
      "        \u001b[34melif\u001b[39;49;00m x < z:\n",
      "            \u001b[34mreturn\u001b[39;49;00m y\n",
      "    \u001b[34melif\u001b[39;49;00m x > y:\n",
      "        \u001b[34mreturn\u001b[39;49;00m y\n",
      "    \u001b[34melif\u001b[39;49;00m x > z:\n",
      "        \u001b[34mreturn\u001b[39;49;00m x\n",
      "    \u001b[34mreturn\u001b[39;49;00m z\n",
      "\n"
     ]
    }
   ],
   "source": [
    "repairer = Repairer(middle_debugger, log=True)"
   ]
  },
  {
   "cell_type": "markdown",
   "metadata": {
    "slideshow": {
     "slide_type": "subslide"
    }
   },
   "source": [
    "We now invoke `repair()` to evolve our population. After a few iterations, we find a best tree with perfect fitness."
   ]
  },
  {
   "cell_type": "code",
   "execution_count": 147,
   "metadata": {
    "pycharm": {
     "is_executing": true
    },
    "slideshow": {
     "slide_type": "subslide"
    }
   },
   "outputs": [
    {
     "name": "stdout",
     "output_type": "stream",
     "text": [
      "Evolving population: iteration   0/100 fitness = 1.0   \n",
      "Best code (fitness = 1.0):\n",
      "\u001b[34mdef\u001b[39;49;00m \u001b[32mmiddle\u001b[39;49;00m(x, y, z):\n",
      "    \u001b[34mif\u001b[39;49;00m y < z:\n",
      "        \u001b[34mif\u001b[39;49;00m x < y:\n",
      "            \u001b[34mreturn\u001b[39;49;00m y\n",
      "        \u001b[34melif\u001b[39;49;00m x < z:\n",
      "            \u001b[34mreturn\u001b[39;49;00m x\n",
      "    \u001b[34melif\u001b[39;49;00m x > y:\n",
      "        \u001b[34mreturn\u001b[39;49;00m y\n",
      "    \u001b[34melif\u001b[39;49;00m x > z:\n",
      "        \u001b[34mreturn\u001b[39;49;00m x\n",
      "    \u001b[34mreturn\u001b[39;49;00m z\n",
      "\n",
      "Reduced code (fitness = 1.0):\n",
      "\u001b[34mdef\u001b[39;49;00m \u001b[32mmiddle\u001b[39;49;00m(x, y, z):\n",
      "    \u001b[34mif\u001b[39;49;00m y < z:\n",
      "        \u001b[34mif\u001b[39;49;00m x < y:\n",
      "            \u001b[34mreturn\u001b[39;49;00m y\n",
      "        \u001b[34melif\u001b[39;49;00m x < z:\n",
      "            \u001b[34mreturn\u001b[39;49;00m x\n",
      "    \u001b[34melif\u001b[39;49;00m x > y:\n",
      "        \u001b[34mreturn\u001b[39;49;00m y\n",
      "    \u001b[34melif\u001b[39;49;00m x > z:\n",
      "        \u001b[34mreturn\u001b[39;49;00m x\n",
      "    \u001b[34mreturn\u001b[39;49;00m z\n",
      "\n",
      "It took the MetaRepairer 11.328902959823608 seconds to repair the given code\n"
     ]
    }
   ],
   "source": [
    "best_tree, fitness = repairer.repair()"
   ]
  },
  {
   "cell_type": "code",
   "execution_count": 148,
   "metadata": {
    "pycharm": {
     "is_executing": true
    },
    "slideshow": {
     "slide_type": "subslide"
    }
   },
   "outputs": [
    {
     "name": "stdout",
     "output_type": "stream",
     "text": [
      "\u001b[34mdef\u001b[39;49;00m \u001b[32mmiddle\u001b[39;49;00m(x, y, z):\n",
      "    \u001b[34mif\u001b[39;49;00m y < z:\n",
      "        \u001b[34mif\u001b[39;49;00m x < y:\n",
      "            \u001b[34mreturn\u001b[39;49;00m y\n",
      "        \u001b[34melif\u001b[39;49;00m x < z:\n",
      "            \u001b[34mreturn\u001b[39;49;00m x\n",
      "    \u001b[34melif\u001b[39;49;00m x > y:\n",
      "        \u001b[34mreturn\u001b[39;49;00m y\n",
      "    \u001b[34melif\u001b[39;49;00m x > z:\n",
      "        \u001b[34mreturn\u001b[39;49;00m x\n",
      "    \u001b[34mreturn\u001b[39;49;00m z"
     ]
    }
   ],
   "source": [
    "print_content(astor.to_source(best_tree), '.py')"
   ]
  },
  {
   "cell_type": "code",
   "execution_count": 149,
   "metadata": {
    "pycharm": {
     "is_executing": true
    },
    "slideshow": {
     "slide_type": "fragment"
    }
   },
   "outputs": [
    {
     "data": {
      "text/plain": [
       "1.0"
      ]
     },
     "execution_count": 149,
     "metadata": {},
     "output_type": "execute_result"
    }
   ],
   "source": [
    "fitness"
   ]
  },
  {
   "cell_type": "markdown",
   "metadata": {
    "slideshow": {
     "slide_type": "subslide"
    }
   },
   "source": [
    "Again, we have a perfect solution. Here, we did not even need to simplify the code in the last iteration, as our `fitness_key()` function favors smaller implementations."
   ]
  },
  {
   "cell_type": "markdown",
   "metadata": {
    "slideshow": {
     "slide_type": "slide"
    }
   },
   "source": [
    "## Removing HTML Markup\n",
    "\n",
    "Let us apply `Repairer` on our other ongoing example, namely `remove_html_markup()`."
   ]
  },
  {
   "cell_type": "code",
   "execution_count": 150,
   "metadata": {
    "pycharm": {
     "is_executing": true
    },
    "slideshow": {
     "slide_type": "subslide"
    }
   },
   "outputs": [],
   "source": [
    "def remove_html_markup(s):\n",
    "    tag = False\n",
    "    quote = False\n",
    "    out = \"\"\n",
    "\n",
    "    for c in s:\n",
    "        if c == '<' and not quote:\n",
    "            tag = True\n",
    "        elif c == '>' and not quote:\n",
    "            tag = False\n",
    "        elif c == '\"' or c == \"'\" and tag:\n",
    "            quote = not quote\n",
    "        elif not tag:\n",
    "            out = out + c\n",
    "\n",
    "    return out"
   ]
  },
  {
   "cell_type": "code",
   "execution_count": 151,
   "metadata": {
    "pycharm": {
     "is_executing": true
    },
    "slideshow": {
     "slide_type": "subslide"
    }
   },
   "outputs": [],
   "source": [
    "def remove_html_markup_tree():\n",
    "    return ast.parse(inspect.getsource(remove_html_markup))"
   ]
  },
  {
   "cell_type": "markdown",
   "metadata": {
    "slideshow": {
     "slide_type": "fragment"
    }
   },
   "source": [
    "To run `Repairer` on `remove_html_markup()`, we need a test and a test suite. `remove_html_markup_test()` raises an exception if applying `remove_html_markup()` on the given `html` string does not yield the `plain` string."
   ]
  },
  {
   "cell_type": "code",
   "execution_count": 152,
   "metadata": {
    "pycharm": {
     "is_executing": true
    },
    "slideshow": {
     "slide_type": "fragment"
    }
   },
   "outputs": [],
   "source": [
    "def remove_html_markup_test(html, plain):\n",
    "    outcome = remove_html_markup(html)\n",
    "    assert outcome == plain, \\\n",
    "        f\"Got {repr(outcome)}, expected {repr(plain)}\""
   ]
  },
  {
   "cell_type": "markdown",
   "metadata": {
    "slideshow": {
     "slide_type": "fragment"
    }
   },
   "source": [
    "Now for the test suite. We use a simple fuzzing scheme to create dozens of passing and failing test cases in `REMOVE_HTML_PASSING_TESTCASES` and `REMOVE_HTML_FAILING_TESTCASES`, respectively."
   ]
  },
  {
   "cell_type": "markdown",
   "metadata": {
    "slideshow": {
     "slide_type": "subslide"
    }
   },
   "source": [
    "### Excursion: Creating HTML Test Cases"
   ]
  },
  {
   "cell_type": "code",
   "execution_count": 153,
   "metadata": {
    "pycharm": {
     "is_executing": true
    },
    "slideshow": {
     "slide_type": "fragment"
    }
   },
   "outputs": [],
   "source": [
    "def random_string(length=5, start=ord(' '), end=ord('~')):\n",
    "    return \"\".join(chr(random.randrange(start, end + 1)) for i in range(length))"
   ]
  },
  {
   "cell_type": "code",
   "execution_count": 154,
   "metadata": {
    "pycharm": {
     "is_executing": true
    },
    "slideshow": {
     "slide_type": "fragment"
    }
   },
   "outputs": [
    {
     "data": {
      "text/plain": [
       "'n=-f}'"
      ]
     },
     "execution_count": 154,
     "metadata": {},
     "output_type": "execute_result"
    }
   ],
   "source": [
    "random_string()"
   ]
  },
  {
   "cell_type": "code",
   "execution_count": 155,
   "metadata": {
    "pycharm": {
     "is_executing": true
    },
    "slideshow": {
     "slide_type": "fragment"
    }
   },
   "outputs": [],
   "source": [
    "def random_id(length=2):\n",
    "    return random_string(start=ord('a'), end=ord('z'))"
   ]
  },
  {
   "cell_type": "code",
   "execution_count": 156,
   "metadata": {
    "pycharm": {
     "is_executing": true
    },
    "slideshow": {
     "slide_type": "fragment"
    }
   },
   "outputs": [
    {
     "data": {
      "text/plain": [
       "'sqhdu'"
      ]
     },
     "execution_count": 156,
     "metadata": {},
     "output_type": "execute_result"
    }
   ],
   "source": [
    "random_id()"
   ]
  },
  {
   "cell_type": "code",
   "execution_count": 157,
   "metadata": {
    "pycharm": {
     "is_executing": true
    },
    "slideshow": {
     "slide_type": "fragment"
    }
   },
   "outputs": [],
   "source": [
    "def random_plain():\n",
    "    return random_string().replace('<', '').replace('>', '')"
   ]
  },
  {
   "cell_type": "code",
   "execution_count": 158,
   "metadata": {
    "pycharm": {
     "is_executing": true
    },
    "slideshow": {
     "slide_type": "fragment"
    }
   },
   "outputs": [],
   "source": [
    "def random_string_noquotes():\n",
    "    return random_string().replace('\"', '').replace(\"'\", '')"
   ]
  },
  {
   "cell_type": "code",
   "execution_count": 159,
   "metadata": {
    "pycharm": {
     "is_executing": true
    },
    "slideshow": {
     "slide_type": "subslide"
    }
   },
   "outputs": [],
   "source": [
    "def random_html(depth=0):\n",
    "    prefix = random_plain()\n",
    "    tag = random_id()\n",
    "\n",
    "    if depth > 0:\n",
    "        html, plain = random_html(depth - 1)\n",
    "    else:\n",
    "        html = plain = random_plain()\n",
    "\n",
    "    attr = random_id()\n",
    "    value = '\"' + random_string_noquotes() + '\"'\n",
    "    postfix = random_plain()\n",
    "\n",
    "    return f'{prefix}<{tag} {attr}={value}>{html}</{tag}>{postfix}', \\\n",
    "        prefix + plain + postfix"
   ]
  },
  {
   "cell_type": "code",
   "execution_count": 160,
   "metadata": {
    "pycharm": {
     "is_executing": true
    },
    "slideshow": {
     "slide_type": "subslide"
    }
   },
   "outputs": [
    {
     "data": {
      "text/plain": [
       "('@)mJB<xmzaw dmyac=\"g:mEs\">ec2j?</xmzaw>@l)-t', '@)mJBec2j?@l)-t')"
      ]
     },
     "execution_count": 160,
     "metadata": {},
     "output_type": "execute_result"
    }
   ],
   "source": [
    "random_html()"
   ]
  },
  {
   "cell_type": "code",
   "execution_count": 161,
   "metadata": {
    "pycharm": {
     "is_executing": true
    },
    "slideshow": {
     "slide_type": "fragment"
    }
   },
   "outputs": [],
   "source": [
    "def remove_html_testcase(expected=True):\n",
    "    while True:\n",
    "        html, plain = random_html()\n",
    "        outcome = (remove_html_markup(html) == plain)\n",
    "        if outcome == expected:\n",
    "            return html, plain"
   ]
  },
  {
   "cell_type": "code",
   "execution_count": 162,
   "metadata": {
    "pycharm": {
     "is_executing": true
    },
    "slideshow": {
     "slide_type": "fragment"
    }
   },
   "outputs": [],
   "source": [
    "REMOVE_HTML_PASSING_TESTCASES = \\\n",
    "    [remove_html_testcase(True) for i in range(100)]\n",
    "REMOVE_HTML_FAILING_TESTCASES = \\\n",
    "    [remove_html_testcase(False) for i in range(100)]"
   ]
  },
  {
   "cell_type": "markdown",
   "metadata": {
    "slideshow": {
     "slide_type": "subslide"
    }
   },
   "source": [
    "### End of Excursion"
   ]
  },
  {
   "cell_type": "markdown",
   "metadata": {
    "slideshow": {
     "slide_type": "fragment"
    }
   },
   "source": [
    "Here is a passing test case:"
   ]
  },
  {
   "cell_type": "code",
   "execution_count": 163,
   "metadata": {
    "pycharm": {
     "is_executing": true
    },
    "slideshow": {
     "slide_type": "fragment"
    }
   },
   "outputs": [
    {
     "data": {
      "text/plain": [
       "('uyg Z<hksmb nxyll=\"N4=+#\">559X|</hksmb>/dC# ', 'uyg Z559X|/dC# ')"
      ]
     },
     "execution_count": 163,
     "metadata": {},
     "output_type": "execute_result"
    }
   ],
   "source": [
    "REMOVE_HTML_PASSING_TESTCASES[0]"
   ]
  },
  {
   "cell_type": "code",
   "execution_count": 164,
   "metadata": {
    "pycharm": {
     "is_executing": true
    },
    "slideshow": {
     "slide_type": "fragment"
    }
   },
   "outputs": [],
   "source": [
    "html, plain = REMOVE_HTML_PASSING_TESTCASES[0]\n",
    "remove_html_markup_test(html, plain)"
   ]
  },
  {
   "cell_type": "markdown",
   "metadata": {
    "slideshow": {
     "slide_type": "fragment"
    }
   },
   "source": [
    "Here is a failing test case (containing a double quote in the plain text)"
   ]
  },
  {
   "cell_type": "code",
   "execution_count": 165,
   "metadata": {
    "pycharm": {
     "is_executing": true
    },
    "slideshow": {
     "slide_type": "fragment"
    }
   },
   "outputs": [
    {
     "data": {
      "text/plain": [
       "('1qCi2<bhidt hobxo=\"NP+M)\">H\"\\\\m~</bhidt>#yi\"(', '1qCi2H\"\\\\m~#yi\"(')"
      ]
     },
     "execution_count": 165,
     "metadata": {},
     "output_type": "execute_result"
    }
   ],
   "source": [
    "REMOVE_HTML_FAILING_TESTCASES[0]"
   ]
  },
  {
   "cell_type": "code",
   "execution_count": 166,
   "metadata": {
    "pycharm": {
     "is_executing": true
    },
    "slideshow": {
     "slide_type": "subslide"
    }
   },
   "outputs": [
    {
     "name": "stderr",
     "output_type": "stream",
     "text": [
      "Traceback (most recent call last):\n",
      "  File \"<ipython-input-166-bfe5da826454>\", line 3, in <module>\n",
      "    remove_html_markup_test(html, plain)\n",
      "  File \"<ipython-input-152-a492611f8c18>\", line 3, in remove_html_markup_test\n",
      "    assert outcome == plain, \\\n",
      "AssertionError: Got '1qCi2H\\\\m~</bhidt>#yi(', expected '1qCi2H\"\\\\m~#yi\"(' (expected)\n"
     ]
    }
   ],
   "source": [
    "with ExpectError():\n",
    "    html, plain = REMOVE_HTML_FAILING_TESTCASES[0]\n",
    "    remove_html_markup_test(html, plain)"
   ]
  },
  {
   "cell_type": "markdown",
   "metadata": {
    "slideshow": {
     "slide_type": "fragment"
    }
   },
   "source": [
    "We run our tests, collecting the outcomes in `html_debugger`."
   ]
  },
  {
   "cell_type": "code",
   "execution_count": 167,
   "metadata": {
    "pycharm": {
     "is_executing": true
    },
    "slideshow": {
     "slide_type": "fragment"
    }
   },
   "outputs": [],
   "source": [
    "html_debugger = OchiaiDebugger()"
   ]
  },
  {
   "cell_type": "code",
   "execution_count": 168,
   "metadata": {
    "pycharm": {
     "is_executing": true
    },
    "slideshow": {
     "slide_type": "subslide"
    }
   },
   "outputs": [],
   "source": [
    "for html, plain in (REMOVE_HTML_PASSING_TESTCASES + \n",
    "                    REMOVE_HTML_FAILING_TESTCASES):\n",
    "    with html_debugger:\n",
    "        remove_html_markup_test(html, plain)"
   ]
  },
  {
   "cell_type": "markdown",
   "metadata": {
    "slideshow": {
     "slide_type": "fragment"
    }
   },
   "source": [
    "The suspiciousness distribution will not be of much help here – pretty much all lines in `remove_html_markup()` have the same suspiciousness."
   ]
  },
  {
   "cell_type": "code",
   "execution_count": 169,
   "metadata": {
    "pycharm": {
     "is_executing": true
    },
    "slideshow": {
     "slide_type": "subslide"
    }
   },
   "outputs": [
    {
     "data": {
      "text/html": [
       "<pre style=\"background-color:hsl(35.14718625761431, 100.0%, 80%)\"\n",
       "                    title=\"Line 1:  70%\">   1 def remove_html_markup(s):</pre>\n",
       "<pre style=\"background-color:hsl(35.14718625761431, 100.0%, 80%)\"\n",
       "                    title=\"Line 2:  70%\">   2     tag = False</pre>\n",
       "<pre style=\"background-color:hsl(35.14718625761431, 100.0%, 80%)\"\n",
       "                    title=\"Line 3:  70%\">   3     quote = False</pre>\n",
       "<pre style=\"background-color:hsl(35.14718625761431, 100.0%, 80%)\"\n",
       "                    title=\"Line 4:  70%\">   4     out = &quot;&quot;</pre>\n",
       "<pre title=\"Line 5: not executed\">   5 &nbsp;</pre>\n",
       "<pre style=\"background-color:hsl(35.14718625761431, 100.0%, 80%)\"\n",
       "                    title=\"Line 6:  70%\">   6     for c in s:</pre>\n",
       "<pre style=\"background-color:hsl(35.14718625761431, 100.0%, 80%)\"\n",
       "                    title=\"Line 7:  70%\">   7         if c == &#x27;&lt;&#x27; and not quote:</pre>\n",
       "<pre style=\"background-color:hsl(53.3989532967738, 100.0%, 80%)\"\n",
       "                    title=\"Line 8:  55%\">   8             tag = True</pre>\n",
       "<pre style=\"background-color:hsl(35.14718625761431, 100.0%, 80%)\"\n",
       "                    title=\"Line 9:  70%\">   9         elif c == &#x27;&gt;&#x27; and not quote:</pre>\n",
       "<pre style=\"background-color:hsl(51.966394858339115, 100.0%, 80%)\"\n",
       "                    title=\"Line 10:  56%\">  10             tag = False</pre>\n",
       "<pre style=\"background-color:hsl(35.14718625761431, 100.0%, 80%)\"\n",
       "                    title=\"Line 11:  70%\">  11         elif c == &#x27;&quot;&#x27; or c == &quot;&#x27;&quot; and tag:</pre>\n",
       "<pre style=\"background-color:hsl(35.14718625761431, 100.0%, 80%)\"\n",
       "                    title=\"Line 12:  70%\">  12             quote = not quote</pre>\n",
       "<pre style=\"background-color:hsl(35.14718625761431, 100.0%, 80%)\"\n",
       "                    title=\"Line 13:  70%\">  13         elif not tag:</pre>\n",
       "<pre style=\"background-color:hsl(35.14718625761431, 100.0%, 80%)\"\n",
       "                    title=\"Line 14:  70%\">  14             out = out + c</pre>\n",
       "<pre title=\"Line 15: not executed\">  15 &nbsp;</pre>\n",
       "<pre style=\"background-color:hsl(35.14718625761431, 100.0%, 80%)\"\n",
       "                    title=\"Line 16:  70%\">  16     return out</pre>\n",
       "\n",
       "<p/><pre style=\"background-color:hsl(35.14718625761431, 100.0%, 80%)\"\n",
       "                    title=\"Line 1:  70%\">   1 def remove_html_markup_test(html, plain):</pre>\n",
       "<pre style=\"background-color:hsl(35.14718625761431, 100.0%, 80%)\"\n",
       "                    title=\"Line 2:  70%\">   2     outcome = remove_html_markup(html)</pre>\n",
       "<pre style=\"background-color:hsl(35.14718625761431, 100.0%, 80%)\"\n",
       "                    title=\"Line 3:  70%\">   3     assert outcome == plain, \\</pre>\n",
       "<pre style=\"background-color:hsl(0.0, 100.0%, 80%)\"\n",
       "                    title=\"Line 4: 100%\">   4         f&quot;Got {repr(outcome)}, expected {repr(plain)}&quot;</pre>\n"
      ],
      "text/plain": [
       "   1  70% def remove_html_markup(s):\n",
       "   2  70%     tag = False\n",
       "   3  70%     quote = False\n",
       "   4  70%     out = \"\"\n",
       "   5\n",
       "   6  70%     for c in s:\n",
       "   7  70%         if c == '<' and not quote:\n",
       "   8  55%             tag = True\n",
       "   9  70%         elif c == '>' and not quote:\n",
       "  10  56%             tag = False\n",
       "  11  70%         elif c == '\"' or c == \"'\" and tag:\n",
       "  12  70%             quote = not quote\n",
       "  13  70%         elif not tag:\n",
       "  14  70%             out = out + c\n",
       "  15\n",
       "  16  70%     return out\n",
       "\n",
       "   1  70% def remove_html_markup_test(html, plain):\n",
       "   2  70%     outcome = remove_html_markup(html)\n",
       "   3  70%     assert outcome == plain, \\\n",
       "   4 100%         f\"Got {repr(outcome)}, expected {repr(plain)}\""
      ]
     },
     "execution_count": 169,
     "metadata": {},
     "output_type": "execute_result"
    }
   ],
   "source": [
    "html_debugger"
   ]
  },
  {
   "cell_type": "markdown",
   "metadata": {
    "slideshow": {
     "slide_type": "subslide"
    }
   },
   "source": [
    "Let us create our repairer and run it."
   ]
  },
  {
   "cell_type": "code",
   "execution_count": 170,
   "metadata": {
    "pycharm": {
     "is_executing": true
    },
    "slideshow": {
     "slide_type": "subslide"
    }
   },
   "outputs": [
    {
     "name": "stdout",
     "output_type": "stream",
     "text": [
      "Target code to be repaired:\n",
      "\u001b[34mdef\u001b[39;49;00m \u001b[32mremove_html_markup\u001b[39;49;00m(s):\n",
      "    tag = \u001b[34mFalse\u001b[39;49;00m\n",
      "    quote = \u001b[34mFalse\u001b[39;49;00m\n",
      "    out = \u001b[33m'\u001b[39;49;00m\u001b[33m'\u001b[39;49;00m\n",
      "    \u001b[34mfor\u001b[39;49;00m c \u001b[35min\u001b[39;49;00m s:\n",
      "        \u001b[34mif\u001b[39;49;00m c == \u001b[33m'\u001b[39;49;00m\u001b[33m<\u001b[39;49;00m\u001b[33m'\u001b[39;49;00m \u001b[35mand\u001b[39;49;00m \u001b[35mnot\u001b[39;49;00m quote:\n",
      "            tag = \u001b[34mTrue\u001b[39;49;00m\n",
      "        \u001b[34melif\u001b[39;49;00m c == \u001b[33m'\u001b[39;49;00m\u001b[33m>\u001b[39;49;00m\u001b[33m'\u001b[39;49;00m \u001b[35mand\u001b[39;49;00m \u001b[35mnot\u001b[39;49;00m quote:\n",
      "            tag = \u001b[34mFalse\u001b[39;49;00m\n",
      "        \u001b[34melif\u001b[39;49;00m c == \u001b[33m'\u001b[39;49;00m\u001b[33m\"\u001b[39;49;00m\u001b[33m'\u001b[39;49;00m \u001b[35mor\u001b[39;49;00m c == \u001b[33m\"\u001b[39;49;00m\u001b[33m'\u001b[39;49;00m\u001b[33m\"\u001b[39;49;00m \u001b[35mand\u001b[39;49;00m tag:\n",
      "            quote = \u001b[35mnot\u001b[39;49;00m quote\n",
      "        \u001b[34melif\u001b[39;49;00m \u001b[35mnot\u001b[39;49;00m tag:\n",
      "            out = out + c\n",
      "    \u001b[34mreturn\u001b[39;49;00m out\n",
      "\n"
     ]
    }
   ],
   "source": [
    "html_repairer = Repairer(html_debugger, log=True)"
   ]
  },
  {
   "cell_type": "code",
   "execution_count": null,
   "metadata": {
    "pycharm": {
     "is_executing": true
    },
    "slideshow": {
     "slide_type": "subslide"
    }
   },
   "outputs": [
    {
     "name": "stdout",
     "output_type": "stream",
     "text": [
      "Evolving population: iteration  21/100 fitness = 0.99   \r"
     ]
    }
   ],
   "source": [
    "best_tree, fitness = html_repairer.repair()"
   ]
  },
  {
   "cell_type": "markdown",
   "metadata": {
    "slideshow": {
     "slide_type": "subslide"
    }
   },
   "source": [
    "We see that the \"best\" code is still our original code, with no changes."
   ]
  },
  {
   "cell_type": "code",
   "execution_count": null,
   "metadata": {
    "pycharm": {
     "is_executing": true
    },
    "slideshow": {
     "slide_type": "fragment"
    }
   },
   "outputs": [],
   "source": [
    "quiz(\"Why couldn't `Repairer()` repair `remove_html_markup()`?\",\n",
    "     [\n",
    "         \"The population is too small!\",\n",
    "         \"The suspiciousness is too evenly distributed!\",\n",
    "         \"We need more test cases!\",\n",
    "         \"We need more iterations!\",\n",
    "         \"There is no statement in the source with a correct condition!\",\n",
    "         \"The population is too big!\",\n",
    "     ], 5242880 >> 20)"
   ]
  },
  {
   "cell_type": "markdown",
   "metadata": {
    "slideshow": {
     "slide_type": "subslide"
    }
   },
   "source": [
    "You can explore all of the hypotheses above by changing the appropriate parameters, but you won't be able to change the outcome. The problem is that, unlike `middle()`, there is no statement (or combination thereof) in `remove_html_markup()` that could be used to make the failure go away. For this, we need to mutate another aspect of the code, which we will explore in the next section."
   ]
  },
  {
   "cell_type": "markdown",
   "metadata": {
    "slideshow": {
     "slide_type": "slide"
    }
   },
   "source": [
    "## Mutating Conditions\n",
    "\n",
    "The `Repairer` class is very configurable. The individual steps in automated repair can all be replaced by providing own classes in the keyword arguments of its `__init__()` constructor:\n",
    "\n",
    "* To change fault localization, pass a different `debugger` that is a subclass of `DifferenceDebugger`.\n",
    "* To change the mutation operator, set `mutator_class` to a subclass of `StatementMutator`.\n",
    "* To change the crossover operator, set `crossover_class` to a subclass of `CrossoverOperator`.\n",
    "* To change the reduction algorithm, set `reducer_class` to a subclass of `Reducer`.\n",
    "\n",
    "In this section, we will explore how to extend the mutation operator such that it can mutate _conditions_ for control constructs such as `if`, `while`, or `for`. To this end, we introduce a new class `ConditionMutator` subclassing `StatementMutator`."
   ]
  },
  {
   "cell_type": "markdown",
   "metadata": {
    "slideshow": {
     "slide_type": "subslide"
    }
   },
   "source": [
    "### Collecting Conditions\n",
    "\n",
    "Let us start with a few simple supporting functions. The function `all_conditions()` retrieves all control conditions from an AST."
   ]
  },
  {
   "cell_type": "code",
   "execution_count": null,
   "metadata": {
    "pycharm": {
     "is_executing": true
    },
    "slideshow": {
     "slide_type": "subslide"
    }
   },
   "outputs": [],
   "source": [
    "def all_conditions(trees, tp=None):\n",
    "    \"\"\"Return all conditions from the AST (or AST list) `trees`.\n",
    "    If `tp` is given, return only elements of that type.\"\"\"\n",
    "    if not isinstance(trees, list):\n",
    "        assert isinstance(trees, ast.AST)\n",
    "        trees = [trees]\n",
    "\n",
    "    visitor = ConditionVisitor()\n",
    "    for tree in trees:\n",
    "        visitor.visit(tree)\n",
    "    conditions = visitor.conditions\n",
    "    if tp is not None:\n",
    "        conditions = [c for c in conditions if isinstance(c, tp)]\n",
    "\n",
    "    return conditions"
   ]
  },
  {
   "cell_type": "markdown",
   "metadata": {
    "slideshow": {
     "slide_type": "subslide"
    }
   },
   "source": [
    "`all_conditions()` uses a `ConditionVisitor` class to walk the tree and collect the conditions:"
   ]
  },
  {
   "cell_type": "code",
   "execution_count": null,
   "metadata": {
    "pycharm": {
     "is_executing": true
    },
    "slideshow": {
     "slide_type": "subslide"
    }
   },
   "outputs": [],
   "source": [
    "class ConditionVisitor(NodeVisitor):\n",
    "    def __init__(self):\n",
    "        self.conditions = []\n",
    "        self.conditions_seen = set()\n",
    "        super().__init__()\n",
    "\n",
    "    def add_conditions(self, node, attr):\n",
    "        elems = getattr(node, attr, [])\n",
    "        if not isinstance(elems, list):\n",
    "            elems = [elems]\n",
    "\n",
    "        for elem in elems:\n",
    "            elem_str = astor.to_source(elem)\n",
    "            if elem_str not in self.conditions_seen:\n",
    "                self.conditions.append(elem)\n",
    "                self.conditions_seen.add(elem_str)\n",
    "\n",
    "    def visit_BoolOp(self, node):\n",
    "        self.add_conditions(node, 'values')\n",
    "        return super().generic_visit(node)\n",
    "\n",
    "    def visit_UnaryOp(self, node):\n",
    "        if isinstance(node.op, ast.Not):\n",
    "            self.add_conditions(node, 'operand')\n",
    "        return super().generic_visit(node)\n",
    "\n",
    "    def generic_visit(self, node):\n",
    "        if hasattr(node, 'test'):\n",
    "            self.add_conditions(node, 'test')\n",
    "        return super().generic_visit(node)"
   ]
  },
  {
   "cell_type": "markdown",
   "metadata": {
    "slideshow": {
     "slide_type": "subslide"
    }
   },
   "source": [
    "Here are all the conditions in `remove_html_markup()`. This is some material to construct new conditions from."
   ]
  },
  {
   "cell_type": "code",
   "execution_count": null,
   "metadata": {
    "pycharm": {
     "is_executing": true
    },
    "slideshow": {
     "slide_type": "subslide"
    }
   },
   "outputs": [],
   "source": [
    "[astor.to_source(cond).strip()\n",
    "    for cond in all_conditions(remove_html_markup_tree())]"
   ]
  },
  {
   "cell_type": "markdown",
   "metadata": {
    "slideshow": {
     "slide_type": "subslide"
    }
   },
   "source": [
    "### Mutating Conditions\n",
    "\n",
    "Here comes our `ConditionMutator` class. We subclass from `StatementMutator` and set an attribute `self.conditions` containing all the conditions in the source. The method `choose_condition()` randomly picks a condition."
   ]
  },
  {
   "cell_type": "code",
   "execution_count": null,
   "metadata": {
    "pycharm": {
     "is_executing": true
    },
    "slideshow": {
     "slide_type": "subslide"
    }
   },
   "outputs": [],
   "source": [
    "class ConditionMutator(StatementMutator):\n",
    "    \"\"\"Mutate conditions in an AST\"\"\"\n",
    "\n",
    "    def __init__(self, *args, **kwargs):\n",
    "        \"\"\"Constructor. Arguments are as with `StatementMutator` constructor.\"\"\"\n",
    "        super().__init__(*args, **kwargs)\n",
    "        self.conditions = all_conditions(self.source)\n",
    "        if self.log:\n",
    "            print(\"Found conditions\",\n",
    "                  [astor.to_source(cond).strip() \n",
    "                   for cond in self.conditions])\n",
    "\n",
    "    def choose_condition(self):\n",
    "        \"\"\"Return a random condition from source.\"\"\"\n",
    "        return copy.deepcopy(random.choice(self.conditions))"
   ]
  },
  {
   "cell_type": "markdown",
   "metadata": {
    "slideshow": {
     "slide_type": "subslide"
    }
   },
   "source": [
    "The actual mutation takes place in the `swap()` method. If the node to be replaced has a `test` attribute (i.e. a controlling predicate), then we pick a random condition `cond` from the source and randomly chose from:\n",
    "\n",
    "* **set**: We change `test` to `cond`.\n",
    "* **not**: We invert `test`.\n",
    "* **and**: We replace `test` by `cond and test`.\n",
    "* **or**: We replace `test` by `cond or test`.\n",
    "\n",
    "Over time, this might lead to operators propagating across the population."
   ]
  },
  {
   "cell_type": "code",
   "execution_count": null,
   "metadata": {
    "pycharm": {
     "is_executing": true
    },
    "slideshow": {
     "slide_type": "subslide"
    }
   },
   "outputs": [],
   "source": [
    "class ConditionMutator(ConditionMutator):\n",
    "    def choose_bool_op(self):\n",
    "        return random.choice(['set', 'not', 'and', 'or'])\n",
    "\n",
    "    def swap(self, node):\n",
    "        \"\"\"Replace `node` condition by a condition from `source`\"\"\"\n",
    "        if not hasattr(node, 'test'):\n",
    "            return super().swap(node)\n",
    "\n",
    "        cond = self.choose_condition()\n",
    "        new_test = None\n",
    "\n",
    "        choice = self.choose_bool_op()\n",
    "\n",
    "        if choice == 'set':\n",
    "            new_test = cond\n",
    "        elif choice == 'not':\n",
    "            new_test = ast.UnaryOp(op=ast.Not(), operand=node.test)\n",
    "        elif choice == 'and':\n",
    "            new_test = ast.BoolOp(op=ast.And(), values=[cond, node.test])\n",
    "        elif choice == 'or':\n",
    "            new_test = ast.BoolOp(op=ast.Or(), values=[cond, node.test])\n",
    "        else:\n",
    "            raise ValueError(\"Unknown boolean operand\")\n",
    "\n",
    "        if new_test:\n",
    "            # ast.copy_location(new_test, node)\n",
    "            node.test = new_test\n",
    "\n",
    "        return node"
   ]
  },
  {
   "cell_type": "markdown",
   "metadata": {
    "slideshow": {
     "slide_type": "subslide"
    }
   },
   "source": [
    "We can use the mutator just like `StatementMutator`, except that some of the mutations will also include new conditions:"
   ]
  },
  {
   "cell_type": "code",
   "execution_count": null,
   "metadata": {
    "pycharm": {
     "is_executing": true
    },
    "slideshow": {
     "slide_type": "fragment"
    }
   },
   "outputs": [],
   "source": [
    "mutator = ConditionMutator(source=all_statements(remove_html_markup_tree()),\n",
    "                           log=True)"
   ]
  },
  {
   "cell_type": "code",
   "execution_count": null,
   "metadata": {
    "pycharm": {
     "is_executing": true
    },
    "slideshow": {
     "slide_type": "subslide"
    }
   },
   "outputs": [],
   "source": [
    "for i in range(10):\n",
    "    new_tree = mutator.mutate(remove_html_markup_tree())"
   ]
  },
  {
   "cell_type": "markdown",
   "metadata": {
    "slideshow": {
     "slide_type": "subslide"
    }
   },
   "source": [
    "Let us put our new mutator to action, again in a `Repairer()`. To activate it, all we need to do is to pass it as `mutator_class` keyword argument."
   ]
  },
  {
   "cell_type": "code",
   "execution_count": null,
   "metadata": {
    "pycharm": {
     "is_executing": true
    },
    "slideshow": {
     "slide_type": "subslide"
    }
   },
   "outputs": [],
   "source": [
    "condition_repairer = Repairer(html_debugger,\n",
    "                              mutator_class=ConditionMutator,\n",
    "                              log=2)"
   ]
  },
  {
   "cell_type": "markdown",
   "metadata": {
    "slideshow": {
     "slide_type": "subslide"
    }
   },
   "source": [
    "We might need more iterations for this one. Let us see..."
   ]
  },
  {
   "cell_type": "code",
   "execution_count": null,
   "metadata": {
    "pycharm": {
     "is_executing": true
    },
    "slideshow": {
     "slide_type": "subslide"
    }
   },
   "outputs": [],
   "source": [
    "best_tree, fitness = condition_repairer.repair(iterations=200)"
   ]
  },
  {
   "cell_type": "code",
   "execution_count": null,
   "metadata": {
    "pycharm": {
     "is_executing": true
    },
    "slideshow": {
     "slide_type": "subslide"
    }
   },
   "outputs": [],
   "source": [
    "repaired_source = astor.to_source(best_tree)"
   ]
  },
  {
   "cell_type": "code",
   "execution_count": null,
   "metadata": {
    "pycharm": {
     "is_executing": true
    },
    "slideshow": {
     "slide_type": "subslide"
    }
   },
   "outputs": [],
   "source": [
    "print_content(repaired_source, '.py')"
   ]
  },
  {
   "cell_type": "markdown",
   "metadata": {
    "slideshow": {
     "slide_type": "subslide"
    }
   },
   "source": [
    "Success again! We have automatically repaired `remove_html_markup()` – the resulting code passes all tests, including those that were previously failing."
   ]
  },
  {
   "cell_type": "markdown",
   "metadata": {
    "slideshow": {
     "slide_type": "fragment"
    }
   },
   "source": [
    "Again, we can present the fix as a patch:"
   ]
  },
  {
   "cell_type": "code",
   "execution_count": null,
   "metadata": {
    "pycharm": {
     "is_executing": true
    },
    "slideshow": {
     "slide_type": "fragment"
    }
   },
   "outputs": [],
   "source": [
    "original_source = astor.to_source(remove_html_markup_tree())"
   ]
  },
  {
   "cell_type": "code",
   "execution_count": null,
   "metadata": {
    "pycharm": {
     "is_executing": true
    },
    "slideshow": {
     "slide_type": "fragment"
    }
   },
   "outputs": [],
   "source": [
    "for patch in diff(original_source, repaired_source):\n",
    "    print_patch(patch)"
   ]
  },
  {
   "cell_type": "markdown",
   "metadata": {
    "slideshow": {
     "slide_type": "fragment"
    }
   },
   "source": [
    "However, looking at the patch, one may come up with doubts."
   ]
  },
  {
   "cell_type": "code",
   "execution_count": null,
   "metadata": {
    "pycharm": {
     "is_executing": true
    },
    "slideshow": {
     "slide_type": "subslide"
    }
   },
   "outputs": [],
   "source": [
    "quiz(\"Is this actually the best solution?\",\n",
    "    [\n",
    "        \"Yes, sure, of course. Why?\",\n",
    "        \"Err - what happened to single quotes?\"\n",
    "    ], 1 << 1)"
   ]
  },
  {
   "cell_type": "markdown",
   "metadata": {
    "slideshow": {
     "slide_type": "fragment"
    }
   },
   "source": [
    "Indeed – our solution does not seem to handle single quotes anymore. Why is that so?"
   ]
  },
  {
   "cell_type": "code",
   "execution_count": null,
   "metadata": {
    "pycharm": {
     "is_executing": true
    },
    "slideshow": {
     "slide_type": "fragment"
    }
   },
   "outputs": [],
   "source": [
    "quiz(\"Why aren't single quotes handled in the solution?\",\n",
    "    [\n",
    "        \"Because they're not important. I mean, who uses 'em anyway?\",\n",
    "        \"Because they are not part of our tests? \"\n",
    "            \"Let me look up how they are constructed...\"\n",
    "    ], 1 << 1)"
   ]
  },
  {
   "cell_type": "markdown",
   "metadata": {
    "slideshow": {
     "slide_type": "subslide"
    }
   },
   "source": [
    "Correct! Our test cases do not include single quotes – at least not in the interior of HTML tags – and thus, automatic repair did not care to preserve their handling. This can, of course, be easily fixed by including an appropriate test case in our set:"
   ]
  },
  {
   "cell_type": "code",
   "execution_count": null,
   "metadata": {
    "pycharm": {
     "is_executing": true
    },
    "slideshow": {
     "slide_type": "fragment"
    }
   },
   "outputs": [],
   "source": [
    "remove_html_markup(\"<foo quote='>abc'>\\\"me\\\"</foo>\")"
   ]
  },
  {
   "cell_type": "code",
   "execution_count": null,
   "metadata": {
    "pycharm": {
     "is_executing": true
    },
    "slideshow": {
     "slide_type": "fragment"
    }
   },
   "outputs": [],
   "source": [
    "REMOVE_HTML_PASSING_TESTCASES.append((\"<foo quote='>abc'>\\\"me\\\"</foo>\", '\"me\"'))"
   ]
  },
  {
   "cell_type": "code",
   "execution_count": null,
   "metadata": {
    "pycharm": {
     "is_executing": true
    },
    "slideshow": {
     "slide_type": "subslide"
    }
   },
   "outputs": [],
   "source": [
    "best_tree, fitness = condition_repairer.repair(iterations=200)"
   ]
  },
  {
   "cell_type": "markdown",
   "metadata": {
    "slideshow": {
     "slide_type": "subslide"
    }
   },
   "source": [
    "Here is the final tree:"
   ]
  },
  {
   "cell_type": "code",
   "execution_count": null,
   "metadata": {
    "pycharm": {
     "is_executing": true
    },
    "slideshow": {
     "slide_type": "subslide"
    }
   },
   "outputs": [],
   "source": [
    "print_content(astor.to_source(best_tree), '.py')"
   ]
  },
  {
   "cell_type": "markdown",
   "metadata": {
    "slideshow": {
     "slide_type": "subslide"
    }
   },
   "source": [
    "And here is its fitness:"
   ]
  },
  {
   "cell_type": "code",
   "execution_count": null,
   "metadata": {
    "pycharm": {
     "is_executing": true
    },
    "slideshow": {
     "slide_type": "fragment"
    }
   },
   "outputs": [],
   "source": [
    "fitness"
   ]
  },
  {
   "cell_type": "markdown",
   "metadata": {
    "slideshow": {
     "slide_type": "subslide"
    }
   },
   "source": [
    "The revised candidate now passes _all_ tests (including the tricky quote test we added last). Its condition now properly checks for `tag` _and_ both quotes. (The `tag` inside the parentheses is still redundant, but so be it.) From this example, we can learn a few lessons about the possibilities and risks of automated repair:\n",
    "\n",
    "* First, automatic repair is highly dependent on the quality of the checking tests. The risk is that the repair may overspecialize towards the test.\n",
    "* Second, automated repair is highly dependent on the sources that program fragments are chosen from. If there is a hint of a solution somewhere in the code, there is a chance that automated repair will catch it up.\n",
    "* Third, automatic repair is a deeply heuristic approach. Its behavior will vary widely with any change to the parameters (and the underlying random number generators)\n",
    "* Fourth, automatic repair can take a long time. The examples we have in this chapter take less than a minute to compute, and neither Python nor our implementation is exactly fast. But as the search space grows, automated repair will take much longer.\n",
    "\n",
    "On the other hand, even an incomplete automated repair candidate can be much better than nothing at all – it may provide all the essential ingredients (such as the location or the involved variables) for a successful fix. When users of automated repair techniques are aware of its limitations and its assumptions, there is lots of potential in automated repair. Enjoy!"
   ]
  },
  {
   "cell_type": "markdown",
   "metadata": {
    "slideshow": {
     "slide_type": "slide"
    }
   },
   "source": [
    "## Limitations"
   ]
  },
  {
   "cell_type": "markdown",
   "metadata": {
    "slideshow": {
     "slide_type": "fragment"
    }
   },
   "source": [
    "The `Repairer` class is hardly tested. Things that do not work include\n",
    "\n",
    "* Functions with inner functions are not repaired."
   ]
  },
  {
   "cell_type": "markdown",
   "metadata": {
    "slideshow": {
     "slide_type": "slide"
    }
   },
   "source": [
    "## Synopsis"
   ]
  },
  {
   "cell_type": "markdown",
   "metadata": {
    "slideshow": {
     "slide_type": "subslide"
    }
   },
   "source": [
    "This chapter provides tools and techniques for automated repair of program code. The `Repairer()` class takes a `DifferenceDebugger` debugger as input (such as `OchiaiDebugger` from [the chapter on statistical debugging](StatisticalDebugger.ipynb). A typical setup looks like this:\n",
    "\n",
    "```python\n",
    "from debuggingbook.StatisticalDebugger import OchiaiDebugger\n",
    "\n",
    "debugger = OchiaiDebugger()\n",
    "for inputs in TESTCASES:\n",
    "    with debugger:\n",
    "        test_foo(inputs)\n",
    "...\n",
    "\n",
    "repairer = Repairer(debugger)\n",
    "```\n",
    "Here, `test_foo()` is a function that raises an exception if the tested function `foo()` fails. If `foo()` passes, `test_foo()` should not raise an exception."
   ]
  },
  {
   "cell_type": "markdown",
   "metadata": {
    "slideshow": {
     "slide_type": "subslide"
    }
   },
   "source": [
    "The `repair()` method of a `Repairer` searches for a repair of the code covered in the debugger (except for methods starting or ending in `test`, such that `foo()`, not `test_foo()` is repaired). `repair()` returns the best fix candidate as a pair `(tree, fitness)` where `tree` is a [Python abstract syntax tree](http://docs.python.org/3/library/ast) (AST) of the fix candidate, and `fitness` is the fitness of the candidate (a value between 0 and 1). A `fitness` of 1.0 means that the candidate passed all tests. A typical usage looks like this:\n",
    "\n",
    "```python\n",
    "import astor\n",
    "\n",
    "tree, fitness = repairer.repair()\n",
    "print(astor.to_source(tree), fitness)\n",
    "```"
   ]
  },
  {
   "cell_type": "markdown",
   "metadata": {
    "slideshow": {
     "slide_type": "subslide"
    }
   },
   "source": [
    "Here is a complete example for the `middle()` program. This is the original source code of `middle()`:"
   ]
  },
  {
   "cell_type": "code",
   "execution_count": null,
   "metadata": {
    "pycharm": {
     "is_executing": true
    },
    "slideshow": {
     "slide_type": "subslide"
    }
   },
   "outputs": [],
   "source": [
    "# ignore\n",
    "print_content(middle_source, '.py')"
   ]
  },
  {
   "cell_type": "markdown",
   "metadata": {
    "slideshow": {
     "slide_type": "subslide"
    }
   },
   "source": [
    "We set up a function `middle_test()` that tests it. The `middle_debugger`  collects testcases and outcomes:"
   ]
  },
  {
   "cell_type": "code",
   "execution_count": null,
   "metadata": {
    "pycharm": {
     "is_executing": true
    },
    "slideshow": {
     "slide_type": "fragment"
    }
   },
   "outputs": [],
   "source": [
    "middle_debugger = OchiaiDebugger()"
   ]
  },
  {
   "cell_type": "code",
   "execution_count": null,
   "metadata": {
    "pycharm": {
     "is_executing": true
    },
    "slideshow": {
     "slide_type": "fragment"
    }
   },
   "outputs": [],
   "source": [
    "for x, y, z in MIDDLE_PASSING_TESTCASES + MIDDLE_FAILING_TESTCASES:\n",
    "    with middle_debugger:\n",
    "        m = middle_test(x, y, z)"
   ]
  },
  {
   "cell_type": "markdown",
   "metadata": {
    "slideshow": {
     "slide_type": "fragment"
    }
   },
   "source": [
    "The repairer attempts to repair the invoked function (`middle()`). The returned AST `tree` can be output via `astor.to_source()`:"
   ]
  },
  {
   "cell_type": "code",
   "execution_count": null,
   "metadata": {
    "pycharm": {
     "is_executing": true
    },
    "slideshow": {
     "slide_type": "subslide"
    }
   },
   "outputs": [],
   "source": [
    "middle_repairer = Repairer(middle_debugger)\n",
    "tree, fitness = middle_repairer.repair()\n",
    "print(astor.to_source(tree), fitness)"
   ]
  },
  {
   "cell_type": "markdown",
   "metadata": {
    "slideshow": {
     "slide_type": "subslide"
    }
   },
   "source": [
    "Here are the classes defined in this chapter. A `Repairer` repairs a program, using a `StatementMutator` and a `CrossoverOperator` to evolve a population of candidates."
   ]
  },
  {
   "cell_type": "code",
   "execution_count": null,
   "metadata": {
    "pycharm": {
     "is_executing": true
    },
    "slideshow": {
     "slide_type": "fragment"
    }
   },
   "outputs": [],
   "source": [
    "# ignore\n",
    "from ClassDiagram import display_class_hierarchy"
   ]
  },
  {
   "cell_type": "code",
   "execution_count": null,
   "metadata": {
    "pycharm": {
     "is_executing": true
    },
    "slideshow": {
     "slide_type": "subslide"
    }
   },
   "outputs": [],
   "source": [
    "# ignore\n",
    "display_class_hierarchy([Repairer, ConditionMutator, CrossoverOperator],\n",
    "                        public_methods=[\n",
    "                            Repairer.__init__,\n",
    "                            Repairer.repair,\n",
    "                            StatementMutator.__init__,\n",
    "                            StatementMutator.mutate,\n",
    "                            ConditionMutator.__init__,\n",
    "                            CrossoverOperator.__init__,\n",
    "                            CrossoverOperator.crossover,\n",
    "                        ],\n",
    "                        project='debuggingbook')"
   ]
  },
  {
   "cell_type": "markdown",
   "metadata": {
    "button": false,
    "new_sheet": true,
    "run_control": {
     "read_only": false
    },
    "slideshow": {
     "slide_type": "slide"
    }
   },
   "source": [
    "## Lessons Learned\n",
    "\n",
    "* Automated repair based on genetic optimization uses five ingredients:\n",
    "    1. A _test suite_ to determine passing and failing tests\n",
    "    2. _Defect localization_ (typically obtained from [statistical debugging](StatisticalDebugger.ipynb) with the test suite) to determine potential locations to be fixed\n",
    "    3. _Random code mutations_ and _crossover operations_ to create and evolve a population of inputs\n",
    "    4. A _fitness function_ and a _selection strategy_ to determine the part of the population that should be evolved further\n",
    "    5. A _reducer_ such as [delta debugging](DeltaDebugger.ipynb) to simplify the final candidate with the highest fitness.\n",
    "* The result of automated repair is a _fix candidate_ with the highest fitness for the given tests.\n",
    "* A _fix candidate_ is not guaranteed to be correct or optimal, but gives important hints on how to fix the program.\n",
    "* All of the above ingredients offer plenty of settings and alternatives to experiment with."
   ]
  },
  {
   "cell_type": "markdown",
   "metadata": {
    "slideshow": {
     "slide_type": "slide"
    }
   },
   "source": [
    "## Background\n",
    "\n",
    "The seminal work in automated repair is [GenProg](https://squareslab.github.io/genprog-code/) \\cite{LeGoues2012}, which heavily inspired our `Repairer` implementation. Major differences between GenProg and `Repairer` include:\n",
    "\n",
    "* GenProg includes its own defect localization (which is also dynamically updated), whereas `Repairer` builds on earlier statistical debugging.\n",
    "* GenProg can apply multiple mutations on programs (or none at all), whereas `Repairer` applies exactly one mutation.\n",
    "* The `StatementMutator` used by `Repairer` includes various special cases for program structures (`if`, `for`, `while`...), whereas GenProg operates on statements only.\n",
    "* GenProg has been tested on large production programs.\n",
    "\n",
    "While GenProg is _the_ seminal work in the area (and arguably the most important software engineering research contribution of the 2010s), there have been a number of important extensions of automated repair. These include:\n",
    "\n",
    "* *AutoFix* \\cite{Pei2014} leverages _program contracts_ (pre- and postconditions) to generate tests and assertions automatically. Not only do such [assertions](Assertions.ipynb) help in fault localization, they also allow for much better validation of fix candidates.\n",
    "* *SemFix* \\cite{Nguyen2013} presents automated program repair based on _symbolic analysis_ rather than genetic optimization. This allows to leverage program semantics, which GenProg does not consider.\n",
    "\n",
    "To learn more about automated program repair, see [program-repair.org](http://program-repair.org), the community page dedicated to research in program repair."
   ]
  },
  {
   "cell_type": "markdown",
   "metadata": {
    "button": false,
    "new_sheet": true,
    "run_control": {
     "read_only": false
    },
    "slideshow": {
     "slide_type": "slide"
    }
   },
   "source": [
    "## Exercises"
   ]
  },
  {
   "cell_type": "markdown",
   "metadata": {
    "button": false,
    "new_sheet": false,
    "run_control": {
     "read_only": false
    },
    "slideshow": {
     "slide_type": "subslide"
    }
   },
   "source": [
    "### Exercise 1: Automated Repair Parameters\n",
    "\n",
    "Automated Repair is influenced by a large number of design choices – the size of the population, the number of iterations, the genetic optimization strategy, and more. How do changes to these design choices affect its effectiveness? \n",
    "\n",
    "* Consider the constants defined in this chapter (such as `POPULATION_SIZE` or `WEIGHT_PASSING` vs. `WEIGHT_FAILING`). How do changes affect the effectiveness of automated repair?\n",
    "* As an effectiveness metric, consider the number of iterations it takes to produce a fix candidate.\n",
    "* Since genetic optimization is a random algorithm, you need to determine effectiveness averages over a large number of runs (say, 100)."
   ]
  },
  {
   "cell_type": "markdown",
   "metadata": {},
   "source": [
    "### Answer 1:\n",
    "Changing `WEIGHT_PASSING` and `WEIGHT_FAILING` results in longer runtime, already good values. Lowering `POPULATION_SIZE` causes the algorithm to terminate faster"
   ]
  },
  {
   "cell_type": "markdown",
   "metadata": {},
   "source": [
    "### Exercise 2: Elitism\n",
    "\n",
    "[_Elitism_](https://en.wikipedia.org/wiki/Genetic_algorithm#Elitism) (also known as _elitist selection_) is a variant of genetic selection in which a small fraction of the fittest candidates of the last population are included unchanged in the offspring.\n",
    "\n",
    "* Implement elitist selection by subclassing the `evolve()` method. Experiment with various fractions (5%, 10%, 25%) of \"elites\" and see how this improves results.\n"
   ]
  },
  {
   "cell_type": "code",
   "execution_count": null,
   "metadata": {},
   "outputs": [],
   "source": [
    "class Repairer(Repairer):\n",
    "    def evolve(self, population):\n",
    "        \"\"\"Evolve the candidate population by mutating and crossover, in this case including an elitist selection.\"\"\"\n",
    "        n = len(population)\n",
    "        possible_fractions = [0.05,0.10,0.20]\n",
    "        elite = int(n * possible_fractions[0])   #TODO: mit Werten spielen yo\n",
    "        \n",
    "        # Create offspring as crossover of parents\n",
    "        offspring = []\n",
    "        while len(offspring) < n:\n",
    "            if len(offspring) < elite:\n",
    "                offspring += [copy.deepcopy(population[len(offspring)])]\n",
    "                continue\n",
    "            parent_1 = copy.deepcopy(random.choice(population))\n",
    "            parent_2 = copy.deepcopy(random.choice(population))\n",
    "            try:\n",
    "                self.crossover.crossover(parent_1, parent_2)\n",
    "            except CrossoverError:\n",
    "                pass  # Just keep parents\n",
    "            offspring += [parent_1, parent_2]\n",
    "\n",
    "        # Mutate offspring\n",
    "        offspring = [self.mutator.mutate(tree) for tree in offspring]\n",
    "\n",
    "        # Add it to population\n",
    "        population += offspring\n",
    "\n",
    "        population.sort(key=self.fitness_key, reverse=True)\n",
    "        population = population[:n] \n",
    "\n",
    "        return population"
   ]
  },
  {
   "cell_type": "markdown",
   "metadata": {
    "button": false,
    "new_sheet": false,
    "run_control": {
     "read_only": false
    },
    "slideshow": {
     "slide_type": "subslide"
    },
    "solution": "hidden",
    "solution2": "hidden",
    "solution2_first": true,
    "solution_first": true
   },
   "source": [
    "### Exercise 3: Evolving Values\n",
    "\n",
    "Following the steps of `ConditionMutator`, implement a `ValueMutator` class that replaces one constant value by another one found in the source (say, `0` by `1` or `True` by `False`).\n",
    "\n",
    "For validation, consider the following failure in the `square_root()` function from [the chapter on assertions](Assertions.ipynb):"
   ]
  },
  {
   "cell_type": "code",
   "execution_count": null,
   "metadata": {
    "pycharm": {
     "is_executing": true
    },
    "slideshow": {
     "slide_type": "skip"
    }
   },
   "outputs": [],
   "source": [
    "from Assertions import square_root  # minor dependency"
   ]
  },
  {
   "cell_type": "code",
   "execution_count": null,
   "metadata": {},
   "outputs": [],
   "source": [
    "def square_root(x):\n",
    "    assert x >= 0  # precondition\n",
    "\n",
    "    approx = None\n",
    "    guess = x / 2\n",
    "    while approx != guess:\n",
    "        approx = guess\n",
    "        guess = (approx + x / approx) / 2\n",
    "\n",
    "    assert math.isclose(approx * approx, x)\n",
    "    return approx"
   ]
  },
  {
   "cell_type": "code",
   "execution_count": null,
   "metadata": {},
   "outputs": [],
   "source": [
    "unfixed_square_root_tree = ast.parse(inspect.getsource(square_root))\n",
    "show_ast(unfixed_square_root_tree)"
   ]
  },
  {
   "cell_type": "code",
   "execution_count": null,
   "metadata": {
    "pycharm": {
     "is_executing": true
    },
    "slideshow": {
     "slide_type": "subslide"
    }
   },
   "outputs": [],
   "source": [
    "with ExpectError():\n",
    "    square_root_of_zero = square_root(0)"
   ]
  },
  {
   "cell_type": "markdown",
   "metadata": {
    "slideshow": {
     "slide_type": "fragment"
    },
    "solution2": "hidden",
    "solution2_first": true
   },
   "source": [
    "Can your `ValueMutator` automatically fix this failure?"
   ]
  },
  {
   "cell_type": "markdown",
   "metadata": {
    "slideshow": {
     "slide_type": "skip"
    },
    "solution2": "hidden"
   },
   "source": [
    "**Solution.** Your solution will be effective if it also includes named constants such as `None`."
   ]
  },
  {
   "cell_type": "code",
   "execution_count": null,
   "metadata": {
    "pycharm": {
     "is_executing": true
    },
    "slideshow": {
     "slide_type": "skip"
    },
    "solution2": "hidden"
   },
   "outputs": [],
   "source": [
    "import math"
   ]
  },
  {
   "cell_type": "code",
   "execution_count": null,
   "metadata": {
    "pycharm": {
     "is_executing": true
    },
    "slideshow": {
     "slide_type": "skip"
    },
    "solution2": "hidden"
   },
   "outputs": [],
   "source": [
    "def square_root_fixed(x):\n",
    "    assert x >= 0  # precondition\n",
    "    \n",
    "    test = True\n",
    "    approx = 0  # <-- FIX: Change `None` to 0\n",
    "    guess = x / 2\n",
    "    while approx != guess:\n",
    "        approx = guess\n",
    "        guess = (approx + x / approx) / 2\n",
    "\n",
    "    assert math.isclose(approx * approx, x)\n",
    "    return approx"
   ]
  },
  {
   "cell_type": "code",
   "execution_count": null,
   "metadata": {
    "pycharm": {
     "is_executing": true
    },
    "slideshow": {
     "slide_type": "skip"
    },
    "solution2": "hidden"
   },
   "outputs": [],
   "source": [
    "square_root_fixed(0)"
   ]
  },
  {
   "cell_type": "code",
   "execution_count": null,
   "metadata": {},
   "outputs": [],
   "source": [
    "square_root_tree = ast.parse(inspect.getsource(square_root_fixed))\n",
    "show_ast(square_root_tree)"
   ]
  },
  {
   "cell_type": "markdown",
   "metadata": {},
   "source": [
    "### Answer 3: `ValueMutator`"
   ]
  },
  {
   "cell_type": "code",
   "execution_count": null,
   "metadata": {},
   "outputs": [],
   "source": [
    "class ConstValueVisitor(NodeVisitor):\n",
    "    def __init__(self):\n",
    "        self.const_values = []\n",
    "        self.const_values_seen = set()\n",
    "        super().__init__()\n",
    "    \n",
    "    def add_const_value(self,node):\n",
    "#        print(f\" Visited const value {node.value}\")\n",
    "        self.const_values.append(node)\n",
    "        self.const_values_seen.add(node.value)\n",
    "        \n",
    "    def visit_Constant(self,node):\n",
    "        self.add_const_value(node)\n",
    "        return super().generic_visit(node)\n",
    "    \n",
    "    def generic_visit(self, node):\n",
    "        return super().generic_visit(node)"
   ]
  },
  {
   "cell_type": "code",
   "execution_count": null,
   "metadata": {},
   "outputs": [],
   "source": [
    "def all_const_values(trees, tp = None):\n",
    "    \"\"\"Return all constant values from the AST (or AST list) `trees`.\n",
    "    If `tp` is given, return only elements of that type.\"\"\"\n",
    "    if not isinstance(trees, list):\n",
    "        assert isinstance(trees, ast.AST)\n",
    "        trees = [trees]\n",
    "    \n",
    "    visitor = ConstValueVisitor()\n",
    "    \n",
    "    for tree in trees:\n",
    "        visitor.visit(tree)\n",
    "    \n",
    "    const_nodes = visitor.const_values\n",
    "    seen_values = visitor.const_values_seen\n",
    "    return const_nodes, seen_values"
   ]
  },
  {
   "cell_type": "code",
   "execution_count": null,
   "metadata": {},
   "outputs": [],
   "source": [
    "all_const_values(unfixed_square_root_tree)"
   ]
  },
  {
   "cell_type": "code",
   "execution_count": null,
   "metadata": {},
   "outputs": [],
   "source": [
    "class ValueMutator(StatementMutator):\n",
    "    \"\"\"Mutate constant values in an AST\"\"\"\n",
    "\n",
    "    def __init__(self, *args, **kwargs):\n",
    "        \"\"\"Constructor. Arguments are as with `StatementMutator` constructor.\"\"\"\n",
    "        super().__init__(*args, **kwargs)\n",
    "        self.const_nodes, self.seen_values = all_const_values(self.source)  #TODO: Find all statements containing constant values yo \n",
    "        if self.log:\n",
    "            print(\"Found constant values: \",\n",
    "                  [node.value for node in self.const_nodes])\n",
    "    \n",
    "    def choose_const_node(self):\n",
    "        \"\"\"Return a random constant node from source.\"\"\"\n",
    "        return random.choice(self.const_nodes)\n",
    "    \n",
    "    def mutatable_subnode(self,tree):\n",
    "        visitor = ConstValueVisitor()\n",
    "        visitor.visit(tree)\n",
    "        if(len(visitor.const_values)>0):\n",
    "            return random.choice(visitor.const_values)\n",
    "        else:\n",
    "            return None\n",
    "    \n",
    "    def node_to_be_mutated(self,tree):\n",
    "        const_values = all_const_values(tree)[0]\n",
    "        return random.choice(const_values)\n",
    "        \n",
    "    def find_replacement_value(self,node):\n",
    "        \"\"\"Return a replacing constant value from source for a given node\"\"\"\n",
    "        for const_node in self.const_nodes:\n",
    "            if(const_node.value != node.value):\n",
    "                return const_node.value\n",
    "        \n",
    "        return None\n",
    "    \n",
    "    def swap_values(self, node): \n",
    "        mutated_subnode = self.mutatable_subnode(node)\n",
    "        if mutated_subnode is None:\n",
    "            return super().swap(node)\n",
    "        else:\n",
    "            old_value = mutated_subnode.value\n",
    "            replacing_value = self.find_replacement_value(mutated_subnode)\n",
    "            mutated_subnode.value = replacing_value\n",
    "            return node\n",
    "\n",
    "    def visit(self, node):\n",
    "        super(NodeTransformer, self).visit(node)  # Visits (and transforms?) children\n",
    "        if not node.mutate_me:\n",
    "            return node\n",
    "        else:\n",
    "            new_node = self.swap_values(node)\n",
    "            return new_node\n",
    "            \n",
    "    def mutate(self, tree):\n",
    "        \"\"\"Mutate the given AST `tree` in place \n",
    "        The only considered mutations are value mutations. Return mutated tree.\"\"\"\n",
    "        \n",
    "        new_tree = copy.deepcopy(tree)     #TODO: Umnennen\n",
    "        node_to_be_mutated = self.node_to_be_mutated(new_tree)\n",
    "        \n",
    "        for node in ast.walk(new_tree):\n",
    "            node.mutate_me = False\n",
    "            \n",
    "        node_to_be_mutated.mutate_me = True\n",
    "        \n",
    "        new_tree = self.visit(new_tree)\n",
    "        ast.fix_missing_locations(new_tree)\n",
    "        \n",
    "        return new_tree\n",
    "        "
   ]
  },
  {
   "cell_type": "code",
   "execution_count": null,
   "metadata": {},
   "outputs": [],
   "source": [
    "value_mutator = ValueMutator(source = all_statements(unfixed_square_root_tree), log = True)\n",
    "print(f\"Random pick from const values: {value_mutator.choose_const_node().value}\")"
   ]
  },
  {
   "cell_type": "code",
   "execution_count": null,
   "metadata": {},
   "outputs": [],
   "source": [
    "def compile_and_test(tree):\n",
    "    try:\n",
    "        code = compile(tree, '<code>', 'exec')\n",
    "        result = exec(code,globals())\n",
    "        if square_root(0) == 0:\n",
    "            return True\n",
    "        return False\n",
    "    except Exception as e:\n",
    "        return False\n",
    "    "
   ]
  },
  {
   "cell_type": "code",
   "execution_count": null,
   "metadata": {},
   "outputs": [],
   "source": [
    "test_tree = value_mutator.mutate(unfixed_square_root_tree)\n",
    "\n",
    "while(compile_and_test(test_tree)==False):\n",
    "    test_tree = value_mutator.mutate(unfixed_square_root_tree)\n",
    "\n",
    "print_content(astor.to_source(test_tree),'.py')\n",
    "print(f\"\\nResult of square root of zero: {square_root(0)}\")"
   ]
  },
  {
   "cell_type": "markdown",
   "metadata": {
    "button": false,
    "new_sheet": false,
    "run_control": {
     "read_only": false
    },
    "slideshow": {
     "slide_type": "subslide"
    },
    "solution": "hidden",
    "solution2": "hidden",
    "solution2_first": true,
    "solution_first": true
   },
   "source": [
    "### Exercise 4: Evolving Variable Names\n",
    "\n",
    "Following the steps of `ConditionMutator`, implement a `IdentifierMutator` class that replaces one identifier by another one found in the source (say, `y` by `x`). Does it help fixing the `middle()` error?"
   ]
  },
  {
   "cell_type": "markdown",
   "metadata": {},
   "source": [
    "### Answer 4:\n",
    "Implementation of `IdentifierMutator` and `IdentifierVisitor`:\n"
   ]
  },
  {
   "cell_type": "code",
   "execution_count": null,
   "metadata": {},
   "outputs": [],
   "source": [
    "class IdentifierVisitor(NodeVisitor):\n",
    "    def __init__(self):\n",
    "        self.identifiers = []\n",
    "        self.identifiers_seen = set()\n",
    "        super().__init__()\n",
    "    \n",
    "    def add_identifier(self,node):\n",
    "        self.identifiers.append(node)\n",
    "        self.identifiers_seen.add(node.id)\n",
    "\n",
    "    def visit_Name(self,node):\n",
    "        self.add_identifier(node)\n",
    "        return super().generic_visit(node)\n",
    "        \n",
    "    def generic_visit(self,node):\n",
    "        return super().generic_visit(node)"
   ]
  },
  {
   "cell_type": "code",
   "execution_count": null,
   "metadata": {},
   "outputs": [],
   "source": [
    "def all_identifiers(trees, tp = None):\n",
    "    \"\"\"Return all identifiers from the AST (or AST list) `trees`.\n",
    "    If `tp` is given, return only elements of that type.\"\"\"\n",
    "\n",
    "    if not isinstance(trees, list):\n",
    "        assert isinstance(trees, ast.AST)\n",
    "        trees = [trees]\n",
    "    \n",
    "    id_visitor = IdentifierVisitor()\n",
    "    for tree in trees:\n",
    "        id_visitor.visit(tree)\n",
    "        \n",
    "    return id_visitor.identifiers\n",
    "\n",
    "def seen_ids(tree):\n",
    "    id_visitor = IdentifierVisitor()\n",
    "    id_visitor.visit(tree)\n",
    "    return id_visitor.identifiers_seen"
   ]
  },
  {
   "cell_type": "code",
   "execution_count": null,
   "metadata": {},
   "outputs": [],
   "source": [
    "middle_code = inspect.getsource(middle)\n",
    "middle_tree = ast.parse(middle_code)\n",
    "show_ast(middle_tree)"
   ]
  },
  {
   "cell_type": "code",
   "execution_count": null,
   "metadata": {},
   "outputs": [],
   "source": [
    "all_identifiers(middle_tree)\n",
    "seen_ids(middle_tree)"
   ]
  },
  {
   "cell_type": "code",
   "execution_count": null,
   "metadata": {},
   "outputs": [],
   "source": [
    "class IdentifierMutator(StatementMutator):\n",
    "    \"\"\"Mutate identifiers in an AST\"\"\"\n",
    "    \n",
    "    def __init__(self, *args, **kwargs):\n",
    "        \"\"\"Constructor. Arguments are as with `StatementMutator` constructor.\"\"\"\n",
    "        super().__init__(*args, **kwargs)\n",
    "        self.identifiers = all_identifiers(self.source)\n",
    "        if self.log:\n",
    "            print(\"Found statements containing the following identifiers: \",\n",
    "                  [astor.to_source(id).strip() \n",
    "                   for id in self.identifiers])\n",
    "            \n",
    "    def update_current_identifiers(self, tree):\n",
    "        self.identifiers = all_identifiers(tree)\n",
    "        print(f\"Updated current identifiers to ...\")\n",
    "            \n",
    "    def node_to_be_mutated(self,tree):\n",
    "        id_visitor = IdentifierVisitor()\n",
    "        id_visitor.visit(tree)\n",
    "        return random.choice(id_visitor.identifiers)\n",
    "    \n",
    "    def mutatable_subnode(self, tree):\n",
    "        id_visitor = IdentifierVisitor()\n",
    "        id_visitor.visit(tree)\n",
    "        if (len(id_visitor.identifiers) > 0):\n",
    "            return random.choice(id_visitor.identifiers)\n",
    "        else:\n",
    "            return None\n",
    "    \n",
    "    def get_replacing_id(self,node):\n",
    "        current_id = node.id\n",
    "        random_id = random.choice(self.identifiers).id\n",
    "        if(len(self.identifiers) == 1):\n",
    "            return current_id\n",
    "        else:\n",
    "            while(str(current_id) == str(random_id)):\n",
    "                random_id = random.choice(self.identifiers).id\n",
    "            return random_id\n",
    "        \n",
    "    def swap_ids(self, node):\n",
    "        mutate_node = self.mutatable_subnode(node)\n",
    "        if mutate_node is None:\n",
    "            print(\"There is no mutatable subnode\")\n",
    "            return super().swap(node)\n",
    "        else:\n",
    "            old_id = mutate_node.id\n",
    "            replacing_id = self.get_replacing_id(mutate_node)\n",
    "            mutate_node.id = replacing_id\n",
    "            return node\n",
    "\n",
    "    def visit(self, node):\n",
    "        super(NodeTransformer, self).visit(node)\n",
    "        if not node.mutate_me:\n",
    "            return node\n",
    "        else:\n",
    "            new_node = self.swap_ids(node)\n",
    "            return new_node\n",
    "            \n",
    "    def mutate(self, tree):\n",
    "        \"\"\"Mutate the given AST `tree` in place \n",
    "        The only considered mutations are id mutations. Return mutated tree.\"\"\"\n",
    "        \n",
    "        #TODO: eventuell hier oben self.identifers, seen_identifiers ändern\n",
    "        new_tree = copy.deepcopy(tree)    \n",
    "        \n",
    "        for node in ast.walk(new_tree):\n",
    "            node.mutate_me = False\n",
    "            \n",
    "        node_to_be_mutated = self.node_to_be_mutated(new_tree)\n",
    "        node_to_be_mutated.mutate_me = True\n",
    "        \n",
    "        new_tree = self.visit(new_tree)\n",
    "        \n",
    "        ast.fix_missing_locations(new_tree)\n",
    "        return new_tree\n",
    "        "
   ]
  },
  {
   "cell_type": "code",
   "execution_count": null,
   "metadata": {},
   "outputs": [],
   "source": [
    "middle_tree = ast.parse(inspect.getsource(middle))\n",
    "id_mutator = IdentifierMutator(source = middle_tree,log=True)\n",
    "print_content(astor.to_source(middle_tree),'.py')"
   ]
  },
  {
   "cell_type": "code",
   "execution_count": null,
   "metadata": {},
   "outputs": [],
   "source": [
    "new_tree = id_mutator.mutate(middle_tree)\n",
    "print_content(astor.to_source(new_tree),'.py')\n",
    "\n",
    "while(middle_fitness(new_tree) < 1):\n",
    "    new_tree = id_mutator.mutate(middle_tree)\n",
    "\n",
    "code = compile(tree, '<code>', 'exec')\n",
    "exec(code, globals())\n",
    "\n",
    "print_content(astor.to_source(new_tree),'.py')\n",
    "middle(2,1,3)"
   ]
  },
  {
   "cell_type": "markdown",
   "metadata": {},
   "source": [
    "### Exercise 5: Parallel Repair\n",
    "\n",
    "Automatic Repair is a technique that is embarrassingly parallel – all tests for one candidate can all be run in parallel, and all tests for _all_ candidates can also be run in parallel. Set up an infrastructure for running concurrent tests using Pythons [asyncio](https://docs.python.org/3/library/asyncio.html) library."
   ]
  },
  {
   "cell_type": "code",
   "execution_count": null,
   "metadata": {},
   "outputs": [],
   "source": [
    "### multiprocessing-Pool Example Sleepsort with preprocessing of available data###\n",
    "q = Queue()\n",
    "\n",
    "def async_wait(i):\n",
    "    global q\n",
    "    time.sleep(i*1.5)\n",
    "    print(f\"{i} handed over for preprocessing\")\n",
    "    q.put(i)\n",
    "    return i\n",
    "\n",
    "def preprocessing_worker():\n",
    "    global q\n",
    "    print(\"Big Preprocessor is watching you\")\n",
    "    counter = 0\n",
    "    while(counter<9):\n",
    "        item = q.get()\n",
    "        print(f\"Preprocessing item: {item}\")\n",
    "        counter += 1\n",
    "        \n",
    "\"\"\"\n",
    "randomlist = random.sample(range(1, 10), 9)\n",
    "print(f\"Unsorted List: {randomlist}\")\n",
    "\n",
    "preprocessor = Process(target=preprocessing_worker,args = ())\n",
    "preprocessor.start()\n",
    "with Pool() as p:\n",
    "    global q\n",
    "    p.map(async_wait, randomlist)\n",
    "    preprocessor.join()\n",
    "    print(\"Finished sorting and preprocessing the unsorted list\")\n",
    "\"\"\""
   ]
  },
  {
   "cell_type": "markdown",
   "metadata": {},
   "source": [
    "### Loop Mutator\n",
    "The following class mutates the ranges of loops, i.e. `range(1,n)` => `range(1,n+1)` or `range(1,n)` => `range(1,n-1)`"
   ]
  },
  {
   "cell_type": "code",
   "execution_count": null,
   "metadata": {},
   "outputs": [],
   "source": [
    "class LoopVisitor(NodeVisitor):\n",
    "    def __init__(self):\n",
    "        self.loops = []\n",
    "        super().__init__()\n",
    "    \n",
    "    def add_loop(self,node):\n",
    "        self.loops.append(node)\n",
    "\n",
    "    def visit_For(self,node):\n",
    "        self.add_loop(node)\n",
    "        return super().generic_visit(node)\n",
    "    \n",
    "    def visit_While(self,node):\n",
    "        self.add_loop(node)\n",
    "        return super().generic_visit(node)\n",
    "        \n",
    "    def generic_visit(self,node):\n",
    "        return super().generic_visit(node)"
   ]
  },
  {
   "cell_type": "code",
   "execution_count": null,
   "metadata": {},
   "outputs": [],
   "source": [
    "def all_loops(trees, tp = None):\n",
    "    \"\"\"Return all identifiers from the AST (or AST list) `trees`.\n",
    "    If `tp` is given, return only elements of that type.\"\"\"\n",
    "    if not isinstance(trees, list):\n",
    "        assert isinstance(trees, ast.AST)\n",
    "        trees = [trees]\n",
    "    \n",
    "    loop_visitor = LoopVisitor()\n",
    "    for tree in trees:\n",
    "        loop_visitor.visit(tree)\n",
    "        \n",
    "    return loop_visitor.loops"
   ]
  },
  {
   "cell_type": "code",
   "execution_count": null,
   "metadata": {},
   "outputs": [],
   "source": [
    "class LoopMutator(StatementMutator):\n",
    "    \"\"\"Mutate Loops in an AST\"\"\"\n",
    "    def __init__(self, *args, **kwargs):\n",
    "        \"\"\"Constructor. Arguments are as with `StatementMutator` constructor.\"\"\"\n",
    "        super().__init__(*args, **kwargs)\n",
    "        self.loops = all_loops(self.source)\n",
    "        self.identifiers = all_identifiers(self.source)\n",
    "        self.num_replaced_ids = 0\n",
    "        if self.log:\n",
    "            print(\"Found the following Loops in Source: \",\n",
    "                  [astor.to_source(loop).strip() \n",
    "                   for loop in self.loops])\n",
    "            \n",
    "    def loop_to_be_mutated(self,tree):\n",
    "        loop_visitor = LoopVisitor()\n",
    "        loop_visitor.visit(tree)\n",
    "        chosen_loop = random.choice(loop_visitor.loops)\n",
    "    \n",
    "    def new_range(self,node):\n",
    "        current_iter = node.iter\n",
    "        random_iter = random.choice(self.loops).iter\n",
    "        if(len(self.loops) == 1):\n",
    "            return current_iter == random_iter\n",
    "        else:\n",
    "            while(current_iter == random_iter):\n",
    "                random_iter = random.choice(self.loops).iter\n",
    "            return random_iter\n",
    "        \n",
    "    def get_replacing_id(self,node):\n",
    "        current_id = node.id\n",
    "        random_id = random.choice(self.identifiers).id\n",
    "        if(len(self.identifiers) == 1):\n",
    "            return current_id\n",
    "        else:\n",
    "            while(str(current_id) == str(random_id)):\n",
    "                random_id = random.choice(self.identifiers).id\n",
    "            return random_id\n",
    "        \n",
    "    def mutate_range(self, node):\n",
    "        has_target = hasattr(node, 'target')\n",
    "        has_iter = hasattr(node, 'iter')\n",
    "        \n",
    "        range_mutation = random.choice([\"rename_target\",\"swap_iter_id\"])\n",
    "        if (has_target and has_iter):\n",
    "            \n",
    "            if(range_mutation == \"rename_target\"):\n",
    "                target_var_id = node.target.id\n",
    "                new_var_id = \"replacement_id\" + str(self.num_replaced_ids)\n",
    "                self.num_replaced_ids += 1\n",
    "                node.target.id = new_var_id\n",
    "                for assignment in all_assignments(node)[0]:\n",
    "                    for var in all_identifiers(assignment.value):\n",
    "                         if var.id == target_var_id:\n",
    "                            var.id = new_var_id\n",
    "                            \n",
    "            elif(range_mutation == \"swap_iter_id\"):\n",
    "                name_visitor = IdentifierVisitor()\n",
    "                name_visitor.visit(node.iter)\n",
    "                \n",
    "                name_to_swap = random.choice(all_identifiers(node.iter))\n",
    "                \n",
    "                id_to_swap = name_to_swap.id\n",
    "                replacing_id = self.get_replacing_id(name_to_swap)\n",
    "                name_to_swap.id = replacing_id\n",
    "                body_names = all_identifiers(node.body)\n",
    "                \n",
    "                for name in body_names:\n",
    "                    if(name.id == replacing_id):\n",
    "                        name.id = id_to_swap    \n",
    "        return node   \n",
    "        \n",
    "    def swap_range(self, node):\n",
    "        if not hasattr(node, 'iter'):\n",
    "            return super().swap(node)\n",
    "        else:\n",
    "            old_iter = node.iter\n",
    "            node = self.mutate_range(node)\n",
    "  #          node.iter = replacing_iter\n",
    "            return node\n",
    "    \n",
    "    def visit(self, node):\n",
    "        super(NodeTransformer, self).visit(node)\n",
    "        if not node.mutate_me:\n",
    "            return node\n",
    "        else:\n",
    "            new_node = self.swap_range(node)\n",
    "            return new_node\n",
    "            \n",
    "    def mutate(self, tree):\n",
    "        \"\"\"Mutate the given AST `tree` in place \n",
    "        The only considered mutations are id mutations. Return mutated tree.\"\"\"\n",
    "        \n",
    "        #TODO: eventuell hier oben self.identifers, seen_identifiers ändern\n",
    "        new_tree = copy.deepcopy(tree)    \n",
    "        \n",
    "        for node in ast.walk(new_tree):\n",
    "            node.mutate_me = False\n",
    "            \n",
    "        node_to_be_mutated = self.loop_to_be_mutated(new_tree)\n",
    "        node_to_be_mutated.mutate_me = True\n",
    "        \n",
    "        new_tree = self.visit(new_tree)\n",
    "        \n",
    "        ast.fix_missing_locations(new_tree)\n",
    "        return new_tree\n",
    "        "
   ]
  },
  {
   "cell_type": "markdown",
   "metadata": {},
   "source": [
    "### AssignmentMutator\n",
    "The following class mutates Assignments by adding, subtracting or multiplying constants or variables from source"
   ]
  },
  {
   "cell_type": "code",
   "execution_count": null,
   "metadata": {},
   "outputs": [],
   "source": [
    "class AssignVisitor(NodeVisitor):\n",
    "    def __init__(self):\n",
    "        self.assigns = []\n",
    "        self.seen_assigns = set()\n",
    "        super().__init__()\n",
    "    \n",
    "    def add_assignment(self,node):\n",
    "        self.assigns.append(node)\n",
    "        self.seen_assigns.add(node)        \n",
    "    \n",
    "    def visit_Assign(self,node):\n",
    "        self.add_assignment(node)\n",
    "        return super().generic_visit(node)\n",
    "    \n",
    "    def visit_AugAssign(self,node):\n",
    "        self.add_assignment(node)\n",
    "        return super().generic_visit(node)\n",
    "        \n",
    "    def generic_visit(self,node):\n",
    "        return super().generic_visit(node)"
   ]
  },
  {
   "cell_type": "code",
   "execution_count": null,
   "metadata": {},
   "outputs": [],
   "source": [
    "class AssignMutator(StatementMutator):\n",
    "    \"\"\"Mutate Loops in an AST\"\"\"\n",
    "    def __init__(self, *args, **kwargs):\n",
    "        \"\"\"Constructor. Arguments are as with `StatementMutator` constructor.\"\"\"\n",
    "        super().__init__(*args, **kwargs)\n",
    "        self.assignments, self.seen_assignments = all_assignments(self.source)\n",
    "        self.const_values, self.seen_values = all_const_values(self.source)\n",
    "        self.identifiers = all_identifiers(self.source)\n",
    "\n",
    "        if self.log:\n",
    "            print(\"Found statements containing the following assignments: \",\n",
    "                  [astor.to_source(assign).strip() \n",
    "                   for assign in self.assignments])\n",
    "            \n",
    "    def assignment_to_be_mutated(self,tree):\n",
    "        assign_visitor = AssignVisitor()\n",
    "        assign_visitor.visit(tree)\n",
    "        return random.choice(assign_visitor.assigns)\n",
    "    \n",
    "    def choose_mutator_op(self):\n",
    "        choice =  random.choice([\"add\",\"sub\",\"mult\",\"div\"])\n",
    "        if choice == \"add\":\n",
    "            return ast.Add\n",
    "        elif choice == \"sub\":\n",
    "            return ast.Sub\n",
    "        elif choice == \"mult\":\n",
    "            return ast.Mult\n",
    "        else:\n",
    "            return ast.Div\n",
    "    \n",
    "    def mutate_assignment(self, node):\n",
    "        if(len(self.seen_values)>0):\n",
    "            replacing_const = ast.Constant(random.choice(tuple(self.seen_values)))\n",
    "        elif(len(self.identifiers)>0):\n",
    "            replacing_const = random.choice(self.identifiers)\n",
    "        else:\n",
    "            replacing_const = ast.Constant(1)\n",
    "            \n",
    "        if hasattr(node, 'op') or hasattr(node, 'value'):\n",
    "            replacing_op = self.choose_mutator_op()\n",
    "           \n",
    "            current_assign_value = node.value\n",
    "            replacing_assignment = ast.BinOp(left=current_assign_value, op = replacing_op(), right=replacing_const)\n",
    "            node.value = replacing_assignment\n",
    "            return node\n",
    "        else:\n",
    "            return super().insert(node)\n",
    "                   \n",
    "    def visit(self, node):\n",
    "        super(NodeTransformer, self).visit(node)\n",
    "        if not node.mutate_me:\n",
    "            return node\n",
    "        else:\n",
    "            new_node = self.mutate_assignment(node)\n",
    "            return new_node\n",
    "            \n",
    "    def mutate(self, tree):\n",
    "        \"\"\"Mutate the given AST `tree` in place \n",
    "        The only considered mutations are id mutations. Return mutated tree.\"\"\"\n",
    "        \n",
    "        #TODO: eventuell hier oben self.identifers, seen_identifiers ändern\n",
    "        new_tree = copy.deepcopy(tree)    \n",
    "        \n",
    "        for node in ast.walk(new_tree):\n",
    "            node.mutate_me = False\n",
    "            \n",
    "        assignment_to_be_mutated = self.assignment_to_be_mutated(new_tree)\n",
    "        assignment_to_be_mutated.mutate_me = True\n",
    "        \n",
    "        new_tree = self.visit(new_tree)\n",
    "        \n",
    "        ast.fix_missing_locations(new_tree)\n",
    "        return new_tree\n",
    "        "
   ]
  },
  {
   "cell_type": "code",
   "execution_count": null,
   "metadata": {},
   "outputs": [],
   "source": [
    "def all_assignments(trees, tp = None):\n",
    "    \"\"\"Return all identifiers from the AST (or AST list) `trees`.\n",
    "    If `tp` is given, return only elements of that type.\"\"\"\n",
    "    if not isinstance(trees, list):\n",
    "        assert isinstance(trees, ast.AST)\n",
    "        trees = [trees]\n",
    "    \n",
    "    assign_visitor = AssignVisitor()\n",
    "    for tree in trees:\n",
    "        assign_visitor.visit(tree)\n",
    "        \n",
    "    return (assign_visitor.assigns,assign_visitor.seen_assigns)"
   ]
  },
  {
   "cell_type": "markdown",
   "metadata": {},
   "source": [
    "### OperatorMutator\n",
    "The `OperatorMutator` class mutates the operators in assignments, e.g. `x = a + b` => `x = a * b` ; `x += b` => `x *= b`"
   ]
  },
  {
   "cell_type": "code",
   "execution_count": null,
   "metadata": {},
   "outputs": [],
   "source": [
    "class OperatorVisitor(NodeVisitor):\n",
    "    def __init__(self):\n",
    "        self.operators = []\n",
    "        self.seen_ops = set()\n",
    "        super().__init__()\n",
    "    \n",
    "    def add_operator(self,node):\n",
    "        print(f\"Found operator: {node}\")\n",
    "        self.operators.append(node)\n",
    "        self.seen_ops.add(node.op)\n",
    "        \n",
    "    def visit_BinOp(self,node):\n",
    "        self.add_operator(node)\n",
    "        return super().generic_visit(node)\n",
    "    \n",
    "    def visit_UnaryOp(self, node):\n",
    "        self.add_operator(node)\n",
    "        return super().generic_visit(node)\n",
    "    \n",
    "    def visit_BoolOp(self, node):\n",
    "        self.add_operator(node)\n",
    "        return super().generic_visit(node)\n",
    "    \n",
    "    def visit_AugAssign(self,node):\n",
    "        self.add_operator(node)\n",
    "        return super().generic_visit(node)\n",
    "        \n",
    "    def generic_visit(self,node):\n",
    "        return super().generic_visit(node) "
   ]
  },
  {
   "cell_type": "code",
   "execution_count": null,
   "metadata": {},
   "outputs": [],
   "source": [
    "def all_operators(trees, tp = None):\n",
    "    \"\"\"Return all identifiers from the AST (or AST list) `trees`.\n",
    "    If `tp` is given, return only elements of that type.\"\"\"\n",
    "\n",
    "    if not isinstance(trees, list):\n",
    "        assert isinstance(trees, ast.AST)\n",
    "        trees = [trees]\n",
    "    \n",
    "    op_visitor = OperatorVisitor()\n",
    "    for tree in trees:\n",
    "        op_visitor.visit(tree)\n",
    "        \n",
    "    return op_visitor.operators"
   ]
  },
  {
   "cell_type": "code",
   "execution_count": null,
   "metadata": {},
   "outputs": [],
   "source": [
    "class OperatorMutator(StatementMutator):\n",
    "    \"\"\"Mutate Loops in an AST\"\"\"\n",
    "    def __init__(self, *args, **kwargs):\n",
    "        \"\"\"Constructor. Arguments are as with `StatementMutator` constructor.\"\"\"\n",
    "        super().__init__(*args, **kwargs)\n",
    "        self.operators = all_operators(self.source)\n",
    "\n",
    "        if self.log:\n",
    "            print(\"Found statements containing the following assignments: \",\n",
    "                  [astor.to_source(op).strip() \n",
    "                   for op in self.operators])\n",
    "            \n",
    "    def operator_to_be_mutated(self,tree):\n",
    "        op_visitor = OperatorVisitor()\n",
    "        op_visitor.visit(tree)\n",
    "        if(len(op_visitor.operators)>0):\n",
    "            return random.choice(op_visitor.operators)\n",
    "        else:\n",
    "            return None\n",
    "    \n",
    "    def choose_mutated_op(self, node):\n",
    "        choices = list()\n",
    "        \n",
    "        bin_ops = [ast.Add,ast.Sub,ast.Mult,ast.Div,ast.FloorDiv,ast.Mod,ast.Pow,ast.LShift,ast.RShift,ast.BitOr,ast.BitXor,ast.BitAnd,ast.MatMult]\n",
    "        if any(isinstance(node.op, operator) for operator in bin_ops):\n",
    "            choices = [ast.Add,ast.Mult,ast.Div,ast.Sub]\n",
    "        else:\n",
    "            choices = [ast.UAdd,ast.Not,ast.Invert,ast.USub]\n",
    "        \n",
    "        choice = random.choice(choices)\n",
    "        \n",
    "        while(isinstance(node.op, choice)):\n",
    "            choice = random.choice(choices)\n",
    "            \n",
    "        return choice()  \n",
    "    \n",
    "    def mutate_operator(self, node):\n",
    "        if hasattr(node, 'op'):\n",
    "            replacing_op = self.choose_mutated_op(node)\n",
    "            node.op = replacing_op\n",
    "        return node\n",
    "                   \n",
    "    def visit(self, node):\n",
    "        super(NodeTransformer, self).visit(node)\n",
    "        if not node.mutate_me:\n",
    "            return node\n",
    "        else:\n",
    "            new_node = self.mutate_operator(node)\n",
    "            return new_node\n",
    "            \n",
    "    def mutate(self, tree):\n",
    "        \"\"\"Mutate the given AST `tree` in place \n",
    "        The only considered mutations are id mutations. Return mutated tree.\"\"\"\n",
    "        \n",
    "        #TODO: eventuell hier oben self.identifers, seen_identifiers ändern\n",
    "        new_tree = copy.deepcopy(tree)    \n",
    "        \n",
    "        for node in ast.walk(new_tree):\n",
    "            node.mutate_me = False\n",
    "            \n",
    "        assignment_to_be_mutated = self.assignment_to_be_mutated(new_tree)\n",
    "        assignment_to_be_mutated.mutate_me = True\n",
    "        \n",
    "        new_tree = self.visit(new_tree)\n",
    "        \n",
    "        ast.fix_missing_locations(new_tree)\n",
    "        return new_tree\n",
    "        "
   ]
  },
  {
   "cell_type": "markdown",
   "metadata": {},
   "source": [
    "### Test-Function Runner\n",
    "The following class facilitates the detection of endless loops, and terminates the execution of functions that take a suspiciously long amount of time to execute"
   ]
  },
  {
   "cell_type": "code",
   "execution_count": null,
   "metadata": {},
   "outputs": [],
   "source": [
    "class Repairer(Repairer):\n",
    "    def run_test_set(self, test_set, validate=False):\n",
    "        \"\"\"Run given `test_set`\n",
    "        (`DifferenceDebugger.PASS` or `DifferenceDebugger.FAIL`).\n",
    "        If `validate` is set, check expectations.\n",
    "        Return number of passed tests.\"\"\"\n",
    "        \n",
    "        collectors = self.debugger.collectors[test_set]     \n",
    "        function = self.debugger.function()\n",
    "        \n",
    "        args_to_test = list()\n",
    "        \n",
    "        for c in collectors:\n",
    "            if self.log >= 4:\n",
    "                print(f\"Testing {c.id()}...\", end=\"\")\n",
    "            args_to_test.append(c.args())\n",
    "            \n",
    "        num_passed = function_runner_process(function, args_to_test)\n",
    "        \n",
    "        return num_passed\n",
    "    "
   ]
  },
  {
   "cell_type": "markdown",
   "metadata": {
    "scrolled": true
   },
   "source": [
    "### Meta Mutator\n",
    "The following class is a combination of the Mutator classes defined above, considering Mutations of each class (`ConditionMutator`, `IdentifierMutator`, `ValueMutator`, `RangeMutator`). This can then be used as the Mutator class of our `Repairer` to allow the fixing of multiple problems."
   ]
  },
  {
   "cell_type": "code",
   "execution_count": null,
   "metadata": {},
   "outputs": [],
   "source": [
    "class MetaMutator(StatementMutator):\n",
    "    def __init__(self, *args, **kwargs):\n",
    "        \"\"\"Constructor. Arguments are as with `StatementMutator` constructor.\"\"\"\n",
    "        super().__init__(*args, **kwargs)\n",
    "        self.value_mutator = ValueMutator(source = self.source, log = True)\n",
    "        self.condition_mutator = ConditionMutator(source = self.source, log = True)\n",
    "        self.identifier_mutator = IdentifierMutator(source = self.source, log = True)\n",
    "        self.assignment_mutator = AssignMutator(source = self.source, log = True)\n",
    "        self.loop_mutator = LoopMutator(source = self.source, log = True)\n",
    "        self.op_mutator = OperatorMutator(source = self.source, log = True)\n",
    "    \n",
    "    def check_applicability(self, choice, node):\n",
    "        if choice == \"identifier_mutator\":\n",
    "            return self.identifier_mutator.mutatable_subnode(node) is not None\n",
    "        elif choice == \"value_mutator\":\n",
    "            return self.value_mutator.mutatable_subnode(node) is not None\n",
    "        elif choice == \"assignment_mutator\":\n",
    "            return ((hasattr(node, 'op') or hasattr(node, 'value'))) and (len(self.assignment_mutator.seen_values)>0 or len(self.assignment_mutator.identifiers)>0)\n",
    "        elif choice == \"loop_mutator\":\n",
    "            return hasattr(node, 'target') and hasattr(node, 'iter')\n",
    "        elif choice == \"op_mutator\":\n",
    "            return hasattr(node, 'op')\n",
    "        elif choice == \"condition_mutator\":\n",
    "            return hasattr(node, 'test')\n",
    "        return True\n",
    "    \n",
    "    def equal_chance_operator_selector(self, node):\n",
    "        chosen_operator = None\n",
    "        choices = [\"insert\", \"op_mutator\", \"loop_mutator\", \"assignment_mutator\", \"condition_mutator\", \"identifier_mutator\", \"value_mutator\", \"default_swap\", \"delete\"]\n",
    "        choice = random.choice(choices)\n",
    "        \n",
    "        while(not self.check_applicability(choice, node)):\n",
    "            choice = random.choice(choices)\n",
    "\n",
    "        if(choice == \"condition_mutator\"):\n",
    "            chosen_operator = self.condition_mutator.swap\n",
    "        elif(choice == \"identifier_mutator\"):\n",
    "            chosen_operator = self.identifier_mutator.swap_ids\n",
    "        elif(choice == \"value_mutator\"):\n",
    "            chosen_operator = self.value_mutator.swap_values\n",
    "        elif(choice == \"default_swap\"):\n",
    "            if self.check_applicability(\"condition_mutator\", node):\n",
    "                chosen_operator = self.condition_mutator.swap\n",
    "            else:\n",
    "                chosen_operator = super().swap\n",
    "        elif(choice ==\"assignment_mutator\"):\n",
    "            chosen_operator = self.assignment_mutator.mutate_assignment\n",
    "        elif(choice == \"insert\"):\n",
    "            chosen_operator = super().insert\n",
    "        elif(choice == \"loop_mutator\"):\n",
    "            chosen_operator = self.loop_mutator.mutate_range\n",
    "        elif(choice == \"op_mutator\"):\n",
    "            chosen_operator = self.op_mutator.mutate_operator\n",
    "        else:\n",
    "            chosen_operator = super().delete\n",
    "                \n",
    "        return chosen_operator\n",
    "    \n",
    "    def visit(self, node):\n",
    "        super(NodeTransformer, self).visit(node)\n",
    "        if not node.mutate_me:\n",
    "            return node\n",
    "        \n",
    "        op = self.equal_chance_operator_selector(node)\n",
    "        new_node = op(node)\n",
    "        self.mutations += 1\n",
    "\n",
    "        if self.log:\n",
    "            print(f\"{node.lineno:4}:{op.__name__ + ':':7} \"\n",
    "                  f\"{self.format_node(node)} \"\n",
    "                  f\"becomes {self.format_node(new_node)}\")\n",
    "\n",
    "        return new_node\n",
    "    \n",
    "    def mutate(self, tree):\n",
    "        \"\"\"Mutate the given AST `tree` in place. Return mutated tree.\"\"\"\n",
    "        assert isinstance(tree, ast.AST)\n",
    "        new_tree = copy.deepcopy(tree)\n",
    "\n",
    "        if not self.source:\n",
    "            self.source = all_statements(new_tree)\n",
    "\n",
    "        for node in ast.walk(new_tree):\n",
    "            node.mutate_me = False\n",
    "\n",
    "        node = self.node_to_be_mutated(new_tree)\n",
    "        node.mutate_me = True\n",
    "\n",
    "        self.mutations = 0\n",
    "        \n",
    "        new_tree = self.visit(new_tree)            \n",
    "\n",
    "        if self.mutations == 0:\n",
    "            warnings.warn(\"No mutations found\")\n",
    "\n",
    "        ast.fix_missing_locations(new_tree)\n",
    "        return new_tree"
   ]
  },
  {
   "cell_type": "code",
   "execution_count": null,
   "metadata": {},
   "outputs": [],
   "source": [
    "from StatisticalDebugger import middle"
   ]
  },
  {
   "cell_type": "code",
   "execution_count": null,
   "metadata": {},
   "outputs": [],
   "source": [
    "middle_tree = ast.parse(inspect.getsource(middle))\n",
    "meta_mutator = MetaMutator(source = all_statements(middle_tree),log=True)"
   ]
  },
  {
   "cell_type": "code",
   "execution_count": null,
   "metadata": {},
   "outputs": [],
   "source": [
    "new_tree = meta_mutator.mutate(middle_tree)\n",
    "\n",
    "while(middle_fitness(new_tree) < 1):\n",
    "    new_tree = meta_mutator.mutate(middle_tree)\n",
    "\n",
    "code = compile(new_tree, '<code>', 'exec')\n",
    "exec(code, globals())\n",
    "\n",
    "print_content(astor.to_source(new_tree),'.py')\n",
    "middle(2,1,3)"
   ]
  },
  {
   "cell_type": "code",
   "execution_count": null,
   "metadata": {},
   "outputs": [],
   "source": [
    "html_debugger = OchiaiDebugger()\n",
    "for html, plain in (REMOVE_HTML_PASSING_TESTCASES + \n",
    "                    REMOVE_HTML_FAILING_TESTCASES):\n",
    "    with html_debugger:\n",
    "        remove_html_markup_test(html, plain)\n",
    "html_debugger"
   ]
  },
  {
   "cell_type": "code",
   "execution_count": null,
   "metadata": {
    "scrolled": false
   },
   "outputs": [],
   "source": [
    "meta_repairer = Repairer(html_debugger, mutator_class=MetaMutator, log=True)\n",
    "show_ast(remove_html_markup_tree())"
   ]
  },
  {
   "cell_type": "code",
   "execution_count": null,
   "metadata": {},
   "outputs": [],
   "source": [
    "good_fitness = meta_repairer.fitness(remove_html_markup_tree(), concurrent_mode = False)\n",
    "good_fitness"
   ]
  },
  {
   "cell_type": "code",
   "execution_count": null,
   "metadata": {},
   "outputs": [],
   "source": [
    "meta_repairer.repair(iterations = 1000)"
   ]
  }
 ],
 "metadata": {
  "ipub": {
   "bibliography": "fuzzingbook.bib",
   "toc": true
  },
  "kernelspec": {
   "display_name": "PyCharm (debuggingbook-notebooks)",
   "language": "python",
   "name": "pycharm-583f12aa"
  },
  "language_info": {
   "codemirror_mode": {
    "name": "ipython",
    "version": 3
   },
   "file_extension": ".py",
   "mimetype": "text/x-python",
   "name": "python",
   "nbconvert_exporter": "python",
   "pygments_lexer": "ipython3",
   "version": "3.8.5"
  },
  "toc": {
   "base_numbering": 1,
   "nav_menu": {},
   "number_sections": true,
   "sideBar": true,
   "skip_h1_title": true,
   "title_cell": "",
   "title_sidebar": "Contents",
   "toc_cell": false,
   "toc_position": {},
   "toc_section_display": true,
   "toc_window_display": true
  },
  "toc-autonumbering": false
 },
 "nbformat": 4,
 "nbformat_minor": 4
}
