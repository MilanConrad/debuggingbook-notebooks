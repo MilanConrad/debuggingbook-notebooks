{
 "cells": [
  {
   "cell_type": "markdown",
   "metadata": {
    "slideshow": {
     "slide_type": "slide"
    }
   },
   "source": [
    "# Third Project - Automated Repair"
   ]
  },
  {
   "cell_type": "markdown",
   "metadata": {
    "slideshow": {
     "slide_type": "slide"
    }
   },
   "source": [
    "## Overview"
   ]
  },
  {
   "cell_type": "markdown",
   "metadata": {
    "slideshow": {
     "slide_type": "subslide"
    }
   },
   "source": [
    "### The Task\n",
    "\n",
    "For the first two submissions we asked you to implement a _Debugger_ as well as an _Input Reducer_. Both of these tools are used to help the developer to locate bugs and then manually fix them.\n",
    "\n",
    "In this project, you will implement a technique of automatic code repair. To do so, you will extend the `Repairer` introduced in the [Repairing Code Automatically](https://www.debuggingbook.org/beta/html/Repairer.html) chapter of [The Debugging Book](https://www.debuggingbook.org/beta).\n",
    "\n",
    "Your own `Repairer` should automatically generate _repair suggestions_ to the faulty functions we provide later in this notebook. This can be achieved, for instance, by changing various components of the mutator, changing the debugger, or the reduction algorithm. However, you are neither reguired to make all these changes nor required to limit yourself to the changes proposed here."
   ]
  },
  {
   "cell_type": "markdown",
   "metadata": {
    "slideshow": {
     "slide_type": "subslide"
    }
   },
   "source": [
    "### The Submission\n",
    "\n",
    "The time frame for this project is **3 weeks**, and the deadline is **Februrary 5th, 23:59**.  \n",
    "\n",
    "The submission should be in form of a Jupyter notebook and you are expected to hand in the submission as a .zip-archive. The notebook should, apart from the code itself, also provide sufficient explanations and reasoning (in markdown cells) behind the decisions that lead to the solution provided. Projects that do not include explanations cannot get more than **15 points**."
   ]
  },
  {
   "cell_type": "code",
   "execution_count": 1,
   "metadata": {
    "slideshow": {
     "slide_type": "skip"
    }
   },
   "outputs": [],
   "source": [
    "import bookutils"
   ]
  },
  {
   "cell_type": "markdown",
   "metadata": {
    "slideshow": {
     "slide_type": "slide"
    }
   },
   "source": [
    "## A Faulty Function and How to Repair It\n",
    "Before discussing how to use and extend the Repairer, we first start by introducing a new (and highly complex) function that is supposed to return the larger of two values."
   ]
  },
  {
   "cell_type": "code",
   "execution_count": 2,
   "metadata": {
    "slideshow": {
     "slide_type": "fragment"
    }
   },
   "outputs": [],
   "source": [
    "def larger(x, y):\n",
    "    if x < y:\n",
    "        return x\n",
    "    return y"
   ]
  },
  {
   "cell_type": "markdown",
   "metadata": {
    "slideshow": {
     "slide_type": "fragment"
    }
   },
   "source": [
    "Unfortunately, we introduced a bug which makes the function behave the exact opposite way as it is supposed to:"
   ]
  },
  {
   "cell_type": "code",
   "execution_count": 3,
   "metadata": {
    "slideshow": {
     "slide_type": "fragment"
    }
   },
   "outputs": [
    {
     "data": {
      "text/plain": [
       "1"
      ]
     },
     "execution_count": 3,
     "metadata": {},
     "output_type": "execute_result"
    }
   ],
   "source": [
    "larger(1, 3)"
   ]
  },
  {
   "cell_type": "markdown",
   "metadata": {
    "slideshow": {
     "slide_type": "subslide"
    }
   },
   "source": [
    "To fix this issue, we could try to debug it, using the tools we have already seen. However, given the complexity of the function under test (sorry for the irony), we might want to automatically repair the function, using the *Repairer* introduced in *The Debugging Book*.\n",
    "\n",
    "To do so, we first need to define set of test cases, which help the *Repairer* in fixing the function."
   ]
  },
  {
   "cell_type": "code",
   "execution_count": 4,
   "metadata": {
    "slideshow": {
     "slide_type": "fragment"
    }
   },
   "outputs": [],
   "source": [
    "def larger_testcase():\n",
    "    x = random.randrange(100)\n",
    "    y = random.randrange(100)\n",
    "    return x, y"
   ]
  },
  {
   "cell_type": "code",
   "execution_count": 5,
   "metadata": {
    "slideshow": {
     "slide_type": "fragment"
    }
   },
   "outputs": [],
   "source": [
    "def larger_test(x, y):\n",
    "    m = larger(x, y)\n",
    "    assert m == max(x, y), f\"expected {max(x, y)}, but got {m}\""
   ]
  },
  {
   "cell_type": "code",
   "execution_count": 6,
   "metadata": {
    "slideshow": {
     "slide_type": "skip"
    }
   },
   "outputs": [],
   "source": [
    "import math\n",
    "import random"
   ]
  },
  {
   "cell_type": "code",
   "execution_count": 7,
   "metadata": {
    "slideshow": {
     "slide_type": "subslide"
    }
   },
   "outputs": [],
   "source": [
    "random.seed(42)"
   ]
  },
  {
   "cell_type": "markdown",
   "metadata": {
    "slideshow": {
     "slide_type": "fragment"
    }
   },
   "source": [
    "Let us generate a random test case for our function:"
   ]
  },
  {
   "cell_type": "code",
   "execution_count": 8,
   "metadata": {
    "slideshow": {
     "slide_type": "fragment"
    }
   },
   "outputs": [
    {
     "name": "stdout",
     "output_type": "stream",
     "text": [
      "(81, 14)\n"
     ]
    }
   ],
   "source": [
    "larger_input = larger_testcase()\n",
    "print(larger_input)"
   ]
  },
  {
   "cell_type": "markdown",
   "metadata": {
    "slideshow": {
     "slide_type": "fragment"
    }
   },
   "source": [
    "and then feed it into our `larger_test()`:"
   ]
  },
  {
   "cell_type": "code",
   "execution_count": 9,
   "metadata": {
    "slideshow": {
     "slide_type": "skip"
    }
   },
   "outputs": [],
   "source": [
    "from ExpectError import ExpectError"
   ]
  },
  {
   "cell_type": "code",
   "execution_count": 10,
   "metadata": {
    "scrolled": true,
    "slideshow": {
     "slide_type": "subslide"
    }
   },
   "outputs": [
    {
     "name": "stderr",
     "output_type": "stream",
     "text": [
      "Traceback (most recent call last):\n",
      "  File \"<ipython-input-10-796785c98bd7>\", line 2, in <module>\n",
      "    larger_test(*larger_input)\n",
      "  File \"<ipython-input-5-e4a4c6e7072d>\", line 3, in larger_test\n",
      "    assert m == max(x, y), f\"expected {max(x, y)}, but got {m}\"\n",
      "AssertionError: expected 81, but got 14 (expected)\n"
     ]
    }
   ],
   "source": [
    "with ExpectError():\n",
    "    larger_test(*larger_input)"
   ]
  },
  {
   "cell_type": "markdown",
   "metadata": {
    "slideshow": {
     "slide_type": "fragment"
    }
   },
   "source": [
    "As expected, we got an error – the `larger()` function has adefect."
   ]
  },
  {
   "cell_type": "markdown",
   "metadata": {
    "slideshow": {
     "slide_type": "fragment"
    }
   },
   "source": [
    "For a complete test suite, we need a set of passing and failing tests. To be sure we have both, we create functions which produce dedicated inputs:"
   ]
  },
  {
   "cell_type": "code",
   "execution_count": 11,
   "metadata": {
    "slideshow": {
     "slide_type": "subslide"
    }
   },
   "outputs": [],
   "source": [
    "def larger_passing_testcase():\n",
    "    while True:\n",
    "        try:\n",
    "            x, y = larger_testcase()\n",
    "            _ = larger_test(x, y)\n",
    "            return x, y\n",
    "        except AssertionError:\n",
    "            pass"
   ]
  },
  {
   "cell_type": "code",
   "execution_count": 12,
   "metadata": {
    "slideshow": {
     "slide_type": "fragment"
    }
   },
   "outputs": [],
   "source": [
    "def larger_failing_testcase():\n",
    "    while True:\n",
    "        try:\n",
    "            x, y = larger_testcase()\n",
    "            _ = larger_test(x, y)\n",
    "        except AssertionError:\n",
    "            return x, y"
   ]
  },
  {
   "cell_type": "code",
   "execution_count": 13,
   "metadata": {
    "scrolled": true,
    "slideshow": {
     "slide_type": "subslide"
    }
   },
   "outputs": [
    {
     "name": "stdout",
     "output_type": "stream",
     "text": [
      "(10, 10)\n"
     ]
    }
   ],
   "source": [
    "passing_input = larger_passing_testcase()\n",
    "print(passing_input)"
   ]
  },
  {
   "cell_type": "markdown",
   "metadata": {
    "slideshow": {
     "slide_type": "fragment"
    }
   },
   "source": [
    "With `passing_input`, our `larger()` function produces a correct result, and its test function does not fail."
   ]
  },
  {
   "cell_type": "code",
   "execution_count": 14,
   "metadata": {
    "slideshow": {
     "slide_type": "fragment"
    }
   },
   "outputs": [],
   "source": [
    "larger_test(*passing_input)"
   ]
  },
  {
   "cell_type": "code",
   "execution_count": 15,
   "metadata": {
    "slideshow": {
     "slide_type": "fragment"
    }
   },
   "outputs": [
    {
     "name": "stdout",
     "output_type": "stream",
     "text": [
      "(93, 62)\n"
     ]
    }
   ],
   "source": [
    "failing_input = larger_failing_testcase()\n",
    "print(failing_input)"
   ]
  },
  {
   "cell_type": "markdown",
   "metadata": {
    "slideshow": {
     "slide_type": "fragment"
    }
   },
   "source": [
    "While `failing_input` leads to an error:"
   ]
  },
  {
   "cell_type": "code",
   "execution_count": 16,
   "metadata": {
    "slideshow": {
     "slide_type": "subslide"
    }
   },
   "outputs": [
    {
     "name": "stderr",
     "output_type": "stream",
     "text": [
      "Traceback (most recent call last):\n",
      "  File \"<ipython-input-16-c99f0d4988e0>\", line 2, in <module>\n",
      "    larger_test(*failing_input)\n",
      "  File \"<ipython-input-5-e4a4c6e7072d>\", line 3, in larger_test\n",
      "    assert m == max(x, y), f\"expected {max(x, y)}, but got {m}\"\n",
      "AssertionError: expected 93, but got 62 (expected)\n"
     ]
    }
   ],
   "source": [
    "with ExpectError():\n",
    "    larger_test(*failing_input)"
   ]
  },
  {
   "cell_type": "markdown",
   "metadata": {
    "slideshow": {
     "slide_type": "fragment"
    }
   },
   "source": [
    "With the above defined functions, we can now start to create a number of passing and failing tests:"
   ]
  },
  {
   "cell_type": "code",
   "execution_count": 17,
   "metadata": {
    "slideshow": {
     "slide_type": "fragment"
    }
   },
   "outputs": [],
   "source": [
    "TESTS = 100"
   ]
  },
  {
   "cell_type": "code",
   "execution_count": 18,
   "metadata": {
    "slideshow": {
     "slide_type": "fragment"
    }
   },
   "outputs": [],
   "source": [
    "LARGER_PASSING_TESTCASES = [larger_passing_testcase()\n",
    "                            for i in range(TESTS)]"
   ]
  },
  {
   "cell_type": "code",
   "execution_count": 19,
   "metadata": {
    "slideshow": {
     "slide_type": "subslide"
    }
   },
   "outputs": [],
   "source": [
    "LARGER_FAILING_TESTCASES = [larger_failing_testcase()\n",
    "                            for i in range(TESTS)]"
   ]
  },
  {
   "cell_type": "code",
   "execution_count": 20,
   "metadata": {
    "slideshow": {
     "slide_type": "skip"
    }
   },
   "outputs": [],
   "source": [
    "from StatisticalDebugger import OchiaiDebugger"
   ]
  },
  {
   "cell_type": "markdown",
   "metadata": {
    "slideshow": {
     "slide_type": "fragment"
    }
   },
   "source": [
    "Next, let us use _statistical debugging_ to identify likely faulty locations. The `OchiaiDebugger` ranks individual code lines by how frequently they are executed in failing runs (and not in passing runs)."
   ]
  },
  {
   "cell_type": "code",
   "execution_count": 21,
   "metadata": {
    "slideshow": {
     "slide_type": "fragment"
    }
   },
   "outputs": [],
   "source": [
    "larger_debugger = OchiaiDebugger()"
   ]
  },
  {
   "cell_type": "code",
   "execution_count": 22,
   "metadata": {},
   "outputs": [],
   "source": [
    "def larger_test(x, y):\n",
    "    m = larger(x, y)\n",
    "    assert m == max(x, y), f\"expected {max(x, y)}, but got {m}\""
   ]
  },
  {
   "cell_type": "code",
   "execution_count": 23,
   "metadata": {
    "slideshow": {
     "slide_type": "fragment"
    }
   },
   "outputs": [],
   "source": [
    "for x, y in LARGER_PASSING_TESTCASES + LARGER_FAILING_TESTCASES:\n",
    "    with larger_debugger:\n",
    "        m = larger_test(x, y)"
   ]
  },
  {
   "cell_type": "markdown",
   "metadata": {
    "slideshow": {
     "slide_type": "fragment"
    }
   },
   "source": [
    "Given the results of statistical debugging, we can now use the *Repairer* introduced in the book to repair our function. Here we use the default implementation which is initialized with the simple _StatementMutator_ mutator."
   ]
  },
  {
   "cell_type": "code",
   "execution_count": 24,
   "metadata": {
    "scrolled": true,
    "slideshow": {
     "slide_type": "skip"
    }
   },
   "outputs": [],
   "source": [
    "from Repairer_Copy import Repairer\n",
    "from Repairer import StatementMutator\n",
    "from Repairer_Copy import ConditionMutator, CrossoverOperator\n",
    "from Repairer_Copy import DeltaDebugger"
   ]
  },
  {
   "cell_type": "code",
   "execution_count": 25,
   "metadata": {
    "slideshow": {
     "slide_type": "subslide"
    }
   },
   "outputs": [
    {
     "name": "stdout",
     "output_type": "stream",
     "text": [
      "Target code to be repaired:\n",
      "\u001b[34mdef\u001b[39;49;00m \u001b[32mlarger\u001b[39;49;00m(x, y):\n",
      "    \u001b[34mif\u001b[39;49;00m x < y:\n",
      "        \u001b[34mreturn\u001b[39;49;00m x\n",
      "    \u001b[34mreturn\u001b[39;49;00m y\n",
      "\n"
     ]
    }
   ],
   "source": [
    "repairer = Repairer(larger_debugger, log=True)"
   ]
  },
  {
   "cell_type": "code",
   "execution_count": 26,
   "metadata": {
    "slideshow": {
     "slide_type": "subslide"
    }
   },
   "outputs": [
    {
     "name": "stdout",
     "output_type": "stream",
     "text": [
      "Evolving population: iteration   0/100 fitness = 1.0   \n",
      "Best code (fitness = 1.0):\n",
      "\u001b[34mdef\u001b[39;49;00m \u001b[32mlarger\u001b[39;49;00m(x, y):\n",
      "    \u001b[34mif\u001b[39;49;00m x < y:\n",
      "        \u001b[34mreturn\u001b[39;49;00m y\n",
      "    \u001b[34mreturn\u001b[39;49;00m x\n",
      "    \u001b[34mreturn\u001b[39;49;00m y\n",
      "\n",
      "Reduced code (fitness = 1.0):\n",
      "\u001b[34mdef\u001b[39;49;00m \u001b[32mlarger\u001b[39;49;00m(x, y):\n",
      "    \u001b[34mif\u001b[39;49;00m x < y:\n",
      "        \u001b[34mreturn\u001b[39;49;00m y\n",
      "    \u001b[34mreturn\u001b[39;49;00m x\n",
      "\n",
      "It took the MetaRepairer 4.3359925746917725 seconds to repair the given code\n"
     ]
    }
   ],
   "source": [
    "best_tree, fitness = repairer.repair()"
   ]
  },
  {
   "cell_type": "markdown",
   "metadata": {
    "slideshow": {
     "slide_type": "subslide"
    }
   },
   "source": [
    "The *Repairer* successfully produced a fix."
   ]
  },
  {
   "cell_type": "markdown",
   "metadata": {
    "slideshow": {
     "slide_type": "slide"
    }
   },
   "source": [
    "## Implementation\n",
    "\n",
    "As stated above, the goal of this project is to implement a repairer capable of producing a fix to the functions defined in *the Evaluation section*, as well as secret functions.  \n",
    "To do this, you need to work with the _Repairer_ class from the book.\n",
    "The _Repairer_ class is very configurable, so that it is easy to update and plug in various components: the fault localization (pass a different debugger that is a subclass of DifferenceDebugger), the mutation operator (set mutator_class to a subclass of `StatementMutator`), the crossover operator (set crossover_class to a subclass of `CrossoverOperator`), and the reduction algorithm (set reducer_class to a subclass of `Reducer`). You may change any of these components or make other changes at will."
   ]
  },
  {
   "cell_type": "markdown",
   "metadata": {
    "slideshow": {
     "slide_type": "subslide"
    }
   },
   "source": [
    "For us to be able to test your implementation, you will have to implement the `debug_and_repair()` function defined here."
   ]
  },
  {
   "cell_type": "code",
   "execution_count": 27,
   "metadata": {
    "slideshow": {
     "slide_type": "skip"
    }
   },
   "outputs": [],
   "source": [
    "import astor"
   ]
  },
  {
   "cell_type": "code",
   "execution_count": 28,
   "metadata": {},
   "outputs": [],
   "source": [
    "import ast"
   ]
  },
  {
   "cell_type": "code",
   "execution_count": 29,
   "metadata": {},
   "outputs": [],
   "source": [
    "import re"
   ]
  },
  {
   "cell_type": "code",
   "execution_count": 30,
   "metadata": {},
   "outputs": [],
   "source": [
    "from ast import NodeVisitor"
   ]
  },
  {
   "cell_type": "code",
   "execution_count": 31,
   "metadata": {},
   "outputs": [],
   "source": [
    "from multiprocessing import Queue,Process"
   ]
  },
  {
   "cell_type": "code",
   "execution_count": 32,
   "metadata": {},
   "outputs": [],
   "source": [
    "import inspect"
   ]
  },
  {
   "cell_type": "code",
   "execution_count": 33,
   "metadata": {},
   "outputs": [],
   "source": [
    "import time"
   ]
  },
  {
   "cell_type": "code",
   "execution_count": 34,
   "metadata": {},
   "outputs": [],
   "source": [
    "import copy"
   ]
  },
  {
   "cell_type": "code",
   "execution_count": 35,
   "metadata": {},
   "outputs": [],
   "source": [
    "import warnings"
   ]
  },
  {
   "cell_type": "code",
   "execution_count": 36,
   "metadata": {},
   "outputs": [],
   "source": [
    "from ast import NodeTransformer"
   ]
  },
  {
   "cell_type": "code",
   "execution_count": 37,
   "metadata": {
    "slideshow": {
     "slide_type": "skip"
    }
   },
   "outputs": [],
   "source": [
    "from bookutils import print_content, show_ast"
   ]
  },
  {
   "cell_type": "markdown",
   "metadata": {},
   "source": [
    "### Elitism\n",
    "\n",
    "[_Elitism_](https://en.wikipedia.org/wiki/Genetic_algorithm#Elitism) (also known as _elitist selection_) is a variant of genetic selection in which a small fraction of the fittest candidates of the last population are included unchanged in the offspring. By subclassing the evolve method of the `Repairer`, we can adjust how big the part of the unchanged candidates is."
   ]
  },
  {
   "cell_type": "code",
   "execution_count": 38,
   "metadata": {},
   "outputs": [],
   "source": [
    "class Repairer(Repairer):\n",
    "    def evolve(self, population):\n",
    "        \"\"\"Evolve the candidate population by mutating and crossover, in this case including an elitist selection.\"\"\"\n",
    "        n = len(population)\n",
    "        possible_fractions = [0.05,0.10,0.20]\n",
    "        elite = int(n * possible_fractions[0])   #Compute integral fraction of population that is supposed to remain unchanged\n",
    "        \n",
    "        # Create offspring as crossover of parents\n",
    "        offspring = []\n",
    "        while len(offspring) < n:\n",
    "            if len(offspring) < elite:           #Since the population is sorted by fitness, we can just check the current index \n",
    "                offspring += [copy.deepcopy(population[len(offspring)])]\n",
    "                continue\n",
    "            parent_1 = copy.deepcopy(random.choice(population))\n",
    "            parent_2 = copy.deepcopy(random.choice(population))\n",
    "            try:\n",
    "                self.crossover.crossover(parent_1, parent_2)\n",
    "            except CrossoverError:\n",
    "                pass  # Just keep parents\n",
    "            offspring += [parent_1, parent_2]\n",
    "\n",
    "        # Mutate offspring\n",
    "        offspring = [self.mutator.mutate(tree) for tree in offspring]\n",
    "\n",
    "        # Add it to population\n",
    "        population += offspring\n",
    "\n",
    "        population.sort(key=self.fitness_key, reverse=True)\n",
    "        population = population[:n] \n",
    "\n",
    "        return population"
   ]
  },
  {
   "cell_type": "markdown",
   "metadata": {},
   "source": [
    "### `ValueMutator`\n",
    "The `ValueMutator` class replaces one constant value by another one found in the source (say, `0` by `1` or `True` by `False`)."
   ]
  },
  {
   "cell_type": "code",
   "execution_count": 39,
   "metadata": {},
   "outputs": [],
   "source": [
    "class ConstValueVisitor(NodeVisitor):\n",
    "    \"\"\"\n",
    "    The ConstValueVisitor traverses the tree to extract all constant values from the AST\n",
    "    \"\"\"\n",
    "    def __init__(self):\n",
    "        self.const_values = []\n",
    "        self.const_values_seen = set()\n",
    "        super().__init__()\n",
    "    \n",
    "    def add_const_value(self,node):\n",
    "        self.const_values.append(node)\n",
    "        self.const_values_seen.add(node.value)\n",
    "        \n",
    "    def visit_Constant(self,node):\n",
    "        self.add_const_value(node)\n",
    "        return super().generic_visit(node)\n",
    "    \n",
    "    def generic_visit(self, node):\n",
    "        return super().generic_visit(node)"
   ]
  },
  {
   "cell_type": "code",
   "execution_count": 40,
   "metadata": {},
   "outputs": [],
   "source": [
    "def all_const_values(trees, tp = None):\n",
    "    \"\"\"Return all constant values from the AST (or AST list) `trees`.\n",
    "    If `tp` is given, return only elements of that type.\"\"\"\n",
    "    if not isinstance(trees, list):\n",
    "        assert isinstance(trees, ast.AST)\n",
    "        trees = [trees]\n",
    "    \n",
    "    visitor = ConstValueVisitor()\n",
    "    \n",
    "    for tree in trees:\n",
    "        visitor.visit(tree)\n",
    "    \n",
    "    const_nodes = visitor.const_values\n",
    "    seen_values = visitor.const_values_seen\n",
    "    return const_nodes, seen_values"
   ]
  },
  {
   "cell_type": "code",
   "execution_count": 41,
   "metadata": {},
   "outputs": [],
   "source": [
    "class ValueMutator(StatementMutator):\n",
    "    \"\"\"Mutate constant values in an AST\"\"\"\n",
    "\n",
    "    def __init__(self, *args, **kwargs):\n",
    "        \"\"\"Constructor. Arguments are as with `StatementMutator` constructor.\"\"\"\n",
    "        super().__init__(*args, **kwargs)\n",
    "        self.const_nodes, self.seen_values = all_const_values(self.source)  #TODO: Find all statements containing constant values yo \n",
    "        if self.log > 3:\n",
    "            print(\"Found constant values: \",\n",
    "                  [node.value for node in self.const_nodes])\n",
    "    \n",
    "    def choose_const_node(self):\n",
    "        \"\"\"Return a random constant node from source.\"\"\"\n",
    "        return random.choice(self.const_nodes)\n",
    "    \n",
    "    def mutatable_subnode(self,tree):\n",
    "        \"\"\"\n",
    "        Returns a mutatable subnode for a given tree, i.e a node containing a constant\n",
    "        \"\"\"\n",
    "        visitor = ConstValueVisitor()\n",
    "        visitor.visit(tree)\n",
    "        if(len(visitor.const_values)>0):\n",
    "            return random.choice(visitor.const_values)\n",
    "        else:\n",
    "            return None    #None is returned if the source contains no constants\n",
    "    \n",
    "    def node_to_be_mutated(self,tree):\n",
    "        \"\"\"\n",
    "        Same as 'mutatable_subnode', but also working for a list of trees\n",
    "        \"\"\"\n",
    "        const_values = all_const_values(tree)[0]\n",
    "        return random.choice(const_values)\n",
    "        \n",
    "    def find_replacement_value(self,node):\n",
    "        \"\"\"Return a replacing constant value from source for a given node\"\"\"\n",
    "        for const_node in self.const_nodes:\n",
    "            if(const_node.value != node.value):\n",
    "                return const_node.value\n",
    "    \n",
    "        return None   #None is returned if the sources contain no constants\n",
    "    \n",
    "    def swap_values(self, node): \n",
    "        mutated_subnode = self.mutatable_subnode(node)\n",
    "        if mutated_subnode is None:\n",
    "            return super().swap(node)\n",
    "        else:\n",
    "            old_value = mutated_subnode.value\n",
    "            replacing_value = self.find_replacement_value(mutated_subnode)   #Compute replacing constant\n",
    "            mutated_subnode.value = replacing_value\n",
    "            return node\n",
    "\n",
    "    def visit(self, node):\n",
    "        super(NodeTransformer, self).visit(node)  # Visits (and transforms?) children\n",
    "        if not node.mutate_me:\n",
    "            return node\n",
    "        else:\n",
    "            new_node = self.swap_values(node)\n",
    "            return new_node\n",
    "            \n",
    "    def mutate(self, tree):\n",
    "        \"\"\"Mutate the given AST `tree` in place \n",
    "        The only considered mutations are value mutations. Return mutated tree.\"\"\"\n",
    "        \n",
    "        new_tree = copy.deepcopy(tree)   \n",
    "        node_to_be_mutated = self.node_to_be_mutated(new_tree)\n",
    "        \n",
    "        for node in ast.walk(new_tree):\n",
    "            node.mutate_me = False\n",
    "            \n",
    "        node_to_be_mutated.mutate_me = True\n",
    "        \n",
    "        new_tree = self.visit(new_tree)\n",
    "        ast.fix_missing_locations(new_tree)\n",
    "        \n",
    "        return new_tree"
   ]
  },
  {
   "cell_type": "markdown",
   "metadata": {},
   "source": [
    "### Evolving Variable Names\n",
    "\n",
    "Following the steps of `ConditionMutator`, implement a `IdentifierMutator` class that replaces one identifier by another one found in the source (say, `y` by `x`). Does it help fixing the `middle()` error?"
   ]
  },
  {
   "cell_type": "code",
   "execution_count": 42,
   "metadata": {},
   "outputs": [],
   "source": [
    "class IdentifierVisitor(NodeVisitor):\n",
    "    \"\"\"\n",
    "    The IdentifierVisitor traverses the AST to extract identifiers\n",
    "    \"\"\"\n",
    "    def __init__(self):\n",
    "        self.identifiers = []\n",
    "        self.identifiers_seen = set()\n",
    "        super().__init__()\n",
    "    \n",
    "    def add_identifier(self,node):\n",
    "        self.identifiers.append(node)\n",
    "        self.identifiers_seen.add(node.id)\n",
    "\n",
    "    def visit_Name(self,node):\n",
    "        self.add_identifier(node)\n",
    "        return super().generic_visit(node)\n",
    "        \n",
    "    def generic_visit(self,node):\n",
    "        return super().generic_visit(node)"
   ]
  },
  {
   "cell_type": "code",
   "execution_count": 43,
   "metadata": {},
   "outputs": [],
   "source": [
    "def all_identifiers(trees, tp = None):\n",
    "    \"\"\"Return all identifiers from the AST (or AST list) `trees`.\n",
    "    If `tp` is given, return only elements of that type.\"\"\"\n",
    "\n",
    "    if not isinstance(trees, list):\n",
    "        assert isinstance(trees, ast.AST)\n",
    "        trees = [trees]\n",
    "    \n",
    "    id_visitor = IdentifierVisitor()\n",
    "    for tree in trees:\n",
    "        id_visitor.visit(tree)\n",
    "        \n",
    "    return id_visitor.identifiers\n",
    "\n",
    "def seen_ids(tree):\n",
    "    \"\"\"\n",
    "    Returns the set of present ids in the given tree\n",
    "    \"\"\"\n",
    "    id_visitor = IdentifierVisitor()\n",
    "    id_visitor.visit(tree)\n",
    "    return id_visitor.identifiers_seen"
   ]
  },
  {
   "cell_type": "code",
   "execution_count": 44,
   "metadata": {},
   "outputs": [],
   "source": [
    "class IdentifierMutator(StatementMutator):\n",
    "    \"\"\"Mutate identifiers in an AST\"\"\"\n",
    "    \n",
    "    def __init__(self, *args, **kwargs):\n",
    "        \"\"\"Constructor. Arguments are as with `StatementMutator` constructor.\"\"\"\n",
    "        super().__init__(*args, **kwargs)\n",
    "        self.identifiers = all_identifiers(self.source)\n",
    "        if self.log > 3:\n",
    "            print(\"Found statements containing the following identifiers: \",\n",
    "                  [astor.to_source(id).strip() \n",
    "                   for id in self.identifiers])\n",
    "            \n",
    "    def update_current_identifiers(self, tree):\n",
    "        \"\"\"\n",
    "        This method can be used to update the identifiers as soon as new nodes are inserted\n",
    "        \"\"\"\n",
    "        self.identifiers = all_identifiers(tree)\n",
    "            \n",
    "    def node_to_be_mutated(self,tree):\n",
    "        \"\"\"\n",
    "        Returns node from the given tree containing an identifier \n",
    "        \"\"\"\n",
    "        id_visitor = IdentifierVisitor()\n",
    "        id_visitor.visit(tree)\n",
    "        if (len(id_visitor.identifiers) > 0):\n",
    "            return random.choice(id_visitor.identifiers)\n",
    "        else:\n",
    "            return None\n",
    "    \n",
    "    def mutatable_subnode(self, tree):\n",
    "        \"\"\"\n",
    "        Same as `node_to_be_mutated`, but also works for multiple trees\n",
    "        \"\"\"\n",
    "        id_visitor = IdentifierVisitor()\n",
    "        id_visitor.visit(tree)\n",
    "        if (len(id_visitor.identifiers) > 0):\n",
    "            return random.choice(id_visitor.identifiers)\n",
    "        else:\n",
    "            return None\n",
    "    \n",
    "    def get_replacing_id(self,node):\n",
    "        \"\"\"\n",
    "        Returns an id from source which is supposed to replace the id of the given node\n",
    "        \"\"\"\n",
    "        current_id = node.id\n",
    "        random_id = random.choice(self.identifiers).id\n",
    "        if(len(self.identifiers) == 1):\n",
    "            return current_id\n",
    "        else:\n",
    "            while(str(current_id) == str(random_id)):\n",
    "                random_id = random.choice(self.identifiers).id\n",
    "            return random_id\n",
    "        \n",
    "    def swap_ids(self, node):\n",
    "        \"\"\"\n",
    "        Sets the id of a given node to the id of another node from source\n",
    "        \"\"\"\n",
    "        mutate_node = self.mutatable_subnode(node)\n",
    "        if mutate_node is None:\n",
    "            print(\"There is no mutatable subnode\")\n",
    "            return super().swap(node)\n",
    "        else:\n",
    "            old_id = mutate_node.id\n",
    "            replacing_id = self.get_replacing_id(mutate_node)\n",
    "            mutate_node.id = replacing_id\n",
    "            return node\n",
    "\n",
    "    def visit(self, node):\n",
    "        super(NodeTransformer, self).visit(node)\n",
    "        if not node.mutate_me:\n",
    "            return node\n",
    "        else:\n",
    "            new_node = self.swap_ids(node)\n",
    "            return new_node\n",
    "            \n",
    "    def mutate(self, tree):\n",
    "        \"\"\"Mutate the given AST `tree` in place \n",
    "        The only considered mutations are id mutations. Return mutated tree.\"\"\"\n",
    "        \n",
    "        #TODO: eventuell hier oben self.identifers, seen_identifiers ändern\n",
    "        new_tree = copy.deepcopy(tree)    \n",
    "        \n",
    "        for node in ast.walk(new_tree):\n",
    "            node.mutate_me = False\n",
    "            \n",
    "        node_to_be_mutated = self.node_to_be_mutated(new_tree)\n",
    "        node_to_be_mutated.mutate_me = True\n",
    "        \n",
    "        new_tree = self.visit(new_tree)\n",
    "        \n",
    "        ast.fix_missing_locations(new_tree)\n",
    "        return new_tree"
   ]
  },
  {
   "cell_type": "markdown",
   "metadata": {},
   "source": [
    "### Loop Mutator\n",
    "The following class mutates the ranges of loops, i.e. `range(1,n)` => `range(1,n+1)` or `range(1,n)` => `range(1,n-1)`"
   ]
  },
  {
   "cell_type": "code",
   "execution_count": 45,
   "metadata": {},
   "outputs": [],
   "source": [
    "class LoopVisitor(NodeVisitor):\n",
    "    \"\"\"\n",
    "    The loop visitor traverses an AST to extract nodes containing for loops\n",
    "    \"\"\"\n",
    "    def __init__(self):\n",
    "        self.loops = []\n",
    "        super().__init__()\n",
    "    \n",
    "    def add_loop(self,node):\n",
    "        self.loops.append(node)\n",
    "\n",
    "    def visit_For(self,node):\n",
    "        self.add_loop(node)\n",
    "        return super().generic_visit(node)\n",
    "    \n",
    "    def visit_While(self,node):\n",
    "        self.add_loop(node)\n",
    "        return super().generic_visit(node)\n",
    "        \n",
    "    def generic_visit(self,node):\n",
    "        return super().generic_visit(node)"
   ]
  },
  {
   "cell_type": "code",
   "execution_count": 46,
   "metadata": {},
   "outputs": [],
   "source": [
    "def all_loops(trees, tp = None):\n",
    "    \"\"\"Return all loops from the AST (or AST list) `trees`.\n",
    "    If `tp` is given, return only elements of that type.\"\"\"\n",
    "    if not isinstance(trees, list):\n",
    "        assert isinstance(trees, ast.AST)\n",
    "        trees = [trees]\n",
    "    \n",
    "    loop_visitor = LoopVisitor()\n",
    "    for tree in trees:\n",
    "        loop_visitor.visit(tree)\n",
    "        \n",
    "    return loop_visitor.loops"
   ]
  },
  {
   "cell_type": "code",
   "execution_count": 47,
   "metadata": {},
   "outputs": [],
   "source": [
    "class LoopMutator(StatementMutator):\n",
    "    \"\"\"Mutate Loops in an AST\"\"\"\n",
    "    def __init__(self, *args, **kwargs):\n",
    "        \"\"\"Constructor. Arguments are as with `StatementMutator` constructor.\"\"\"\n",
    "        super().__init__(*args, **kwargs)\n",
    "        self.loops = all_loops(self.source)\n",
    "        self.identifiers = all_identifiers(self.source)\n",
    "        self.num_replaced_ids = 0\n",
    "        if self.log > 3:\n",
    "            print(\"Found the following Loops in Source: \",\n",
    "                  [astor.to_source(loop).strip() \n",
    "                   for loop in self.loops])\n",
    "            \n",
    "    def loop_to_be_mutated(self,tree):\n",
    "        \"\"\"\n",
    "        Returns a loop from tree\n",
    "        \"\"\"\n",
    "        loop_visitor = LoopVisitor()\n",
    "        loop_visitor.visit(tree)\n",
    "        if(len(loop_visitor.loops)>0):\n",
    "            return random.choice(loop_visitor.loops)\n",
    "        else:\n",
    "            return None\n",
    "        \n",
    "    def get_replacing_id(self,node):\n",
    "        \"\"\"\n",
    "        Returns a id that is supposed to replace the id of a variable a for loop\n",
    "        \"\"\"\n",
    "        current_id = node.id\n",
    "        random_id = random.choice(self.identifiers).id\n",
    "        if(len(self.identifiers) == 1):\n",
    "            return current_id\n",
    "        else:\n",
    "            while(str(current_id) == str(random_id)):\n",
    "                random_id = random.choice(self.identifiers).id\n",
    "            return random_id\n",
    "        \n",
    "    def mutate_range(self, node):\n",
    "        \"\"\"\n",
    "        This method either renames the target variable and all corresponding references in the loop\n",
    "        or mutates the id of the variable, e.g. range(1,x) => range(1,y)\n",
    "        \"\"\"\n",
    "        has_target = hasattr(node, 'target')\n",
    "        has_iter = hasattr(node, 'iter')\n",
    "        \n",
    "        range_mutation = random.choice([\"rename_target\",\"swap_iter_id\"])   #Determine the mutation to be performed\n",
    "        if (has_target and has_iter):  #Assure we are mutating a for loop\n",
    "            \n",
    "            if(range_mutation == \"rename_target\"):\n",
    "                target_var_id = node.target.id\n",
    "                new_var_id = \"replacement_id\" + str(self.num_replaced_ids)\n",
    "                self.num_replaced_ids += 1\n",
    "                node.target.id = new_var_id\n",
    "                for assignment in all_assignments(node)[0]:\n",
    "                    for var in all_identifiers(assignment.value):\n",
    "                         if var.id == target_var_id:\n",
    "                            var.id = new_var_id\n",
    "                            \n",
    "            elif(range_mutation == \"swap_iter_id\"):\n",
    "                name_visitor = IdentifierVisitor()\n",
    "                name_visitor.visit(node.iter)\n",
    "                \n",
    "                name_to_swap = random.choice(all_identifiers(node.iter))\n",
    "                \n",
    "                id_to_swap = name_to_swap.id\n",
    "                replacing_id = self.get_replacing_id(name_to_swap)\n",
    "                name_to_swap.id = replacing_id\n",
    "                body_names = all_identifiers(node.body)\n",
    "                \n",
    "                for name in body_names:\n",
    "                    if(name.id == replacing_id):\n",
    "                        name.id = id_to_swap    \n",
    "        return node   \n",
    "        \n",
    "    def swap_range(self, node):\n",
    "        if not hasattr(node, 'iter'):\n",
    "            return super().swap(node)\n",
    "        else:\n",
    "            old_iter = node.iter\n",
    "            node = self.mutate_range(node)\n",
    "  #          node.iter = replacing_iter\n",
    "            return node\n",
    "    \n",
    "    def visit(self, node):\n",
    "        super(NodeTransformer, self).visit(node)\n",
    "        if not node.mutate_me:\n",
    "            return node\n",
    "        else:\n",
    "            new_node = self.swap_range(node)\n",
    "            return new_node\n",
    "            \n",
    "    def mutate(self, tree):\n",
    "        \"\"\"Mutate the given AST `tree` in place \n",
    "        The only considered mutations are id mutations. Return mutated tree.\"\"\"\n",
    "        \n",
    "        #TODO: eventuell hier oben self.identifers, seen_identifiers ändern\n",
    "        new_tree = copy.deepcopy(tree)    \n",
    "        \n",
    "        for node in ast.walk(new_tree):\n",
    "            node.mutate_me = False\n",
    "            \n",
    "        node_to_be_mutated = self.loop_to_be_mutated(new_tree)\n",
    "        node_to_be_mutated.mutate_me = True\n",
    "        \n",
    "        new_tree = self.visit(new_tree)\n",
    "        \n",
    "        ast.fix_missing_locations(new_tree)\n",
    "        return new_tree"
   ]
  },
  {
   "cell_type": "markdown",
   "metadata": {},
   "source": [
    "### AssignmentMutator\n",
    "The following class mutates Assignments by adding, subtracting or multiplying constants or variables from source"
   ]
  },
  {
   "cell_type": "code",
   "execution_count": 48,
   "metadata": {},
   "outputs": [],
   "source": [
    "class AssignVisitor(NodeVisitor):\n",
    "    \"\"\"\n",
    "    The AssignVisitor extracts all assignments from the AST\n",
    "    \"\"\"\n",
    "    def __init__(self):\n",
    "        self.assigns = []\n",
    "        self.seen_assigns = set()\n",
    "        super().__init__()\n",
    "    \n",
    "    def add_assignment(self,node):\n",
    "        self.assigns.append(node)\n",
    "        self.seen_assigns.add(node)        \n",
    "    \n",
    "    def visit_Assign(self,node):\n",
    "        self.add_assignment(node)\n",
    "        return super().generic_visit(node)\n",
    "    \n",
    "    def visit_AugAssign(self,node):\n",
    "        self.add_assignment(node)\n",
    "        return super().generic_visit(node)\n",
    "        \n",
    "    def generic_visit(self,node):\n",
    "        return super().generic_visit(node)"
   ]
  },
  {
   "cell_type": "code",
   "execution_count": 49,
   "metadata": {},
   "outputs": [],
   "source": [
    "def all_assignments(trees, tp = None):\n",
    "    \"\"\"Return all identifiers from the AST (or AST list) `trees`.\n",
    "    If `tp` is given, return only elements of that type.\"\"\"\n",
    "    if not isinstance(trees, list):\n",
    "        assert isinstance(trees, ast.AST)\n",
    "        trees = [trees]\n",
    "    \n",
    "    assign_visitor = AssignVisitor()\n",
    "    for tree in trees:\n",
    "        assign_visitor.visit(tree)\n",
    "        \n",
    "    return (assign_visitor.assigns,assign_visitor.seen_assigns)"
   ]
  },
  {
   "cell_type": "code",
   "execution_count": 50,
   "metadata": {},
   "outputs": [],
   "source": [
    "class AssignMutator(StatementMutator):\n",
    "    \"\"\"Mutate Loops in an AST\"\"\"\n",
    "    def __init__(self, *args, **kwargs):\n",
    "        \"\"\"Constructor. Arguments are as with `StatementMutator` constructor.\"\"\"\n",
    "        super().__init__(*args, **kwargs)\n",
    "        self.assignments, self.seen_assignments = all_assignments(self.source)\n",
    "        self.const_values, self.seen_values = all_const_values(self.source)\n",
    "        self.identifiers = all_identifiers(self.source)\n",
    "\n",
    "        if self.log > 3:\n",
    "            print(\"Found statements containing the following assignments: \",\n",
    "                  [astor.to_source(assign).strip() \n",
    "                   for assign in self.assignments])\n",
    "            \n",
    "    def assignment_to_be_mutated(self,tree):\n",
    "        \"\"\"\n",
    "        Returns an assignment from tree that is supposed to be mutated\n",
    "        \"\"\"\n",
    "        assign_visitor = AssignVisitor()\n",
    "        assign_visitor.visit(tree)\n",
    "        return random.choice(assign_visitor.assigns)\n",
    "    \n",
    "    def choose_mutator_op(self):\n",
    "        choice =  random.choice([\"add\",\"sub\",\"mult\",\"div\"])  #Draw a mutation operator\n",
    "        if choice == \"add\":\n",
    "            return ast.Add\n",
    "        elif choice == \"sub\":\n",
    "            return ast.Sub\n",
    "        elif choice == \"mult\":\n",
    "            return ast.Mult\n",
    "        else:\n",
    "            return ast.Div\n",
    "    \n",
    "    def mutate_assignment(self, node):\n",
    "        if(len(self.seen_values)>0):\n",
    "            replacing_const = ast.Constant(random.choice(tuple(self.seen_values)))\n",
    "        elif(len(self.identifiers)>0):\n",
    "            replacing_const = random.choice(self.identifiers)\n",
    "        else:\n",
    "            replacing_const = ast.Constant(1)    #Add, subtract or multiply by zero if no constants or vars are in source\n",
    "            \n",
    "        if hasattr(node, 'op') or hasattr(node, 'value'):\n",
    "            replacing_op = self.choose_mutator_op()\n",
    "           \n",
    "            current_assign_value = node.value\n",
    "            replacing_assignment = ast.BinOp(left=current_assign_value, op = replacing_op(), right=replacing_const)\n",
    "            node.value = replacing_assignment\n",
    "            return node\n",
    "        else:\n",
    "            return super().insert(node)\n",
    "                   \n",
    "    def visit(self, node):\n",
    "        super(NodeTransformer, self).visit(node)\n",
    "        if not node.mutate_me:\n",
    "            return node\n",
    "        else:\n",
    "            new_node = self.mutate_assignment(node)\n",
    "            return new_node\n",
    "            \n",
    "    def mutate(self, tree):\n",
    "        \"\"\"Mutate the given AST `tree` in place \n",
    "        The only considered mutations are assignments mutations. Return mutated tree.\"\"\"\n",
    "        \n",
    "        #TODO: eventuell hier oben self.identifers, seen_identifiers ändern\n",
    "        new_tree = copy.deepcopy(tree)    \n",
    "        \n",
    "        for node in ast.walk(new_tree):\n",
    "            node.mutate_me = False\n",
    "            \n",
    "        assignment_to_be_mutated = self.assignment_to_be_mutated(new_tree)\n",
    "        assignment_to_be_mutated.mutate_me = True\n",
    "        \n",
    "        new_tree = self.visit(new_tree)\n",
    "        \n",
    "        ast.fix_missing_locations(new_tree)\n",
    "        return new_tree"
   ]
  },
  {
   "cell_type": "markdown",
   "metadata": {},
   "source": [
    "### OperatorMutator\n",
    "The `OperatorMutator` class mutates the operators in assignments, e.g. `x = a + b` => `x = a * b` ; `x += b` => `x *= b`"
   ]
  },
  {
   "cell_type": "code",
   "execution_count": 51,
   "metadata": {},
   "outputs": [],
   "source": [
    "class OperatorVisitor(NodeVisitor):\n",
    "    \"\"\"\n",
    "    The Operator Vistor extracts all nodes containing operators from source\n",
    "    \"\"\"\n",
    "    def __init__(self):\n",
    "        self.operators = []\n",
    "        self.seen_ops = set()\n",
    "        super().__init__()\n",
    "    \n",
    "    def add_operator(self,node):\n",
    "        self.operators.append(node)\n",
    "        self.seen_ops.add(node.op)\n",
    "        \n",
    "    def visit_BinOp(self,node):\n",
    "        self.add_operator(node)\n",
    "        return super().generic_visit(node)\n",
    "    \n",
    "    def visit_UnaryOp(self, node):\n",
    "        self.add_operator(node)\n",
    "        return super().generic_visit(node)\n",
    "    \n",
    "    def visit_BoolOp(self, node):\n",
    "        self.add_operator(node)\n",
    "        return super().generic_visit(node)\n",
    "    \n",
    "    def visit_AugAssign(self,node):\n",
    "        self.add_operator(node)\n",
    "        return super().generic_visit(node)\n",
    "        \n",
    "    def generic_visit(self,node):\n",
    "        return super().generic_visit(node) "
   ]
  },
  {
   "cell_type": "code",
   "execution_count": 52,
   "metadata": {},
   "outputs": [],
   "source": [
    "def all_operators(trees, tp = None):\n",
    "    \"\"\"Return all identifiers from the AST (or AST list) `trees`.\n",
    "    If `tp` is given, return only elements of that type.\"\"\"\n",
    "\n",
    "    if not isinstance(trees, list):\n",
    "        assert isinstance(trees, ast.AST)\n",
    "        trees = [trees]\n",
    "    \n",
    "    op_visitor = OperatorVisitor()\n",
    "    for tree in trees:\n",
    "        op_visitor.visit(tree)\n",
    "        \n",
    "    return op_visitor.operators"
   ]
  },
  {
   "cell_type": "code",
   "execution_count": 53,
   "metadata": {},
   "outputs": [],
   "source": [
    "class OperatorMutator(StatementMutator):\n",
    "    \"\"\"Mutate Operators in an AST\"\"\"\n",
    "    def __init__(self, *args, **kwargs):\n",
    "        \"\"\"Constructor. Arguments are as with `StatementMutator` constructor.\"\"\"\n",
    "        super().__init__(*args, **kwargs)\n",
    "        self.operators = all_operators(self.source)\n",
    "\n",
    "        if self.log > 3:\n",
    "            print(\"Found statements containing the following assignments: \",\n",
    "                  [astor.to_source(op).strip() \n",
    "                   for op in self.operators])\n",
    "            \n",
    "    def operator_to_be_mutated(self,tree):\n",
    "        \"\"\"\n",
    "        Returns an operator node which is supposed to be mutated\n",
    "        \"\"\"\n",
    "        op_visitor = OperatorVisitor()\n",
    "        op_visitor.visit(tree)\n",
    "        if(len(op_visitor.operators)>0):\n",
    "            return random.choice(op_visitor.operators)\n",
    "        else:\n",
    "            return None\n",
    "    \n",
    "    def choose_mutated_op(self, node):\n",
    "        \"\"\"\n",
    "        Returns an operator replacing the current operator of the node\n",
    "        \"\"\"\n",
    "        choices = list()\n",
    "        \n",
    "        #List of available Binary Operators\n",
    "        bin_ops = [ast.Add,ast.Sub,ast.Mult,ast.Div,ast.FloorDiv,ast.Mod,ast.Pow,ast.LShift,ast.RShift,ast.BitOr,ast.BitXor,ast.BitAnd,ast.MatMult]\n",
    "        if any(isinstance(node.op, operator) for operator in bin_ops):     #Check if current operator is binary operator \n",
    "            choices = [ast.Add,ast.Mult,ast.Div,ast.Sub]\n",
    "        else:                                                              #Otherwise, it is a unary operator\n",
    "            choices = [ast.UAdd,ast.Not,ast.Invert,ast.USub]\n",
    "        \n",
    "        choice = random.choice(choices)\n",
    "        \n",
    "        while(isinstance(node.op, choice)):\n",
    "            choice = random.choice(choices)\n",
    "            \n",
    "        return choice()  \n",
    "    \n",
    "    def mutate_operator(self, node):\n",
    "        if hasattr(node, 'op'):\n",
    "            replacing_op = self.choose_mutated_op(node)\n",
    "            node.op = replacing_op\n",
    "        return node\n",
    "                   \n",
    "    def visit(self, node):\n",
    "        super(NodeTransformer, self).visit(node)\n",
    "        if not node.mutate_me:\n",
    "            return node\n",
    "        else:\n",
    "            new_node = self.mutate_operator(node)\n",
    "            return new_node\n",
    "            \n",
    "    def mutate(self, tree):\n",
    "        \"\"\"Mutate the given AST `tree` in place \n",
    "        The only considered mutations are id mutations. Return mutated tree.\"\"\"\n",
    "        \n",
    "        #TODO: eventuell hier oben self.identifers, seen_identifiers ändern\n",
    "        new_tree = copy.deepcopy(tree)    \n",
    "        \n",
    "        for node in ast.walk(new_tree):\n",
    "            node.mutate_me = False\n",
    "            \n",
    "        assignment_to_be_mutated = self.assignment_to_be_mutated(new_tree)\n",
    "        assignment_to_be_mutated.mutate_me = True\n",
    "        \n",
    "        new_tree = self.visit(new_tree)\n",
    "        \n",
    "        ast.fix_missing_locations(new_tree)\n",
    "        return new_tree"
   ]
  },
  {
   "cell_type": "markdown",
   "metadata": {},
   "source": [
    "### Test-Function Runner\n",
    "The following class facilitates the detection of endless loops, and terminates the execution of functions that take a suspiciously long amount of time to execute"
   ]
  },
  {
   "cell_type": "code",
   "execution_count": 54,
   "metadata": {},
   "outputs": [],
   "source": [
    "def run_function(args_list, function,feedback_queue):\n",
    "    for args in args_list:\n",
    "        try:\n",
    "            function(**args)\n",
    "            feedback_queue.put(1) #Representing passed\n",
    "        except Exception as e:\n",
    "            feedback_queue.put(0) #Representing failure\n",
    "        \n",
    "def function_runner_process(function, args_list):\n",
    "    \"\"\"\n",
    "    This method creates a Process which runs the test function with given arguments. It is terminated, if\n",
    "    the execution takes longer than a treshold defined below\n",
    "    \"\"\"\n",
    "    \n",
    "    feedback_communicator = Queue()\n",
    "    procs = []\n",
    "    \n",
    "    fun_runner = Process(target=run_function, args = (args_list, function, feedback_communicator))\n",
    "    procs.append(fun_runner)\n",
    "    fun_runner.start()\n",
    "    \n",
    "    TIMEOUT = 0.5\n",
    "    start = time.time()\n",
    "    \n",
    "    while time.time() - start <= TIMEOUT:        \n",
    "        if not any(p.is_alive() for p in procs):\n",
    "            break   #We can break this loop if all test executions are finished in time\n",
    "        time.sleep(.05)  \n",
    "    else:\n",
    "        for p in procs:       #Kill all processes that did not finish in time\n",
    "            p.terminate()\n",
    "            p.join()\n",
    "    \n",
    "    num_passed = 0\n",
    "    \n",
    "    while(not feedback_communicator.empty()):\n",
    "        feedback = feedback_communicator.get()\n",
    "        num_passed += feedback     #Feedback is 0 for a failed, 1 for a passed test\n",
    "        \n",
    "    return num_passed"
   ]
  },
  {
   "cell_type": "code",
   "execution_count": 55,
   "metadata": {},
   "outputs": [],
   "source": [
    "class Repairer(Repairer):\n",
    "    def run_test_set(self, test_set, validate=False):\n",
    "        \"\"\"Run given `test_set`\n",
    "        (`DifferenceDebugger.PASS` or `DifferenceDebugger.FAIL`).\n",
    "        If `validate` is set, check expectations.\n",
    "        Return number of passed tests.\"\"\"\n",
    "        \n",
    "        collectors = self.debugger.collectors[test_set]     \n",
    "        function = self.debugger.function()\n",
    "        \n",
    "        args_to_test = list()\n",
    "        \n",
    "        for c in collectors:\n",
    "            if self.log >= 4:\n",
    "                print(f\"Testing {c.id()}...\", end=\"\")\n",
    "            args_to_test.append(c.args())\n",
    "            \n",
    "        num_passed = function_runner_process(function, args_to_test)\n",
    "        \n",
    "        return num_passed"
   ]
  },
  {
   "cell_type": "markdown",
   "metadata": {},
   "source": [
    "### Meta Mutator\n",
    "The following class is a combination of the Mutator classes defined above, considering Mutations of each class (`ConditionMutator`, `IdentifierMutator`, `ValueMutator`, `RangeMutator`). This can then be used as the Mutator class of our `Repairer` to allow the fixing of multiple problems."
   ]
  },
  {
   "cell_type": "code",
   "execution_count": 56,
   "metadata": {},
   "outputs": [],
   "source": [
    "class MetaMutator(StatementMutator):\n",
    "    def __init__(self, *args, **kwargs):\n",
    "        \"\"\"Constructor. Arguments are as with `StatementMutator` constructor.\"\"\"\n",
    "        super().__init__(*args, **kwargs)\n",
    "        self.value_mutator = ValueMutator(source = self.source, log = True)\n",
    "        self.condition_mutator = ConditionMutator(source = self.source, log = True)\n",
    "        self.identifier_mutator = IdentifierMutator(source = self.source, log = True)\n",
    "        self.assignment_mutator = AssignMutator(source = self.source, log = True)\n",
    "        self.loop_mutator = LoopMutator(source = self.source, log = True)\n",
    "        self.op_mutator = OperatorMutator(source = self.source, log = True)\n",
    "    \n",
    "    def check_applicability(self, choice, node):\n",
    "        \"\"\"\n",
    "        Check if a given mutation is applicable on a node, e.g. to prevent the application of an operation\n",
    "        mutator on a statement containing no operator\n",
    "        \"\"\"\n",
    "        if choice == \"identifier_mutator\":\n",
    "            return self.identifier_mutator.mutatable_subnode(node) is not None\n",
    "        elif choice == \"value_mutator\":\n",
    "            return self.value_mutator.mutatable_subnode(node) is not None\n",
    "        elif choice == \"assignment_mutator\":\n",
    "            return ((hasattr(node, 'op') or hasattr(node, 'value'))) and (len(self.assignment_mutator.seen_values)>0 or len(self.assignment_mutator.identifiers)>0)\n",
    "        elif choice == \"loop_mutator\":\n",
    "            return hasattr(node, 'target') and hasattr(node, 'iter')\n",
    "        elif choice == \"op_mutator\":\n",
    "            return hasattr(node, 'op')\n",
    "        elif choice == \"condition_mutator\":\n",
    "            return hasattr(node, 'test')\n",
    "        return True\n",
    "    \n",
    "    def equal_chance_operator_selector(self, node):\n",
    "        \"\"\"\n",
    "        Selects and returns the mutation operator that is supposed to be performed\n",
    "        \"\"\"\n",
    "        chosen_operator = None\n",
    "        choices = [\"insert\", \"op_mutator\", \"loop_mutator\", \"assignment_mutator\", \"condition_mutator\", \"identifier_mutator\", \"value_mutator\", \"default_swap\", \"delete\"]\n",
    "        choice = random.choice(choices)\n",
    "        \n",
    "        while(not self.check_applicability(choice, node)):\n",
    "            choice = random.choice(choices)\n",
    "\n",
    "        if(choice == \"condition_mutator\"):\n",
    "            chosen_operator = self.condition_mutator.swap\n",
    "        elif(choice == \"identifier_mutator\"):\n",
    "            chosen_operator = self.identifier_mutator.swap_ids\n",
    "        elif(choice == \"value_mutator\"):\n",
    "            chosen_operator = self.value_mutator.swap_values\n",
    "        elif(choice == \"default_swap\"):\n",
    "            if self.check_applicability(\"condition_mutator\", node):\n",
    "                chosen_operator = self.condition_mutator.swap\n",
    "            else:\n",
    "                chosen_operator = super().swap\n",
    "        elif(choice ==\"assignment_mutator\"):\n",
    "            chosen_operator = self.assignment_mutator.mutate_assignment\n",
    "        elif(choice == \"insert\"):\n",
    "            chosen_operator = super().insert\n",
    "        elif(choice == \"loop_mutator\"):\n",
    "            chosen_operator = self.loop_mutator.mutate_range\n",
    "        elif(choice == \"op_mutator\"):\n",
    "            chosen_operator = self.op_mutator.mutate_operator\n",
    "        else:\n",
    "            chosen_operator = super().delete\n",
    "                \n",
    "        return chosen_operator\n",
    "    \n",
    "    def visit(self, node):\n",
    "        super(NodeTransformer, self).visit(node)\n",
    "        if not node.mutate_me:\n",
    "            return node\n",
    "        \n",
    "        op = self.equal_chance_operator_selector(node)\n",
    "        new_node = op(node)\n",
    "        self.mutations += 1\n",
    "\n",
    "        if self.log:\n",
    "            print(f\"{node.lineno:4}:{op.__name__ + ':':7} \"\n",
    "                  f\"{self.format_node(node)} \"\n",
    "                  f\"becomes {self.format_node(new_node)}\")\n",
    "\n",
    "        return new_node\n",
    "    \n",
    "    def mutate(self, tree):\n",
    "        \"\"\"Mutate the given AST `tree` in place. Return mutated tree.\"\"\"\n",
    "        assert isinstance(tree, ast.AST)\n",
    "        new_tree = copy.deepcopy(tree)\n",
    "\n",
    "        if not self.source:\n",
    "            self.source = all_statements(new_tree)\n",
    "\n",
    "        for node in ast.walk(new_tree):\n",
    "            node.mutate_me = False\n",
    "\n",
    "        node = self.node_to_be_mutated(new_tree)\n",
    "        node.mutate_me = True\n",
    "\n",
    "        self.mutations = 0\n",
    "        \n",
    "        new_tree = self.visit(new_tree)            \n",
    "\n",
    "        if self.mutations == 0:\n",
    "            warnings.warn(\"No mutations found\")\n",
    "\n",
    "        ast.fix_missing_locations(new_tree)\n",
    "        return new_tree"
   ]
  },
  {
   "cell_type": "code",
   "execution_count": 57,
   "metadata": {
    "slideshow": {
     "slide_type": "subslide"
    }
   },
   "outputs": [],
   "source": [
    "def debug_and_repair(f, testcases, function_test, log=1):\n",
    "    # TODO: implement this function\n",
    "    '''\n",
    "    Debugs a function with the given testcases and the test_function\n",
    "    and tries to repair it afterwards.\n",
    "\n",
    "    Parameters\n",
    "    ----------\n",
    "    f : function\n",
    "        The faulty function, to be debugged and repaired\n",
    "    testcases : List\n",
    "        A list that includes test inputs for the function under test\n",
    "    test_function : function\n",
    "        A function that takes the test inputs and tests whether the\n",
    "        function under test produces the correct output.\n",
    "    log: bool\n",
    "        Turn logging on/off.\n",
    "    Returns\n",
    "    -------\n",
    "    str\n",
    "        The repaired version of f as a string.\n",
    "    '''\n",
    "\n",
    "    debugger_in_use = OchiaiDebugger()\n",
    "    mutator_class_in_use = MetaMutator\n",
    "    crossover_class_in_use = CrossoverOperator \n",
    "    reducer_class_in_use = DeltaDebugger\n",
    "    \n",
    "    for i in testcases:\n",
    "        with debugger_in_use:\n",
    "            function_test(*i)  # Ensure that you use *i here. Auch hier schon auf Endlosschleifen achten\n",
    "    \n",
    "    repairer = Repairer(debugger_in_use,\n",
    "                        mutator_class=mutator_class_in_use,\n",
    "                        crossover_class=crossover_class_in_use,\n",
    "                        reducer_class=reducer_class_in_use,\n",
    "                        log=log)\n",
    "\n",
    "    # Ensure that you specify a sufficient number of\n",
    "    # iterations to evolve.\n",
    "    best_tree, fitness = repairer.repair(iterations=5000)\n",
    "\n",
    "    return astor.to_source(best_tree)"
   ]
  },
  {
   "cell_type": "markdown",
   "metadata": {
    "slideshow": {
     "slide_type": "subslide"
    }
   },
   "source": [
    "The function `debug_and_repair()` is the function that needs to implement everything. We will provide you with the function to be repaired, as well as testcases for this function and a test-function. Let us show you how the function can be used and should behave:"
   ]
  },
  {
   "cell_type": "code",
   "execution_count": 58,
   "metadata": {
    "slideshow": {
     "slide_type": "fragment"
    }
   },
   "outputs": [],
   "source": [
    "random.seed(42)"
   ]
  },
  {
   "cell_type": "code",
   "execution_count": 59,
   "metadata": {
    "slideshow": {
     "slide_type": "subslide"
    }
   },
   "outputs": [],
   "source": [
    "def simple_debug_and_repair(f, testcases, function_test, \n",
    "                            log=True):\n",
    "    '''\n",
    "    Debugs a function with the given testcases and the test_function\n",
    "    and tries to repair it afterwards.\n",
    "\n",
    "    Parameters\n",
    "    ----------\n",
    "    f : function\n",
    "        The faulty function, to be debugged and repaired\n",
    "    testcases : List\n",
    "        A list that includes test inputs for the function under test\n",
    "    test_function : function\n",
    "        A function, that takes the test inputs and tests whether the\n",
    "        function under test produces the correct output.\n",
    "    log: bool\n",
    "        Turn logging on/off.\n",
    "    Returns\n",
    "    -------\n",
    "    str\n",
    "        The repaired version of f as a string.\n",
    "    '''\n",
    "    \n",
    "    debugger = OchiaiDebugger()\n",
    "\n",
    "    for i in testcases:\n",
    "        with debugger:\n",
    "            function_test(*i)  # Ensure that you use *i here.\n",
    "\n",
    "    repairer = Repairer(debugger,\n",
    "                        mutator_class=ConditionMutator,\n",
    "                        crossover_class=CrossoverOperator,\n",
    "                        reducer_class=DeltaDebugger,\n",
    "                        log=log)\n",
    "\n",
    "    # Ensure that you specify a sufficient number of\n",
    "    # iterations to evolve.\n",
    "    best_tree, fitness = repairer.repair(iterations=100)\n",
    "\n",
    "    return astor.to_source(best_tree)"
   ]
  },
  {
   "cell_type": "markdown",
   "metadata": {
    "slideshow": {
     "slide_type": "subslide"
    }
   },
   "source": [
    "Here we again used the _Ochiai_ statistical debugger and the _Repairer_ described in [The Debugging Book](https://www.debuggingbook.org/beta/html/Repairer.html). In contrast to the initial example, now we used another type of mutator – `ConditionMutator`. It can successfully fix the `larger` function as well."
   ]
  },
  {
   "cell_type": "markdown",
   "metadata": {
    "slideshow": {
     "slide_type": "fragment"
    }
   },
   "source": [
    "repaired = simple_debug_and_repair(larger,\n",
    "                                   LARGER_PASSING_TESTCASES +\n",
    "                                   LARGER_FAILING_TESTCASES,\n",
    "                                   larger_test, False)\n",
    "print_content(repaired, '.py')"
   ]
  },
  {
   "cell_type": "code",
   "execution_count": 60,
   "metadata": {},
   "outputs": [],
   "source": [
    "def larger(x, y):\n",
    "    if x < y:\n",
    "        return z\n",
    "    return y\n",
    "\n",
    "def larger_backup(x,y):\n",
    "    if x < y:\n",
    "        return x\n",
    "    return y"
   ]
  },
  {
   "cell_type": "code",
   "execution_count": 61,
   "metadata": {},
   "outputs": [
    {
     "data": {
      "image/svg+xml": [
       "<svg xmlns=\"http://www.w3.org/2000/svg\" xmlns:xlink=\"http://www.w3.org/1999/xlink\" width=\"575pt\" height=\"332pt\" viewBox=\"0.00 0.00 574.50 332.00\">\n",
       "<g id=\"graph0\" class=\"graph\" transform=\"scale(1 1) rotate(0) translate(4 328)\">\n",
       "<title>%3</title>\n",
       "<polygon fill=\"white\" stroke=\"transparent\" points=\"-4,4 -4,-328 570.5,-328 570.5,4 -4,4\"/>\n",
       "<!-- 0 -->\n",
       "<g id=\"node1\" class=\"node\">\n",
       "<title>0</title>\n",
       "<text text-anchor=\"start\" x=\"173\" y=\"-303.3\" font-family=\"Courier,monospace\" font-weight=\"bold\" font-size=\"14.00\" fill=\"#004080\">FunctionDef</text>\n",
       "</g>\n",
       "<!-- 1 -->\n",
       "<g id=\"node2\" class=\"node\">\n",
       "<title>1</title>\n",
       "<text text-anchor=\"middle\" x=\"41.5\" y=\"-230.3\" font-family=\"Courier,monospace\" font-size=\"14.00\" fill=\"#008040\">&quot;larger&quot;</text>\n",
       "</g>\n",
       "<!-- 0&#45;&#45;1 -->\n",
       "<g id=\"edge1\" class=\"edge\">\n",
       "<title>0--1</title>\n",
       "<path fill=\"none\" stroke=\"black\" d=\"M216.5,-287C216.5,-287 146.61,-269.07 91.5,-252 88.79,-251.16 85.99,-250.27 83.19,-249.36\"/>\n",
       "</g>\n",
       "<!-- 2 -->\n",
       "<g id=\"node3\" class=\"node\">\n",
       "<title>2</title>\n",
       "<text text-anchor=\"start\" x=\"109\" y=\"-231.3\" font-family=\"Courier,monospace\" font-weight=\"bold\" font-size=\"14.00\" fill=\"#004080\">arguments</text>\n",
       "</g>\n",
       "<!-- 0&#45;&#45;2 -->\n",
       "<g id=\"edge2\" class=\"edge\">\n",
       "<title>0--2</title>\n",
       "<path fill=\"none\" stroke=\"black\" d=\"M216.5,-287C216.5,-287 189.84,-267.19 169.42,-252.03\"/>\n",
       "</g>\n",
       "<!-- 7 -->\n",
       "<g id=\"node8\" class=\"node\">\n",
       "<title>7</title>\n",
       "<text text-anchor=\"start\" x=\"243\" y=\"-231.3\" font-family=\"Courier,monospace\" font-weight=\"bold\" font-size=\"14.00\" fill=\"#004080\">If</text>\n",
       "</g>\n",
       "<!-- 0&#45;&#45;7 -->\n",
       "<g id=\"edge7\" class=\"edge\">\n",
       "<title>0--7</title>\n",
       "<path fill=\"none\" stroke=\"black\" d=\"M216.5,-287C216.5,-287 229.83,-267.19 240.04,-252.03\"/>\n",
       "</g>\n",
       "<!-- 20 -->\n",
       "<g id=\"node21\" class=\"node\">\n",
       "<title>20</title>\n",
       "<text text-anchor=\"start\" x=\"373.5\" y=\"-231.3\" font-family=\"Courier,monospace\" font-weight=\"bold\" font-size=\"14.00\" fill=\"#004080\">Return</text>\n",
       "</g>\n",
       "<!-- 0&#45;&#45;20 -->\n",
       "<g id=\"edge20\" class=\"edge\">\n",
       "<title>0--20</title>\n",
       "<path fill=\"none\" stroke=\"black\" d=\"M216.5,-287C216.5,-287 312.58,-259.55 365.12,-244.54\"/>\n",
       "</g>\n",
       "<!-- 3 -->\n",
       "<g id=\"node4\" class=\"node\">\n",
       "<title>3</title>\n",
       "<text text-anchor=\"start\" x=\"36\" y=\"-159.3\" font-family=\"Courier,monospace\" font-weight=\"bold\" font-size=\"14.00\" fill=\"#004080\">arg</text>\n",
       "</g>\n",
       "<!-- 2&#45;&#45;3 -->\n",
       "<g id=\"edge3\" class=\"edge\">\n",
       "<title>2--3</title>\n",
       "<path fill=\"none\" stroke=\"black\" d=\"M132.5,-215C132.5,-215 100.1,-194.94 75.54,-179.74\"/>\n",
       "</g>\n",
       "<!-- 5 -->\n",
       "<g id=\"node6\" class=\"node\">\n",
       "<title>5</title>\n",
       "<text text-anchor=\"start\" x=\"108\" y=\"-159.3\" font-family=\"Courier,monospace\" font-weight=\"bold\" font-size=\"14.00\" fill=\"#004080\">arg</text>\n",
       "</g>\n",
       "<!-- 2&#45;&#45;5 -->\n",
       "<g id=\"edge5\" class=\"edge\">\n",
       "<title>2--5</title>\n",
       "<path fill=\"none\" stroke=\"black\" d=\"M132.5,-215C132.5,-215 127.93,-195.19 124.43,-180.03\"/>\n",
       "</g>\n",
       "<!-- 4 -->\n",
       "<g id=\"node5\" class=\"node\">\n",
       "<title>4</title>\n",
       "<text text-anchor=\"middle\" x=\"35.5\" y=\"-86.3\" font-family=\"Courier,monospace\" font-size=\"14.00\" fill=\"#008040\">&quot;x&quot;</text>\n",
       "</g>\n",
       "<!-- 3&#45;&#45;4 -->\n",
       "<g id=\"edge4\" class=\"edge\">\n",
       "<title>3--4</title>\n",
       "<path fill=\"none\" stroke=\"black\" d=\"M45.29,-143.7C43.27,-132.85 40.68,-118.92 38.68,-108.1\"/>\n",
       "</g>\n",
       "<!-- 6 -->\n",
       "<g id=\"node7\" class=\"node\">\n",
       "<title>6</title>\n",
       "<text text-anchor=\"middle\" x=\"107.5\" y=\"-86.3\" font-family=\"Courier,monospace\" font-size=\"14.00\" fill=\"#008040\">&quot;y&quot;</text>\n",
       "</g>\n",
       "<!-- 5&#45;&#45;6 -->\n",
       "<g id=\"edge6\" class=\"edge\">\n",
       "<title>5--6</title>\n",
       "<path fill=\"none\" stroke=\"black\" d=\"M117.29,-143.7C115.27,-132.85 112.68,-118.92 110.68,-108.1\"/>\n",
       "</g>\n",
       "<!-- 8 -->\n",
       "<g id=\"node9\" class=\"node\">\n",
       "<title>8</title>\n",
       "<text text-anchor=\"start\" x=\"222.5\" y=\"-159.3\" font-family=\"Courier,monospace\" font-weight=\"bold\" font-size=\"14.00\" fill=\"#004080\">Compare</text>\n",
       "</g>\n",
       "<!-- 7&#45;&#45;8 -->\n",
       "<g id=\"edge8\" class=\"edge\">\n",
       "<title>7--8</title>\n",
       "<path fill=\"none\" stroke=\"black\" d=\"M261.5,-215C261.5,-215 257.69,-195.19 254.77,-180.03\"/>\n",
       "</g>\n",
       "<!-- 16 -->\n",
       "<g id=\"node17\" class=\"node\">\n",
       "<title>16</title>\n",
       "<text text-anchor=\"start\" x=\"339.5\" y=\"-159.3\" font-family=\"Courier,monospace\" font-weight=\"bold\" font-size=\"14.00\" fill=\"#004080\">Return</text>\n",
       "</g>\n",
       "<!-- 7&#45;&#45;16 -->\n",
       "<g id=\"edge16\" class=\"edge\">\n",
       "<title>7--16</title>\n",
       "<path fill=\"none\" stroke=\"black\" d=\"M261.5,-215C261.5,-215 301.23,-194.94 331.34,-179.74\"/>\n",
       "</g>\n",
       "<!-- 9 -->\n",
       "<g id=\"node10\" class=\"node\">\n",
       "<title>9</title>\n",
       "<text text-anchor=\"start\" x=\"162.5\" y=\"-87.3\" font-family=\"Courier,monospace\" font-weight=\"bold\" font-size=\"14.00\" fill=\"#004080\">Name</text>\n",
       "</g>\n",
       "<!-- 8&#45;&#45;9 -->\n",
       "<g id=\"edge9\" class=\"edge\">\n",
       "<title>8--9</title>\n",
       "<path fill=\"none\" stroke=\"black\" d=\"M251.5,-143C251.5,-143 224.07,-123.19 203.08,-108.03\"/>\n",
       "</g>\n",
       "<!-- 12 -->\n",
       "<g id=\"node13\" class=\"node\">\n",
       "<title>12</title>\n",
       "<text text-anchor=\"middle\" x=\"251.5\" y=\"-86.3\" font-family=\"Courier,monospace\" font-size=\"14.00\" fill=\"#008040\">Lt</text>\n",
       "</g>\n",
       "<!-- 8&#45;&#45;12 -->\n",
       "<g id=\"edge12\" class=\"edge\">\n",
       "<title>8--12</title>\n",
       "<path fill=\"none\" stroke=\"black\" d=\"M251.5,-143C251.5,-143 251.5,-123.19 251.5,-108.03\"/>\n",
       "</g>\n",
       "<!-- 13 -->\n",
       "<g id=\"node14\" class=\"node\">\n",
       "<title>13</title>\n",
       "<text text-anchor=\"start\" x=\"306.5\" y=\"-87.3\" font-family=\"Courier,monospace\" font-weight=\"bold\" font-size=\"14.00\" fill=\"#004080\">Name</text>\n",
       "</g>\n",
       "<!-- 8&#45;&#45;13 -->\n",
       "<g id=\"edge13\" class=\"edge\">\n",
       "<title>8--13</title>\n",
       "<path fill=\"none\" stroke=\"black\" d=\"M251.5,-143C251.5,-143 278.93,-123.19 299.92,-108.03\"/>\n",
       "</g>\n",
       "<!-- 10 -->\n",
       "<g id=\"node11\" class=\"node\">\n",
       "<title>10</title>\n",
       "<text text-anchor=\"middle\" x=\"107.5\" y=\"-14.3\" font-family=\"Courier,monospace\" font-size=\"14.00\" fill=\"#008040\">&quot;x&quot;</text>\n",
       "</g>\n",
       "<!-- 9&#45;&#45;10 -->\n",
       "<g id=\"edge10\" class=\"edge\">\n",
       "<title>9--10</title>\n",
       "<path fill=\"none\" stroke=\"black\" d=\"M171.5,-71C171.5,-71 147.12,-51.19 128.46,-36.03\"/>\n",
       "</g>\n",
       "<!-- 11 -->\n",
       "<g id=\"node12\" class=\"node\">\n",
       "<title>11</title>\n",
       "<text text-anchor=\"middle\" x=\"179.5\" y=\"-14.3\" font-family=\"Courier,monospace\" font-size=\"14.00\" fill=\"#008040\">Load</text>\n",
       "</g>\n",
       "<!-- 9&#45;&#45;11 -->\n",
       "<g id=\"edge11\" class=\"edge\">\n",
       "<title>9--11</title>\n",
       "<path fill=\"none\" stroke=\"black\" d=\"M171.5,-71C171.5,-71 174.55,-51.19 176.88,-36.03\"/>\n",
       "</g>\n",
       "<!-- 14 -->\n",
       "<g id=\"node15\" class=\"node\">\n",
       "<title>14</title>\n",
       "<text text-anchor=\"middle\" x=\"251.5\" y=\"-14.3\" font-family=\"Courier,monospace\" font-size=\"14.00\" fill=\"#008040\">&quot;y&quot;</text>\n",
       "</g>\n",
       "<!-- 13&#45;&#45;14 -->\n",
       "<g id=\"edge14\" class=\"edge\">\n",
       "<title>13--14</title>\n",
       "<path fill=\"none\" stroke=\"black\" d=\"M315.5,-71C315.5,-71 291.12,-51.19 272.46,-36.03\"/>\n",
       "</g>\n",
       "<!-- 15 -->\n",
       "<g id=\"node16\" class=\"node\">\n",
       "<title>15</title>\n",
       "<text text-anchor=\"middle\" x=\"323.5\" y=\"-14.3\" font-family=\"Courier,monospace\" font-size=\"14.00\" fill=\"#008040\">Load</text>\n",
       "</g>\n",
       "<!-- 13&#45;&#45;15 -->\n",
       "<g id=\"edge15\" class=\"edge\">\n",
       "<title>13--15</title>\n",
       "<path fill=\"none\" stroke=\"black\" d=\"M315.5,-71C315.5,-71 318.55,-51.19 320.88,-36.03\"/>\n",
       "</g>\n",
       "<!-- 17 -->\n",
       "<g id=\"node18\" class=\"node\">\n",
       "<title>17</title>\n",
       "<text text-anchor=\"start\" x=\"378.5\" y=\"-87.3\" font-family=\"Courier,monospace\" font-weight=\"bold\" font-size=\"14.00\" fill=\"#004080\">Name</text>\n",
       "</g>\n",
       "<!-- 16&#45;&#45;17 -->\n",
       "<g id=\"edge17\" class=\"edge\">\n",
       "<title>16--17</title>\n",
       "<path fill=\"none\" stroke=\"black\" d=\"M372.16,-143.7C376.97,-132.85 383.14,-118.92 387.93,-108.1\"/>\n",
       "</g>\n",
       "<!-- 18 -->\n",
       "<g id=\"node19\" class=\"node\">\n",
       "<title>18</title>\n",
       "<text text-anchor=\"middle\" x=\"395.5\" y=\"-14.3\" font-family=\"Courier,monospace\" font-size=\"14.00\" fill=\"#008040\">&quot;z&quot;</text>\n",
       "</g>\n",
       "<!-- 17&#45;&#45;18 -->\n",
       "<g id=\"edge18\" class=\"edge\">\n",
       "<title>17--18</title>\n",
       "<path fill=\"none\" stroke=\"black\" d=\"M403.5,-71C403.5,-71 400.45,-51.19 398.12,-36.03\"/>\n",
       "</g>\n",
       "<!-- 19 -->\n",
       "<g id=\"node20\" class=\"node\">\n",
       "<title>19</title>\n",
       "<text text-anchor=\"middle\" x=\"467.5\" y=\"-14.3\" font-family=\"Courier,monospace\" font-size=\"14.00\" fill=\"#008040\">Load</text>\n",
       "</g>\n",
       "<!-- 17&#45;&#45;19 -->\n",
       "<g id=\"edge19\" class=\"edge\">\n",
       "<title>17--19</title>\n",
       "<path fill=\"none\" stroke=\"black\" d=\"M403.5,-71C403.5,-71 427.88,-51.19 446.54,-36.03\"/>\n",
       "</g>\n",
       "<!-- 21 -->\n",
       "<g id=\"node22\" class=\"node\">\n",
       "<title>21</title>\n",
       "<text text-anchor=\"start\" x=\"450.5\" y=\"-159.3\" font-family=\"Courier,monospace\" font-weight=\"bold\" font-size=\"14.00\" fill=\"#004080\">Name</text>\n",
       "</g>\n",
       "<!-- 20&#45;&#45;21 -->\n",
       "<g id=\"edge21\" class=\"edge\">\n",
       "<title>20--21</title>\n",
       "<path fill=\"none\" stroke=\"black\" d=\"M415.56,-215.7C426.25,-204.85 439.98,-190.92 450.64,-180.1\"/>\n",
       "</g>\n",
       "<!-- 22 -->\n",
       "<g id=\"node23\" class=\"node\">\n",
       "<title>22</title>\n",
       "<text text-anchor=\"middle\" x=\"467.5\" y=\"-86.3\" font-family=\"Courier,monospace\" font-size=\"14.00\" fill=\"#008040\">&quot;y&quot;</text>\n",
       "</g>\n",
       "<!-- 21&#45;&#45;22 -->\n",
       "<g id=\"edge22\" class=\"edge\">\n",
       "<title>21--22</title>\n",
       "<path fill=\"none\" stroke=\"black\" d=\"M475.5,-143C475.5,-143 472.45,-123.19 470.12,-108.03\"/>\n",
       "</g>\n",
       "<!-- 23 -->\n",
       "<g id=\"node24\" class=\"node\">\n",
       "<title>23</title>\n",
       "<text text-anchor=\"middle\" x=\"539.5\" y=\"-86.3\" font-family=\"Courier,monospace\" font-size=\"14.00\" fill=\"#008040\">Load</text>\n",
       "</g>\n",
       "<!-- 21&#45;&#45;23 -->\n",
       "<g id=\"edge23\" class=\"edge\">\n",
       "<title>21--23</title>\n",
       "<path fill=\"none\" stroke=\"black\" d=\"M475.5,-143C475.5,-143 499.88,-123.19 518.54,-108.03\"/>\n",
       "</g>\n",
       "</g>\n",
       "</svg>"
      ],
      "text/plain": [
       "<IPython.core.display.SVG object>"
      ]
     },
     "metadata": {},
     "output_type": "display_data"
    }
   ],
   "source": [
    "show_ast(ast.parse(inspect.getsource(larger)))"
   ]
  },
  {
   "cell_type": "code",
   "execution_count": 62,
   "metadata": {},
   "outputs": [
    {
     "name": "stderr",
     "output_type": "stream",
     "text": [
      "/home/milan/Downloads/debuggingbook-notebooks(4)/debuggingbook-notebooks/Repairer_Copy.ipynb:668: UserWarning: Can't parse extract_undefined_variable\n",
      "  warnings.warn(f\"Can't parse {item.__name__}\")\n"
     ]
    },
    {
     "name": "stdout",
     "output_type": "stream",
     "text": [
      "Target code to be repaired:\n",
      "\u001b[34mdef\u001b[39;49;00m \u001b[32mlarger\u001b[39;49;00m(x, y):\n",
      "    \u001b[34mif\u001b[39;49;00m x < y:\n",
      "        \u001b[34mreturn\u001b[39;49;00m z\n",
      "    \u001b[34mreturn\u001b[39;49;00m y\n",
      "\n",
      "Found conditions ['(x < y)']\n",
      "Evolving population: iteration   0/5000 fitness = 1.0   \n",
      "\n",
      "New best code (fitness = 1.0):\n",
      "\u001b[34mdef\u001b[39;49;00m \u001b[32mlarger\u001b[39;49;00m(x, y):\n",
      "    \u001b[34mif\u001b[39;49;00m \u001b[35mnot\u001b[39;49;00m x < y:\n",
      "        \u001b[34mreturn\u001b[39;49;00m x\n",
      "    \u001b[34mreturn\u001b[39;49;00m y\n",
      "\n",
      "\n",
      "Reduced code (fitness = 1.0):\n",
      "\u001b[34mdef\u001b[39;49;00m \u001b[32mlarger\u001b[39;49;00m(x, y):\n",
      "    \u001b[34mif\u001b[39;49;00m \u001b[35mnot\u001b[39;49;00m x < y:\n",
      "        \u001b[34mreturn\u001b[39;49;00m x\n",
      "    \u001b[34mreturn\u001b[39;49;00m y\n",
      "\n",
      "It took the MetaRepairer 9.535854816436768 seconds to repair the given code\n",
      "\u001b[34mdef\u001b[39;49;00m \u001b[32mlarger\u001b[39;49;00m(x, y):\n",
      "    \u001b[34mif\u001b[39;49;00m \u001b[35mnot\u001b[39;49;00m x < y:\n",
      "        \u001b[34mreturn\u001b[39;49;00m x\n",
      "    \u001b[34mreturn\u001b[39;49;00m y"
     ]
    }
   ],
   "source": [
    "repaired = debug_and_repair(larger,\n",
    "                                   LARGER_PASSING_TESTCASES +\n",
    "                                   LARGER_FAILING_TESTCASES,\n",
    "                                   larger_test, 2)\n",
    "print_content(repaired, '.py')"
   ]
  },
  {
   "cell_type": "markdown",
   "metadata": {
    "slideshow": {
     "slide_type": "subslide"
    }
   },
   "source": [
    "Although `simple_debug_and_repair` produced a correct solution for our example, it does not generalize to other functions.  \n",
    "So your task is to create the `debug_and_repair()` function which can be applied on any faulty function."
   ]
  },
  {
   "cell_type": "markdown",
   "metadata": {
    "slideshow": {
     "slide_type": "fragment"
    }
   },
   "source": [
    "Apart from the function `debug_and_repair()`, you may of course implement your own classes. Make sure, however, that you are using these classes within `debug_and_repair()`. Also, keep in mind to tune the _iteration_ parameter of the `Repairer` so that it has sufficient number of generation to evolve. As it may take too much time to find a solution for an ill-programmed repairer (e.g., consider an infinite `while`loop introduced in the fix), we impose a _10-minute timeout_ for each repair."
   ]
  },
  {
   "cell_type": "markdown",
   "metadata": {
    "slideshow": {
     "slide_type": "slide"
    }
   },
   "source": [
    "## Evaluation"
   ]
  },
  {
   "cell_type": "markdown",
   "metadata": {
    "slideshow": {
     "slide_type": "fragment"
    }
   },
   "source": [
    "Having you implement `debug_and_repair()` allows us to easily test your implementation by calling the function with its respective arguments and testing the correctness of its output. In this section, we will provide you with some test cases as well as the testing framework for this project. This will help you to assess the quality of your work.  \n",
    "\n",
    "We define functions as well as test-case generators for these functions. The functions given here should be considered as **public tests**. If you pass all public tests, without hard-coding the solutions, you are guaranteed to achieve **10 points**. The secret tests for the remaining 10 must-have-points have similar defects."
   ]
  },
  {
   "cell_type": "markdown",
   "metadata": {
    "slideshow": {
     "slide_type": "subslide"
    }
   },
   "source": [
    "### Factorial\n",
    "\n",
    "The first function we implement is a _factorial_ function. It is supposed to compute the following formula:  \n",
    "\\begin{equation*}\n",
    "n! = \\textit{factorial}(n) = \\prod_{k=1}^{n}k, \\quad \\text{for $k\\geq 1$}\n",
    "\\end{equation*}"
   ]
  },
  {
   "cell_type": "markdown",
   "metadata": {
    "slideshow": {
     "slide_type": "fragment"
    }
   },
   "source": [
    "Here we define three faulty functions `factorial1`, `factorial2`, and `factorial3` that are supposed to compute the factorial."
   ]
  },
  {
   "cell_type": "code",
   "execution_count": 63,
   "metadata": {
    "slideshow": {
     "slide_type": "subslide"
    }
   },
   "outputs": [],
   "source": [
    "def factorial1(n):\n",
    "    res = 1\n",
    "    for i in range(1, n):\n",
    "        res *= i\n",
    "    return res\n",
    "\n",
    "def fixed_factorial1(n):\n",
    "    res = 1\n",
    "    for i in range(1, n):\n",
    "        res *= i + 1\n",
    "    return res"
   ]
  },
  {
   "cell_type": "code",
   "execution_count": 64,
   "metadata": {},
   "outputs": [
    {
     "data": {
      "image/svg+xml": [
       "<svg xmlns=\"http://www.w3.org/2000/svg\" xmlns:xlink=\"http://www.w3.org/1999/xlink\" width=\"1112pt\" height=\"332pt\" viewBox=\"0.00 0.00 1112.00 332.00\">\n",
       "<g id=\"graph0\" class=\"graph\" transform=\"scale(1 1) rotate(0) translate(4 328)\">\n",
       "<title>%3</title>\n",
       "<polygon fill=\"white\" stroke=\"transparent\" points=\"-4,4 -4,-328 1108,-328 1108,4 -4,4\"/>\n",
       "<!-- 0 -->\n",
       "<g id=\"node1\" class=\"node\">\n",
       "<title>0</title>\n",
       "<text text-anchor=\"start\" x=\"231.5\" y=\"-303.3\" font-family=\"Courier,monospace\" font-weight=\"bold\" font-size=\"14.00\" fill=\"#004080\">FunctionDef</text>\n",
       "</g>\n",
       "<!-- 1 -->\n",
       "<g id=\"node2\" class=\"node\">\n",
       "<title>1</title>\n",
       "<text text-anchor=\"middle\" x=\"58\" y=\"-230.3\" font-family=\"Courier,monospace\" font-size=\"14.00\" fill=\"#008040\">&quot;factorial1&quot;</text>\n",
       "</g>\n",
       "<!-- 0&#45;&#45;1 -->\n",
       "<g id=\"edge1\" class=\"edge\">\n",
       "<title>0--1</title>\n",
       "<path fill=\"none\" stroke=\"black\" d=\"M278,-287C278,-287 192.81,-268.36 125,-252 122.08,-251.3 119.1,-250.57 116.08,-249.83\"/>\n",
       "</g>\n",
       "<!-- 2 -->\n",
       "<g id=\"node3\" class=\"node\">\n",
       "<title>2</title>\n",
       "<text text-anchor=\"start\" x=\"142.5\" y=\"-231.3\" font-family=\"Courier,monospace\" font-weight=\"bold\" font-size=\"14.00\" fill=\"#004080\">arguments</text>\n",
       "</g>\n",
       "<!-- 0&#45;&#45;2 -->\n",
       "<g id=\"edge2\" class=\"edge\">\n",
       "<title>0--2</title>\n",
       "<path fill=\"none\" stroke=\"black\" d=\"M278,-287C278,-287 240.67,-267.19 212.09,-252.03\"/>\n",
       "</g>\n",
       "<!-- 5 -->\n",
       "<g id=\"node6\" class=\"node\">\n",
       "<title>5</title>\n",
       "<text text-anchor=\"start\" x=\"252\" y=\"-231.3\" font-family=\"Courier,monospace\" font-weight=\"bold\" font-size=\"14.00\" fill=\"#004080\">Assign</text>\n",
       "</g>\n",
       "<!-- 0&#45;&#45;5 -->\n",
       "<g id=\"edge5\" class=\"edge\">\n",
       "<title>0--5</title>\n",
       "<path fill=\"none\" stroke=\"black\" d=\"M278,-287C278,-287 277.62,-267.19 277.33,-252.03\"/>\n",
       "</g>\n",
       "<!-- 11 -->\n",
       "<g id=\"node12\" class=\"node\">\n",
       "<title>11</title>\n",
       "<text text-anchor=\"start\" x=\"440.5\" y=\"-231.3\" font-family=\"Courier,monospace\" font-weight=\"bold\" font-size=\"14.00\" fill=\"#004080\">For</text>\n",
       "</g>\n",
       "<!-- 0&#45;&#45;11 -->\n",
       "<g id=\"edge11\" class=\"edge\">\n",
       "<title>0--11</title>\n",
       "<path fill=\"none\" stroke=\"black\" d=\"M278,-287C278,-287 376.44,-257.75 425.66,-243.12\"/>\n",
       "</g>\n",
       "<!-- 32 -->\n",
       "<g id=\"node33\" class=\"node\">\n",
       "<title>32</title>\n",
       "<text text-anchor=\"start\" x=\"761\" y=\"-231.3\" font-family=\"Courier,monospace\" font-weight=\"bold\" font-size=\"14.00\" fill=\"#004080\">Return</text>\n",
       "</g>\n",
       "<!-- 0&#45;&#45;32 -->\n",
       "<g id=\"edge32\" class=\"edge\">\n",
       "<title>0--32</title>\n",
       "<path fill=\"none\" stroke=\"black\" d=\"M278,-287C278,-287 639.65,-249.98 752.67,-238.41\"/>\n",
       "</g>\n",
       "<!-- 3 -->\n",
       "<g id=\"node4\" class=\"node\">\n",
       "<title>3</title>\n",
       "<text text-anchor=\"start\" x=\"66.5\" y=\"-159.3\" font-family=\"Courier,monospace\" font-weight=\"bold\" font-size=\"14.00\" fill=\"#004080\">arg</text>\n",
       "</g>\n",
       "<!-- 2&#45;&#45;3 -->\n",
       "<g id=\"edge3\" class=\"edge\">\n",
       "<title>2--3</title>\n",
       "<path fill=\"none\" stroke=\"black\" d=\"M155.29,-215.88C139.64,-205.03 119.47,-191.05 103.8,-180.19\"/>\n",
       "</g>\n",
       "<!-- 4 -->\n",
       "<g id=\"node5\" class=\"node\">\n",
       "<title>4</title>\n",
       "<text text-anchor=\"middle\" x=\"46\" y=\"-86.3\" font-family=\"Courier,monospace\" font-size=\"14.00\" fill=\"#008040\">&quot;n&quot;</text>\n",
       "</g>\n",
       "<!-- 3&#45;&#45;4 -->\n",
       "<g id=\"edge4\" class=\"edge\">\n",
       "<title>3--4</title>\n",
       "<path fill=\"none\" stroke=\"black\" d=\"M70.84,-143.7C65.73,-132.85 59.16,-118.92 54.06,-108.1\"/>\n",
       "</g>\n",
       "<!-- 6 -->\n",
       "<g id=\"node7\" class=\"node\">\n",
       "<title>6</title>\n",
       "<text text-anchor=\"start\" x=\"173\" y=\"-159.3\" font-family=\"Courier,monospace\" font-weight=\"bold\" font-size=\"14.00\" fill=\"#004080\">Name</text>\n",
       "</g>\n",
       "<!-- 5&#45;&#45;6 -->\n",
       "<g id=\"edge6\" class=\"edge\">\n",
       "<title>5--6</title>\n",
       "<path fill=\"none\" stroke=\"black\" d=\"M268,-215C268,-215 238.29,-195.19 215.54,-180.03\"/>\n",
       "</g>\n",
       "<!-- 9 -->\n",
       "<g id=\"node10\" class=\"node\">\n",
       "<title>9</title>\n",
       "<text text-anchor=\"start\" x=\"243.5\" y=\"-159.3\" font-family=\"Courier,monospace\" font-weight=\"bold\" font-size=\"14.00\" fill=\"#004080\">Constant</text>\n",
       "</g>\n",
       "<!-- 5&#45;&#45;9 -->\n",
       "<g id=\"edge9\" class=\"edge\">\n",
       "<title>5--9</title>\n",
       "<path fill=\"none\" stroke=\"black\" d=\"M268,-215C268,-215 271.43,-195.19 274.05,-180.03\"/>\n",
       "</g>\n",
       "<!-- 7 -->\n",
       "<g id=\"node8\" class=\"node\">\n",
       "<title>7</title>\n",
       "<text text-anchor=\"middle\" x=\"120\" y=\"-86.3\" font-family=\"Courier,monospace\" font-size=\"14.00\" fill=\"#008040\">&quot;res&quot;</text>\n",
       "</g>\n",
       "<!-- 6&#45;&#45;7 -->\n",
       "<g id=\"edge7\" class=\"edge\">\n",
       "<title>6--7</title>\n",
       "<path fill=\"none\" stroke=\"black\" d=\"M184,-143C184,-143 159.62,-123.19 140.96,-108.03\"/>\n",
       "</g>\n",
       "<!-- 8 -->\n",
       "<g id=\"node9\" class=\"node\">\n",
       "<title>8</title>\n",
       "<text text-anchor=\"middle\" x=\"196\" y=\"-86.3\" font-family=\"Courier,monospace\" font-size=\"14.00\" fill=\"#008040\">Store</text>\n",
       "</g>\n",
       "<!-- 6&#45;&#45;8 -->\n",
       "<g id=\"edge8\" class=\"edge\">\n",
       "<title>6--8</title>\n",
       "<path fill=\"none\" stroke=\"black\" d=\"M184,-143C184,-143 188.57,-123.19 192.07,-108.03\"/>\n",
       "</g>\n",
       "<!-- 10 -->\n",
       "<g id=\"node11\" class=\"node\">\n",
       "<title>10</title>\n",
       "<text text-anchor=\"middle\" x=\"270\" y=\"-86.3\" font-family=\"Courier,monospace\" font-size=\"14.00\" fill=\"#008040\">1</text>\n",
       "</g>\n",
       "<!-- 9&#45;&#45;10 -->\n",
       "<g id=\"edge10\" class=\"edge\">\n",
       "<title>9--10</title>\n",
       "<path fill=\"none\" stroke=\"black\" d=\"M275.27,-143.7C274.18,-132.85 272.79,-118.92 271.71,-108.1\"/>\n",
       "</g>\n",
       "<!-- 12 -->\n",
       "<g id=\"node13\" class=\"node\">\n",
       "<title>12</title>\n",
       "<text text-anchor=\"start\" x=\"399\" y=\"-159.3\" font-family=\"Courier,monospace\" font-weight=\"bold\" font-size=\"14.00\" fill=\"#004080\">Name</text>\n",
       "</g>\n",
       "<!-- 11&#45;&#45;12 -->\n",
       "<g id=\"edge12\" class=\"edge\">\n",
       "<title>11--12</title>\n",
       "<path fill=\"none\" stroke=\"black\" d=\"M466,-215C466,-215 446.95,-195.19 432.37,-180.03\"/>\n",
       "</g>\n",
       "<!-- 15 -->\n",
       "<g id=\"node16\" class=\"node\">\n",
       "<title>15</title>\n",
       "<text text-anchor=\"start\" x=\"516\" y=\"-159.3\" font-family=\"Courier,monospace\" font-weight=\"bold\" font-size=\"14.00\" fill=\"#004080\">Call</text>\n",
       "</g>\n",
       "<!-- 11&#45;&#45;15 -->\n",
       "<g id=\"edge15\" class=\"edge\">\n",
       "<title>11--15</title>\n",
       "<path fill=\"none\" stroke=\"black\" d=\"M466,-215C466,-215 491.52,-195.19 511.06,-180.03\"/>\n",
       "</g>\n",
       "<!-- 24 -->\n",
       "<g id=\"node25\" class=\"node\">\n",
       "<title>24</title>\n",
       "<text text-anchor=\"start\" x=\"780.5\" y=\"-159.3\" font-family=\"Courier,monospace\" font-weight=\"bold\" font-size=\"14.00\" fill=\"#004080\">AugAssign</text>\n",
       "</g>\n",
       "<!-- 11&#45;&#45;24 -->\n",
       "<g id=\"edge24\" class=\"edge\">\n",
       "<title>11--24</title>\n",
       "<path fill=\"none\" stroke=\"black\" d=\"M466,-215C466,-215 677.1,-183.81 772.34,-169.74\"/>\n",
       "</g>\n",
       "<!-- 13 -->\n",
       "<g id=\"node14\" class=\"node\">\n",
       "<title>13</title>\n",
       "<text text-anchor=\"middle\" x=\"342\" y=\"-86.3\" font-family=\"Courier,monospace\" font-size=\"14.00\" fill=\"#008040\">&quot;i&quot;</text>\n",
       "</g>\n",
       "<!-- 12&#45;&#45;13 -->\n",
       "<g id=\"edge13\" class=\"edge\">\n",
       "<title>12--13</title>\n",
       "<path fill=\"none\" stroke=\"black\" d=\"M408,-143C408,-143 382.86,-123.19 363.61,-108.03\"/>\n",
       "</g>\n",
       "<!-- 14 -->\n",
       "<g id=\"node15\" class=\"node\">\n",
       "<title>14</title>\n",
       "<text text-anchor=\"middle\" x=\"416\" y=\"-86.3\" font-family=\"Courier,monospace\" font-size=\"14.00\" fill=\"#008040\">Store</text>\n",
       "</g>\n",
       "<!-- 12&#45;&#45;14 -->\n",
       "<g id=\"edge14\" class=\"edge\">\n",
       "<title>12--14</title>\n",
       "<path fill=\"none\" stroke=\"black\" d=\"M408,-143C408,-143 411.05,-123.19 413.38,-108.03\"/>\n",
       "</g>\n",
       "<!-- 16 -->\n",
       "<g id=\"node17\" class=\"node\">\n",
       "<title>16</title>\n",
       "<text text-anchor=\"start\" x=\"473\" y=\"-87.3\" font-family=\"Courier,monospace\" font-weight=\"bold\" font-size=\"14.00\" fill=\"#004080\">Name</text>\n",
       "</g>\n",
       "<!-- 15&#45;&#45;16 -->\n",
       "<g id=\"edge16\" class=\"edge\">\n",
       "<title>15--16</title>\n",
       "<path fill=\"none\" stroke=\"black\" d=\"M540,-143C540,-143 520.95,-123.19 506.37,-108.03\"/>\n",
       "</g>\n",
       "<!-- 19 -->\n",
       "<g id=\"node20\" class=\"node\">\n",
       "<title>19</title>\n",
       "<text text-anchor=\"start\" x=\"543.5\" y=\"-87.3\" font-family=\"Courier,monospace\" font-weight=\"bold\" font-size=\"14.00\" fill=\"#004080\">Constant</text>\n",
       "</g>\n",
       "<!-- 15&#45;&#45;19 -->\n",
       "<g id=\"edge19\" class=\"edge\">\n",
       "<title>15--19</title>\n",
       "<path fill=\"none\" stroke=\"black\" d=\"M540,-143C540,-143 554.09,-123.19 564.88,-108.03\"/>\n",
       "</g>\n",
       "<!-- 21 -->\n",
       "<g id=\"node22\" class=\"node\">\n",
       "<title>21</title>\n",
       "<text text-anchor=\"start\" x=\"647\" y=\"-87.3\" font-family=\"Courier,monospace\" font-weight=\"bold\" font-size=\"14.00\" fill=\"#004080\">Name</text>\n",
       "</g>\n",
       "<!-- 15&#45;&#45;21 -->\n",
       "<g id=\"edge21\" class=\"edge\">\n",
       "<title>15--21</title>\n",
       "<path fill=\"none\" stroke=\"black\" d=\"M540,-143C540,-143 588.72,-124.48 627,-108 630.25,-106.6 633.64,-105.1 636.99,-103.59\"/>\n",
       "</g>\n",
       "<!-- 17 -->\n",
       "<g id=\"node18\" class=\"node\">\n",
       "<title>17</title>\n",
       "<text text-anchor=\"middle\" x=\"408\" y=\"-14.3\" font-family=\"Courier,monospace\" font-size=\"14.00\" fill=\"#008040\">&quot;range&quot;</text>\n",
       "</g>\n",
       "<!-- 16&#45;&#45;17 -->\n",
       "<g id=\"edge17\" class=\"edge\">\n",
       "<title>16--17</title>\n",
       "<path fill=\"none\" stroke=\"black\" d=\"M482,-71C482,-71 453.81,-51.19 432.23,-36.03\"/>\n",
       "</g>\n",
       "<!-- 18 -->\n",
       "<g id=\"node19\" class=\"node\">\n",
       "<title>18</title>\n",
       "<text text-anchor=\"middle\" x=\"490\" y=\"-14.3\" font-family=\"Courier,monospace\" font-size=\"14.00\" fill=\"#008040\">Load</text>\n",
       "</g>\n",
       "<!-- 16&#45;&#45;18 -->\n",
       "<g id=\"edge18\" class=\"edge\">\n",
       "<title>16--18</title>\n",
       "<path fill=\"none\" stroke=\"black\" d=\"M482,-71C482,-71 485.05,-51.19 487.38,-36.03\"/>\n",
       "</g>\n",
       "<!-- 20 -->\n",
       "<g id=\"node21\" class=\"node\">\n",
       "<title>20</title>\n",
       "<text text-anchor=\"middle\" x=\"562\" y=\"-14.3\" font-family=\"Courier,monospace\" font-size=\"14.00\" fill=\"#008040\">1</text>\n",
       "</g>\n",
       "<!-- 19&#45;&#45;20 -->\n",
       "<g id=\"edge20\" class=\"edge\">\n",
       "<title>19--20</title>\n",
       "<path fill=\"none\" stroke=\"black\" d=\"M573.29,-71.7C570.97,-60.85 567.98,-46.92 565.67,-36.1\"/>\n",
       "</g>\n",
       "<!-- 22 -->\n",
       "<g id=\"node23\" class=\"node\">\n",
       "<title>22</title>\n",
       "<text text-anchor=\"middle\" x=\"634\" y=\"-14.3\" font-family=\"Courier,monospace\" font-size=\"14.00\" fill=\"#008040\">&quot;n&quot;</text>\n",
       "</g>\n",
       "<!-- 21&#45;&#45;22 -->\n",
       "<g id=\"edge22\" class=\"edge\">\n",
       "<title>21--22</title>\n",
       "<path fill=\"none\" stroke=\"black\" d=\"M665,-71C665,-71 653.19,-51.19 644.15,-36.03\"/>\n",
       "</g>\n",
       "<!-- 23 -->\n",
       "<g id=\"node24\" class=\"node\">\n",
       "<title>23</title>\n",
       "<text text-anchor=\"middle\" x=\"706\" y=\"-14.3\" font-family=\"Courier,monospace\" font-size=\"14.00\" fill=\"#008040\">Load</text>\n",
       "</g>\n",
       "<!-- 21&#45;&#45;23 -->\n",
       "<g id=\"edge23\" class=\"edge\">\n",
       "<title>21--23</title>\n",
       "<path fill=\"none\" stroke=\"black\" d=\"M665,-71C665,-71 680.62,-51.19 692.58,-36.03\"/>\n",
       "</g>\n",
       "<!-- 25 -->\n",
       "<g id=\"node26\" class=\"node\">\n",
       "<title>25</title>\n",
       "<text text-anchor=\"start\" x=\"765\" y=\"-87.3\" font-family=\"Courier,monospace\" font-weight=\"bold\" font-size=\"14.00\" fill=\"#004080\">Name</text>\n",
       "</g>\n",
       "<!-- 24&#45;&#45;25 -->\n",
       "<g id=\"edge25\" class=\"edge\">\n",
       "<title>24--25</title>\n",
       "<path fill=\"none\" stroke=\"black\" d=\"M824,-143C824,-143 808,-123.19 795.75,-108.03\"/>\n",
       "</g>\n",
       "<!-- 28 -->\n",
       "<g id=\"node29\" class=\"node\">\n",
       "<title>28</title>\n",
       "<text text-anchor=\"middle\" x=\"854\" y=\"-86.3\" font-family=\"Courier,monospace\" font-size=\"14.00\" fill=\"#008040\">Mult</text>\n",
       "</g>\n",
       "<!-- 24&#45;&#45;28 -->\n",
       "<g id=\"edge28\" class=\"edge\">\n",
       "<title>24--28</title>\n",
       "<path fill=\"none\" stroke=\"black\" d=\"M824,-143C824,-143 835.43,-123.19 844.18,-108.03\"/>\n",
       "</g>\n",
       "<!-- 29 -->\n",
       "<g id=\"node30\" class=\"node\">\n",
       "<title>29</title>\n",
       "<text text-anchor=\"start\" x=\"912\" y=\"-87.3\" font-family=\"Courier,monospace\" font-weight=\"bold\" font-size=\"14.00\" fill=\"#004080\">Name</text>\n",
       "</g>\n",
       "<!-- 24&#45;&#45;29 -->\n",
       "<g id=\"edge29\" class=\"edge\">\n",
       "<title>24--29</title>\n",
       "<path fill=\"none\" stroke=\"black\" d=\"M824,-143C824,-143 870.85,-119.8 901.96,-104.39\"/>\n",
       "</g>\n",
       "<!-- 26 -->\n",
       "<g id=\"node27\" class=\"node\">\n",
       "<title>26</title>\n",
       "<text text-anchor=\"middle\" x=\"780\" y=\"-14.3\" font-family=\"Courier,monospace\" font-size=\"14.00\" fill=\"#008040\">&quot;res&quot;</text>\n",
       "</g>\n",
       "<!-- 25&#45;&#45;26 -->\n",
       "<g id=\"edge26\" class=\"edge\">\n",
       "<title>25--26</title>\n",
       "<path fill=\"none\" stroke=\"black\" d=\"M789,-71C789,-71 785.57,-51.19 782.95,-36.03\"/>\n",
       "</g>\n",
       "<!-- 27 -->\n",
       "<g id=\"node28\" class=\"node\">\n",
       "<title>27</title>\n",
       "<text text-anchor=\"middle\" x=\"856\" y=\"-14.3\" font-family=\"Courier,monospace\" font-size=\"14.00\" fill=\"#008040\">Store</text>\n",
       "</g>\n",
       "<!-- 25&#45;&#45;27 -->\n",
       "<g id=\"edge27\" class=\"edge\">\n",
       "<title>25--27</title>\n",
       "<path fill=\"none\" stroke=\"black\" d=\"M789,-71C789,-71 814.52,-51.19 834.06,-36.03\"/>\n",
       "</g>\n",
       "<!-- 30 -->\n",
       "<g id=\"node31\" class=\"node\">\n",
       "<title>30</title>\n",
       "<text text-anchor=\"middle\" x=\"930\" y=\"-14.3\" font-family=\"Courier,monospace\" font-size=\"14.00\" fill=\"#008040\">&quot;i&quot;</text>\n",
       "</g>\n",
       "<!-- 29&#45;&#45;30 -->\n",
       "<g id=\"edge30\" class=\"edge\">\n",
       "<title>29--30</title>\n",
       "<path fill=\"none\" stroke=\"black\" d=\"M937,-71C937,-71 934.33,-51.19 932.29,-36.03\"/>\n",
       "</g>\n",
       "<!-- 31 -->\n",
       "<g id=\"node32\" class=\"node\">\n",
       "<title>31</title>\n",
       "<text text-anchor=\"middle\" x=\"1002\" y=\"-14.3\" font-family=\"Courier,monospace\" font-size=\"14.00\" fill=\"#008040\">Load</text>\n",
       "</g>\n",
       "<!-- 29&#45;&#45;31 -->\n",
       "<g id=\"edge31\" class=\"edge\">\n",
       "<title>29--31</title>\n",
       "<path fill=\"none\" stroke=\"black\" d=\"M937,-71C937,-71 961.76,-51.19 980.72,-36.03\"/>\n",
       "</g>\n",
       "<!-- 33 -->\n",
       "<g id=\"node34\" class=\"node\">\n",
       "<title>33</title>\n",
       "<text text-anchor=\"start\" x=\"986\" y=\"-159.3\" font-family=\"Courier,monospace\" font-weight=\"bold\" font-size=\"14.00\" fill=\"#004080\">Name</text>\n",
       "</g>\n",
       "<!-- 32&#45;&#45;33 -->\n",
       "<g id=\"edge33\" class=\"edge\">\n",
       "<title>32--33</title>\n",
       "<path fill=\"none\" stroke=\"black\" d=\"M819.43,-222.22C862.35,-208.37 936,-184.61 975.72,-171.8\"/>\n",
       "</g>\n",
       "<!-- 34 -->\n",
       "<g id=\"node35\" class=\"node\">\n",
       "<title>34</title>\n",
       "<text text-anchor=\"middle\" x=\"1003\" y=\"-86.3\" font-family=\"Courier,monospace\" font-size=\"14.00\" fill=\"#008040\">&quot;res&quot;</text>\n",
       "</g>\n",
       "<!-- 33&#45;&#45;34 -->\n",
       "<g id=\"edge34\" class=\"edge\">\n",
       "<title>33--34</title>\n",
       "<path fill=\"none\" stroke=\"black\" d=\"M1011,-143C1011,-143 1007.95,-123.19 1005.62,-108.03\"/>\n",
       "</g>\n",
       "<!-- 35 -->\n",
       "<g id=\"node36\" class=\"node\">\n",
       "<title>35</title>\n",
       "<text text-anchor=\"middle\" x=\"1077\" y=\"-86.3\" font-family=\"Courier,monospace\" font-size=\"14.00\" fill=\"#008040\">Load</text>\n",
       "</g>\n",
       "<!-- 33&#45;&#45;35 -->\n",
       "<g id=\"edge35\" class=\"edge\">\n",
       "<title>33--35</title>\n",
       "<path fill=\"none\" stroke=\"black\" d=\"M1011,-143C1011,-143 1036.14,-123.19 1055.39,-108.03\"/>\n",
       "</g>\n",
       "</g>\n",
       "</svg>"
      ],
      "text/plain": [
       "<IPython.core.display.SVG object>"
      ]
     },
     "metadata": {},
     "output_type": "display_data"
    }
   ],
   "source": [
    "show_ast(ast.parse(inspect.getsource(factorial1)))"
   ]
  },
  {
   "cell_type": "code",
   "execution_count": 65,
   "metadata": {},
   "outputs": [
    {
     "data": {
      "image/svg+xml": [
       "<svg xmlns=\"http://www.w3.org/2000/svg\" xmlns:xlink=\"http://www.w3.org/1999/xlink\" width=\"1187pt\" height=\"404pt\" viewBox=\"0.00 0.00 1187.00 404.00\">\n",
       "<g id=\"graph0\" class=\"graph\" transform=\"scale(1 1) rotate(0) translate(4 400)\">\n",
       "<title>%3</title>\n",
       "<polygon fill=\"white\" stroke=\"transparent\" points=\"-4,4 -4,-400 1183,-400 1183,4 -4,4\"/>\n",
       "<!-- 0 -->\n",
       "<g id=\"node1\" class=\"node\">\n",
       "<title>0</title>\n",
       "<text text-anchor=\"start\" x=\"280\" y=\"-375.3\" font-family=\"Courier,monospace\" font-weight=\"bold\" font-size=\"14.00\" fill=\"#004080\">FunctionDef</text>\n",
       "</g>\n",
       "<!-- 1 -->\n",
       "<g id=\"node2\" class=\"node\">\n",
       "<title>1</title>\n",
       "<text text-anchor=\"middle\" x=\"82.5\" y=\"-302.3\" font-family=\"Courier,monospace\" font-size=\"14.00\" fill=\"#008040\">&quot;fixed_factorial1&quot;</text>\n",
       "</g>\n",
       "<!-- 0&#45;&#45;1 -->\n",
       "<g id=\"edge1\" class=\"edge\">\n",
       "<title>0--1</title>\n",
       "<path fill=\"none\" stroke=\"black\" d=\"M326.5,-359C326.5,-359 233.56,-339.19 162.39,-324.03\"/>\n",
       "</g>\n",
       "<!-- 2 -->\n",
       "<g id=\"node3\" class=\"node\">\n",
       "<title>2</title>\n",
       "<text text-anchor=\"start\" x=\"191\" y=\"-303.3\" font-family=\"Courier,monospace\" font-weight=\"bold\" font-size=\"14.00\" fill=\"#004080\">arguments</text>\n",
       "</g>\n",
       "<!-- 0&#45;&#45;2 -->\n",
       "<g id=\"edge2\" class=\"edge\">\n",
       "<title>0--2</title>\n",
       "<path fill=\"none\" stroke=\"black\" d=\"M326.5,-359C326.5,-359 289.17,-339.19 260.59,-324.03\"/>\n",
       "</g>\n",
       "<!-- 5 -->\n",
       "<g id=\"node6\" class=\"node\">\n",
       "<title>5</title>\n",
       "<text text-anchor=\"start\" x=\"300.5\" y=\"-303.3\" font-family=\"Courier,monospace\" font-weight=\"bold\" font-size=\"14.00\" fill=\"#004080\">Assign</text>\n",
       "</g>\n",
       "<!-- 0&#45;&#45;5 -->\n",
       "<g id=\"edge5\" class=\"edge\">\n",
       "<title>0--5</title>\n",
       "<path fill=\"none\" stroke=\"black\" d=\"M326.5,-359C326.5,-359 326.12,-339.19 325.83,-324.03\"/>\n",
       "</g>\n",
       "<!-- 11 -->\n",
       "<g id=\"node12\" class=\"node\">\n",
       "<title>11</title>\n",
       "<text text-anchor=\"start\" x=\"489\" y=\"-303.3\" font-family=\"Courier,monospace\" font-weight=\"bold\" font-size=\"14.00\" fill=\"#004080\">For</text>\n",
       "</g>\n",
       "<!-- 0&#45;&#45;11 -->\n",
       "<g id=\"edge11\" class=\"edge\">\n",
       "<title>0--11</title>\n",
       "<path fill=\"none\" stroke=\"black\" d=\"M326.5,-359C326.5,-359 424.94,-329.75 474.16,-315.12\"/>\n",
       "</g>\n",
       "<!-- 36 -->\n",
       "<g id=\"node37\" class=\"node\">\n",
       "<title>36</title>\n",
       "<text text-anchor=\"start\" x=\"810.5\" y=\"-303.3\" font-family=\"Courier,monospace\" font-weight=\"bold\" font-size=\"14.00\" fill=\"#004080\">Return</text>\n",
       "</g>\n",
       "<!-- 0&#45;&#45;36 -->\n",
       "<g id=\"edge36\" class=\"edge\">\n",
       "<title>0--36</title>\n",
       "<path fill=\"none\" stroke=\"black\" d=\"M326.5,-359C326.5,-359 689.7,-321.89 802.5,-310.37\"/>\n",
       "</g>\n",
       "<!-- 3 -->\n",
       "<g id=\"node4\" class=\"node\">\n",
       "<title>3</title>\n",
       "<text text-anchor=\"start\" x=\"115\" y=\"-231.3\" font-family=\"Courier,monospace\" font-weight=\"bold\" font-size=\"14.00\" fill=\"#004080\">arg</text>\n",
       "</g>\n",
       "<!-- 2&#45;&#45;3 -->\n",
       "<g id=\"edge3\" class=\"edge\">\n",
       "<title>2--3</title>\n",
       "<path fill=\"none\" stroke=\"black\" d=\"M203.79,-287.88C188.14,-277.03 167.97,-263.05 152.3,-252.19\"/>\n",
       "</g>\n",
       "<!-- 4 -->\n",
       "<g id=\"node5\" class=\"node\">\n",
       "<title>4</title>\n",
       "<text text-anchor=\"middle\" x=\"94.5\" y=\"-158.3\" font-family=\"Courier,monospace\" font-size=\"14.00\" fill=\"#008040\">&quot;n&quot;</text>\n",
       "</g>\n",
       "<!-- 3&#45;&#45;4 -->\n",
       "<g id=\"edge4\" class=\"edge\">\n",
       "<title>3--4</title>\n",
       "<path fill=\"none\" stroke=\"black\" d=\"M119.34,-215.7C114.23,-204.85 107.66,-190.92 102.56,-180.1\"/>\n",
       "</g>\n",
       "<!-- 6 -->\n",
       "<g id=\"node7\" class=\"node\">\n",
       "<title>6</title>\n",
       "<text text-anchor=\"start\" x=\"221.5\" y=\"-231.3\" font-family=\"Courier,monospace\" font-weight=\"bold\" font-size=\"14.00\" fill=\"#004080\">Name</text>\n",
       "</g>\n",
       "<!-- 5&#45;&#45;6 -->\n",
       "<g id=\"edge6\" class=\"edge\">\n",
       "<title>5--6</title>\n",
       "<path fill=\"none\" stroke=\"black\" d=\"M316.5,-287C316.5,-287 286.79,-267.19 264.04,-252.03\"/>\n",
       "</g>\n",
       "<!-- 9 -->\n",
       "<g id=\"node10\" class=\"node\">\n",
       "<title>9</title>\n",
       "<text text-anchor=\"start\" x=\"292\" y=\"-231.3\" font-family=\"Courier,monospace\" font-weight=\"bold\" font-size=\"14.00\" fill=\"#004080\">Constant</text>\n",
       "</g>\n",
       "<!-- 5&#45;&#45;9 -->\n",
       "<g id=\"edge9\" class=\"edge\">\n",
       "<title>5--9</title>\n",
       "<path fill=\"none\" stroke=\"black\" d=\"M316.5,-287C316.5,-287 319.93,-267.19 322.55,-252.03\"/>\n",
       "</g>\n",
       "<!-- 7 -->\n",
       "<g id=\"node8\" class=\"node\">\n",
       "<title>7</title>\n",
       "<text text-anchor=\"middle\" x=\"168.5\" y=\"-158.3\" font-family=\"Courier,monospace\" font-size=\"14.00\" fill=\"#008040\">&quot;res&quot;</text>\n",
       "</g>\n",
       "<!-- 6&#45;&#45;7 -->\n",
       "<g id=\"edge7\" class=\"edge\">\n",
       "<title>6--7</title>\n",
       "<path fill=\"none\" stroke=\"black\" d=\"M232.5,-215C232.5,-215 208.12,-195.19 189.46,-180.03\"/>\n",
       "</g>\n",
       "<!-- 8 -->\n",
       "<g id=\"node9\" class=\"node\">\n",
       "<title>8</title>\n",
       "<text text-anchor=\"middle\" x=\"244.5\" y=\"-158.3\" font-family=\"Courier,monospace\" font-size=\"14.00\" fill=\"#008040\">Store</text>\n",
       "</g>\n",
       "<!-- 6&#45;&#45;8 -->\n",
       "<g id=\"edge8\" class=\"edge\">\n",
       "<title>6--8</title>\n",
       "<path fill=\"none\" stroke=\"black\" d=\"M232.5,-215C232.5,-215 237.07,-195.19 240.57,-180.03\"/>\n",
       "</g>\n",
       "<!-- 10 -->\n",
       "<g id=\"node11\" class=\"node\">\n",
       "<title>10</title>\n",
       "<text text-anchor=\"middle\" x=\"318.5\" y=\"-158.3\" font-family=\"Courier,monospace\" font-size=\"14.00\" fill=\"#008040\">1</text>\n",
       "</g>\n",
       "<!-- 9&#45;&#45;10 -->\n",
       "<g id=\"edge10\" class=\"edge\">\n",
       "<title>9--10</title>\n",
       "<path fill=\"none\" stroke=\"black\" d=\"M323.77,-215.7C322.68,-204.85 321.29,-190.92 320.21,-180.1\"/>\n",
       "</g>\n",
       "<!-- 12 -->\n",
       "<g id=\"node13\" class=\"node\">\n",
       "<title>12</title>\n",
       "<text text-anchor=\"start\" x=\"447.5\" y=\"-231.3\" font-family=\"Courier,monospace\" font-weight=\"bold\" font-size=\"14.00\" fill=\"#004080\">Name</text>\n",
       "</g>\n",
       "<!-- 11&#45;&#45;12 -->\n",
       "<g id=\"edge12\" class=\"edge\">\n",
       "<title>11--12</title>\n",
       "<path fill=\"none\" stroke=\"black\" d=\"M514.5,-287C514.5,-287 495.45,-267.19 480.87,-252.03\"/>\n",
       "</g>\n",
       "<!-- 15 -->\n",
       "<g id=\"node16\" class=\"node\">\n",
       "<title>15</title>\n",
       "<text text-anchor=\"start\" x=\"564.5\" y=\"-231.3\" font-family=\"Courier,monospace\" font-weight=\"bold\" font-size=\"14.00\" fill=\"#004080\">Call</text>\n",
       "</g>\n",
       "<!-- 11&#45;&#45;15 -->\n",
       "<g id=\"edge15\" class=\"edge\">\n",
       "<title>11--15</title>\n",
       "<path fill=\"none\" stroke=\"black\" d=\"M514.5,-287C514.5,-287 540.02,-267.19 559.56,-252.03\"/>\n",
       "</g>\n",
       "<!-- 24 -->\n",
       "<g id=\"node25\" class=\"node\">\n",
       "<title>24</title>\n",
       "<text text-anchor=\"start\" x=\"829\" y=\"-231.3\" font-family=\"Courier,monospace\" font-weight=\"bold\" font-size=\"14.00\" fill=\"#004080\">AugAssign</text>\n",
       "</g>\n",
       "<!-- 11&#45;&#45;24 -->\n",
       "<g id=\"edge24\" class=\"edge\">\n",
       "<title>11--24</title>\n",
       "<path fill=\"none\" stroke=\"black\" d=\"M514.5,-287C514.5,-287 725.6,-255.81 820.84,-241.74\"/>\n",
       "</g>\n",
       "<!-- 13 -->\n",
       "<g id=\"node14\" class=\"node\">\n",
       "<title>13</title>\n",
       "<text text-anchor=\"middle\" x=\"390.5\" y=\"-158.3\" font-family=\"Courier,monospace\" font-size=\"14.00\" fill=\"#008040\">&quot;i&quot;</text>\n",
       "</g>\n",
       "<!-- 12&#45;&#45;13 -->\n",
       "<g id=\"edge13\" class=\"edge\">\n",
       "<title>12--13</title>\n",
       "<path fill=\"none\" stroke=\"black\" d=\"M456.5,-215C456.5,-215 431.36,-195.19 412.11,-180.03\"/>\n",
       "</g>\n",
       "<!-- 14 -->\n",
       "<g id=\"node15\" class=\"node\">\n",
       "<title>14</title>\n",
       "<text text-anchor=\"middle\" x=\"464.5\" y=\"-158.3\" font-family=\"Courier,monospace\" font-size=\"14.00\" fill=\"#008040\">Store</text>\n",
       "</g>\n",
       "<!-- 12&#45;&#45;14 -->\n",
       "<g id=\"edge14\" class=\"edge\">\n",
       "<title>12--14</title>\n",
       "<path fill=\"none\" stroke=\"black\" d=\"M456.5,-215C456.5,-215 459.55,-195.19 461.88,-180.03\"/>\n",
       "</g>\n",
       "<!-- 16 -->\n",
       "<g id=\"node17\" class=\"node\">\n",
       "<title>16</title>\n",
       "<text text-anchor=\"start\" x=\"521.5\" y=\"-159.3\" font-family=\"Courier,monospace\" font-weight=\"bold\" font-size=\"14.00\" fill=\"#004080\">Name</text>\n",
       "</g>\n",
       "<!-- 15&#45;&#45;16 -->\n",
       "<g id=\"edge16\" class=\"edge\">\n",
       "<title>15--16</title>\n",
       "<path fill=\"none\" stroke=\"black\" d=\"M588.5,-215C588.5,-215 569.45,-195.19 554.87,-180.03\"/>\n",
       "</g>\n",
       "<!-- 19 -->\n",
       "<g id=\"node20\" class=\"node\">\n",
       "<title>19</title>\n",
       "<text text-anchor=\"start\" x=\"592\" y=\"-159.3\" font-family=\"Courier,monospace\" font-weight=\"bold\" font-size=\"14.00\" fill=\"#004080\">Constant</text>\n",
       "</g>\n",
       "<!-- 15&#45;&#45;19 -->\n",
       "<g id=\"edge19\" class=\"edge\">\n",
       "<title>15--19</title>\n",
       "<path fill=\"none\" stroke=\"black\" d=\"M588.5,-215C588.5,-215 602.59,-195.19 613.38,-180.03\"/>\n",
       "</g>\n",
       "<!-- 21 -->\n",
       "<g id=\"node22\" class=\"node\">\n",
       "<title>21</title>\n",
       "<text text-anchor=\"start\" x=\"695.5\" y=\"-159.3\" font-family=\"Courier,monospace\" font-weight=\"bold\" font-size=\"14.00\" fill=\"#004080\">Name</text>\n",
       "</g>\n",
       "<!-- 15&#45;&#45;21 -->\n",
       "<g id=\"edge21\" class=\"edge\">\n",
       "<title>15--21</title>\n",
       "<path fill=\"none\" stroke=\"black\" d=\"M588.5,-215C588.5,-215 637.22,-196.48 675.5,-180 678.75,-178.6 682.14,-177.1 685.49,-175.59\"/>\n",
       "</g>\n",
       "<!-- 17 -->\n",
       "<g id=\"node18\" class=\"node\">\n",
       "<title>17</title>\n",
       "<text text-anchor=\"middle\" x=\"456.5\" y=\"-86.3\" font-family=\"Courier,monospace\" font-size=\"14.00\" fill=\"#008040\">&quot;range&quot;</text>\n",
       "</g>\n",
       "<!-- 16&#45;&#45;17 -->\n",
       "<g id=\"edge17\" class=\"edge\">\n",
       "<title>16--17</title>\n",
       "<path fill=\"none\" stroke=\"black\" d=\"M530.5,-143C530.5,-143 502.31,-123.19 480.73,-108.03\"/>\n",
       "</g>\n",
       "<!-- 18 -->\n",
       "<g id=\"node19\" class=\"node\">\n",
       "<title>18</title>\n",
       "<text text-anchor=\"middle\" x=\"538.5\" y=\"-86.3\" font-family=\"Courier,monospace\" font-size=\"14.00\" fill=\"#008040\">Load</text>\n",
       "</g>\n",
       "<!-- 16&#45;&#45;18 -->\n",
       "<g id=\"edge18\" class=\"edge\">\n",
       "<title>16--18</title>\n",
       "<path fill=\"none\" stroke=\"black\" d=\"M530.5,-143C530.5,-143 533.55,-123.19 535.88,-108.03\"/>\n",
       "</g>\n",
       "<!-- 20 -->\n",
       "<g id=\"node21\" class=\"node\">\n",
       "<title>20</title>\n",
       "<text text-anchor=\"middle\" x=\"610.5\" y=\"-86.3\" font-family=\"Courier,monospace\" font-size=\"14.00\" fill=\"#008040\">1</text>\n",
       "</g>\n",
       "<!-- 19&#45;&#45;20 -->\n",
       "<g id=\"edge20\" class=\"edge\">\n",
       "<title>19--20</title>\n",
       "<path fill=\"none\" stroke=\"black\" d=\"M621.79,-143.7C619.47,-132.85 616.48,-118.92 614.17,-108.1\"/>\n",
       "</g>\n",
       "<!-- 22 -->\n",
       "<g id=\"node23\" class=\"node\">\n",
       "<title>22</title>\n",
       "<text text-anchor=\"middle\" x=\"682.5\" y=\"-86.3\" font-family=\"Courier,monospace\" font-size=\"14.00\" fill=\"#008040\">&quot;n&quot;</text>\n",
       "</g>\n",
       "<!-- 21&#45;&#45;22 -->\n",
       "<g id=\"edge22\" class=\"edge\">\n",
       "<title>21--22</title>\n",
       "<path fill=\"none\" stroke=\"black\" d=\"M713.5,-143C713.5,-143 701.69,-123.19 692.65,-108.03\"/>\n",
       "</g>\n",
       "<!-- 23 -->\n",
       "<g id=\"node24\" class=\"node\">\n",
       "<title>23</title>\n",
       "<text text-anchor=\"middle\" x=\"754.5\" y=\"-86.3\" font-family=\"Courier,monospace\" font-size=\"14.00\" fill=\"#008040\">Load</text>\n",
       "</g>\n",
       "<!-- 21&#45;&#45;23 -->\n",
       "<g id=\"edge23\" class=\"edge\">\n",
       "<title>21--23</title>\n",
       "<path fill=\"none\" stroke=\"black\" d=\"M713.5,-143C713.5,-143 729.12,-123.19 741.08,-108.03\"/>\n",
       "</g>\n",
       "<!-- 25 -->\n",
       "<g id=\"node26\" class=\"node\">\n",
       "<title>25</title>\n",
       "<text text-anchor=\"start\" x=\"813.5\" y=\"-159.3\" font-family=\"Courier,monospace\" font-weight=\"bold\" font-size=\"14.00\" fill=\"#004080\">Name</text>\n",
       "</g>\n",
       "<!-- 24&#45;&#45;25 -->\n",
       "<g id=\"edge25\" class=\"edge\">\n",
       "<title>24--25</title>\n",
       "<path fill=\"none\" stroke=\"black\" d=\"M873.5,-215C873.5,-215 857.12,-195.19 844.58,-180.03\"/>\n",
       "</g>\n",
       "<!-- 28 -->\n",
       "<g id=\"node29\" class=\"node\">\n",
       "<title>28</title>\n",
       "<text text-anchor=\"middle\" x=\"902.5\" y=\"-158.3\" font-family=\"Courier,monospace\" font-size=\"14.00\" fill=\"#008040\">Mult</text>\n",
       "</g>\n",
       "<!-- 24&#45;&#45;28 -->\n",
       "<g id=\"edge28\" class=\"edge\">\n",
       "<title>24--28</title>\n",
       "<path fill=\"none\" stroke=\"black\" d=\"M873.5,-215C873.5,-215 884.55,-195.19 893,-180.03\"/>\n",
       "</g>\n",
       "<!-- 29 -->\n",
       "<g id=\"node30\" class=\"node\">\n",
       "<title>29</title>\n",
       "<text text-anchor=\"start\" x=\"957.5\" y=\"-159.3\" font-family=\"Courier,monospace\" font-weight=\"bold\" font-size=\"14.00\" fill=\"#004080\">BinOp</text>\n",
       "</g>\n",
       "<!-- 24&#45;&#45;29 -->\n",
       "<g id=\"edge29\" class=\"edge\">\n",
       "<title>24--29</title>\n",
       "<path fill=\"none\" stroke=\"black\" d=\"M873.5,-215C873.5,-215 918.18,-192.87 949.25,-177.48\"/>\n",
       "</g>\n",
       "<!-- 26 -->\n",
       "<g id=\"node27\" class=\"node\">\n",
       "<title>26</title>\n",
       "<text text-anchor=\"middle\" x=\"828.5\" y=\"-86.3\" font-family=\"Courier,monospace\" font-size=\"14.00\" fill=\"#008040\">&quot;res&quot;</text>\n",
       "</g>\n",
       "<!-- 25&#45;&#45;26 -->\n",
       "<g id=\"edge26\" class=\"edge\">\n",
       "<title>25--26</title>\n",
       "<path fill=\"none\" stroke=\"black\" d=\"M837.5,-143C837.5,-143 834.07,-123.19 831.45,-108.03\"/>\n",
       "</g>\n",
       "<!-- 27 -->\n",
       "<g id=\"node28\" class=\"node\">\n",
       "<title>27</title>\n",
       "<text text-anchor=\"middle\" x=\"904.5\" y=\"-86.3\" font-family=\"Courier,monospace\" font-size=\"14.00\" fill=\"#008040\">Store</text>\n",
       "</g>\n",
       "<!-- 25&#45;&#45;27 -->\n",
       "<g id=\"edge27\" class=\"edge\">\n",
       "<title>25--27</title>\n",
       "<path fill=\"none\" stroke=\"black\" d=\"M837.5,-143C837.5,-143 863.02,-123.19 882.56,-108.03\"/>\n",
       "</g>\n",
       "<!-- 30 -->\n",
       "<g id=\"node31\" class=\"node\">\n",
       "<title>30</title>\n",
       "<text text-anchor=\"start\" x=\"961.5\" y=\"-87.3\" font-family=\"Courier,monospace\" font-weight=\"bold\" font-size=\"14.00\" fill=\"#004080\">Name</text>\n",
       "</g>\n",
       "<!-- 29&#45;&#45;30 -->\n",
       "<g id=\"edge30\" class=\"edge\">\n",
       "<title>29--30</title>\n",
       "<path fill=\"none\" stroke=\"black\" d=\"M992.5,-143C992.5,-143 987.17,-123.19 983.08,-108.03\"/>\n",
       "</g>\n",
       "<!-- 33 -->\n",
       "<g id=\"node34\" class=\"node\">\n",
       "<title>33</title>\n",
       "<text text-anchor=\"middle\" x=\"1050.5\" y=\"-86.3\" font-family=\"Courier,monospace\" font-size=\"14.00\" fill=\"#008040\">Add</text>\n",
       "</g>\n",
       "<!-- 29&#45;&#45;33 -->\n",
       "<g id=\"edge33\" class=\"edge\">\n",
       "<title>29--33</title>\n",
       "<path fill=\"none\" stroke=\"black\" d=\"M992.5,-143C992.5,-143 1014.59,-123.19 1031.51,-108.03\"/>\n",
       "</g>\n",
       "<!-- 34 -->\n",
       "<g id=\"node35\" class=\"node\">\n",
       "<title>34</title>\n",
       "<text text-anchor=\"start\" x=\"1104\" y=\"-87.3\" font-family=\"Courier,monospace\" font-weight=\"bold\" font-size=\"14.00\" fill=\"#004080\">Constant</text>\n",
       "</g>\n",
       "<!-- 29&#45;&#45;34 -->\n",
       "<g id=\"edge34\" class=\"edge\">\n",
       "<title>29--34</title>\n",
       "<path fill=\"none\" stroke=\"black\" d=\"M992.5,-143C992.5,-143 1053.1,-121.27 1095.95,-105.9\"/>\n",
       "</g>\n",
       "<!-- 31 -->\n",
       "<g id=\"node32\" class=\"node\">\n",
       "<title>31</title>\n",
       "<text text-anchor=\"middle\" x=\"942.5\" y=\"-14.3\" font-family=\"Courier,monospace\" font-size=\"14.00\" fill=\"#008040\">&quot;i&quot;</text>\n",
       "</g>\n",
       "<!-- 30&#45;&#45;31 -->\n",
       "<g id=\"edge31\" class=\"edge\">\n",
       "<title>30--31</title>\n",
       "<path fill=\"none\" stroke=\"black\" d=\"M978.5,-71C978.5,-71 964.79,-51.19 954.29,-36.03\"/>\n",
       "</g>\n",
       "<!-- 32 -->\n",
       "<g id=\"node33\" class=\"node\">\n",
       "<title>32</title>\n",
       "<text text-anchor=\"middle\" x=\"1014.5\" y=\"-14.3\" font-family=\"Courier,monospace\" font-size=\"14.00\" fill=\"#008040\">Load</text>\n",
       "</g>\n",
       "<!-- 30&#45;&#45;32 -->\n",
       "<g id=\"edge32\" class=\"edge\">\n",
       "<title>30--32</title>\n",
       "<path fill=\"none\" stroke=\"black\" d=\"M978.5,-71C978.5,-71 992.21,-51.19 1002.71,-36.03\"/>\n",
       "</g>\n",
       "<!-- 35 -->\n",
       "<g id=\"node36\" class=\"node\">\n",
       "<title>35</title>\n",
       "<text text-anchor=\"middle\" x=\"1137.5\" y=\"-14.3\" font-family=\"Courier,monospace\" font-size=\"14.00\" fill=\"#008040\">1</text>\n",
       "</g>\n",
       "<!-- 34&#45;&#45;35 -->\n",
       "<g id=\"edge35\" class=\"edge\">\n",
       "<title>34--35</title>\n",
       "<path fill=\"none\" stroke=\"black\" d=\"M1137.5,-71.7C1137.5,-60.85 1137.5,-46.92 1137.5,-36.1\"/>\n",
       "</g>\n",
       "<!-- 37 -->\n",
       "<g id=\"node38\" class=\"node\">\n",
       "<title>37</title>\n",
       "<text text-anchor=\"start\" x=\"1037.5\" y=\"-231.3\" font-family=\"Courier,monospace\" font-weight=\"bold\" font-size=\"14.00\" fill=\"#004080\">Name</text>\n",
       "</g>\n",
       "<!-- 36&#45;&#45;37 -->\n",
       "<g id=\"edge37\" class=\"edge\">\n",
       "<title>36--37</title>\n",
       "<path fill=\"none\" stroke=\"black\" d=\"M868.76,-294.37C912.08,-280.52 986.99,-256.58 1027.17,-243.74\"/>\n",
       "</g>\n",
       "<!-- 38 -->\n",
       "<g id=\"node39\" class=\"node\">\n",
       "<title>38</title>\n",
       "<text text-anchor=\"middle\" x=\"1054.5\" y=\"-158.3\" font-family=\"Courier,monospace\" font-size=\"14.00\" fill=\"#008040\">&quot;res&quot;</text>\n",
       "</g>\n",
       "<!-- 37&#45;&#45;38 -->\n",
       "<g id=\"edge38\" class=\"edge\">\n",
       "<title>37--38</title>\n",
       "<path fill=\"none\" stroke=\"black\" d=\"M1062.5,-215C1062.5,-215 1059.45,-195.19 1057.12,-180.03\"/>\n",
       "</g>\n",
       "<!-- 39 -->\n",
       "<g id=\"node40\" class=\"node\">\n",
       "<title>39</title>\n",
       "<text text-anchor=\"middle\" x=\"1128.5\" y=\"-158.3\" font-family=\"Courier,monospace\" font-size=\"14.00\" fill=\"#008040\">Load</text>\n",
       "</g>\n",
       "<!-- 37&#45;&#45;39 -->\n",
       "<g id=\"edge39\" class=\"edge\">\n",
       "<title>37--39</title>\n",
       "<path fill=\"none\" stroke=\"black\" d=\"M1062.5,-215C1062.5,-215 1087.64,-195.19 1106.89,-180.03\"/>\n",
       "</g>\n",
       "</g>\n",
       "</svg>"
      ],
      "text/plain": [
       "<IPython.core.display.SVG object>"
      ]
     },
     "metadata": {},
     "output_type": "display_data"
    }
   ],
   "source": [
    "show_ast(ast.parse(inspect.getsource(fixed_factorial1)))"
   ]
  },
  {
   "cell_type": "markdown",
   "metadata": {
    "slideshow": {
     "slide_type": "fragment"
    }
   },
   "source": [
    "From the first sight, `factorial1` looks to be correctly implemented, still it produces the wrong answer:"
   ]
  },
  {
   "cell_type": "code",
   "execution_count": 66,
   "metadata": {
    "slideshow": {
     "slide_type": "fragment"
    }
   },
   "outputs": [
    {
     "data": {
      "text/plain": [
       "24"
      ]
     },
     "execution_count": 66,
     "metadata": {},
     "output_type": "execute_result"
    }
   ],
   "source": [
    "factorial1(5)"
   ]
  },
  {
   "cell_type": "code",
   "execution_count": 67,
   "metadata": {},
   "outputs": [
    {
     "data": {
      "text/plain": [
       "120"
      ]
     },
     "execution_count": 67,
     "metadata": {},
     "output_type": "execute_result"
    }
   ],
   "source": [
    "fixed_factorial1(5)"
   ]
  },
  {
   "cell_type": "markdown",
   "metadata": {
    "slideshow": {
     "slide_type": "fragment"
    }
   },
   "source": [
    "while the correct value for 5! is 120."
   ]
  },
  {
   "cell_type": "code",
   "execution_count": 68,
   "metadata": {
    "slideshow": {
     "slide_type": "fragment"
    }
   },
   "outputs": [],
   "source": [
    "def factorial_testcase():\n",
    "    n = random.randrange(100)\n",
    "    return n"
   ]
  },
  {
   "cell_type": "code",
   "execution_count": 69,
   "metadata": {
    "slideshow": {
     "slide_type": "subslide"
    }
   },
   "outputs": [],
   "source": [
    "def factorial1_test(n):\n",
    "    m = factorial1(n)\n",
    "    assert m == math.factorial(n)"
   ]
  },
  {
   "cell_type": "code",
   "execution_count": 70,
   "metadata": {
    "slideshow": {
     "slide_type": "fragment"
    }
   },
   "outputs": [],
   "source": [
    "def factorial_passing_testcase():\n",
    "    while True:\n",
    "        try:\n",
    "            n = factorial_testcase()\n",
    "            _ = factorial1_test(n)\n",
    "            return (n,)\n",
    "        except AssertionError:\n",
    "            pass"
   ]
  },
  {
   "cell_type": "code",
   "execution_count": 71,
   "metadata": {
    "slideshow": {
     "slide_type": "subslide"
    }
   },
   "outputs": [],
   "source": [
    "def factorial_failing_testcase():\n",
    "    while True:\n",
    "        try:\n",
    "            n = factorial_testcase()\n",
    "            _ = factorial1_test(n)\n",
    "        except AssertionError:\n",
    "            return (n,)"
   ]
  },
  {
   "cell_type": "code",
   "execution_count": 72,
   "metadata": {
    "slideshow": {
     "slide_type": "fragment"
    }
   },
   "outputs": [],
   "source": [
    "FACTORIAL_PASSING_TESTCASES_1 = [factorial_passing_testcase() for i in range(TESTS)]"
   ]
  },
  {
   "cell_type": "code",
   "execution_count": 73,
   "metadata": {
    "slideshow": {
     "slide_type": "fragment"
    }
   },
   "outputs": [],
   "source": [
    "FACTORIAL_FAILING_TESTCASES_1 = [factorial_failing_testcase() for i in range(TESTS)]"
   ]
  },
  {
   "cell_type": "markdown",
   "metadata": {
    "slideshow": {
     "slide_type": "fragment"
    }
   },
   "source": [
    "As we can see, our simple Repairer cannot produce a fix. (Or more precisely, the \"fix\" it produces is pretty much pointless.)"
   ]
  },
  {
   "cell_type": "markdown",
   "metadata": {
    "slideshow": {
     "slide_type": "subslide"
    }
   },
   "source": [
    "repaired = debug_and_repair(factorial1,\n",
    "                            FACTORIAL_PASSING_TESTCASES_1 +\n",
    "                            FACTORIAL_FAILING_TESTCASES_1,\n",
    "                            factorial1_test, 2)"
   ]
  },
  {
   "cell_type": "markdown",
   "metadata": {
    "slideshow": {
     "slide_type": "subslide"
    }
   },
   "source": [
    "The problem is that the current `Repairer` does not provide a suitable mutation to change the right part of the code.\n",
    "\n",
    "How can we repair this? Consider extending `StatementMutator` operator such that it can mutate various parts of the code, such as ranges, arithmetic operations, variable names etc. (As a reference of how to do that, look at the `ConditionMutator` class.)"
   ]
  },
  {
   "cell_type": "markdown",
   "metadata": {
    "slideshow": {
     "slide_type": "fragment"
    }
   },
   "source": [
    "The next faulty function is `factorial2()`:"
   ]
  },
  {
   "cell_type": "code",
   "execution_count": 74,
   "metadata": {
    "slideshow": {
     "slide_type": "fragment"
    }
   },
   "outputs": [],
   "source": [
    "def factorial2(n): \n",
    "    i = 1\n",
    "    for i in range(1, n + 1):\n",
    "        i *= i\n",
    "    return i\n",
    "\n",
    "def fixed_factorial2(n): \n",
    "    i = 1\n",
    "    for x in range(1, n + 1):\n",
    "        i *= x\n",
    "    return i"
   ]
  },
  {
   "cell_type": "code",
   "execution_count": 75,
   "metadata": {},
   "outputs": [
    {
     "data": {
      "image/svg+xml": [
       "<svg xmlns=\"http://www.w3.org/2000/svg\" xmlns:xlink=\"http://www.w3.org/1999/xlink\" width=\"1196pt\" height=\"404pt\" viewBox=\"0.00 0.00 1196.00 404.00\">\n",
       "<g id=\"graph0\" class=\"graph\" transform=\"scale(1 1) rotate(0) translate(4 400)\">\n",
       "<title>%3</title>\n",
       "<polygon fill=\"white\" stroke=\"transparent\" points=\"-4,4 -4,-400 1192,-400 1192,4 -4,4\"/>\n",
       "<!-- 0 -->\n",
       "<g id=\"node1\" class=\"node\">\n",
       "<title>0</title>\n",
       "<text text-anchor=\"start\" x=\"231.5\" y=\"-375.3\" font-family=\"Courier,monospace\" font-weight=\"bold\" font-size=\"14.00\" fill=\"#004080\">FunctionDef</text>\n",
       "</g>\n",
       "<!-- 1 -->\n",
       "<g id=\"node2\" class=\"node\">\n",
       "<title>1</title>\n",
       "<text text-anchor=\"middle\" x=\"58\" y=\"-302.3\" font-family=\"Courier,monospace\" font-size=\"14.00\" fill=\"#008040\">&quot;factorial2&quot;</text>\n",
       "</g>\n",
       "<!-- 0&#45;&#45;1 -->\n",
       "<g id=\"edge1\" class=\"edge\">\n",
       "<title>0--1</title>\n",
       "<path fill=\"none\" stroke=\"black\" d=\"M278,-359C278,-359 192.81,-340.36 125,-324 122.08,-323.3 119.1,-322.57 116.08,-321.83\"/>\n",
       "</g>\n",
       "<!-- 2 -->\n",
       "<g id=\"node3\" class=\"node\">\n",
       "<title>2</title>\n",
       "<text text-anchor=\"start\" x=\"142.5\" y=\"-303.3\" font-family=\"Courier,monospace\" font-weight=\"bold\" font-size=\"14.00\" fill=\"#004080\">arguments</text>\n",
       "</g>\n",
       "<!-- 0&#45;&#45;2 -->\n",
       "<g id=\"edge2\" class=\"edge\">\n",
       "<title>0--2</title>\n",
       "<path fill=\"none\" stroke=\"black\" d=\"M278,-359C278,-359 240.67,-339.19 212.09,-324.03\"/>\n",
       "</g>\n",
       "<!-- 5 -->\n",
       "<g id=\"node6\" class=\"node\">\n",
       "<title>5</title>\n",
       "<text text-anchor=\"start\" x=\"252\" y=\"-303.3\" font-family=\"Courier,monospace\" font-weight=\"bold\" font-size=\"14.00\" fill=\"#004080\">Assign</text>\n",
       "</g>\n",
       "<!-- 0&#45;&#45;5 -->\n",
       "<g id=\"edge5\" class=\"edge\">\n",
       "<title>0--5</title>\n",
       "<path fill=\"none\" stroke=\"black\" d=\"M278,-359C278,-359 277.62,-339.19 277.33,-324.03\"/>\n",
       "</g>\n",
       "<!-- 11 -->\n",
       "<g id=\"node12\" class=\"node\">\n",
       "<title>11</title>\n",
       "<text text-anchor=\"start\" x=\"440.5\" y=\"-303.3\" font-family=\"Courier,monospace\" font-weight=\"bold\" font-size=\"14.00\" fill=\"#004080\">For</text>\n",
       "</g>\n",
       "<!-- 0&#45;&#45;11 -->\n",
       "<g id=\"edge11\" class=\"edge\">\n",
       "<title>0--11</title>\n",
       "<path fill=\"none\" stroke=\"black\" d=\"M278,-359C278,-359 376.44,-329.75 425.66,-315.12\"/>\n",
       "</g>\n",
       "<!-- 36 -->\n",
       "<g id=\"node37\" class=\"node\">\n",
       "<title>36</title>\n",
       "<text text-anchor=\"start\" x=\"798\" y=\"-303.3\" font-family=\"Courier,monospace\" font-weight=\"bold\" font-size=\"14.00\" fill=\"#004080\">Return</text>\n",
       "</g>\n",
       "<!-- 0&#45;&#45;36 -->\n",
       "<g id=\"edge36\" class=\"edge\">\n",
       "<title>0--36</title>\n",
       "<path fill=\"none\" stroke=\"black\" d=\"M278,-359C278,-359 671.4,-321.46 789.73,-310.17\"/>\n",
       "</g>\n",
       "<!-- 3 -->\n",
       "<g id=\"node4\" class=\"node\">\n",
       "<title>3</title>\n",
       "<text text-anchor=\"start\" x=\"68.5\" y=\"-231.3\" font-family=\"Courier,monospace\" font-weight=\"bold\" font-size=\"14.00\" fill=\"#004080\">arg</text>\n",
       "</g>\n",
       "<!-- 2&#45;&#45;3 -->\n",
       "<g id=\"edge3\" class=\"edge\">\n",
       "<title>2--3</title>\n",
       "<path fill=\"none\" stroke=\"black\" d=\"M155.78,-287.88C140.44,-277.03 120.67,-263.05 105.31,-252.19\"/>\n",
       "</g>\n",
       "<!-- 4 -->\n",
       "<g id=\"node5\" class=\"node\">\n",
       "<title>4</title>\n",
       "<text text-anchor=\"middle\" x=\"50\" y=\"-158.3\" font-family=\"Courier,monospace\" font-size=\"14.00\" fill=\"#008040\">&quot;n&quot;</text>\n",
       "</g>\n",
       "<!-- 3&#45;&#45;4 -->\n",
       "<g id=\"edge4\" class=\"edge\">\n",
       "<title>3--4</title>\n",
       "<path fill=\"none\" stroke=\"black\" d=\"M73.34,-215.7C68.53,-204.85 62.36,-190.92 57.57,-180.1\"/>\n",
       "</g>\n",
       "<!-- 6 -->\n",
       "<g id=\"node7\" class=\"node\">\n",
       "<title>6</title>\n",
       "<text text-anchor=\"start\" x=\"173\" y=\"-231.3\" font-family=\"Courier,monospace\" font-weight=\"bold\" font-size=\"14.00\" fill=\"#004080\">Name</text>\n",
       "</g>\n",
       "<!-- 5&#45;&#45;6 -->\n",
       "<g id=\"edge6\" class=\"edge\">\n",
       "<title>5--6</title>\n",
       "<path fill=\"none\" stroke=\"black\" d=\"M268,-287C268,-287 238.29,-267.19 215.54,-252.03\"/>\n",
       "</g>\n",
       "<!-- 9 -->\n",
       "<g id=\"node10\" class=\"node\">\n",
       "<title>9</title>\n",
       "<text text-anchor=\"start\" x=\"243.5\" y=\"-231.3\" font-family=\"Courier,monospace\" font-weight=\"bold\" font-size=\"14.00\" fill=\"#004080\">Constant</text>\n",
       "</g>\n",
       "<!-- 5&#45;&#45;9 -->\n",
       "<g id=\"edge9\" class=\"edge\">\n",
       "<title>5--9</title>\n",
       "<path fill=\"none\" stroke=\"black\" d=\"M268,-287C268,-287 271.43,-267.19 274.05,-252.03\"/>\n",
       "</g>\n",
       "<!-- 7 -->\n",
       "<g id=\"node8\" class=\"node\">\n",
       "<title>7</title>\n",
       "<text text-anchor=\"middle\" x=\"122\" y=\"-158.3\" font-family=\"Courier,monospace\" font-size=\"14.00\" fill=\"#008040\">&quot;i&quot;</text>\n",
       "</g>\n",
       "<!-- 6&#45;&#45;7 -->\n",
       "<g id=\"edge7\" class=\"edge\">\n",
       "<title>6--7</title>\n",
       "<path fill=\"none\" stroke=\"black\" d=\"M184,-215C184,-215 160.38,-195.19 142.3,-180.03\"/>\n",
       "</g>\n",
       "<!-- 8 -->\n",
       "<g id=\"node9\" class=\"node\">\n",
       "<title>8</title>\n",
       "<text text-anchor=\"middle\" x=\"196\" y=\"-158.3\" font-family=\"Courier,monospace\" font-size=\"14.00\" fill=\"#008040\">Store</text>\n",
       "</g>\n",
       "<!-- 6&#45;&#45;8 -->\n",
       "<g id=\"edge8\" class=\"edge\">\n",
       "<title>6--8</title>\n",
       "<path fill=\"none\" stroke=\"black\" d=\"M184,-215C184,-215 188.57,-195.19 192.07,-180.03\"/>\n",
       "</g>\n",
       "<!-- 10 -->\n",
       "<g id=\"node11\" class=\"node\">\n",
       "<title>10</title>\n",
       "<text text-anchor=\"middle\" x=\"270\" y=\"-158.3\" font-family=\"Courier,monospace\" font-size=\"14.00\" fill=\"#008040\">1</text>\n",
       "</g>\n",
       "<!-- 9&#45;&#45;10 -->\n",
       "<g id=\"edge10\" class=\"edge\">\n",
       "<title>9--10</title>\n",
       "<path fill=\"none\" stroke=\"black\" d=\"M275.27,-215.7C274.18,-204.85 272.79,-190.92 271.71,-180.1\"/>\n",
       "</g>\n",
       "<!-- 12 -->\n",
       "<g id=\"node13\" class=\"node\">\n",
       "<title>12</title>\n",
       "<text text-anchor=\"start\" x=\"399\" y=\"-231.3\" font-family=\"Courier,monospace\" font-weight=\"bold\" font-size=\"14.00\" fill=\"#004080\">Name</text>\n",
       "</g>\n",
       "<!-- 11&#45;&#45;12 -->\n",
       "<g id=\"edge12\" class=\"edge\">\n",
       "<title>11--12</title>\n",
       "<path fill=\"none\" stroke=\"black\" d=\"M466,-287C466,-287 446.95,-267.19 432.37,-252.03\"/>\n",
       "</g>\n",
       "<!-- 15 -->\n",
       "<g id=\"node16\" class=\"node\">\n",
       "<title>15</title>\n",
       "<text text-anchor=\"start\" x=\"516\" y=\"-231.3\" font-family=\"Courier,monospace\" font-weight=\"bold\" font-size=\"14.00\" fill=\"#004080\">Call</text>\n",
       "</g>\n",
       "<!-- 11&#45;&#45;15 -->\n",
       "<g id=\"edge15\" class=\"edge\">\n",
       "<title>11--15</title>\n",
       "<path fill=\"none\" stroke=\"black\" d=\"M466,-287C466,-287 491.52,-267.19 511.06,-252.03\"/>\n",
       "</g>\n",
       "<!-- 28 -->\n",
       "<g id=\"node29\" class=\"node\">\n",
       "<title>28</title>\n",
       "<text text-anchor=\"start\" x=\"869.5\" y=\"-231.3\" font-family=\"Courier,monospace\" font-weight=\"bold\" font-size=\"14.00\" fill=\"#004080\">AugAssign</text>\n",
       "</g>\n",
       "<!-- 11&#45;&#45;28 -->\n",
       "<g id=\"edge28\" class=\"edge\">\n",
       "<title>11--28</title>\n",
       "<path fill=\"none\" stroke=\"black\" d=\"M466,-287C466,-287 748.79,-253.65 861.47,-240.37\"/>\n",
       "</g>\n",
       "<!-- 13 -->\n",
       "<g id=\"node14\" class=\"node\">\n",
       "<title>13</title>\n",
       "<text text-anchor=\"middle\" x=\"342\" y=\"-158.3\" font-family=\"Courier,monospace\" font-size=\"14.00\" fill=\"#008040\">&quot;i&quot;</text>\n",
       "</g>\n",
       "<!-- 12&#45;&#45;13 -->\n",
       "<g id=\"edge13\" class=\"edge\">\n",
       "<title>12--13</title>\n",
       "<path fill=\"none\" stroke=\"black\" d=\"M408,-215C408,-215 382.86,-195.19 363.61,-180.03\"/>\n",
       "</g>\n",
       "<!-- 14 -->\n",
       "<g id=\"node15\" class=\"node\">\n",
       "<title>14</title>\n",
       "<text text-anchor=\"middle\" x=\"416\" y=\"-158.3\" font-family=\"Courier,monospace\" font-size=\"14.00\" fill=\"#008040\">Store</text>\n",
       "</g>\n",
       "<!-- 12&#45;&#45;14 -->\n",
       "<g id=\"edge14\" class=\"edge\">\n",
       "<title>12--14</title>\n",
       "<path fill=\"none\" stroke=\"black\" d=\"M408,-215C408,-215 411.05,-195.19 413.38,-180.03\"/>\n",
       "</g>\n",
       "<!-- 16 -->\n",
       "<g id=\"node17\" class=\"node\">\n",
       "<title>16</title>\n",
       "<text text-anchor=\"start\" x=\"473\" y=\"-159.3\" font-family=\"Courier,monospace\" font-weight=\"bold\" font-size=\"14.00\" fill=\"#004080\">Name</text>\n",
       "</g>\n",
       "<!-- 15&#45;&#45;16 -->\n",
       "<g id=\"edge16\" class=\"edge\">\n",
       "<title>15--16</title>\n",
       "<path fill=\"none\" stroke=\"black\" d=\"M541,-215C541,-215 521.57,-195.19 506.7,-180.03\"/>\n",
       "</g>\n",
       "<!-- 19 -->\n",
       "<g id=\"node20\" class=\"node\">\n",
       "<title>19</title>\n",
       "<text text-anchor=\"start\" x=\"543.5\" y=\"-159.3\" font-family=\"Courier,monospace\" font-weight=\"bold\" font-size=\"14.00\" fill=\"#004080\">Constant</text>\n",
       "</g>\n",
       "<!-- 15&#45;&#45;19 -->\n",
       "<g id=\"edge19\" class=\"edge\">\n",
       "<title>15--19</title>\n",
       "<path fill=\"none\" stroke=\"black\" d=\"M541,-215C541,-215 554.71,-195.19 565.21,-180.03\"/>\n",
       "</g>\n",
       "<!-- 21 -->\n",
       "<g id=\"node22\" class=\"node\">\n",
       "<title>21</title>\n",
       "<text text-anchor=\"start\" x=\"665\" y=\"-159.3\" font-family=\"Courier,monospace\" font-weight=\"bold\" font-size=\"14.00\" fill=\"#004080\">BinOp</text>\n",
       "</g>\n",
       "<!-- 15&#45;&#45;21 -->\n",
       "<g id=\"edge21\" class=\"edge\">\n",
       "<title>15--21</title>\n",
       "<path fill=\"none\" stroke=\"black\" d=\"M541,-215C541,-215 614.29,-188.72 656.66,-173.52\"/>\n",
       "</g>\n",
       "<!-- 17 -->\n",
       "<g id=\"node18\" class=\"node\">\n",
       "<title>17</title>\n",
       "<text text-anchor=\"middle\" x=\"398\" y=\"-86.3\" font-family=\"Courier,monospace\" font-size=\"14.00\" fill=\"#008040\">&quot;range&quot;</text>\n",
       "</g>\n",
       "<!-- 16&#45;&#45;17 -->\n",
       "<g id=\"edge17\" class=\"edge\">\n",
       "<title>16--17</title>\n",
       "<path fill=\"none\" stroke=\"black\" d=\"M480,-143C480,-143 448.76,-123.19 424.85,-108.03\"/>\n",
       "</g>\n",
       "<!-- 18 -->\n",
       "<g id=\"node19\" class=\"node\">\n",
       "<title>18</title>\n",
       "<text text-anchor=\"middle\" x=\"480\" y=\"-86.3\" font-family=\"Courier,monospace\" font-size=\"14.00\" fill=\"#008040\">Load</text>\n",
       "</g>\n",
       "<!-- 16&#45;&#45;18 -->\n",
       "<g id=\"edge18\" class=\"edge\">\n",
       "<title>16--18</title>\n",
       "<path fill=\"none\" stroke=\"black\" d=\"M480,-143C480,-143 480,-123.19 480,-108.03\"/>\n",
       "</g>\n",
       "<!-- 20 -->\n",
       "<g id=\"node21\" class=\"node\">\n",
       "<title>20</title>\n",
       "<text text-anchor=\"middle\" x=\"552\" y=\"-86.3\" font-family=\"Courier,monospace\" font-size=\"14.00\" fill=\"#008040\">1</text>\n",
       "</g>\n",
       "<!-- 19&#45;&#45;20 -->\n",
       "<g id=\"edge20\" class=\"edge\">\n",
       "<title>19--20</title>\n",
       "<path fill=\"none\" stroke=\"black\" d=\"M570.82,-143.7C566.95,-132.85 561.97,-118.92 558.11,-108.1\"/>\n",
       "</g>\n",
       "<!-- 22 -->\n",
       "<g id=\"node23\" class=\"node\">\n",
       "<title>22</title>\n",
       "<text text-anchor=\"start\" x=\"607\" y=\"-87.3\" font-family=\"Courier,monospace\" font-weight=\"bold\" font-size=\"14.00\" fill=\"#004080\">Name</text>\n",
       "</g>\n",
       "<!-- 21&#45;&#45;22 -->\n",
       "<g id=\"edge22\" class=\"edge\">\n",
       "<title>21--22</title>\n",
       "<path fill=\"none\" stroke=\"black\" d=\"M688,-143C688,-143 663.62,-123.19 644.96,-108.03\"/>\n",
       "</g>\n",
       "<!-- 25 -->\n",
       "<g id=\"node26\" class=\"node\">\n",
       "<title>25</title>\n",
       "<text text-anchor=\"middle\" x=\"696\" y=\"-86.3\" font-family=\"Courier,monospace\" font-size=\"14.00\" fill=\"#008040\">Add</text>\n",
       "</g>\n",
       "<!-- 21&#45;&#45;25 -->\n",
       "<g id=\"edge25\" class=\"edge\">\n",
       "<title>21--25</title>\n",
       "<path fill=\"none\" stroke=\"black\" d=\"M688,-143C688,-143 691.05,-123.19 693.38,-108.03\"/>\n",
       "</g>\n",
       "<!-- 26 -->\n",
       "<g id=\"node27\" class=\"node\">\n",
       "<title>26</title>\n",
       "<text text-anchor=\"start\" x=\"749.5\" y=\"-87.3\" font-family=\"Courier,monospace\" font-weight=\"bold\" font-size=\"14.00\" fill=\"#004080\">Constant</text>\n",
       "</g>\n",
       "<!-- 21&#45;&#45;26 -->\n",
       "<g id=\"edge26\" class=\"edge\">\n",
       "<title>21--26</title>\n",
       "<path fill=\"none\" stroke=\"black\" d=\"M688,-143C688,-143 724.19,-123.19 751.89,-108.03\"/>\n",
       "</g>\n",
       "<!-- 23 -->\n",
       "<g id=\"node24\" class=\"node\">\n",
       "<title>23</title>\n",
       "<text text-anchor=\"middle\" x=\"588\" y=\"-14.3\" font-family=\"Courier,monospace\" font-size=\"14.00\" fill=\"#008040\">&quot;n&quot;</text>\n",
       "</g>\n",
       "<!-- 22&#45;&#45;23 -->\n",
       "<g id=\"edge23\" class=\"edge\">\n",
       "<title>22--23</title>\n",
       "<path fill=\"none\" stroke=\"black\" d=\"M624,-71C624,-71 610.29,-51.19 599.79,-36.03\"/>\n",
       "</g>\n",
       "<!-- 24 -->\n",
       "<g id=\"node25\" class=\"node\">\n",
       "<title>24</title>\n",
       "<text text-anchor=\"middle\" x=\"660\" y=\"-14.3\" font-family=\"Courier,monospace\" font-size=\"14.00\" fill=\"#008040\">Load</text>\n",
       "</g>\n",
       "<!-- 22&#45;&#45;24 -->\n",
       "<g id=\"edge24\" class=\"edge\">\n",
       "<title>22--24</title>\n",
       "<path fill=\"none\" stroke=\"black\" d=\"M624,-71C624,-71 637.71,-51.19 648.21,-36.03\"/>\n",
       "</g>\n",
       "<!-- 27 -->\n",
       "<g id=\"node28\" class=\"node\">\n",
       "<title>27</title>\n",
       "<text text-anchor=\"middle\" x=\"783\" y=\"-14.3\" font-family=\"Courier,monospace\" font-size=\"14.00\" fill=\"#008040\">1</text>\n",
       "</g>\n",
       "<!-- 26&#45;&#45;27 -->\n",
       "<g id=\"edge27\" class=\"edge\">\n",
       "<title>26--27</title>\n",
       "<path fill=\"none\" stroke=\"black\" d=\"M783,-71.7C783,-60.85 783,-46.92 783,-36.1\"/>\n",
       "</g>\n",
       "<!-- 29 -->\n",
       "<g id=\"node30\" class=\"node\">\n",
       "<title>29</title>\n",
       "<text text-anchor=\"start\" x=\"854\" y=\"-159.3\" font-family=\"Courier,monospace\" font-weight=\"bold\" font-size=\"14.00\" fill=\"#004080\">Name</text>\n",
       "</g>\n",
       "<!-- 28&#45;&#45;29 -->\n",
       "<g id=\"edge29\" class=\"edge\">\n",
       "<title>28--29</title>\n",
       "<path fill=\"none\" stroke=\"black\" d=\"M913,-215C913,-215 897,-195.19 884.75,-180.03\"/>\n",
       "</g>\n",
       "<!-- 32 -->\n",
       "<g id=\"node33\" class=\"node\">\n",
       "<title>32</title>\n",
       "<text text-anchor=\"middle\" x=\"943\" y=\"-158.3\" font-family=\"Courier,monospace\" font-size=\"14.00\" fill=\"#008040\">Mult</text>\n",
       "</g>\n",
       "<!-- 28&#45;&#45;32 -->\n",
       "<g id=\"edge32\" class=\"edge\">\n",
       "<title>28--32</title>\n",
       "<path fill=\"none\" stroke=\"black\" d=\"M913,-215C913,-215 924.43,-195.19 933.18,-180.03\"/>\n",
       "</g>\n",
       "<!-- 33 -->\n",
       "<g id=\"node34\" class=\"node\">\n",
       "<title>33</title>\n",
       "<text text-anchor=\"start\" x=\"1000\" y=\"-159.3\" font-family=\"Courier,monospace\" font-weight=\"bold\" font-size=\"14.00\" fill=\"#004080\">Name</text>\n",
       "</g>\n",
       "<!-- 28&#45;&#45;33 -->\n",
       "<g id=\"edge33\" class=\"edge\">\n",
       "<title>28--33</title>\n",
       "<path fill=\"none\" stroke=\"black\" d=\"M913,-215C913,-215 959.13,-191.93 989.95,-176.53\"/>\n",
       "</g>\n",
       "<!-- 30 -->\n",
       "<g id=\"node31\" class=\"node\">\n",
       "<title>30</title>\n",
       "<text text-anchor=\"middle\" x=\"870\" y=\"-86.3\" font-family=\"Courier,monospace\" font-size=\"14.00\" fill=\"#008040\">&quot;i&quot;</text>\n",
       "</g>\n",
       "<!-- 29&#45;&#45;30 -->\n",
       "<g id=\"edge30\" class=\"edge\">\n",
       "<title>29--30</title>\n",
       "<path fill=\"none\" stroke=\"black\" d=\"M878,-143C878,-143 874.95,-123.19 872.62,-108.03\"/>\n",
       "</g>\n",
       "<!-- 31 -->\n",
       "<g id=\"node32\" class=\"node\">\n",
       "<title>31</title>\n",
       "<text text-anchor=\"middle\" x=\"944\" y=\"-86.3\" font-family=\"Courier,monospace\" font-size=\"14.00\" fill=\"#008040\">Store</text>\n",
       "</g>\n",
       "<!-- 29&#45;&#45;31 -->\n",
       "<g id=\"edge31\" class=\"edge\">\n",
       "<title>29--31</title>\n",
       "<path fill=\"none\" stroke=\"black\" d=\"M878,-143C878,-143 903.14,-123.19 922.39,-108.03\"/>\n",
       "</g>\n",
       "<!-- 34 -->\n",
       "<g id=\"node35\" class=\"node\">\n",
       "<title>34</title>\n",
       "<text text-anchor=\"middle\" x=\"1018\" y=\"-86.3\" font-family=\"Courier,monospace\" font-size=\"14.00\" fill=\"#008040\">&quot;i&quot;</text>\n",
       "</g>\n",
       "<!-- 33&#45;&#45;34 -->\n",
       "<g id=\"edge34\" class=\"edge\">\n",
       "<title>33--34</title>\n",
       "<path fill=\"none\" stroke=\"black\" d=\"M1025,-143C1025,-143 1022.33,-123.19 1020.29,-108.03\"/>\n",
       "</g>\n",
       "<!-- 35 -->\n",
       "<g id=\"node36\" class=\"node\">\n",
       "<title>35</title>\n",
       "<text text-anchor=\"middle\" x=\"1090\" y=\"-86.3\" font-family=\"Courier,monospace\" font-size=\"14.00\" fill=\"#008040\">Load</text>\n",
       "</g>\n",
       "<!-- 33&#45;&#45;35 -->\n",
       "<g id=\"edge35\" class=\"edge\">\n",
       "<title>33--35</title>\n",
       "<path fill=\"none\" stroke=\"black\" d=\"M1025,-143C1025,-143 1049.76,-123.19 1068.72,-108.03\"/>\n",
       "</g>\n",
       "<!-- 37 -->\n",
       "<g id=\"node38\" class=\"node\">\n",
       "<title>37</title>\n",
       "<text text-anchor=\"start\" x=\"1072\" y=\"-231.3\" font-family=\"Courier,monospace\" font-weight=\"bold\" font-size=\"14.00\" fill=\"#004080\">Name</text>\n",
       "</g>\n",
       "<!-- 36&#45;&#45;37 -->\n",
       "<g id=\"edge37\" class=\"edge\">\n",
       "<title>36--37</title>\n",
       "<path fill=\"none\" stroke=\"black\" d=\"M856.15,-296.28C909.35,-282.28 1012.78,-255.06 1061.88,-242.14\"/>\n",
       "</g>\n",
       "<!-- 38 -->\n",
       "<g id=\"node39\" class=\"node\">\n",
       "<title>38</title>\n",
       "<text text-anchor=\"middle\" x=\"1089\" y=\"-158.3\" font-family=\"Courier,monospace\" font-size=\"14.00\" fill=\"#008040\">&quot;i&quot;</text>\n",
       "</g>\n",
       "<!-- 37&#45;&#45;38 -->\n",
       "<g id=\"edge38\" class=\"edge\">\n",
       "<title>37--38</title>\n",
       "<path fill=\"none\" stroke=\"black\" d=\"M1097,-215C1097,-215 1093.95,-195.19 1091.62,-180.03\"/>\n",
       "</g>\n",
       "<!-- 39 -->\n",
       "<g id=\"node40\" class=\"node\">\n",
       "<title>39</title>\n",
       "<text text-anchor=\"middle\" x=\"1161\" y=\"-158.3\" font-family=\"Courier,monospace\" font-size=\"14.00\" fill=\"#008040\">Load</text>\n",
       "</g>\n",
       "<!-- 37&#45;&#45;39 -->\n",
       "<g id=\"edge39\" class=\"edge\">\n",
       "<title>37--39</title>\n",
       "<path fill=\"none\" stroke=\"black\" d=\"M1097,-215C1097,-215 1121.38,-195.19 1140.04,-180.03\"/>\n",
       "</g>\n",
       "</g>\n",
       "</svg>"
      ],
      "text/plain": [
       "<IPython.core.display.SVG object>"
      ]
     },
     "metadata": {},
     "output_type": "display_data"
    },
    {
     "name": "stdout",
     "output_type": "stream",
     "text": [
      "Module(body=[FunctionDef(name='factorial2', args=arguments(posonlyargs=[], args=[arg(arg='n', annotation=None, type_comment=None)], vararg=None, kwonlyargs=[], kw_defaults=[], kwarg=None, defaults=[]), body=[Assign(targets=[Name(id='i', ctx=Store())], value=Constant(value=1, kind=None), type_comment=None), For(target=Name(id='i', ctx=Store()), iter=Call(func=Name(id='range', ctx=Load()), args=[Constant(value=1, kind=None), BinOp(left=Name(id='n', ctx=Load()), op=Add(), right=Constant(value=1, kind=None))], keywords=[]), body=[AugAssign(target=Name(id='i', ctx=Store()), op=Mult(), value=Name(id='i', ctx=Load()))], orelse=[], type_comment=None), Return(value=Name(id='i', ctx=Load()))], decorator_list=[], returns=None, type_comment=None)], type_ignores=[])\n"
     ]
    }
   ],
   "source": [
    "show_ast(ast.parse(inspect.getsource(factorial2)))\n",
    "print(ast.dump(ast.parse(inspect.getsource(factorial2))))"
   ]
  },
  {
   "cell_type": "code",
   "execution_count": 76,
   "metadata": {
    "scrolled": false
   },
   "outputs": [
    {
     "data": {
      "image/svg+xml": [
       "<svg xmlns=\"http://www.w3.org/2000/svg\" xmlns:xlink=\"http://www.w3.org/1999/xlink\" width=\"1245pt\" height=\"404pt\" viewBox=\"0.00 0.00 1244.50 404.00\">\n",
       "<g id=\"graph0\" class=\"graph\" transform=\"scale(1 1) rotate(0) translate(4 400)\">\n",
       "<title>%3</title>\n",
       "<polygon fill=\"white\" stroke=\"transparent\" points=\"-4,4 -4,-400 1240.5,-400 1240.5,4 -4,4\"/>\n",
       "<!-- 0 -->\n",
       "<g id=\"node1\" class=\"node\">\n",
       "<title>0</title>\n",
       "<text text-anchor=\"start\" x=\"280\" y=\"-375.3\" font-family=\"Courier,monospace\" font-weight=\"bold\" font-size=\"14.00\" fill=\"#004080\">FunctionDef</text>\n",
       "</g>\n",
       "<!-- 1 -->\n",
       "<g id=\"node2\" class=\"node\">\n",
       "<title>1</title>\n",
       "<text text-anchor=\"middle\" x=\"82.5\" y=\"-302.3\" font-family=\"Courier,monospace\" font-size=\"14.00\" fill=\"#008040\">&quot;fixed_factorial2&quot;</text>\n",
       "</g>\n",
       "<!-- 0&#45;&#45;1 -->\n",
       "<g id=\"edge1\" class=\"edge\">\n",
       "<title>0--1</title>\n",
       "<path fill=\"none\" stroke=\"black\" d=\"M326.5,-359C326.5,-359 233.56,-339.19 162.39,-324.03\"/>\n",
       "</g>\n",
       "<!-- 2 -->\n",
       "<g id=\"node3\" class=\"node\">\n",
       "<title>2</title>\n",
       "<text text-anchor=\"start\" x=\"191\" y=\"-303.3\" font-family=\"Courier,monospace\" font-weight=\"bold\" font-size=\"14.00\" fill=\"#004080\">arguments</text>\n",
       "</g>\n",
       "<!-- 0&#45;&#45;2 -->\n",
       "<g id=\"edge2\" class=\"edge\">\n",
       "<title>0--2</title>\n",
       "<path fill=\"none\" stroke=\"black\" d=\"M326.5,-359C326.5,-359 289.17,-339.19 260.59,-324.03\"/>\n",
       "</g>\n",
       "<!-- 5 -->\n",
       "<g id=\"node6\" class=\"node\">\n",
       "<title>5</title>\n",
       "<text text-anchor=\"start\" x=\"300.5\" y=\"-303.3\" font-family=\"Courier,monospace\" font-weight=\"bold\" font-size=\"14.00\" fill=\"#004080\">Assign</text>\n",
       "</g>\n",
       "<!-- 0&#45;&#45;5 -->\n",
       "<g id=\"edge5\" class=\"edge\">\n",
       "<title>0--5</title>\n",
       "<path fill=\"none\" stroke=\"black\" d=\"M326.5,-359C326.5,-359 326.12,-339.19 325.83,-324.03\"/>\n",
       "</g>\n",
       "<!-- 11 -->\n",
       "<g id=\"node12\" class=\"node\">\n",
       "<title>11</title>\n",
       "<text text-anchor=\"start\" x=\"489\" y=\"-303.3\" font-family=\"Courier,monospace\" font-weight=\"bold\" font-size=\"14.00\" fill=\"#004080\">For</text>\n",
       "</g>\n",
       "<!-- 0&#45;&#45;11 -->\n",
       "<g id=\"edge11\" class=\"edge\">\n",
       "<title>0--11</title>\n",
       "<path fill=\"none\" stroke=\"black\" d=\"M326.5,-359C326.5,-359 424.94,-329.75 474.16,-315.12\"/>\n",
       "</g>\n",
       "<!-- 36 -->\n",
       "<g id=\"node37\" class=\"node\">\n",
       "<title>36</title>\n",
       "<text text-anchor=\"start\" x=\"846.5\" y=\"-303.3\" font-family=\"Courier,monospace\" font-weight=\"bold\" font-size=\"14.00\" fill=\"#004080\">Return</text>\n",
       "</g>\n",
       "<!-- 0&#45;&#45;36 -->\n",
       "<g id=\"edge36\" class=\"edge\">\n",
       "<title>0--36</title>\n",
       "<path fill=\"none\" stroke=\"black\" d=\"M326.5,-359C326.5,-359 719.9,-321.46 838.23,-310.17\"/>\n",
       "</g>\n",
       "<!-- 3 -->\n",
       "<g id=\"node4\" class=\"node\">\n",
       "<title>3</title>\n",
       "<text text-anchor=\"start\" x=\"117\" y=\"-231.3\" font-family=\"Courier,monospace\" font-weight=\"bold\" font-size=\"14.00\" fill=\"#004080\">arg</text>\n",
       "</g>\n",
       "<!-- 2&#45;&#45;3 -->\n",
       "<g id=\"edge3\" class=\"edge\">\n",
       "<title>2--3</title>\n",
       "<path fill=\"none\" stroke=\"black\" d=\"M204.28,-287.88C188.94,-277.03 169.17,-263.05 153.81,-252.19\"/>\n",
       "</g>\n",
       "<!-- 4 -->\n",
       "<g id=\"node5\" class=\"node\">\n",
       "<title>4</title>\n",
       "<text text-anchor=\"middle\" x=\"98.5\" y=\"-158.3\" font-family=\"Courier,monospace\" font-size=\"14.00\" fill=\"#008040\">&quot;n&quot;</text>\n",
       "</g>\n",
       "<!-- 3&#45;&#45;4 -->\n",
       "<g id=\"edge4\" class=\"edge\">\n",
       "<title>3--4</title>\n",
       "<path fill=\"none\" stroke=\"black\" d=\"M121.84,-215.7C117.03,-204.85 110.86,-190.92 106.07,-180.1\"/>\n",
       "</g>\n",
       "<!-- 6 -->\n",
       "<g id=\"node7\" class=\"node\">\n",
       "<title>6</title>\n",
       "<text text-anchor=\"start\" x=\"221.5\" y=\"-231.3\" font-family=\"Courier,monospace\" font-weight=\"bold\" font-size=\"14.00\" fill=\"#004080\">Name</text>\n",
       "</g>\n",
       "<!-- 5&#45;&#45;6 -->\n",
       "<g id=\"edge6\" class=\"edge\">\n",
       "<title>5--6</title>\n",
       "<path fill=\"none\" stroke=\"black\" d=\"M316.5,-287C316.5,-287 286.79,-267.19 264.04,-252.03\"/>\n",
       "</g>\n",
       "<!-- 9 -->\n",
       "<g id=\"node10\" class=\"node\">\n",
       "<title>9</title>\n",
       "<text text-anchor=\"start\" x=\"292\" y=\"-231.3\" font-family=\"Courier,monospace\" font-weight=\"bold\" font-size=\"14.00\" fill=\"#004080\">Constant</text>\n",
       "</g>\n",
       "<!-- 5&#45;&#45;9 -->\n",
       "<g id=\"edge9\" class=\"edge\">\n",
       "<title>5--9</title>\n",
       "<path fill=\"none\" stroke=\"black\" d=\"M316.5,-287C316.5,-287 319.93,-267.19 322.55,-252.03\"/>\n",
       "</g>\n",
       "<!-- 7 -->\n",
       "<g id=\"node8\" class=\"node\">\n",
       "<title>7</title>\n",
       "<text text-anchor=\"middle\" x=\"170.5\" y=\"-158.3\" font-family=\"Courier,monospace\" font-size=\"14.00\" fill=\"#008040\">&quot;i&quot;</text>\n",
       "</g>\n",
       "<!-- 6&#45;&#45;7 -->\n",
       "<g id=\"edge7\" class=\"edge\">\n",
       "<title>6--7</title>\n",
       "<path fill=\"none\" stroke=\"black\" d=\"M232.5,-215C232.5,-215 208.88,-195.19 190.8,-180.03\"/>\n",
       "</g>\n",
       "<!-- 8 -->\n",
       "<g id=\"node9\" class=\"node\">\n",
       "<title>8</title>\n",
       "<text text-anchor=\"middle\" x=\"244.5\" y=\"-158.3\" font-family=\"Courier,monospace\" font-size=\"14.00\" fill=\"#008040\">Store</text>\n",
       "</g>\n",
       "<!-- 6&#45;&#45;8 -->\n",
       "<g id=\"edge8\" class=\"edge\">\n",
       "<title>6--8</title>\n",
       "<path fill=\"none\" stroke=\"black\" d=\"M232.5,-215C232.5,-215 237.07,-195.19 240.57,-180.03\"/>\n",
       "</g>\n",
       "<!-- 10 -->\n",
       "<g id=\"node11\" class=\"node\">\n",
       "<title>10</title>\n",
       "<text text-anchor=\"middle\" x=\"318.5\" y=\"-158.3\" font-family=\"Courier,monospace\" font-size=\"14.00\" fill=\"#008040\">1</text>\n",
       "</g>\n",
       "<!-- 9&#45;&#45;10 -->\n",
       "<g id=\"edge10\" class=\"edge\">\n",
       "<title>9--10</title>\n",
       "<path fill=\"none\" stroke=\"black\" d=\"M323.77,-215.7C322.68,-204.85 321.29,-190.92 320.21,-180.1\"/>\n",
       "</g>\n",
       "<!-- 12 -->\n",
       "<g id=\"node13\" class=\"node\">\n",
       "<title>12</title>\n",
       "<text text-anchor=\"start\" x=\"447.5\" y=\"-231.3\" font-family=\"Courier,monospace\" font-weight=\"bold\" font-size=\"14.00\" fill=\"#004080\">Name</text>\n",
       "</g>\n",
       "<!-- 11&#45;&#45;12 -->\n",
       "<g id=\"edge12\" class=\"edge\">\n",
       "<title>11--12</title>\n",
       "<path fill=\"none\" stroke=\"black\" d=\"M514.5,-287C514.5,-287 495.45,-267.19 480.87,-252.03\"/>\n",
       "</g>\n",
       "<!-- 15 -->\n",
       "<g id=\"node16\" class=\"node\">\n",
       "<title>15</title>\n",
       "<text text-anchor=\"start\" x=\"564.5\" y=\"-231.3\" font-family=\"Courier,monospace\" font-weight=\"bold\" font-size=\"14.00\" fill=\"#004080\">Call</text>\n",
       "</g>\n",
       "<!-- 11&#45;&#45;15 -->\n",
       "<g id=\"edge15\" class=\"edge\">\n",
       "<title>11--15</title>\n",
       "<path fill=\"none\" stroke=\"black\" d=\"M514.5,-287C514.5,-287 540.02,-267.19 559.56,-252.03\"/>\n",
       "</g>\n",
       "<!-- 28 -->\n",
       "<g id=\"node29\" class=\"node\">\n",
       "<title>28</title>\n",
       "<text text-anchor=\"start\" x=\"918\" y=\"-231.3\" font-family=\"Courier,monospace\" font-weight=\"bold\" font-size=\"14.00\" fill=\"#004080\">AugAssign</text>\n",
       "</g>\n",
       "<!-- 11&#45;&#45;28 -->\n",
       "<g id=\"edge28\" class=\"edge\">\n",
       "<title>11--28</title>\n",
       "<path fill=\"none\" stroke=\"black\" d=\"M514.5,-287C514.5,-287 797.29,-253.65 909.97,-240.37\"/>\n",
       "</g>\n",
       "<!-- 13 -->\n",
       "<g id=\"node14\" class=\"node\">\n",
       "<title>13</title>\n",
       "<text text-anchor=\"middle\" x=\"390.5\" y=\"-158.3\" font-family=\"Courier,monospace\" font-size=\"14.00\" fill=\"#008040\">&quot;x&quot;</text>\n",
       "</g>\n",
       "<!-- 12&#45;&#45;13 -->\n",
       "<g id=\"edge13\" class=\"edge\">\n",
       "<title>12--13</title>\n",
       "<path fill=\"none\" stroke=\"black\" d=\"M456.5,-215C456.5,-215 431.36,-195.19 412.11,-180.03\"/>\n",
       "</g>\n",
       "<!-- 14 -->\n",
       "<g id=\"node15\" class=\"node\">\n",
       "<title>14</title>\n",
       "<text text-anchor=\"middle\" x=\"464.5\" y=\"-158.3\" font-family=\"Courier,monospace\" font-size=\"14.00\" fill=\"#008040\">Store</text>\n",
       "</g>\n",
       "<!-- 12&#45;&#45;14 -->\n",
       "<g id=\"edge14\" class=\"edge\">\n",
       "<title>12--14</title>\n",
       "<path fill=\"none\" stroke=\"black\" d=\"M456.5,-215C456.5,-215 459.55,-195.19 461.88,-180.03\"/>\n",
       "</g>\n",
       "<!-- 16 -->\n",
       "<g id=\"node17\" class=\"node\">\n",
       "<title>16</title>\n",
       "<text text-anchor=\"start\" x=\"521.5\" y=\"-159.3\" font-family=\"Courier,monospace\" font-weight=\"bold\" font-size=\"14.00\" fill=\"#004080\">Name</text>\n",
       "</g>\n",
       "<!-- 15&#45;&#45;16 -->\n",
       "<g id=\"edge16\" class=\"edge\">\n",
       "<title>15--16</title>\n",
       "<path fill=\"none\" stroke=\"black\" d=\"M589.5,-215C589.5,-215 570.07,-195.19 555.2,-180.03\"/>\n",
       "</g>\n",
       "<!-- 19 -->\n",
       "<g id=\"node20\" class=\"node\">\n",
       "<title>19</title>\n",
       "<text text-anchor=\"start\" x=\"592\" y=\"-159.3\" font-family=\"Courier,monospace\" font-weight=\"bold\" font-size=\"14.00\" fill=\"#004080\">Constant</text>\n",
       "</g>\n",
       "<!-- 15&#45;&#45;19 -->\n",
       "<g id=\"edge19\" class=\"edge\">\n",
       "<title>15--19</title>\n",
       "<path fill=\"none\" stroke=\"black\" d=\"M589.5,-215C589.5,-215 603.21,-195.19 613.71,-180.03\"/>\n",
       "</g>\n",
       "<!-- 21 -->\n",
       "<g id=\"node22\" class=\"node\">\n",
       "<title>21</title>\n",
       "<text text-anchor=\"start\" x=\"713.5\" y=\"-159.3\" font-family=\"Courier,monospace\" font-weight=\"bold\" font-size=\"14.00\" fill=\"#004080\">BinOp</text>\n",
       "</g>\n",
       "<!-- 15&#45;&#45;21 -->\n",
       "<g id=\"edge21\" class=\"edge\">\n",
       "<title>15--21</title>\n",
       "<path fill=\"none\" stroke=\"black\" d=\"M589.5,-215C589.5,-215 662.79,-188.72 705.16,-173.52\"/>\n",
       "</g>\n",
       "<!-- 17 -->\n",
       "<g id=\"node18\" class=\"node\">\n",
       "<title>17</title>\n",
       "<text text-anchor=\"middle\" x=\"446.5\" y=\"-86.3\" font-family=\"Courier,monospace\" font-size=\"14.00\" fill=\"#008040\">&quot;range&quot;</text>\n",
       "</g>\n",
       "<!-- 16&#45;&#45;17 -->\n",
       "<g id=\"edge17\" class=\"edge\">\n",
       "<title>16--17</title>\n",
       "<path fill=\"none\" stroke=\"black\" d=\"M528.5,-143C528.5,-143 497.26,-123.19 473.35,-108.03\"/>\n",
       "</g>\n",
       "<!-- 18 -->\n",
       "<g id=\"node19\" class=\"node\">\n",
       "<title>18</title>\n",
       "<text text-anchor=\"middle\" x=\"528.5\" y=\"-86.3\" font-family=\"Courier,monospace\" font-size=\"14.00\" fill=\"#008040\">Load</text>\n",
       "</g>\n",
       "<!-- 16&#45;&#45;18 -->\n",
       "<g id=\"edge18\" class=\"edge\">\n",
       "<title>16--18</title>\n",
       "<path fill=\"none\" stroke=\"black\" d=\"M528.5,-143C528.5,-143 528.5,-123.19 528.5,-108.03\"/>\n",
       "</g>\n",
       "<!-- 20 -->\n",
       "<g id=\"node21\" class=\"node\">\n",
       "<title>20</title>\n",
       "<text text-anchor=\"middle\" x=\"600.5\" y=\"-86.3\" font-family=\"Courier,monospace\" font-size=\"14.00\" fill=\"#008040\">1</text>\n",
       "</g>\n",
       "<!-- 19&#45;&#45;20 -->\n",
       "<g id=\"edge20\" class=\"edge\">\n",
       "<title>19--20</title>\n",
       "<path fill=\"none\" stroke=\"black\" d=\"M619.32,-143.7C615.45,-132.85 610.47,-118.92 606.61,-108.1\"/>\n",
       "</g>\n",
       "<!-- 22 -->\n",
       "<g id=\"node23\" class=\"node\">\n",
       "<title>22</title>\n",
       "<text text-anchor=\"start\" x=\"655.5\" y=\"-87.3\" font-family=\"Courier,monospace\" font-weight=\"bold\" font-size=\"14.00\" fill=\"#004080\">Name</text>\n",
       "</g>\n",
       "<!-- 21&#45;&#45;22 -->\n",
       "<g id=\"edge22\" class=\"edge\">\n",
       "<title>21--22</title>\n",
       "<path fill=\"none\" stroke=\"black\" d=\"M736.5,-143C736.5,-143 712.12,-123.19 693.46,-108.03\"/>\n",
       "</g>\n",
       "<!-- 25 -->\n",
       "<g id=\"node26\" class=\"node\">\n",
       "<title>25</title>\n",
       "<text text-anchor=\"middle\" x=\"744.5\" y=\"-86.3\" font-family=\"Courier,monospace\" font-size=\"14.00\" fill=\"#008040\">Add</text>\n",
       "</g>\n",
       "<!-- 21&#45;&#45;25 -->\n",
       "<g id=\"edge25\" class=\"edge\">\n",
       "<title>21--25</title>\n",
       "<path fill=\"none\" stroke=\"black\" d=\"M736.5,-143C736.5,-143 739.55,-123.19 741.88,-108.03\"/>\n",
       "</g>\n",
       "<!-- 26 -->\n",
       "<g id=\"node27\" class=\"node\">\n",
       "<title>26</title>\n",
       "<text text-anchor=\"start\" x=\"798\" y=\"-87.3\" font-family=\"Courier,monospace\" font-weight=\"bold\" font-size=\"14.00\" fill=\"#004080\">Constant</text>\n",
       "</g>\n",
       "<!-- 21&#45;&#45;26 -->\n",
       "<g id=\"edge26\" class=\"edge\">\n",
       "<title>21--26</title>\n",
       "<path fill=\"none\" stroke=\"black\" d=\"M736.5,-143C736.5,-143 772.69,-123.19 800.39,-108.03\"/>\n",
       "</g>\n",
       "<!-- 23 -->\n",
       "<g id=\"node24\" class=\"node\">\n",
       "<title>23</title>\n",
       "<text text-anchor=\"middle\" x=\"636.5\" y=\"-14.3\" font-family=\"Courier,monospace\" font-size=\"14.00\" fill=\"#008040\">&quot;n&quot;</text>\n",
       "</g>\n",
       "<!-- 22&#45;&#45;23 -->\n",
       "<g id=\"edge23\" class=\"edge\">\n",
       "<title>22--23</title>\n",
       "<path fill=\"none\" stroke=\"black\" d=\"M672.5,-71C672.5,-71 658.79,-51.19 648.29,-36.03\"/>\n",
       "</g>\n",
       "<!-- 24 -->\n",
       "<g id=\"node25\" class=\"node\">\n",
       "<title>24</title>\n",
       "<text text-anchor=\"middle\" x=\"708.5\" y=\"-14.3\" font-family=\"Courier,monospace\" font-size=\"14.00\" fill=\"#008040\">Load</text>\n",
       "</g>\n",
       "<!-- 22&#45;&#45;24 -->\n",
       "<g id=\"edge24\" class=\"edge\">\n",
       "<title>22--24</title>\n",
       "<path fill=\"none\" stroke=\"black\" d=\"M672.5,-71C672.5,-71 686.21,-51.19 696.71,-36.03\"/>\n",
       "</g>\n",
       "<!-- 27 -->\n",
       "<g id=\"node28\" class=\"node\">\n",
       "<title>27</title>\n",
       "<text text-anchor=\"middle\" x=\"831.5\" y=\"-14.3\" font-family=\"Courier,monospace\" font-size=\"14.00\" fill=\"#008040\">1</text>\n",
       "</g>\n",
       "<!-- 26&#45;&#45;27 -->\n",
       "<g id=\"edge27\" class=\"edge\">\n",
       "<title>26--27</title>\n",
       "<path fill=\"none\" stroke=\"black\" d=\"M831.5,-71.7C831.5,-60.85 831.5,-46.92 831.5,-36.1\"/>\n",
       "</g>\n",
       "<!-- 29 -->\n",
       "<g id=\"node30\" class=\"node\">\n",
       "<title>29</title>\n",
       "<text text-anchor=\"start\" x=\"902.5\" y=\"-159.3\" font-family=\"Courier,monospace\" font-weight=\"bold\" font-size=\"14.00\" fill=\"#004080\">Name</text>\n",
       "</g>\n",
       "<!-- 28&#45;&#45;29 -->\n",
       "<g id=\"edge29\" class=\"edge\">\n",
       "<title>28--29</title>\n",
       "<path fill=\"none\" stroke=\"black\" d=\"M961.5,-215C961.5,-215 945.5,-195.19 933.25,-180.03\"/>\n",
       "</g>\n",
       "<!-- 32 -->\n",
       "<g id=\"node33\" class=\"node\">\n",
       "<title>32</title>\n",
       "<text text-anchor=\"middle\" x=\"991.5\" y=\"-158.3\" font-family=\"Courier,monospace\" font-size=\"14.00\" fill=\"#008040\">Mult</text>\n",
       "</g>\n",
       "<!-- 28&#45;&#45;32 -->\n",
       "<g id=\"edge32\" class=\"edge\">\n",
       "<title>28--32</title>\n",
       "<path fill=\"none\" stroke=\"black\" d=\"M961.5,-215C961.5,-215 972.93,-195.19 981.68,-180.03\"/>\n",
       "</g>\n",
       "<!-- 33 -->\n",
       "<g id=\"node34\" class=\"node\">\n",
       "<title>33</title>\n",
       "<text text-anchor=\"start\" x=\"1048.5\" y=\"-159.3\" font-family=\"Courier,monospace\" font-weight=\"bold\" font-size=\"14.00\" fill=\"#004080\">Name</text>\n",
       "</g>\n",
       "<!-- 28&#45;&#45;33 -->\n",
       "<g id=\"edge33\" class=\"edge\">\n",
       "<title>28--33</title>\n",
       "<path fill=\"none\" stroke=\"black\" d=\"M961.5,-215C961.5,-215 1007.63,-191.93 1038.45,-176.53\"/>\n",
       "</g>\n",
       "<!-- 30 -->\n",
       "<g id=\"node31\" class=\"node\">\n",
       "<title>30</title>\n",
       "<text text-anchor=\"middle\" x=\"918.5\" y=\"-86.3\" font-family=\"Courier,monospace\" font-size=\"14.00\" fill=\"#008040\">&quot;i&quot;</text>\n",
       "</g>\n",
       "<!-- 29&#45;&#45;30 -->\n",
       "<g id=\"edge30\" class=\"edge\">\n",
       "<title>29--30</title>\n",
       "<path fill=\"none\" stroke=\"black\" d=\"M926.5,-143C926.5,-143 923.45,-123.19 921.12,-108.03\"/>\n",
       "</g>\n",
       "<!-- 31 -->\n",
       "<g id=\"node32\" class=\"node\">\n",
       "<title>31</title>\n",
       "<text text-anchor=\"middle\" x=\"992.5\" y=\"-86.3\" font-family=\"Courier,monospace\" font-size=\"14.00\" fill=\"#008040\">Store</text>\n",
       "</g>\n",
       "<!-- 29&#45;&#45;31 -->\n",
       "<g id=\"edge31\" class=\"edge\">\n",
       "<title>29--31</title>\n",
       "<path fill=\"none\" stroke=\"black\" d=\"M926.5,-143C926.5,-143 951.64,-123.19 970.89,-108.03\"/>\n",
       "</g>\n",
       "<!-- 34 -->\n",
       "<g id=\"node35\" class=\"node\">\n",
       "<title>34</title>\n",
       "<text text-anchor=\"middle\" x=\"1066.5\" y=\"-86.3\" font-family=\"Courier,monospace\" font-size=\"14.00\" fill=\"#008040\">&quot;x&quot;</text>\n",
       "</g>\n",
       "<!-- 33&#45;&#45;34 -->\n",
       "<g id=\"edge34\" class=\"edge\">\n",
       "<title>33--34</title>\n",
       "<path fill=\"none\" stroke=\"black\" d=\"M1073.5,-143C1073.5,-143 1070.83,-123.19 1068.79,-108.03\"/>\n",
       "</g>\n",
       "<!-- 35 -->\n",
       "<g id=\"node36\" class=\"node\">\n",
       "<title>35</title>\n",
       "<text text-anchor=\"middle\" x=\"1138.5\" y=\"-86.3\" font-family=\"Courier,monospace\" font-size=\"14.00\" fill=\"#008040\">Load</text>\n",
       "</g>\n",
       "<!-- 33&#45;&#45;35 -->\n",
       "<g id=\"edge35\" class=\"edge\">\n",
       "<title>33--35</title>\n",
       "<path fill=\"none\" stroke=\"black\" d=\"M1073.5,-143C1073.5,-143 1098.26,-123.19 1117.22,-108.03\"/>\n",
       "</g>\n",
       "<!-- 37 -->\n",
       "<g id=\"node38\" class=\"node\">\n",
       "<title>37</title>\n",
       "<text text-anchor=\"start\" x=\"1120.5\" y=\"-231.3\" font-family=\"Courier,monospace\" font-weight=\"bold\" font-size=\"14.00\" fill=\"#004080\">Name</text>\n",
       "</g>\n",
       "<!-- 36&#45;&#45;37 -->\n",
       "<g id=\"edge37\" class=\"edge\">\n",
       "<title>36--37</title>\n",
       "<path fill=\"none\" stroke=\"black\" d=\"M904.65,-296.28C957.85,-282.28 1061.28,-255.06 1110.38,-242.14\"/>\n",
       "</g>\n",
       "<!-- 38 -->\n",
       "<g id=\"node39\" class=\"node\">\n",
       "<title>38</title>\n",
       "<text text-anchor=\"middle\" x=\"1137.5\" y=\"-158.3\" font-family=\"Courier,monospace\" font-size=\"14.00\" fill=\"#008040\">&quot;i&quot;</text>\n",
       "</g>\n",
       "<!-- 37&#45;&#45;38 -->\n",
       "<g id=\"edge38\" class=\"edge\">\n",
       "<title>37--38</title>\n",
       "<path fill=\"none\" stroke=\"black\" d=\"M1145.5,-215C1145.5,-215 1142.45,-195.19 1140.12,-180.03\"/>\n",
       "</g>\n",
       "<!-- 39 -->\n",
       "<g id=\"node40\" class=\"node\">\n",
       "<title>39</title>\n",
       "<text text-anchor=\"middle\" x=\"1209.5\" y=\"-158.3\" font-family=\"Courier,monospace\" font-size=\"14.00\" fill=\"#008040\">Load</text>\n",
       "</g>\n",
       "<!-- 37&#45;&#45;39 -->\n",
       "<g id=\"edge39\" class=\"edge\">\n",
       "<title>37--39</title>\n",
       "<path fill=\"none\" stroke=\"black\" d=\"M1145.5,-215C1145.5,-215 1169.88,-195.19 1188.54,-180.03\"/>\n",
       "</g>\n",
       "</g>\n",
       "</svg>"
      ],
      "text/plain": [
       "<IPython.core.display.SVG object>"
      ]
     },
     "metadata": {},
     "output_type": "display_data"
    }
   ],
   "source": [
    "show_ast(ast.parse(inspect.getsource(fixed_factorial2)))"
   ]
  },
  {
   "cell_type": "markdown",
   "metadata": {
    "slideshow": {
     "slide_type": "fragment"
    }
   },
   "source": [
    "Again, it outputs the incorrect answer:"
   ]
  },
  {
   "cell_type": "code",
   "execution_count": 77,
   "metadata": {
    "slideshow": {
     "slide_type": "subslide"
    }
   },
   "outputs": [
    {
     "data": {
      "text/plain": [
       "25"
      ]
     },
     "execution_count": 77,
     "metadata": {},
     "output_type": "execute_result"
    }
   ],
   "source": [
    "factorial2(5)"
   ]
  },
  {
   "cell_type": "code",
   "execution_count": 78,
   "metadata": {
    "slideshow": {
     "slide_type": "fragment"
    }
   },
   "outputs": [],
   "source": [
    "def factorial2_test(n):\n",
    "    m = factorial2(n)\n",
    "    assert m == math.factorial(n)"
   ]
  },
  {
   "cell_type": "code",
   "execution_count": 79,
   "metadata": {
    "slideshow": {
     "slide_type": "fragment"
    }
   },
   "outputs": [],
   "source": [
    "def factorial_passing_testcase():\n",
    "    while True:\n",
    "        try:\n",
    "            n = factorial_testcase()\n",
    "            _ = factorial2_test(n)\n",
    "            return (n,)\n",
    "        except AssertionError:\n",
    "            pass"
   ]
  },
  {
   "cell_type": "code",
   "execution_count": 80,
   "metadata": {
    "slideshow": {
     "slide_type": "subslide"
    }
   },
   "outputs": [],
   "source": [
    "def factorial_failing_testcase():\n",
    "    while True:\n",
    "        try:\n",
    "            n = factorial_testcase()\n",
    "            _ = factorial2_test(n)\n",
    "        except AssertionError:\n",
    "            return (n,)"
   ]
  },
  {
   "cell_type": "code",
   "execution_count": 81,
   "metadata": {
    "slideshow": {
     "slide_type": "fragment"
    }
   },
   "outputs": [],
   "source": [
    "FACTORIAL_PASSING_TESTCASES_2 = [factorial_passing_testcase()\n",
    "                                 for i in range(TESTS)]"
   ]
  },
  {
   "cell_type": "code",
   "execution_count": 82,
   "metadata": {
    "slideshow": {
     "slide_type": "fragment"
    }
   },
   "outputs": [],
   "source": [
    "FACTORIAL_FAILING_TESTCASES_2 = [factorial_failing_testcase()\n",
    "                                 for i in range(TESTS)]"
   ]
  },
  {
   "cell_type": "markdown",
   "metadata": {},
   "source": [
    "repaired2 = debug_and_repair(factorial2,\n",
    "                            FACTORIAL_PASSING_TESTCASES_2 +\n",
    "                            FACTORIAL_FAILING_TESTCASES_2,\n",
    "                            factorial2_test, 2)"
   ]
  },
  {
   "cell_type": "markdown",
   "metadata": {
    "slideshow": {
     "slide_type": "fragment"
    }
   },
   "source": [
    "The third faulty function is `factorial3()`:"
   ]
  },
  {
   "cell_type": "code",
   "execution_count": 83,
   "metadata": {
    "slideshow": {
     "slide_type": "subslide"
    }
   },
   "outputs": [],
   "source": [
    "def factorial3(n): \n",
    "    res = 1\n",
    "    for i in range(1, n + 1):\n",
    "        res += i\n",
    "    return res\n",
    "\n",
    "def fixed_factorial3(n): \n",
    "    res = 1\n",
    "    for i in range(1, n + 1):\n",
    "        res *= i\n",
    "    return res"
   ]
  },
  {
   "cell_type": "code",
   "execution_count": 84,
   "metadata": {},
   "outputs": [
    {
     "data": {
      "image/svg+xml": [
       "<svg xmlns=\"http://www.w3.org/2000/svg\" xmlns:xlink=\"http://www.w3.org/1999/xlink\" width=\"1203pt\" height=\"404pt\" viewBox=\"0.00 0.00 1203.00 404.00\">\n",
       "<g id=\"graph0\" class=\"graph\" transform=\"scale(1 1) rotate(0) translate(4 400)\">\n",
       "<title>%3</title>\n",
       "<polygon fill=\"white\" stroke=\"transparent\" points=\"-4,4 -4,-400 1199,-400 1199,4 -4,4\"/>\n",
       "<!-- 0 -->\n",
       "<g id=\"node1\" class=\"node\">\n",
       "<title>0</title>\n",
       "<text text-anchor=\"start\" x=\"231.5\" y=\"-375.3\" font-family=\"Courier,monospace\" font-weight=\"bold\" font-size=\"14.00\" fill=\"#004080\">FunctionDef</text>\n",
       "</g>\n",
       "<!-- 1 -->\n",
       "<g id=\"node2\" class=\"node\">\n",
       "<title>1</title>\n",
       "<text text-anchor=\"middle\" x=\"58\" y=\"-302.3\" font-family=\"Courier,monospace\" font-size=\"14.00\" fill=\"#008040\">&quot;factorial3&quot;</text>\n",
       "</g>\n",
       "<!-- 0&#45;&#45;1 -->\n",
       "<g id=\"edge1\" class=\"edge\">\n",
       "<title>0--1</title>\n",
       "<path fill=\"none\" stroke=\"black\" d=\"M278,-359C278,-359 192.81,-340.36 125,-324 122.08,-323.3 119.1,-322.57 116.08,-321.83\"/>\n",
       "</g>\n",
       "<!-- 2 -->\n",
       "<g id=\"node3\" class=\"node\">\n",
       "<title>2</title>\n",
       "<text text-anchor=\"start\" x=\"142.5\" y=\"-303.3\" font-family=\"Courier,monospace\" font-weight=\"bold\" font-size=\"14.00\" fill=\"#004080\">arguments</text>\n",
       "</g>\n",
       "<!-- 0&#45;&#45;2 -->\n",
       "<g id=\"edge2\" class=\"edge\">\n",
       "<title>0--2</title>\n",
       "<path fill=\"none\" stroke=\"black\" d=\"M278,-359C278,-359 240.67,-339.19 212.09,-324.03\"/>\n",
       "</g>\n",
       "<!-- 5 -->\n",
       "<g id=\"node6\" class=\"node\">\n",
       "<title>5</title>\n",
       "<text text-anchor=\"start\" x=\"252\" y=\"-303.3\" font-family=\"Courier,monospace\" font-weight=\"bold\" font-size=\"14.00\" fill=\"#004080\">Assign</text>\n",
       "</g>\n",
       "<!-- 0&#45;&#45;5 -->\n",
       "<g id=\"edge5\" class=\"edge\">\n",
       "<title>0--5</title>\n",
       "<path fill=\"none\" stroke=\"black\" d=\"M278,-359C278,-359 277.62,-339.19 277.33,-324.03\"/>\n",
       "</g>\n",
       "<!-- 11 -->\n",
       "<g id=\"node12\" class=\"node\">\n",
       "<title>11</title>\n",
       "<text text-anchor=\"start\" x=\"440.5\" y=\"-303.3\" font-family=\"Courier,monospace\" font-weight=\"bold\" font-size=\"14.00\" fill=\"#004080\">For</text>\n",
       "</g>\n",
       "<!-- 0&#45;&#45;11 -->\n",
       "<g id=\"edge11\" class=\"edge\">\n",
       "<title>0--11</title>\n",
       "<path fill=\"none\" stroke=\"black\" d=\"M278,-359C278,-359 376.44,-329.75 425.66,-315.12\"/>\n",
       "</g>\n",
       "<!-- 36 -->\n",
       "<g id=\"node37\" class=\"node\">\n",
       "<title>36</title>\n",
       "<text text-anchor=\"start\" x=\"800\" y=\"-303.3\" font-family=\"Courier,monospace\" font-weight=\"bold\" font-size=\"14.00\" fill=\"#004080\">Return</text>\n",
       "</g>\n",
       "<!-- 0&#45;&#45;36 -->\n",
       "<g id=\"edge36\" class=\"edge\">\n",
       "<title>0--36</title>\n",
       "<path fill=\"none\" stroke=\"black\" d=\"M278,-359C278,-359 672.84,-321.46 791.61,-310.17\"/>\n",
       "</g>\n",
       "<!-- 3 -->\n",
       "<g id=\"node4\" class=\"node\">\n",
       "<title>3</title>\n",
       "<text text-anchor=\"start\" x=\"66.5\" y=\"-231.3\" font-family=\"Courier,monospace\" font-weight=\"bold\" font-size=\"14.00\" fill=\"#004080\">arg</text>\n",
       "</g>\n",
       "<!-- 2&#45;&#45;3 -->\n",
       "<g id=\"edge3\" class=\"edge\">\n",
       "<title>2--3</title>\n",
       "<path fill=\"none\" stroke=\"black\" d=\"M155.29,-287.88C139.64,-277.03 119.47,-263.05 103.8,-252.19\"/>\n",
       "</g>\n",
       "<!-- 4 -->\n",
       "<g id=\"node5\" class=\"node\">\n",
       "<title>4</title>\n",
       "<text text-anchor=\"middle\" x=\"46\" y=\"-158.3\" font-family=\"Courier,monospace\" font-size=\"14.00\" fill=\"#008040\">&quot;n&quot;</text>\n",
       "</g>\n",
       "<!-- 3&#45;&#45;4 -->\n",
       "<g id=\"edge4\" class=\"edge\">\n",
       "<title>3--4</title>\n",
       "<path fill=\"none\" stroke=\"black\" d=\"M70.84,-215.7C65.73,-204.85 59.16,-190.92 54.06,-180.1\"/>\n",
       "</g>\n",
       "<!-- 6 -->\n",
       "<g id=\"node7\" class=\"node\">\n",
       "<title>6</title>\n",
       "<text text-anchor=\"start\" x=\"173\" y=\"-231.3\" font-family=\"Courier,monospace\" font-weight=\"bold\" font-size=\"14.00\" fill=\"#004080\">Name</text>\n",
       "</g>\n",
       "<!-- 5&#45;&#45;6 -->\n",
       "<g id=\"edge6\" class=\"edge\">\n",
       "<title>5--6</title>\n",
       "<path fill=\"none\" stroke=\"black\" d=\"M268,-287C268,-287 238.29,-267.19 215.54,-252.03\"/>\n",
       "</g>\n",
       "<!-- 9 -->\n",
       "<g id=\"node10\" class=\"node\">\n",
       "<title>9</title>\n",
       "<text text-anchor=\"start\" x=\"243.5\" y=\"-231.3\" font-family=\"Courier,monospace\" font-weight=\"bold\" font-size=\"14.00\" fill=\"#004080\">Constant</text>\n",
       "</g>\n",
       "<!-- 5&#45;&#45;9 -->\n",
       "<g id=\"edge9\" class=\"edge\">\n",
       "<title>5--9</title>\n",
       "<path fill=\"none\" stroke=\"black\" d=\"M268,-287C268,-287 271.43,-267.19 274.05,-252.03\"/>\n",
       "</g>\n",
       "<!-- 7 -->\n",
       "<g id=\"node8\" class=\"node\">\n",
       "<title>7</title>\n",
       "<text text-anchor=\"middle\" x=\"120\" y=\"-158.3\" font-family=\"Courier,monospace\" font-size=\"14.00\" fill=\"#008040\">&quot;res&quot;</text>\n",
       "</g>\n",
       "<!-- 6&#45;&#45;7 -->\n",
       "<g id=\"edge7\" class=\"edge\">\n",
       "<title>6--7</title>\n",
       "<path fill=\"none\" stroke=\"black\" d=\"M184,-215C184,-215 159.62,-195.19 140.96,-180.03\"/>\n",
       "</g>\n",
       "<!-- 8 -->\n",
       "<g id=\"node9\" class=\"node\">\n",
       "<title>8</title>\n",
       "<text text-anchor=\"middle\" x=\"196\" y=\"-158.3\" font-family=\"Courier,monospace\" font-size=\"14.00\" fill=\"#008040\">Store</text>\n",
       "</g>\n",
       "<!-- 6&#45;&#45;8 -->\n",
       "<g id=\"edge8\" class=\"edge\">\n",
       "<title>6--8</title>\n",
       "<path fill=\"none\" stroke=\"black\" d=\"M184,-215C184,-215 188.57,-195.19 192.07,-180.03\"/>\n",
       "</g>\n",
       "<!-- 10 -->\n",
       "<g id=\"node11\" class=\"node\">\n",
       "<title>10</title>\n",
       "<text text-anchor=\"middle\" x=\"270\" y=\"-158.3\" font-family=\"Courier,monospace\" font-size=\"14.00\" fill=\"#008040\">1</text>\n",
       "</g>\n",
       "<!-- 9&#45;&#45;10 -->\n",
       "<g id=\"edge10\" class=\"edge\">\n",
       "<title>9--10</title>\n",
       "<path fill=\"none\" stroke=\"black\" d=\"M275.27,-215.7C274.18,-204.85 272.79,-190.92 271.71,-180.1\"/>\n",
       "</g>\n",
       "<!-- 12 -->\n",
       "<g id=\"node13\" class=\"node\">\n",
       "<title>12</title>\n",
       "<text text-anchor=\"start\" x=\"399\" y=\"-231.3\" font-family=\"Courier,monospace\" font-weight=\"bold\" font-size=\"14.00\" fill=\"#004080\">Name</text>\n",
       "</g>\n",
       "<!-- 11&#45;&#45;12 -->\n",
       "<g id=\"edge12\" class=\"edge\">\n",
       "<title>11--12</title>\n",
       "<path fill=\"none\" stroke=\"black\" d=\"M466,-287C466,-287 446.95,-267.19 432.37,-252.03\"/>\n",
       "</g>\n",
       "<!-- 15 -->\n",
       "<g id=\"node16\" class=\"node\">\n",
       "<title>15</title>\n",
       "<text text-anchor=\"start\" x=\"516\" y=\"-231.3\" font-family=\"Courier,monospace\" font-weight=\"bold\" font-size=\"14.00\" fill=\"#004080\">Call</text>\n",
       "</g>\n",
       "<!-- 11&#45;&#45;15 -->\n",
       "<g id=\"edge15\" class=\"edge\">\n",
       "<title>11--15</title>\n",
       "<path fill=\"none\" stroke=\"black\" d=\"M466,-287C466,-287 491.52,-267.19 511.06,-252.03\"/>\n",
       "</g>\n",
       "<!-- 28 -->\n",
       "<g id=\"node29\" class=\"node\">\n",
       "<title>28</title>\n",
       "<text text-anchor=\"start\" x=\"871.5\" y=\"-231.3\" font-family=\"Courier,monospace\" font-weight=\"bold\" font-size=\"14.00\" fill=\"#004080\">AugAssign</text>\n",
       "</g>\n",
       "<!-- 11&#45;&#45;28 -->\n",
       "<g id=\"edge28\" class=\"edge\">\n",
       "<title>11--28</title>\n",
       "<path fill=\"none\" stroke=\"black\" d=\"M466,-287C466,-287 750.07,-253.65 863.26,-240.37\"/>\n",
       "</g>\n",
       "<!-- 13 -->\n",
       "<g id=\"node14\" class=\"node\">\n",
       "<title>13</title>\n",
       "<text text-anchor=\"middle\" x=\"342\" y=\"-158.3\" font-family=\"Courier,monospace\" font-size=\"14.00\" fill=\"#008040\">&quot;i&quot;</text>\n",
       "</g>\n",
       "<!-- 12&#45;&#45;13 -->\n",
       "<g id=\"edge13\" class=\"edge\">\n",
       "<title>12--13</title>\n",
       "<path fill=\"none\" stroke=\"black\" d=\"M408,-215C408,-215 382.86,-195.19 363.61,-180.03\"/>\n",
       "</g>\n",
       "<!-- 14 -->\n",
       "<g id=\"node15\" class=\"node\">\n",
       "<title>14</title>\n",
       "<text text-anchor=\"middle\" x=\"416\" y=\"-158.3\" font-family=\"Courier,monospace\" font-size=\"14.00\" fill=\"#008040\">Store</text>\n",
       "</g>\n",
       "<!-- 12&#45;&#45;14 -->\n",
       "<g id=\"edge14\" class=\"edge\">\n",
       "<title>12--14</title>\n",
       "<path fill=\"none\" stroke=\"black\" d=\"M408,-215C408,-215 411.05,-195.19 413.38,-180.03\"/>\n",
       "</g>\n",
       "<!-- 16 -->\n",
       "<g id=\"node17\" class=\"node\">\n",
       "<title>16</title>\n",
       "<text text-anchor=\"start\" x=\"473\" y=\"-159.3\" font-family=\"Courier,monospace\" font-weight=\"bold\" font-size=\"14.00\" fill=\"#004080\">Name</text>\n",
       "</g>\n",
       "<!-- 15&#45;&#45;16 -->\n",
       "<g id=\"edge16\" class=\"edge\">\n",
       "<title>15--16</title>\n",
       "<path fill=\"none\" stroke=\"black\" d=\"M541,-215C541,-215 521.57,-195.19 506.7,-180.03\"/>\n",
       "</g>\n",
       "<!-- 19 -->\n",
       "<g id=\"node20\" class=\"node\">\n",
       "<title>19</title>\n",
       "<text text-anchor=\"start\" x=\"543.5\" y=\"-159.3\" font-family=\"Courier,monospace\" font-weight=\"bold\" font-size=\"14.00\" fill=\"#004080\">Constant</text>\n",
       "</g>\n",
       "<!-- 15&#45;&#45;19 -->\n",
       "<g id=\"edge19\" class=\"edge\">\n",
       "<title>15--19</title>\n",
       "<path fill=\"none\" stroke=\"black\" d=\"M541,-215C541,-215 554.71,-195.19 565.21,-180.03\"/>\n",
       "</g>\n",
       "<!-- 21 -->\n",
       "<g id=\"node22\" class=\"node\">\n",
       "<title>21</title>\n",
       "<text text-anchor=\"start\" x=\"665\" y=\"-159.3\" font-family=\"Courier,monospace\" font-weight=\"bold\" font-size=\"14.00\" fill=\"#004080\">BinOp</text>\n",
       "</g>\n",
       "<!-- 15&#45;&#45;21 -->\n",
       "<g id=\"edge21\" class=\"edge\">\n",
       "<title>15--21</title>\n",
       "<path fill=\"none\" stroke=\"black\" d=\"M541,-215C541,-215 614.29,-188.72 656.66,-173.52\"/>\n",
       "</g>\n",
       "<!-- 17 -->\n",
       "<g id=\"node18\" class=\"node\">\n",
       "<title>17</title>\n",
       "<text text-anchor=\"middle\" x=\"398\" y=\"-86.3\" font-family=\"Courier,monospace\" font-size=\"14.00\" fill=\"#008040\">&quot;range&quot;</text>\n",
       "</g>\n",
       "<!-- 16&#45;&#45;17 -->\n",
       "<g id=\"edge17\" class=\"edge\">\n",
       "<title>16--17</title>\n",
       "<path fill=\"none\" stroke=\"black\" d=\"M480,-143C480,-143 448.76,-123.19 424.85,-108.03\"/>\n",
       "</g>\n",
       "<!-- 18 -->\n",
       "<g id=\"node19\" class=\"node\">\n",
       "<title>18</title>\n",
       "<text text-anchor=\"middle\" x=\"480\" y=\"-86.3\" font-family=\"Courier,monospace\" font-size=\"14.00\" fill=\"#008040\">Load</text>\n",
       "</g>\n",
       "<!-- 16&#45;&#45;18 -->\n",
       "<g id=\"edge18\" class=\"edge\">\n",
       "<title>16--18</title>\n",
       "<path fill=\"none\" stroke=\"black\" d=\"M480,-143C480,-143 480,-123.19 480,-108.03\"/>\n",
       "</g>\n",
       "<!-- 20 -->\n",
       "<g id=\"node21\" class=\"node\">\n",
       "<title>20</title>\n",
       "<text text-anchor=\"middle\" x=\"552\" y=\"-86.3\" font-family=\"Courier,monospace\" font-size=\"14.00\" fill=\"#008040\">1</text>\n",
       "</g>\n",
       "<!-- 19&#45;&#45;20 -->\n",
       "<g id=\"edge20\" class=\"edge\">\n",
       "<title>19--20</title>\n",
       "<path fill=\"none\" stroke=\"black\" d=\"M570.82,-143.7C566.95,-132.85 561.97,-118.92 558.11,-108.1\"/>\n",
       "</g>\n",
       "<!-- 22 -->\n",
       "<g id=\"node23\" class=\"node\">\n",
       "<title>22</title>\n",
       "<text text-anchor=\"start\" x=\"607\" y=\"-87.3\" font-family=\"Courier,monospace\" font-weight=\"bold\" font-size=\"14.00\" fill=\"#004080\">Name</text>\n",
       "</g>\n",
       "<!-- 21&#45;&#45;22 -->\n",
       "<g id=\"edge22\" class=\"edge\">\n",
       "<title>21--22</title>\n",
       "<path fill=\"none\" stroke=\"black\" d=\"M688,-143C688,-143 663.62,-123.19 644.96,-108.03\"/>\n",
       "</g>\n",
       "<!-- 25 -->\n",
       "<g id=\"node26\" class=\"node\">\n",
       "<title>25</title>\n",
       "<text text-anchor=\"middle\" x=\"696\" y=\"-86.3\" font-family=\"Courier,monospace\" font-size=\"14.00\" fill=\"#008040\">Add</text>\n",
       "</g>\n",
       "<!-- 21&#45;&#45;25 -->\n",
       "<g id=\"edge25\" class=\"edge\">\n",
       "<title>21--25</title>\n",
       "<path fill=\"none\" stroke=\"black\" d=\"M688,-143C688,-143 691.05,-123.19 693.38,-108.03\"/>\n",
       "</g>\n",
       "<!-- 26 -->\n",
       "<g id=\"node27\" class=\"node\">\n",
       "<title>26</title>\n",
       "<text text-anchor=\"start\" x=\"749.5\" y=\"-87.3\" font-family=\"Courier,monospace\" font-weight=\"bold\" font-size=\"14.00\" fill=\"#004080\">Constant</text>\n",
       "</g>\n",
       "<!-- 21&#45;&#45;26 -->\n",
       "<g id=\"edge26\" class=\"edge\">\n",
       "<title>21--26</title>\n",
       "<path fill=\"none\" stroke=\"black\" d=\"M688,-143C688,-143 724.19,-123.19 751.89,-108.03\"/>\n",
       "</g>\n",
       "<!-- 23 -->\n",
       "<g id=\"node24\" class=\"node\">\n",
       "<title>23</title>\n",
       "<text text-anchor=\"middle\" x=\"588\" y=\"-14.3\" font-family=\"Courier,monospace\" font-size=\"14.00\" fill=\"#008040\">&quot;n&quot;</text>\n",
       "</g>\n",
       "<!-- 22&#45;&#45;23 -->\n",
       "<g id=\"edge23\" class=\"edge\">\n",
       "<title>22--23</title>\n",
       "<path fill=\"none\" stroke=\"black\" d=\"M624,-71C624,-71 610.29,-51.19 599.79,-36.03\"/>\n",
       "</g>\n",
       "<!-- 24 -->\n",
       "<g id=\"node25\" class=\"node\">\n",
       "<title>24</title>\n",
       "<text text-anchor=\"middle\" x=\"660\" y=\"-14.3\" font-family=\"Courier,monospace\" font-size=\"14.00\" fill=\"#008040\">Load</text>\n",
       "</g>\n",
       "<!-- 22&#45;&#45;24 -->\n",
       "<g id=\"edge24\" class=\"edge\">\n",
       "<title>22--24</title>\n",
       "<path fill=\"none\" stroke=\"black\" d=\"M624,-71C624,-71 637.71,-51.19 648.21,-36.03\"/>\n",
       "</g>\n",
       "<!-- 27 -->\n",
       "<g id=\"node28\" class=\"node\">\n",
       "<title>27</title>\n",
       "<text text-anchor=\"middle\" x=\"783\" y=\"-14.3\" font-family=\"Courier,monospace\" font-size=\"14.00\" fill=\"#008040\">1</text>\n",
       "</g>\n",
       "<!-- 26&#45;&#45;27 -->\n",
       "<g id=\"edge27\" class=\"edge\">\n",
       "<title>26--27</title>\n",
       "<path fill=\"none\" stroke=\"black\" d=\"M783,-71.7C783,-60.85 783,-46.92 783,-36.1\"/>\n",
       "</g>\n",
       "<!-- 29 -->\n",
       "<g id=\"node30\" class=\"node\">\n",
       "<title>29</title>\n",
       "<text text-anchor=\"start\" x=\"856\" y=\"-159.3\" font-family=\"Courier,monospace\" font-weight=\"bold\" font-size=\"14.00\" fill=\"#004080\">Name</text>\n",
       "</g>\n",
       "<!-- 28&#45;&#45;29 -->\n",
       "<g id=\"edge29\" class=\"edge\">\n",
       "<title>28--29</title>\n",
       "<path fill=\"none\" stroke=\"black\" d=\"M915,-215C915,-215 899,-195.19 886.75,-180.03\"/>\n",
       "</g>\n",
       "<!-- 32 -->\n",
       "<g id=\"node33\" class=\"node\">\n",
       "<title>32</title>\n",
       "<text text-anchor=\"middle\" x=\"945\" y=\"-158.3\" font-family=\"Courier,monospace\" font-size=\"14.00\" fill=\"#008040\">Add</text>\n",
       "</g>\n",
       "<!-- 28&#45;&#45;32 -->\n",
       "<g id=\"edge32\" class=\"edge\">\n",
       "<title>28--32</title>\n",
       "<path fill=\"none\" stroke=\"black\" d=\"M915,-215C915,-215 926.43,-195.19 935.18,-180.03\"/>\n",
       "</g>\n",
       "<!-- 33 -->\n",
       "<g id=\"node34\" class=\"node\">\n",
       "<title>33</title>\n",
       "<text text-anchor=\"start\" x=\"1003\" y=\"-159.3\" font-family=\"Courier,monospace\" font-weight=\"bold\" font-size=\"14.00\" fill=\"#004080\">Name</text>\n",
       "</g>\n",
       "<!-- 28&#45;&#45;33 -->\n",
       "<g id=\"edge33\" class=\"edge\">\n",
       "<title>28--33</title>\n",
       "<path fill=\"none\" stroke=\"black\" d=\"M915,-215C915,-215 961.85,-191.8 992.96,-176.39\"/>\n",
       "</g>\n",
       "<!-- 30 -->\n",
       "<g id=\"node31\" class=\"node\">\n",
       "<title>30</title>\n",
       "<text text-anchor=\"middle\" x=\"872\" y=\"-86.3\" font-family=\"Courier,monospace\" font-size=\"14.00\" fill=\"#008040\">&quot;res&quot;</text>\n",
       "</g>\n",
       "<!-- 29&#45;&#45;30 -->\n",
       "<g id=\"edge30\" class=\"edge\">\n",
       "<title>29--30</title>\n",
       "<path fill=\"none\" stroke=\"black\" d=\"M881,-143C881,-143 877.57,-123.19 874.95,-108.03\"/>\n",
       "</g>\n",
       "<!-- 31 -->\n",
       "<g id=\"node32\" class=\"node\">\n",
       "<title>31</title>\n",
       "<text text-anchor=\"middle\" x=\"948\" y=\"-86.3\" font-family=\"Courier,monospace\" font-size=\"14.00\" fill=\"#008040\">Store</text>\n",
       "</g>\n",
       "<!-- 29&#45;&#45;31 -->\n",
       "<g id=\"edge31\" class=\"edge\">\n",
       "<title>29--31</title>\n",
       "<path fill=\"none\" stroke=\"black\" d=\"M881,-143C881,-143 906.52,-123.19 926.06,-108.03\"/>\n",
       "</g>\n",
       "<!-- 34 -->\n",
       "<g id=\"node35\" class=\"node\">\n",
       "<title>34</title>\n",
       "<text text-anchor=\"middle\" x=\"1022\" y=\"-86.3\" font-family=\"Courier,monospace\" font-size=\"14.00\" fill=\"#008040\">&quot;i&quot;</text>\n",
       "</g>\n",
       "<!-- 33&#45;&#45;34 -->\n",
       "<g id=\"edge34\" class=\"edge\">\n",
       "<title>33--34</title>\n",
       "<path fill=\"none\" stroke=\"black\" d=\"M1028,-143C1028,-143 1025.71,-123.19 1023.96,-108.03\"/>\n",
       "</g>\n",
       "<!-- 35 -->\n",
       "<g id=\"node36\" class=\"node\">\n",
       "<title>35</title>\n",
       "<text text-anchor=\"middle\" x=\"1094\" y=\"-86.3\" font-family=\"Courier,monospace\" font-size=\"14.00\" fill=\"#008040\">Load</text>\n",
       "</g>\n",
       "<!-- 33&#45;&#45;35 -->\n",
       "<g id=\"edge35\" class=\"edge\">\n",
       "<title>33--35</title>\n",
       "<path fill=\"none\" stroke=\"black\" d=\"M1028,-143C1028,-143 1053.14,-123.19 1072.39,-108.03\"/>\n",
       "</g>\n",
       "<!-- 37 -->\n",
       "<g id=\"node38\" class=\"node\">\n",
       "<title>37</title>\n",
       "<text text-anchor=\"start\" x=\"1077\" y=\"-231.3\" font-family=\"Courier,monospace\" font-weight=\"bold\" font-size=\"14.00\" fill=\"#004080\">Name</text>\n",
       "</g>\n",
       "<!-- 36&#45;&#45;37 -->\n",
       "<g id=\"edge37\" class=\"edge\">\n",
       "<title>36--37</title>\n",
       "<path fill=\"none\" stroke=\"black\" d=\"M858.25,-296.35C912.09,-282.34 1017.3,-254.96 1066.9,-242.05\"/>\n",
       "</g>\n",
       "<!-- 38 -->\n",
       "<g id=\"node39\" class=\"node\">\n",
       "<title>38</title>\n",
       "<text text-anchor=\"middle\" x=\"1094\" y=\"-158.3\" font-family=\"Courier,monospace\" font-size=\"14.00\" fill=\"#008040\">&quot;res&quot;</text>\n",
       "</g>\n",
       "<!-- 37&#45;&#45;38 -->\n",
       "<g id=\"edge38\" class=\"edge\">\n",
       "<title>37--38</title>\n",
       "<path fill=\"none\" stroke=\"black\" d=\"M1102,-215C1102,-215 1098.95,-195.19 1096.62,-180.03\"/>\n",
       "</g>\n",
       "<!-- 39 -->\n",
       "<g id=\"node40\" class=\"node\">\n",
       "<title>39</title>\n",
       "<text text-anchor=\"middle\" x=\"1168\" y=\"-158.3\" font-family=\"Courier,monospace\" font-size=\"14.00\" fill=\"#008040\">Load</text>\n",
       "</g>\n",
       "<!-- 37&#45;&#45;39 -->\n",
       "<g id=\"edge39\" class=\"edge\">\n",
       "<title>37--39</title>\n",
       "<path fill=\"none\" stroke=\"black\" d=\"M1102,-215C1102,-215 1127.14,-195.19 1146.39,-180.03\"/>\n",
       "</g>\n",
       "</g>\n",
       "</svg>"
      ],
      "text/plain": [
       "<IPython.core.display.SVG object>"
      ]
     },
     "metadata": {},
     "output_type": "display_data"
    },
    {
     "data": {
      "image/svg+xml": [
       "<svg xmlns=\"http://www.w3.org/2000/svg\" xmlns:xlink=\"http://www.w3.org/1999/xlink\" width=\"1252pt\" height=\"404pt\" viewBox=\"0.00 0.00 1251.50 404.00\">\n",
       "<g id=\"graph0\" class=\"graph\" transform=\"scale(1 1) rotate(0) translate(4 400)\">\n",
       "<title>%3</title>\n",
       "<polygon fill=\"white\" stroke=\"transparent\" points=\"-4,4 -4,-400 1247.5,-400 1247.5,4 -4,4\"/>\n",
       "<!-- 0 -->\n",
       "<g id=\"node1\" class=\"node\">\n",
       "<title>0</title>\n",
       "<text text-anchor=\"start\" x=\"280\" y=\"-375.3\" font-family=\"Courier,monospace\" font-weight=\"bold\" font-size=\"14.00\" fill=\"#004080\">FunctionDef</text>\n",
       "</g>\n",
       "<!-- 1 -->\n",
       "<g id=\"node2\" class=\"node\">\n",
       "<title>1</title>\n",
       "<text text-anchor=\"middle\" x=\"82.5\" y=\"-302.3\" font-family=\"Courier,monospace\" font-size=\"14.00\" fill=\"#008040\">&quot;fixed_factorial3&quot;</text>\n",
       "</g>\n",
       "<!-- 0&#45;&#45;1 -->\n",
       "<g id=\"edge1\" class=\"edge\">\n",
       "<title>0--1</title>\n",
       "<path fill=\"none\" stroke=\"black\" d=\"M326.5,-359C326.5,-359 233.56,-339.19 162.39,-324.03\"/>\n",
       "</g>\n",
       "<!-- 2 -->\n",
       "<g id=\"node3\" class=\"node\">\n",
       "<title>2</title>\n",
       "<text text-anchor=\"start\" x=\"191\" y=\"-303.3\" font-family=\"Courier,monospace\" font-weight=\"bold\" font-size=\"14.00\" fill=\"#004080\">arguments</text>\n",
       "</g>\n",
       "<!-- 0&#45;&#45;2 -->\n",
       "<g id=\"edge2\" class=\"edge\">\n",
       "<title>0--2</title>\n",
       "<path fill=\"none\" stroke=\"black\" d=\"M326.5,-359C326.5,-359 289.17,-339.19 260.59,-324.03\"/>\n",
       "</g>\n",
       "<!-- 5 -->\n",
       "<g id=\"node6\" class=\"node\">\n",
       "<title>5</title>\n",
       "<text text-anchor=\"start\" x=\"300.5\" y=\"-303.3\" font-family=\"Courier,monospace\" font-weight=\"bold\" font-size=\"14.00\" fill=\"#004080\">Assign</text>\n",
       "</g>\n",
       "<!-- 0&#45;&#45;5 -->\n",
       "<g id=\"edge5\" class=\"edge\">\n",
       "<title>0--5</title>\n",
       "<path fill=\"none\" stroke=\"black\" d=\"M326.5,-359C326.5,-359 326.12,-339.19 325.83,-324.03\"/>\n",
       "</g>\n",
       "<!-- 11 -->\n",
       "<g id=\"node12\" class=\"node\">\n",
       "<title>11</title>\n",
       "<text text-anchor=\"start\" x=\"489\" y=\"-303.3\" font-family=\"Courier,monospace\" font-weight=\"bold\" font-size=\"14.00\" fill=\"#004080\">For</text>\n",
       "</g>\n",
       "<!-- 0&#45;&#45;11 -->\n",
       "<g id=\"edge11\" class=\"edge\">\n",
       "<title>0--11</title>\n",
       "<path fill=\"none\" stroke=\"black\" d=\"M326.5,-359C326.5,-359 424.94,-329.75 474.16,-315.12\"/>\n",
       "</g>\n",
       "<!-- 36 -->\n",
       "<g id=\"node37\" class=\"node\">\n",
       "<title>36</title>\n",
       "<text text-anchor=\"start\" x=\"848.5\" y=\"-303.3\" font-family=\"Courier,monospace\" font-weight=\"bold\" font-size=\"14.00\" fill=\"#004080\">Return</text>\n",
       "</g>\n",
       "<!-- 0&#45;&#45;36 -->\n",
       "<g id=\"edge36\" class=\"edge\">\n",
       "<title>0--36</title>\n",
       "<path fill=\"none\" stroke=\"black\" d=\"M326.5,-359C326.5,-359 721.34,-321.46 840.11,-310.17\"/>\n",
       "</g>\n",
       "<!-- 3 -->\n",
       "<g id=\"node4\" class=\"node\">\n",
       "<title>3</title>\n",
       "<text text-anchor=\"start\" x=\"115\" y=\"-231.3\" font-family=\"Courier,monospace\" font-weight=\"bold\" font-size=\"14.00\" fill=\"#004080\">arg</text>\n",
       "</g>\n",
       "<!-- 2&#45;&#45;3 -->\n",
       "<g id=\"edge3\" class=\"edge\">\n",
       "<title>2--3</title>\n",
       "<path fill=\"none\" stroke=\"black\" d=\"M203.79,-287.88C188.14,-277.03 167.97,-263.05 152.3,-252.19\"/>\n",
       "</g>\n",
       "<!-- 4 -->\n",
       "<g id=\"node5\" class=\"node\">\n",
       "<title>4</title>\n",
       "<text text-anchor=\"middle\" x=\"94.5\" y=\"-158.3\" font-family=\"Courier,monospace\" font-size=\"14.00\" fill=\"#008040\">&quot;n&quot;</text>\n",
       "</g>\n",
       "<!-- 3&#45;&#45;4 -->\n",
       "<g id=\"edge4\" class=\"edge\">\n",
       "<title>3--4</title>\n",
       "<path fill=\"none\" stroke=\"black\" d=\"M119.34,-215.7C114.23,-204.85 107.66,-190.92 102.56,-180.1\"/>\n",
       "</g>\n",
       "<!-- 6 -->\n",
       "<g id=\"node7\" class=\"node\">\n",
       "<title>6</title>\n",
       "<text text-anchor=\"start\" x=\"221.5\" y=\"-231.3\" font-family=\"Courier,monospace\" font-weight=\"bold\" font-size=\"14.00\" fill=\"#004080\">Name</text>\n",
       "</g>\n",
       "<!-- 5&#45;&#45;6 -->\n",
       "<g id=\"edge6\" class=\"edge\">\n",
       "<title>5--6</title>\n",
       "<path fill=\"none\" stroke=\"black\" d=\"M316.5,-287C316.5,-287 286.79,-267.19 264.04,-252.03\"/>\n",
       "</g>\n",
       "<!-- 9 -->\n",
       "<g id=\"node10\" class=\"node\">\n",
       "<title>9</title>\n",
       "<text text-anchor=\"start\" x=\"292\" y=\"-231.3\" font-family=\"Courier,monospace\" font-weight=\"bold\" font-size=\"14.00\" fill=\"#004080\">Constant</text>\n",
       "</g>\n",
       "<!-- 5&#45;&#45;9 -->\n",
       "<g id=\"edge9\" class=\"edge\">\n",
       "<title>5--9</title>\n",
       "<path fill=\"none\" stroke=\"black\" d=\"M316.5,-287C316.5,-287 319.93,-267.19 322.55,-252.03\"/>\n",
       "</g>\n",
       "<!-- 7 -->\n",
       "<g id=\"node8\" class=\"node\">\n",
       "<title>7</title>\n",
       "<text text-anchor=\"middle\" x=\"168.5\" y=\"-158.3\" font-family=\"Courier,monospace\" font-size=\"14.00\" fill=\"#008040\">&quot;res&quot;</text>\n",
       "</g>\n",
       "<!-- 6&#45;&#45;7 -->\n",
       "<g id=\"edge7\" class=\"edge\">\n",
       "<title>6--7</title>\n",
       "<path fill=\"none\" stroke=\"black\" d=\"M232.5,-215C232.5,-215 208.12,-195.19 189.46,-180.03\"/>\n",
       "</g>\n",
       "<!-- 8 -->\n",
       "<g id=\"node9\" class=\"node\">\n",
       "<title>8</title>\n",
       "<text text-anchor=\"middle\" x=\"244.5\" y=\"-158.3\" font-family=\"Courier,monospace\" font-size=\"14.00\" fill=\"#008040\">Store</text>\n",
       "</g>\n",
       "<!-- 6&#45;&#45;8 -->\n",
       "<g id=\"edge8\" class=\"edge\">\n",
       "<title>6--8</title>\n",
       "<path fill=\"none\" stroke=\"black\" d=\"M232.5,-215C232.5,-215 237.07,-195.19 240.57,-180.03\"/>\n",
       "</g>\n",
       "<!-- 10 -->\n",
       "<g id=\"node11\" class=\"node\">\n",
       "<title>10</title>\n",
       "<text text-anchor=\"middle\" x=\"318.5\" y=\"-158.3\" font-family=\"Courier,monospace\" font-size=\"14.00\" fill=\"#008040\">1</text>\n",
       "</g>\n",
       "<!-- 9&#45;&#45;10 -->\n",
       "<g id=\"edge10\" class=\"edge\">\n",
       "<title>9--10</title>\n",
       "<path fill=\"none\" stroke=\"black\" d=\"M323.77,-215.7C322.68,-204.85 321.29,-190.92 320.21,-180.1\"/>\n",
       "</g>\n",
       "<!-- 12 -->\n",
       "<g id=\"node13\" class=\"node\">\n",
       "<title>12</title>\n",
       "<text text-anchor=\"start\" x=\"447.5\" y=\"-231.3\" font-family=\"Courier,monospace\" font-weight=\"bold\" font-size=\"14.00\" fill=\"#004080\">Name</text>\n",
       "</g>\n",
       "<!-- 11&#45;&#45;12 -->\n",
       "<g id=\"edge12\" class=\"edge\">\n",
       "<title>11--12</title>\n",
       "<path fill=\"none\" stroke=\"black\" d=\"M514.5,-287C514.5,-287 495.45,-267.19 480.87,-252.03\"/>\n",
       "</g>\n",
       "<!-- 15 -->\n",
       "<g id=\"node16\" class=\"node\">\n",
       "<title>15</title>\n",
       "<text text-anchor=\"start\" x=\"564.5\" y=\"-231.3\" font-family=\"Courier,monospace\" font-weight=\"bold\" font-size=\"14.00\" fill=\"#004080\">Call</text>\n",
       "</g>\n",
       "<!-- 11&#45;&#45;15 -->\n",
       "<g id=\"edge15\" class=\"edge\">\n",
       "<title>11--15</title>\n",
       "<path fill=\"none\" stroke=\"black\" d=\"M514.5,-287C514.5,-287 540.02,-267.19 559.56,-252.03\"/>\n",
       "</g>\n",
       "<!-- 28 -->\n",
       "<g id=\"node29\" class=\"node\">\n",
       "<title>28</title>\n",
       "<text text-anchor=\"start\" x=\"920\" y=\"-231.3\" font-family=\"Courier,monospace\" font-weight=\"bold\" font-size=\"14.00\" fill=\"#004080\">AugAssign</text>\n",
       "</g>\n",
       "<!-- 11&#45;&#45;28 -->\n",
       "<g id=\"edge28\" class=\"edge\">\n",
       "<title>11--28</title>\n",
       "<path fill=\"none\" stroke=\"black\" d=\"M514.5,-287C514.5,-287 798.57,-253.65 911.76,-240.37\"/>\n",
       "</g>\n",
       "<!-- 13 -->\n",
       "<g id=\"node14\" class=\"node\">\n",
       "<title>13</title>\n",
       "<text text-anchor=\"middle\" x=\"390.5\" y=\"-158.3\" font-family=\"Courier,monospace\" font-size=\"14.00\" fill=\"#008040\">&quot;i&quot;</text>\n",
       "</g>\n",
       "<!-- 12&#45;&#45;13 -->\n",
       "<g id=\"edge13\" class=\"edge\">\n",
       "<title>12--13</title>\n",
       "<path fill=\"none\" stroke=\"black\" d=\"M456.5,-215C456.5,-215 431.36,-195.19 412.11,-180.03\"/>\n",
       "</g>\n",
       "<!-- 14 -->\n",
       "<g id=\"node15\" class=\"node\">\n",
       "<title>14</title>\n",
       "<text text-anchor=\"middle\" x=\"464.5\" y=\"-158.3\" font-family=\"Courier,monospace\" font-size=\"14.00\" fill=\"#008040\">Store</text>\n",
       "</g>\n",
       "<!-- 12&#45;&#45;14 -->\n",
       "<g id=\"edge14\" class=\"edge\">\n",
       "<title>12--14</title>\n",
       "<path fill=\"none\" stroke=\"black\" d=\"M456.5,-215C456.5,-215 459.55,-195.19 461.88,-180.03\"/>\n",
       "</g>\n",
       "<!-- 16 -->\n",
       "<g id=\"node17\" class=\"node\">\n",
       "<title>16</title>\n",
       "<text text-anchor=\"start\" x=\"521.5\" y=\"-159.3\" font-family=\"Courier,monospace\" font-weight=\"bold\" font-size=\"14.00\" fill=\"#004080\">Name</text>\n",
       "</g>\n",
       "<!-- 15&#45;&#45;16 -->\n",
       "<g id=\"edge16\" class=\"edge\">\n",
       "<title>15--16</title>\n",
       "<path fill=\"none\" stroke=\"black\" d=\"M589.5,-215C589.5,-215 570.07,-195.19 555.2,-180.03\"/>\n",
       "</g>\n",
       "<!-- 19 -->\n",
       "<g id=\"node20\" class=\"node\">\n",
       "<title>19</title>\n",
       "<text text-anchor=\"start\" x=\"592\" y=\"-159.3\" font-family=\"Courier,monospace\" font-weight=\"bold\" font-size=\"14.00\" fill=\"#004080\">Constant</text>\n",
       "</g>\n",
       "<!-- 15&#45;&#45;19 -->\n",
       "<g id=\"edge19\" class=\"edge\">\n",
       "<title>15--19</title>\n",
       "<path fill=\"none\" stroke=\"black\" d=\"M589.5,-215C589.5,-215 603.21,-195.19 613.71,-180.03\"/>\n",
       "</g>\n",
       "<!-- 21 -->\n",
       "<g id=\"node22\" class=\"node\">\n",
       "<title>21</title>\n",
       "<text text-anchor=\"start\" x=\"713.5\" y=\"-159.3\" font-family=\"Courier,monospace\" font-weight=\"bold\" font-size=\"14.00\" fill=\"#004080\">BinOp</text>\n",
       "</g>\n",
       "<!-- 15&#45;&#45;21 -->\n",
       "<g id=\"edge21\" class=\"edge\">\n",
       "<title>15--21</title>\n",
       "<path fill=\"none\" stroke=\"black\" d=\"M589.5,-215C589.5,-215 662.79,-188.72 705.16,-173.52\"/>\n",
       "</g>\n",
       "<!-- 17 -->\n",
       "<g id=\"node18\" class=\"node\">\n",
       "<title>17</title>\n",
       "<text text-anchor=\"middle\" x=\"446.5\" y=\"-86.3\" font-family=\"Courier,monospace\" font-size=\"14.00\" fill=\"#008040\">&quot;range&quot;</text>\n",
       "</g>\n",
       "<!-- 16&#45;&#45;17 -->\n",
       "<g id=\"edge17\" class=\"edge\">\n",
       "<title>16--17</title>\n",
       "<path fill=\"none\" stroke=\"black\" d=\"M528.5,-143C528.5,-143 497.26,-123.19 473.35,-108.03\"/>\n",
       "</g>\n",
       "<!-- 18 -->\n",
       "<g id=\"node19\" class=\"node\">\n",
       "<title>18</title>\n",
       "<text text-anchor=\"middle\" x=\"528.5\" y=\"-86.3\" font-family=\"Courier,monospace\" font-size=\"14.00\" fill=\"#008040\">Load</text>\n",
       "</g>\n",
       "<!-- 16&#45;&#45;18 -->\n",
       "<g id=\"edge18\" class=\"edge\">\n",
       "<title>16--18</title>\n",
       "<path fill=\"none\" stroke=\"black\" d=\"M528.5,-143C528.5,-143 528.5,-123.19 528.5,-108.03\"/>\n",
       "</g>\n",
       "<!-- 20 -->\n",
       "<g id=\"node21\" class=\"node\">\n",
       "<title>20</title>\n",
       "<text text-anchor=\"middle\" x=\"600.5\" y=\"-86.3\" font-family=\"Courier,monospace\" font-size=\"14.00\" fill=\"#008040\">1</text>\n",
       "</g>\n",
       "<!-- 19&#45;&#45;20 -->\n",
       "<g id=\"edge20\" class=\"edge\">\n",
       "<title>19--20</title>\n",
       "<path fill=\"none\" stroke=\"black\" d=\"M619.32,-143.7C615.45,-132.85 610.47,-118.92 606.61,-108.1\"/>\n",
       "</g>\n",
       "<!-- 22 -->\n",
       "<g id=\"node23\" class=\"node\">\n",
       "<title>22</title>\n",
       "<text text-anchor=\"start\" x=\"655.5\" y=\"-87.3\" font-family=\"Courier,monospace\" font-weight=\"bold\" font-size=\"14.00\" fill=\"#004080\">Name</text>\n",
       "</g>\n",
       "<!-- 21&#45;&#45;22 -->\n",
       "<g id=\"edge22\" class=\"edge\">\n",
       "<title>21--22</title>\n",
       "<path fill=\"none\" stroke=\"black\" d=\"M736.5,-143C736.5,-143 712.12,-123.19 693.46,-108.03\"/>\n",
       "</g>\n",
       "<!-- 25 -->\n",
       "<g id=\"node26\" class=\"node\">\n",
       "<title>25</title>\n",
       "<text text-anchor=\"middle\" x=\"744.5\" y=\"-86.3\" font-family=\"Courier,monospace\" font-size=\"14.00\" fill=\"#008040\">Add</text>\n",
       "</g>\n",
       "<!-- 21&#45;&#45;25 -->\n",
       "<g id=\"edge25\" class=\"edge\">\n",
       "<title>21--25</title>\n",
       "<path fill=\"none\" stroke=\"black\" d=\"M736.5,-143C736.5,-143 739.55,-123.19 741.88,-108.03\"/>\n",
       "</g>\n",
       "<!-- 26 -->\n",
       "<g id=\"node27\" class=\"node\">\n",
       "<title>26</title>\n",
       "<text text-anchor=\"start\" x=\"798\" y=\"-87.3\" font-family=\"Courier,monospace\" font-weight=\"bold\" font-size=\"14.00\" fill=\"#004080\">Constant</text>\n",
       "</g>\n",
       "<!-- 21&#45;&#45;26 -->\n",
       "<g id=\"edge26\" class=\"edge\">\n",
       "<title>21--26</title>\n",
       "<path fill=\"none\" stroke=\"black\" d=\"M736.5,-143C736.5,-143 772.69,-123.19 800.39,-108.03\"/>\n",
       "</g>\n",
       "<!-- 23 -->\n",
       "<g id=\"node24\" class=\"node\">\n",
       "<title>23</title>\n",
       "<text text-anchor=\"middle\" x=\"636.5\" y=\"-14.3\" font-family=\"Courier,monospace\" font-size=\"14.00\" fill=\"#008040\">&quot;n&quot;</text>\n",
       "</g>\n",
       "<!-- 22&#45;&#45;23 -->\n",
       "<g id=\"edge23\" class=\"edge\">\n",
       "<title>22--23</title>\n",
       "<path fill=\"none\" stroke=\"black\" d=\"M672.5,-71C672.5,-71 658.79,-51.19 648.29,-36.03\"/>\n",
       "</g>\n",
       "<!-- 24 -->\n",
       "<g id=\"node25\" class=\"node\">\n",
       "<title>24</title>\n",
       "<text text-anchor=\"middle\" x=\"708.5\" y=\"-14.3\" font-family=\"Courier,monospace\" font-size=\"14.00\" fill=\"#008040\">Load</text>\n",
       "</g>\n",
       "<!-- 22&#45;&#45;24 -->\n",
       "<g id=\"edge24\" class=\"edge\">\n",
       "<title>22--24</title>\n",
       "<path fill=\"none\" stroke=\"black\" d=\"M672.5,-71C672.5,-71 686.21,-51.19 696.71,-36.03\"/>\n",
       "</g>\n",
       "<!-- 27 -->\n",
       "<g id=\"node28\" class=\"node\">\n",
       "<title>27</title>\n",
       "<text text-anchor=\"middle\" x=\"831.5\" y=\"-14.3\" font-family=\"Courier,monospace\" font-size=\"14.00\" fill=\"#008040\">1</text>\n",
       "</g>\n",
       "<!-- 26&#45;&#45;27 -->\n",
       "<g id=\"edge27\" class=\"edge\">\n",
       "<title>26--27</title>\n",
       "<path fill=\"none\" stroke=\"black\" d=\"M831.5,-71.7C831.5,-60.85 831.5,-46.92 831.5,-36.1\"/>\n",
       "</g>\n",
       "<!-- 29 -->\n",
       "<g id=\"node30\" class=\"node\">\n",
       "<title>29</title>\n",
       "<text text-anchor=\"start\" x=\"904.5\" y=\"-159.3\" font-family=\"Courier,monospace\" font-weight=\"bold\" font-size=\"14.00\" fill=\"#004080\">Name</text>\n",
       "</g>\n",
       "<!-- 28&#45;&#45;29 -->\n",
       "<g id=\"edge29\" class=\"edge\">\n",
       "<title>28--29</title>\n",
       "<path fill=\"none\" stroke=\"black\" d=\"M963.5,-215C963.5,-215 947.5,-195.19 935.25,-180.03\"/>\n",
       "</g>\n",
       "<!-- 32 -->\n",
       "<g id=\"node33\" class=\"node\">\n",
       "<title>32</title>\n",
       "<text text-anchor=\"middle\" x=\"993.5\" y=\"-158.3\" font-family=\"Courier,monospace\" font-size=\"14.00\" fill=\"#008040\">Mult</text>\n",
       "</g>\n",
       "<!-- 28&#45;&#45;32 -->\n",
       "<g id=\"edge32\" class=\"edge\">\n",
       "<title>28--32</title>\n",
       "<path fill=\"none\" stroke=\"black\" d=\"M963.5,-215C963.5,-215 974.93,-195.19 983.68,-180.03\"/>\n",
       "</g>\n",
       "<!-- 33 -->\n",
       "<g id=\"node34\" class=\"node\">\n",
       "<title>33</title>\n",
       "<text text-anchor=\"start\" x=\"1051.5\" y=\"-159.3\" font-family=\"Courier,monospace\" font-weight=\"bold\" font-size=\"14.00\" fill=\"#004080\">Name</text>\n",
       "</g>\n",
       "<!-- 28&#45;&#45;33 -->\n",
       "<g id=\"edge33\" class=\"edge\">\n",
       "<title>28--33</title>\n",
       "<path fill=\"none\" stroke=\"black\" d=\"M963.5,-215C963.5,-215 1010.35,-191.8 1041.46,-176.39\"/>\n",
       "</g>\n",
       "<!-- 30 -->\n",
       "<g id=\"node31\" class=\"node\">\n",
       "<title>30</title>\n",
       "<text text-anchor=\"middle\" x=\"920.5\" y=\"-86.3\" font-family=\"Courier,monospace\" font-size=\"14.00\" fill=\"#008040\">&quot;res&quot;</text>\n",
       "</g>\n",
       "<!-- 29&#45;&#45;30 -->\n",
       "<g id=\"edge30\" class=\"edge\">\n",
       "<title>29--30</title>\n",
       "<path fill=\"none\" stroke=\"black\" d=\"M929.5,-143C929.5,-143 926.07,-123.19 923.45,-108.03\"/>\n",
       "</g>\n",
       "<!-- 31 -->\n",
       "<g id=\"node32\" class=\"node\">\n",
       "<title>31</title>\n",
       "<text text-anchor=\"middle\" x=\"996.5\" y=\"-86.3\" font-family=\"Courier,monospace\" font-size=\"14.00\" fill=\"#008040\">Store</text>\n",
       "</g>\n",
       "<!-- 29&#45;&#45;31 -->\n",
       "<g id=\"edge31\" class=\"edge\">\n",
       "<title>29--31</title>\n",
       "<path fill=\"none\" stroke=\"black\" d=\"M929.5,-143C929.5,-143 955.02,-123.19 974.56,-108.03\"/>\n",
       "</g>\n",
       "<!-- 34 -->\n",
       "<g id=\"node35\" class=\"node\">\n",
       "<title>34</title>\n",
       "<text text-anchor=\"middle\" x=\"1070.5\" y=\"-86.3\" font-family=\"Courier,monospace\" font-size=\"14.00\" fill=\"#008040\">&quot;i&quot;</text>\n",
       "</g>\n",
       "<!-- 33&#45;&#45;34 -->\n",
       "<g id=\"edge34\" class=\"edge\">\n",
       "<title>33--34</title>\n",
       "<path fill=\"none\" stroke=\"black\" d=\"M1076.5,-143C1076.5,-143 1074.21,-123.19 1072.46,-108.03\"/>\n",
       "</g>\n",
       "<!-- 35 -->\n",
       "<g id=\"node36\" class=\"node\">\n",
       "<title>35</title>\n",
       "<text text-anchor=\"middle\" x=\"1142.5\" y=\"-86.3\" font-family=\"Courier,monospace\" font-size=\"14.00\" fill=\"#008040\">Load</text>\n",
       "</g>\n",
       "<!-- 33&#45;&#45;35 -->\n",
       "<g id=\"edge35\" class=\"edge\">\n",
       "<title>33--35</title>\n",
       "<path fill=\"none\" stroke=\"black\" d=\"M1076.5,-143C1076.5,-143 1101.64,-123.19 1120.89,-108.03\"/>\n",
       "</g>\n",
       "<!-- 37 -->\n",
       "<g id=\"node38\" class=\"node\">\n",
       "<title>37</title>\n",
       "<text text-anchor=\"start\" x=\"1125.5\" y=\"-231.3\" font-family=\"Courier,monospace\" font-weight=\"bold\" font-size=\"14.00\" fill=\"#004080\">Name</text>\n",
       "</g>\n",
       "<!-- 36&#45;&#45;37 -->\n",
       "<g id=\"edge37\" class=\"edge\">\n",
       "<title>36--37</title>\n",
       "<path fill=\"none\" stroke=\"black\" d=\"M906.75,-296.35C960.59,-282.34 1065.8,-254.96 1115.4,-242.05\"/>\n",
       "</g>\n",
       "<!-- 38 -->\n",
       "<g id=\"node39\" class=\"node\">\n",
       "<title>38</title>\n",
       "<text text-anchor=\"middle\" x=\"1142.5\" y=\"-158.3\" font-family=\"Courier,monospace\" font-size=\"14.00\" fill=\"#008040\">&quot;res&quot;</text>\n",
       "</g>\n",
       "<!-- 37&#45;&#45;38 -->\n",
       "<g id=\"edge38\" class=\"edge\">\n",
       "<title>37--38</title>\n",
       "<path fill=\"none\" stroke=\"black\" d=\"M1150.5,-215C1150.5,-215 1147.45,-195.19 1145.12,-180.03\"/>\n",
       "</g>\n",
       "<!-- 39 -->\n",
       "<g id=\"node40\" class=\"node\">\n",
       "<title>39</title>\n",
       "<text text-anchor=\"middle\" x=\"1216.5\" y=\"-158.3\" font-family=\"Courier,monospace\" font-size=\"14.00\" fill=\"#008040\">Load</text>\n",
       "</g>\n",
       "<!-- 37&#45;&#45;39 -->\n",
       "<g id=\"edge39\" class=\"edge\">\n",
       "<title>37--39</title>\n",
       "<path fill=\"none\" stroke=\"black\" d=\"M1150.5,-215C1150.5,-215 1175.64,-195.19 1194.89,-180.03\"/>\n",
       "</g>\n",
       "</g>\n",
       "</svg>"
      ],
      "text/plain": [
       "<IPython.core.display.SVG object>"
      ]
     },
     "metadata": {},
     "output_type": "display_data"
    }
   ],
   "source": [
    "show_ast(ast.parse(inspect.getsource(factorial3)))\n",
    "show_ast(ast.parse(inspect.getsource(fixed_factorial3)))"
   ]
  },
  {
   "cell_type": "code",
   "execution_count": 85,
   "metadata": {
    "slideshow": {
     "slide_type": "fragment"
    }
   },
   "outputs": [
    {
     "data": {
      "text/plain": [
       "16"
      ]
     },
     "execution_count": 85,
     "metadata": {},
     "output_type": "execute_result"
    }
   ],
   "source": [
    "factorial3(5)"
   ]
  },
  {
   "cell_type": "code",
   "execution_count": 86,
   "metadata": {},
   "outputs": [
    {
     "data": {
      "text/plain": [
       "120"
      ]
     },
     "execution_count": 86,
     "metadata": {},
     "output_type": "execute_result"
    }
   ],
   "source": [
    "fixed_factorial3(5)"
   ]
  },
  {
   "cell_type": "code",
   "execution_count": 87,
   "metadata": {
    "slideshow": {
     "slide_type": "fragment"
    }
   },
   "outputs": [],
   "source": [
    "def factorial3_test(n):\n",
    "    m = factorial3(n)\n",
    "    assert m == math.factorial(n)"
   ]
  },
  {
   "cell_type": "code",
   "execution_count": 88,
   "metadata": {
    "slideshow": {
     "slide_type": "subslide"
    }
   },
   "outputs": [],
   "source": [
    "def factorial_passing_testcase():\n",
    "    while True:\n",
    "        try:\n",
    "            n = factorial_testcase()\n",
    "            _ = factorial3_test(n)\n",
    "            return (n,)\n",
    "        except AssertionError:\n",
    "            pass"
   ]
  },
  {
   "cell_type": "code",
   "execution_count": 89,
   "metadata": {
    "slideshow": {
     "slide_type": "fragment"
    }
   },
   "outputs": [],
   "source": [
    "def factorial_failing_testcase():\n",
    "    while True:\n",
    "        try:\n",
    "            n = factorial_testcase()\n",
    "            _ = factorial3_test(n)\n",
    "        except AssertionError:\n",
    "            return (n,)"
   ]
  },
  {
   "cell_type": "code",
   "execution_count": 90,
   "metadata": {
    "slideshow": {
     "slide_type": "subslide"
    }
   },
   "outputs": [],
   "source": [
    "FACTORIAL_PASSING_TESTCASES_3 = [factorial_passing_testcase()\n",
    "                                 for i in range(TESTS)]"
   ]
  },
  {
   "cell_type": "code",
   "execution_count": 91,
   "metadata": {
    "slideshow": {
     "slide_type": "fragment"
    }
   },
   "outputs": [],
   "source": [
    "FACTORIAL_FAILING_TESTCASES_3 = [factorial_failing_testcase()\n",
    "                                 for i in range(TESTS)]"
   ]
  },
  {
   "cell_type": "markdown",
   "metadata": {},
   "source": [
    "repaired3 = debug_and_repair(factorial3,\n",
    "                            FACTORIAL_PASSING_TESTCASES_3 +\n",
    "                            FACTORIAL_FAILING_TESTCASES_3,\n",
    "                            factorial3_test, 2)"
   ]
  },
  {
   "cell_type": "markdown",
   "metadata": {
    "slideshow": {
     "slide_type": "subslide"
    }
   },
   "source": [
    "### Middle\n",
    "\n",
    "The following faulty function is the already well known _Middle_ function, though with another defect."
   ]
  },
  {
   "cell_type": "code",
   "execution_count": 92,
   "metadata": {
    "slideshow": {
     "slide_type": "subslide"
    }
   },
   "outputs": [],
   "source": [
    "def middle(x, y, z):\n",
    "    if x < x:\n",
    "        if y < z:\n",
    "            return y\n",
    "        if x < z:\n",
    "            return z\n",
    "        return x\n",
    "    if x < z:\n",
    "        return x\n",
    "    if y < z:\n",
    "        return z\n",
    "    return y\n",
    "\n",
    "def middle_fixed(x, y, z):\n",
    "    if y < z:\n",
    "        if x < y:\n",
    "            return y\n",
    "        elif x < z:\n",
    "            return x\n",
    "    elif x > y:\n",
    "        return y\n",
    "    elif x > z:\n",
    "        return x\n",
    "    return z"
   ]
  },
  {
   "cell_type": "markdown",
   "metadata": {
    "slideshow": {
     "slide_type": "fragment"
    }
   },
   "source": [
    "It should return the second largest number of the input, but it does not:"
   ]
  },
  {
   "cell_type": "code",
   "execution_count": 93,
   "metadata": {
    "slideshow": {
     "slide_type": "subslide"
    }
   },
   "outputs": [
    {
     "data": {
      "text/plain": [
       "3"
      ]
     },
     "execution_count": 93,
     "metadata": {},
     "output_type": "execute_result"
    }
   ],
   "source": [
    "middle(2, 3, 1)"
   ]
  },
  {
   "cell_type": "code",
   "execution_count": 94,
   "metadata": {
    "slideshow": {
     "slide_type": "fragment"
    }
   },
   "outputs": [],
   "source": [
    "def middle_testcase():\n",
    "    x = random.randrange(10)\n",
    "    y = random.randrange(10)\n",
    "    z = random.randrange(10)\n",
    "    return x, y, z"
   ]
  },
  {
   "cell_type": "code",
   "execution_count": 95,
   "metadata": {
    "slideshow": {
     "slide_type": "fragment"
    }
   },
   "outputs": [],
   "source": [
    "def middle_test(x, y, z):\n",
    "    m = middle(x, y, z)\n",
    "    assert m == sorted([x, y, z])[1]"
   ]
  },
  {
   "cell_type": "code",
   "execution_count": 96,
   "metadata": {
    "slideshow": {
     "slide_type": "subslide"
    }
   },
   "outputs": [],
   "source": [
    "def middle_passing_testcase():\n",
    "    while True:\n",
    "        try:\n",
    "            x, y, z = middle_testcase()\n",
    "            _ = middle_test(x, y, z)\n",
    "            return x, y, z\n",
    "        except AssertionError:\n",
    "            pass"
   ]
  },
  {
   "cell_type": "code",
   "execution_count": 97,
   "metadata": {
    "slideshow": {
     "slide_type": "fragment"
    }
   },
   "outputs": [],
   "source": [
    "def middle_failing_testcase():\n",
    "    while True:\n",
    "        try:\n",
    "            x, y, z = middle_testcase()\n",
    "            _ = middle_test(x, y, z)\n",
    "        except AssertionError:\n",
    "            return x, y, z"
   ]
  },
  {
   "cell_type": "code",
   "execution_count": 98,
   "metadata": {
    "slideshow": {
     "slide_type": "subslide"
    }
   },
   "outputs": [],
   "source": [
    "MIDDLE_PASSING_TESTCASES = [middle_passing_testcase()\n",
    "                            for i in range(TESTS)]"
   ]
  },
  {
   "cell_type": "code",
   "execution_count": 99,
   "metadata": {
    "slideshow": {
     "slide_type": "fragment"
    }
   },
   "outputs": [],
   "source": [
    "MIDDLE_FAILING_TESTCASES = [middle_failing_testcase()\n",
    "                            for i in range(TESTS)]"
   ]
  },
  {
   "cell_type": "markdown",
   "metadata": {},
   "source": [
    "repaired4 = debug_and_repair(middle,\n",
    "                            MIDDLE_PASSING_TESTCASES +\n",
    "                            MIDDLE_FAILING_TESTCASES,\n",
    "                            middle_test, 2)"
   ]
  },
  {
   "cell_type": "markdown",
   "metadata": {
    "slideshow": {
     "slide_type": "subslide"
    }
   },
   "source": [
    "### Power\n",
    "\n",
    "The power function should implement the following formular:\n",
    "\\begin{equation*}\n",
    "\\textit{power}(x, n) = x^n, \\quad \\text{for $x\\geq 0$ and $n \\geq 0$}\n",
    "\\end{equation*}"
   ]
  },
  {
   "cell_type": "code",
   "execution_count": 100,
   "metadata": {
    "slideshow": {
     "slide_type": "fragment"
    }
   },
   "outputs": [],
   "source": [
    "def power(x, n):\n",
    "    res = 1\n",
    "    for i in range(0, x):\n",
    "        res *= n\n",
    "    return res\n",
    "\n",
    "def fixed_power(x, n):\n",
    "    res = 1\n",
    "    for i in range(0, n):\n",
    "        res *= x\n",
    "    return res"
   ]
  },
  {
   "cell_type": "code",
   "execution_count": 101,
   "metadata": {},
   "outputs": [
    {
     "data": {
      "image/svg+xml": [
       "<svg xmlns=\"http://www.w3.org/2000/svg\" xmlns:xlink=\"http://www.w3.org/1999/xlink\" width=\"1165pt\" height=\"332pt\" viewBox=\"0.00 0.00 1165.00 332.00\">\n",
       "<g id=\"graph0\" class=\"graph\" transform=\"scale(1 1) rotate(0) translate(4 328)\">\n",
       "<title>%3</title>\n",
       "<polygon fill=\"white\" stroke=\"transparent\" points=\"-4,4 -4,-328 1161,-328 1161,4 -4,4\"/>\n",
       "<!-- 0 -->\n",
       "<g id=\"node1\" class=\"node\">\n",
       "<title>0</title>\n",
       "<text text-anchor=\"start\" x=\"258.5\" y=\"-303.3\" font-family=\"Courier,monospace\" font-weight=\"bold\" font-size=\"14.00\" fill=\"#004080\">FunctionDef</text>\n",
       "</g>\n",
       "<!-- 1 -->\n",
       "<g id=\"node2\" class=\"node\">\n",
       "<title>1</title>\n",
       "<text text-anchor=\"middle\" x=\"69\" y=\"-230.3\" font-family=\"Courier,monospace\" font-size=\"14.00\" fill=\"#008040\">&quot;power&quot;</text>\n",
       "</g>\n",
       "<!-- 0&#45;&#45;1 -->\n",
       "<g id=\"edge1\" class=\"edge\">\n",
       "<title>0--1</title>\n",
       "<path fill=\"none\" stroke=\"black\" d=\"M305,-287C305,-287 197.8,-274.74 115,-252 112.13,-251.21 109.18,-250.32 106.23,-249.37\"/>\n",
       "</g>\n",
       "<!-- 2 -->\n",
       "<g id=\"node3\" class=\"node\">\n",
       "<title>2</title>\n",
       "<text text-anchor=\"start\" x=\"132.5\" y=\"-231.3\" font-family=\"Courier,monospace\" font-weight=\"bold\" font-size=\"14.00\" fill=\"#004080\">arguments</text>\n",
       "</g>\n",
       "<!-- 0&#45;&#45;2 -->\n",
       "<g id=\"edge2\" class=\"edge\">\n",
       "<title>0--2</title>\n",
       "<path fill=\"none\" stroke=\"black\" d=\"M305,-287C305,-287 253.58,-267.19 214.2,-252.03\"/>\n",
       "</g>\n",
       "<!-- 7 -->\n",
       "<g id=\"node8\" class=\"node\">\n",
       "<title>7</title>\n",
       "<text text-anchor=\"start\" x=\"279\" y=\"-231.3\" font-family=\"Courier,monospace\" font-weight=\"bold\" font-size=\"14.00\" fill=\"#004080\">Assign</text>\n",
       "</g>\n",
       "<!-- 0&#45;&#45;7 -->\n",
       "<g id=\"edge7\" class=\"edge\">\n",
       "<title>0--7</title>\n",
       "<path fill=\"none\" stroke=\"black\" d=\"M305,-287C305,-287 304.62,-267.19 304.33,-252.03\"/>\n",
       "</g>\n",
       "<!-- 13 -->\n",
       "<g id=\"node14\" class=\"node\">\n",
       "<title>13</title>\n",
       "<text text-anchor=\"start\" x=\"493.5\" y=\"-231.3\" font-family=\"Courier,monospace\" font-weight=\"bold\" font-size=\"14.00\" fill=\"#004080\">For</text>\n",
       "</g>\n",
       "<!-- 0&#45;&#45;13 -->\n",
       "<g id=\"edge13\" class=\"edge\">\n",
       "<title>0--13</title>\n",
       "<path fill=\"none\" stroke=\"black\" d=\"M305,-287C305,-287 424.03,-256.21 478.89,-242.01\"/>\n",
       "</g>\n",
       "<!-- 34 -->\n",
       "<g id=\"node35\" class=\"node\">\n",
       "<title>34</title>\n",
       "<text text-anchor=\"start\" x=\"814\" y=\"-231.3\" font-family=\"Courier,monospace\" font-weight=\"bold\" font-size=\"14.00\" fill=\"#004080\">Return</text>\n",
       "</g>\n",
       "<!-- 0&#45;&#45;34 -->\n",
       "<g id=\"edge34\" class=\"edge\">\n",
       "<title>0--34</title>\n",
       "<path fill=\"none\" stroke=\"black\" d=\"M305,-287C305,-287 689.57,-249.55 806,-238.21\"/>\n",
       "</g>\n",
       "<!-- 3 -->\n",
       "<g id=\"node4\" class=\"node\">\n",
       "<title>3</title>\n",
       "<text text-anchor=\"start\" x=\"35.5\" y=\"-159.3\" font-family=\"Courier,monospace\" font-weight=\"bold\" font-size=\"14.00\" fill=\"#004080\">arg</text>\n",
       "</g>\n",
       "<!-- 2&#45;&#45;3 -->\n",
       "<g id=\"edge3\" class=\"edge\">\n",
       "<title>2--3</title>\n",
       "<path fill=\"none\" stroke=\"black\" d=\"M156,-215C156,-215 107.25,-191.53 75.25,-176.12\"/>\n",
       "</g>\n",
       "<!-- 5 -->\n",
       "<g id=\"node6\" class=\"node\">\n",
       "<title>5</title>\n",
       "<text text-anchor=\"start\" x=\"139.5\" y=\"-159.3\" font-family=\"Courier,monospace\" font-weight=\"bold\" font-size=\"14.00\" fill=\"#004080\">arg</text>\n",
       "</g>\n",
       "<!-- 2&#45;&#45;5 -->\n",
       "<g id=\"edge5\" class=\"edge\">\n",
       "<title>2--5</title>\n",
       "<path fill=\"none\" stroke=\"black\" d=\"M156,-215C156,-215 154.48,-195.19 153.31,-180.03\"/>\n",
       "</g>\n",
       "<!-- 4 -->\n",
       "<g id=\"node5\" class=\"node\">\n",
       "<title>4</title>\n",
       "<text text-anchor=\"middle\" x=\"27\" y=\"-86.3\" font-family=\"Courier,monospace\" font-size=\"14.00\" fill=\"#008040\">&quot;x&quot;</text>\n",
       "</g>\n",
       "<!-- 3&#45;&#45;4 -->\n",
       "<g id=\"edge4\" class=\"edge\">\n",
       "<title>3--4</title>\n",
       "<path fill=\"none\" stroke=\"black\" d=\"M42.81,-143.7C39.55,-132.85 35.38,-118.92 32.13,-108.1\"/>\n",
       "</g>\n",
       "<!-- 6 -->\n",
       "<g id=\"node7\" class=\"node\">\n",
       "<title>6</title>\n",
       "<text text-anchor=\"middle\" x=\"99\" y=\"-86.3\" font-family=\"Courier,monospace\" font-size=\"14.00\" fill=\"#008040\">&quot;n&quot;</text>\n",
       "</g>\n",
       "<!-- 5&#45;&#45;6 -->\n",
       "<g id=\"edge6\" class=\"edge\">\n",
       "<title>5--6</title>\n",
       "<path fill=\"none\" stroke=\"black\" d=\"M138.9,-143.7C130.68,-132.85 120.14,-118.92 111.95,-108.1\"/>\n",
       "</g>\n",
       "<!-- 8 -->\n",
       "<g id=\"node9\" class=\"node\">\n",
       "<title>8</title>\n",
       "<text text-anchor=\"start\" x=\"219\" y=\"-159.3\" font-family=\"Courier,monospace\" font-weight=\"bold\" font-size=\"14.00\" fill=\"#004080\">Name</text>\n",
       "</g>\n",
       "<!-- 7&#45;&#45;8 -->\n",
       "<g id=\"edge8\" class=\"edge\">\n",
       "<title>7--8</title>\n",
       "<path fill=\"none\" stroke=\"black\" d=\"M299,-215C299,-215 275,-195.19 256.63,-180.03\"/>\n",
       "</g>\n",
       "<!-- 11 -->\n",
       "<g id=\"node12\" class=\"node\">\n",
       "<title>11</title>\n",
       "<text text-anchor=\"start\" x=\"289.5\" y=\"-159.3\" font-family=\"Courier,monospace\" font-weight=\"bold\" font-size=\"14.00\" fill=\"#004080\">Constant</text>\n",
       "</g>\n",
       "<!-- 7&#45;&#45;11 -->\n",
       "<g id=\"edge11\" class=\"edge\">\n",
       "<title>7--11</title>\n",
       "<path fill=\"none\" stroke=\"black\" d=\"M299,-215C299,-215 308.14,-195.19 315.14,-180.03\"/>\n",
       "</g>\n",
       "<!-- 9 -->\n",
       "<g id=\"node10\" class=\"node\">\n",
       "<title>9</title>\n",
       "<text text-anchor=\"middle\" x=\"173\" y=\"-86.3\" font-family=\"Courier,monospace\" font-size=\"14.00\" fill=\"#008040\">&quot;res&quot;</text>\n",
       "</g>\n",
       "<!-- 8&#45;&#45;9 -->\n",
       "<g id=\"edge9\" class=\"edge\">\n",
       "<title>8--9</title>\n",
       "<path fill=\"none\" stroke=\"black\" d=\"M231,-143C231,-143 208.91,-123.19 191.99,-108.03\"/>\n",
       "</g>\n",
       "<!-- 10 -->\n",
       "<g id=\"node11\" class=\"node\">\n",
       "<title>10</title>\n",
       "<text text-anchor=\"middle\" x=\"249\" y=\"-86.3\" font-family=\"Courier,monospace\" font-size=\"14.00\" fill=\"#008040\">Store</text>\n",
       "</g>\n",
       "<!-- 8&#45;&#45;10 -->\n",
       "<g id=\"edge10\" class=\"edge\">\n",
       "<title>8--10</title>\n",
       "<path fill=\"none\" stroke=\"black\" d=\"M231,-143C231,-143 237.86,-123.19 243.11,-108.03\"/>\n",
       "</g>\n",
       "<!-- 12 -->\n",
       "<g id=\"node13\" class=\"node\">\n",
       "<title>12</title>\n",
       "<text text-anchor=\"middle\" x=\"323\" y=\"-86.3\" font-family=\"Courier,monospace\" font-size=\"14.00\" fill=\"#008040\">1</text>\n",
       "</g>\n",
       "<!-- 11&#45;&#45;12 -->\n",
       "<g id=\"edge12\" class=\"edge\">\n",
       "<title>11--12</title>\n",
       "<path fill=\"none\" stroke=\"black\" d=\"M323,-143.7C323,-132.85 323,-118.92 323,-108.1\"/>\n",
       "</g>\n",
       "<!-- 14 -->\n",
       "<g id=\"node15\" class=\"node\">\n",
       "<title>14</title>\n",
       "<text text-anchor=\"start\" x=\"452\" y=\"-159.3\" font-family=\"Courier,monospace\" font-weight=\"bold\" font-size=\"14.00\" fill=\"#004080\">Name</text>\n",
       "</g>\n",
       "<!-- 13&#45;&#45;14 -->\n",
       "<g id=\"edge14\" class=\"edge\">\n",
       "<title>13--14</title>\n",
       "<path fill=\"none\" stroke=\"black\" d=\"M519,-215C519,-215 499.95,-195.19 485.37,-180.03\"/>\n",
       "</g>\n",
       "<!-- 17 -->\n",
       "<g id=\"node18\" class=\"node\">\n",
       "<title>17</title>\n",
       "<text text-anchor=\"start\" x=\"569\" y=\"-159.3\" font-family=\"Courier,monospace\" font-weight=\"bold\" font-size=\"14.00\" fill=\"#004080\">Call</text>\n",
       "</g>\n",
       "<!-- 13&#45;&#45;17 -->\n",
       "<g id=\"edge17\" class=\"edge\">\n",
       "<title>13--17</title>\n",
       "<path fill=\"none\" stroke=\"black\" d=\"M519,-215C519,-215 544.52,-195.19 564.06,-180.03\"/>\n",
       "</g>\n",
       "<!-- 26 -->\n",
       "<g id=\"node27\" class=\"node\">\n",
       "<title>26</title>\n",
       "<text text-anchor=\"start\" x=\"833.5\" y=\"-159.3\" font-family=\"Courier,monospace\" font-weight=\"bold\" font-size=\"14.00\" fill=\"#004080\">AugAssign</text>\n",
       "</g>\n",
       "<!-- 13&#45;&#45;26 -->\n",
       "<g id=\"edge26\" class=\"edge\">\n",
       "<title>13--26</title>\n",
       "<path fill=\"none\" stroke=\"black\" d=\"M519,-215C519,-215 730.1,-183.81 825.34,-169.74\"/>\n",
       "</g>\n",
       "<!-- 15 -->\n",
       "<g id=\"node16\" class=\"node\">\n",
       "<title>15</title>\n",
       "<text text-anchor=\"middle\" x=\"395\" y=\"-86.3\" font-family=\"Courier,monospace\" font-size=\"14.00\" fill=\"#008040\">&quot;i&quot;</text>\n",
       "</g>\n",
       "<!-- 14&#45;&#45;15 -->\n",
       "<g id=\"edge15\" class=\"edge\">\n",
       "<title>14--15</title>\n",
       "<path fill=\"none\" stroke=\"black\" d=\"M461,-143C461,-143 435.86,-123.19 416.61,-108.03\"/>\n",
       "</g>\n",
       "<!-- 16 -->\n",
       "<g id=\"node17\" class=\"node\">\n",
       "<title>16</title>\n",
       "<text text-anchor=\"middle\" x=\"469\" y=\"-86.3\" font-family=\"Courier,monospace\" font-size=\"14.00\" fill=\"#008040\">Store</text>\n",
       "</g>\n",
       "<!-- 14&#45;&#45;16 -->\n",
       "<g id=\"edge16\" class=\"edge\">\n",
       "<title>14--16</title>\n",
       "<path fill=\"none\" stroke=\"black\" d=\"M461,-143C461,-143 464.05,-123.19 466.38,-108.03\"/>\n",
       "</g>\n",
       "<!-- 18 -->\n",
       "<g id=\"node19\" class=\"node\">\n",
       "<title>18</title>\n",
       "<text text-anchor=\"start\" x=\"526\" y=\"-87.3\" font-family=\"Courier,monospace\" font-weight=\"bold\" font-size=\"14.00\" fill=\"#004080\">Name</text>\n",
       "</g>\n",
       "<!-- 17&#45;&#45;18 -->\n",
       "<g id=\"edge18\" class=\"edge\">\n",
       "<title>17--18</title>\n",
       "<path fill=\"none\" stroke=\"black\" d=\"M593,-143C593,-143 573.95,-123.19 559.37,-108.03\"/>\n",
       "</g>\n",
       "<!-- 21 -->\n",
       "<g id=\"node22\" class=\"node\">\n",
       "<title>21</title>\n",
       "<text text-anchor=\"start\" x=\"596.5\" y=\"-87.3\" font-family=\"Courier,monospace\" font-weight=\"bold\" font-size=\"14.00\" fill=\"#004080\">Constant</text>\n",
       "</g>\n",
       "<!-- 17&#45;&#45;21 -->\n",
       "<g id=\"edge21\" class=\"edge\">\n",
       "<title>17--21</title>\n",
       "<path fill=\"none\" stroke=\"black\" d=\"M593,-143C593,-143 607.09,-123.19 617.88,-108.03\"/>\n",
       "</g>\n",
       "<!-- 23 -->\n",
       "<g id=\"node24\" class=\"node\">\n",
       "<title>23</title>\n",
       "<text text-anchor=\"start\" x=\"700\" y=\"-87.3\" font-family=\"Courier,monospace\" font-weight=\"bold\" font-size=\"14.00\" fill=\"#004080\">Name</text>\n",
       "</g>\n",
       "<!-- 17&#45;&#45;23 -->\n",
       "<g id=\"edge23\" class=\"edge\">\n",
       "<title>17--23</title>\n",
       "<path fill=\"none\" stroke=\"black\" d=\"M593,-143C593,-143 641.72,-124.48 680,-108 683.25,-106.6 686.64,-105.1 689.99,-103.59\"/>\n",
       "</g>\n",
       "<!-- 19 -->\n",
       "<g id=\"node20\" class=\"node\">\n",
       "<title>19</title>\n",
       "<text text-anchor=\"middle\" x=\"461\" y=\"-14.3\" font-family=\"Courier,monospace\" font-size=\"14.00\" fill=\"#008040\">&quot;range&quot;</text>\n",
       "</g>\n",
       "<!-- 18&#45;&#45;19 -->\n",
       "<g id=\"edge19\" class=\"edge\">\n",
       "<title>18--19</title>\n",
       "<path fill=\"none\" stroke=\"black\" d=\"M535,-71C535,-71 506.81,-51.19 485.23,-36.03\"/>\n",
       "</g>\n",
       "<!-- 20 -->\n",
       "<g id=\"node21\" class=\"node\">\n",
       "<title>20</title>\n",
       "<text text-anchor=\"middle\" x=\"543\" y=\"-14.3\" font-family=\"Courier,monospace\" font-size=\"14.00\" fill=\"#008040\">Load</text>\n",
       "</g>\n",
       "<!-- 18&#45;&#45;20 -->\n",
       "<g id=\"edge20\" class=\"edge\">\n",
       "<title>18--20</title>\n",
       "<path fill=\"none\" stroke=\"black\" d=\"M535,-71C535,-71 538.05,-51.19 540.38,-36.03\"/>\n",
       "</g>\n",
       "<!-- 22 -->\n",
       "<g id=\"node23\" class=\"node\">\n",
       "<title>22</title>\n",
       "<text text-anchor=\"middle\" x=\"615\" y=\"-14.3\" font-family=\"Courier,monospace\" font-size=\"14.00\" fill=\"#008040\">0</text>\n",
       "</g>\n",
       "<!-- 21&#45;&#45;22 -->\n",
       "<g id=\"edge22\" class=\"edge\">\n",
       "<title>21--22</title>\n",
       "<path fill=\"none\" stroke=\"black\" d=\"M626.29,-71.7C623.97,-60.85 620.98,-46.92 618.67,-36.1\"/>\n",
       "</g>\n",
       "<!-- 24 -->\n",
       "<g id=\"node25\" class=\"node\">\n",
       "<title>24</title>\n",
       "<text text-anchor=\"middle\" x=\"687\" y=\"-14.3\" font-family=\"Courier,monospace\" font-size=\"14.00\" fill=\"#008040\">&quot;x&quot;</text>\n",
       "</g>\n",
       "<!-- 23&#45;&#45;24 -->\n",
       "<g id=\"edge24\" class=\"edge\">\n",
       "<title>23--24</title>\n",
       "<path fill=\"none\" stroke=\"black\" d=\"M718,-71C718,-71 706.19,-51.19 697.15,-36.03\"/>\n",
       "</g>\n",
       "<!-- 25 -->\n",
       "<g id=\"node26\" class=\"node\">\n",
       "<title>25</title>\n",
       "<text text-anchor=\"middle\" x=\"759\" y=\"-14.3\" font-family=\"Courier,monospace\" font-size=\"14.00\" fill=\"#008040\">Load</text>\n",
       "</g>\n",
       "<!-- 23&#45;&#45;25 -->\n",
       "<g id=\"edge25\" class=\"edge\">\n",
       "<title>23--25</title>\n",
       "<path fill=\"none\" stroke=\"black\" d=\"M718,-71C718,-71 733.62,-51.19 745.58,-36.03\"/>\n",
       "</g>\n",
       "<!-- 27 -->\n",
       "<g id=\"node28\" class=\"node\">\n",
       "<title>27</title>\n",
       "<text text-anchor=\"start\" x=\"818\" y=\"-87.3\" font-family=\"Courier,monospace\" font-weight=\"bold\" font-size=\"14.00\" fill=\"#004080\">Name</text>\n",
       "</g>\n",
       "<!-- 26&#45;&#45;27 -->\n",
       "<g id=\"edge27\" class=\"edge\">\n",
       "<title>26--27</title>\n",
       "<path fill=\"none\" stroke=\"black\" d=\"M877,-143C877,-143 861,-123.19 848.75,-108.03\"/>\n",
       "</g>\n",
       "<!-- 30 -->\n",
       "<g id=\"node31\" class=\"node\">\n",
       "<title>30</title>\n",
       "<text text-anchor=\"middle\" x=\"907\" y=\"-86.3\" font-family=\"Courier,monospace\" font-size=\"14.00\" fill=\"#008040\">Mult</text>\n",
       "</g>\n",
       "<!-- 26&#45;&#45;30 -->\n",
       "<g id=\"edge30\" class=\"edge\">\n",
       "<title>26--30</title>\n",
       "<path fill=\"none\" stroke=\"black\" d=\"M877,-143C877,-143 888.43,-123.19 897.18,-108.03\"/>\n",
       "</g>\n",
       "<!-- 31 -->\n",
       "<g id=\"node32\" class=\"node\">\n",
       "<title>31</title>\n",
       "<text text-anchor=\"start\" x=\"965\" y=\"-87.3\" font-family=\"Courier,monospace\" font-weight=\"bold\" font-size=\"14.00\" fill=\"#004080\">Name</text>\n",
       "</g>\n",
       "<!-- 26&#45;&#45;31 -->\n",
       "<g id=\"edge31\" class=\"edge\">\n",
       "<title>26--31</title>\n",
       "<path fill=\"none\" stroke=\"black\" d=\"M877,-143C877,-143 923.85,-119.8 954.96,-104.39\"/>\n",
       "</g>\n",
       "<!-- 28 -->\n",
       "<g id=\"node29\" class=\"node\">\n",
       "<title>28</title>\n",
       "<text text-anchor=\"middle\" x=\"833\" y=\"-14.3\" font-family=\"Courier,monospace\" font-size=\"14.00\" fill=\"#008040\">&quot;res&quot;</text>\n",
       "</g>\n",
       "<!-- 27&#45;&#45;28 -->\n",
       "<g id=\"edge28\" class=\"edge\">\n",
       "<title>27--28</title>\n",
       "<path fill=\"none\" stroke=\"black\" d=\"M842,-71C842,-71 838.57,-51.19 835.95,-36.03\"/>\n",
       "</g>\n",
       "<!-- 29 -->\n",
       "<g id=\"node30\" class=\"node\">\n",
       "<title>29</title>\n",
       "<text text-anchor=\"middle\" x=\"909\" y=\"-14.3\" font-family=\"Courier,monospace\" font-size=\"14.00\" fill=\"#008040\">Store</text>\n",
       "</g>\n",
       "<!-- 27&#45;&#45;29 -->\n",
       "<g id=\"edge29\" class=\"edge\">\n",
       "<title>27--29</title>\n",
       "<path fill=\"none\" stroke=\"black\" d=\"M842,-71C842,-71 867.52,-51.19 887.06,-36.03\"/>\n",
       "</g>\n",
       "<!-- 32 -->\n",
       "<g id=\"node33\" class=\"node\">\n",
       "<title>32</title>\n",
       "<text text-anchor=\"middle\" x=\"983\" y=\"-14.3\" font-family=\"Courier,monospace\" font-size=\"14.00\" fill=\"#008040\">&quot;n&quot;</text>\n",
       "</g>\n",
       "<!-- 31&#45;&#45;32 -->\n",
       "<g id=\"edge32\" class=\"edge\">\n",
       "<title>31--32</title>\n",
       "<path fill=\"none\" stroke=\"black\" d=\"M990,-71C990,-71 987.33,-51.19 985.29,-36.03\"/>\n",
       "</g>\n",
       "<!-- 33 -->\n",
       "<g id=\"node34\" class=\"node\">\n",
       "<title>33</title>\n",
       "<text text-anchor=\"middle\" x=\"1055\" y=\"-14.3\" font-family=\"Courier,monospace\" font-size=\"14.00\" fill=\"#008040\">Load</text>\n",
       "</g>\n",
       "<!-- 31&#45;&#45;33 -->\n",
       "<g id=\"edge33\" class=\"edge\">\n",
       "<title>31--33</title>\n",
       "<path fill=\"none\" stroke=\"black\" d=\"M990,-71C990,-71 1014.76,-51.19 1033.72,-36.03\"/>\n",
       "</g>\n",
       "<!-- 35 -->\n",
       "<g id=\"node36\" class=\"node\">\n",
       "<title>35</title>\n",
       "<text text-anchor=\"start\" x=\"1039\" y=\"-159.3\" font-family=\"Courier,monospace\" font-weight=\"bold\" font-size=\"14.00\" fill=\"#004080\">Name</text>\n",
       "</g>\n",
       "<!-- 34&#45;&#45;35 -->\n",
       "<g id=\"edge35\" class=\"edge\">\n",
       "<title>34--35</title>\n",
       "<path fill=\"none\" stroke=\"black\" d=\"M872.43,-222.22C915.35,-208.37 989,-184.61 1028.72,-171.8\"/>\n",
       "</g>\n",
       "<!-- 36 -->\n",
       "<g id=\"node37\" class=\"node\">\n",
       "<title>36</title>\n",
       "<text text-anchor=\"middle\" x=\"1056\" y=\"-86.3\" font-family=\"Courier,monospace\" font-size=\"14.00\" fill=\"#008040\">&quot;res&quot;</text>\n",
       "</g>\n",
       "<!-- 35&#45;&#45;36 -->\n",
       "<g id=\"edge36\" class=\"edge\">\n",
       "<title>35--36</title>\n",
       "<path fill=\"none\" stroke=\"black\" d=\"M1064,-143C1064,-143 1060.95,-123.19 1058.62,-108.03\"/>\n",
       "</g>\n",
       "<!-- 37 -->\n",
       "<g id=\"node38\" class=\"node\">\n",
       "<title>37</title>\n",
       "<text text-anchor=\"middle\" x=\"1130\" y=\"-86.3\" font-family=\"Courier,monospace\" font-size=\"14.00\" fill=\"#008040\">Load</text>\n",
       "</g>\n",
       "<!-- 35&#45;&#45;37 -->\n",
       "<g id=\"edge37\" class=\"edge\">\n",
       "<title>35--37</title>\n",
       "<path fill=\"none\" stroke=\"black\" d=\"M1064,-143C1064,-143 1089.14,-123.19 1108.39,-108.03\"/>\n",
       "</g>\n",
       "</g>\n",
       "</svg>"
      ],
      "text/plain": [
       "<IPython.core.display.SVG object>"
      ]
     },
     "metadata": {},
     "output_type": "display_data"
    },
    {
     "data": {
      "image/svg+xml": [
       "<svg xmlns=\"http://www.w3.org/2000/svg\" xmlns:xlink=\"http://www.w3.org/1999/xlink\" width=\"1165pt\" height=\"332pt\" viewBox=\"0.00 0.00 1165.00 332.00\">\n",
       "<g id=\"graph0\" class=\"graph\" transform=\"scale(1 1) rotate(0) translate(4 328)\">\n",
       "<title>%3</title>\n",
       "<polygon fill=\"white\" stroke=\"transparent\" points=\"-4,4 -4,-328 1161,-328 1161,4 -4,4\"/>\n",
       "<!-- 0 -->\n",
       "<g id=\"node1\" class=\"node\">\n",
       "<title>0</title>\n",
       "<text text-anchor=\"start\" x=\"258.5\" y=\"-303.3\" font-family=\"Courier,monospace\" font-weight=\"bold\" font-size=\"14.00\" fill=\"#004080\">FunctionDef</text>\n",
       "</g>\n",
       "<!-- 1 -->\n",
       "<g id=\"node2\" class=\"node\">\n",
       "<title>1</title>\n",
       "<text text-anchor=\"middle\" x=\"69\" y=\"-230.3\" font-family=\"Courier,monospace\" font-size=\"14.00\" fill=\"#008040\">&quot;power&quot;</text>\n",
       "</g>\n",
       "<!-- 0&#45;&#45;1 -->\n",
       "<g id=\"edge1\" class=\"edge\">\n",
       "<title>0--1</title>\n",
       "<path fill=\"none\" stroke=\"black\" d=\"M305,-287C305,-287 197.8,-274.74 115,-252 112.13,-251.21 109.18,-250.32 106.23,-249.37\"/>\n",
       "</g>\n",
       "<!-- 2 -->\n",
       "<g id=\"node3\" class=\"node\">\n",
       "<title>2</title>\n",
       "<text text-anchor=\"start\" x=\"132.5\" y=\"-231.3\" font-family=\"Courier,monospace\" font-weight=\"bold\" font-size=\"14.00\" fill=\"#004080\">arguments</text>\n",
       "</g>\n",
       "<!-- 0&#45;&#45;2 -->\n",
       "<g id=\"edge2\" class=\"edge\">\n",
       "<title>0--2</title>\n",
       "<path fill=\"none\" stroke=\"black\" d=\"M305,-287C305,-287 253.58,-267.19 214.2,-252.03\"/>\n",
       "</g>\n",
       "<!-- 7 -->\n",
       "<g id=\"node8\" class=\"node\">\n",
       "<title>7</title>\n",
       "<text text-anchor=\"start\" x=\"279\" y=\"-231.3\" font-family=\"Courier,monospace\" font-weight=\"bold\" font-size=\"14.00\" fill=\"#004080\">Assign</text>\n",
       "</g>\n",
       "<!-- 0&#45;&#45;7 -->\n",
       "<g id=\"edge7\" class=\"edge\">\n",
       "<title>0--7</title>\n",
       "<path fill=\"none\" stroke=\"black\" d=\"M305,-287C305,-287 304.62,-267.19 304.33,-252.03\"/>\n",
       "</g>\n",
       "<!-- 13 -->\n",
       "<g id=\"node14\" class=\"node\">\n",
       "<title>13</title>\n",
       "<text text-anchor=\"start\" x=\"493.5\" y=\"-231.3\" font-family=\"Courier,monospace\" font-weight=\"bold\" font-size=\"14.00\" fill=\"#004080\">For</text>\n",
       "</g>\n",
       "<!-- 0&#45;&#45;13 -->\n",
       "<g id=\"edge13\" class=\"edge\">\n",
       "<title>0--13</title>\n",
       "<path fill=\"none\" stroke=\"black\" d=\"M305,-287C305,-287 424.03,-256.21 478.89,-242.01\"/>\n",
       "</g>\n",
       "<!-- 34 -->\n",
       "<g id=\"node35\" class=\"node\">\n",
       "<title>34</title>\n",
       "<text text-anchor=\"start\" x=\"814\" y=\"-231.3\" font-family=\"Courier,monospace\" font-weight=\"bold\" font-size=\"14.00\" fill=\"#004080\">Return</text>\n",
       "</g>\n",
       "<!-- 0&#45;&#45;34 -->\n",
       "<g id=\"edge34\" class=\"edge\">\n",
       "<title>0--34</title>\n",
       "<path fill=\"none\" stroke=\"black\" d=\"M305,-287C305,-287 689.57,-249.55 806,-238.21\"/>\n",
       "</g>\n",
       "<!-- 3 -->\n",
       "<g id=\"node4\" class=\"node\">\n",
       "<title>3</title>\n",
       "<text text-anchor=\"start\" x=\"35.5\" y=\"-159.3\" font-family=\"Courier,monospace\" font-weight=\"bold\" font-size=\"14.00\" fill=\"#004080\">arg</text>\n",
       "</g>\n",
       "<!-- 2&#45;&#45;3 -->\n",
       "<g id=\"edge3\" class=\"edge\">\n",
       "<title>2--3</title>\n",
       "<path fill=\"none\" stroke=\"black\" d=\"M156,-215C156,-215 107.25,-191.53 75.25,-176.12\"/>\n",
       "</g>\n",
       "<!-- 5 -->\n",
       "<g id=\"node6\" class=\"node\">\n",
       "<title>5</title>\n",
       "<text text-anchor=\"start\" x=\"139.5\" y=\"-159.3\" font-family=\"Courier,monospace\" font-weight=\"bold\" font-size=\"14.00\" fill=\"#004080\">arg</text>\n",
       "</g>\n",
       "<!-- 2&#45;&#45;5 -->\n",
       "<g id=\"edge5\" class=\"edge\">\n",
       "<title>2--5</title>\n",
       "<path fill=\"none\" stroke=\"black\" d=\"M156,-215C156,-215 154.48,-195.19 153.31,-180.03\"/>\n",
       "</g>\n",
       "<!-- 4 -->\n",
       "<g id=\"node5\" class=\"node\">\n",
       "<title>4</title>\n",
       "<text text-anchor=\"middle\" x=\"27\" y=\"-86.3\" font-family=\"Courier,monospace\" font-size=\"14.00\" fill=\"#008040\">&quot;x&quot;</text>\n",
       "</g>\n",
       "<!-- 3&#45;&#45;4 -->\n",
       "<g id=\"edge4\" class=\"edge\">\n",
       "<title>3--4</title>\n",
       "<path fill=\"none\" stroke=\"black\" d=\"M42.81,-143.7C39.55,-132.85 35.38,-118.92 32.13,-108.1\"/>\n",
       "</g>\n",
       "<!-- 6 -->\n",
       "<g id=\"node7\" class=\"node\">\n",
       "<title>6</title>\n",
       "<text text-anchor=\"middle\" x=\"99\" y=\"-86.3\" font-family=\"Courier,monospace\" font-size=\"14.00\" fill=\"#008040\">&quot;n&quot;</text>\n",
       "</g>\n",
       "<!-- 5&#45;&#45;6 -->\n",
       "<g id=\"edge6\" class=\"edge\">\n",
       "<title>5--6</title>\n",
       "<path fill=\"none\" stroke=\"black\" d=\"M138.9,-143.7C130.68,-132.85 120.14,-118.92 111.95,-108.1\"/>\n",
       "</g>\n",
       "<!-- 8 -->\n",
       "<g id=\"node9\" class=\"node\">\n",
       "<title>8</title>\n",
       "<text text-anchor=\"start\" x=\"219\" y=\"-159.3\" font-family=\"Courier,monospace\" font-weight=\"bold\" font-size=\"14.00\" fill=\"#004080\">Name</text>\n",
       "</g>\n",
       "<!-- 7&#45;&#45;8 -->\n",
       "<g id=\"edge8\" class=\"edge\">\n",
       "<title>7--8</title>\n",
       "<path fill=\"none\" stroke=\"black\" d=\"M299,-215C299,-215 275,-195.19 256.63,-180.03\"/>\n",
       "</g>\n",
       "<!-- 11 -->\n",
       "<g id=\"node12\" class=\"node\">\n",
       "<title>11</title>\n",
       "<text text-anchor=\"start\" x=\"289.5\" y=\"-159.3\" font-family=\"Courier,monospace\" font-weight=\"bold\" font-size=\"14.00\" fill=\"#004080\">Constant</text>\n",
       "</g>\n",
       "<!-- 7&#45;&#45;11 -->\n",
       "<g id=\"edge11\" class=\"edge\">\n",
       "<title>7--11</title>\n",
       "<path fill=\"none\" stroke=\"black\" d=\"M299,-215C299,-215 308.14,-195.19 315.14,-180.03\"/>\n",
       "</g>\n",
       "<!-- 9 -->\n",
       "<g id=\"node10\" class=\"node\">\n",
       "<title>9</title>\n",
       "<text text-anchor=\"middle\" x=\"173\" y=\"-86.3\" font-family=\"Courier,monospace\" font-size=\"14.00\" fill=\"#008040\">&quot;res&quot;</text>\n",
       "</g>\n",
       "<!-- 8&#45;&#45;9 -->\n",
       "<g id=\"edge9\" class=\"edge\">\n",
       "<title>8--9</title>\n",
       "<path fill=\"none\" stroke=\"black\" d=\"M231,-143C231,-143 208.91,-123.19 191.99,-108.03\"/>\n",
       "</g>\n",
       "<!-- 10 -->\n",
       "<g id=\"node11\" class=\"node\">\n",
       "<title>10</title>\n",
       "<text text-anchor=\"middle\" x=\"249\" y=\"-86.3\" font-family=\"Courier,monospace\" font-size=\"14.00\" fill=\"#008040\">Store</text>\n",
       "</g>\n",
       "<!-- 8&#45;&#45;10 -->\n",
       "<g id=\"edge10\" class=\"edge\">\n",
       "<title>8--10</title>\n",
       "<path fill=\"none\" stroke=\"black\" d=\"M231,-143C231,-143 237.86,-123.19 243.11,-108.03\"/>\n",
       "</g>\n",
       "<!-- 12 -->\n",
       "<g id=\"node13\" class=\"node\">\n",
       "<title>12</title>\n",
       "<text text-anchor=\"middle\" x=\"323\" y=\"-86.3\" font-family=\"Courier,monospace\" font-size=\"14.00\" fill=\"#008040\">1</text>\n",
       "</g>\n",
       "<!-- 11&#45;&#45;12 -->\n",
       "<g id=\"edge12\" class=\"edge\">\n",
       "<title>11--12</title>\n",
       "<path fill=\"none\" stroke=\"black\" d=\"M323,-143.7C323,-132.85 323,-118.92 323,-108.1\"/>\n",
       "</g>\n",
       "<!-- 14 -->\n",
       "<g id=\"node15\" class=\"node\">\n",
       "<title>14</title>\n",
       "<text text-anchor=\"start\" x=\"452\" y=\"-159.3\" font-family=\"Courier,monospace\" font-weight=\"bold\" font-size=\"14.00\" fill=\"#004080\">Name</text>\n",
       "</g>\n",
       "<!-- 13&#45;&#45;14 -->\n",
       "<g id=\"edge14\" class=\"edge\">\n",
       "<title>13--14</title>\n",
       "<path fill=\"none\" stroke=\"black\" d=\"M519,-215C519,-215 499.95,-195.19 485.37,-180.03\"/>\n",
       "</g>\n",
       "<!-- 17 -->\n",
       "<g id=\"node18\" class=\"node\">\n",
       "<title>17</title>\n",
       "<text text-anchor=\"start\" x=\"569\" y=\"-159.3\" font-family=\"Courier,monospace\" font-weight=\"bold\" font-size=\"14.00\" fill=\"#004080\">Call</text>\n",
       "</g>\n",
       "<!-- 13&#45;&#45;17 -->\n",
       "<g id=\"edge17\" class=\"edge\">\n",
       "<title>13--17</title>\n",
       "<path fill=\"none\" stroke=\"black\" d=\"M519,-215C519,-215 544.52,-195.19 564.06,-180.03\"/>\n",
       "</g>\n",
       "<!-- 26 -->\n",
       "<g id=\"node27\" class=\"node\">\n",
       "<title>26</title>\n",
       "<text text-anchor=\"start\" x=\"833.5\" y=\"-159.3\" font-family=\"Courier,monospace\" font-weight=\"bold\" font-size=\"14.00\" fill=\"#004080\">AugAssign</text>\n",
       "</g>\n",
       "<!-- 13&#45;&#45;26 -->\n",
       "<g id=\"edge26\" class=\"edge\">\n",
       "<title>13--26</title>\n",
       "<path fill=\"none\" stroke=\"black\" d=\"M519,-215C519,-215 730.1,-183.81 825.34,-169.74\"/>\n",
       "</g>\n",
       "<!-- 15 -->\n",
       "<g id=\"node16\" class=\"node\">\n",
       "<title>15</title>\n",
       "<text text-anchor=\"middle\" x=\"395\" y=\"-86.3\" font-family=\"Courier,monospace\" font-size=\"14.00\" fill=\"#008040\">&quot;i&quot;</text>\n",
       "</g>\n",
       "<!-- 14&#45;&#45;15 -->\n",
       "<g id=\"edge15\" class=\"edge\">\n",
       "<title>14--15</title>\n",
       "<path fill=\"none\" stroke=\"black\" d=\"M461,-143C461,-143 435.86,-123.19 416.61,-108.03\"/>\n",
       "</g>\n",
       "<!-- 16 -->\n",
       "<g id=\"node17\" class=\"node\">\n",
       "<title>16</title>\n",
       "<text text-anchor=\"middle\" x=\"469\" y=\"-86.3\" font-family=\"Courier,monospace\" font-size=\"14.00\" fill=\"#008040\">Store</text>\n",
       "</g>\n",
       "<!-- 14&#45;&#45;16 -->\n",
       "<g id=\"edge16\" class=\"edge\">\n",
       "<title>14--16</title>\n",
       "<path fill=\"none\" stroke=\"black\" d=\"M461,-143C461,-143 464.05,-123.19 466.38,-108.03\"/>\n",
       "</g>\n",
       "<!-- 18 -->\n",
       "<g id=\"node19\" class=\"node\">\n",
       "<title>18</title>\n",
       "<text text-anchor=\"start\" x=\"526\" y=\"-87.3\" font-family=\"Courier,monospace\" font-weight=\"bold\" font-size=\"14.00\" fill=\"#004080\">Name</text>\n",
       "</g>\n",
       "<!-- 17&#45;&#45;18 -->\n",
       "<g id=\"edge18\" class=\"edge\">\n",
       "<title>17--18</title>\n",
       "<path fill=\"none\" stroke=\"black\" d=\"M593,-143C593,-143 573.95,-123.19 559.37,-108.03\"/>\n",
       "</g>\n",
       "<!-- 21 -->\n",
       "<g id=\"node22\" class=\"node\">\n",
       "<title>21</title>\n",
       "<text text-anchor=\"start\" x=\"596.5\" y=\"-87.3\" font-family=\"Courier,monospace\" font-weight=\"bold\" font-size=\"14.00\" fill=\"#004080\">Constant</text>\n",
       "</g>\n",
       "<!-- 17&#45;&#45;21 -->\n",
       "<g id=\"edge21\" class=\"edge\">\n",
       "<title>17--21</title>\n",
       "<path fill=\"none\" stroke=\"black\" d=\"M593,-143C593,-143 607.09,-123.19 617.88,-108.03\"/>\n",
       "</g>\n",
       "<!-- 23 -->\n",
       "<g id=\"node24\" class=\"node\">\n",
       "<title>23</title>\n",
       "<text text-anchor=\"start\" x=\"700\" y=\"-87.3\" font-family=\"Courier,monospace\" font-weight=\"bold\" font-size=\"14.00\" fill=\"#004080\">Name</text>\n",
       "</g>\n",
       "<!-- 17&#45;&#45;23 -->\n",
       "<g id=\"edge23\" class=\"edge\">\n",
       "<title>17--23</title>\n",
       "<path fill=\"none\" stroke=\"black\" d=\"M593,-143C593,-143 641.72,-124.48 680,-108 683.25,-106.6 686.64,-105.1 689.99,-103.59\"/>\n",
       "</g>\n",
       "<!-- 19 -->\n",
       "<g id=\"node20\" class=\"node\">\n",
       "<title>19</title>\n",
       "<text text-anchor=\"middle\" x=\"461\" y=\"-14.3\" font-family=\"Courier,monospace\" font-size=\"14.00\" fill=\"#008040\">&quot;range&quot;</text>\n",
       "</g>\n",
       "<!-- 18&#45;&#45;19 -->\n",
       "<g id=\"edge19\" class=\"edge\">\n",
       "<title>18--19</title>\n",
       "<path fill=\"none\" stroke=\"black\" d=\"M535,-71C535,-71 506.81,-51.19 485.23,-36.03\"/>\n",
       "</g>\n",
       "<!-- 20 -->\n",
       "<g id=\"node21\" class=\"node\">\n",
       "<title>20</title>\n",
       "<text text-anchor=\"middle\" x=\"543\" y=\"-14.3\" font-family=\"Courier,monospace\" font-size=\"14.00\" fill=\"#008040\">Load</text>\n",
       "</g>\n",
       "<!-- 18&#45;&#45;20 -->\n",
       "<g id=\"edge20\" class=\"edge\">\n",
       "<title>18--20</title>\n",
       "<path fill=\"none\" stroke=\"black\" d=\"M535,-71C535,-71 538.05,-51.19 540.38,-36.03\"/>\n",
       "</g>\n",
       "<!-- 22 -->\n",
       "<g id=\"node23\" class=\"node\">\n",
       "<title>22</title>\n",
       "<text text-anchor=\"middle\" x=\"615\" y=\"-14.3\" font-family=\"Courier,monospace\" font-size=\"14.00\" fill=\"#008040\">0</text>\n",
       "</g>\n",
       "<!-- 21&#45;&#45;22 -->\n",
       "<g id=\"edge22\" class=\"edge\">\n",
       "<title>21--22</title>\n",
       "<path fill=\"none\" stroke=\"black\" d=\"M626.29,-71.7C623.97,-60.85 620.98,-46.92 618.67,-36.1\"/>\n",
       "</g>\n",
       "<!-- 24 -->\n",
       "<g id=\"node25\" class=\"node\">\n",
       "<title>24</title>\n",
       "<text text-anchor=\"middle\" x=\"687\" y=\"-14.3\" font-family=\"Courier,monospace\" font-size=\"14.00\" fill=\"#008040\">&quot;x&quot;</text>\n",
       "</g>\n",
       "<!-- 23&#45;&#45;24 -->\n",
       "<g id=\"edge24\" class=\"edge\">\n",
       "<title>23--24</title>\n",
       "<path fill=\"none\" stroke=\"black\" d=\"M718,-71C718,-71 706.19,-51.19 697.15,-36.03\"/>\n",
       "</g>\n",
       "<!-- 25 -->\n",
       "<g id=\"node26\" class=\"node\">\n",
       "<title>25</title>\n",
       "<text text-anchor=\"middle\" x=\"759\" y=\"-14.3\" font-family=\"Courier,monospace\" font-size=\"14.00\" fill=\"#008040\">Load</text>\n",
       "</g>\n",
       "<!-- 23&#45;&#45;25 -->\n",
       "<g id=\"edge25\" class=\"edge\">\n",
       "<title>23--25</title>\n",
       "<path fill=\"none\" stroke=\"black\" d=\"M718,-71C718,-71 733.62,-51.19 745.58,-36.03\"/>\n",
       "</g>\n",
       "<!-- 27 -->\n",
       "<g id=\"node28\" class=\"node\">\n",
       "<title>27</title>\n",
       "<text text-anchor=\"start\" x=\"818\" y=\"-87.3\" font-family=\"Courier,monospace\" font-weight=\"bold\" font-size=\"14.00\" fill=\"#004080\">Name</text>\n",
       "</g>\n",
       "<!-- 26&#45;&#45;27 -->\n",
       "<g id=\"edge27\" class=\"edge\">\n",
       "<title>26--27</title>\n",
       "<path fill=\"none\" stroke=\"black\" d=\"M877,-143C877,-143 861,-123.19 848.75,-108.03\"/>\n",
       "</g>\n",
       "<!-- 30 -->\n",
       "<g id=\"node31\" class=\"node\">\n",
       "<title>30</title>\n",
       "<text text-anchor=\"middle\" x=\"907\" y=\"-86.3\" font-family=\"Courier,monospace\" font-size=\"14.00\" fill=\"#008040\">Mult</text>\n",
       "</g>\n",
       "<!-- 26&#45;&#45;30 -->\n",
       "<g id=\"edge30\" class=\"edge\">\n",
       "<title>26--30</title>\n",
       "<path fill=\"none\" stroke=\"black\" d=\"M877,-143C877,-143 888.43,-123.19 897.18,-108.03\"/>\n",
       "</g>\n",
       "<!-- 31 -->\n",
       "<g id=\"node32\" class=\"node\">\n",
       "<title>31</title>\n",
       "<text text-anchor=\"start\" x=\"965\" y=\"-87.3\" font-family=\"Courier,monospace\" font-weight=\"bold\" font-size=\"14.00\" fill=\"#004080\">Name</text>\n",
       "</g>\n",
       "<!-- 26&#45;&#45;31 -->\n",
       "<g id=\"edge31\" class=\"edge\">\n",
       "<title>26--31</title>\n",
       "<path fill=\"none\" stroke=\"black\" d=\"M877,-143C877,-143 923.85,-119.8 954.96,-104.39\"/>\n",
       "</g>\n",
       "<!-- 28 -->\n",
       "<g id=\"node29\" class=\"node\">\n",
       "<title>28</title>\n",
       "<text text-anchor=\"middle\" x=\"833\" y=\"-14.3\" font-family=\"Courier,monospace\" font-size=\"14.00\" fill=\"#008040\">&quot;res&quot;</text>\n",
       "</g>\n",
       "<!-- 27&#45;&#45;28 -->\n",
       "<g id=\"edge28\" class=\"edge\">\n",
       "<title>27--28</title>\n",
       "<path fill=\"none\" stroke=\"black\" d=\"M842,-71C842,-71 838.57,-51.19 835.95,-36.03\"/>\n",
       "</g>\n",
       "<!-- 29 -->\n",
       "<g id=\"node30\" class=\"node\">\n",
       "<title>29</title>\n",
       "<text text-anchor=\"middle\" x=\"909\" y=\"-14.3\" font-family=\"Courier,monospace\" font-size=\"14.00\" fill=\"#008040\">Store</text>\n",
       "</g>\n",
       "<!-- 27&#45;&#45;29 -->\n",
       "<g id=\"edge29\" class=\"edge\">\n",
       "<title>27--29</title>\n",
       "<path fill=\"none\" stroke=\"black\" d=\"M842,-71C842,-71 867.52,-51.19 887.06,-36.03\"/>\n",
       "</g>\n",
       "<!-- 32 -->\n",
       "<g id=\"node33\" class=\"node\">\n",
       "<title>32</title>\n",
       "<text text-anchor=\"middle\" x=\"983\" y=\"-14.3\" font-family=\"Courier,monospace\" font-size=\"14.00\" fill=\"#008040\">&quot;n&quot;</text>\n",
       "</g>\n",
       "<!-- 31&#45;&#45;32 -->\n",
       "<g id=\"edge32\" class=\"edge\">\n",
       "<title>31--32</title>\n",
       "<path fill=\"none\" stroke=\"black\" d=\"M990,-71C990,-71 987.33,-51.19 985.29,-36.03\"/>\n",
       "</g>\n",
       "<!-- 33 -->\n",
       "<g id=\"node34\" class=\"node\">\n",
       "<title>33</title>\n",
       "<text text-anchor=\"middle\" x=\"1055\" y=\"-14.3\" font-family=\"Courier,monospace\" font-size=\"14.00\" fill=\"#008040\">Load</text>\n",
       "</g>\n",
       "<!-- 31&#45;&#45;33 -->\n",
       "<g id=\"edge33\" class=\"edge\">\n",
       "<title>31--33</title>\n",
       "<path fill=\"none\" stroke=\"black\" d=\"M990,-71C990,-71 1014.76,-51.19 1033.72,-36.03\"/>\n",
       "</g>\n",
       "<!-- 35 -->\n",
       "<g id=\"node36\" class=\"node\">\n",
       "<title>35</title>\n",
       "<text text-anchor=\"start\" x=\"1039\" y=\"-159.3\" font-family=\"Courier,monospace\" font-weight=\"bold\" font-size=\"14.00\" fill=\"#004080\">Name</text>\n",
       "</g>\n",
       "<!-- 34&#45;&#45;35 -->\n",
       "<g id=\"edge35\" class=\"edge\">\n",
       "<title>34--35</title>\n",
       "<path fill=\"none\" stroke=\"black\" d=\"M872.43,-222.22C915.35,-208.37 989,-184.61 1028.72,-171.8\"/>\n",
       "</g>\n",
       "<!-- 36 -->\n",
       "<g id=\"node37\" class=\"node\">\n",
       "<title>36</title>\n",
       "<text text-anchor=\"middle\" x=\"1056\" y=\"-86.3\" font-family=\"Courier,monospace\" font-size=\"14.00\" fill=\"#008040\">&quot;res&quot;</text>\n",
       "</g>\n",
       "<!-- 35&#45;&#45;36 -->\n",
       "<g id=\"edge36\" class=\"edge\">\n",
       "<title>35--36</title>\n",
       "<path fill=\"none\" stroke=\"black\" d=\"M1064,-143C1064,-143 1060.95,-123.19 1058.62,-108.03\"/>\n",
       "</g>\n",
       "<!-- 37 -->\n",
       "<g id=\"node38\" class=\"node\">\n",
       "<title>37</title>\n",
       "<text text-anchor=\"middle\" x=\"1130\" y=\"-86.3\" font-family=\"Courier,monospace\" font-size=\"14.00\" fill=\"#008040\">Load</text>\n",
       "</g>\n",
       "<!-- 35&#45;&#45;37 -->\n",
       "<g id=\"edge37\" class=\"edge\">\n",
       "<title>35--37</title>\n",
       "<path fill=\"none\" stroke=\"black\" d=\"M1064,-143C1064,-143 1089.14,-123.19 1108.39,-108.03\"/>\n",
       "</g>\n",
       "</g>\n",
       "</svg>"
      ],
      "text/plain": [
       "<IPython.core.display.SVG object>"
      ]
     },
     "metadata": {},
     "output_type": "display_data"
    }
   ],
   "source": [
    "show_ast(ast.parse(inspect.getsource(power)))\n",
    "show_ast(ast.parse(inspect.getsource(power)))"
   ]
  },
  {
   "cell_type": "markdown",
   "metadata": {
    "slideshow": {
     "slide_type": "fragment"
    }
   },
   "source": [
    "However, this `power()` function either has an uncommon interpretation of $x^y$ – or it is simply wrong:"
   ]
  },
  {
   "cell_type": "code",
   "execution_count": 102,
   "metadata": {
    "slideshow": {
     "slide_type": "subslide"
    }
   },
   "outputs": [
    {
     "data": {
      "text/plain": [
       "25"
      ]
     },
     "execution_count": 102,
     "metadata": {},
     "output_type": "execute_result"
    }
   ],
   "source": [
    "power(2, 5)"
   ]
  },
  {
   "cell_type": "code",
   "execution_count": 103,
   "metadata": {},
   "outputs": [
    {
     "data": {
      "text/plain": [
       "32"
      ]
     },
     "execution_count": 103,
     "metadata": {},
     "output_type": "execute_result"
    }
   ],
   "source": [
    "fixed_power(2, 5)"
   ]
  },
  {
   "cell_type": "markdown",
   "metadata": {
    "slideshow": {
     "slide_type": "fragment"
    }
   },
   "source": [
    "We go with the simpler explanation that `power()` is wrong. The correct value, of course, should be $2^5 = 32$."
   ]
  },
  {
   "cell_type": "code",
   "execution_count": 104,
   "metadata": {
    "slideshow": {
     "slide_type": "fragment"
    }
   },
   "outputs": [],
   "source": [
    "def power_testcase():\n",
    "    x = random.randrange(100)\n",
    "    n = random.randrange(100)\n",
    "    return x, n"
   ]
  },
  {
   "cell_type": "code",
   "execution_count": 105,
   "metadata": {
    "slideshow": {
     "slide_type": "fragment"
    }
   },
   "outputs": [],
   "source": [
    "def power_test(x, n):\n",
    "    m = power(x, n)\n",
    "    assert m == pow(x, n)"
   ]
  },
  {
   "cell_type": "code",
   "execution_count": 106,
   "metadata": {
    "slideshow": {
     "slide_type": "subslide"
    }
   },
   "outputs": [],
   "source": [
    "def power_passing_testcase():\n",
    "    while True:\n",
    "        try:\n",
    "            x, n = power_testcase()\n",
    "            _ = power_test(x, n)\n",
    "            return x, n\n",
    "        except AssertionError:\n",
    "            pass"
   ]
  },
  {
   "cell_type": "code",
   "execution_count": 107,
   "metadata": {
    "slideshow": {
     "slide_type": "fragment"
    }
   },
   "outputs": [],
   "source": [
    "def power_failing_testcase():\n",
    "    while True:\n",
    "        try:\n",
    "            x, n = power_testcase()\n",
    "            _ = power_test(x, n)\n",
    "        except AssertionError:\n",
    "            return x, n"
   ]
  },
  {
   "cell_type": "code",
   "execution_count": 108,
   "metadata": {
    "slideshow": {
     "slide_type": "subslide"
    }
   },
   "outputs": [],
   "source": [
    "POWER_PASSING_TESTCASES = [power_passing_testcase()\n",
    "                           for i in range(TESTS)]"
   ]
  },
  {
   "cell_type": "code",
   "execution_count": 109,
   "metadata": {
    "slideshow": {
     "slide_type": "fragment"
    }
   },
   "outputs": [],
   "source": [
    "POWER_FAILING_TESTCASES = [power_failing_testcase()\n",
    "                           for i in range(TESTS)]"
   ]
  },
  {
   "cell_type": "markdown",
   "metadata": {
    "scrolled": false
   },
   "source": [
    "repaired5 = debug_and_repair(power,\n",
    "                            POWER_PASSING_TESTCASES +\n",
    "                            POWER_FAILING_TESTCASES,\n",
    "                            power_test, 3)"
   ]
  },
  {
   "cell_type": "markdown",
   "metadata": {
    "slideshow": {
     "slide_type": "subslide"
    }
   },
   "source": [
    "### Tester Class"
   ]
  },
  {
   "cell_type": "markdown",
   "metadata": {
    "slideshow": {
     "slide_type": "fragment"
    }
   },
   "source": [
    "To make it convenient to test your solution we provide a testing framework:"
   ]
  },
  {
   "cell_type": "code",
   "execution_count": 110,
   "metadata": {
    "slideshow": {
     "slide_type": "skip"
    }
   },
   "outputs": [],
   "source": [
    "import re"
   ]
  },
  {
   "cell_type": "code",
   "execution_count": 111,
   "metadata": {
    "slideshow": {
     "slide_type": "subslide"
    }
   },
   "outputs": [],
   "source": [
    "class Test:\n",
    "    def __init__(self, function, testcases, \n",
    "                 test_function, assert_function):\n",
    "        self.function = function\n",
    "        self.testcases = testcases\n",
    "        self.test_function = test_function\n",
    "        self.assert_function = assert_function\n",
    "\n",
    "    def run(self, repair_function):\n",
    "        repaired = repair_function(self.function,\n",
    "                                   self.testcases,\n",
    "                                   self.test_function)\n",
    "        repaired = re.sub(self.function.__name__, 'foo', repaired)\n",
    "        exec(repaired, globals())\n",
    "\n",
    "        for test in self.testcases:\n",
    "            res = foo(*test)\n",
    "            if(int(res) != int(self.assert_function(*test))):\n",
    "                print(f\"Result differs: {res} != {self.assert_function(*test)} on input {test} for function {self.function}, test function {self.test_function}\")\n",
    "            assert int(res) == (self.assert_function(*test))"
   ]
  },
  {
   "cell_type": "code",
   "execution_count": 112,
   "metadata": {
    "slideshow": {
     "slide_type": "subslide"
    }
   },
   "outputs": [],
   "source": [
    "def middle_assert(x, y, z):\n",
    "    return sorted([x, y, z])[1]"
   ]
  },
  {
   "cell_type": "code",
   "execution_count": 113,
   "metadata": {},
   "outputs": [
    {
     "name": "stdout",
     "output_type": "stream",
     "text": [
      "Module(body=[AugAssign(target=Name(id='a', ctx=Store()), op=Add(), value=BinOp(left=Name(id='a', ctx=Load()), op=Add(), right=Constant(value=1, kind=None)))], type_ignores=[])\n"
     ]
    }
   ],
   "source": [
    "print(ast.dump(ast.parse('a += a + 1')))"
   ]
  },
  {
   "cell_type": "code",
   "execution_count": 114,
   "metadata": {
    "slideshow": {
     "slide_type": "fragment"
    }
   },
   "outputs": [],
   "source": [
    "test0 = Test(factorial1, FACTORIAL_PASSING_TESTCASES_1 + FACTORIAL_FAILING_TESTCASES_1, factorial1_test, math.factorial)\n",
    "test1 = Test(factorial2, FACTORIAL_PASSING_TESTCASES_2 + FACTORIAL_FAILING_TESTCASES_2, factorial2_test, math.factorial)\n",
    "test2 = Test(factorial3, FACTORIAL_PASSING_TESTCASES_3 + FACTORIAL_FAILING_TESTCASES_3, factorial3_test, math.factorial)\n",
    "test3 = Test(middle, MIDDLE_PASSING_TESTCASES + MIDDLE_FAILING_TESTCASES, middle_test, middle_assert)\n",
    "test4 = Test(power, POWER_PASSING_TESTCASES + POWER_FAILING_TESTCASES, power_test, pow)"
   ]
  },
  {
   "cell_type": "code",
   "execution_count": 115,
   "metadata": {
    "slideshow": {
     "slide_type": "fragment"
    }
   },
   "outputs": [],
   "source": [
    "tests = [test0, test1, test2, test3, test4]"
   ]
  },
  {
   "cell_type": "code",
   "execution_count": 116,
   "metadata": {
    "slideshow": {
     "slide_type": "subslide"
    }
   },
   "outputs": [],
   "source": [
    "class Tester:\n",
    "\n",
    "    def __init__(self, function, tests):\n",
    "        self.function = function\n",
    "        self.tests = tests\n",
    "        random.seed(42)  # We use this seed for our evaluation; don't change it.\n",
    "\n",
    "    def run_tests(self):\n",
    "        for test in self.tests:\n",
    "            try:\n",
    "                test.run(self.function)\n",
    "                print(f'Test {test.function.__name__}: OK')\n",
    "            except AssertionError:\n",
    "                print(f'Test {test.function.__name__}: Failed')"
   ]
  },
  {
   "cell_type": "code",
   "execution_count": 117,
   "metadata": {
    "scrolled": false,
    "slideshow": {
     "slide_type": "subslide"
    }
   },
   "outputs": [
    {
     "name": "stdout",
     "output_type": "stream",
     "text": [
      "Target code to be repaired:\n",
      "\u001b[34mdef\u001b[39;49;00m \u001b[32mfactorial1\u001b[39;49;00m(n):\n",
      "    res = \u001b[34m1\u001b[39;49;00m\n",
      "    \u001b[34mfor\u001b[39;49;00m i \u001b[35min\u001b[39;49;00m \u001b[36mrange\u001b[39;49;00m(\u001b[34m1\u001b[39;49;00m, n):\n",
      "        res *= i\n",
      "    \u001b[34mreturn\u001b[39;49;00m res\n",
      "\n",
      "Found conditions []\n",
      "Evolving population: iteration   0/5000 fitness = 1.0   \n",
      "Best code (fitness = 1.0):\n",
      "\u001b[34mdef\u001b[39;49;00m \u001b[32mfactorial1\u001b[39;49;00m(n):\n",
      "    res = \u001b[34m1\u001b[39;49;00m\n",
      "    \u001b[34mfor\u001b[39;49;00m i \u001b[35min\u001b[39;49;00m \u001b[36mrange\u001b[39;49;00m(\u001b[34m1\u001b[39;49;00m, n):\n",
      "        res *= i + \u001b[34m1\u001b[39;49;00m\n",
      "    \u001b[34mreturn\u001b[39;49;00m res\n",
      "\n",
      "Reduced code (fitness = 1.0):\n",
      "\u001b[34mdef\u001b[39;49;00m \u001b[32mfactorial1\u001b[39;49;00m(n):\n",
      "    res = \u001b[34m1\u001b[39;49;00m\n",
      "    \u001b[34mfor\u001b[39;49;00m i \u001b[35min\u001b[39;49;00m \u001b[36mrange\u001b[39;49;00m(\u001b[34m1\u001b[39;49;00m, n):\n",
      "        res *= i + \u001b[34m1\u001b[39;49;00m\n",
      "    \u001b[34mreturn\u001b[39;49;00m res\n",
      "\n",
      "It took the MetaRepairer 13.409250974655151 seconds to repair the given code\n",
      "Test factorial1: OK\n",
      "Target code to be repaired:\n",
      "\u001b[34mdef\u001b[39;49;00m \u001b[32mfactorial2\u001b[39;49;00m(n):\n",
      "    i = \u001b[34m1\u001b[39;49;00m\n",
      "    \u001b[34mfor\u001b[39;49;00m i \u001b[35min\u001b[39;49;00m \u001b[36mrange\u001b[39;49;00m(\u001b[34m1\u001b[39;49;00m, n + \u001b[34m1\u001b[39;49;00m):\n",
      "        i *= i\n",
      "    \u001b[34mreturn\u001b[39;49;00m i\n",
      "\n",
      "Found conditions []\n",
      "Evolving population: iteration   0/5000 fitness = 1.0   \n",
      "Best code (fitness = 1.0):\n",
      "\u001b[34mdef\u001b[39;49;00m \u001b[32mfactorial2\u001b[39;49;00m(n):\n",
      "    i = \u001b[34m1\u001b[39;49;00m\n",
      "    \u001b[34mfor\u001b[39;49;00m replacement_id0 \u001b[35min\u001b[39;49;00m \u001b[36mrange\u001b[39;49;00m(\u001b[34m1\u001b[39;49;00m, n + \u001b[34m1\u001b[39;49;00m):\n",
      "        i *= replacement_id0\n",
      "    \u001b[34mreturn\u001b[39;49;00m i\n",
      "\n",
      "Reduced code (fitness = 1.0):\n",
      "\u001b[34mdef\u001b[39;49;00m \u001b[32mfactorial2\u001b[39;49;00m(n):\n",
      "    i = \u001b[34m1\u001b[39;49;00m\n",
      "    \u001b[34mfor\u001b[39;49;00m replacement_id0 \u001b[35min\u001b[39;49;00m \u001b[36mrange\u001b[39;49;00m(\u001b[34m1\u001b[39;49;00m, n + \u001b[34m1\u001b[39;49;00m):\n",
      "        i *= replacement_id0\n",
      "    \u001b[34mreturn\u001b[39;49;00m i\n",
      "\n",
      "It took the MetaRepairer 13.606401443481445 seconds to repair the given code\n",
      "Test factorial2: OK\n",
      "Target code to be repaired:\n",
      "\u001b[34mdef\u001b[39;49;00m \u001b[32mfactorial3\u001b[39;49;00m(n):\n",
      "    res = \u001b[34m1\u001b[39;49;00m\n",
      "    \u001b[34mfor\u001b[39;49;00m i \u001b[35min\u001b[39;49;00m \u001b[36mrange\u001b[39;49;00m(\u001b[34m1\u001b[39;49;00m, n + \u001b[34m1\u001b[39;49;00m):\n",
      "        res += i\n",
      "    \u001b[34mreturn\u001b[39;49;00m res\n",
      "\n",
      "Found conditions []\n",
      "Evolving population: iteration   0/5000 fitness = 1.0   \n",
      "Best code (fitness = 1.0):\n",
      "\u001b[34mdef\u001b[39;49;00m \u001b[32mfactorial3\u001b[39;49;00m(n):\n",
      "    res = \u001b[34m1\u001b[39;49;00m\n",
      "    \u001b[34mfor\u001b[39;49;00m i \u001b[35min\u001b[39;49;00m \u001b[36mrange\u001b[39;49;00m(\u001b[34m1\u001b[39;49;00m, n + \u001b[34m1\u001b[39;49;00m):\n",
      "        res *= i\n",
      "    \u001b[34mreturn\u001b[39;49;00m res\n",
      "\n",
      "Reduced code (fitness = 1.0):\n",
      "\u001b[34mdef\u001b[39;49;00m \u001b[32mfactorial3\u001b[39;49;00m(n):\n",
      "    res = \u001b[34m1\u001b[39;49;00m\n",
      "    \u001b[34mfor\u001b[39;49;00m i \u001b[35min\u001b[39;49;00m \u001b[36mrange\u001b[39;49;00m(\u001b[34m1\u001b[39;49;00m, n + \u001b[34m1\u001b[39;49;00m):\n",
      "        res *= i\n",
      "    \u001b[34mreturn\u001b[39;49;00m res\n",
      "\n",
      "It took the MetaRepairer 14.340658187866211 seconds to repair the given code\n",
      "Test factorial3: OK\n",
      "Target code to be repaired:\n",
      "\u001b[34mdef\u001b[39;49;00m \u001b[32mmiddle\u001b[39;49;00m(x, y, z):\n",
      "    \u001b[34mif\u001b[39;49;00m x < x:\n",
      "        \u001b[34mif\u001b[39;49;00m y < z:\n",
      "            \u001b[34mreturn\u001b[39;49;00m y\n",
      "        \u001b[34mif\u001b[39;49;00m x < z:\n",
      "            \u001b[34mreturn\u001b[39;49;00m z\n",
      "        \u001b[34mreturn\u001b[39;49;00m x\n",
      "    \u001b[34mif\u001b[39;49;00m x < z:\n",
      "        \u001b[34mreturn\u001b[39;49;00m x\n",
      "    \u001b[34mif\u001b[39;49;00m y < z:\n",
      "        \u001b[34mreturn\u001b[39;49;00m z\n",
      "    \u001b[34mreturn\u001b[39;49;00m y\n",
      "\n",
      "Found conditions ['(x < x)', '(y < z)', '(x < z)']\n",
      "Evolving population: iteration  21/5000 fitness = 1.0      \n",
      "Best code (fitness = 1.0):\n",
      "\u001b[34mdef\u001b[39;49;00m \u001b[32mmiddle\u001b[39;49;00m(x, y, z):\n",
      "    \u001b[34mif\u001b[39;49;00m x < y:\n",
      "        \u001b[34mif\u001b[39;49;00m y < z:\n",
      "            \u001b[34mreturn\u001b[39;49;00m y\n",
      "        \u001b[34mif\u001b[39;49;00m x < z:\n",
      "            \u001b[34mreturn\u001b[39;49;00m z\n",
      "        \u001b[34mreturn\u001b[39;49;00m x\n",
      "    \u001b[34mif\u001b[39;49;00m y < z \u001b[35mand\u001b[39;49;00m x < z:\n",
      "        \u001b[34mreturn\u001b[39;49;00m x\n",
      "    \u001b[34mif\u001b[39;49;00m y < z \u001b[35mand\u001b[39;49;00m y < z:\n",
      "        \u001b[34mreturn\u001b[39;49;00m z\n",
      "    \u001b[34mreturn\u001b[39;49;00m y\n",
      "\n",
      "Reduced code (fitness = 1.0):\n",
      "\u001b[34mdef\u001b[39;49;00m \u001b[32mmiddle\u001b[39;49;00m(x, y, z):\n",
      "    \u001b[34mif\u001b[39;49;00m x < y:\n",
      "        \u001b[34mif\u001b[39;49;00m y < z:\n",
      "            \u001b[34mreturn\u001b[39;49;00m y\n",
      "        \u001b[34mif\u001b[39;49;00m x < z:\n",
      "            \u001b[34mreturn\u001b[39;49;00m z\n",
      "        \u001b[34mreturn\u001b[39;49;00m x\n",
      "    \u001b[34mif\u001b[39;49;00m y < z \u001b[35mand\u001b[39;49;00m x < z:\n",
      "        \u001b[34mreturn\u001b[39;49;00m x\n",
      "    \u001b[34mif\u001b[39;49;00m y < z \u001b[35mand\u001b[39;49;00m y < z:\n",
      "        \u001b[34mreturn\u001b[39;49;00m z\n",
      "    \u001b[34mreturn\u001b[39;49;00m y\n",
      "\n",
      "It took the MetaRepairer 209.18244290351868 seconds to repair the given code\n",
      "Test middle: OK\n",
      "Target code to be repaired:\n",
      "\u001b[34mdef\u001b[39;49;00m \u001b[32mpower\u001b[39;49;00m(x, n):\n",
      "    res = \u001b[34m1\u001b[39;49;00m\n",
      "    \u001b[34mfor\u001b[39;49;00m i \u001b[35min\u001b[39;49;00m \u001b[36mrange\u001b[39;49;00m(\u001b[34m0\u001b[39;49;00m, x):\n",
      "        res *= n\n",
      "    \u001b[34mreturn\u001b[39;49;00m res\n",
      "\n",
      "Found conditions []\n",
      "Evolving population: iteration   9/5000 fitness = 1.0    \n",
      "Best code (fitness = 1.0):\n",
      "\u001b[34mdef\u001b[39;49;00m \u001b[32mpower\u001b[39;49;00m(x, n):\n",
      "    res = \u001b[34m1\u001b[39;49;00m\n",
      "    \u001b[34mfor\u001b[39;49;00m i \u001b[35min\u001b[39;49;00m \u001b[36mrange\u001b[39;49;00m(\u001b[34m0\u001b[39;49;00m, n):\n",
      "        res *= x\n",
      "    \u001b[34mreturn\u001b[39;49;00m res\n",
      "\n",
      "Reduced code (fitness = 1.0):\n",
      "\u001b[34mdef\u001b[39;49;00m \u001b[32mpower\u001b[39;49;00m(x, n):\n",
      "    res = \u001b[34m1\u001b[39;49;00m\n",
      "    \u001b[34mfor\u001b[39;49;00m i \u001b[35min\u001b[39;49;00m \u001b[36mrange\u001b[39;49;00m(\u001b[34m0\u001b[39;49;00m, n):\n",
      "        res *= x\n",
      "    \u001b[34mreturn\u001b[39;49;00m res\n",
      "\n",
      "It took the MetaRepairer 97.87664294242859 seconds to repair the given code\n",
      "Test power: OK\n"
     ]
    }
   ],
   "source": [
    "tester = Tester(debug_and_repair, tests)\n",
    "tester.run_tests()"
   ]
  },
  {
   "cell_type": "markdown",
   "metadata": {
    "slideshow": {
     "slide_type": "slide"
    }
   },
   "source": [
    "## Grading\n",
    "\n",
    "Your project will be graded by _automated tests_. The tests are executed in the same manner as shown above.\n",
    "In total there are **20 points** + **10 bonus points** to be awarded for this project. **20 points** for the must-haves, **10 bonus points** for may-haves."
   ]
  },
  {
   "cell_type": "markdown",
   "metadata": {
    "slideshow": {
     "slide_type": "subslide"
    }
   },
   "source": [
    "### Must-Haves (20 points)\n",
    "\n",
    "Must haves include an implementation of the `debug_and_repair` function in a way that it automatically repairs faulty functions given sufficiantly large test suites.\n",
    "**10 points** are awarded for passing the tests in this notebook. Each passing test being worth two points.\n",
    "**10 points** are awarded for passing secret tests."
   ]
  },
  {
   "cell_type": "markdown",
   "metadata": {
    "slideshow": {
     "slide_type": "subslide"
    }
   },
   "source": [
    "### May-Haves (10 points)\n",
    "\n",
    "May-haves will also be tested with secret tests, and award **2 points** each. The may-have-features for this project are a more robust implementation, that is able to cope with a wider range of defects:\n",
    "\n",
    "* Infinite loops\n",
    "* Infinite recursion (`RecursionError` in Python)\n",
    "* Type errors (`TypeError` in Python)\n",
    "* Undefined identifiers (`NameError` in Python)"
   ]
  },
  {
   "cell_type": "markdown",
   "metadata": {
    "slideshow": {
     "slide_type": "subslide"
    }
   },
   "source": [
    "### General Rules\n",
    "\n",
    "You need to achieve at least **10 points** to be awarded any points at all.  \n",
    "Tests must be passed without hard-coding results, otherwise no points are awarded.  \n",
    "Your code needs to be sufficiently documented in order to achieve points!"
   ]
  }
 ],
 "metadata": {
  "ipub": {
   "bibliography": "fuzzingbook.bib"
  },
  "kernelspec": {
   "display_name": "Python 3",
   "language": "python",
   "name": "python3"
  },
  "language_info": {
   "codemirror_mode": {
    "name": "ipython",
    "version": 3
   },
   "file_extension": ".py",
   "mimetype": "text/x-python",
   "name": "python",
   "nbconvert_exporter": "python",
   "pygments_lexer": "ipython3",
   "version": "3.8.5"
  },
  "toc": {
   "base_numbering": 1,
   "nav_menu": {},
   "number_sections": true,
   "sideBar": true,
   "skip_h1_title": true,
   "title_cell": "",
   "title_sidebar": "Contents",
   "toc_cell": false,
   "toc_position": {},
   "toc_section_display": true,
   "toc_window_display": true
  },
  "toc-autonumbering": false
 },
 "nbformat": 4,
 "nbformat_minor": 4
}
