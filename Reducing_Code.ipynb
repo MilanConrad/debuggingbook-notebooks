{
 "cells": [
  {
   "cell_type": "markdown",
   "metadata": {},
   "source": [
    "# Second Project"
   ]
  },
  {
   "cell_type": "markdown",
   "metadata": {},
   "source": [
    "In this project, you will implement a debugging reducer able to reduce a Python program containing a specific property down to a syntactically correct Python program that *only* contains said property.\n",
    "To do this, you will be given several Python parsers checking for specific properties as well as Python programs containing these properties.\n",
    "\n",
    "The time frame for this project is **2 weeks**, and the Deadline is **January 15th 23:59**."
   ]
  },
  {
   "cell_type": "code",
   "execution_count": null,
   "metadata": {},
   "outputs": [],
   "source": []
  },
  {
   "cell_type": "code",
   "execution_count": 1,
   "metadata": {
    "pycharm": {
     "name": "#%%\n"
    }
   },
   "outputs": [],
   "source": [
    "import bookutils"
   ]
  },
  {
   "cell_type": "code",
   "execution_count": 2,
   "metadata": {
    "pycharm": {
     "name": "#%%\n"
    }
   },
   "outputs": [],
   "source": [
    "import inspect\n",
    "import ast\n",
    "import random\n",
    "import astor\n",
    "import copy"
   ]
  },
  {
   "cell_type": "code",
   "execution_count": 3,
   "metadata": {
    "pycharm": {
     "name": "#%%\n"
    }
   },
   "outputs": [],
   "source": [
    "from bookutils import rich_output"
   ]
  },
  {
   "cell_type": "code",
   "execution_count": 4,
   "metadata": {
    "pycharm": {
     "name": "#%%\n"
    }
   },
   "outputs": [],
   "source": [
    "if rich_output():\n",
    "    from showast import show_ast\n",
    "else:\n",
    "    def show_ast(tree):\n",
    "        ast.dump(tree)"
   ]
  },
  {
   "cell_type": "code",
   "execution_count": 5,
   "metadata": {
    "pycharm": {
     "name": "#%%\n"
    }
   },
   "outputs": [],
   "source": [
    "from ExpectError import ExpectError"
   ]
  },
  {
   "cell_type": "markdown",
   "metadata": {},
   "source": [
    "## Description\n",
    "\n",
    "Imagine, we want to create a new compiler for Python programs which transforms the code into a binary executable.\n",
    "To this end, at first we need to implement a parser that parses a given program into a set of individual statements which can then be converted to the bytecode."
   ]
  },
  {
   "cell_type": "markdown",
   "metadata": {},
   "source": [
    "### Parsing Python  \n",
    "\n",
    "If we want to parse a programming language like Python, it makes sense to parse the code into an abstract syntax tree (AST) and work with the AST from this point onward.\n",
    "The reason we might want to do this, is to preserve the syntactic integrity of our program.\n",
    "Let's start with parsing a simple Python function (`foo`) into an AST using `ast.parse()` and printing it."
   ]
  },
  {
   "cell_type": "code",
   "execution_count": 6,
   "metadata": {
    "pycharm": {
     "name": "#%%\n"
    }
   },
   "outputs": [],
   "source": [
    "def foo(a, b):\n",
    "    \"\"\"\n",
    "    Checks whether a and b are true\n",
    "    \"\"\"\n",
    "    if a and b:\n",
    "        return 1\n",
    "    return 0"
   ]
  },
  {
   "cell_type": "markdown",
   "metadata": {},
   "source": [
    "We take a string representation of `foo()`..."
   ]
  },
  {
   "cell_type": "code",
   "execution_count": 7,
   "metadata": {
    "pycharm": {
     "name": "#%%\n"
    }
   },
   "outputs": [],
   "source": [
    "source = inspect.getsource(foo)"
   ]
  },
  {
   "cell_type": "code",
   "execution_count": 8,
   "metadata": {
    "pycharm": {
     "name": "#%%\n"
    }
   },
   "outputs": [
    {
     "name": "stdout",
     "output_type": "stream",
     "text": [
      "def foo(a, b):\n",
      "    \"\"\"\n",
      "    Checks whether a and b are true\n",
      "    \"\"\"\n",
      "    if a and b:\n",
      "        return 1\n",
      "    return 0\n",
      "\n"
     ]
    }
   ],
   "source": [
    "print(source)"
   ]
  },
  {
   "cell_type": "markdown",
   "metadata": {},
   "source": [
    "...and convert it to the AST:"
   ]
  },
  {
   "cell_type": "code",
   "execution_count": 9,
   "metadata": {
    "pycharm": {
     "name": "#%%\n"
    }
   },
   "outputs": [
    {
     "data": {
      "image/svg+xml": [
       "<svg xmlns=\"http://www.w3.org/2000/svg\" xmlns:xlink=\"http://www.w3.org/1999/xlink\" width=\"524pt\" height=\"332pt\" viewBox=\"0.00 0.00 524.00 332.00\">\n",
       "<g id=\"graph0\" class=\"graph\" transform=\"scale(1 1) rotate(0) translate(4 328)\">\n",
       "<title>%3</title>\n",
       "<polygon fill=\"white\" stroke=\"transparent\" points=\"-4,4 -4,-328 520,-328 520,4 -4,4\"/>\n",
       "<!-- 0 -->\n",
       "<g id=\"node1\" class=\"node\">\n",
       "<title>0</title>\n",
       "<text text-anchor=\"start\" x=\"164.5\" y=\"-303.3\" font-family=\"Courier,monospace\" font-weight=\"bold\" font-size=\"14.00\" fill=\"#004080\">FunctionDef</text>\n",
       "</g>\n",
       "<!-- 1 -->\n",
       "<g id=\"node2\" class=\"node\">\n",
       "<title>1</title>\n",
       "<text text-anchor=\"middle\" x=\"45\" y=\"-230.3\" font-family=\"Courier,monospace\" font-size=\"14.00\" fill=\"#008040\">&quot;foo&quot;</text>\n",
       "</g>\n",
       "<!-- 0&#45;&#45;1 -->\n",
       "<g id=\"edge1\" class=\"edge\">\n",
       "<title>0--1</title>\n",
       "<path fill=\"none\" stroke=\"black\" d=\"M208,-287C208,-287 137.26,-271.61 83,-252 80.15,-250.97 77.2,-249.82 74.28,-248.61\"/>\n",
       "</g>\n",
       "<!-- 2 -->\n",
       "<g id=\"node3\" class=\"node\">\n",
       "<title>2</title>\n",
       "<text text-anchor=\"start\" x=\"100.5\" y=\"-231.3\" font-family=\"Courier,monospace\" font-weight=\"bold\" font-size=\"14.00\" fill=\"#004080\">arguments</text>\n",
       "</g>\n",
       "<!-- 0&#45;&#45;2 -->\n",
       "<g id=\"edge2\" class=\"edge\">\n",
       "<title>0--2</title>\n",
       "<path fill=\"none\" stroke=\"black\" d=\"M208,-287C208,-287 181.34,-267.19 160.92,-252.03\"/>\n",
       "</g>\n",
       "<!-- 7 -->\n",
       "<g id=\"node8\" class=\"node\">\n",
       "<title>7</title>\n",
       "<text text-anchor=\"start\" x=\"234.5\" y=\"-231.3\" font-family=\"Courier,monospace\" font-weight=\"bold\" font-size=\"14.00\" fill=\"#004080\">If</text>\n",
       "</g>\n",
       "<!-- 0&#45;&#45;7 -->\n",
       "<g id=\"edge7\" class=\"edge\">\n",
       "<title>0--7</title>\n",
       "<path fill=\"none\" stroke=\"black\" d=\"M208,-287C208,-287 221.33,-267.19 231.54,-252.03\"/>\n",
       "</g>\n",
       "<!-- 19 -->\n",
       "<g id=\"node20\" class=\"node\">\n",
       "<title>19</title>\n",
       "<text text-anchor=\"start\" x=\"371\" y=\"-231.3\" font-family=\"Courier,monospace\" font-weight=\"bold\" font-size=\"14.00\" fill=\"#004080\">Return</text>\n",
       "</g>\n",
       "<!-- 0&#45;&#45;19 -->\n",
       "<g id=\"edge19\" class=\"edge\">\n",
       "<title>0--19</title>\n",
       "<path fill=\"none\" stroke=\"black\" d=\"M208,-287C208,-287 308.85,-259.11 362.82,-244.18\"/>\n",
       "</g>\n",
       "<!-- 3 -->\n",
       "<g id=\"node4\" class=\"node\">\n",
       "<title>3</title>\n",
       "<text text-anchor=\"start\" x=\"27.5\" y=\"-159.3\" font-family=\"Courier,monospace\" font-weight=\"bold\" font-size=\"14.00\" fill=\"#004080\">arg</text>\n",
       "</g>\n",
       "<!-- 2&#45;&#45;3 -->\n",
       "<g id=\"edge3\" class=\"edge\">\n",
       "<title>2--3</title>\n",
       "<path fill=\"none\" stroke=\"black\" d=\"M124,-215C124,-215 91.6,-194.94 67.04,-179.74\"/>\n",
       "</g>\n",
       "<!-- 5 -->\n",
       "<g id=\"node6\" class=\"node\">\n",
       "<title>5</title>\n",
       "<text text-anchor=\"start\" x=\"99.5\" y=\"-159.3\" font-family=\"Courier,monospace\" font-weight=\"bold\" font-size=\"14.00\" fill=\"#004080\">arg</text>\n",
       "</g>\n",
       "<!-- 2&#45;&#45;5 -->\n",
       "<g id=\"edge5\" class=\"edge\">\n",
       "<title>2--5</title>\n",
       "<path fill=\"none\" stroke=\"black\" d=\"M124,-215C124,-215 119.43,-195.19 115.93,-180.03\"/>\n",
       "</g>\n",
       "<!-- 4 -->\n",
       "<g id=\"node5\" class=\"node\">\n",
       "<title>4</title>\n",
       "<text text-anchor=\"middle\" x=\"27\" y=\"-86.3\" font-family=\"Courier,monospace\" font-size=\"14.00\" fill=\"#008040\">&quot;a&quot;</text>\n",
       "</g>\n",
       "<!-- 3&#45;&#45;4 -->\n",
       "<g id=\"edge4\" class=\"edge\">\n",
       "<title>3--4</title>\n",
       "<path fill=\"none\" stroke=\"black\" d=\"M36.79,-143.7C34.77,-132.85 32.18,-118.92 30.18,-108.1\"/>\n",
       "</g>\n",
       "<!-- 6 -->\n",
       "<g id=\"node7\" class=\"node\">\n",
       "<title>6</title>\n",
       "<text text-anchor=\"middle\" x=\"99\" y=\"-86.3\" font-family=\"Courier,monospace\" font-size=\"14.00\" fill=\"#008040\">&quot;b&quot;</text>\n",
       "</g>\n",
       "<!-- 5&#45;&#45;6 -->\n",
       "<g id=\"edge6\" class=\"edge\">\n",
       "<title>5--6</title>\n",
       "<path fill=\"none\" stroke=\"black\" d=\"M108.79,-143.7C106.77,-132.85 104.18,-118.92 102.18,-108.1\"/>\n",
       "</g>\n",
       "<!-- 8 -->\n",
       "<g id=\"node9\" class=\"node\">\n",
       "<title>8</title>\n",
       "<text text-anchor=\"start\" x=\"218\" y=\"-159.3\" font-family=\"Courier,monospace\" font-weight=\"bold\" font-size=\"14.00\" fill=\"#004080\">BoolOp</text>\n",
       "</g>\n",
       "<!-- 7&#45;&#45;8 -->\n",
       "<g id=\"edge8\" class=\"edge\">\n",
       "<title>7--8</title>\n",
       "<path fill=\"none\" stroke=\"black\" d=\"M253,-215C253,-215 249.19,-195.19 246.27,-180.03\"/>\n",
       "</g>\n",
       "<!-- 16 -->\n",
       "<g id=\"node17\" class=\"node\">\n",
       "<title>16</title>\n",
       "<text text-anchor=\"start\" x=\"336\" y=\"-159.3\" font-family=\"Courier,monospace\" font-weight=\"bold\" font-size=\"14.00\" fill=\"#004080\">Return</text>\n",
       "</g>\n",
       "<!-- 7&#45;&#45;16 -->\n",
       "<g id=\"edge16\" class=\"edge\">\n",
       "<title>7--16</title>\n",
       "<path fill=\"none\" stroke=\"black\" d=\"M253,-215C253,-215 295.98,-194.3 327.72,-179.03\"/>\n",
       "</g>\n",
       "<!-- 9 -->\n",
       "<g id=\"node10\" class=\"node\">\n",
       "<title>9</title>\n",
       "<text text-anchor=\"middle\" x=\"171\" y=\"-86.3\" font-family=\"Courier,monospace\" font-size=\"14.00\" fill=\"#008040\">And</text>\n",
       "</g>\n",
       "<!-- 8&#45;&#45;9 -->\n",
       "<g id=\"edge9\" class=\"edge\">\n",
       "<title>8--9</title>\n",
       "<path fill=\"none\" stroke=\"black\" d=\"M243,-143C243,-143 215.57,-123.19 194.58,-108.03\"/>\n",
       "</g>\n",
       "<!-- 10 -->\n",
       "<g id=\"node11\" class=\"node\">\n",
       "<title>10</title>\n",
       "<text text-anchor=\"start\" x=\"226\" y=\"-87.3\" font-family=\"Courier,monospace\" font-weight=\"bold\" font-size=\"14.00\" fill=\"#004080\">Name</text>\n",
       "</g>\n",
       "<!-- 8&#45;&#45;10 -->\n",
       "<g id=\"edge10\" class=\"edge\">\n",
       "<title>8--10</title>\n",
       "<path fill=\"none\" stroke=\"black\" d=\"M243,-143C243,-143 243,-123.19 243,-108.03\"/>\n",
       "</g>\n",
       "<!-- 13 -->\n",
       "<g id=\"node14\" class=\"node\">\n",
       "<title>13</title>\n",
       "<text text-anchor=\"start\" x=\"298\" y=\"-87.3\" font-family=\"Courier,monospace\" font-weight=\"bold\" font-size=\"14.00\" fill=\"#004080\">Name</text>\n",
       "</g>\n",
       "<!-- 8&#45;&#45;13 -->\n",
       "<g id=\"edge13\" class=\"edge\">\n",
       "<title>8--13</title>\n",
       "<path fill=\"none\" stroke=\"black\" d=\"M243,-143C243,-143 270.43,-123.19 291.42,-108.03\"/>\n",
       "</g>\n",
       "<!-- 11 -->\n",
       "<g id=\"node12\" class=\"node\">\n",
       "<title>11</title>\n",
       "<text text-anchor=\"middle\" x=\"171\" y=\"-14.3\" font-family=\"Courier,monospace\" font-size=\"14.00\" fill=\"#008040\">&quot;a&quot;</text>\n",
       "</g>\n",
       "<!-- 10&#45;&#45;11 -->\n",
       "<g id=\"edge11\" class=\"edge\">\n",
       "<title>10--11</title>\n",
       "<path fill=\"none\" stroke=\"black\" d=\"M235,-71C235,-71 210.62,-51.19 191.96,-36.03\"/>\n",
       "</g>\n",
       "<!-- 12 -->\n",
       "<g id=\"node13\" class=\"node\">\n",
       "<title>12</title>\n",
       "<text text-anchor=\"middle\" x=\"243\" y=\"-14.3\" font-family=\"Courier,monospace\" font-size=\"14.00\" fill=\"#008040\">Load</text>\n",
       "</g>\n",
       "<!-- 10&#45;&#45;12 -->\n",
       "<g id=\"edge12\" class=\"edge\">\n",
       "<title>10--12</title>\n",
       "<path fill=\"none\" stroke=\"black\" d=\"M235,-71C235,-71 238.05,-51.19 240.38,-36.03\"/>\n",
       "</g>\n",
       "<!-- 14 -->\n",
       "<g id=\"node15\" class=\"node\">\n",
       "<title>14</title>\n",
       "<text text-anchor=\"middle\" x=\"315\" y=\"-14.3\" font-family=\"Courier,monospace\" font-size=\"14.00\" fill=\"#008040\">&quot;b&quot;</text>\n",
       "</g>\n",
       "<!-- 13&#45;&#45;14 -->\n",
       "<g id=\"edge14\" class=\"edge\">\n",
       "<title>13--14</title>\n",
       "<path fill=\"none\" stroke=\"black\" d=\"M323,-71C323,-71 319.95,-51.19 317.62,-36.03\"/>\n",
       "</g>\n",
       "<!-- 15 -->\n",
       "<g id=\"node16\" class=\"node\">\n",
       "<title>15</title>\n",
       "<text text-anchor=\"middle\" x=\"387\" y=\"-14.3\" font-family=\"Courier,monospace\" font-size=\"14.00\" fill=\"#008040\">Load</text>\n",
       "</g>\n",
       "<!-- 13&#45;&#45;15 -->\n",
       "<g id=\"edge15\" class=\"edge\">\n",
       "<title>13--15</title>\n",
       "<path fill=\"none\" stroke=\"black\" d=\"M323,-71C323,-71 347.38,-51.19 366.04,-36.03\"/>\n",
       "</g>\n",
       "<!-- 17 -->\n",
       "<g id=\"node18\" class=\"node\">\n",
       "<title>17</title>\n",
       "<text text-anchor=\"start\" x=\"368.5\" y=\"-87.3\" font-family=\"Courier,monospace\" font-weight=\"bold\" font-size=\"14.00\" fill=\"#004080\">Constant</text>\n",
       "</g>\n",
       "<!-- 16&#45;&#45;17 -->\n",
       "<g id=\"edge17\" class=\"edge\">\n",
       "<title>16--17</title>\n",
       "<path fill=\"none\" stroke=\"black\" d=\"M371.13,-143.7C377.49,-132.85 385.65,-118.92 391.98,-108.1\"/>\n",
       "</g>\n",
       "<!-- 18 -->\n",
       "<g id=\"node19\" class=\"node\">\n",
       "<title>18</title>\n",
       "<text text-anchor=\"middle\" x=\"459\" y=\"-14.3\" font-family=\"Courier,monospace\" font-size=\"14.00\" fill=\"#008040\">1</text>\n",
       "</g>\n",
       "<!-- 17&#45;&#45;18 -->\n",
       "<g id=\"edge18\" class=\"edge\">\n",
       "<title>17--18</title>\n",
       "<path fill=\"none\" stroke=\"black\" d=\"M416.09,-71.7C424.93,-60.85 436.27,-46.92 445.07,-36.1\"/>\n",
       "</g>\n",
       "<!-- 20 -->\n",
       "<g id=\"node21\" class=\"node\">\n",
       "<title>20</title>\n",
       "<text text-anchor=\"start\" x=\"437.5\" y=\"-159.3\" font-family=\"Courier,monospace\" font-weight=\"bold\" font-size=\"14.00\" fill=\"#004080\">Constant</text>\n",
       "</g>\n",
       "<!-- 19&#45;&#45;20 -->\n",
       "<g id=\"edge20\" class=\"edge\">\n",
       "<title>19--20</title>\n",
       "<path fill=\"none\" stroke=\"black\" d=\"M414.54,-215.7C426.16,-204.85 441.09,-190.92 452.67,-180.1\"/>\n",
       "</g>\n",
       "<!-- 21 -->\n",
       "<g id=\"node22\" class=\"node\">\n",
       "<title>21</title>\n",
       "<text text-anchor=\"middle\" x=\"489\" y=\"-86.3\" font-family=\"Courier,monospace\" font-size=\"14.00\" fill=\"#008040\">0</text>\n",
       "</g>\n",
       "<!-- 20&#45;&#45;21 -->\n",
       "<g id=\"edge21\" class=\"edge\">\n",
       "<title>20--21</title>\n",
       "<path fill=\"none\" stroke=\"black\" d=\"M475.45,-143.7C478.24,-132.85 481.82,-118.92 484.6,-108.1\"/>\n",
       "</g>\n",
       "</g>\n",
       "</svg>"
      ],
      "text/plain": [
       "<IPython.core.display.SVG object>"
      ]
     },
     "metadata": {},
     "output_type": "display_data"
    }
   ],
   "source": [
    "source_ast = ast.parse(source)\n",
    "show_ast(source_ast)"
   ]
  },
  {
   "cell_type": "markdown",
   "metadata": {},
   "source": [
    "We can see how the code is structured by inspecting the AST shown above."
   ]
  },
  {
   "cell_type": "markdown",
   "metadata": {},
   "source": [
    "To learn the structure of an AST, have a look at the [official Python `ast` reference](http://docs.python.org/3/library/ast) for a list of AST nodes and their attributes.\n",
    "This reference is complete, but a bit terse; the [\"Green Tree Snakes missing Python AST docs\"](https://greentreesnakes.readthedocs.io/en/latest/manipulating.html) provide a good manual on how to modify the tree."
   ]
  },
  {
   "cell_type": "markdown",
   "metadata": {},
   "source": [
    "If we want to inspect certain elements of the source code, we can now use the `ast.NodeVisitor` to visit every node in the AST.\n",
    "This can be done by extending this class and implementing *visit-methods* for each type of node in the tree we want to inspect.  \n",
    "So, let's implement a parser that first parses the source code into an AST and then visits each node one after another."
   ]
  },
  {
   "cell_type": "code",
   "execution_count": 10,
   "metadata": {
    "pycharm": {
     "name": "#%%\n"
    }
   },
   "outputs": [],
   "source": [
    "class SimpleParser(ast.NodeVisitor):\n",
    "    \"\"\"\n",
    "    A simple parser printing all nodes in order\n",
    "    \"\"\"\n",
    "\n",
    "    def parse(self, file):\n",
    "        \"\"\"\n",
    "        When the parse function is called, we parse the source code\n",
    "        into a tree and then start visiting all nodes.\n",
    "        \"\"\"\n",
    "        tree = ast.parse(source=file)\n",
    "        self.visit(tree)\n",
    "\n",
    "    def visit_FunctionDef(self, node):\n",
    "        print(node)\n",
    "        self.generic_visit(node)\n",
    "\n",
    "    def visit_arguments(self, node):\n",
    "        print(node)\n",
    "        self.generic_visit(node)\n",
    "\n",
    "    def visit_If(self, node):\n",
    "        print(node)\n",
    "        self.generic_visit(node)\n",
    "\n",
    "    def visit_Return(self, node):\n",
    "        print(node)\n",
    "        self.generic_visit(node)\n",
    "\n",
    "    def visit_arg(self, node):\n",
    "        print(node)\n",
    "        self.generic_visit(node)\n",
    "\n",
    "    def visit_Num(self, node):\n",
    "        print(node)\n",
    "        self.generic_visit(node)\n",
    "\n",
    "    def visit_Name(self, node):\n",
    "        print(node)\n",
    "        self.generic_visit(node)\n",
    "\n",
    "    def visit_BoolOp(self, node):\n",
    "        print(node)\n",
    "        self.generic_visit(node)"
   ]
  },
  {
   "cell_type": "markdown",
   "metadata": {},
   "source": [
    "Using this `SimpleParser`, we can visit each node and print the node object itself."
   ]
  },
  {
   "cell_type": "code",
   "execution_count": 11,
   "metadata": {
    "pycharm": {
     "name": "#%%\n"
    }
   },
   "outputs": [
    {
     "name": "stdout",
     "output_type": "stream",
     "text": [
      "<_ast.FunctionDef object at 0x7f201455b700>\n",
      "<_ast.arguments object at 0x7f201455b3d0>\n",
      "<_ast.arg object at 0x7f201455b7f0>\n",
      "<_ast.arg object at 0x7f201455b550>\n",
      "<_ast.If object at 0x7f20143e5b80>\n",
      "<_ast.BoolOp object at 0x7f20143e5e80>\n",
      "<_ast.Name object at 0x7f20143e5bb0>\n",
      "<_ast.Name object at 0x7f20143e5b50>\n",
      "<_ast.Return object at 0x7f20143e5f70>\n",
      "<_ast.Constant object at 0x7f20143e5d30>\n",
      "<_ast.Return object at 0x7f20143e5e50>\n",
      "<_ast.Constant object at 0x7f20143e5df0>\n"
     ]
    }
   ],
   "source": [
    "SimpleParser().parse(source)"
   ]
  },
  {
   "cell_type": "markdown",
   "metadata": {},
   "source": [
    "Now imagine, instead of just parsing the input and printing each node, we start to process the information present in each node.\n",
    "To notify the user if anything breaks, we introduce a `ParserException` that is thrown when we encounter a parsing error."
   ]
  },
  {
   "cell_type": "code",
   "execution_count": 12,
   "metadata": {
    "pycharm": {
     "name": "#%%\n"
    }
   },
   "outputs": [],
   "source": [
    "class ParserException(Exception):\n",
    "    pass"
   ]
  },
  {
   "cell_type": "markdown",
   "metadata": {},
   "source": [
    "For instance, let's consider our parser has troubles processing boolean operators.\n",
    "We simulate this behavior by extending our parser to throw an exception whenever it encounters a `BoolOp` node.\n"
   ]
  },
  {
   "cell_type": "code",
   "execution_count": 13,
   "metadata": {
    "pycharm": {
     "name": "#%%\n"
    }
   },
   "outputs": [],
   "source": [
    "class SimpleParserPlus(SimpleParser):\n",
    "    \"\"\"\n",
    "    A simple parser printing all nodes in order until it reaches a BoolOp\n",
    "    \"\"\"\n",
    "\n",
    "    def visit_BoolOp(self, node):\n",
    "        \"\"\"\n",
    "        If a BoolOp is encountered, we throw an exception\n",
    "        \"\"\"\n",
    "        raise ParserException(\"Something went wrong\")"
   ]
  },
  {
   "cell_type": "code",
   "execution_count": 14,
   "metadata": {
    "pycharm": {
     "name": "#%%\n"
    }
   },
   "outputs": [
    {
     "name": "stdout",
     "output_type": "stream",
     "text": [
      "<_ast.FunctionDef object at 0x7f20143b9a60>\n",
      "<_ast.arguments object at 0x7f20143b9af0>\n",
      "<_ast.arg object at 0x7f20143b9b20>\n",
      "<_ast.arg object at 0x7f20143b9bb0>\n",
      "<_ast.If object at 0x7f20143b9c40>\n"
     ]
    },
    {
     "name": "stderr",
     "output_type": "stream",
     "text": [
      "Traceback (most recent call last):\n",
      "  File \"<ipython-input-14-2281579d96da>\", line 2, in <module>\n",
      "    SimpleParserPlus().parse(source)\n",
      "  File \"<ipython-input-10-70f9f47463b8>\", line 12, in parse\n",
      "    self.visit(tree)\n",
      "  File \"/home/milan/anaconda3/lib/python3.8/ast.py\", line 363, in visit\n",
      "    return visitor(node)\n",
      "  File \"/home/milan/anaconda3/lib/python3.8/ast.py\", line 371, in generic_visit\n",
      "    self.visit(item)\n",
      "  File \"/home/milan/anaconda3/lib/python3.8/ast.py\", line 363, in visit\n",
      "    return visitor(node)\n",
      "  File \"<ipython-input-10-70f9f47463b8>\", line 16, in visit_FunctionDef\n",
      "    self.generic_visit(node)\n",
      "  File \"/home/milan/anaconda3/lib/python3.8/ast.py\", line 371, in generic_visit\n",
      "    self.visit(item)\n",
      "  File \"/home/milan/anaconda3/lib/python3.8/ast.py\", line 363, in visit\n",
      "    return visitor(node)\n",
      "  File \"<ipython-input-10-70f9f47463b8>\", line 24, in visit_If\n",
      "    self.generic_visit(node)\n",
      "  File \"/home/milan/anaconda3/lib/python3.8/ast.py\", line 373, in generic_visit\n",
      "    self.visit(value)\n",
      "  File \"/home/milan/anaconda3/lib/python3.8/ast.py\", line 363, in visit\n",
      "    return visitor(node)\n",
      "  File \"<ipython-input-13-336a87e01254>\", line 10, in visit_BoolOp\n",
      "    raise ParserException(\"Something went wrong\")\n",
      "ParserException: Something went wrong (expected)\n"
     ]
    }
   ],
   "source": [
    "with ExpectError():\n",
    "    SimpleParserPlus().parse(source)\n"
   ]
  },
  {
   "cell_type": "markdown",
   "metadata": {},
   "source": [
    "As we can see here, as soon as we encounter a boolean operation, an exception is thrown."
   ]
  },
  {
   "cell_type": "markdown",
   "metadata": {},
   "source": [
    "### Reducing Python\n",
    "\n",
    "Let's get back to our `SimpleParserPlus` example. This parser parses Python code into an AST and then iterates over all nodes. When it reaches a boolean operation, it encounters an error and crashes.  \n",
    "Of course our example is a very small and artificial one. Furthermore, the input triggering our bug is rather small as well.\n",
    "However, in reality a similar situation might present itself to you but with a far less obvious error and a far larger input that causes it.\n",
    "In this case, instead of using the entire input, one might want to reduce the input down to only those parts actually causing the error.  \n",
    "But how do we do that?  \n",
    "We could, for instance, randomly remove some parts of the program.\n",
    "However, this would likely produce syntactically invalid Python code and hence prevent the parser from reaching the desired code location.\n",
    "So instead of just removing random parts of the code itself, we will manipulate the AST to preserve the correct syntax.\n",
    "\n",
    "How do we manipulate an AST produced by `ast.parse`? We can make use of the `ast.NodeTransformer`:"
   ]
  },
  {
   "cell_type": "code",
   "execution_count": 15,
   "metadata": {
    "pycharm": {
     "name": "#%%\n"
    }
   },
   "outputs": [],
   "source": [
    "class NodeReducer(ast.NodeTransformer):\n",
    "\n",
    "    def visit_If(self, node):\n",
    "        \"\"\"\n",
    "        Instead of the `if` node return just its condition\n",
    "        \"\"\"\n",
    "        # Apply other transformations to the children first\n",
    "        super().generic_visit(node)\n",
    "\n",
    "        # We create an expression around the node test\n",
    "        new_node = ast.Expr(node.test)\n",
    "        return new_node"
   ]
  },
  {
   "cell_type": "markdown",
   "metadata": {},
   "source": [
    "The `ast.NodeTransformer` again uses the visitor pattern to walk over all nodes.\n",
    "This time, however, we change the resulting AST. In our case, if we encounter an *if-statement* we only return the condition.   \n",
    "\n",
    "(Keep in mind, `NodeReducer` changes the ast in place, so if you want to preserve the original tree, you need to copy it with `copy.deepcopy(tree)`)"
   ]
  },
  {
   "cell_type": "code",
   "execution_count": 16,
   "metadata": {
    "pycharm": {
     "name": "#%%\n"
    }
   },
   "outputs": [
    {
     "data": {
      "image/svg+xml": [
       "<svg xmlns=\"http://www.w3.org/2000/svg\" xmlns:xlink=\"http://www.w3.org/1999/xlink\" width=\"447pt\" height=\"332pt\" viewBox=\"0.00 0.00 446.50 332.00\">\n",
       "<g id=\"graph0\" class=\"graph\" transform=\"scale(1 1) rotate(0) translate(4 328)\">\n",
       "<title>%3</title>\n",
       "<polygon fill=\"white\" stroke=\"transparent\" points=\"-4,4 -4,-328 442.5,-328 442.5,4 -4,4\"/>\n",
       "<!-- 0 -->\n",
       "<g id=\"node1\" class=\"node\">\n",
       "<title>0</title>\n",
       "<text text-anchor=\"start\" x=\"134.5\" y=\"-303.3\" font-family=\"Courier,monospace\" font-weight=\"bold\" font-size=\"14.00\" fill=\"#004080\">FunctionDef</text>\n",
       "</g>\n",
       "<!-- 1 -->\n",
       "<g id=\"node2\" class=\"node\">\n",
       "<title>1</title>\n",
       "<text text-anchor=\"middle\" x=\"29\" y=\"-230.3\" font-family=\"Courier,monospace\" font-size=\"14.00\" fill=\"#008040\">&quot;foo&quot;</text>\n",
       "</g>\n",
       "<!-- 0&#45;&#45;1 -->\n",
       "<g id=\"edge1\" class=\"edge\">\n",
       "<title>0--1</title>\n",
       "<path fill=\"none\" stroke=\"black\" d=\"M180,-287C180,-287 116.2,-270.55 67,-252 64.16,-250.93 61.23,-249.75 58.31,-248.53\"/>\n",
       "</g>\n",
       "<!-- 2 -->\n",
       "<g id=\"node3\" class=\"node\">\n",
       "<title>2</title>\n",
       "<text text-anchor=\"start\" x=\"84.5\" y=\"-231.3\" font-family=\"Courier,monospace\" font-weight=\"bold\" font-size=\"14.00\" fill=\"#004080\">arguments</text>\n",
       "</g>\n",
       "<!-- 0&#45;&#45;2 -->\n",
       "<g id=\"edge2\" class=\"edge\">\n",
       "<title>0--2</title>\n",
       "<path fill=\"none\" stroke=\"black\" d=\"M180,-287C180,-287 157.91,-267.19 140.99,-252.03\"/>\n",
       "</g>\n",
       "<!-- 7 -->\n",
       "<g id=\"node8\" class=\"node\">\n",
       "<title>7</title>\n",
       "<text text-anchor=\"start\" x=\"222\" y=\"-231.3\" font-family=\"Courier,monospace\" font-weight=\"bold\" font-size=\"14.00\" fill=\"#004080\">Expr</text>\n",
       "</g>\n",
       "<!-- 0&#45;&#45;7 -->\n",
       "<g id=\"edge7\" class=\"edge\">\n",
       "<title>0--7</title>\n",
       "<path fill=\"none\" stroke=\"black\" d=\"M180,-287C180,-287 202.47,-267.19 219.68,-252.03\"/>\n",
       "</g>\n",
       "<!-- 16 -->\n",
       "<g id=\"node17\" class=\"node\">\n",
       "<title>16</title>\n",
       "<text text-anchor=\"start\" x=\"325\" y=\"-231.3\" font-family=\"Courier,monospace\" font-weight=\"bold\" font-size=\"14.00\" fill=\"#004080\">Return</text>\n",
       "</g>\n",
       "<!-- 0&#45;&#45;16 -->\n",
       "<g id=\"edge16\" class=\"edge\">\n",
       "<title>0--16</title>\n",
       "<path fill=\"none\" stroke=\"black\" d=\"M180,-287C180,-287 267.35,-260.28 316.82,-245.15\"/>\n",
       "</g>\n",
       "<!-- 3 -->\n",
       "<g id=\"node4\" class=\"node\">\n",
       "<title>3</title>\n",
       "<text text-anchor=\"start\" x=\"31.5\" y=\"-159.3\" font-family=\"Courier,monospace\" font-weight=\"bold\" font-size=\"14.00\" fill=\"#004080\">arg</text>\n",
       "</g>\n",
       "<!-- 2&#45;&#45;3 -->\n",
       "<g id=\"edge3\" class=\"edge\">\n",
       "<title>2--3</title>\n",
       "<path fill=\"none\" stroke=\"black\" d=\"M113,-215C113,-215 86.72,-195.19 66.59,-180.03\"/>\n",
       "</g>\n",
       "<!-- 5 -->\n",
       "<g id=\"node6\" class=\"node\">\n",
       "<title>5</title>\n",
       "<text text-anchor=\"start\" x=\"103.5\" y=\"-159.3\" font-family=\"Courier,monospace\" font-weight=\"bold\" font-size=\"14.00\" fill=\"#004080\">arg</text>\n",
       "</g>\n",
       "<!-- 2&#45;&#45;5 -->\n",
       "<g id=\"edge5\" class=\"edge\">\n",
       "<title>2--5</title>\n",
       "<path fill=\"none\" stroke=\"black\" d=\"M113,-215C113,-215 114.14,-195.19 115.02,-180.03\"/>\n",
       "</g>\n",
       "<!-- 4 -->\n",
       "<g id=\"node5\" class=\"node\">\n",
       "<title>4</title>\n",
       "<text text-anchor=\"middle\" x=\"41\" y=\"-86.3\" font-family=\"Courier,monospace\" font-size=\"14.00\" fill=\"#008040\">&quot;a&quot;</text>\n",
       "</g>\n",
       "<!-- 3&#45;&#45;4 -->\n",
       "<g id=\"edge4\" class=\"edge\">\n",
       "<title>3--4</title>\n",
       "<path fill=\"none\" stroke=\"black\" d=\"M43.26,-143.7C42.79,-132.85 42.2,-118.92 41.73,-108.1\"/>\n",
       "</g>\n",
       "<!-- 6 -->\n",
       "<g id=\"node7\" class=\"node\">\n",
       "<title>6</title>\n",
       "<text text-anchor=\"middle\" x=\"113\" y=\"-86.3\" font-family=\"Courier,monospace\" font-size=\"14.00\" fill=\"#008040\">&quot;b&quot;</text>\n",
       "</g>\n",
       "<!-- 5&#45;&#45;6 -->\n",
       "<g id=\"edge6\" class=\"edge\">\n",
       "<title>5--6</title>\n",
       "<path fill=\"none\" stroke=\"black\" d=\"M115.26,-143.7C114.79,-132.85 114.2,-118.92 113.73,-108.1\"/>\n",
       "</g>\n",
       "<!-- 8 -->\n",
       "<g id=\"node9\" class=\"node\">\n",
       "<title>8</title>\n",
       "<text text-anchor=\"start\" x=\"227\" y=\"-159.3\" font-family=\"Courier,monospace\" font-weight=\"bold\" font-size=\"14.00\" fill=\"#004080\">BoolOp</text>\n",
       "</g>\n",
       "<!-- 7&#45;&#45;8 -->\n",
       "<g id=\"edge8\" class=\"edge\">\n",
       "<title>7--8</title>\n",
       "<path fill=\"none\" stroke=\"black\" d=\"M242.21,-215.7C244.23,-204.85 246.82,-190.92 248.82,-180.1\"/>\n",
       "</g>\n",
       "<!-- 9 -->\n",
       "<g id=\"node10\" class=\"node\">\n",
       "<title>9</title>\n",
       "<text text-anchor=\"middle\" x=\"185\" y=\"-86.3\" font-family=\"Courier,monospace\" font-size=\"14.00\" fill=\"#008040\">And</text>\n",
       "</g>\n",
       "<!-- 8&#45;&#45;9 -->\n",
       "<g id=\"edge9\" class=\"edge\">\n",
       "<title>8--9</title>\n",
       "<path fill=\"none\" stroke=\"black\" d=\"M253,-143C253,-143 227.1,-123.19 207.27,-108.03\"/>\n",
       "</g>\n",
       "<!-- 10 -->\n",
       "<g id=\"node11\" class=\"node\">\n",
       "<title>10</title>\n",
       "<text text-anchor=\"start\" x=\"240\" y=\"-87.3\" font-family=\"Courier,monospace\" font-weight=\"bold\" font-size=\"14.00\" fill=\"#004080\">Name</text>\n",
       "</g>\n",
       "<!-- 8&#45;&#45;10 -->\n",
       "<g id=\"edge10\" class=\"edge\">\n",
       "<title>8--10</title>\n",
       "<path fill=\"none\" stroke=\"black\" d=\"M253,-143C253,-143 254.52,-123.19 255.69,-108.03\"/>\n",
       "</g>\n",
       "<!-- 13 -->\n",
       "<g id=\"node14\" class=\"node\">\n",
       "<title>13</title>\n",
       "<text text-anchor=\"start\" x=\"312\" y=\"-87.3\" font-family=\"Courier,monospace\" font-weight=\"bold\" font-size=\"14.00\" fill=\"#004080\">Name</text>\n",
       "</g>\n",
       "<!-- 8&#45;&#45;13 -->\n",
       "<g id=\"edge13\" class=\"edge\">\n",
       "<title>8--13</title>\n",
       "<path fill=\"none\" stroke=\"black\" d=\"M253,-143C253,-143 281.95,-123.19 304.11,-108.03\"/>\n",
       "</g>\n",
       "<!-- 11 -->\n",
       "<g id=\"node12\" class=\"node\">\n",
       "<title>11</title>\n",
       "<text text-anchor=\"middle\" x=\"185\" y=\"-14.3\" font-family=\"Courier,monospace\" font-size=\"14.00\" fill=\"#008040\">&quot;a&quot;</text>\n",
       "</g>\n",
       "<!-- 10&#45;&#45;11 -->\n",
       "<g id=\"edge11\" class=\"edge\">\n",
       "<title>10--11</title>\n",
       "<path fill=\"none\" stroke=\"black\" d=\"M249,-71C249,-71 224.62,-51.19 205.96,-36.03\"/>\n",
       "</g>\n",
       "<!-- 12 -->\n",
       "<g id=\"node13\" class=\"node\">\n",
       "<title>12</title>\n",
       "<text text-anchor=\"middle\" x=\"257\" y=\"-14.3\" font-family=\"Courier,monospace\" font-size=\"14.00\" fill=\"#008040\">Load</text>\n",
       "</g>\n",
       "<!-- 10&#45;&#45;12 -->\n",
       "<g id=\"edge12\" class=\"edge\">\n",
       "<title>10--12</title>\n",
       "<path fill=\"none\" stroke=\"black\" d=\"M249,-71C249,-71 252.05,-51.19 254.38,-36.03\"/>\n",
       "</g>\n",
       "<!-- 14 -->\n",
       "<g id=\"node15\" class=\"node\">\n",
       "<title>14</title>\n",
       "<text text-anchor=\"middle\" x=\"329\" y=\"-14.3\" font-family=\"Courier,monospace\" font-size=\"14.00\" fill=\"#008040\">&quot;b&quot;</text>\n",
       "</g>\n",
       "<!-- 13&#45;&#45;14 -->\n",
       "<g id=\"edge14\" class=\"edge\">\n",
       "<title>13--14</title>\n",
       "<path fill=\"none\" stroke=\"black\" d=\"M337,-71C337,-71 333.95,-51.19 331.62,-36.03\"/>\n",
       "</g>\n",
       "<!-- 15 -->\n",
       "<g id=\"node16\" class=\"node\">\n",
       "<title>15</title>\n",
       "<text text-anchor=\"middle\" x=\"401\" y=\"-14.3\" font-family=\"Courier,monospace\" font-size=\"14.00\" fill=\"#008040\">Load</text>\n",
       "</g>\n",
       "<!-- 13&#45;&#45;15 -->\n",
       "<g id=\"edge15\" class=\"edge\">\n",
       "<title>13--15</title>\n",
       "<path fill=\"none\" stroke=\"black\" d=\"M337,-71C337,-71 361.38,-51.19 380.04,-36.03\"/>\n",
       "</g>\n",
       "<!-- 17 -->\n",
       "<g id=\"node18\" class=\"node\">\n",
       "<title>17</title>\n",
       "<text text-anchor=\"start\" x=\"363.5\" y=\"-159.3\" font-family=\"Courier,monospace\" font-weight=\"bold\" font-size=\"14.00\" fill=\"#004080\">Constant</text>\n",
       "</g>\n",
       "<!-- 16&#45;&#45;17 -->\n",
       "<g id=\"edge17\" class=\"edge\">\n",
       "<title>16--17</title>\n",
       "<path fill=\"none\" stroke=\"black\" d=\"M361.62,-215.7C368.9,-204.85 378.26,-190.92 385.52,-180.1\"/>\n",
       "</g>\n",
       "<!-- 18 -->\n",
       "<g id=\"node19\" class=\"node\">\n",
       "<title>18</title>\n",
       "<text text-anchor=\"middle\" x=\"401\" y=\"-86.3\" font-family=\"Courier,monospace\" font-size=\"14.00\" fill=\"#008040\">0</text>\n",
       "</g>\n",
       "<!-- 17&#45;&#45;18 -->\n",
       "<g id=\"edge18\" class=\"edge\">\n",
       "<title>17--18</title>\n",
       "<path fill=\"none\" stroke=\"black\" d=\"M397.99,-143.7C398.61,-132.85 399.4,-118.92 400.02,-108.1\"/>\n",
       "</g>\n",
       "</g>\n",
       "</svg>"
      ],
      "text/plain": [
       "<IPython.core.display.SVG object>"
      ]
     },
     "metadata": {},
     "output_type": "display_data"
    }
   ],
   "source": [
    "NodeReducer().visit(source_ast)\n",
    "show_ast(source_ast)"
   ]
  },
  {
   "cell_type": "markdown",
   "metadata": {},
   "source": [
    "As you can see, after running the `NodeReducer` there is no longer an *if-statement*, but only its condition.\n",
    "A more sophisticated NodeReducer is presented in the [Reducing Failure-Inducing Inputs chapter](https://www.debuggingbook.org/beta/html/DeltaDebugger.html) in the debugging book."
   ]
  },
  {
   "cell_type": "markdown",
   "metadata": {},
   "source": [
    "To learn the structure of an AST, have a look at the [official Python `ast` reference](http://docs.python.org/3/library/ast) for a list of AST nodes and their attributes. This reference is complete, but a bit terse; the [\"Green Tree Snakes missing Python AST docs\"](https://greentreesnakes.readthedocs.io/en/latest/manipulating.html) provide a good manual on how to modify the tree."
   ]
  },
  {
   "cell_type": "markdown",
   "metadata": {},
   "source": [
    "**Pro tip**: You can learn the expected structure of any Python fragment by invoking `ast.dump()` on any (parsed) AST."
   ]
  },
  {
   "cell_type": "code",
   "execution_count": 17,
   "metadata": {
    "pycharm": {
     "name": "#%%\n"
    }
   },
   "outputs": [],
   "source": [
    "demo_ast = ast.parse('''\n",
    "if a == b:\n",
    "    c = d\n",
    "''')"
   ]
  },
  {
   "cell_type": "code",
   "execution_count": 18,
   "metadata": {
    "pycharm": {
     "name": "#%%\n"
    }
   },
   "outputs": [
    {
     "data": {
      "text/plain": [
       "\"Module(body=[If(test=Compare(left=Name(id='a', ctx=Load()), ops=[Eq()], comparators=[Name(id='b', ctx=Load())]), body=[Assign(targets=[Name(id='c', ctx=Store())], value=Name(id='d', ctx=Load()), type_comment=None)], orelse=[])], type_ignores=[])\""
      ]
     },
     "execution_count": 18,
     "metadata": {},
     "output_type": "execute_result"
    }
   ],
   "source": [
    "ast.dump(demo_ast)"
   ]
  },
  {
   "cell_type": "markdown",
   "metadata": {},
   "source": [
    "The nice thing is that this not only reveals the AST structure, it also tells you how to construct it. If you take the very structure as produced by `ast.dump()` and evaluate it, you obtain the same syntax tree."
   ]
  },
  {
   "cell_type": "code",
   "execution_count": 19,
   "metadata": {
    "pycharm": {
     "name": "#%%\n"
    }
   },
   "outputs": [],
   "source": [
    "from ast import Module, If, Compare, Load, Eq, Assign, Name, Store"
   ]
  },
  {
   "cell_type": "code",
   "execution_count": 20,
   "metadata": {
    "pycharm": {
     "name": "#%%\n"
    }
   },
   "outputs": [],
   "source": [
    "ast_from_scratch = Module(body=[If(test=Compare(left=Name(id='a', ctx=Load()), ops=[Eq()], comparators=[Name(id='b', ctx=Load())]), body=[Assign(targets=[Name(id='c', ctx=Store())], value=Name(id='d', ctx=Load()))], orelse=[])])"
   ]
  },
  {
   "cell_type": "code",
   "execution_count": 21,
   "metadata": {
    "pycharm": {
     "name": "#%%\n"
    }
   },
   "outputs": [
    {
     "name": "stdout",
     "output_type": "stream",
     "text": [
      "if a == b:\n",
      "    c = d\n",
      "\n"
     ]
    }
   ],
   "source": [
    "print(astor.to_source(ast_from_scratch))"
   ]
  },
  {
   "cell_type": "markdown",
   "metadata": {},
   "source": [
    "Hence, if you do not know what kind of AST fragment to produce, just parse its text with ``ast.parse()`` and study the expression produced by `ast.dump()`."
   ]
  },
  {
   "cell_type": "markdown",
   "metadata": {},
   "source": [
    "### Implementing a Debugging Reducer\n",
    "\n",
    "Having seen how one can access and transform AST structures using a `NodeReducer` in Python, we can now use that knowledge to implement a `DebuggingReducer`\n",
    "capable of reducing the failure inducing Python code down to only that parts of the code that actually triggers the failure."
   ]
  },
  {
   "cell_type": "code",
   "execution_count": 22,
   "metadata": {
    "pycharm": {
     "name": "#%%\n"
    }
   },
   "outputs": [],
   "source": [
    "class ReducingDebugger:\n",
    "\n",
    "    def __init__(self, parser):\n",
    "        \"\"\"\n",
    "        We initialize the DebuggingReducer with a parser, as this is needed to verify whether the failure is still triggered after the code transformation\n",
    "        \"\"\"\n",
    "        self.parser = parser\n",
    "        self.node_reducer = NodeReducer()\n",
    "\n",
    "    def minimize(self, code):\n",
    "        \"\"\"\n",
    "        This function takes some Python code as string, reduces it using the NodeReducer defined earlier and returns the reduced program.\n",
    "        \"\"\"\n",
    "        # Parse the code to a tree\n",
    "        code_ast = ast.parse(source=code)\n",
    "\n",
    "        # Use the visit-method of the NodeReducer to reduce if nodes down to their condition\n",
    "        new_code_ast = self.node_reducer.visit(code_ast)\n",
    "\n",
    "        # After we've updated nodes, we need to fix the tree\n",
    "        ast.fix_missing_locations(new_code_ast)\n",
    "\n",
    "        # Generate code from the reduced tree\n",
    "        new_code = astor.to_source(new_code_ast)\n",
    "\n",
    "        # Test, whether the error is still triggered by the reduced code\n",
    "        try:\n",
    "            self.parser.parse(new_code)\n",
    "            # No exception is thrown. This means the new_code does not \n",
    "            # trigger an error anymore. Therefore, we failed in\n",
    "            # reduction and return the initial code.\n",
    "            return code\n",
    "        except ParserException:\n",
    "            # The error is still triggered. Return the reduced code\n",
    "            return new_code"
   ]
  },
  {
   "cell_type": "markdown",
   "metadata": {},
   "source": [
    "The `ReducingDebugger` implemented above takes some Python code as an input and replaces all if-statements with their conditions.\n",
    "Then, it checks whether the newly generated code still triggers the error. If not, it returns the initial code. If the exception is still triggered, it returns the reduced code.\n",
    "Let's apply it to the source code of our `foo` function:"
   ]
  },
  {
   "cell_type": "code",
   "execution_count": 23,
   "metadata": {
    "pycharm": {
     "name": "#%%\n"
    }
   },
   "outputs": [
    {
     "name": "stdout",
     "output_type": "stream",
     "text": [
      "<_ast.FunctionDef object at 0x7f2014397130>\n",
      "<_ast.arguments object at 0x7f2014397be0>\n",
      "<_ast.arg object at 0x7f20143973a0>\n",
      "<_ast.arg object at 0x7f2014397af0>\n"
     ]
    }
   ],
   "source": [
    "reducing_debugger = ReducingDebugger(SimpleParserPlus())\n",
    "new_source = reducing_debugger.minimize(source)"
   ]
  },
  {
   "cell_type": "code",
   "execution_count": 24,
   "metadata": {
    "pycharm": {
     "name": "#%%\n"
    }
   },
   "outputs": [
    {
     "name": "stdout",
     "output_type": "stream",
     "text": [
      "def foo(a, b):\n",
      "    \"\"\"\n",
      "    Checks whether a and b are true\n",
      "    \"\"\"\n",
      "    a and b\n",
      "    return 0\n",
      "\n"
     ]
    }
   ],
   "source": [
    "print(new_source)"
   ]
  },
  {
   "cell_type": "code",
   "execution_count": 25,
   "metadata": {
    "pycharm": {
     "name": "#%%\n"
    }
   },
   "outputs": [
    {
     "name": "stdout",
     "output_type": "stream",
     "text": [
      "<_ast.FunctionDef object at 0x7f20143974c0>\n",
      "<_ast.arguments object at 0x7f2014397610>\n",
      "<_ast.arg object at 0x7f20143976a0>\n",
      "<_ast.arg object at 0x7f20143972b0>\n"
     ]
    },
    {
     "name": "stderr",
     "output_type": "stream",
     "text": [
      "Traceback (most recent call last):\n",
      "  File \"<ipython-input-25-48c47316858f>\", line 2, in <module>\n",
      "    SimpleParserPlus().parse(new_source)\n",
      "  File \"<ipython-input-10-70f9f47463b8>\", line 12, in parse\n",
      "    self.visit(tree)\n",
      "  File \"/home/milan/anaconda3/lib/python3.8/ast.py\", line 363, in visit\n",
      "    return visitor(node)\n",
      "  File \"/home/milan/anaconda3/lib/python3.8/ast.py\", line 371, in generic_visit\n",
      "    self.visit(item)\n",
      "  File \"/home/milan/anaconda3/lib/python3.8/ast.py\", line 363, in visit\n",
      "    return visitor(node)\n",
      "  File \"<ipython-input-10-70f9f47463b8>\", line 16, in visit_FunctionDef\n",
      "    self.generic_visit(node)\n",
      "  File \"/home/milan/anaconda3/lib/python3.8/ast.py\", line 371, in generic_visit\n",
      "    self.visit(item)\n",
      "  File \"/home/milan/anaconda3/lib/python3.8/ast.py\", line 363, in visit\n",
      "    return visitor(node)\n",
      "  File \"/home/milan/anaconda3/lib/python3.8/ast.py\", line 373, in generic_visit\n",
      "    self.visit(value)\n",
      "  File \"/home/milan/anaconda3/lib/python3.8/ast.py\", line 363, in visit\n",
      "    return visitor(node)\n",
      "  File \"<ipython-input-13-336a87e01254>\", line 10, in visit_BoolOp\n",
      "    raise ParserException(\"Something went wrong\")\n",
      "ParserException: Something went wrong (expected)\n"
     ]
    }
   ],
   "source": [
    "with ExpectError():\n",
    "    SimpleParserPlus().parse(new_source)"
   ]
  },
  {
   "cell_type": "markdown",
   "metadata": {},
   "source": [
    "As we can see, our `DebuggingReducer` reduces the original function to a smaller input, while still preserving the property of the code that triggers the same error as before.\n",
    "However, this reducer is very simple: it applies only one transformation to all `if` nodes at once.\n",
    "Instead, one can consider various transformations of the same node as well as transformations of various node types and apply them one by one (or in batches) to gradually reduce the code.\n",
    "\n",
    "\n",
    "Keep in mind, that the changes should be made in a way that the code is still accepted by a regular Python interpreter.\n",
    "Besides, the goal is to obtain a minimal program that still triggers the error.\n",
    "So, your debugging reducer should not simply reduce all possible nodes, but also regularly check whether the reduced code still triggers the failure.\n",
    "\n",
    "Therefore, you are required to implement certain modifications that can be done to the AST. In general, these transformations can be one of the following:   \n",
    "\n",
    "1. Delete a node,\n",
    "2. Substitute a node with the new node (e.g., _pass_ node),\n",
    "3. Substitute a node with all of its children,\n",
    "4. Substitute a node with one of its children.\n",
    "\n",
    "More detailed, one can consider, for instance:\n",
    "\n",
    "1. Replacing a `BoolOp` node by `True`.\n",
    "2. Replacing a `BoolOp` node by `False`.\n",
    "3. Replacing a `BoolOp` node by its left operand.\n",
    "4. Replacing a `BoolOp` node by its right operand.\n",
    "5. Replacing an `If` node by its \"then\" body.\n",
    "6. Replacing an `If` node by its condition.\n",
    "7. Replacing an `If` node by its \"else\" body.\n",
    "8. Replacing all instances of a variable by a constant.\n",
    "9. Replacing expressions by a constant.\n",
    "10. etc.\n",
    "\n",
    "Please, refer to the [official Python `ast` reference](http://docs.python.org/3/library/ast) for a full list of node types."
   ]
  },
  {
   "cell_type": "markdown",
   "metadata": {},
   "source": [
    "## Implementation\n",
    "\n",
    "To succeed in this project, you need to complete the `MyReducer` class."
   ]
  },
  {
   "cell_type": "code",
   "execution_count": 26,
   "metadata": {
    "pycharm": {
     "name": "#%%\n"
    }
   },
   "outputs": [],
   "source": [
    "import Tracer\n",
    "#from DeltaDebugger import DeltaDebugger\n",
    "from bookutils import show_ast\n",
    "from bookutils import print_content\n",
    "from types import FunctionType\n"
   ]
  },
  {
   "cell_type": "code",
   "execution_count": 27,
   "metadata": {
    "pycharm": {
     "name": "#%%\n"
    }
   },
   "outputs": [],
   "source": [
    "import ast\n",
    "import astor\n",
    "import sys\n",
    "from ast import NodeTransformer, NodeVisitor\n",
    "import inspect\n",
    "import copy\n",
    "import Assertions\n",
    "from Timer import Timer"
   ]
  },
  {
   "cell_type": "code",
   "execution_count": 28,
   "metadata": {
    "pycharm": {
     "name": "#%%\n"
    }
   },
   "outputs": [],
   "source": [
    "PASS = 'PASS'\n",
    "FAIL = 'FAIL'\n",
    "UNRESOLVED = 'UNRESOLVED'"
   ]
  },
  {
   "cell_type": "code",
   "execution_count": 29,
   "metadata": {
    "pycharm": {
     "name": "#%%\n"
    }
   },
   "outputs": [],
   "source": [
    "class CallCollector(object):\n",
    "    \"\"\"Collect an exception-raising function call f().\n",
    "    Use as `with CallCollector(): f()`\"\"\"\n",
    "\n",
    "    def __init__(self):\n",
    "        \"\"\"Initialize collector\"\"\"\n",
    "        self.init()\n",
    "\n",
    "    def init(self):\n",
    "        \"\"\"Reset for new collection.\"\"\"\n",
    "        self._function = None\n",
    "        self._args = {}\n",
    "        self._exception = None\n",
    "\n",
    "    def call(self, new_args={}):\n",
    "        \"\"\"Call collected function. If new_args is given,\n",
    "        override arguments from its {var: value} entries.\"\"\"\n",
    "        args = {}  # Create local copy\n",
    "        for var in self.args():\n",
    "            args[var] = self.args()[var]\n",
    "        for var in new_args:\n",
    "            args[var] = new_args[var]\n",
    "\n",
    "        return self.function()(**args)\n",
    "\n",
    "    def traceit(self, frame, event, arg):\n",
    "        \"\"\"Tracing function. Collect first call, then turn tracing off.\"\"\"\n",
    "        if event == 'call':\n",
    "            name = frame.f_code.co_name\n",
    "            if name.startswith('__'):\n",
    "                # Internal function\n",
    "                return\n",
    "            if self._function is not None:\n",
    "                # Already set\n",
    "                return\n",
    "\n",
    "            if name in frame.f_globals:\n",
    "                # Access exactly this function\n",
    "                self._function = frame.f_globals[name]\n",
    "            elif name in frame.f_locals:\n",
    "                self._function = frame.f_locals[name]\n",
    "            else:\n",
    "                # Create new function from given code\n",
    "                self._function = FunctionType(frame.f_code,\n",
    "                                              globals=frame.f_globals,\n",
    "                                              name=name)\n",
    "\n",
    "            self._args = {}  # Create a local copy of args\n",
    "            for var in frame.f_locals:\n",
    "                self._args[var] = frame.f_locals[var]\n",
    "\n",
    "            # Turn tracing off\n",
    "            sys.settrace(self.original_trace_function)\n",
    "\n",
    "    def after_collection(self):\n",
    "        \"\"\"Called after collection. To be defined in subclasses.\"\"\"\n",
    "        pass\n",
    "\n",
    "    def args(self):\n",
    "        \"\"\"Return the dictionary of collected arguments.\"\"\"\n",
    "        return self._args\n",
    "\n",
    "    def function(self):\n",
    "        \"\"\"Return the function called.\"\"\"\n",
    "        return self._function\n",
    "\n",
    "    def exception(self):\n",
    "        \"\"\"Return the exception produced.\"\"\"\n",
    "        return self._exception\n",
    "\n",
    "    def format_call(self, args=None):\n",
    "        \"\"\"Return a string representing a call of the function with given args.\"\"\"\n",
    "        if args is None:\n",
    "            args = self.args()\n",
    "        return self.function().__name__ + \"(\" + \\\n",
    "            \", \".join(f\"{arg}={repr(args[arg])}\" for arg in args) + \")\"\n",
    "\n",
    "    def format_exception(self, exc=None):\n",
    "        \"\"\"Return a string representing the given exception.\"\"\"\n",
    "        if exc is None:\n",
    "            exc = self.exception()\n",
    "        s = type(exc).__name__\n",
    "        if str(exc):\n",
    "            s += \": \" + str(exc)\n",
    "        return s\n",
    "\n",
    "    def __enter__(self):\n",
    "        \"\"\"Called at begin of `with` block. Turn tracing on.\"\"\"\n",
    "        self.init()\n",
    "        self.original_trace_function = sys.gettrace()\n",
    "        sys.settrace(self.traceit)\n",
    "        return self\n",
    "\n",
    "    def __exit__(self, exc_type, exc_value, traceback):\n",
    "        \"\"\"Called at end of `with` block. Turn tracing off.\"\"\"\n",
    "        sys.settrace(self.original_trace_function)\n",
    "        if self._function is None:\n",
    "            return False  # Re-raise exception, if any\n",
    "\n",
    "        self._exception = exc_value\n",
    "        self.after_collection()\n",
    "        return True  # Ignore exception"
   ]
  },
  {
   "cell_type": "code",
   "execution_count": 30,
   "metadata": {
    "pycharm": {
     "name": "#%%\n"
    }
   },
   "outputs": [],
   "source": [
    "class CallReducer(CallCollector):\n",
    "    def __init__(self, log=False):\n",
    "        \"\"\"Initialize. If log is True, enable logging.\"\"\"\n",
    "        super().__init__()\n",
    "        self.log = log\n",
    "        self.reset()\n",
    "\n",
    "    def reset(self):\n",
    "        \"\"\"Reset the number of tests.\"\"\"\n",
    "        self.tests = 0\n",
    "\n",
    "    def run(self, args):\n",
    "        \"\"\"Run collected function with args. Return\n",
    "        * PASS if no exception occurred\n",
    "        * FAIL if the collected exception occurred\n",
    "        * UNRESOLVED if some other exception occurred.\n",
    "        Not to be used directly; can be overloaded in subclasses.\n",
    "        \"\"\"\n",
    "        try:\n",
    "            result = self.call(args)\n",
    "        except Exception as exc:\n",
    "            self.last_exception = exc\n",
    "            if (type(exc) == type(self.exception()) and\n",
    "                    str(exc) == str(self.exception())):\n",
    "                return FAIL\n",
    "            else:\n",
    "                return UNRESOLVED  # Some other failure\n",
    "\n",
    "        self.last_result = result\n",
    "        return PASS\n",
    "\n",
    "    def test(self, args):\n",
    "        \"\"\"Like run(), but also log detail and keep statistics.\"\"\"\n",
    "        outcome = self.run(args)\n",
    "        if outcome == PASS:\n",
    "            detail = \"\"\n",
    "        else:\n",
    "            detail = f\" ({self.format_exception(self.last_exception)})\"\n",
    "\n",
    "        self.tests += 1\n",
    "        if self.log:\n",
    "            print(f\"Test #{self.tests} {self.format_call(args)}: {outcome}{detail}\")\n",
    "\n",
    "        return outcome\n",
    "\n",
    "    def reduce_arg(self, var_to_be_reduced, args):\n",
    "        \"\"\"Determine and return a minimal value for var_to_be_reduced.\n",
    "        To be overloaded in subclasses.\"\"\"\n",
    "        return args[var_to_be_reduced]"
   ]
  },
  {
   "cell_type": "code",
   "execution_count": 31,
   "metadata": {
    "pycharm": {
     "name": "#%%\n"
    }
   },
   "outputs": [],
   "source": [
    "class CachingCallReducer(CallReducer):\n",
    "    \"\"\"Like CallReducer, but cache test outcomes.\"\"\"\n",
    "\n",
    "    def init(self):\n",
    "        super().init()\n",
    "        self._cache = {}\n",
    "\n",
    "    def test(self, args):\n",
    "        # Create a hashable index\n",
    "        try:\n",
    "            index = frozenset((k, v) for k, v in args.items())\n",
    "        except TypeError:\n",
    "            index = None\n",
    "\n",
    "        if index is None:\n",
    "            # Non-hashable value – do not use cache\n",
    "            return super().test(args)\n",
    "\n",
    "        if index in self._cache:\n",
    "            return self._cache[index]\n",
    "\n",
    "        outcome = super().test(args)\n",
    "        self._cache[index] = outcome\n",
    "\n",
    "        return outcome"
   ]
  },
  {
   "cell_type": "code",
   "execution_count": 32,
   "metadata": {
    "pycharm": {
     "name": "#%%\n"
    }
   },
   "outputs": [],
   "source": [
    "def to_set(inp):\n",
    "    \"\"\"Convert inp into a set of indices\"\"\"\n",
    "    return set(range(len(inp)))\n"
   ]
  },
  {
   "cell_type": "code",
   "execution_count": 33,
   "metadata": {
    "pycharm": {
     "name": "#%%\n"
    }
   },
   "outputs": [],
   "source": [
    "def empty(inp):\n",
    "    \"\"\"Return an \"empty\" element of the same type as inp\"\"\"\n",
    "    return type(inp)()\n"
   ]
  },
  {
   "cell_type": "code",
   "execution_count": 34,
   "metadata": {
    "pycharm": {
     "name": "#%%\n"
    }
   },
   "outputs": [],
   "source": [
    "def add_to(collection, elem):\n",
    "    \"\"\"Add element to collection; return new collection.\"\"\"\n",
    "    if isinstance(collection, str):\n",
    "        return collection + elem  # Strings\n",
    "\n",
    "    try:  # Lists and other collections\n",
    "        return collection + type(collection)([elem])\n",
    "    except TypeError:\n",
    "        pass\n",
    "\n",
    "    try:  # Sets\n",
    "        return collection | type(collection)([elem])\n",
    "    except TypeError:\n",
    "        pass\n",
    "\n",
    "    raise ValueError(\"Cannot add element to collection\")\n"
   ]
  },
  {
   "cell_type": "code",
   "execution_count": 35,
   "metadata": {
    "pycharm": {
     "name": "#%%\n"
    }
   },
   "outputs": [],
   "source": [
    "def from_set(the_set, inp):\n",
    "    \"\"\"Convert a set of indices into inp back into a collection.\"\"\"\n",
    "    ret = empty(inp)\n",
    "    for i, c in enumerate(inp):\n",
    "        if i in the_set:\n",
    "            ret = add_to(ret, c)\n",
    "    return ret\n"
   ]
  },
  {
   "cell_type": "code",
   "execution_count": 36,
   "metadata": {
    "pycharm": {
     "name": "#%%\n"
    }
   },
   "outputs": [],
   "source": [
    "def split(elems, n):\n",
    "    assert 1 <= n <= len(elems)\n",
    "\n",
    "    k, m = divmod(len(elems), n)\n",
    "    try:\n",
    "        subsets = list(elems[i * k + min(i, m):(i + 1) * k + min(i + 1, m)]\n",
    "                       for i in range(n))\n",
    "    except TypeError:\n",
    "        # Convert to list and back\n",
    "        subsets = list(type(elems)(\n",
    "                    list(elems)[i * k + min(i, m):(i + 1) * k + min(i + 1, m)])\n",
    "                       for i in range(n))\n",
    "\n",
    "    assert len(subsets) == n\n",
    "    assert sum(len(subset) for subset in subsets) == len(elems)\n",
    "    assert all(len(subset) > 0 for subset in subsets)\n",
    "\n",
    "    return subsets\n"
   ]
  },
  {
   "cell_type": "code",
   "execution_count": 37,
   "metadata": {
    "pycharm": {
     "name": "#%%\n"
    }
   },
   "outputs": [],
   "source": [
    "class FailureNotReproducedError(ValueError):\n",
    "    pass\n",
    "\n",
    "class NotFailingError(ValueError):\n",
    "    pass\n",
    "\n",
    "class NoCallError(ValueError):\n",
    "    pass"
   ]
  },
  {
   "cell_type": "code",
   "execution_count": 38,
   "metadata": {
    "pycharm": {
     "name": "#%%\n"
    }
   },
   "outputs": [],
   "source": [
    "class DeltaDebugger(CachingCallReducer):\n",
    "    def dd(self, var_to_be_reduced, fail_args, mode='-'):\n",
    "        \"\"\"General Delta Debugging.\n",
    "        fail_args - a dict of (failure-inducing) function arguments;\n",
    "        fail_args[var_to_be_reduced] - the input to apply dd on.\n",
    "        mode tells how the algorithm should operate:\n",
    "            '-': minimize input (ddmin),\n",
    "            '+': maximizing input (ddmax),\n",
    "            '+-': minimizing pass/fail difference (dd)\n",
    "        Returns a triple (pass, fail, diff) \n",
    "        with maximized passing input, minimized failing input,\n",
    "        and their difference (elems in fail, but not in pass).\n",
    "        \"\"\"\n",
    "        def test(c):\n",
    "            # Set up args\n",
    "            test_args = {}\n",
    "            for var in fail_args:\n",
    "                test_args[var] = fail_args[var]\n",
    "            test_args[var_to_be_reduced] = from_set(c, fail_inp)\n",
    "            return self.test(test_args)\n",
    "\n",
    "        def ret(c_pass, c_fail):\n",
    "            return (from_set(c_pass, fail_inp),\n",
    "                    from_set(c_fail, fail_inp),\n",
    "                    from_set(c_fail - c_pass, fail_inp))\n",
    "\n",
    "        n = 2  # Initial granularity\n",
    "\n",
    "        fail_inp = fail_args[var_to_be_reduced]\n",
    "\n",
    "        c_pass = to_set([])\n",
    "        c_fail = to_set(fail_inp)\n",
    "        offset = 0\n",
    "\n",
    "        minimize_fail = '-' in mode\n",
    "        maximize_pass = '+' in mode\n",
    "\n",
    "        while True:\n",
    "            if self.log > 1:\n",
    "                print(\"Passing input:\", repr(from_set(c_pass, fail_inp)))\n",
    "                print(\"Failing input:\", repr(from_set(c_fail, fail_inp)))\n",
    "\n",
    "            delta = c_fail - c_pass\n",
    "            if len(delta) < n:\n",
    "                return ret(c_pass, c_fail)\n",
    "\n",
    "            deltas = split(delta, n)\n",
    "\n",
    "            j = 0\n",
    "            while j < n:\n",
    "                i = (j + offset) % n\n",
    "                next_c_pass = c_pass | deltas[i]\n",
    "                next_c_fail = c_fail - deltas[i]\n",
    "\n",
    "                if minimize_fail and n == 2 and test(next_c_pass) == FAIL:\n",
    "                    if self.log > 1:\n",
    "                        print(\"Reduce to subset\")\n",
    "                    c_fail = next_c_pass\n",
    "                    # n = 2\n",
    "                    offset = 0\n",
    "                    break\n",
    "                elif maximize_pass and n == 2 and test(next_c_fail) == PASS:\n",
    "                    if self.log > 1:\n",
    "                        print(\"Increase to subset\")\n",
    "                    c_pass = next_c_fail\n",
    "                    # n = 2\n",
    "                    offset = 0\n",
    "                    break\n",
    "                elif minimize_fail and test(next_c_fail) == FAIL:\n",
    "                    if self.log > 1:\n",
    "                        print(\"Reduce to complement\")\n",
    "                    c_fail = next_c_fail\n",
    "                    n = max(n - 1, 2)\n",
    "                    offset = i\n",
    "                    break\n",
    "                elif maximize_pass and test(next_c_pass) == PASS:\n",
    "                    if self.log > 1:\n",
    "                        print(\"Increase to complement\")\n",
    "                    c_pass = next_c_pass\n",
    "                    n = max(n - 1, 2)\n",
    "                    offset = i\n",
    "                    break\n",
    "                else:\n",
    "                    j += 1  # choose next subset\n",
    "\n",
    "            if j >= n:  # no reduction found\n",
    "                if n >= len(delta):\n",
    "                    return ret(c_pass, c_fail)\n",
    "\n",
    "                n = min(n + 2, len(delta))\n",
    "\n",
    "    def reducible(self, arg):\n",
    "        # Return True if `arg` supports len() and indexing.\n",
    "        try:\n",
    "            _ = len(arg)\n",
    "        except TypeError:\n",
    "            return False\n",
    "\n",
    "        try:\n",
    "            _ = arg[0]\n",
    "        except TypeError:\n",
    "            return False\n",
    "        except IndexError:\n",
    "            return False\n",
    "\n",
    "        return True\n",
    "    \n",
    "    def check_reproducibility(self):\n",
    "            # Check whether running the function again fails\n",
    "            assert self.function(), \\\n",
    "                \"No call collected. Use `with dd: func()` first.\"\n",
    "            assert self.args(), \\\n",
    "                \"No arguments collected. Use `with dd: func(args)` first.\"\n",
    "\n",
    "            self.reset()\n",
    "            outcome = self.test(self.args())\n",
    "            if outcome == UNRESOLVED:\n",
    "                raise FailureNotReproducedError(\n",
    "                    \"When called again, \" +\n",
    "                    self.format_call(self.args()) +\n",
    "                    \" raised \" +\n",
    "                    self.format_exception(self.last_exception) +\n",
    "                    \" instead of \" +\n",
    "                    self.format_exception(self.exception()))\n",
    "\n",
    "            if outcome == PASS:\n",
    "                raise NotFailingError(\"When called again, \" +\n",
    "                                      self.format_call(self.args()) +\n",
    "                                      \" did not fail\")\n",
    "            assert outcome == FAIL\n",
    "\n",
    "    def process_args(self, strategy, **strategy_args):\n",
    "        \"\"\"Reduce all reducible arguments, using strategy(var, args).\n",
    "        Can be overloaded in subclasses.\"\"\"\n",
    "\n",
    "        pass_args = {}  # Local copy\n",
    "        fail_args = {}  # Local copy\n",
    "        diff_args = {}\n",
    "        for var in self.args():\n",
    "            fail_args[var] = self.args()[var]\n",
    "            diff_args[var] = self.args()[var]\n",
    "            pass_args[var] = self.args()[var]\n",
    "\n",
    "            if self.reducible(pass_args[var]):\n",
    "                pass_args[var] = empty(pass_args[var])\n",
    "\n",
    "        vars_to_be_processed = set(fail_args.keys())\n",
    "\n",
    "        pass_processed = 0\n",
    "        fail_processed = 0\n",
    "\n",
    "        self.check_reproducibility()\n",
    "\n",
    "        # We take turns in processing variables until all are processed\n",
    "        while len(vars_to_be_processed) > 0:\n",
    "            for var in vars_to_be_processed:\n",
    "                if not self.reducible(fail_args[var]):\n",
    "                    vars_to_be_processed.remove(var)\n",
    "                    break\n",
    "\n",
    "                if self.log:\n",
    "                    print(f\"Processing {var}...\")\n",
    "\n",
    "                maximized_pass_value, minimized_fail_value, diff = \\\n",
    "                    strategy(var, fail_args, **strategy_args)\n",
    "\n",
    "                if (maximized_pass_value is not None and\n",
    "                    len(maximized_pass_value) > len(pass_args[var])):\n",
    "                    pass_args[var] = maximized_pass_value\n",
    "                    # FIXME: diff_args may not be correct for multiple args\n",
    "                    diff_args[var] = diff\n",
    "                    if self.log:\n",
    "                        print(f\"Maximized {var} to\",\n",
    "                              repr(maximized_pass_value))\n",
    "                    vars_to_be_processed = set(fail_args.keys())\n",
    "                    pass_processed += 1\n",
    "\n",
    "                if (minimized_fail_value is not None and\n",
    "                    len(minimized_fail_value) < len(fail_args[var])):\n",
    "                    fail_args[var] = minimized_fail_value\n",
    "                    diff_args[var] = diff\n",
    "                    if self.log:\n",
    "                        print(f\"Minimized {var} to\",\n",
    "                              repr(minimized_fail_value))\n",
    "                    vars_to_be_processed = set(fail_args.keys())\n",
    "                    fail_processed += 1\n",
    "\n",
    "                vars_to_be_processed.remove(var)\n",
    "                break\n",
    "\n",
    "        assert pass_processed == 0 or self.test(pass_args) == PASS, \\\n",
    "            f\"{self.format_call(pass_args)} does not pass\"\n",
    "        assert fail_processed == 0 or self.test(fail_args) == FAIL, \\\n",
    "            f\"{self.format_call(fail_args)} does not fail\"\n",
    "\n",
    "        if self.log and pass_processed > 0:\n",
    "            print(\"Maximized passing call to\",\n",
    "                  self.format_call(pass_args))\n",
    "        if self.log and fail_processed > 0:\n",
    "            print(\"Minimized failing call to\",\n",
    "                  self.format_call(fail_args))\n",
    "\n",
    "        return pass_args, fail_args, diff_args\n",
    "\n",
    "    def after_collection(self):\n",
    "        # Some post-collection checks\n",
    "        if self.function() is None:\n",
    "            raise NoCallError(\"No function call observed\")\n",
    "        if self.exception() is None:\n",
    "            raise NotFailingError(f\"{self.format_call()} did not raise an exception\")\n",
    "\n",
    "        if self.log:\n",
    "            print(f\"Observed {self.format_call()}\" +\n",
    "                  f\" raising {self.format_exception(self.exception())}\")\n",
    "\n",
    "    def min_args(self):\n",
    "        \"\"\"Return 1-minimal arguments.\"\"\"\n",
    "        pass_args, fail_args, diff = self.process_args(self.dd, mode='-')\n",
    "        return fail_args\n",
    "\n",
    "    def max_args(self):\n",
    "        \"\"\"Return 1-maximal arguments.\"\"\"\n",
    "        pass_args, fail_args, diff = self.process_args(self.dd, mode='+')\n",
    "        return pass_args\n",
    "\n",
    "    def min_arg_diff(self):\n",
    "        \"\"\"Return 1-minimal difference between arguments.\"\"\"\n",
    "        return self.process_args(self.dd, mode='+-')\n",
    "\n",
    "    def __repr__(self):\n",
    "        return self.format_call(self.min_args())"
   ]
  },
  {
   "cell_type": "code",
   "execution_count": 39,
   "metadata": {
    "pycharm": {
     "name": "#%%\n"
    }
   },
   "outputs": [],
   "source": [
    "def foo():\n",
    "    a=1\n",
    "    if a>0:\n",
    "        a+=1\n",
    "        return a\n",
    "    elif a<0:\n",
    "        a-=1\n",
    "        return a\n",
    "    a=a*10\n",
    "    a=a/0\n",
    "    return a"
   ]
  },
  {
   "cell_type": "code",
   "execution_count": 40,
   "metadata": {
    "pycharm": {
     "name": "#%%\n"
    }
   },
   "outputs": [],
   "source": [
    "class MyError(ValueError):\n",
    "    pass"
   ]
  },
  {
   "cell_type": "code",
   "execution_count": 41,
   "metadata": {
    "pycharm": {
     "name": "#%%\n"
    }
   },
   "outputs": [],
   "source": [
    "def my_avg(_list,min_val):\n",
    "    num=0\n",
    "    total=0\n",
    "    some_bool = True and False\n",
    "    for v in _list:\n",
    "        if v>=min_val:\n",
    "            num+=1\n",
    "            total += v\n",
    "        else:\n",
    "            # do something\n",
    "            a = 2\n",
    "            num = num\n",
    "    return total/num"
   ]
  },
  {
   "cell_type": "code",
   "execution_count": 42,
   "metadata": {
    "pycharm": {
     "name": "#%%\n"
    }
   },
   "outputs": [],
   "source": [
    "def my_len(_list,max_len):\n",
    "    if len(_list)>max_len:\n",
    "        raise MyError"
   ]
  },
  {
   "cell_type": "code",
   "execution_count": 43,
   "metadata": {
    "pycharm": {
     "name": "#%%\n"
    }
   },
   "outputs": [
    {
     "data": {
      "text/plain": [
       "6.5"
      ]
     },
     "execution_count": 43,
     "metadata": {},
     "output_type": "execute_result"
    }
   ],
   "source": [
    "my_avg([3,2,8,5],4)"
   ]
  },
  {
   "cell_type": "code",
   "execution_count": 44,
   "metadata": {
    "pycharm": {
     "name": "#%%\n"
    }
   },
   "outputs": [],
   "source": [
    "class ReductionError(ValueError):\n",
    "    pass"
   ]
  },
  {
   "cell_type": "markdown",
   "metadata": {},
   "source": [
    "Create the reductions"
   ]
  },
  {
   "cell_type": "code",
   "execution_count": 45,
   "metadata": {
    "pycharm": {
     "name": "#%%\n"
    }
   },
   "outputs": [],
   "source": [
    "REPLACE_PASS='REPLACE_PASS'\n",
    "DELETE='DELETE'\n",
    "RETURN_VAL = 'RETURN_VAL'\n",
    "RETURN_NO_VAL = 'RETURN_NO_VAL'\n",
    "IF_COND = 'IF_COND'\n",
    "BODY = 'BODY'\n",
    "IF_ORELSE = 'IF_ORELSE'\n",
    "BOOL_TRUE = 'BOOL_TRUE'\n",
    "BOOL_FALSE = 'BOOL_FALSE'\n",
    "BOOL_LEFT =\"BOOL_LEFT\"\n",
    "BOOL_RIGHT =\"BOOL_RIGHT\"\n",
    "WHILE_COND = 'WHILE_COND'"
   ]
  },
  {
   "cell_type": "code",
   "execution_count": 46,
   "metadata": {
    "pycharm": {
     "name": "#%%\n"
    }
   },
   "outputs": [],
   "source": [
    "class NodeCounter(ast.NodeVisitor):\n",
    "    \"\"\"\n",
    "    This node counter is used to assess the amount of reductions performed by your reducer. It counts the number of nodes in the AST\n",
    "    \"\"\"\n",
    "\n",
    "    def __init__(self) -> None:\n",
    "        self.num_nodes = 0\n",
    "\n",
    "    def visit(self, node):\n",
    "        self.num_nodes += 1\n",
    "        self.generic_visit(node)\n",
    "\n",
    "    def count(self, source):\n",
    "        tree = ast.parse(source=source)\n",
    "        self.visit(tree)\n",
    "        return self.num_nodes"
   ]
  },
  {
   "cell_type": "code",
   "execution_count": 47,
   "metadata": {
    "pycharm": {
     "name": "#%%\n"
    }
   },
   "outputs": [],
   "source": [
    "class MyNodeCounter(NodeVisitor):\n",
    "    def __init__(self) -> None:\n",
    "        self.num_nodes = 0\n",
    "\n",
    "    def visit(self, node):\n",
    "        self.num_nodes += 1\n",
    "        super().visit(node)\n",
    "        #self.generic_visit(node)\n",
    "    \n",
    "    def visit_Return(self,node):\n",
    "        self.num_nodes+=1\n",
    "        self.generic_visit(node)\n",
    "        \n",
    "    def count(self, tree):\n",
    "        self.visit(tree)\n",
    "        return self.num_nodes"
   ]
  },
  {
   "cell_type": "code",
   "execution_count": 48,
   "metadata": {
    "pycharm": {
     "name": "#%%\n"
    }
   },
   "outputs": [],
   "source": [
    "def node_count(tree):\n",
    "    res=0\n",
    "    if isinstance(tree,list):\n",
    "        for node in tree:\n",
    "            res += MyNodeCounter().count(node)\n",
    "        return res\n",
    "    else:\n",
    "        return MyNodeCounter().count(tree)"
   ]
  },
  {
   "cell_type": "code",
   "execution_count": 49,
   "metadata": {
    "pycharm": {
     "name": "#%%\n"
    }
   },
   "outputs": [],
   "source": [
    "class NodeCollector(NodeVisitor):\n",
    "    \"\"\"Collect all nodes in an AST.\"\"\"\n",
    "    def __init__(self):\n",
    "        super().__init__()\n",
    "        self._all_nodes = []\n",
    "\n",
    "    def generic_visit(self, node):\n",
    "        self._all_nodes.append(node)\n",
    "        return super().generic_visit(node)\n",
    "\n",
    "    def collect(self, tree):\n",
    "        \"\"\"Return a list of all nodes in tree.\"\"\"\n",
    "        self._all_nodes = []\n",
    "        self.visit(tree)\n",
    "        return self._all_nodes"
   ]
  },
  {
   "cell_type": "code",
   "execution_count": null,
   "metadata": {
    "pycharm": {
     "name": "#%%\n"
    }
   },
   "outputs": [],
   "source": []
  },
  {
   "cell_type": "code",
   "execution_count": null,
   "metadata": {
    "pycharm": {
     "name": "#%%\n"
    }
   },
   "outputs": [],
   "source": []
  },
  {
   "cell_type": "code",
   "execution_count": 50,
   "metadata": {
    "pycharm": {
     "name": "#%%\n"
    }
   },
   "outputs": [],
   "source": [
    "class NodeIdentifier(NodeTransformer):\n",
    "    def __init__(self):\n",
    "        super().__init__()\n",
    "        self.curr_id=0\n",
    "\n",
    "    def generic_visit(self, node):\n",
    "        node.reducer_id=str(self.curr_id)\n",
    "        self.curr_id+=1        \n",
    "        return super().generic_visit(node)"
   ]
  },
  {
   "cell_type": "code",
   "execution_count": 51,
   "metadata": {
    "pycharm": {
     "name": "#%%\n"
    }
   },
   "outputs": [],
   "source": [
    "class DeleteStrategy():\n",
    "    pass"
   ]
  },
  {
   "cell_type": "code",
   "execution_count": 52,
   "metadata": {
    "pycharm": {
     "name": "#%%\n"
    }
   },
   "outputs": [],
   "source": [
    "class NodeReducer(NodeTransformer):\n",
    "    def visit(self, node):\n",
    "        method = 'visit_' + node.__class__.__name__\n",
    "        visitor = getattr(self, method, self.visit_Node)\n",
    "        return visitor(node)\n",
    "\n",
    "    def visit_Module(self, node):\n",
    "        # Can't remove modules\n",
    "        return super().generic_visit(node)\n",
    "\n",
    "    def visit_Node(self, node):\n",
    "        \"\"\"Default visitor for all nodes\"\"\"\n",
    "        # if DELETE+node.reducer_id not in self.reductions:\n",
    "        #     return None\n",
    "        return super().generic_visit(node)\n",
    "\n",
    "    # def visit_Expression(self, node):\n",
    "    #     if DELETE+node.reducer_id not in self.reductions:\n",
    "    #         return None\n",
    "    #     return super().generic_visit(node)\n",
    "\n",
    "    def set_reductions(self,reductions):\n",
    "        self.reductions = reductions\n",
    "        #print(reductions)\n",
    "\n",
    "    def get_reductions(self):\n",
    "        return self.reductions\n",
    "\n",
    "    def node_after(self, reductions,ret,node):\n",
    "        if reductions>1:\n",
    "            raise ReductionError\n",
    "        if reductions==0:\n",
    "            return super().generic_visit(node)\n",
    "        return ret\n",
    "\n",
    "    def visit_Compare(self,node):\n",
    "        ret=node\n",
    "        reductions=0\n",
    "\n",
    "        if self.can_apply(node,BOOL_TRUE):\n",
    "            ret= ast.parse(\"True\").body[0].value\n",
    "            reductions+=1\n",
    "        if self.can_apply(node,BOOL_FALSE):\n",
    "            #print(\"Replaced BoolOp \"+ node.reducer_id + \" with False tree\")\n",
    "            ret= ast.parse(\"False\").body[0].value\n",
    "            reductions+=1\n",
    "        if self.can_apply(node,DELETE):\n",
    "            ret= None\n",
    "            reductions+=1\n",
    "\n",
    "        return self.node_after(reductions,ret,node)\n",
    "\n",
    "    def visit_FunctionDef(self,node):  \n",
    "        ret=node\n",
    "        reductions=0\n",
    "        if self.can_apply(node,DELETE):\n",
    "            ret= None\n",
    "            reductions+=1\n",
    "        if self.can_apply(node,BODY):\n",
    "            super().generic_visit(node)\n",
    "            ret= node.body\n",
    "            reductions+=1\n",
    "            \n",
    "        return self.node_after(reductions,ret,node)\n",
    "    \n",
    "    def visit_If(self, node):\n",
    "        ret=node\n",
    "        reductions=0\n",
    "        replacers =[IF_COND,BODY,IF_ORELSE,DELETE]\n",
    "        for rep in replacers:\n",
    "            if self.can_apply(node,rep):\n",
    "                reductions+=1\n",
    "                if reductions>1:\n",
    "                    raise ReductionError\n",
    "        if reductions==0:\n",
    "            return super().generic_visit(node)\n",
    "        if self.can_apply(node,IF_COND):\n",
    "            super().generic_visit(node)\n",
    "            ret= node.test\n",
    "            #reductions+=1\n",
    "        if self.can_apply(node,BODY):\n",
    "            super().generic_visit(node)\n",
    "            ret= node.body\n",
    "            #reductions+=1\n",
    "        if self.can_apply(node,IF_ORELSE):\n",
    "            super().generic_visit(node)\n",
    "            ret= node.orelse\n",
    "            #reductions+=1\n",
    "        if self.can_apply(node,DELETE):\n",
    "            ret= None\n",
    "            #reductions+=1\n",
    "\n",
    "        return self.node_after(reductions,ret,node)\n",
    "        # if ret:\n",
    "        #     return ret\n",
    "        # return super().generic_visit(node)\n",
    "\n",
    "    def visit_For(self,node):\n",
    "        ret=node\n",
    "        reductions=0\n",
    "        if self.can_apply(node,BODY):\n",
    "            #ret = ast.parse(\"pass\").body[0]\n",
    "            super().generic_visit(node)\n",
    "            ret = node.body\n",
    "            reductions+=1\n",
    "        if self.can_apply(node,DELETE):\n",
    "            ret= None\n",
    "            reductions+=1\n",
    "\n",
    "        return self.node_after(reductions,ret,node)\n",
    "\n",
    "    def visit_While(self,node):\n",
    "        ret=node\n",
    "        reductions=0\n",
    "        if self.can_apply(node,BODY):\n",
    "            #ret = ast.parse(\"pass\").body[0]\n",
    "            super().generic_visit(node)\n",
    "            ret = node.body\n",
    "            reductions+=1\n",
    "        if self.can_apply(node,DELETE):\n",
    "            ret= None\n",
    "            reductions+=1\n",
    "        if  self.can_apply(node,WHILE_COND):\n",
    "            super().generic_visit(node)\n",
    "            ret= node.test\n",
    "            reductions+=1\n",
    "\n",
    "        return self.node_after(reductions,ret,node)\n",
    "\n",
    "    def visit_Return(self,node):\n",
    "        ret=node\n",
    "        reductions=0\n",
    "        if self.can_apply(node,DELETE):\n",
    "            ret= None\n",
    "            reductions+=1\n",
    "        if self.can_apply(node,RETURN_VAL):\n",
    "            super().generic_visit(node)\n",
    "            ret= node.value\n",
    "            reductions+=1\n",
    "        if self.can_apply(node,RETURN_NO_VAL):\n",
    "            #super().generic_visit(node)\n",
    "            #ret= ret= ast.parse(\"return\").body[0]\n",
    "            #ret.depth=node.depth\n",
    "            node.value=[]\n",
    "            ret = node\n",
    "            reductions+=1\n",
    "\n",
    "        return self.node_after(reductions,ret,node)\n",
    "\n",
    "    # def visit_Expr(self, node):\n",
    "    #     ret=node\n",
    "    #     reductions=0\n",
    "    #     if DELETE+node.reducer_id not in self.reductions:\n",
    "    #         ret= None\n",
    "    #         reductions+=1\n",
    "    #         \n",
    "    #     self.node_after(reductions,ret,node)\n",
    "\n",
    "    def visit_Assign(self, node):\n",
    "        ret=node\n",
    "        reductions=0\n",
    "        if self.can_apply(node,DELETE):\n",
    "            ret= None\n",
    "            reductions+=1\n",
    "\n",
    "        return self.node_after(reductions,ret,node)\n",
    "        \n",
    "    def visit_AugAssign(self, node):\n",
    "        ret=node\n",
    "        reductions=0\n",
    "        if self.can_apply(node,DELETE):\n",
    "            ret= None\n",
    "            reductions+=1\n",
    "\n",
    "        return self.node_after(reductions,ret,node)\n",
    "        \n",
    "    def visit_BoolOp(self, node):\n",
    "        #print(\"Visiting BoolOp \"+node.reducer_id, BOOL_TRUE+node.reducer_id not in self.reductions, BOOL_FALSE+node.reducer_id not in self.reductions)\n",
    "        # if (BOOL_TRUE+node.reducer_id not in self.reductions) and (BOOL_FALSE+node.reducer_id not in self.reductions):\n",
    "        #     raise ReductionError\n",
    "\n",
    "        ret=node\n",
    "        reductions=0\n",
    "        #replacers = [BOOL_TRUE,BOOL_FALSE,BOOL_LEFT,BOOL_RIGHT]\n",
    "\n",
    "        if self.can_apply(node,BOOL_TRUE):\n",
    "            ret= ast.parse(\"True\").body[0].value\n",
    "            reductions+=1\n",
    "        if self.can_apply(node,BOOL_FALSE):\n",
    "            #print(\"Replaced BoolOp \"+ node.reducer_id + \" with False tree\")\n",
    "            ret= ast.parse(\"False\").body[0].value\n",
    "            reductions+=1\n",
    "        if self.can_apply(node,BOOL_LEFT):\n",
    "            ret = node.values[0]\n",
    "            reductions+=1\n",
    "        if self.can_apply(node,BOOL_RIGHT):\n",
    "            ret = node.values[len(node.values)-1]\n",
    "            reductions+=1\n",
    "        if self.can_apply(node,DELETE):\n",
    "            ret= None\n",
    "            reductions+=1\n",
    "        \n",
    "        return self.node_after(reductions,ret,node)\n",
    "        # if ret:\n",
    "        #     return ret\n",
    "        # return super().generic_visit(node)\n",
    "    \n",
    "    def can_apply(self,node,reduction):\n",
    "        return reduction+'-'+node.reducer_id not in self.reductions"
   ]
  },
  {
   "cell_type": "code",
   "execution_count": 53,
   "metadata": {
    "pycharm": {
     "name": "#%%\n"
    }
   },
   "outputs": [],
   "source": [
    "class DepthNodeReducer(NodeReducer):\n",
    "    def __init__(self,level):\n",
    "        self.level=level\n",
    "        super().__init__()\n",
    "    def visit(self,node):\n",
    "        if node.depth != self.level:\n",
    "            return self.generic_visit(node)\n",
    "        else:\n",
    "            return super().visit(node)"
   ]
  },
  {
   "cell_type": "code",
   "execution_count": 54,
   "metadata": {
    "pycharm": {
     "name": "#%%\n"
    }
   },
   "outputs": [],
   "source": [
    "class ReductionCollector(NodeVisitor):\n",
    "    \"\"\"Collect all nodes in an AST.\"\"\"\n",
    "    def __init__(self):\n",
    "        super().__init__()\n",
    "        self._reductions = []\n",
    "        self._del_reductions = []\n",
    "\n",
    "    # def generic_visit(self, node):\n",
    "    #     self._all_nodes.append(node)\n",
    "    #     return super().generic_visit(node)\n",
    "\n",
    "    def visit(self, node):\n",
    "        method = 'visit_' + node.__class__.__name__\n",
    "        visitor = getattr(self, method, self.visit_Node)\n",
    "        return visitor(node)\n",
    "\n",
    "    def visit_Node(self,node):\n",
    "        #self.add(DELETE+node.reducer_id)\n",
    "        return self.generic_visit(node)\n",
    "\n",
    "    def add(self,reduction,node):\n",
    "        if reduction == DELETE:\n",
    "            if not reduction+'-'+node.reducer_id in self._del_reductions:\n",
    "                self._del_reductions.append(reduction+'-'+node.reducer_id)\n",
    "        elif not reduction+'-'+node.reducer_id in self._reductions:\n",
    "            self._reductions.append(reduction+'-'+node.reducer_id)\n",
    "\n",
    "    # def visit_Expr(self, node):\n",
    "    #     self.add(DELETE, node)\n",
    "    #     return super().generic_visit(node)\n",
    "\n",
    "    def visit_Compare(self,node):\n",
    "        self.add(DELETE, node)\n",
    "        self.add(BOOL_TRUE, node)\n",
    "        self.add(BOOL_FALSE, node)\n",
    "        return super().generic_visit(node)\n",
    "\n",
    "    def visit_FunctionDef(self,node):\n",
    "        self.add(DELETE, node)\n",
    "        self.add(BODY, node)\n",
    "        return super().generic_visit(node)\n",
    "    \n",
    "    def visit_Assign(self, node):\n",
    "        self.add(DELETE, node)\n",
    "        return super().generic_visit(node)\n",
    "\n",
    "    def visit_AugAssign(self, node):\n",
    "        self.add(DELETE, node)\n",
    "        return super().generic_visit(node)\n",
    "\n",
    "    def visit_Return(self, node):\n",
    "        self.add(DELETE,node)\n",
    "        self.add(RETURN_VAL,node)\n",
    "        self.add(RETURN_NO_VAL,node)\n",
    "        return super().generic_visit(node)\n",
    "\n",
    "    def visit_If(self,node):\n",
    "        self.add(DELETE, node)\n",
    "        self.add(BODY, node)\n",
    "        self.add(IF_ORELSE, node)\n",
    "        self.add(IF_COND, node)\n",
    "\n",
    "        return super().generic_visit(node)\n",
    "\n",
    "    def visit_BoolOp(self, node):\n",
    "        self.add(DELETE, node)\n",
    "        self.add(BOOL_TRUE, node)\n",
    "        self.add(BOOL_FALSE, node)\n",
    "        self.add(BOOL_LEFT, node)\n",
    "        self.add(BOOL_RIGHT, node)\n",
    "        return super().generic_visit(node)\n",
    "\n",
    "    def visit_For(self,node):\n",
    "        self.add(DELETE,node)\n",
    "        self.add(BODY,node)\n",
    "        return super().generic_visit(node)\n",
    "\n",
    "    def visit_While(self,node):\n",
    "        self.add(DELETE,node)\n",
    "        self.add(BODY,node)\n",
    "        self.add(WHILE_COND,node)\n",
    "        return super().generic_visit(node)\n",
    "\n",
    "    def collect(self, tree):\n",
    "        \"\"\"Return a list of all nodes in tree.\"\"\"\n",
    "        self._reductions = []\n",
    "        self._del_reductions = []\n",
    "        self.visit(tree)\n",
    "        return self._del_reductions+self._reductions"
   ]
  },
  {
   "cell_type": "code",
   "execution_count": 55,
   "metadata": {
    "pycharm": {
     "name": "#%%\n"
    }
   },
   "outputs": [],
   "source": [
    "class DepthReductionCollector(ReductionCollector):\n",
    "    def __init__(self,level):\n",
    "        super().__init__()\n",
    "        self.level=level\n",
    "\n",
    "    def visit(self,node):\n",
    "        #self.add(DELETE+node.reducer_id)\n",
    "        if node.depth != self.level:\n",
    "            return self.generic_visit(node)\n",
    "        else:\n",
    "            return super().visit(node)"
   ]
  },
  {
   "cell_type": "code",
   "execution_count": 56,
   "metadata": {
    "pycharm": {
     "name": "#%%\n"
    }
   },
   "outputs": [],
   "source": [
    "def copy_and_reduce(tree, reductions):\n",
    "    \"\"\"Copy tree, reducing all nodes that are not in keep_list.\"\"\"\n",
    "\n",
    "    # Mark all nodes except those in keep_list\n",
    "    #NodeMarker().visit(tree)\n",
    "    #for node in keep_list:\n",
    "        # print(\"Clearing\", node)\n",
    "        #node.marked = False\n",
    "    #IfNodeChecker().visit(tree)\n",
    "    # Copy tree and delete marked nodes\n",
    "    new_tree = copy.deepcopy(tree)\n",
    "    reducer = NodeReducer()\n",
    "    reducer.set_reductions(reductions)\n",
    "    reducer.visit(new_tree)\n",
    "    return new_tree"
   ]
  },
  {
   "cell_type": "code",
   "execution_count": 57,
   "metadata": {
    "pycharm": {
     "name": "#%%\n"
    }
   },
   "outputs": [],
   "source": [
    "def compile_and_test_ast(tree, reductions, parser):\n",
    "    new_tree = copy_and_reduce(tree, reductions)\n",
    "    # Test, whether the error is still triggered by the reduced code\n",
    "    # try:\n",
    "    #     parser.parse(new_code)\n",
    "    #     # No exception is thrown. This means the new_code does not\n",
    "    #     # trigger an error anymore. Therefore, we failed in\n",
    "    #     # reduction and return the initial code.\n",
    "    #     return code\n",
    "    # except ParserException:\n",
    "    #     # The error is still triggered. Return the reduced code\n",
    "    #     return new_code\n",
    "    #NodeCleaner().visit(new_tree)\n",
    "    ast.fix_missing_locations(new_tree)\n",
    "    parser.parse(astor.to_source(new_tree))\n",
    "    # try:\n",
    "    #     code_object = compile(new_tree, '<string>', 'exec')\n",
    "    # except Exception:\n",
    "    #     raise SyntaxError(\"Cannot compile\")\n",
    "\n",
    "    # exec(code_object, {}, {})\n"
   ]
  },
  {
   "cell_type": "code",
   "execution_count": 58,
   "metadata": {
    "pycharm": {
     "name": "#%%\n"
    }
   },
   "outputs": [],
   "source": [
    "class MyReducer(ReducingDebugger):\n",
    "\n",
    "    def minimize(self, code):\n",
    "        fun_tree = ast.parse(code)\n",
    "        NodeIdentifier().visit(fun_tree) #Dangerous I guess, changing trees might lead to no id for a node\n",
    "        reductions = ReductionCollector().collect(fun_tree)\n",
    "        reductions.sort()\n",
    "        print(reductions)\n",
    "        #print(reductions.sort())\n",
    "        # init_tree = copy_and_reduce(fun_tree, reductions)\n",
    "        # show_ast(init_tree)\n",
    "        with DeltaDebugger() as dd:\n",
    "            compile_and_test_ast(fun_tree,reductions, self.parser)\n",
    "        applied_reductions = dd.min_args()['reductions']\n",
    "        #print(applied_reductions)\n",
    "        reduced_fun_tree = copy_and_reduce(fun_tree, applied_reductions)\n",
    "        #NodeCleaner().visit(fun_tree)\n",
    "        ast.fix_missing_locations(reduced_fun_tree)\n",
    "        #show_ast(reduced_fun_tree)\n",
    "        code = astor.to_source(reduced_fun_tree)\n",
    "        return code"
   ]
  },
  {
   "cell_type": "code",
   "execution_count": null,
   "metadata": {
    "pycharm": {
     "name": "#%%\n"
    }
   },
   "outputs": [],
   "source": []
  },
  {
   "cell_type": "markdown",
   "metadata": {},
   "source": [
    "To this end, you will need to extend the `NodeReducer` with additional transformations and implement a reducer strategy\n",
    "which collects all possible transformations and applies them to the AST until it is exhaustively minimized.\n",
    "Feel free to make your own implementation or extend the `DeltaDebugger` from the [Reducing Failure-Inducing Inputs chapter](https://www.debuggingbook.org/beta/html/DeltaDebugger.html) with\n",
    "the proper strategy.\n",
    "\n",
    "## Evaluation\n",
    "\n",
    "We evaluate your project based on public as well as secret tests. In this section, we present **five** different Python parsers as well as **five** Python input programs, which should be minified.\n",
    "These parsers check for a specific property in the code and fail the execution if the property exists. The input programs and parsers in this section make up the public test cases.\n",
    "If you pass all of those tests **without hardcoding the modifications** you are guaranteed to score 15 points in this project. You can get more points for passing secret tests.\n",
    "\n",
    "### Parsers"
   ]
  },
  {
   "cell_type": "code",
   "execution_count": 59,
   "metadata": {
    "pycharm": {
     "name": "#%%\n"
    }
   },
   "outputs": [],
   "source": [
    "class Parser(ast.NodeVisitor):\n",
    "    \"\"\"The base class for a parser\"\"\"\n",
    "    def parse_tree(self, tree):\n",
    "        self.visit(tree)\n",
    "\n",
    "    def parse(self, source):\n",
    "        tree = ast.parse(source=source)\n",
    "        self.parse_tree(tree)\n",
    "        return \"The input was successfully parsed.\""
   ]
  },
  {
   "cell_type": "markdown",
   "metadata": {},
   "source": [
    "`Parser` is the base class for a parser from which all other parsers are derived. It works the same way as the `SimpleParser` introduced earlier."
   ]
  },
  {
   "cell_type": "markdown",
   "metadata": {},
   "source": [
    "Let's define a couple of parsers which model a failure during processing of a certain code feature."
   ]
  },
  {
   "cell_type": "code",
   "execution_count": 60,
   "metadata": {
    "pycharm": {
     "name": "#%%\n"
    }
   },
   "outputs": [],
   "source": [
    "class Parser1(Parser):\n",
    "    \"\"\"\n",
    "    Contains boolean operation\n",
    "    \"\"\"    \n",
    "    def visit_BoolOp(self, node):\n",
    "        raise ParserException(f\"Something went wrong\")"
   ]
  },
  {
   "cell_type": "markdown",
   "metadata": {},
   "source": [
    "If we feed this parser with an input program which contains a boolean operation, it fails:"
   ]
  },
  {
   "cell_type": "code",
   "execution_count": 61,
   "metadata": {
    "pycharm": {
     "name": "#%%\n"
    }
   },
   "outputs": [
    {
     "name": "stderr",
     "output_type": "stream",
     "text": [
      "Traceback (most recent call last):\n",
      "  File \"<ipython-input-61-4c9889da423c>\", line 5, in <module>\n",
      "    parser1.parse(input_program)\n",
      "  File \"<ipython-input-59-299b605fbaca>\", line 8, in parse\n",
      "    self.parse_tree(tree)\n",
      "  File \"<ipython-input-59-299b605fbaca>\", line 4, in parse_tree\n",
      "    self.visit(tree)\n",
      "  File \"/home/milan/anaconda3/lib/python3.8/ast.py\", line 363, in visit\n",
      "    return visitor(node)\n",
      "  File \"/home/milan/anaconda3/lib/python3.8/ast.py\", line 371, in generic_visit\n",
      "    self.visit(item)\n",
      "  File \"/home/milan/anaconda3/lib/python3.8/ast.py\", line 363, in visit\n",
      "    return visitor(node)\n",
      "  File \"/home/milan/anaconda3/lib/python3.8/ast.py\", line 373, in generic_visit\n",
      "    self.visit(value)\n",
      "  File \"/home/milan/anaconda3/lib/python3.8/ast.py\", line 363, in visit\n",
      "    return visitor(node)\n",
      "  File \"<ipython-input-60-f3923c2a5b4f>\", line 6, in visit_BoolOp\n",
      "    raise ParserException(f\"Something went wrong\")\n",
      "ParserException: Something went wrong (expected)\n"
     ]
    }
   ],
   "source": [
    "parser1 = Parser1()\n",
    "input_program = '''\n",
    "a = True and False'''\n",
    "with ExpectError():\n",
    "    parser1.parse(input_program)"
   ]
  },
  {
   "cell_type": "markdown",
   "metadata": {},
   "source": [
    "In contrast to the above, an input program _without_ a boolean operation is parsed correctly."
   ]
  },
  {
   "cell_type": "code",
   "execution_count": 62,
   "metadata": {
    "pycharm": {
     "name": "#%%\n"
    }
   },
   "outputs": [
    {
     "data": {
      "text/plain": [
       "'The input was successfully parsed.'"
      ]
     },
     "execution_count": 62,
     "metadata": {},
     "output_type": "execute_result"
    }
   ],
   "source": [
    "parser1 = Parser1()\n",
    "input_program = '''\n",
    "a = 1\n",
    "b = True\n",
    "'''\n",
    "\n",
    "parser1.parse(input_program)"
   ]
  },
  {
   "cell_type": "markdown",
   "metadata": {},
   "source": [
    "The other parsers are"
   ]
  },
  {
   "cell_type": "code",
   "execution_count": 63,
   "metadata": {
    "pycharm": {
     "name": "#%%\n"
    }
   },
   "outputs": [],
   "source": [
    "class Parser2(Parser):\n",
    "    \"\"\"\n",
    "    Fails if an input program contains `if` statement\n",
    "    \"\"\"\n",
    "    def visit_If(self, node):\n",
    "        raise ParserException(f\"Something went wrong\")"
   ]
  },
  {
   "cell_type": "code",
   "execution_count": 64,
   "metadata": {
    "pycharm": {
     "name": "#%%\n"
    }
   },
   "outputs": [
    {
     "name": "stderr",
     "output_type": "stream",
     "text": [
      "Traceback (most recent call last):\n",
      "  File \"<ipython-input-64-20b0846060a6>\", line 9, in <module>\n",
      "    parser2.parse(input_program)\n",
      "  File \"<ipython-input-59-299b605fbaca>\", line 8, in parse\n",
      "    self.parse_tree(tree)\n",
      "  File \"<ipython-input-59-299b605fbaca>\", line 4, in parse_tree\n",
      "    self.visit(tree)\n",
      "  File \"/home/milan/anaconda3/lib/python3.8/ast.py\", line 363, in visit\n",
      "    return visitor(node)\n",
      "  File \"/home/milan/anaconda3/lib/python3.8/ast.py\", line 371, in generic_visit\n",
      "    self.visit(item)\n",
      "  File \"/home/milan/anaconda3/lib/python3.8/ast.py\", line 363, in visit\n",
      "    return visitor(node)\n",
      "  File \"<ipython-input-63-376a81aa884c>\", line 6, in visit_If\n",
      "    raise ParserException(f\"Something went wrong\")\n",
      "ParserException: Something went wrong (expected)\n"
     ]
    }
   ],
   "source": [
    "parser2 = Parser2()\n",
    "input_program = '''\n",
    "if a:\n",
    "    b = 1\n",
    "else:\n",
    "    b = 2\n",
    "'''\n",
    "with ExpectError():\n",
    "    parser2.parse(input_program)"
   ]
  },
  {
   "cell_type": "code",
   "execution_count": 65,
   "metadata": {
    "pycharm": {
     "name": "#%%\n"
    }
   },
   "outputs": [],
   "source": [
    "class Parser3(Parser):\n",
    "    \"\"\"\n",
    "    Fails if an input program contains a special unicode character\n",
    "    \"\"\"\n",
    "    def __init__(self) -> None:\n",
    "        self.assignment = False\n",
    "        self.steps = 0\n",
    "\n",
    "    def check_unicode(self, string):\n",
    "        return string == u'\\u0426'\n",
    "\n",
    "    def generic_visit(self, node):\n",
    "        self.steps += 1\n",
    "        super().generic_visit(node)\n",
    "\n",
    "    def visit_Assign(self, node):\n",
    "        self.assignment = True\n",
    "        self.steps = 0\n",
    "        self.generic_visit(node)\n",
    "\n",
    "    def visit_Str(self, node):\n",
    "        if self.assignment and self.steps == 3:\n",
    "            if self.check_unicode(node.s):\n",
    "                raise ParserException(f\"Something went wrong\")"
   ]
  },
  {
   "cell_type": "code",
   "execution_count": 66,
   "metadata": {
    "pycharm": {
     "name": "#%%\n"
    }
   },
   "outputs": [
    {
     "name": "stderr",
     "output_type": "stream",
     "text": [
      "Traceback (most recent call last):\n",
      "  File \"<ipython-input-66-7bf29c4eeeba>\", line 6, in <module>\n",
      "    parser3.parse(input_program)\n",
      "  File \"<ipython-input-59-299b605fbaca>\", line 8, in parse\n",
      "    self.parse_tree(tree)\n",
      "  File \"<ipython-input-59-299b605fbaca>\", line 4, in parse_tree\n",
      "    self.visit(tree)\n",
      "  File \"/home/milan/anaconda3/lib/python3.8/ast.py\", line 363, in visit\n",
      "    return visitor(node)\n",
      "  File \"<ipython-input-65-48bc15fe6b7b>\", line 14, in generic_visit\n",
      "    super().generic_visit(node)\n",
      "  File \"/home/milan/anaconda3/lib/python3.8/ast.py\", line 371, in generic_visit\n",
      "    self.visit(item)\n",
      "  File \"/home/milan/anaconda3/lib/python3.8/ast.py\", line 363, in visit\n",
      "    return visitor(node)\n",
      "  File \"<ipython-input-65-48bc15fe6b7b>\", line 19, in visit_Assign\n",
      "    self.generic_visit(node)\n",
      "  File \"<ipython-input-65-48bc15fe6b7b>\", line 14, in generic_visit\n",
      "    super().generic_visit(node)\n",
      "  File \"/home/milan/anaconda3/lib/python3.8/ast.py\", line 373, in generic_visit\n",
      "    self.visit(value)\n",
      "  File \"/home/milan/anaconda3/lib/python3.8/ast.py\", line 363, in visit\n",
      "    return visitor(node)\n",
      "  File \"/home/milan/anaconda3/lib/python3.8/ast.py\", line 393, in visit_Constant\n",
      "    return visitor(node)\n",
      "  File \"<ipython-input-65-48bc15fe6b7b>\", line 24, in visit_Str\n",
      "    raise ParserException(f\"Something went wrong\")\n",
      "ParserException: Something went wrong (expected)\n"
     ]
    }
   ],
   "source": [
    "parser3 = Parser3()\n",
    "input_program = '''\n",
    "a = u'\\u0426'\n",
    "'''\n",
    "with ExpectError():\n",
    "    parser3.parse(input_program)"
   ]
  },
  {
   "cell_type": "code",
   "execution_count": 67,
   "metadata": {
    "pycharm": {
     "name": "#%%\n"
    }
   },
   "outputs": [],
   "source": [
    "class Parser4(Parser):\n",
    "    \"\"\"\n",
    "    Fails if an input program contains a variable which is not defined\n",
    "    \"\"\"\n",
    "    def __init__(self) -> None:\n",
    "        self.assignment = False\n",
    "        self.steps = 0\n",
    "        self.variables = set()\n",
    "\n",
    "    def generic_visit(self, node):\n",
    "        self.steps += 1\n",
    "        super().generic_visit(node)\n",
    "\n",
    "    def visit_Name(self, node):\n",
    "        if self.assignment and self.steps == 1:\n",
    "            self.variables.add(node.id)\n",
    "            self.assignment = False\n",
    "            self.generic_visit(node)\n",
    "        elif node.id in self.variables:\n",
    "            self.generic_visit(node)\n",
    "        else:\n",
    "            raise ParserException(f\"Something went wrong\")\n",
    "\n",
    "    def visit_Assign(self, node):\n",
    "        self.assignment = True\n",
    "        self.steps = 0\n",
    "        self.generic_visit(node)"
   ]
  },
  {
   "cell_type": "code",
   "execution_count": 68,
   "metadata": {
    "pycharm": {
     "name": "#%%\n"
    }
   },
   "outputs": [
    {
     "name": "stderr",
     "output_type": "stream",
     "text": [
      "Traceback (most recent call last):\n",
      "  File \"<ipython-input-68-26a8dfd040e2>\", line 7, in <module>\n",
      "    parser4.parse(input_program)\n",
      "  File \"<ipython-input-59-299b605fbaca>\", line 8, in parse\n",
      "    self.parse_tree(tree)\n",
      "  File \"<ipython-input-59-299b605fbaca>\", line 4, in parse_tree\n",
      "    self.visit(tree)\n",
      "  File \"/home/milan/anaconda3/lib/python3.8/ast.py\", line 363, in visit\n",
      "    return visitor(node)\n",
      "  File \"<ipython-input-67-a05ed93107e5>\", line 12, in generic_visit\n",
      "    super().generic_visit(node)\n",
      "  File \"/home/milan/anaconda3/lib/python3.8/ast.py\", line 371, in generic_visit\n",
      "    self.visit(item)\n",
      "  File \"/home/milan/anaconda3/lib/python3.8/ast.py\", line 363, in visit\n",
      "    return visitor(node)\n",
      "  File \"<ipython-input-67-a05ed93107e5>\", line 27, in visit_Assign\n",
      "    self.generic_visit(node)\n",
      "  File \"<ipython-input-67-a05ed93107e5>\", line 12, in generic_visit\n",
      "    super().generic_visit(node)\n",
      "  File \"/home/milan/anaconda3/lib/python3.8/ast.py\", line 373, in generic_visit\n",
      "    self.visit(value)\n",
      "  File \"/home/milan/anaconda3/lib/python3.8/ast.py\", line 363, in visit\n",
      "    return visitor(node)\n",
      "  File \"<ipython-input-67-a05ed93107e5>\", line 22, in visit_Name\n",
      "    raise ParserException(f\"Something went wrong\")\n",
      "ParserException: Something went wrong (expected)\n"
     ]
    }
   ],
   "source": [
    "parser4 = Parser4()\n",
    "input_program = '''\n",
    "a = 1\n",
    "b = c\n",
    "'''\n",
    "with ExpectError():\n",
    "    parser4.parse(input_program)"
   ]
  },
  {
   "cell_type": "code",
   "execution_count": 69,
   "metadata": {
    "pycharm": {
     "name": "#%%\n"
    }
   },
   "outputs": [],
   "source": [
    "class Parser5(Parser):\n",
    "    \"\"\"\n",
    "    Fails if an input program contains a list\n",
    "    \"\"\"\n",
    "\n",
    "    def visit_List(self, node):\n",
    "        raise ParserException(f\"Something went wrong\")\n",
    "        "
   ]
  },
  {
   "cell_type": "code",
   "execution_count": 70,
   "metadata": {
    "pycharm": {
     "name": "#%%\n"
    }
   },
   "outputs": [
    {
     "name": "stderr",
     "output_type": "stream",
     "text": [
      "Traceback (most recent call last):\n",
      "  File \"<ipython-input-70-9260c0f30b93>\", line 6, in <module>\n",
      "    parser5.parse(input_program)\n",
      "  File \"<ipython-input-59-299b605fbaca>\", line 8, in parse\n",
      "    self.parse_tree(tree)\n",
      "  File \"<ipython-input-59-299b605fbaca>\", line 4, in parse_tree\n",
      "    self.visit(tree)\n",
      "  File \"/home/milan/anaconda3/lib/python3.8/ast.py\", line 363, in visit\n",
      "    return visitor(node)\n",
      "  File \"/home/milan/anaconda3/lib/python3.8/ast.py\", line 371, in generic_visit\n",
      "    self.visit(item)\n",
      "  File \"/home/milan/anaconda3/lib/python3.8/ast.py\", line 363, in visit\n",
      "    return visitor(node)\n",
      "  File \"/home/milan/anaconda3/lib/python3.8/ast.py\", line 373, in generic_visit\n",
      "    self.visit(value)\n",
      "  File \"/home/milan/anaconda3/lib/python3.8/ast.py\", line 363, in visit\n",
      "    return visitor(node)\n",
      "  File \"/home/milan/anaconda3/lib/python3.8/ast.py\", line 371, in generic_visit\n",
      "    self.visit(item)\n",
      "  File \"/home/milan/anaconda3/lib/python3.8/ast.py\", line 363, in visit\n",
      "    return visitor(node)\n",
      "  File \"/home/milan/anaconda3/lib/python3.8/ast.py\", line 373, in generic_visit\n",
      "    self.visit(value)\n",
      "  File \"/home/milan/anaconda3/lib/python3.8/ast.py\", line 363, in visit\n",
      "    return visitor(node)\n",
      "  File \"/home/milan/anaconda3/lib/python3.8/ast.py\", line 371, in generic_visit\n",
      "    self.visit(item)\n",
      "  File \"/home/milan/anaconda3/lib/python3.8/ast.py\", line 363, in visit\n",
      "    return visitor(node)\n",
      "  File \"<ipython-input-69-8b0d859d976a>\", line 7, in visit_List\n",
      "    raise ParserException(f\"Something went wrong\")\n",
      "ParserException: Something went wrong (expected)\n"
     ]
    }
   ],
   "source": [
    "parser5 = Parser5()\n",
    "input_program = '''\n",
    "a = {x * 2 for x in map(int, ['1', '2', '3'])}\n",
    "'''\n",
    "with ExpectError():\n",
    "    parser5.parse(input_program)"
   ]
  },
  {
   "cell_type": "markdown",
   "metadata": {},
   "source": [
    "For secret tests we may use other parsers crafted in the same way."
   ]
  },
  {
   "cell_type": "markdown",
   "metadata": {},
   "source": [
    "### Input Programs"
   ]
  },
  {
   "cell_type": "markdown",
   "metadata": {},
   "source": [
    "Now we present five public tests.\n",
    "Each test case implements a `get_original()` method that returns an input program which your reducer should minify.\n",
    "It also has a `parser` field which stores a parser used for a respective input program.\n",
    "Besides, `get_minimized()` method provides a reference solution."
   ]
  },
  {
   "cell_type": "code",
   "execution_count": 71,
   "metadata": {
    "pycharm": {
     "name": "#%%\n"
    }
   },
   "outputs": [],
   "source": [
    "class Test1:\n",
    "    parser = Parser1()\n",
    "\n",
    "    def get_original(self):\n",
    "        return '''\n",
    "def original():\n",
    "    a = True\n",
    "    b = not False\n",
    "    c = 30\n",
    "    for i in range(c):\n",
    "        if i == 15:\n",
    "            if a and b:\n",
    "                return 1\n",
    "    return 0\n",
    "'''\n",
    "\n",
    "    def get_minimized(self):\n",
    "        return '''\n",
    "True and True'''"
   ]
  },
  {
   "cell_type": "code",
   "execution_count": 72,
   "metadata": {
    "pycharm": {
     "name": "#%%\n"
    }
   },
   "outputs": [],
   "source": [
    "class Test2:\n",
    "    parser = Parser2()\n",
    "    def get_original(self):\n",
    "        return '''\n",
    "def original():\n",
    "    a = True\n",
    "    b = not False\n",
    "    c = 30\n",
    "    for i in range(c):\n",
    "        if i == 15:\n",
    "            if a and b:\n",
    "                return 1\n",
    "    return 0\n",
    "    '''\n",
    "\n",
    "    def get_minimized(self):\n",
    "        return '''\n",
    "if True:\n",
    "    return\n",
    "'''"
   ]
  },
  {
   "cell_type": "code",
   "execution_count": 73,
   "metadata": {
    "pycharm": {
     "name": "#%%\n"
    }
   },
   "outputs": [],
   "source": [
    "class Test3:\n",
    "    parser = Parser3()\n",
    "    def get_original(self):\n",
    "        return '''\n",
    "def original():\n",
    "    a = 1\n",
    "    b = a\n",
    "    c = a - b\n",
    "    if c < a:\n",
    "        d = ''\n",
    "        while a == b:\n",
    "            d = u'\\u0426'\n",
    "            a += 1\n",
    "        return d\n",
    "    return ''\n",
    "'''\n",
    "\n",
    "    def get_minimized(self):\n",
    "        return '''\n",
    "d = u'\\u0426'\n",
    "'''"
   ]
  },
  {
   "cell_type": "code",
   "execution_count": 74,
   "metadata": {
    "pycharm": {
     "name": "#%%\n"
    }
   },
   "outputs": [],
   "source": [
    "class Test4:\n",
    "    parser = Parser4()\n",
    "    def get_original(self):\n",
    "        return '''\n",
    "def original():\n",
    "    a = 1\n",
    "    b = a\n",
    "    c = a - b\n",
    "    if c < a:\n",
    "        while a == b:\n",
    "            a += 1\n",
    "        return d\n",
    "    return ''\n",
    "'''\n",
    "\n",
    "    def get_minimized(self):\n",
    "        return '''\n",
    "d\n",
    "'''"
   ]
  },
  {
   "cell_type": "code",
   "execution_count": 75,
   "metadata": {
    "pycharm": {
     "name": "#%%\n"
    }
   },
   "outputs": [],
   "source": [
    "class Test5:\n",
    "    parser = Parser5()\n",
    "\n",
    "    def get_original(self):\n",
    "        return '''\n",
    "def original():\n",
    "    a = 1\n",
    "    b = 0\n",
    "    while True:\n",
    "        if a < b:\n",
    "            return [1, 2, 3]\n",
    "        else:\n",
    "            return []\n",
    "'''\n",
    "\n",
    "    def get_minimized(self):\n",
    "        return '''\n",
    "[]\n",
    "'''"
   ]
  },
  {
   "cell_type": "markdown",
   "metadata": {},
   "source": [
    "For instance, let's take the input program of `Test1`:"
   ]
  },
  {
   "cell_type": "code",
   "execution_count": 76,
   "metadata": {
    "pycharm": {
     "name": "#%%\n"
    }
   },
   "outputs": [
    {
     "name": "stdout",
     "output_type": "stream",
     "text": [
      "\n",
      "def original():\n",
      "    a = True\n",
      "    b = not False\n",
      "    c = 30\n",
      "    for i in range(c):\n",
      "        if i == 15:\n",
      "            if a and b:\n",
      "                return 1\n",
      "    return 0\n",
      "\n"
     ]
    }
   ],
   "source": [
    "test = Test1()\n",
    "source = test.get_original()\n",
    "print(source)"
   ]
  },
  {
   "cell_type": "markdown",
   "metadata": {},
   "source": [
    "And parse it with the provided parser:"
   ]
  },
  {
   "cell_type": "code",
   "execution_count": 77,
   "metadata": {
    "pycharm": {
     "name": "#%%\n"
    }
   },
   "outputs": [
    {
     "name": "stderr",
     "output_type": "stream",
     "text": [
      "Traceback (most recent call last):\n",
      "  File \"<ipython-input-77-460bfcdf8fdd>\", line 2, in <module>\n",
      "    test.parser.parse(source)\n",
      "  File \"<ipython-input-59-299b605fbaca>\", line 8, in parse\n",
      "    self.parse_tree(tree)\n",
      "  File \"<ipython-input-59-299b605fbaca>\", line 4, in parse_tree\n",
      "    self.visit(tree)\n",
      "  File \"/home/milan/anaconda3/lib/python3.8/ast.py\", line 363, in visit\n",
      "    return visitor(node)\n",
      "  File \"/home/milan/anaconda3/lib/python3.8/ast.py\", line 371, in generic_visit\n",
      "    self.visit(item)\n",
      "  File \"/home/milan/anaconda3/lib/python3.8/ast.py\", line 363, in visit\n",
      "    return visitor(node)\n",
      "  File \"/home/milan/anaconda3/lib/python3.8/ast.py\", line 371, in generic_visit\n",
      "    self.visit(item)\n",
      "  File \"/home/milan/anaconda3/lib/python3.8/ast.py\", line 363, in visit\n",
      "    return visitor(node)\n",
      "  File \"/home/milan/anaconda3/lib/python3.8/ast.py\", line 371, in generic_visit\n",
      "    self.visit(item)\n",
      "  File \"/home/milan/anaconda3/lib/python3.8/ast.py\", line 363, in visit\n",
      "    return visitor(node)\n",
      "  File \"/home/milan/anaconda3/lib/python3.8/ast.py\", line 371, in generic_visit\n",
      "    self.visit(item)\n",
      "  File \"/home/milan/anaconda3/lib/python3.8/ast.py\", line 363, in visit\n",
      "    return visitor(node)\n",
      "  File \"/home/milan/anaconda3/lib/python3.8/ast.py\", line 373, in generic_visit\n",
      "    self.visit(value)\n",
      "  File \"/home/milan/anaconda3/lib/python3.8/ast.py\", line 363, in visit\n",
      "    return visitor(node)\n",
      "  File \"<ipython-input-60-f3923c2a5b4f>\", line 6, in visit_BoolOp\n",
      "    raise ParserException(f\"Something went wrong\")\n",
      "ParserException: Something went wrong (expected)\n"
     ]
    }
   ],
   "source": [
    "with ExpectError():\n",
    "    test.parser.parse(source)"
   ]
  },
  {
   "cell_type": "markdown",
   "metadata": {},
   "source": [
    "The parser failed."
   ]
  },
  {
   "cell_type": "markdown",
   "metadata": {},
   "source": [
    "### Testing Infrastructure\n",
    "\n",
    "The following section introduces the testing infrastructure, which is used to assess your performance in the project. Passing all tests will be enough to complete the project successfully."
   ]
  },
  {
   "cell_type": "markdown",
   "metadata": {},
   "source": [
    "We are not going to directly compare a minimized program with the reference solution (as two strings). Instead, we again transform the code into AST and count the number of nodes in both trees.\n",
    "If the difference between them is lower than a `THRESHOLD` (and a parser still produces an error), the test is passed.\n",
    "To count the number of nodes in the AST, we need a helper class `NodeCounter`."
   ]
  },
  {
   "cell_type": "code",
   "execution_count": 78,
   "metadata": {
    "pycharm": {
     "name": "#%%\n"
    }
   },
   "outputs": [],
   "source": [
    "class NodeCounter(ast.NodeVisitor):\n",
    "    \"\"\"\n",
    "    This node counter is used to assess the amount of reductions performed by your reducer. It counts the number of nodes in the AST\n",
    "    \"\"\"\n",
    "\n",
    "    def __init__(self) -> None:\n",
    "        self.num_nodes = 0\n",
    "\n",
    "    def visit(self, node):\n",
    "        self.num_nodes += 1\n",
    "        self.generic_visit(node)\n",
    "\n",
    "    def count(self, source):\n",
    "        tree = ast.parse(source=source)\n",
    "        self.visit(tree)\n",
    "        return self.num_nodes\n"
   ]
  },
  {
   "cell_type": "markdown",
   "metadata": {},
   "source": [
    "The AST of the input program is as follows:"
   ]
  },
  {
   "cell_type": "code",
   "execution_count": 79,
   "metadata": {
    "pycharm": {
     "name": "#%%\n"
    }
   },
   "outputs": [
    {
     "data": {
      "image/svg+xml": [
       "<svg xmlns=\"http://www.w3.org/2000/svg\" xmlns:xlink=\"http://www.w3.org/1999/xlink\" width=\"1620pt\" height=\"476pt\" viewBox=\"0.00 0.00 1620.00 476.00\">\n",
       "<g id=\"graph0\" class=\"graph\" transform=\"scale(1 1) rotate(0) translate(4 472)\">\n",
       "<title>%3</title>\n",
       "<polygon fill=\"white\" stroke=\"transparent\" points=\"-4,4 -4,-472 1616,-472 1616,4 -4,4\"/>\n",
       "<!-- 0 -->\n",
       "<g id=\"node1\" class=\"node\">\n",
       "<title>0</title>\n",
       "<text text-anchor=\"start\" x=\"397.5\" y=\"-447.3\" font-family=\"Courier,monospace\" font-weight=\"bold\" font-size=\"14.00\" fill=\"#004080\">FunctionDef</text>\n",
       "</g>\n",
       "<!-- 1 -->\n",
       "<g id=\"node2\" class=\"node\">\n",
       "<title>1</title>\n",
       "<text text-anchor=\"middle\" x=\"149\" y=\"-374.3\" font-family=\"Courier,monospace\" font-size=\"14.00\" fill=\"#008040\">&quot;original&quot;</text>\n",
       "</g>\n",
       "<!-- 0&#45;&#45;1 -->\n",
       "<g id=\"edge1\" class=\"edge\">\n",
       "<title>0--1</title>\n",
       "<path fill=\"none\" stroke=\"black\" d=\"M444,-431C444,-431 311,-418.81 207,-396 204.23,-395.39 201.4,-394.73 198.56,-394.02\"/>\n",
       "</g>\n",
       "<!-- 2 -->\n",
       "<g id=\"node3\" class=\"node\">\n",
       "<title>2</title>\n",
       "<text text-anchor=\"middle\" x=\"262\" y=\"-374.3\" font-family=\"Courier,monospace\" font-size=\"14.00\" fill=\"#008040\">arguments</text>\n",
       "</g>\n",
       "<!-- 0&#45;&#45;2 -->\n",
       "<g id=\"edge2\" class=\"edge\">\n",
       "<title>0--2</title>\n",
       "<path fill=\"none\" stroke=\"black\" d=\"M444,-431C444,-431 373.2,-412.42 317,-396 313.93,-395.1 310.77,-394.16 307.59,-393.21\"/>\n",
       "</g>\n",
       "<!-- 3 -->\n",
       "<g id=\"node4\" class=\"node\">\n",
       "<title>3</title>\n",
       "<text text-anchor=\"start\" x=\"334\" y=\"-375.3\" font-family=\"Courier,monospace\" font-weight=\"bold\" font-size=\"14.00\" fill=\"#004080\">Assign</text>\n",
       "</g>\n",
       "<!-- 0&#45;&#45;3 -->\n",
       "<g id=\"edge3\" class=\"edge\">\n",
       "<title>0--3</title>\n",
       "<path fill=\"none\" stroke=\"black\" d=\"M444,-431C444,-431 411.62,-411.19 386.83,-396.03\"/>\n",
       "</g>\n",
       "<!-- 9 -->\n",
       "<g id=\"node10\" class=\"node\">\n",
       "<title>9</title>\n",
       "<text text-anchor=\"start\" x=\"418\" y=\"-375.3\" font-family=\"Courier,monospace\" font-weight=\"bold\" font-size=\"14.00\" fill=\"#004080\">Assign</text>\n",
       "</g>\n",
       "<!-- 0&#45;&#45;9 -->\n",
       "<g id=\"edge9\" class=\"edge\">\n",
       "<title>0--9</title>\n",
       "<path fill=\"none\" stroke=\"black\" d=\"M444,-431C444,-431 443.62,-411.19 443.33,-396.03\"/>\n",
       "</g>\n",
       "<!-- 17 -->\n",
       "<g id=\"node18\" class=\"node\">\n",
       "<title>17</title>\n",
       "<text text-anchor=\"start\" x=\"574\" y=\"-375.3\" font-family=\"Courier,monospace\" font-weight=\"bold\" font-size=\"14.00\" fill=\"#004080\">Assign</text>\n",
       "</g>\n",
       "<!-- 0&#45;&#45;17 -->\n",
       "<g id=\"edge17\" class=\"edge\">\n",
       "<title>0--17</title>\n",
       "<path fill=\"none\" stroke=\"black\" d=\"M444,-431C444,-431 520.2,-405.43 565.75,-390.16\"/>\n",
       "</g>\n",
       "<!-- 23 -->\n",
       "<g id=\"node24\" class=\"node\">\n",
       "<title>23</title>\n",
       "<text text-anchor=\"start\" x=\"887.5\" y=\"-375.3\" font-family=\"Courier,monospace\" font-weight=\"bold\" font-size=\"14.00\" fill=\"#004080\">For</text>\n",
       "</g>\n",
       "<!-- 0&#45;&#45;23 -->\n",
       "<g id=\"edge23\" class=\"edge\">\n",
       "<title>0--23</title>\n",
       "<path fill=\"none\" stroke=\"black\" d=\"M444,-431C444,-431 774.67,-393.29 872.84,-382.1\"/>\n",
       "</g>\n",
       "<!-- 54 -->\n",
       "<g id=\"node55\" class=\"node\">\n",
       "<title>54</title>\n",
       "<text text-anchor=\"start\" x=\"1143\" y=\"-375.3\" font-family=\"Courier,monospace\" font-weight=\"bold\" font-size=\"14.00\" fill=\"#004080\">Return</text>\n",
       "</g>\n",
       "<!-- 0&#45;&#45;54 -->\n",
       "<g id=\"edge54\" class=\"edge\">\n",
       "<title>0--54</title>\n",
       "<path fill=\"none\" stroke=\"black\" d=\"M444,-431C444,-431 717.35,-411.79 936,-396 1006.89,-390.88 1089.97,-384.77 1134.96,-381.44\"/>\n",
       "</g>\n",
       "<!-- 4 -->\n",
       "<g id=\"node5\" class=\"node\">\n",
       "<title>4</title>\n",
       "<text text-anchor=\"start\" x=\"84\" y=\"-303.3\" font-family=\"Courier,monospace\" font-weight=\"bold\" font-size=\"14.00\" fill=\"#004080\">Name</text>\n",
       "</g>\n",
       "<!-- 3&#45;&#45;4 -->\n",
       "<g id=\"edge4\" class=\"edge\">\n",
       "<title>3--4</title>\n",
       "<path fill=\"none\" stroke=\"black\" d=\"M326,-364C326,-364 320.57,-361.43 316,-360 248.1,-338.72 228.88,-341.86 160,-324 149.58,-321.3 138.2,-318.08 128.23,-315.18\"/>\n",
       "</g>\n",
       "<!-- 7 -->\n",
       "<g id=\"node8\" class=\"node\">\n",
       "<title>7</title>\n",
       "<text text-anchor=\"start\" x=\"177.5\" y=\"-303.3\" font-family=\"Courier,monospace\" font-weight=\"bold\" font-size=\"14.00\" fill=\"#004080\">Constant</text>\n",
       "</g>\n",
       "<!-- 3&#45;&#45;7 -->\n",
       "<g id=\"edge7\" class=\"edge\">\n",
       "<title>3--7</title>\n",
       "<path fill=\"none\" stroke=\"black\" d=\"M326,-364C326,-364 279.38,-340.89 245.5,-324.1\"/>\n",
       "</g>\n",
       "<!-- 5 -->\n",
       "<g id=\"node6\" class=\"node\">\n",
       "<title>5</title>\n",
       "<text text-anchor=\"middle\" x=\"27\" y=\"-230.3\" font-family=\"Courier,monospace\" font-size=\"14.00\" fill=\"#008040\">&quot;a&quot;</text>\n",
       "</g>\n",
       "<!-- 4&#45;&#45;5 -->\n",
       "<g id=\"edge5\" class=\"edge\">\n",
       "<title>4--5</title>\n",
       "<path fill=\"none\" stroke=\"black\" d=\"M93,-287C93,-287 67.86,-267.19 48.61,-252.03\"/>\n",
       "</g>\n",
       "<!-- 6 -->\n",
       "<g id=\"node7\" class=\"node\">\n",
       "<title>6</title>\n",
       "<text text-anchor=\"middle\" x=\"101\" y=\"-230.3\" font-family=\"Courier,monospace\" font-size=\"14.00\" fill=\"#008040\">Store</text>\n",
       "</g>\n",
       "<!-- 4&#45;&#45;6 -->\n",
       "<g id=\"edge6\" class=\"edge\">\n",
       "<title>4--6</title>\n",
       "<path fill=\"none\" stroke=\"black\" d=\"M93,-287C93,-287 96.05,-267.19 98.38,-252.03\"/>\n",
       "</g>\n",
       "<!-- 8 -->\n",
       "<g id=\"node9\" class=\"node\">\n",
       "<title>8</title>\n",
       "<text text-anchor=\"middle\" x=\"175\" y=\"-230.3\" font-family=\"Courier,monospace\" font-size=\"14.00\" fill=\"#008040\">True</text>\n",
       "</g>\n",
       "<!-- 7&#45;&#45;8 -->\n",
       "<g id=\"edge8\" class=\"edge\">\n",
       "<title>7--8</title>\n",
       "<path fill=\"none\" stroke=\"black\" d=\"M202.1,-287.7C196.52,-276.85 189.36,-262.92 183.8,-252.1\"/>\n",
       "</g>\n",
       "<!-- 10 -->\n",
       "<g id=\"node11\" class=\"node\">\n",
       "<title>10</title>\n",
       "<text text-anchor=\"start\" x=\"304\" y=\"-303.3\" font-family=\"Courier,monospace\" font-weight=\"bold\" font-size=\"14.00\" fill=\"#004080\">Name</text>\n",
       "</g>\n",
       "<!-- 9&#45;&#45;10 -->\n",
       "<g id=\"edge10\" class=\"edge\">\n",
       "<title>9--10</title>\n",
       "<path fill=\"none\" stroke=\"black\" d=\"M433,-359C433,-359 381.26,-334.98 348.11,-319.59\"/>\n",
       "</g>\n",
       "<!-- 13 -->\n",
       "<g id=\"node14\" class=\"node\">\n",
       "<title>13</title>\n",
       "<text text-anchor=\"start\" x=\"414\" y=\"-303.3\" font-family=\"Courier,monospace\" font-weight=\"bold\" font-size=\"14.00\" fill=\"#004080\">UnaryOp</text>\n",
       "</g>\n",
       "<!-- 9&#45;&#45;13 -->\n",
       "<g id=\"edge13\" class=\"edge\">\n",
       "<title>9--13</title>\n",
       "<path fill=\"none\" stroke=\"black\" d=\"M433,-359C433,-359 436.81,-339.19 439.73,-324.03\"/>\n",
       "</g>\n",
       "<!-- 11 -->\n",
       "<g id=\"node12\" class=\"node\">\n",
       "<title>11</title>\n",
       "<text text-anchor=\"middle\" x=\"247\" y=\"-230.3\" font-family=\"Courier,monospace\" font-size=\"14.00\" fill=\"#008040\">&quot;b&quot;</text>\n",
       "</g>\n",
       "<!-- 10&#45;&#45;11 -->\n",
       "<g id=\"edge11\" class=\"edge\">\n",
       "<title>10--11</title>\n",
       "<path fill=\"none\" stroke=\"black\" d=\"M313,-287C313,-287 287.86,-267.19 268.61,-252.03\"/>\n",
       "</g>\n",
       "<!-- 12 -->\n",
       "<g id=\"node13\" class=\"node\">\n",
       "<title>12</title>\n",
       "<text text-anchor=\"middle\" x=\"321\" y=\"-230.3\" font-family=\"Courier,monospace\" font-size=\"14.00\" fill=\"#008040\">Store</text>\n",
       "</g>\n",
       "<!-- 10&#45;&#45;12 -->\n",
       "<g id=\"edge12\" class=\"edge\">\n",
       "<title>10--12</title>\n",
       "<path fill=\"none\" stroke=\"black\" d=\"M313,-287C313,-287 316.05,-267.19 318.38,-252.03\"/>\n",
       "</g>\n",
       "<!-- 14 -->\n",
       "<g id=\"node15\" class=\"node\">\n",
       "<title>14</title>\n",
       "<text text-anchor=\"middle\" x=\"395\" y=\"-230.3\" font-family=\"Courier,monospace\" font-size=\"14.00\" fill=\"#008040\">Not</text>\n",
       "</g>\n",
       "<!-- 13&#45;&#45;14 -->\n",
       "<g id=\"edge14\" class=\"edge\">\n",
       "<title>13--14</title>\n",
       "<path fill=\"none\" stroke=\"black\" d=\"M442,-287C442,-287 424.1,-267.19 410.39,-252.03\"/>\n",
       "</g>\n",
       "<!-- 15 -->\n",
       "<g id=\"node16\" class=\"node\">\n",
       "<title>15</title>\n",
       "<text text-anchor=\"start\" x=\"448.5\" y=\"-231.3\" font-family=\"Courier,monospace\" font-weight=\"bold\" font-size=\"14.00\" fill=\"#004080\">Constant</text>\n",
       "</g>\n",
       "<!-- 13&#45;&#45;15 -->\n",
       "<g id=\"edge15\" class=\"edge\">\n",
       "<title>13--15</title>\n",
       "<path fill=\"none\" stroke=\"black\" d=\"M442,-287C442,-287 457.24,-267.19 468.9,-252.03\"/>\n",
       "</g>\n",
       "<!-- 16 -->\n",
       "<g id=\"node17\" class=\"node\">\n",
       "<title>16</title>\n",
       "<text text-anchor=\"middle\" x=\"482\" y=\"-158.3\" font-family=\"Courier,monospace\" font-size=\"14.00\" fill=\"#008040\">False</text>\n",
       "</g>\n",
       "<!-- 15&#45;&#45;16 -->\n",
       "<g id=\"edge16\" class=\"edge\">\n",
       "<title>15--16</title>\n",
       "<path fill=\"none\" stroke=\"black\" d=\"M482,-215.7C482,-204.85 482,-190.92 482,-180.1\"/>\n",
       "</g>\n",
       "<!-- 18 -->\n",
       "<g id=\"node19\" class=\"node\">\n",
       "<title>18</title>\n",
       "<text text-anchor=\"start\" x=\"582\" y=\"-303.3\" font-family=\"Courier,monospace\" font-weight=\"bold\" font-size=\"14.00\" fill=\"#004080\">Name</text>\n",
       "</g>\n",
       "<!-- 17&#45;&#45;18 -->\n",
       "<g id=\"edge18\" class=\"edge\">\n",
       "<title>17--18</title>\n",
       "<path fill=\"none\" stroke=\"black\" d=\"M609,-359C609,-359 605.19,-339.19 602.27,-324.03\"/>\n",
       "</g>\n",
       "<!-- 21 -->\n",
       "<g id=\"node22\" class=\"node\">\n",
       "<title>21</title>\n",
       "<text text-anchor=\"start\" x=\"668.5\" y=\"-303.3\" font-family=\"Courier,monospace\" font-weight=\"bold\" font-size=\"14.00\" fill=\"#004080\">Constant</text>\n",
       "</g>\n",
       "<!-- 17&#45;&#45;21 -->\n",
       "<g id=\"edge21\" class=\"edge\">\n",
       "<title>17--21</title>\n",
       "<path fill=\"none\" stroke=\"black\" d=\"M609,-359C609,-359 644.43,-339.19 671.55,-324.03\"/>\n",
       "</g>\n",
       "<!-- 19 -->\n",
       "<g id=\"node20\" class=\"node\">\n",
       "<title>19</title>\n",
       "<text text-anchor=\"middle\" x=\"569\" y=\"-230.3\" font-family=\"Courier,monospace\" font-size=\"14.00\" fill=\"#008040\">&quot;c&quot;</text>\n",
       "</g>\n",
       "<!-- 18&#45;&#45;19 -->\n",
       "<g id=\"edge19\" class=\"edge\">\n",
       "<title>18--19</title>\n",
       "<path fill=\"none\" stroke=\"black\" d=\"M600,-287C600,-287 588.19,-267.19 579.15,-252.03\"/>\n",
       "</g>\n",
       "<!-- 20 -->\n",
       "<g id=\"node21\" class=\"node\">\n",
       "<title>20</title>\n",
       "<text text-anchor=\"middle\" x=\"643\" y=\"-230.3\" font-family=\"Courier,monospace\" font-size=\"14.00\" fill=\"#008040\">Store</text>\n",
       "</g>\n",
       "<!-- 18&#45;&#45;20 -->\n",
       "<g id=\"edge20\" class=\"edge\">\n",
       "<title>18--20</title>\n",
       "<path fill=\"none\" stroke=\"black\" d=\"M600,-287C600,-287 616.38,-267.19 628.92,-252.03\"/>\n",
       "</g>\n",
       "<!-- 22 -->\n",
       "<g id=\"node23\" class=\"node\">\n",
       "<title>22</title>\n",
       "<text text-anchor=\"middle\" x=\"717\" y=\"-230.3\" font-family=\"Courier,monospace\" font-size=\"14.00\" fill=\"#008040\">30</text>\n",
       "</g>\n",
       "<!-- 21&#45;&#45;22 -->\n",
       "<g id=\"edge22\" class=\"edge\">\n",
       "<title>21--22</title>\n",
       "<path fill=\"none\" stroke=\"black\" d=\"M705.71,-287.7C708.03,-276.85 711.02,-262.92 713.33,-252.1\"/>\n",
       "</g>\n",
       "<!-- 24 -->\n",
       "<g id=\"node25\" class=\"node\">\n",
       "<title>24</title>\n",
       "<text text-anchor=\"start\" x=\"846\" y=\"-303.3\" font-family=\"Courier,monospace\" font-weight=\"bold\" font-size=\"14.00\" fill=\"#004080\">Name</text>\n",
       "</g>\n",
       "<!-- 23&#45;&#45;24 -->\n",
       "<g id=\"edge24\" class=\"edge\">\n",
       "<title>23--24</title>\n",
       "<path fill=\"none\" stroke=\"black\" d=\"M909,-359C909,-359 891.48,-339.19 878.06,-324.03\"/>\n",
       "</g>\n",
       "<!-- 27 -->\n",
       "<g id=\"node28\" class=\"node\">\n",
       "<title>27</title>\n",
       "<text text-anchor=\"start\" x=\"920\" y=\"-303.3\" font-family=\"Courier,monospace\" font-weight=\"bold\" font-size=\"14.00\" fill=\"#004080\">Call</text>\n",
       "</g>\n",
       "<!-- 23&#45;&#45;27 -->\n",
       "<g id=\"edge27\" class=\"edge\">\n",
       "<title>23--27</title>\n",
       "<path fill=\"none\" stroke=\"black\" d=\"M909,-359C909,-359 919.67,-339.19 927.83,-324.03\"/>\n",
       "</g>\n",
       "<!-- 34 -->\n",
       "<g id=\"node35\" class=\"node\">\n",
       "<title>34</title>\n",
       "<text text-anchor=\"start\" x=\"1180.5\" y=\"-303.3\" font-family=\"Courier,monospace\" font-weight=\"bold\" font-size=\"14.00\" fill=\"#004080\">If</text>\n",
       "</g>\n",
       "<!-- 23&#45;&#45;34 -->\n",
       "<g id=\"edge34\" class=\"edge\">\n",
       "<title>23--34</title>\n",
       "<path fill=\"none\" stroke=\"black\" d=\"M909,-359C909,-359 1091.63,-325.08 1161.9,-312.03\"/>\n",
       "</g>\n",
       "<!-- 25 -->\n",
       "<g id=\"node26\" class=\"node\">\n",
       "<title>25</title>\n",
       "<text text-anchor=\"middle\" x=\"789\" y=\"-230.3\" font-family=\"Courier,monospace\" font-size=\"14.00\" fill=\"#008040\">&quot;i&quot;</text>\n",
       "</g>\n",
       "<!-- 24&#45;&#45;25 -->\n",
       "<g id=\"edge25\" class=\"edge\">\n",
       "<title>24--25</title>\n",
       "<path fill=\"none\" stroke=\"black\" d=\"M855,-287C855,-287 829.86,-267.19 810.61,-252.03\"/>\n",
       "</g>\n",
       "<!-- 26 -->\n",
       "<g id=\"node27\" class=\"node\">\n",
       "<title>26</title>\n",
       "<text text-anchor=\"middle\" x=\"863\" y=\"-230.3\" font-family=\"Courier,monospace\" font-size=\"14.00\" fill=\"#008040\">Store</text>\n",
       "</g>\n",
       "<!-- 24&#45;&#45;26 -->\n",
       "<g id=\"edge26\" class=\"edge\">\n",
       "<title>24--26</title>\n",
       "<path fill=\"none\" stroke=\"black\" d=\"M855,-287C855,-287 858.05,-267.19 860.38,-252.03\"/>\n",
       "</g>\n",
       "<!-- 28 -->\n",
       "<g id=\"node29\" class=\"node\">\n",
       "<title>28</title>\n",
       "<text text-anchor=\"start\" x=\"920\" y=\"-231.3\" font-family=\"Courier,monospace\" font-weight=\"bold\" font-size=\"14.00\" fill=\"#004080\">Name</text>\n",
       "</g>\n",
       "<!-- 27&#45;&#45;28 -->\n",
       "<g id=\"edge28\" class=\"edge\">\n",
       "<title>27--28</title>\n",
       "<path fill=\"none\" stroke=\"black\" d=\"M945,-287C945,-287 941.95,-267.19 939.62,-252.03\"/>\n",
       "</g>\n",
       "<!-- 31 -->\n",
       "<g id=\"node32\" class=\"node\">\n",
       "<title>31</title>\n",
       "<text text-anchor=\"start\" x=\"992\" y=\"-231.3\" font-family=\"Courier,monospace\" font-weight=\"bold\" font-size=\"14.00\" fill=\"#004080\">Name</text>\n",
       "</g>\n",
       "<!-- 27&#45;&#45;31 -->\n",
       "<g id=\"edge31\" class=\"edge\">\n",
       "<title>27--31</title>\n",
       "<path fill=\"none\" stroke=\"black\" d=\"M945,-287C945,-287 969.38,-267.19 988.04,-252.03\"/>\n",
       "</g>\n",
       "<!-- 29 -->\n",
       "<g id=\"node30\" class=\"node\">\n",
       "<title>29</title>\n",
       "<text text-anchor=\"middle\" x=\"819\" y=\"-158.3\" font-family=\"Courier,monospace\" font-size=\"14.00\" fill=\"#008040\">&quot;range&quot;</text>\n",
       "</g>\n",
       "<!-- 28&#45;&#45;29 -->\n",
       "<g id=\"edge29\" class=\"edge\">\n",
       "<title>28--29</title>\n",
       "<path fill=\"none\" stroke=\"black\" d=\"M920,-215C920,-215 881.53,-195.19 852.07,-180.03\"/>\n",
       "</g>\n",
       "<!-- 30 -->\n",
       "<g id=\"node31\" class=\"node\">\n",
       "<title>30</title>\n",
       "<text text-anchor=\"middle\" x=\"901\" y=\"-158.3\" font-family=\"Courier,monospace\" font-size=\"14.00\" fill=\"#008040\">Load</text>\n",
       "</g>\n",
       "<!-- 28&#45;&#45;30 -->\n",
       "<g id=\"edge30\" class=\"edge\">\n",
       "<title>28--30</title>\n",
       "<path fill=\"none\" stroke=\"black\" d=\"M920,-215C920,-215 912.76,-195.19 907.22,-180.03\"/>\n",
       "</g>\n",
       "<!-- 32 -->\n",
       "<g id=\"node33\" class=\"node\">\n",
       "<title>32</title>\n",
       "<text text-anchor=\"middle\" x=\"973\" y=\"-158.3\" font-family=\"Courier,monospace\" font-size=\"14.00\" fill=\"#008040\">&quot;c&quot;</text>\n",
       "</g>\n",
       "<!-- 31&#45;&#45;32 -->\n",
       "<g id=\"edge32\" class=\"edge\">\n",
       "<title>31--32</title>\n",
       "<path fill=\"none\" stroke=\"black\" d=\"M1009,-215C1009,-215 995.29,-195.19 984.79,-180.03\"/>\n",
       "</g>\n",
       "<!-- 33 -->\n",
       "<g id=\"node34\" class=\"node\">\n",
       "<title>33</title>\n",
       "<text text-anchor=\"middle\" x=\"1045\" y=\"-158.3\" font-family=\"Courier,monospace\" font-size=\"14.00\" fill=\"#008040\">Load</text>\n",
       "</g>\n",
       "<!-- 31&#45;&#45;33 -->\n",
       "<g id=\"edge33\" class=\"edge\">\n",
       "<title>31--33</title>\n",
       "<path fill=\"none\" stroke=\"black\" d=\"M1009,-215C1009,-215 1022.71,-195.19 1033.21,-180.03\"/>\n",
       "</g>\n",
       "<!-- 35 -->\n",
       "<g id=\"node36\" class=\"node\">\n",
       "<title>35</title>\n",
       "<text text-anchor=\"start\" x=\"1160\" y=\"-231.3\" font-family=\"Courier,monospace\" font-weight=\"bold\" font-size=\"14.00\" fill=\"#004080\">Compare</text>\n",
       "</g>\n",
       "<!-- 34&#45;&#45;35 -->\n",
       "<g id=\"edge35\" class=\"edge\">\n",
       "<title>34--35</title>\n",
       "<path fill=\"none\" stroke=\"black\" d=\"M1200,-287C1200,-287 1195.81,-267.19 1192.6,-252.03\"/>\n",
       "</g>\n",
       "<!-- 42 -->\n",
       "<g id=\"node43\" class=\"node\">\n",
       "<title>42</title>\n",
       "<text text-anchor=\"start\" x=\"1319.5\" y=\"-231.3\" font-family=\"Courier,monospace\" font-weight=\"bold\" font-size=\"14.00\" fill=\"#004080\">If</text>\n",
       "</g>\n",
       "<!-- 34&#45;&#45;42 -->\n",
       "<g id=\"edge42\" class=\"edge\">\n",
       "<title>34--42</title>\n",
       "<path fill=\"none\" stroke=\"black\" d=\"M1200,-287C1200,-287 1263.28,-261.29 1300.85,-246.03\"/>\n",
       "</g>\n",
       "<!-- 36 -->\n",
       "<g id=\"node37\" class=\"node\">\n",
       "<title>36</title>\n",
       "<text text-anchor=\"start\" x=\"1100\" y=\"-159.3\" font-family=\"Courier,monospace\" font-weight=\"bold\" font-size=\"14.00\" fill=\"#004080\">Name</text>\n",
       "</g>\n",
       "<!-- 35&#45;&#45;36 -->\n",
       "<g id=\"edge36\" class=\"edge\">\n",
       "<title>35--36</title>\n",
       "<path fill=\"none\" stroke=\"black\" d=\"M1189,-215C1189,-215 1161.57,-195.19 1140.58,-180.03\"/>\n",
       "</g>\n",
       "<!-- 39 -->\n",
       "<g id=\"node40\" class=\"node\">\n",
       "<title>39</title>\n",
       "<text text-anchor=\"middle\" x=\"1189\" y=\"-158.3\" font-family=\"Courier,monospace\" font-size=\"14.00\" fill=\"#008040\">Eq</text>\n",
       "</g>\n",
       "<!-- 35&#45;&#45;39 -->\n",
       "<g id=\"edge39\" class=\"edge\">\n",
       "<title>35--39</title>\n",
       "<path fill=\"none\" stroke=\"black\" d=\"M1189,-215C1189,-215 1189,-195.19 1189,-180.03\"/>\n",
       "</g>\n",
       "<!-- 40 -->\n",
       "<g id=\"node41\" class=\"node\">\n",
       "<title>40</title>\n",
       "<text text-anchor=\"start\" x=\"1242.5\" y=\"-159.3\" font-family=\"Courier,monospace\" font-weight=\"bold\" font-size=\"14.00\" fill=\"#004080\">Constant</text>\n",
       "</g>\n",
       "<!-- 35&#45;&#45;40 -->\n",
       "<g id=\"edge40\" class=\"edge\">\n",
       "<title>35--40</title>\n",
       "<path fill=\"none\" stroke=\"black\" d=\"M1189,-215C1189,-215 1222.14,-195.19 1247.51,-180.03\"/>\n",
       "</g>\n",
       "<!-- 37 -->\n",
       "<g id=\"node38\" class=\"node\">\n",
       "<title>37</title>\n",
       "<text text-anchor=\"middle\" x=\"1063\" y=\"-86.3\" font-family=\"Courier,monospace\" font-size=\"14.00\" fill=\"#008040\">&quot;i&quot;</text>\n",
       "</g>\n",
       "<!-- 36&#45;&#45;37 -->\n",
       "<g id=\"edge37\" class=\"edge\">\n",
       "<title>36--37</title>\n",
       "<path fill=\"none\" stroke=\"black\" d=\"M1113,-143C1113,-143 1093.95,-123.19 1079.37,-108.03\"/>\n",
       "</g>\n",
       "<!-- 38 -->\n",
       "<g id=\"node39\" class=\"node\">\n",
       "<title>38</title>\n",
       "<text text-anchor=\"middle\" x=\"1135\" y=\"-86.3\" font-family=\"Courier,monospace\" font-size=\"14.00\" fill=\"#008040\">Load</text>\n",
       "</g>\n",
       "<!-- 36&#45;&#45;38 -->\n",
       "<g id=\"edge38\" class=\"edge\">\n",
       "<title>36--38</title>\n",
       "<path fill=\"none\" stroke=\"black\" d=\"M1113,-143C1113,-143 1121.38,-123.19 1127.8,-108.03\"/>\n",
       "</g>\n",
       "<!-- 41 -->\n",
       "<g id=\"node42\" class=\"node\">\n",
       "<title>41</title>\n",
       "<text text-anchor=\"middle\" x=\"1225\" y=\"-86.3\" font-family=\"Courier,monospace\" font-size=\"14.00\" fill=\"#008040\">15</text>\n",
       "</g>\n",
       "<!-- 40&#45;&#45;41 -->\n",
       "<g id=\"edge41\" class=\"edge\">\n",
       "<title>40--41</title>\n",
       "<path fill=\"none\" stroke=\"black\" d=\"M1263.39,-143.7C1255.49,-132.85 1245.34,-118.92 1237.46,-108.1\"/>\n",
       "</g>\n",
       "<!-- 43 -->\n",
       "<g id=\"node44\" class=\"node\">\n",
       "<title>43</title>\n",
       "<text text-anchor=\"start\" x=\"1344\" y=\"-159.3\" font-family=\"Courier,monospace\" font-weight=\"bold\" font-size=\"14.00\" fill=\"#004080\">BoolOp</text>\n",
       "</g>\n",
       "<!-- 42&#45;&#45;43 -->\n",
       "<g id=\"edge43\" class=\"edge\">\n",
       "<title>42--43</title>\n",
       "<path fill=\"none\" stroke=\"black\" d=\"M1349,-215C1349,-215 1356.62,-195.19 1362.45,-180.03\"/>\n",
       "</g>\n",
       "<!-- 51 -->\n",
       "<g id=\"node52\" class=\"node\">\n",
       "<title>51</title>\n",
       "<text text-anchor=\"start\" x=\"1480\" y=\"-159.3\" font-family=\"Courier,monospace\" font-weight=\"bold\" font-size=\"14.00\" fill=\"#004080\">Return</text>\n",
       "</g>\n",
       "<!-- 42&#45;&#45;51 -->\n",
       "<g id=\"edge51\" class=\"edge\">\n",
       "<title>42--51</title>\n",
       "<path fill=\"none\" stroke=\"black\" d=\"M1349,-215C1349,-215 1426.12,-189.29 1471.92,-174.03\"/>\n",
       "</g>\n",
       "<!-- 44 -->\n",
       "<g id=\"node45\" class=\"node\">\n",
       "<title>44</title>\n",
       "<text text-anchor=\"middle\" x=\"1297\" y=\"-86.3\" font-family=\"Courier,monospace\" font-size=\"14.00\" fill=\"#008040\">And</text>\n",
       "</g>\n",
       "<!-- 43&#45;&#45;44 -->\n",
       "<g id=\"edge44\" class=\"edge\">\n",
       "<title>43--44</title>\n",
       "<path fill=\"none\" stroke=\"black\" d=\"M1369,-143C1369,-143 1341.57,-123.19 1320.58,-108.03\"/>\n",
       "</g>\n",
       "<!-- 45 -->\n",
       "<g id=\"node46\" class=\"node\">\n",
       "<title>45</title>\n",
       "<text text-anchor=\"start\" x=\"1352\" y=\"-87.3\" font-family=\"Courier,monospace\" font-weight=\"bold\" font-size=\"14.00\" fill=\"#004080\">Name</text>\n",
       "</g>\n",
       "<!-- 43&#45;&#45;45 -->\n",
       "<g id=\"edge45\" class=\"edge\">\n",
       "<title>43--45</title>\n",
       "<path fill=\"none\" stroke=\"black\" d=\"M1369,-143C1369,-143 1369,-123.19 1369,-108.03\"/>\n",
       "</g>\n",
       "<!-- 48 -->\n",
       "<g id=\"node49\" class=\"node\">\n",
       "<title>48</title>\n",
       "<text text-anchor=\"start\" x=\"1424\" y=\"-87.3\" font-family=\"Courier,monospace\" font-weight=\"bold\" font-size=\"14.00\" fill=\"#004080\">Name</text>\n",
       "</g>\n",
       "<!-- 43&#45;&#45;48 -->\n",
       "<g id=\"edge48\" class=\"edge\">\n",
       "<title>43--48</title>\n",
       "<path fill=\"none\" stroke=\"black\" d=\"M1369,-143C1369,-143 1396.43,-123.19 1417.42,-108.03\"/>\n",
       "</g>\n",
       "<!-- 46 -->\n",
       "<g id=\"node47\" class=\"node\">\n",
       "<title>46</title>\n",
       "<text text-anchor=\"middle\" x=\"1297\" y=\"-14.3\" font-family=\"Courier,monospace\" font-size=\"14.00\" fill=\"#008040\">&quot;a&quot;</text>\n",
       "</g>\n",
       "<!-- 45&#45;&#45;46 -->\n",
       "<g id=\"edge46\" class=\"edge\">\n",
       "<title>45--46</title>\n",
       "<path fill=\"none\" stroke=\"black\" d=\"M1361,-71C1361,-71 1336.62,-51.19 1317.96,-36.03\"/>\n",
       "</g>\n",
       "<!-- 47 -->\n",
       "<g id=\"node48\" class=\"node\">\n",
       "<title>47</title>\n",
       "<text text-anchor=\"middle\" x=\"1369\" y=\"-14.3\" font-family=\"Courier,monospace\" font-size=\"14.00\" fill=\"#008040\">Load</text>\n",
       "</g>\n",
       "<!-- 45&#45;&#45;47 -->\n",
       "<g id=\"edge47\" class=\"edge\">\n",
       "<title>45--47</title>\n",
       "<path fill=\"none\" stroke=\"black\" d=\"M1361,-71C1361,-71 1364.05,-51.19 1366.38,-36.03\"/>\n",
       "</g>\n",
       "<!-- 49 -->\n",
       "<g id=\"node50\" class=\"node\">\n",
       "<title>49</title>\n",
       "<text text-anchor=\"middle\" x=\"1441\" y=\"-14.3\" font-family=\"Courier,monospace\" font-size=\"14.00\" fill=\"#008040\">&quot;b&quot;</text>\n",
       "</g>\n",
       "<!-- 48&#45;&#45;49 -->\n",
       "<g id=\"edge49\" class=\"edge\">\n",
       "<title>48--49</title>\n",
       "<path fill=\"none\" stroke=\"black\" d=\"M1449,-71C1449,-71 1445.95,-51.19 1443.62,-36.03\"/>\n",
       "</g>\n",
       "<!-- 50 -->\n",
       "<g id=\"node51\" class=\"node\">\n",
       "<title>50</title>\n",
       "<text text-anchor=\"middle\" x=\"1513\" y=\"-14.3\" font-family=\"Courier,monospace\" font-size=\"14.00\" fill=\"#008040\">Load</text>\n",
       "</g>\n",
       "<!-- 48&#45;&#45;50 -->\n",
       "<g id=\"edge50\" class=\"edge\">\n",
       "<title>48--50</title>\n",
       "<path fill=\"none\" stroke=\"black\" d=\"M1449,-71C1449,-71 1473.38,-51.19 1492.04,-36.03\"/>\n",
       "</g>\n",
       "<!-- 52 -->\n",
       "<g id=\"node53\" class=\"node\">\n",
       "<title>52</title>\n",
       "<text text-anchor=\"start\" x=\"1523.5\" y=\"-87.3\" font-family=\"Courier,monospace\" font-weight=\"bold\" font-size=\"14.00\" fill=\"#004080\">Constant</text>\n",
       "</g>\n",
       "<!-- 51&#45;&#45;52 -->\n",
       "<g id=\"edge52\" class=\"edge\">\n",
       "<title>51--52</title>\n",
       "<path fill=\"none\" stroke=\"black\" d=\"M1517.85,-143.7C1525.91,-132.85 1536.26,-118.92 1544.29,-108.1\"/>\n",
       "</g>\n",
       "<!-- 53 -->\n",
       "<g id=\"node54\" class=\"node\">\n",
       "<title>53</title>\n",
       "<text text-anchor=\"middle\" x=\"1585\" y=\"-14.3\" font-family=\"Courier,monospace\" font-size=\"14.00\" fill=\"#008040\">1</text>\n",
       "</g>\n",
       "<!-- 52&#45;&#45;53 -->\n",
       "<g id=\"edge53\" class=\"edge\">\n",
       "<title>52--53</title>\n",
       "<path fill=\"none\" stroke=\"black\" d=\"M1563.92,-71.7C1568.26,-60.85 1573.83,-46.92 1578.16,-36.1\"/>\n",
       "</g>\n",
       "<!-- 55 -->\n",
       "<g id=\"node56\" class=\"node\">\n",
       "<title>55</title>\n",
       "<text text-anchor=\"start\" x=\"1324.5\" y=\"-303.3\" font-family=\"Courier,monospace\" font-weight=\"bold\" font-size=\"14.00\" fill=\"#004080\">Constant</text>\n",
       "</g>\n",
       "<!-- 54&#45;&#45;55 -->\n",
       "<g id=\"edge55\" class=\"edge\">\n",
       "<title>54--55</title>\n",
       "<path fill=\"none\" stroke=\"black\" d=\"M1201.1,-364.81C1233.1,-353.02 1281.7,-335.11 1316.33,-322.35\"/>\n",
       "</g>\n",
       "<!-- 56 -->\n",
       "<g id=\"node57\" class=\"node\">\n",
       "<title>56</title>\n",
       "<text text-anchor=\"middle\" x=\"1400\" y=\"-230.3\" font-family=\"Courier,monospace\" font-size=\"14.00\" fill=\"#008040\">0</text>\n",
       "</g>\n",
       "<!-- 55&#45;&#45;56 -->\n",
       "<g id=\"edge56\" class=\"edge\">\n",
       "<title>55--56</title>\n",
       "<path fill=\"none\" stroke=\"black\" d=\"M1368.38,-287.7C1374.89,-276.85 1383.25,-262.92 1389.74,-252.1\"/>\n",
       "</g>\n",
       "</g>\n",
       "</svg>"
      ],
      "text/plain": [
       "<IPython.core.display.SVG object>"
      ]
     },
     "metadata": {},
     "output_type": "display_data"
    },
    {
     "name": "stdout",
     "output_type": "stream",
     "text": [
      "The number of nodes is 42\n"
     ]
    }
   ],
   "source": [
    "show_ast(ast.parse(source))\n",
    "print(f\"The number of nodes is {NodeCounter().count(source)}\")"
   ]
  },
  {
   "cell_type": "markdown",
   "metadata": {},
   "source": [
    "As you can see, the input program of `Test1` has 42 nodes."
   ]
  },
  {
   "cell_type": "markdown",
   "metadata": {},
   "source": [
    "The testing framework takes a reducer and allows to execute a single test or all tests at once."
   ]
  },
  {
   "cell_type": "code",
   "execution_count": 80,
   "metadata": {
    "pycharm": {
     "name": "#%%\n"
    }
   },
   "outputs": [],
   "source": [
    "class TestingFramework:\n",
    "    THRESHOLD = 3\n",
    "    test_cases = {\n",
    "        'test1': Test1(),\n",
    "        'test2': Test2(),\n",
    "        'test3': Test3(),\n",
    "        'test4': Test4(),\n",
    "        'test5': Test5()\n",
    "    }\n",
    "    def __init__(self, reducer):\n",
    "        self.reducer = reducer\n",
    "\n",
    "    def count_nodes(self, source):\n",
    "        if source is None:\n",
    "            return 100000\n",
    "        return NodeCounter().count(source)\n",
    "\n",
    "    def run_test(self, test):\n",
    "        \"\"\"\n",
    "        run a single test\n",
    "        \"\"\"\n",
    "        print(f'Running test {test.__class__.__name__}')\n",
    "        reducer = self.reducer(test.parser)\n",
    "        reduced_code = reducer.minimize(test.get_original())\n",
    "        return self.has_property(reduced_code, test.parser) and self.is_minimized(reduced_code, test.get_minimized())\n",
    "\n",
    "    def run_tests(self):\n",
    "        \"\"\"\n",
    "        run all public tests\n",
    "        \"\"\"\n",
    "        passed_tests = 0\n",
    "        for test in self.test_cases.values():\n",
    "            success = self.run_test(test)\n",
    "            if success:\n",
    "               passed_tests += 1\n",
    "        print(f\"In total {passed_tests} tests passed\")\n",
    "\n",
    "    def has_property(self, source, parser):\n",
    "        \"\"\"returns True if the parser fails to parse the source\"\"\"\n",
    "        try:\n",
    "            parser.parse(source)\n",
    "            print(f'HAS PROPERTY: FAIL')\n",
    "            return False\n",
    "        except ParserException:\n",
    "            print(f'HAS PROPERTY: OK')\n",
    "            return True\n",
    "        except Exception as e:\n",
    "            print(f'HAS PROPERTY: FAIL {e}')\n",
    "            return False\n",
    "    \n",
    "    def is_minimized(self, reduced, reference):\n",
    "        \"\"\"returns True if the AST of the reduced code contains no more then the number of nodes in the reference + a THRESHOLD\"\"\"\n",
    "        count_minimized = self.count_nodes(reduced)\n",
    "        count_reference = self.count_nodes(reference)\n",
    "        if count_minimized <= count_reference + self.THRESHOLD:\n",
    "            print(f'IS MINIMIZED: OK')\n",
    "            return True\n",
    "        else:\n",
    "            print(f'IS MINIMIZED: FAIL')\n",
    "            return False"
   ]
  },
  {
   "cell_type": "markdown",
   "metadata": {},
   "source": [
    "Let's test our `ReducingDebugger` with the following test:"
   ]
  },
  {
   "cell_type": "code",
   "execution_count": 81,
   "metadata": {
    "pycharm": {
     "name": "#%%\n"
    }
   },
   "outputs": [],
   "source": [
    "class Test0:\n",
    "    parser = Parser1()\n",
    "\n",
    "    def get_original(self):\n",
    "        return '''\n",
    "if a and b:\n",
    "    c = 1\n",
    "else:\n",
    "    c = 2\n",
    "'''\n",
    "\n",
    "    def get_minimized(self):\n",
    "        return '''\n",
    "a and b'''"
   ]
  },
  {
   "cell_type": "code",
   "execution_count": 82,
   "metadata": {
    "pycharm": {
     "name": "#%%\n"
    }
   },
   "outputs": [
    {
     "name": "stdout",
     "output_type": "stream",
     "text": [
      "Running test Test0\n",
      "['BODY-1', 'BOOL_FALSE-2', 'BOOL_LEFT-2', 'BOOL_RIGHT-2', 'BOOL_TRUE-2', 'DELETE-1', 'DELETE-12', 'DELETE-2', 'DELETE-8', 'IF_COND-1', 'IF_ORELSE-1']\n",
      "HAS PROPERTY: OK\n",
      "IS MINIMIZED: OK\n",
      "Success!\n"
     ]
    }
   ],
   "source": [
    "tf = TestingFramework(MyReducer)\n",
    "if tf.run_test(Test0()):\n",
    "    print(\"Success!\")"
   ]
  },
  {
   "cell_type": "markdown",
   "metadata": {},
   "source": [
    "The input program was successfully minimized."
   ]
  },
  {
   "cell_type": "markdown",
   "metadata": {},
   "source": [
    "What if we run all public tests?"
   ]
  },
  {
   "cell_type": "code",
   "execution_count": 83,
   "metadata": {
    "pycharm": {
     "name": "#%%\n"
    }
   },
   "outputs": [
    {
     "name": "stdout",
     "output_type": "stream",
     "text": [
      "Running test Test1\n",
      "['BODY-1', 'BODY-17', 'BODY-25', 'BODY-31', 'BOOL_FALSE-26', 'BOOL_FALSE-32', 'BOOL_LEFT-32', 'BOOL_RIGHT-32', 'BOOL_TRUE-26', 'BOOL_TRUE-32', 'DELETE-1', 'DELETE-13', 'DELETE-17', 'DELETE-25', 'DELETE-26', 'DELETE-3', 'DELETE-31', 'DELETE-32', 'DELETE-38', 'DELETE-40', 'DELETE-7', 'IF_COND-25', 'IF_COND-31', 'IF_ORELSE-25', 'IF_ORELSE-31', 'RETURN_NO_VAL-38', 'RETURN_NO_VAL-40', 'RETURN_VAL-38', 'RETURN_VAL-40']\n",
      "HAS PROPERTY: OK\n",
      "IS MINIMIZED: FAIL\n",
      "Running test Test2\n",
      "['BODY-1', 'BODY-17', 'BODY-25', 'BODY-31', 'BOOL_FALSE-26', 'BOOL_FALSE-32', 'BOOL_LEFT-32', 'BOOL_RIGHT-32', 'BOOL_TRUE-26', 'BOOL_TRUE-32', 'DELETE-1', 'DELETE-13', 'DELETE-17', 'DELETE-25', 'DELETE-26', 'DELETE-3', 'DELETE-31', 'DELETE-32', 'DELETE-38', 'DELETE-40', 'DELETE-7', 'IF_COND-25', 'IF_COND-31', 'IF_ORELSE-25', 'IF_ORELSE-31', 'RETURN_NO_VAL-38', 'RETURN_NO_VAL-40', 'RETURN_VAL-38', 'RETURN_VAL-40']\n",
      "HAS PROPERTY: OK\n",
      "IS MINIMIZED: FAIL\n",
      "Running test Test3\n",
      "['BODY-1', 'BODY-21', 'BODY-32', 'BOOL_FALSE-22', 'BOOL_FALSE-33', 'BOOL_TRUE-22', 'BOOL_TRUE-33', 'DELETE-1', 'DELETE-12', 'DELETE-21', 'DELETE-22', 'DELETE-28', 'DELETE-3', 'DELETE-32', 'DELETE-33', 'DELETE-39', 'DELETE-43', 'DELETE-48', 'DELETE-51', 'DELETE-7', 'IF_COND-21', 'IF_ORELSE-21', 'RETURN_NO_VAL-48', 'RETURN_NO_VAL-51', 'RETURN_VAL-48', 'RETURN_VAL-51', 'WHILE_COND-32']\n",
      "HAS PROPERTY: OK\n",
      "IS MINIMIZED: OK\n",
      "Running test Test4\n",
      "['BODY-1', 'BODY-21', 'BODY-28', 'BOOL_FALSE-22', 'BOOL_FALSE-29', 'BOOL_TRUE-22', 'BOOL_TRUE-29', 'DELETE-1', 'DELETE-12', 'DELETE-21', 'DELETE-22', 'DELETE-28', 'DELETE-29', 'DELETE-3', 'DELETE-35', 'DELETE-40', 'DELETE-43', 'DELETE-7', 'IF_COND-21', 'IF_ORELSE-21', 'RETURN_NO_VAL-40', 'RETURN_NO_VAL-43', 'RETURN_VAL-40', 'RETURN_VAL-43', 'WHILE_COND-28']\n",
      "HAS PROPERTY: OK\n",
      "IS MINIMIZED: OK\n",
      "Running test Test5\n",
      "['BODY-1', 'BODY-11', 'BODY-13', 'BOOL_FALSE-14', 'BOOL_TRUE-14', 'DELETE-1', 'DELETE-11', 'DELETE-13', 'DELETE-14', 'DELETE-20', 'DELETE-26', 'DELETE-3', 'DELETE-7', 'IF_COND-13', 'IF_ORELSE-13', 'RETURN_NO_VAL-20', 'RETURN_NO_VAL-26', 'RETURN_VAL-20', 'RETURN_VAL-26', 'WHILE_COND-11']\n",
      "HAS PROPERTY: OK\n",
      "IS MINIMIZED: OK\n",
      "In total 3 tests passed\n"
     ]
    }
   ],
   "source": [
    "tf.run_tests()"
   ]
  },
  {
   "cell_type": "markdown",
   "metadata": {},
   "source": [
    "Unfortunately, our parser failed to minimize all input programs from the public test suite."
   ]
  },
  {
   "cell_type": "markdown",
   "metadata": {},
   "source": [
    "## Grading"
   ]
  },
  {
   "cell_type": "markdown",
   "metadata": {},
   "source": [
    "For this project, you can get a total of 30 Points:\n",
    "\n",
    "* 15 Points will be awarded for passing the public test (**without hardcoding the minimized solution or the sequence of transformations**) presented in this notebook.\n",
    "These 15 points mean that you successfully implemented the must-have implementation.\n",
    "* 5 Points will be awarded for passing secret tests.\n",
    "* 10 Points will be awarded for efficient implementation (see may-have implementation)."
   ]
  },
  {
   "cell_type": "markdown",
   "metadata": {},
   "source": [
    "### Must-have Features\n",
    "\n",
    "Implement a reducer which minifies a given program so that its parser still produces an error.\n",
    "To this end, collect all possible transformations over the nodes of an AST tree and then apply one change at a time.\n",
    "These modifications should be repeated until no further updates can be made without triggering a parser exception.\n",
    "If your reducer passes secret test you are awarded additional 5 points.\n",
    "\n",
    "*Note: Implementing the given modifications should be sufficient to successfully complete this project.*"
   ]
  },
  {
   "cell_type": "markdown",
   "metadata": {},
   "source": [
    "### May-have Features\n",
    "\n",
    "An implementation only of the must-have features aims for correctness but can be inefficient (if transformations are applied one at a time). So, it can be optimized, for instance, with help of the Delta Debugging approach.\n",
    "\n",
    "Implement an AST Delta Debugger which efficiently prunes the nodes.\n",
    "If your reducer can beat the runtime of our reference implementation (which simply collects all possible transformations and applies them randomly one at a time) you can get up to 10 points (depending on the margin).\n",
    "\n",
    "Hint: The [Reducing Failure-Inducing Inputs chapter](https://www.debuggingbook.org/beta/html/DeltaDebugger.html) already tries to optimize the reduction of the AST with help of Delta Debugging.  \n",
    "Hint: For instance, you can find useful _Hierarchical Delta Debugging_ paper from the Background section of **Reducing Failure-Inducing Inputs** Chapter."
   ]
  }
 ],
 "metadata": {
  "ipub": {
   "bibliography": "fuzzingbook.bib"
  },
  "kernelspec": {
   "display_name": "PyCharm (debuggingbook-notebooks)",
   "language": "python",
   "name": "pycharm-583f12aa"
  },
  "language_info": {
   "codemirror_mode": {
    "name": "ipython",
    "version": 3
   },
   "file_extension": ".py",
   "mimetype": "text/x-python",
   "name": "python",
   "nbconvert_exporter": "python",
   "pygments_lexer": "ipython3",
   "version": "3.8.5"
  },
  "toc": {
   "base_numbering": 1,
   "nav_menu": {},
   "number_sections": true,
   "sideBar": true,
   "skip_h1_title": true,
   "title_cell": "",
   "title_sidebar": "Contents",
   "toc_cell": false,
   "toc_position": {},
   "toc_section_display": true,
   "toc_window_display": true
  },
  "toc-autonumbering": false
 },
 "nbformat": 4,
 "nbformat_minor": 4
}